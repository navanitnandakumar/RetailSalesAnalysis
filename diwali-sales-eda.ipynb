{
 "cells": [
  {
   "cell_type": "markdown",
   "id": "bf4ea2bb",
   "metadata": {
    "papermill": {
     "duration": 0.039562,
     "end_time": "2023-10-31T05:07:34.984468",
     "exception": false,
     "start_time": "2023-10-31T05:07:34.944906",
     "status": "completed"
    },
    "tags": []
   },
   "source": [
    "# Diwali Sales : Exploratory Data Analysis"
   ]
  },
  {
   "cell_type": "markdown",
   "id": "7de02edf",
   "metadata": {
    "papermill": {
     "duration": 0.038571,
     "end_time": "2023-10-31T05:07:35.064473",
     "exception": false,
     "start_time": "2023-10-31T05:07:35.025902",
     "status": "completed"
    },
    "tags": []
   },
   "source": [
    "![Diwali](https://cdn2.wanderlust.co.uk/media/1009/diwali-lamps.jpg?anchor=center&mode=crop&width=1600&height=0&format=auto&quality=90&rnd=132163880120000000)"
   ]
  },
  {
   "cell_type": "markdown",
   "id": "21d8763a",
   "metadata": {
    "papermill": {
     "duration": 0.038277,
     "end_time": "2023-10-31T05:07:35.142452",
     "exception": false,
     "start_time": "2023-10-31T05:07:35.104175",
     "status": "completed"
    },
    "tags": []
   },
   "source": [
    "## Introduction"
   ]
  },
  {
   "cell_type": "markdown",
   "id": "1f94c02e",
   "metadata": {
    "papermill": {
     "duration": 0.103209,
     "end_time": "2023-10-31T05:07:35.283532",
     "exception": false,
     "start_time": "2023-10-31T05:07:35.180323",
     "status": "completed"
    },
    "tags": []
   },
   "source": [
    "### About Dataset\n",
    "\n",
    "**Description**: This dataset contains sales data for a retail store during the Diwali festival period in India. The data includes information on the products sold, their categories, the sale prices, and the quantities sold.\n",
    "\n",
    "**Format**: CSV\n",
    "\n",
    "**Fields**:\n",
    "\n",
    "| **Field**        | **Description**                                                  |\n",
    "|------------------|------------------------------------------------------------------|\n",
    "| User_ID          | Unique identifier for each user                                  |\n",
    "| Cust_name        | Name of the customer                                             |\n",
    "| Product_ID       | Unique identifier for each product sold                          |\n",
    "| Gender           | Gender of the customer (e.g., Male, Female)                      |\n",
    "| Age Group        | Categorical age group of the customer                            |\n",
    "| Age              | Age of the customer                                              |\n",
    "| Marital_Status   | Marital status of the customer (e.g., Married, Single)           |\n",
    "| State            | Customer's state of residence in India                           |\n",
    "| Zone             | Customer's geographical zone/region in India                     |\n",
    "| Occupation       | Occupation of the customer                                       |\n",
    "| Product Category | Category of the product (e.g. electronics, clothing, home decor) |\n",
    "| Orders           | Number of units of product ordered by the customer               |\n",
    "| Amount           | Final amount spent by the customer                               |\n",
    "| Status           | (Empty Column)                                                   |\n",
    "| unnamed1         | (Empty Column)                                                   |\n",
    "\n",
    "### Aim\n",
    "The **aim** is to :-\n",
    "- perform preliminary data analysis to get a basic understanding of the data.\n",
    "- prepare and clean the data for further analysis.\n",
    "- perform exploratory data analysis and reveal insights.\n",
    "- generate beautiful and meaningful plots and visualizations.\n",
    "- list the major insights and findings."
   ]
  },
  {
   "cell_type": "markdown",
   "id": "a4bd7a72",
   "metadata": {
    "papermill": {
     "duration": 0.038399,
     "end_time": "2023-10-31T05:07:35.359898",
     "exception": false,
     "start_time": "2023-10-31T05:07:35.321499",
     "status": "completed"
    },
    "tags": []
   },
   "source": [
    "## Loading the data"
   ]
  },
  {
   "cell_type": "markdown",
   "id": "f2c52f5c",
   "metadata": {
    "papermill": {
     "duration": 0.037226,
     "end_time": "2023-10-31T05:07:35.435622",
     "exception": false,
     "start_time": "2023-10-31T05:07:35.398396",
     "status": "completed"
    },
    "tags": []
   },
   "source": [
    "Importing the required libraries"
   ]
  },
  {
   "cell_type": "code",
   "execution_count": 1,
   "id": "e25aabc5",
   "metadata": {
    "execution": {
     "iopub.execute_input": "2023-10-31T05:07:35.514756Z",
     "iopub.status.busy": "2023-10-31T05:07:35.514380Z",
     "iopub.status.idle": "2023-10-31T05:07:38.926044Z",
     "shell.execute_reply": "2023-10-31T05:07:38.924663Z"
    },
    "papermill": {
     "duration": 3.454346,
     "end_time": "2023-10-31T05:07:38.929368",
     "exception": false,
     "start_time": "2023-10-31T05:07:35.475022",
     "status": "completed"
    },
    "tags": []
   },
   "outputs": [],
   "source": [
    "import numpy as np\n",
    "import pandas as pd\n",
    "import missingno as mno\n",
    "import plotly.express as px"
   ]
  },
  {
   "cell_type": "markdown",
   "id": "77bfafde",
   "metadata": {
    "papermill": {
     "duration": 0.037604,
     "end_time": "2023-10-31T05:07:39.005168",
     "exception": false,
     "start_time": "2023-10-31T05:07:38.967564",
     "status": "completed"
    },
    "tags": []
   },
   "source": [
    "Loading the data as a pandas dataframe"
   ]
  },
  {
   "cell_type": "code",
   "execution_count": 2,
   "id": "d565705f",
   "metadata": {
    "execution": {
     "iopub.execute_input": "2023-10-31T05:07:39.082609Z",
     "iopub.status.busy": "2023-10-31T05:07:39.081554Z",
     "iopub.status.idle": "2023-10-31T05:07:39.168063Z",
     "shell.execute_reply": "2023-10-31T05:07:39.167186Z"
    },
    "papermill": {
     "duration": 0.127835,
     "end_time": "2023-10-31T05:07:39.170888",
     "exception": false,
     "start_time": "2023-10-31T05:07:39.043053",
     "status": "completed"
    },
    "tags": []
   },
   "outputs": [],
   "source": [
    "filename='/kaggle/input/diwali-sales/Diwali Sales Data.csv'\n",
    "df=pd.read_csv(filename, encoding='unicode_escape')"
   ]
  },
  {
   "cell_type": "markdown",
   "id": "ce9da90d",
   "metadata": {
    "papermill": {
     "duration": 0.03711,
     "end_time": "2023-10-31T05:07:39.245321",
     "exception": false,
     "start_time": "2023-10-31T05:07:39.208211",
     "status": "completed"
    },
    "tags": []
   },
   "source": [
    "## Preliminary data analysis"
   ]
  },
  {
   "cell_type": "code",
   "execution_count": 3,
   "id": "503896c6",
   "metadata": {
    "execution": {
     "iopub.execute_input": "2023-10-31T05:07:39.327106Z",
     "iopub.status.busy": "2023-10-31T05:07:39.326117Z",
     "iopub.status.idle": "2023-10-31T05:07:39.331919Z",
     "shell.execute_reply": "2023-10-31T05:07:39.331084Z"
    },
    "papermill": {
     "duration": 0.049294,
     "end_time": "2023-10-31T05:07:39.334350",
     "exception": false,
     "start_time": "2023-10-31T05:07:39.285056",
     "status": "completed"
    },
    "tags": []
   },
   "outputs": [],
   "source": [
    "# dataframe styling\n",
    "headers={\"selector\" : \"th:not(.index_name)\", \n",
    "           \"props\" : \"font-weight:bold; font-size:110%\"}\n",
    "\n",
    "caption={\"selector\" : \"caption\", \n",
    "           \"props\" : \"text-align:center; font-size:120%; font-weight:bold;\"}"
   ]
  },
  {
   "cell_type": "markdown",
   "id": "f7f80fbd",
   "metadata": {
    "papermill": {
     "duration": 0.03744,
     "end_time": "2023-10-31T05:07:39.409321",
     "exception": false,
     "start_time": "2023-10-31T05:07:39.371881",
     "status": "completed"
    },
    "tags": []
   },
   "source": [
    "Looking at the first 5 records"
   ]
  },
  {
   "cell_type": "code",
   "execution_count": 4,
   "id": "4ba7be0c",
   "metadata": {
    "execution": {
     "iopub.execute_input": "2023-10-31T05:07:39.486165Z",
     "iopub.status.busy": "2023-10-31T05:07:39.485371Z",
     "iopub.status.idle": "2023-10-31T05:07:39.565502Z",
     "shell.execute_reply": "2023-10-31T05:07:39.564350Z"
    },
    "papermill": {
     "duration": 0.121864,
     "end_time": "2023-10-31T05:07:39.568373",
     "exception": false,
     "start_time": "2023-10-31T05:07:39.446509",
     "status": "completed"
    },
    "tags": []
   },
   "outputs": [
    {
     "data": {
      "text/html": [
       "<style type=\"text/css\">\n",
       "#T_4bac6 th:not(.index_name) {\n",
       "  font-weight: bold;\n",
       "  font-size: 110%;\n",
       "}\n",
       "#T_4bac6 caption {\n",
       "  text-align: center;\n",
       "  font-size: 120%;\n",
       "  font-weight: bold;\n",
       "}\n",
       "#T_4bac6_row0_col0, #T_4bac6_row0_col1, #T_4bac6_row0_col2, #T_4bac6_row0_col3, #T_4bac6_row0_col4, #T_4bac6_row0_col5, #T_4bac6_row0_col6, #T_4bac6_row0_col7, #T_4bac6_row0_col8, #T_4bac6_row0_col9, #T_4bac6_row0_col10, #T_4bac6_row0_col11, #T_4bac6_row0_col12, #T_4bac6_row0_col13, #T_4bac6_row0_col14, #T_4bac6_row1_col0, #T_4bac6_row1_col1, #T_4bac6_row1_col2, #T_4bac6_row1_col3, #T_4bac6_row1_col4, #T_4bac6_row1_col5, #T_4bac6_row1_col6, #T_4bac6_row1_col7, #T_4bac6_row1_col8, #T_4bac6_row1_col9, #T_4bac6_row1_col10, #T_4bac6_row1_col11, #T_4bac6_row1_col12, #T_4bac6_row1_col13, #T_4bac6_row1_col14, #T_4bac6_row2_col0, #T_4bac6_row2_col1, #T_4bac6_row2_col2, #T_4bac6_row2_col3, #T_4bac6_row2_col4, #T_4bac6_row2_col5, #T_4bac6_row2_col6, #T_4bac6_row2_col7, #T_4bac6_row2_col8, #T_4bac6_row2_col9, #T_4bac6_row2_col10, #T_4bac6_row2_col11, #T_4bac6_row2_col12, #T_4bac6_row2_col13, #T_4bac6_row2_col14, #T_4bac6_row3_col0, #T_4bac6_row3_col1, #T_4bac6_row3_col2, #T_4bac6_row3_col3, #T_4bac6_row3_col4, #T_4bac6_row3_col5, #T_4bac6_row3_col6, #T_4bac6_row3_col7, #T_4bac6_row3_col8, #T_4bac6_row3_col9, #T_4bac6_row3_col10, #T_4bac6_row3_col11, #T_4bac6_row3_col12, #T_4bac6_row3_col13, #T_4bac6_row3_col14, #T_4bac6_row4_col0, #T_4bac6_row4_col1, #T_4bac6_row4_col2, #T_4bac6_row4_col3, #T_4bac6_row4_col4, #T_4bac6_row4_col5, #T_4bac6_row4_col6, #T_4bac6_row4_col7, #T_4bac6_row4_col8, #T_4bac6_row4_col9, #T_4bac6_row4_col10, #T_4bac6_row4_col11, #T_4bac6_row4_col12, #T_4bac6_row4_col13, #T_4bac6_row4_col14 {\n",
       "  border: 1px solid;\n",
       "}\n",
       "</style>\n",
       "<table id=\"T_4bac6\">\n",
       "  <caption>First 5 records</caption>\n",
       "  <thead>\n",
       "    <tr>\n",
       "      <th class=\"blank level0\" >&nbsp;</th>\n",
       "      <th id=\"T_4bac6_level0_col0\" class=\"col_heading level0 col0\" >User_ID</th>\n",
       "      <th id=\"T_4bac6_level0_col1\" class=\"col_heading level0 col1\" >Cust_name</th>\n",
       "      <th id=\"T_4bac6_level0_col2\" class=\"col_heading level0 col2\" >Product_ID</th>\n",
       "      <th id=\"T_4bac6_level0_col3\" class=\"col_heading level0 col3\" >Gender</th>\n",
       "      <th id=\"T_4bac6_level0_col4\" class=\"col_heading level0 col4\" >Age Group</th>\n",
       "      <th id=\"T_4bac6_level0_col5\" class=\"col_heading level0 col5\" >Age</th>\n",
       "      <th id=\"T_4bac6_level0_col6\" class=\"col_heading level0 col6\" >Marital_Status</th>\n",
       "      <th id=\"T_4bac6_level0_col7\" class=\"col_heading level0 col7\" >State</th>\n",
       "      <th id=\"T_4bac6_level0_col8\" class=\"col_heading level0 col8\" >Zone</th>\n",
       "      <th id=\"T_4bac6_level0_col9\" class=\"col_heading level0 col9\" >Occupation</th>\n",
       "      <th id=\"T_4bac6_level0_col10\" class=\"col_heading level0 col10\" >Product_Category</th>\n",
       "      <th id=\"T_4bac6_level0_col11\" class=\"col_heading level0 col11\" >Orders</th>\n",
       "      <th id=\"T_4bac6_level0_col12\" class=\"col_heading level0 col12\" >Amount</th>\n",
       "      <th id=\"T_4bac6_level0_col13\" class=\"col_heading level0 col13\" >Status</th>\n",
       "      <th id=\"T_4bac6_level0_col14\" class=\"col_heading level0 col14\" >unnamed1</th>\n",
       "    </tr>\n",
       "  </thead>\n",
       "  <tbody>\n",
       "    <tr>\n",
       "      <th id=\"T_4bac6_level0_row0\" class=\"row_heading level0 row0\" >0</th>\n",
       "      <td id=\"T_4bac6_row0_col0\" class=\"data row0 col0\" >1002903</td>\n",
       "      <td id=\"T_4bac6_row0_col1\" class=\"data row0 col1\" >Sanskriti</td>\n",
       "      <td id=\"T_4bac6_row0_col2\" class=\"data row0 col2\" >P00125942</td>\n",
       "      <td id=\"T_4bac6_row0_col3\" class=\"data row0 col3\" >F</td>\n",
       "      <td id=\"T_4bac6_row0_col4\" class=\"data row0 col4\" >26-35</td>\n",
       "      <td id=\"T_4bac6_row0_col5\" class=\"data row0 col5\" >28</td>\n",
       "      <td id=\"T_4bac6_row0_col6\" class=\"data row0 col6\" >0</td>\n",
       "      <td id=\"T_4bac6_row0_col7\" class=\"data row0 col7\" >Maharashtra</td>\n",
       "      <td id=\"T_4bac6_row0_col8\" class=\"data row0 col8\" >Western</td>\n",
       "      <td id=\"T_4bac6_row0_col9\" class=\"data row0 col9\" >Healthcare</td>\n",
       "      <td id=\"T_4bac6_row0_col10\" class=\"data row0 col10\" >Auto</td>\n",
       "      <td id=\"T_4bac6_row0_col11\" class=\"data row0 col11\" >1</td>\n",
       "      <td id=\"T_4bac6_row0_col12\" class=\"data row0 col12\" >23952.000000</td>\n",
       "      <td id=\"T_4bac6_row0_col13\" class=\"data row0 col13\" >nan</td>\n",
       "      <td id=\"T_4bac6_row0_col14\" class=\"data row0 col14\" >nan</td>\n",
       "    </tr>\n",
       "    <tr>\n",
       "      <th id=\"T_4bac6_level0_row1\" class=\"row_heading level0 row1\" >1</th>\n",
       "      <td id=\"T_4bac6_row1_col0\" class=\"data row1 col0\" >1000732</td>\n",
       "      <td id=\"T_4bac6_row1_col1\" class=\"data row1 col1\" >Kartik</td>\n",
       "      <td id=\"T_4bac6_row1_col2\" class=\"data row1 col2\" >P00110942</td>\n",
       "      <td id=\"T_4bac6_row1_col3\" class=\"data row1 col3\" >F</td>\n",
       "      <td id=\"T_4bac6_row1_col4\" class=\"data row1 col4\" >26-35</td>\n",
       "      <td id=\"T_4bac6_row1_col5\" class=\"data row1 col5\" >35</td>\n",
       "      <td id=\"T_4bac6_row1_col6\" class=\"data row1 col6\" >1</td>\n",
       "      <td id=\"T_4bac6_row1_col7\" class=\"data row1 col7\" >Andhra Pradesh</td>\n",
       "      <td id=\"T_4bac6_row1_col8\" class=\"data row1 col8\" >Southern</td>\n",
       "      <td id=\"T_4bac6_row1_col9\" class=\"data row1 col9\" >Govt</td>\n",
       "      <td id=\"T_4bac6_row1_col10\" class=\"data row1 col10\" >Auto</td>\n",
       "      <td id=\"T_4bac6_row1_col11\" class=\"data row1 col11\" >3</td>\n",
       "      <td id=\"T_4bac6_row1_col12\" class=\"data row1 col12\" >23934.000000</td>\n",
       "      <td id=\"T_4bac6_row1_col13\" class=\"data row1 col13\" >nan</td>\n",
       "      <td id=\"T_4bac6_row1_col14\" class=\"data row1 col14\" >nan</td>\n",
       "    </tr>\n",
       "    <tr>\n",
       "      <th id=\"T_4bac6_level0_row2\" class=\"row_heading level0 row2\" >2</th>\n",
       "      <td id=\"T_4bac6_row2_col0\" class=\"data row2 col0\" >1001990</td>\n",
       "      <td id=\"T_4bac6_row2_col1\" class=\"data row2 col1\" >Bindu</td>\n",
       "      <td id=\"T_4bac6_row2_col2\" class=\"data row2 col2\" >P00118542</td>\n",
       "      <td id=\"T_4bac6_row2_col3\" class=\"data row2 col3\" >F</td>\n",
       "      <td id=\"T_4bac6_row2_col4\" class=\"data row2 col4\" >26-35</td>\n",
       "      <td id=\"T_4bac6_row2_col5\" class=\"data row2 col5\" >35</td>\n",
       "      <td id=\"T_4bac6_row2_col6\" class=\"data row2 col6\" >1</td>\n",
       "      <td id=\"T_4bac6_row2_col7\" class=\"data row2 col7\" >Uttar Pradesh</td>\n",
       "      <td id=\"T_4bac6_row2_col8\" class=\"data row2 col8\" >Central</td>\n",
       "      <td id=\"T_4bac6_row2_col9\" class=\"data row2 col9\" >Automobile</td>\n",
       "      <td id=\"T_4bac6_row2_col10\" class=\"data row2 col10\" >Auto</td>\n",
       "      <td id=\"T_4bac6_row2_col11\" class=\"data row2 col11\" >3</td>\n",
       "      <td id=\"T_4bac6_row2_col12\" class=\"data row2 col12\" >23924.000000</td>\n",
       "      <td id=\"T_4bac6_row2_col13\" class=\"data row2 col13\" >nan</td>\n",
       "      <td id=\"T_4bac6_row2_col14\" class=\"data row2 col14\" >nan</td>\n",
       "    </tr>\n",
       "    <tr>\n",
       "      <th id=\"T_4bac6_level0_row3\" class=\"row_heading level0 row3\" >3</th>\n",
       "      <td id=\"T_4bac6_row3_col0\" class=\"data row3 col0\" >1001425</td>\n",
       "      <td id=\"T_4bac6_row3_col1\" class=\"data row3 col1\" >Sudevi</td>\n",
       "      <td id=\"T_4bac6_row3_col2\" class=\"data row3 col2\" >P00237842</td>\n",
       "      <td id=\"T_4bac6_row3_col3\" class=\"data row3 col3\" >M</td>\n",
       "      <td id=\"T_4bac6_row3_col4\" class=\"data row3 col4\" >0-17</td>\n",
       "      <td id=\"T_4bac6_row3_col5\" class=\"data row3 col5\" >16</td>\n",
       "      <td id=\"T_4bac6_row3_col6\" class=\"data row3 col6\" >0</td>\n",
       "      <td id=\"T_4bac6_row3_col7\" class=\"data row3 col7\" >Karnataka</td>\n",
       "      <td id=\"T_4bac6_row3_col8\" class=\"data row3 col8\" >Southern</td>\n",
       "      <td id=\"T_4bac6_row3_col9\" class=\"data row3 col9\" >Construction</td>\n",
       "      <td id=\"T_4bac6_row3_col10\" class=\"data row3 col10\" >Auto</td>\n",
       "      <td id=\"T_4bac6_row3_col11\" class=\"data row3 col11\" >2</td>\n",
       "      <td id=\"T_4bac6_row3_col12\" class=\"data row3 col12\" >23912.000000</td>\n",
       "      <td id=\"T_4bac6_row3_col13\" class=\"data row3 col13\" >nan</td>\n",
       "      <td id=\"T_4bac6_row3_col14\" class=\"data row3 col14\" >nan</td>\n",
       "    </tr>\n",
       "    <tr>\n",
       "      <th id=\"T_4bac6_level0_row4\" class=\"row_heading level0 row4\" >4</th>\n",
       "      <td id=\"T_4bac6_row4_col0\" class=\"data row4 col0\" >1000588</td>\n",
       "      <td id=\"T_4bac6_row4_col1\" class=\"data row4 col1\" >Joni</td>\n",
       "      <td id=\"T_4bac6_row4_col2\" class=\"data row4 col2\" >P00057942</td>\n",
       "      <td id=\"T_4bac6_row4_col3\" class=\"data row4 col3\" >M</td>\n",
       "      <td id=\"T_4bac6_row4_col4\" class=\"data row4 col4\" >26-35</td>\n",
       "      <td id=\"T_4bac6_row4_col5\" class=\"data row4 col5\" >28</td>\n",
       "      <td id=\"T_4bac6_row4_col6\" class=\"data row4 col6\" >1</td>\n",
       "      <td id=\"T_4bac6_row4_col7\" class=\"data row4 col7\" >Gujarat</td>\n",
       "      <td id=\"T_4bac6_row4_col8\" class=\"data row4 col8\" >Western</td>\n",
       "      <td id=\"T_4bac6_row4_col9\" class=\"data row4 col9\" >Food Processing</td>\n",
       "      <td id=\"T_4bac6_row4_col10\" class=\"data row4 col10\" >Auto</td>\n",
       "      <td id=\"T_4bac6_row4_col11\" class=\"data row4 col11\" >2</td>\n",
       "      <td id=\"T_4bac6_row4_col12\" class=\"data row4 col12\" >23877.000000</td>\n",
       "      <td id=\"T_4bac6_row4_col13\" class=\"data row4 col13\" >nan</td>\n",
       "      <td id=\"T_4bac6_row4_col14\" class=\"data row4 col14\" >nan</td>\n",
       "    </tr>\n",
       "  </tbody>\n",
       "</table>\n"
      ],
      "text/plain": [
       "<pandas.io.formats.style.Styler at 0x789af553dcc0>"
      ]
     },
     "execution_count": 4,
     "metadata": {},
     "output_type": "execute_result"
    }
   ],
   "source": [
    "df.head(5).style.set_caption(\"First 5 records\").set_properties(**{\"border\" : \"1px solid\"}).set_table_styles([headers, caption])"
   ]
  },
  {
   "cell_type": "markdown",
   "id": "42d8b95b",
   "metadata": {
    "papermill": {
     "duration": 0.038021,
     "end_time": "2023-10-31T05:07:39.644738",
     "exception": false,
     "start_time": "2023-10-31T05:07:39.606717",
     "status": "completed"
    },
    "tags": []
   },
   "source": [
    "Looking at the last 5 records"
   ]
  },
  {
   "cell_type": "code",
   "execution_count": 5,
   "id": "fec2f8e6",
   "metadata": {
    "execution": {
     "iopub.execute_input": "2023-10-31T05:07:39.722628Z",
     "iopub.status.busy": "2023-10-31T05:07:39.722190Z",
     "iopub.status.idle": "2023-10-31T05:07:39.741070Z",
     "shell.execute_reply": "2023-10-31T05:07:39.740226Z"
    },
    "papermill": {
     "duration": 0.060434,
     "end_time": "2023-10-31T05:07:39.743449",
     "exception": false,
     "start_time": "2023-10-31T05:07:39.683015",
     "status": "completed"
    },
    "tags": []
   },
   "outputs": [
    {
     "data": {
      "text/html": [
       "<style type=\"text/css\">\n",
       "#T_41afa th:not(.index_name) {\n",
       "  font-weight: bold;\n",
       "  font-size: 110%;\n",
       "}\n",
       "#T_41afa caption {\n",
       "  text-align: center;\n",
       "  font-size: 120%;\n",
       "  font-weight: bold;\n",
       "}\n",
       "#T_41afa_row0_col0, #T_41afa_row0_col1, #T_41afa_row0_col2, #T_41afa_row0_col3, #T_41afa_row0_col4, #T_41afa_row0_col5, #T_41afa_row0_col6, #T_41afa_row0_col7, #T_41afa_row0_col8, #T_41afa_row0_col9, #T_41afa_row0_col10, #T_41afa_row0_col11, #T_41afa_row0_col12, #T_41afa_row0_col13, #T_41afa_row0_col14, #T_41afa_row1_col0, #T_41afa_row1_col1, #T_41afa_row1_col2, #T_41afa_row1_col3, #T_41afa_row1_col4, #T_41afa_row1_col5, #T_41afa_row1_col6, #T_41afa_row1_col7, #T_41afa_row1_col8, #T_41afa_row1_col9, #T_41afa_row1_col10, #T_41afa_row1_col11, #T_41afa_row1_col12, #T_41afa_row1_col13, #T_41afa_row1_col14, #T_41afa_row2_col0, #T_41afa_row2_col1, #T_41afa_row2_col2, #T_41afa_row2_col3, #T_41afa_row2_col4, #T_41afa_row2_col5, #T_41afa_row2_col6, #T_41afa_row2_col7, #T_41afa_row2_col8, #T_41afa_row2_col9, #T_41afa_row2_col10, #T_41afa_row2_col11, #T_41afa_row2_col12, #T_41afa_row2_col13, #T_41afa_row2_col14, #T_41afa_row3_col0, #T_41afa_row3_col1, #T_41afa_row3_col2, #T_41afa_row3_col3, #T_41afa_row3_col4, #T_41afa_row3_col5, #T_41afa_row3_col6, #T_41afa_row3_col7, #T_41afa_row3_col8, #T_41afa_row3_col9, #T_41afa_row3_col10, #T_41afa_row3_col11, #T_41afa_row3_col12, #T_41afa_row3_col13, #T_41afa_row3_col14, #T_41afa_row4_col0, #T_41afa_row4_col1, #T_41afa_row4_col2, #T_41afa_row4_col3, #T_41afa_row4_col4, #T_41afa_row4_col5, #T_41afa_row4_col6, #T_41afa_row4_col7, #T_41afa_row4_col8, #T_41afa_row4_col9, #T_41afa_row4_col10, #T_41afa_row4_col11, #T_41afa_row4_col12, #T_41afa_row4_col13, #T_41afa_row4_col14 {\n",
       "  border: 1px solid;\n",
       "}\n",
       "</style>\n",
       "<table id=\"T_41afa\">\n",
       "  <caption>Last 5 records</caption>\n",
       "  <thead>\n",
       "    <tr>\n",
       "      <th class=\"blank level0\" >&nbsp;</th>\n",
       "      <th id=\"T_41afa_level0_col0\" class=\"col_heading level0 col0\" >User_ID</th>\n",
       "      <th id=\"T_41afa_level0_col1\" class=\"col_heading level0 col1\" >Cust_name</th>\n",
       "      <th id=\"T_41afa_level0_col2\" class=\"col_heading level0 col2\" >Product_ID</th>\n",
       "      <th id=\"T_41afa_level0_col3\" class=\"col_heading level0 col3\" >Gender</th>\n",
       "      <th id=\"T_41afa_level0_col4\" class=\"col_heading level0 col4\" >Age Group</th>\n",
       "      <th id=\"T_41afa_level0_col5\" class=\"col_heading level0 col5\" >Age</th>\n",
       "      <th id=\"T_41afa_level0_col6\" class=\"col_heading level0 col6\" >Marital_Status</th>\n",
       "      <th id=\"T_41afa_level0_col7\" class=\"col_heading level0 col7\" >State</th>\n",
       "      <th id=\"T_41afa_level0_col8\" class=\"col_heading level0 col8\" >Zone</th>\n",
       "      <th id=\"T_41afa_level0_col9\" class=\"col_heading level0 col9\" >Occupation</th>\n",
       "      <th id=\"T_41afa_level0_col10\" class=\"col_heading level0 col10\" >Product_Category</th>\n",
       "      <th id=\"T_41afa_level0_col11\" class=\"col_heading level0 col11\" >Orders</th>\n",
       "      <th id=\"T_41afa_level0_col12\" class=\"col_heading level0 col12\" >Amount</th>\n",
       "      <th id=\"T_41afa_level0_col13\" class=\"col_heading level0 col13\" >Status</th>\n",
       "      <th id=\"T_41afa_level0_col14\" class=\"col_heading level0 col14\" >unnamed1</th>\n",
       "    </tr>\n",
       "  </thead>\n",
       "  <tbody>\n",
       "    <tr>\n",
       "      <th id=\"T_41afa_level0_row0\" class=\"row_heading level0 row0\" >11246</th>\n",
       "      <td id=\"T_41afa_row0_col0\" class=\"data row0 col0\" >1000695</td>\n",
       "      <td id=\"T_41afa_row0_col1\" class=\"data row0 col1\" >Manning</td>\n",
       "      <td id=\"T_41afa_row0_col2\" class=\"data row0 col2\" >P00296942</td>\n",
       "      <td id=\"T_41afa_row0_col3\" class=\"data row0 col3\" >M</td>\n",
       "      <td id=\"T_41afa_row0_col4\" class=\"data row0 col4\" >18-25</td>\n",
       "      <td id=\"T_41afa_row0_col5\" class=\"data row0 col5\" >19</td>\n",
       "      <td id=\"T_41afa_row0_col6\" class=\"data row0 col6\" >1</td>\n",
       "      <td id=\"T_41afa_row0_col7\" class=\"data row0 col7\" >Maharashtra</td>\n",
       "      <td id=\"T_41afa_row0_col8\" class=\"data row0 col8\" >Western</td>\n",
       "      <td id=\"T_41afa_row0_col9\" class=\"data row0 col9\" >Chemical</td>\n",
       "      <td id=\"T_41afa_row0_col10\" class=\"data row0 col10\" >Office</td>\n",
       "      <td id=\"T_41afa_row0_col11\" class=\"data row0 col11\" >4</td>\n",
       "      <td id=\"T_41afa_row0_col12\" class=\"data row0 col12\" >370.000000</td>\n",
       "      <td id=\"T_41afa_row0_col13\" class=\"data row0 col13\" >nan</td>\n",
       "      <td id=\"T_41afa_row0_col14\" class=\"data row0 col14\" >nan</td>\n",
       "    </tr>\n",
       "    <tr>\n",
       "      <th id=\"T_41afa_level0_row1\" class=\"row_heading level0 row1\" >11247</th>\n",
       "      <td id=\"T_41afa_row1_col0\" class=\"data row1 col0\" >1004089</td>\n",
       "      <td id=\"T_41afa_row1_col1\" class=\"data row1 col1\" >Reichenbach</td>\n",
       "      <td id=\"T_41afa_row1_col2\" class=\"data row1 col2\" >P00171342</td>\n",
       "      <td id=\"T_41afa_row1_col3\" class=\"data row1 col3\" >M</td>\n",
       "      <td id=\"T_41afa_row1_col4\" class=\"data row1 col4\" >26-35</td>\n",
       "      <td id=\"T_41afa_row1_col5\" class=\"data row1 col5\" >33</td>\n",
       "      <td id=\"T_41afa_row1_col6\" class=\"data row1 col6\" >0</td>\n",
       "      <td id=\"T_41afa_row1_col7\" class=\"data row1 col7\" >Haryana</td>\n",
       "      <td id=\"T_41afa_row1_col8\" class=\"data row1 col8\" >Northern</td>\n",
       "      <td id=\"T_41afa_row1_col9\" class=\"data row1 col9\" >Healthcare</td>\n",
       "      <td id=\"T_41afa_row1_col10\" class=\"data row1 col10\" >Veterinary</td>\n",
       "      <td id=\"T_41afa_row1_col11\" class=\"data row1 col11\" >3</td>\n",
       "      <td id=\"T_41afa_row1_col12\" class=\"data row1 col12\" >367.000000</td>\n",
       "      <td id=\"T_41afa_row1_col13\" class=\"data row1 col13\" >nan</td>\n",
       "      <td id=\"T_41afa_row1_col14\" class=\"data row1 col14\" >nan</td>\n",
       "    </tr>\n",
       "    <tr>\n",
       "      <th id=\"T_41afa_level0_row2\" class=\"row_heading level0 row2\" >11248</th>\n",
       "      <td id=\"T_41afa_row2_col0\" class=\"data row2 col0\" >1001209</td>\n",
       "      <td id=\"T_41afa_row2_col1\" class=\"data row2 col1\" >Oshin</td>\n",
       "      <td id=\"T_41afa_row2_col2\" class=\"data row2 col2\" >P00201342</td>\n",
       "      <td id=\"T_41afa_row2_col3\" class=\"data row2 col3\" >F</td>\n",
       "      <td id=\"T_41afa_row2_col4\" class=\"data row2 col4\" >36-45</td>\n",
       "      <td id=\"T_41afa_row2_col5\" class=\"data row2 col5\" >40</td>\n",
       "      <td id=\"T_41afa_row2_col6\" class=\"data row2 col6\" >0</td>\n",
       "      <td id=\"T_41afa_row2_col7\" class=\"data row2 col7\" >Madhya Pradesh</td>\n",
       "      <td id=\"T_41afa_row2_col8\" class=\"data row2 col8\" >Central</td>\n",
       "      <td id=\"T_41afa_row2_col9\" class=\"data row2 col9\" >Textile</td>\n",
       "      <td id=\"T_41afa_row2_col10\" class=\"data row2 col10\" >Office</td>\n",
       "      <td id=\"T_41afa_row2_col11\" class=\"data row2 col11\" >4</td>\n",
       "      <td id=\"T_41afa_row2_col12\" class=\"data row2 col12\" >213.000000</td>\n",
       "      <td id=\"T_41afa_row2_col13\" class=\"data row2 col13\" >nan</td>\n",
       "      <td id=\"T_41afa_row2_col14\" class=\"data row2 col14\" >nan</td>\n",
       "    </tr>\n",
       "    <tr>\n",
       "      <th id=\"T_41afa_level0_row3\" class=\"row_heading level0 row3\" >11249</th>\n",
       "      <td id=\"T_41afa_row3_col0\" class=\"data row3 col0\" >1004023</td>\n",
       "      <td id=\"T_41afa_row3_col1\" class=\"data row3 col1\" >Noonan</td>\n",
       "      <td id=\"T_41afa_row3_col2\" class=\"data row3 col2\" >P00059442</td>\n",
       "      <td id=\"T_41afa_row3_col3\" class=\"data row3 col3\" >M</td>\n",
       "      <td id=\"T_41afa_row3_col4\" class=\"data row3 col4\" >36-45</td>\n",
       "      <td id=\"T_41afa_row3_col5\" class=\"data row3 col5\" >37</td>\n",
       "      <td id=\"T_41afa_row3_col6\" class=\"data row3 col6\" >0</td>\n",
       "      <td id=\"T_41afa_row3_col7\" class=\"data row3 col7\" >Karnataka</td>\n",
       "      <td id=\"T_41afa_row3_col8\" class=\"data row3 col8\" >Southern</td>\n",
       "      <td id=\"T_41afa_row3_col9\" class=\"data row3 col9\" >Agriculture</td>\n",
       "      <td id=\"T_41afa_row3_col10\" class=\"data row3 col10\" >Office</td>\n",
       "      <td id=\"T_41afa_row3_col11\" class=\"data row3 col11\" >3</td>\n",
       "      <td id=\"T_41afa_row3_col12\" class=\"data row3 col12\" >206.000000</td>\n",
       "      <td id=\"T_41afa_row3_col13\" class=\"data row3 col13\" >nan</td>\n",
       "      <td id=\"T_41afa_row3_col14\" class=\"data row3 col14\" >nan</td>\n",
       "    </tr>\n",
       "    <tr>\n",
       "      <th id=\"T_41afa_level0_row4\" class=\"row_heading level0 row4\" >11250</th>\n",
       "      <td id=\"T_41afa_row4_col0\" class=\"data row4 col0\" >1002744</td>\n",
       "      <td id=\"T_41afa_row4_col1\" class=\"data row4 col1\" >Brumley</td>\n",
       "      <td id=\"T_41afa_row4_col2\" class=\"data row4 col2\" >P00281742</td>\n",
       "      <td id=\"T_41afa_row4_col3\" class=\"data row4 col3\" >F</td>\n",
       "      <td id=\"T_41afa_row4_col4\" class=\"data row4 col4\" >18-25</td>\n",
       "      <td id=\"T_41afa_row4_col5\" class=\"data row4 col5\" >19</td>\n",
       "      <td id=\"T_41afa_row4_col6\" class=\"data row4 col6\" >0</td>\n",
       "      <td id=\"T_41afa_row4_col7\" class=\"data row4 col7\" >Maharashtra</td>\n",
       "      <td id=\"T_41afa_row4_col8\" class=\"data row4 col8\" >Western</td>\n",
       "      <td id=\"T_41afa_row4_col9\" class=\"data row4 col9\" >Healthcare</td>\n",
       "      <td id=\"T_41afa_row4_col10\" class=\"data row4 col10\" >Office</td>\n",
       "      <td id=\"T_41afa_row4_col11\" class=\"data row4 col11\" >3</td>\n",
       "      <td id=\"T_41afa_row4_col12\" class=\"data row4 col12\" >188.000000</td>\n",
       "      <td id=\"T_41afa_row4_col13\" class=\"data row4 col13\" >nan</td>\n",
       "      <td id=\"T_41afa_row4_col14\" class=\"data row4 col14\" >nan</td>\n",
       "    </tr>\n",
       "  </tbody>\n",
       "</table>\n"
      ],
      "text/plain": [
       "<pandas.io.formats.style.Styler at 0x789af553e440>"
      ]
     },
     "execution_count": 5,
     "metadata": {},
     "output_type": "execute_result"
    }
   ],
   "source": [
    "df.tail(5).style.set_caption(\"Last 5 records\").set_properties(**{\"border\" : \"1px solid\"}).set_table_styles([headers, caption])"
   ]
  },
  {
   "cell_type": "markdown",
   "id": "5fc5a171",
   "metadata": {
    "papermill": {
     "duration": 0.038323,
     "end_time": "2023-10-31T05:07:39.820886",
     "exception": false,
     "start_time": "2023-10-31T05:07:39.782563",
     "status": "completed"
    },
    "tags": []
   },
   "source": [
    "Looking at 5 random records"
   ]
  },
  {
   "cell_type": "code",
   "execution_count": 6,
   "id": "7663c4ca",
   "metadata": {
    "execution": {
     "iopub.execute_input": "2023-10-31T05:07:39.900082Z",
     "iopub.status.busy": "2023-10-31T05:07:39.899658Z",
     "iopub.status.idle": "2023-10-31T05:07:39.926912Z",
     "shell.execute_reply": "2023-10-31T05:07:39.925644Z"
    },
    "papermill": {
     "duration": 0.069763,
     "end_time": "2023-10-31T05:07:39.929587",
     "exception": false,
     "start_time": "2023-10-31T05:07:39.859824",
     "status": "completed"
    },
    "tags": []
   },
   "outputs": [
    {
     "data": {
      "text/html": [
       "<style type=\"text/css\">\n",
       "#T_8ee54 th:not(.index_name) {\n",
       "  font-weight: bold;\n",
       "  font-size: 110%;\n",
       "}\n",
       "#T_8ee54 caption {\n",
       "  text-align: center;\n",
       "  font-size: 120%;\n",
       "  font-weight: bold;\n",
       "}\n",
       "#T_8ee54_row0_col0, #T_8ee54_row0_col1, #T_8ee54_row0_col2, #T_8ee54_row0_col3, #T_8ee54_row0_col4, #T_8ee54_row0_col5, #T_8ee54_row0_col6, #T_8ee54_row0_col7, #T_8ee54_row0_col8, #T_8ee54_row0_col9, #T_8ee54_row0_col10, #T_8ee54_row0_col11, #T_8ee54_row0_col12, #T_8ee54_row0_col13, #T_8ee54_row0_col14, #T_8ee54_row1_col0, #T_8ee54_row1_col1, #T_8ee54_row1_col2, #T_8ee54_row1_col3, #T_8ee54_row1_col4, #T_8ee54_row1_col5, #T_8ee54_row1_col6, #T_8ee54_row1_col7, #T_8ee54_row1_col8, #T_8ee54_row1_col9, #T_8ee54_row1_col10, #T_8ee54_row1_col11, #T_8ee54_row1_col12, #T_8ee54_row1_col13, #T_8ee54_row1_col14, #T_8ee54_row2_col0, #T_8ee54_row2_col1, #T_8ee54_row2_col2, #T_8ee54_row2_col3, #T_8ee54_row2_col4, #T_8ee54_row2_col5, #T_8ee54_row2_col6, #T_8ee54_row2_col7, #T_8ee54_row2_col8, #T_8ee54_row2_col9, #T_8ee54_row2_col10, #T_8ee54_row2_col11, #T_8ee54_row2_col12, #T_8ee54_row2_col13, #T_8ee54_row2_col14, #T_8ee54_row3_col0, #T_8ee54_row3_col1, #T_8ee54_row3_col2, #T_8ee54_row3_col3, #T_8ee54_row3_col4, #T_8ee54_row3_col5, #T_8ee54_row3_col6, #T_8ee54_row3_col7, #T_8ee54_row3_col8, #T_8ee54_row3_col9, #T_8ee54_row3_col10, #T_8ee54_row3_col11, #T_8ee54_row3_col12, #T_8ee54_row3_col13, #T_8ee54_row3_col14, #T_8ee54_row4_col0, #T_8ee54_row4_col1, #T_8ee54_row4_col2, #T_8ee54_row4_col3, #T_8ee54_row4_col4, #T_8ee54_row4_col5, #T_8ee54_row4_col6, #T_8ee54_row4_col7, #T_8ee54_row4_col8, #T_8ee54_row4_col9, #T_8ee54_row4_col10, #T_8ee54_row4_col11, #T_8ee54_row4_col12, #T_8ee54_row4_col13, #T_8ee54_row4_col14 {\n",
       "  border: 1px solid;\n",
       "}\n",
       "</style>\n",
       "<table id=\"T_8ee54\">\n",
       "  <caption>5 random records</caption>\n",
       "  <thead>\n",
       "    <tr>\n",
       "      <th class=\"blank level0\" >&nbsp;</th>\n",
       "      <th id=\"T_8ee54_level0_col0\" class=\"col_heading level0 col0\" >User_ID</th>\n",
       "      <th id=\"T_8ee54_level0_col1\" class=\"col_heading level0 col1\" >Cust_name</th>\n",
       "      <th id=\"T_8ee54_level0_col2\" class=\"col_heading level0 col2\" >Product_ID</th>\n",
       "      <th id=\"T_8ee54_level0_col3\" class=\"col_heading level0 col3\" >Gender</th>\n",
       "      <th id=\"T_8ee54_level0_col4\" class=\"col_heading level0 col4\" >Age Group</th>\n",
       "      <th id=\"T_8ee54_level0_col5\" class=\"col_heading level0 col5\" >Age</th>\n",
       "      <th id=\"T_8ee54_level0_col6\" class=\"col_heading level0 col6\" >Marital_Status</th>\n",
       "      <th id=\"T_8ee54_level0_col7\" class=\"col_heading level0 col7\" >State</th>\n",
       "      <th id=\"T_8ee54_level0_col8\" class=\"col_heading level0 col8\" >Zone</th>\n",
       "      <th id=\"T_8ee54_level0_col9\" class=\"col_heading level0 col9\" >Occupation</th>\n",
       "      <th id=\"T_8ee54_level0_col10\" class=\"col_heading level0 col10\" >Product_Category</th>\n",
       "      <th id=\"T_8ee54_level0_col11\" class=\"col_heading level0 col11\" >Orders</th>\n",
       "      <th id=\"T_8ee54_level0_col12\" class=\"col_heading level0 col12\" >Amount</th>\n",
       "      <th id=\"T_8ee54_level0_col13\" class=\"col_heading level0 col13\" >Status</th>\n",
       "      <th id=\"T_8ee54_level0_col14\" class=\"col_heading level0 col14\" >unnamed1</th>\n",
       "    </tr>\n",
       "  </thead>\n",
       "  <tbody>\n",
       "    <tr>\n",
       "      <th id=\"T_8ee54_level0_row0\" class=\"row_heading level0 row0\" >7749</th>\n",
       "      <td id=\"T_8ee54_row0_col0\" class=\"data row0 col0\" >1004879</td>\n",
       "      <td id=\"T_8ee54_row0_col1\" class=\"data row0 col1\" >Saurabh</td>\n",
       "      <td id=\"T_8ee54_row0_col2\" class=\"data row0 col2\" >P00205842</td>\n",
       "      <td id=\"T_8ee54_row0_col3\" class=\"data row0 col3\" >F</td>\n",
       "      <td id=\"T_8ee54_row0_col4\" class=\"data row0 col4\" >26-35</td>\n",
       "      <td id=\"T_8ee54_row0_col5\" class=\"data row0 col5\" >28</td>\n",
       "      <td id=\"T_8ee54_row0_col6\" class=\"data row0 col6\" >0</td>\n",
       "      <td id=\"T_8ee54_row0_col7\" class=\"data row0 col7\" >Uttar Pradesh</td>\n",
       "      <td id=\"T_8ee54_row0_col8\" class=\"data row0 col8\" >Central</td>\n",
       "      <td id=\"T_8ee54_row0_col9\" class=\"data row0 col9\" >Banking</td>\n",
       "      <td id=\"T_8ee54_row0_col10\" class=\"data row0 col10\" >Electronics & Gadgets</td>\n",
       "      <td id=\"T_8ee54_row0_col11\" class=\"data row0 col11\" >3</td>\n",
       "      <td id=\"T_8ee54_row0_col12\" class=\"data row0 col12\" >6180.000000</td>\n",
       "      <td id=\"T_8ee54_row0_col13\" class=\"data row0 col13\" >nan</td>\n",
       "      <td id=\"T_8ee54_row0_col14\" class=\"data row0 col14\" >nan</td>\n",
       "    </tr>\n",
       "    <tr>\n",
       "      <th id=\"T_8ee54_level0_row1\" class=\"row_heading level0 row1\" >7837</th>\n",
       "      <td id=\"T_8ee54_row1_col0\" class=\"data row1 col0\" >1002125</td>\n",
       "      <td id=\"T_8ee54_row1_col1\" class=\"data row1 col1\" >Noshiba</td>\n",
       "      <td id=\"T_8ee54_row1_col2\" class=\"data row1 col2\" >P00026042</td>\n",
       "      <td id=\"T_8ee54_row1_col3\" class=\"data row1 col3\" >F</td>\n",
       "      <td id=\"T_8ee54_row1_col4\" class=\"data row1 col4\" >36-45</td>\n",
       "      <td id=\"T_8ee54_row1_col5\" class=\"data row1 col5\" >40</td>\n",
       "      <td id=\"T_8ee54_row1_col6\" class=\"data row1 col6\" >0</td>\n",
       "      <td id=\"T_8ee54_row1_col7\" class=\"data row1 col7\" >Himachal Pradesh</td>\n",
       "      <td id=\"T_8ee54_row1_col8\" class=\"data row1 col8\" >Northern</td>\n",
       "      <td id=\"T_8ee54_row1_col9\" class=\"data row1 col9\" >Food Processing</td>\n",
       "      <td id=\"T_8ee54_row1_col10\" class=\"data row1 col10\" >Electronics & Gadgets</td>\n",
       "      <td id=\"T_8ee54_row1_col11\" class=\"data row1 col11\" >1</td>\n",
       "      <td id=\"T_8ee54_row1_col12\" class=\"data row1 col12\" >6126.000000</td>\n",
       "      <td id=\"T_8ee54_row1_col13\" class=\"data row1 col13\" >nan</td>\n",
       "      <td id=\"T_8ee54_row1_col14\" class=\"data row1 col14\" >nan</td>\n",
       "    </tr>\n",
       "    <tr>\n",
       "      <th id=\"T_8ee54_level0_row2\" class=\"row_heading level0 row2\" >7415</th>\n",
       "      <td id=\"T_8ee54_row2_col0\" class=\"data row2 col0\" >1002116</td>\n",
       "      <td id=\"T_8ee54_row2_col1\" class=\"data row2 col1\" >Stuti</td>\n",
       "      <td id=\"T_8ee54_row2_col2\" class=\"data row2 col2\" >P00001442</td>\n",
       "      <td id=\"T_8ee54_row2_col3\" class=\"data row2 col3\" >F</td>\n",
       "      <td id=\"T_8ee54_row2_col4\" class=\"data row2 col4\" >18-25</td>\n",
       "      <td id=\"T_8ee54_row2_col5\" class=\"data row2 col5\" >22</td>\n",
       "      <td id=\"T_8ee54_row2_col6\" class=\"data row2 col6\" >0</td>\n",
       "      <td id=\"T_8ee54_row2_col7\" class=\"data row2 col7\" >Uttar Pradesh</td>\n",
       "      <td id=\"T_8ee54_row2_col8\" class=\"data row2 col8\" >Central</td>\n",
       "      <td id=\"T_8ee54_row2_col9\" class=\"data row2 col9\" >Govt</td>\n",
       "      <td id=\"T_8ee54_row2_col10\" class=\"data row2 col10\" >Clothing & Apparel</td>\n",
       "      <td id=\"T_8ee54_row2_col11\" class=\"data row2 col11\" >3</td>\n",
       "      <td id=\"T_8ee54_row2_col12\" class=\"data row2 col12\" >6951.000000</td>\n",
       "      <td id=\"T_8ee54_row2_col13\" class=\"data row2 col13\" >nan</td>\n",
       "      <td id=\"T_8ee54_row2_col14\" class=\"data row2 col14\" >nan</td>\n",
       "    </tr>\n",
       "    <tr>\n",
       "      <th id=\"T_8ee54_level0_row3\" class=\"row_heading level0 row3\" >260</th>\n",
       "      <td id=\"T_8ee54_row3_col0\" class=\"data row3 col0\" >1004436</td>\n",
       "      <td id=\"T_8ee54_row3_col1\" class=\"data row3 col1\" >Talbott</td>\n",
       "      <td id=\"T_8ee54_row3_col2\" class=\"data row3 col2\" >P0096542</td>\n",
       "      <td id=\"T_8ee54_row3_col3\" class=\"data row3 col3\" >F</td>\n",
       "      <td id=\"T_8ee54_row3_col4\" class=\"data row3 col4\" >26-35</td>\n",
       "      <td id=\"T_8ee54_row3_col5\" class=\"data row3 col5\" >28</td>\n",
       "      <td id=\"T_8ee54_row3_col6\" class=\"data row3 col6\" >0</td>\n",
       "      <td id=\"T_8ee54_row3_col7\" class=\"data row3 col7\" >Kerala</td>\n",
       "      <td id=\"T_8ee54_row3_col8\" class=\"data row3 col8\" >Southern</td>\n",
       "      <td id=\"T_8ee54_row3_col9\" class=\"data row3 col9\" >Retail</td>\n",
       "      <td id=\"T_8ee54_row3_col10\" class=\"data row3 col10\" >Tupperware</td>\n",
       "      <td id=\"T_8ee54_row3_col11\" class=\"data row3 col11\" >2</td>\n",
       "      <td id=\"T_8ee54_row3_col12\" class=\"data row3 col12\" >20477.000000</td>\n",
       "      <td id=\"T_8ee54_row3_col13\" class=\"data row3 col13\" >nan</td>\n",
       "      <td id=\"T_8ee54_row3_col14\" class=\"data row3 col14\" >nan</td>\n",
       "    </tr>\n",
       "    <tr>\n",
       "      <th id=\"T_8ee54_level0_row4\" class=\"row_heading level0 row4\" >1804</th>\n",
       "      <td id=\"T_8ee54_row4_col0\" class=\"data row4 col0\" >1004972</td>\n",
       "      <td id=\"T_8ee54_row4_col1\" class=\"data row4 col1\" >Barcio</td>\n",
       "      <td id=\"T_8ee54_row4_col2\" class=\"data row4 col2\" >P00022942</td>\n",
       "      <td id=\"T_8ee54_row4_col3\" class=\"data row4 col3\" >F</td>\n",
       "      <td id=\"T_8ee54_row4_col4\" class=\"data row4 col4\" >36-45</td>\n",
       "      <td id=\"T_8ee54_row4_col5\" class=\"data row4 col5\" >44</td>\n",
       "      <td id=\"T_8ee54_row4_col6\" class=\"data row4 col6\" >1</td>\n",
       "      <td id=\"T_8ee54_row4_col7\" class=\"data row4 col7\" >Maharashtra</td>\n",
       "      <td id=\"T_8ee54_row4_col8\" class=\"data row4 col8\" >Western</td>\n",
       "      <td id=\"T_8ee54_row4_col9\" class=\"data row4 col9\" >Banking</td>\n",
       "      <td id=\"T_8ee54_row4_col10\" class=\"data row4 col10\" >Food</td>\n",
       "      <td id=\"T_8ee54_row4_col11\" class=\"data row4 col11\" >3</td>\n",
       "      <td id=\"T_8ee54_row4_col12\" class=\"data row4 col12\" >15750.000000</td>\n",
       "      <td id=\"T_8ee54_row4_col13\" class=\"data row4 col13\" >nan</td>\n",
       "      <td id=\"T_8ee54_row4_col14\" class=\"data row4 col14\" >nan</td>\n",
       "    </tr>\n",
       "  </tbody>\n",
       "</table>\n"
      ],
      "text/plain": [
       "<pandas.io.formats.style.Styler at 0x789af553d4e0>"
      ]
     },
     "execution_count": 6,
     "metadata": {},
     "output_type": "execute_result"
    }
   ],
   "source": [
    "df.sample(5).style.set_caption(\"5 random records\").set_properties(**{\"border\" : \"1px solid\"}).set_table_styles([headers, caption])"
   ]
  },
  {
   "cell_type": "markdown",
   "id": "0b2da888",
   "metadata": {
    "papermill": {
     "duration": 0.039569,
     "end_time": "2023-10-31T05:07:40.008643",
     "exception": false,
     "start_time": "2023-10-31T05:07:39.969074",
     "status": "completed"
    },
    "tags": []
   },
   "source": [
    "Looking at some general information regarding the dataframe"
   ]
  },
  {
   "cell_type": "code",
   "execution_count": 7,
   "id": "f247f6a2",
   "metadata": {
    "execution": {
     "iopub.execute_input": "2023-10-31T05:07:40.091223Z",
     "iopub.status.busy": "2023-10-31T05:07:40.090774Z",
     "iopub.status.idle": "2023-10-31T05:07:40.126024Z",
     "shell.execute_reply": "2023-10-31T05:07:40.124716Z"
    },
    "papermill": {
     "duration": 0.079075,
     "end_time": "2023-10-31T05:07:40.129011",
     "exception": false,
     "start_time": "2023-10-31T05:07:40.049936",
     "status": "completed"
    },
    "tags": []
   },
   "outputs": [
    {
     "name": "stdout",
     "output_type": "stream",
     "text": [
      "<class 'pandas.core.frame.DataFrame'>\n",
      "RangeIndex: 11251 entries, 0 to 11250\n",
      "Data columns (total 15 columns):\n",
      " #   Column            Non-Null Count  Dtype  \n",
      "---  ------            --------------  -----  \n",
      " 0   User_ID           11251 non-null  int64  \n",
      " 1   Cust_name         11251 non-null  object \n",
      " 2   Product_ID        11251 non-null  object \n",
      " 3   Gender            11251 non-null  object \n",
      " 4   Age Group         11251 non-null  object \n",
      " 5   Age               11251 non-null  int64  \n",
      " 6   Marital_Status    11251 non-null  int64  \n",
      " 7   State             11251 non-null  object \n",
      " 8   Zone              11251 non-null  object \n",
      " 9   Occupation        11251 non-null  object \n",
      " 10  Product_Category  11251 non-null  object \n",
      " 11  Orders            11251 non-null  int64  \n",
      " 12  Amount            11239 non-null  float64\n",
      " 13  Status            0 non-null      float64\n",
      " 14  unnamed1          0 non-null      float64\n",
      "dtypes: float64(3), int64(4), object(8)\n",
      "memory usage: 1.3+ MB\n"
     ]
    }
   ],
   "source": [
    "df.info()"
   ]
  },
  {
   "cell_type": "markdown",
   "id": "1ba8d0da",
   "metadata": {
    "papermill": {
     "duration": 0.039117,
     "end_time": "2023-10-31T05:07:40.207887",
     "exception": false,
     "start_time": "2023-10-31T05:07:40.168770",
     "status": "completed"
    },
    "tags": []
   },
   "source": [
    "Checking for missing values"
   ]
  },
  {
   "cell_type": "code",
   "execution_count": 8,
   "id": "cfbfd0bb",
   "metadata": {
    "execution": {
     "iopub.execute_input": "2023-10-31T05:07:40.295859Z",
     "iopub.status.busy": "2023-10-31T05:07:40.294511Z",
     "iopub.status.idle": "2023-10-31T05:07:40.319093Z",
     "shell.execute_reply": "2023-10-31T05:07:40.317973Z"
    },
    "papermill": {
     "duration": 0.075291,
     "end_time": "2023-10-31T05:07:40.322056",
     "exception": false,
     "start_time": "2023-10-31T05:07:40.246765",
     "status": "completed"
    },
    "tags": []
   },
   "outputs": [
    {
     "data": {
      "text/plain": [
       "User_ID                 0\n",
       "Cust_name               0\n",
       "Product_ID              0\n",
       "Gender                  0\n",
       "Age Group               0\n",
       "Age                     0\n",
       "Marital_Status          0\n",
       "State                   0\n",
       "Zone                    0\n",
       "Occupation              0\n",
       "Product_Category        0\n",
       "Orders                  0\n",
       "Amount                 12\n",
       "Status              11251\n",
       "unnamed1            11251\n",
       "dtype: int64"
      ]
     },
     "execution_count": 8,
     "metadata": {},
     "output_type": "execute_result"
    }
   ],
   "source": [
    "df.isnull().sum()"
   ]
  },
  {
   "cell_type": "markdown",
   "id": "75c7eed3",
   "metadata": {
    "papermill": {
     "duration": 0.048901,
     "end_time": "2023-10-31T05:07:40.423880",
     "exception": false,
     "start_time": "2023-10-31T05:07:40.374979",
     "status": "completed"
    },
    "tags": []
   },
   "source": [
    "Checking for duplicate records"
   ]
  },
  {
   "cell_type": "code",
   "execution_count": 9,
   "id": "7e7cd097",
   "metadata": {
    "execution": {
     "iopub.execute_input": "2023-10-31T05:07:40.508125Z",
     "iopub.status.busy": "2023-10-31T05:07:40.507407Z",
     "iopub.status.idle": "2023-10-31T05:07:40.533419Z",
     "shell.execute_reply": "2023-10-31T05:07:40.531657Z"
    },
    "papermill": {
     "duration": 0.071461,
     "end_time": "2023-10-31T05:07:40.536077",
     "exception": false,
     "start_time": "2023-10-31T05:07:40.464616",
     "status": "completed"
    },
    "tags": []
   },
   "outputs": [
    {
     "data": {
      "text/plain": [
       "8"
      ]
     },
     "execution_count": 9,
     "metadata": {},
     "output_type": "execute_result"
    }
   ],
   "source": [
    "df.duplicated().sum()"
   ]
  },
  {
   "cell_type": "markdown",
   "id": "92f9de9a",
   "metadata": {
    "papermill": {
     "duration": 0.048982,
     "end_time": "2023-10-31T05:07:40.626449",
     "exception": false,
     "start_time": "2023-10-31T05:07:40.577467",
     "status": "completed"
    },
    "tags": []
   },
   "source": [
    "- The dataframe has 11251 rows and 15 columns.\n",
    "- Column names are not in proper format.\n",
    "- 'Status' and 'unnamed1' are useless as they are empty columns.\n",
    "- There are 12 records with missing values for 'amount'.\n",
    "- There are 8 instances of duplicated records. These duplicates may arise from repeated record entries, or identical sales that occurred more than once."
   ]
  },
  {
   "cell_type": "markdown",
   "id": "f7e97d90",
   "metadata": {
    "papermill": {
     "duration": 0.046487,
     "end_time": "2023-10-31T05:07:40.722035",
     "exception": false,
     "start_time": "2023-10-31T05:07:40.675548",
     "status": "completed"
    },
    "tags": []
   },
   "source": [
    "## Data preparation and cleaning"
   ]
  },
  {
   "cell_type": "markdown",
   "id": "c59d555f",
   "metadata": {
    "papermill": {
     "duration": 0.041766,
     "end_time": "2023-10-31T05:07:40.804125",
     "exception": false,
     "start_time": "2023-10-31T05:07:40.762359",
     "status": "completed"
    },
    "tags": []
   },
   "source": [
    "Removing 'Status' and 'unnamed1'"
   ]
  },
  {
   "cell_type": "code",
   "execution_count": 10,
   "id": "11c81f32",
   "metadata": {
    "execution": {
     "iopub.execute_input": "2023-10-31T05:07:40.886908Z",
     "iopub.status.busy": "2023-10-31T05:07:40.886302Z",
     "iopub.status.idle": "2023-10-31T05:07:40.897597Z",
     "shell.execute_reply": "2023-10-31T05:07:40.896516Z"
    },
    "papermill": {
     "duration": 0.055608,
     "end_time": "2023-10-31T05:07:40.900258",
     "exception": false,
     "start_time": "2023-10-31T05:07:40.844650",
     "status": "completed"
    },
    "tags": []
   },
   "outputs": [],
   "source": [
    "df.drop(['Status', 'unnamed1'], axis=1, inplace=True)"
   ]
  },
  {
   "cell_type": "markdown",
   "id": "e3baa00f",
   "metadata": {
    "papermill": {
     "duration": 0.039443,
     "end_time": "2023-10-31T05:07:40.979770",
     "exception": false,
     "start_time": "2023-10-31T05:07:40.940327",
     "status": "completed"
    },
    "tags": []
   },
   "source": [
    "Renaming columns to the appropriate format"
   ]
  },
  {
   "cell_type": "code",
   "execution_count": 11,
   "id": "9c7f930a",
   "metadata": {
    "execution": {
     "iopub.execute_input": "2023-10-31T05:07:41.067408Z",
     "iopub.status.busy": "2023-10-31T05:07:41.066922Z",
     "iopub.status.idle": "2023-10-31T05:07:41.074434Z",
     "shell.execute_reply": "2023-10-31T05:07:41.072660Z"
    },
    "papermill": {
     "duration": 0.054875,
     "end_time": "2023-10-31T05:07:41.076964",
     "exception": false,
     "start_time": "2023-10-31T05:07:41.022089",
     "status": "completed"
    },
    "tags": []
   },
   "outputs": [],
   "source": [
    "df.rename(lambda col : col.lower().strip().replace(' ', '_'), axis='columns', inplace=True)"
   ]
  },
  {
   "cell_type": "markdown",
   "id": "caef2a64",
   "metadata": {
    "papermill": {
     "duration": 0.039465,
     "end_time": "2023-10-31T05:07:41.155930",
     "exception": false,
     "start_time": "2023-10-31T05:07:41.116465",
     "status": "completed"
    },
    "tags": []
   },
   "source": [
    "Converting the data type of 'user_id' to 'string'"
   ]
  },
  {
   "cell_type": "code",
   "execution_count": 12,
   "id": "cb551466",
   "metadata": {
    "execution": {
     "iopub.execute_input": "2023-10-31T05:07:41.236039Z",
     "iopub.status.busy": "2023-10-31T05:07:41.235659Z",
     "iopub.status.idle": "2023-10-31T05:07:41.250806Z",
     "shell.execute_reply": "2023-10-31T05:07:41.249540Z"
    },
    "papermill": {
     "duration": 0.058446,
     "end_time": "2023-10-31T05:07:41.253392",
     "exception": false,
     "start_time": "2023-10-31T05:07:41.194946",
     "status": "completed"
    },
    "tags": []
   },
   "outputs": [],
   "source": [
    "df['user_id']=df['user_id'].astype('str')"
   ]
  },
  {
   "cell_type": "markdown",
   "id": "97138ab0",
   "metadata": {
    "papermill": {
     "duration": 0.040896,
     "end_time": "2023-10-31T05:07:41.334118",
     "exception": false,
     "start_time": "2023-10-31T05:07:41.293222",
     "status": "completed"
    },
    "tags": []
   },
   "source": [
    "Converting the data type of 'marital_status' to 'string'"
   ]
  },
  {
   "cell_type": "code",
   "execution_count": 13,
   "id": "dc7d89b6",
   "metadata": {
    "execution": {
     "iopub.execute_input": "2023-10-31T05:07:41.417581Z",
     "iopub.status.busy": "2023-10-31T05:07:41.417155Z",
     "iopub.status.idle": "2023-10-31T05:07:41.432361Z",
     "shell.execute_reply": "2023-10-31T05:07:41.430974Z"
    },
    "papermill": {
     "duration": 0.060074,
     "end_time": "2023-10-31T05:07:41.435156",
     "exception": false,
     "start_time": "2023-10-31T05:07:41.375082",
     "status": "completed"
    },
    "tags": []
   },
   "outputs": [],
   "source": [
    "df['marital_status']=df['marital_status'].astype('str')"
   ]
  },
  {
   "cell_type": "markdown",
   "id": "5985c072",
   "metadata": {
    "papermill": {
     "duration": 0.039514,
     "end_time": "2023-10-31T05:07:41.515622",
     "exception": false,
     "start_time": "2023-10-31T05:07:41.476108",
     "status": "completed"
    },
    "tags": []
   },
   "source": [
    "Converting the data type of 'orders' to 'string'"
   ]
  },
  {
   "cell_type": "code",
   "execution_count": 14,
   "id": "c3d000c9",
   "metadata": {
    "execution": {
     "iopub.execute_input": "2023-10-31T05:07:41.603150Z",
     "iopub.status.busy": "2023-10-31T05:07:41.602759Z",
     "iopub.status.idle": "2023-10-31T05:07:41.617087Z",
     "shell.execute_reply": "2023-10-31T05:07:41.615715Z"
    },
    "papermill": {
     "duration": 0.064684,
     "end_time": "2023-10-31T05:07:41.621370",
     "exception": false,
     "start_time": "2023-10-31T05:07:41.556686",
     "status": "completed"
    },
    "tags": []
   },
   "outputs": [],
   "source": [
    "df['orders']=df['orders'].astype('str')"
   ]
  },
  {
   "cell_type": "code",
   "execution_count": 15,
   "id": "4e3d9b7c",
   "metadata": {
    "execution": {
     "iopub.execute_input": "2023-10-31T05:07:41.705760Z",
     "iopub.status.busy": "2023-10-31T05:07:41.705376Z",
     "iopub.status.idle": "2023-10-31T05:07:41.714963Z",
     "shell.execute_reply": "2023-10-31T05:07:41.713310Z"
    },
    "papermill": {
     "duration": 0.053703,
     "end_time": "2023-10-31T05:07:41.717717",
     "exception": false,
     "start_time": "2023-10-31T05:07:41.664014",
     "status": "completed"
    },
    "tags": []
   },
   "outputs": [
    {
     "name": "stdout",
     "output_type": "stream",
     "text": [
      "Updated columns :-\n",
      "\n"
     ]
    },
    {
     "data": {
      "text/plain": [
       "user_id              object\n",
       "cust_name            object\n",
       "product_id           object\n",
       "gender               object\n",
       "age_group            object\n",
       "age                   int64\n",
       "marital_status       object\n",
       "state                object\n",
       "zone                 object\n",
       "occupation           object\n",
       "product_category     object\n",
       "orders               object\n",
       "amount              float64\n",
       "dtype: object"
      ]
     },
     "execution_count": 15,
     "metadata": {},
     "output_type": "execute_result"
    }
   ],
   "source": [
    "print(\"Updated columns :-\\n\")\n",
    "df.dtypes"
   ]
  },
  {
   "cell_type": "markdown",
   "id": "ae41ef8c",
   "metadata": {
    "papermill": {
     "duration": 0.04188,
     "end_time": "2023-10-31T05:07:41.799826",
     "exception": false,
     "start_time": "2023-10-31T05:07:41.757946",
     "status": "completed"
    },
    "tags": []
   },
   "source": [
    "Visualizing the missing/null values"
   ]
  },
  {
   "cell_type": "code",
   "execution_count": 16,
   "id": "09626d3a",
   "metadata": {
    "execution": {
     "iopub.execute_input": "2023-10-31T05:07:41.882116Z",
     "iopub.status.busy": "2023-10-31T05:07:41.881169Z",
     "iopub.status.idle": "2023-10-31T05:07:42.896108Z",
     "shell.execute_reply": "2023-10-31T05:07:42.895222Z"
    },
    "papermill": {
     "duration": 1.058747,
     "end_time": "2023-10-31T05:07:42.898580",
     "exception": false,
     "start_time": "2023-10-31T05:07:41.839833",
     "status": "completed"
    },
    "tags": []
   },
   "outputs": [
    {
     "data": {
      "text/plain": [
       "<Axes: >"
      ]
     },
     "execution_count": 16,
     "metadata": {},
     "output_type": "execute_result"
    },
    {
     "data": {
      "image/png": "[encoded data removed]",
      "text/plain": [
       "<Figure size 2500x1000 with 2 Axes>"
      ]
     },
     "metadata": {},
     "output_type": "display_data"
    }
   ],
   "source": [
    "mno.matrix(df, color=(0.27, 0.52, 1.0))"
   ]
  },
  {
   "cell_type": "markdown",
   "id": "cddf0169",
   "metadata": {
    "papermill": {
     "duration": 0.04115,
     "end_time": "2023-10-31T05:07:42.981373",
     "exception": false,
     "start_time": "2023-10-31T05:07:42.940223",
     "status": "completed"
    },
    "tags": []
   },
   "source": [
    "Looking at the records with missing values"
   ]
  },
  {
   "cell_type": "code",
   "execution_count": 17,
   "id": "7080ec5c",
   "metadata": {
    "execution": {
     "iopub.execute_input": "2023-10-31T05:07:43.065655Z",
     "iopub.status.busy": "2023-10-31T05:07:43.065270Z",
     "iopub.status.idle": "2023-10-31T05:07:43.102745Z",
     "shell.execute_reply": "2023-10-31T05:07:43.101630Z"
    },
    "papermill": {
     "duration": 0.082652,
     "end_time": "2023-10-31T05:07:43.105490",
     "exception": false,
     "start_time": "2023-10-31T05:07:43.022838",
     "status": "completed"
    },
    "tags": []
   },
   "outputs": [
    {
     "data": {
      "text/html": [
       "<style type=\"text/css\">\n",
       "#T_8d338 th:not(.index_name) {\n",
       "  font-weight: bold;\n",
       "  font-size: 110%;\n",
       "}\n",
       "#T_8d338 caption {\n",
       "  text-align: center;\n",
       "  font-size: 120%;\n",
       "  font-weight: bold;\n",
       "}\n",
       "#T_8d338_row0_col0, #T_8d338_row0_col1, #T_8d338_row0_col2, #T_8d338_row0_col3, #T_8d338_row0_col4, #T_8d338_row0_col5, #T_8d338_row0_col6, #T_8d338_row0_col7, #T_8d338_row0_col8, #T_8d338_row0_col9, #T_8d338_row0_col10, #T_8d338_row0_col11, #T_8d338_row1_col0, #T_8d338_row1_col1, #T_8d338_row1_col2, #T_8d338_row1_col3, #T_8d338_row1_col4, #T_8d338_row1_col5, #T_8d338_row1_col6, #T_8d338_row1_col7, #T_8d338_row1_col8, #T_8d338_row1_col9, #T_8d338_row1_col10, #T_8d338_row1_col11, #T_8d338_row2_col0, #T_8d338_row2_col1, #T_8d338_row2_col2, #T_8d338_row2_col3, #T_8d338_row2_col4, #T_8d338_row2_col5, #T_8d338_row2_col6, #T_8d338_row2_col7, #T_8d338_row2_col8, #T_8d338_row2_col9, #T_8d338_row2_col10, #T_8d338_row2_col11, #T_8d338_row3_col0, #T_8d338_row3_col1, #T_8d338_row3_col2, #T_8d338_row3_col3, #T_8d338_row3_col4, #T_8d338_row3_col5, #T_8d338_row3_col6, #T_8d338_row3_col7, #T_8d338_row3_col8, #T_8d338_row3_col9, #T_8d338_row3_col10, #T_8d338_row3_col11, #T_8d338_row4_col0, #T_8d338_row4_col1, #T_8d338_row4_col2, #T_8d338_row4_col3, #T_8d338_row4_col4, #T_8d338_row4_col5, #T_8d338_row4_col6, #T_8d338_row4_col7, #T_8d338_row4_col8, #T_8d338_row4_col9, #T_8d338_row4_col10, #T_8d338_row4_col11, #T_8d338_row5_col0, #T_8d338_row5_col1, #T_8d338_row5_col2, #T_8d338_row5_col3, #T_8d338_row5_col4, #T_8d338_row5_col5, #T_8d338_row5_col6, #T_8d338_row5_col7, #T_8d338_row5_col8, #T_8d338_row5_col9, #T_8d338_row5_col10, #T_8d338_row5_col11, #T_8d338_row6_col0, #T_8d338_row6_col1, #T_8d338_row6_col2, #T_8d338_row6_col3, #T_8d338_row6_col4, #T_8d338_row6_col5, #T_8d338_row6_col6, #T_8d338_row6_col7, #T_8d338_row6_col8, #T_8d338_row6_col9, #T_8d338_row6_col10, #T_8d338_row6_col11, #T_8d338_row7_col0, #T_8d338_row7_col1, #T_8d338_row7_col2, #T_8d338_row7_col3, #T_8d338_row7_col4, #T_8d338_row7_col5, #T_8d338_row7_col6, #T_8d338_row7_col7, #T_8d338_row7_col8, #T_8d338_row7_col9, #T_8d338_row7_col10, #T_8d338_row7_col11, #T_8d338_row8_col0, #T_8d338_row8_col1, #T_8d338_row8_col2, #T_8d338_row8_col3, #T_8d338_row8_col4, #T_8d338_row8_col5, #T_8d338_row8_col6, #T_8d338_row8_col7, #T_8d338_row8_col8, #T_8d338_row8_col9, #T_8d338_row8_col10, #T_8d338_row8_col11, #T_8d338_row9_col0, #T_8d338_row9_col1, #T_8d338_row9_col2, #T_8d338_row9_col3, #T_8d338_row9_col4, #T_8d338_row9_col5, #T_8d338_row9_col6, #T_8d338_row9_col7, #T_8d338_row9_col8, #T_8d338_row9_col9, #T_8d338_row9_col10, #T_8d338_row9_col11, #T_8d338_row10_col0, #T_8d338_row10_col1, #T_8d338_row10_col2, #T_8d338_row10_col3, #T_8d338_row10_col4, #T_8d338_row10_col5, #T_8d338_row10_col6, #T_8d338_row10_col7, #T_8d338_row10_col8, #T_8d338_row10_col9, #T_8d338_row10_col10, #T_8d338_row10_col11, #T_8d338_row11_col0, #T_8d338_row11_col1, #T_8d338_row11_col2, #T_8d338_row11_col3, #T_8d338_row11_col4, #T_8d338_row11_col5, #T_8d338_row11_col6, #T_8d338_row11_col7, #T_8d338_row11_col8, #T_8d338_row11_col9, #T_8d338_row11_col10, #T_8d338_row11_col11 {\n",
       "  border: 1px solid;\n",
       "}\n",
       "#T_8d338_row0_col12, #T_8d338_row1_col12, #T_8d338_row2_col12, #T_8d338_row3_col12, #T_8d338_row4_col12, #T_8d338_row5_col12, #T_8d338_row6_col12, #T_8d338_row7_col12, #T_8d338_row8_col12, #T_8d338_row9_col12, #T_8d338_row10_col12, #T_8d338_row11_col12 {\n",
       "  border: 1px solid;\n",
       "  background-color: red;\n",
       "}\n",
       "</style>\n",
       "<table id=\"T_8d338\">\n",
       "  <caption>Records with missing values</caption>\n",
       "  <thead>\n",
       "    <tr>\n",
       "      <th class=\"blank level0\" >&nbsp;</th>\n",
       "      <th id=\"T_8d338_level0_col0\" class=\"col_heading level0 col0\" >user_id</th>\n",
       "      <th id=\"T_8d338_level0_col1\" class=\"col_heading level0 col1\" >cust_name</th>\n",
       "      <th id=\"T_8d338_level0_col2\" class=\"col_heading level0 col2\" >product_id</th>\n",
       "      <th id=\"T_8d338_level0_col3\" class=\"col_heading level0 col3\" >gender</th>\n",
       "      <th id=\"T_8d338_level0_col4\" class=\"col_heading level0 col4\" >age_group</th>\n",
       "      <th id=\"T_8d338_level0_col5\" class=\"col_heading level0 col5\" >age</th>\n",
       "      <th id=\"T_8d338_level0_col6\" class=\"col_heading level0 col6\" >marital_status</th>\n",
       "      <th id=\"T_8d338_level0_col7\" class=\"col_heading level0 col7\" >state</th>\n",
       "      <th id=\"T_8d338_level0_col8\" class=\"col_heading level0 col8\" >zone</th>\n",
       "      <th id=\"T_8d338_level0_col9\" class=\"col_heading level0 col9\" >occupation</th>\n",
       "      <th id=\"T_8d338_level0_col10\" class=\"col_heading level0 col10\" >product_category</th>\n",
       "      <th id=\"T_8d338_level0_col11\" class=\"col_heading level0 col11\" >orders</th>\n",
       "      <th id=\"T_8d338_level0_col12\" class=\"col_heading level0 col12\" >amount</th>\n",
       "    </tr>\n",
       "  </thead>\n",
       "  <tbody>\n",
       "    <tr>\n",
       "      <th id=\"T_8d338_level0_row0\" class=\"row_heading level0 row0\" >7</th>\n",
       "      <td id=\"T_8d338_row0_col0\" class=\"data row0 col0\" >1002092</td>\n",
       "      <td id=\"T_8d338_row0_col1\" class=\"data row0 col1\" >Shivangi</td>\n",
       "      <td id=\"T_8d338_row0_col2\" class=\"data row0 col2\" >P00273442</td>\n",
       "      <td id=\"T_8d338_row0_col3\" class=\"data row0 col3\" >F</td>\n",
       "      <td id=\"T_8d338_row0_col4\" class=\"data row0 col4\" >55+</td>\n",
       "      <td id=\"T_8d338_row0_col5\" class=\"data row0 col5\" >61</td>\n",
       "      <td id=\"T_8d338_row0_col6\" class=\"data row0 col6\" >0</td>\n",
       "      <td id=\"T_8d338_row0_col7\" class=\"data row0 col7\" >Maharashtra</td>\n",
       "      <td id=\"T_8d338_row0_col8\" class=\"data row0 col8\" >Western</td>\n",
       "      <td id=\"T_8d338_row0_col9\" class=\"data row0 col9\" >IT Sector</td>\n",
       "      <td id=\"T_8d338_row0_col10\" class=\"data row0 col10\" >Auto</td>\n",
       "      <td id=\"T_8d338_row0_col11\" class=\"data row0 col11\" >1</td>\n",
       "      <td id=\"T_8d338_row0_col12\" class=\"data row0 col12\" >nan</td>\n",
       "    </tr>\n",
       "    <tr>\n",
       "      <th id=\"T_8d338_level0_row1\" class=\"row_heading level0 row1\" >14</th>\n",
       "      <td id=\"T_8d338_row1_col0\" class=\"data row1 col0\" >1003858</td>\n",
       "      <td id=\"T_8d338_row1_col1\" class=\"data row1 col1\" >Cano</td>\n",
       "      <td id=\"T_8d338_row1_col2\" class=\"data row1 col2\" >P00293742</td>\n",
       "      <td id=\"T_8d338_row1_col3\" class=\"data row1 col3\" >M</td>\n",
       "      <td id=\"T_8d338_row1_col4\" class=\"data row1 col4\" >46-50</td>\n",
       "      <td id=\"T_8d338_row1_col5\" class=\"data row1 col5\" >46</td>\n",
       "      <td id=\"T_8d338_row1_col6\" class=\"data row1 col6\" >1</td>\n",
       "      <td id=\"T_8d338_row1_col7\" class=\"data row1 col7\" >Madhya Pradesh</td>\n",
       "      <td id=\"T_8d338_row1_col8\" class=\"data row1 col8\" >Central</td>\n",
       "      <td id=\"T_8d338_row1_col9\" class=\"data row1 col9\" >Hospitality</td>\n",
       "      <td id=\"T_8d338_row1_col10\" class=\"data row1 col10\" >Auto</td>\n",
       "      <td id=\"T_8d338_row1_col11\" class=\"data row1 col11\" >3</td>\n",
       "      <td id=\"T_8d338_row1_col12\" class=\"data row1 col12\" >nan</td>\n",
       "    </tr>\n",
       "    <tr>\n",
       "      <th id=\"T_8d338_level0_row2\" class=\"row_heading level0 row2\" >16</th>\n",
       "      <td id=\"T_8d338_row2_col0\" class=\"data row2 col0\" >1005447</td>\n",
       "      <td id=\"T_8d338_row2_col1\" class=\"data row2 col1\" >Amy</td>\n",
       "      <td id=\"T_8d338_row2_col2\" class=\"data row2 col2\" >P00275642</td>\n",
       "      <td id=\"T_8d338_row2_col3\" class=\"data row2 col3\" >F</td>\n",
       "      <td id=\"T_8d338_row2_col4\" class=\"data row2 col4\" >46-50</td>\n",
       "      <td id=\"T_8d338_row2_col5\" class=\"data row2 col5\" >48</td>\n",
       "      <td id=\"T_8d338_row2_col6\" class=\"data row2 col6\" >1</td>\n",
       "      <td id=\"T_8d338_row2_col7\" class=\"data row2 col7\" >Andhra Pradesh</td>\n",
       "      <td id=\"T_8d338_row2_col8\" class=\"data row2 col8\" >Southern</td>\n",
       "      <td id=\"T_8d338_row2_col9\" class=\"data row2 col9\" >IT Sector</td>\n",
       "      <td id=\"T_8d338_row2_col10\" class=\"data row2 col10\" >Auto</td>\n",
       "      <td id=\"T_8d338_row2_col11\" class=\"data row2 col11\" >3</td>\n",
       "      <td id=\"T_8d338_row2_col12\" class=\"data row2 col12\" >nan</td>\n",
       "    </tr>\n",
       "    <tr>\n",
       "      <th id=\"T_8d338_level0_row3\" class=\"row_heading level0 row3\" >109</th>\n",
       "      <td id=\"T_8d338_row3_col0\" class=\"data row3 col0\" >1005265</td>\n",
       "      <td id=\"T_8d338_row3_col1\" class=\"data row3 col1\" >Sakshi</td>\n",
       "      <td id=\"T_8d338_row3_col2\" class=\"data row3 col2\" >P00296242</td>\n",
       "      <td id=\"T_8d338_row3_col3\" class=\"data row3 col3\" >F</td>\n",
       "      <td id=\"T_8d338_row3_col4\" class=\"data row3 col4\" >46-50</td>\n",
       "      <td id=\"T_8d338_row3_col5\" class=\"data row3 col5\" >48</td>\n",
       "      <td id=\"T_8d338_row3_col6\" class=\"data row3 col6\" >1</td>\n",
       "      <td id=\"T_8d338_row3_col7\" class=\"data row3 col7\" >Delhi</td>\n",
       "      <td id=\"T_8d338_row3_col8\" class=\"data row3 col8\" >Central</td>\n",
       "      <td id=\"T_8d338_row3_col9\" class=\"data row3 col9\" >Banking</td>\n",
       "      <td id=\"T_8d338_row3_col10\" class=\"data row3 col10\" >Footwear & Shoes</td>\n",
       "      <td id=\"T_8d338_row3_col11\" class=\"data row3 col11\" >1</td>\n",
       "      <td id=\"T_8d338_row3_col12\" class=\"data row3 col12\" >nan</td>\n",
       "    </tr>\n",
       "    <tr>\n",
       "      <th id=\"T_8d338_level0_row4\" class=\"row_heading level0 row4\" >111</th>\n",
       "      <td id=\"T_8d338_row4_col0\" class=\"data row4 col0\" >1005261</td>\n",
       "      <td id=\"T_8d338_row4_col1\" class=\"data row4 col1\" >Apoorva</td>\n",
       "      <td id=\"T_8d338_row4_col2\" class=\"data row4 col2\" >P00057942</td>\n",
       "      <td id=\"T_8d338_row4_col3\" class=\"data row4 col3\" >F</td>\n",
       "      <td id=\"T_8d338_row4_col4\" class=\"data row4 col4\" >36-45</td>\n",
       "      <td id=\"T_8d338_row4_col5\" class=\"data row4 col5\" >41</td>\n",
       "      <td id=\"T_8d338_row4_col6\" class=\"data row4 col6\" >1</td>\n",
       "      <td id=\"T_8d338_row4_col7\" class=\"data row4 col7\" >Delhi</td>\n",
       "      <td id=\"T_8d338_row4_col8\" class=\"data row4 col8\" >Central</td>\n",
       "      <td id=\"T_8d338_row4_col9\" class=\"data row4 col9\" >IT Sector</td>\n",
       "      <td id=\"T_8d338_row4_col10\" class=\"data row4 col10\" >Footwear & Shoes</td>\n",
       "      <td id=\"T_8d338_row4_col11\" class=\"data row4 col11\" >2</td>\n",
       "      <td id=\"T_8d338_row4_col12\" class=\"data row4 col12\" >nan</td>\n",
       "    </tr>\n",
       "    <tr>\n",
       "      <th id=\"T_8d338_level0_row5\" class=\"row_heading level0 row5\" >184</th>\n",
       "      <td id=\"T_8d338_row5_col0\" class=\"data row5 col0\" >1005538</td>\n",
       "      <td id=\"T_8d338_row5_col1\" class=\"data row5 col1\" >Kartik</td>\n",
       "      <td id=\"T_8d338_row5_col2\" class=\"data row5 col2\" >P00269542</td>\n",
       "      <td id=\"T_8d338_row5_col3\" class=\"data row5 col3\" >F</td>\n",
       "      <td id=\"T_8d338_row5_col4\" class=\"data row5 col4\" >46-50</td>\n",
       "      <td id=\"T_8d338_row5_col5\" class=\"data row5 col5\" >49</td>\n",
       "      <td id=\"T_8d338_row5_col6\" class=\"data row5 col6\" >1</td>\n",
       "      <td id=\"T_8d338_row5_col7\" class=\"data row5 col7\" >Karnataka</td>\n",
       "      <td id=\"T_8d338_row5_col8\" class=\"data row5 col8\" >Southern</td>\n",
       "      <td id=\"T_8d338_row5_col9\" class=\"data row5 col9\" >Banking</td>\n",
       "      <td id=\"T_8d338_row5_col10\" class=\"data row5 col10\" >Footwear & Shoes</td>\n",
       "      <td id=\"T_8d338_row5_col11\" class=\"data row5 col11\" >1</td>\n",
       "      <td id=\"T_8d338_row5_col12\" class=\"data row5 col12\" >nan</td>\n",
       "    </tr>\n",
       "    <tr>\n",
       "      <th id=\"T_8d338_level0_row6\" class=\"row_heading level0 row6\" >293</th>\n",
       "      <td id=\"T_8d338_row6_col0\" class=\"data row6 col0\" >1000326</td>\n",
       "      <td id=\"T_8d338_row6_col1\" class=\"data row6 col1\" >Jonathan</td>\n",
       "      <td id=\"T_8d338_row6_col2\" class=\"data row6 col2\" >P00120542</td>\n",
       "      <td id=\"T_8d338_row6_col3\" class=\"data row6 col3\" >M</td>\n",
       "      <td id=\"T_8d338_row6_col4\" class=\"data row6 col4\" >51-55</td>\n",
       "      <td id=\"T_8d338_row6_col5\" class=\"data row6 col5\" >53</td>\n",
       "      <td id=\"T_8d338_row6_col6\" class=\"data row6 col6\" >0</td>\n",
       "      <td id=\"T_8d338_row6_col7\" class=\"data row6 col7\" >Gujarat</td>\n",
       "      <td id=\"T_8d338_row6_col8\" class=\"data row6 col8\" >Western</td>\n",
       "      <td id=\"T_8d338_row6_col9\" class=\"data row6 col9\" >IT Sector</td>\n",
       "      <td id=\"T_8d338_row6_col10\" class=\"data row6 col10\" >Footwear & Shoes</td>\n",
       "      <td id=\"T_8d338_row6_col11\" class=\"data row6 col11\" >3</td>\n",
       "      <td id=\"T_8d338_row6_col12\" class=\"data row6 col12\" >nan</td>\n",
       "    </tr>\n",
       "    <tr>\n",
       "      <th id=\"T_8d338_level0_row7\" class=\"row_heading level0 row7\" >344</th>\n",
       "      <td id=\"T_8d338_row7_col0\" class=\"data row7 col0\" >1002507</td>\n",
       "      <td id=\"T_8d338_row7_col1\" class=\"data row7 col1\" >Lakshmi</td>\n",
       "      <td id=\"T_8d338_row7_col2\" class=\"data row7 col2\" >P00045842</td>\n",
       "      <td id=\"T_8d338_row7_col3\" class=\"data row7 col3\" >F</td>\n",
       "      <td id=\"T_8d338_row7_col4\" class=\"data row7 col4\" >26-35</td>\n",
       "      <td id=\"T_8d338_row7_col5\" class=\"data row7 col5\" >35</td>\n",
       "      <td id=\"T_8d338_row7_col6\" class=\"data row7 col6\" >1</td>\n",
       "      <td id=\"T_8d338_row7_col7\" class=\"data row7 col7\" >Gujarat</td>\n",
       "      <td id=\"T_8d338_row7_col8\" class=\"data row7 col8\" >Western</td>\n",
       "      <td id=\"T_8d338_row7_col9\" class=\"data row7 col9\" >Chemical</td>\n",
       "      <td id=\"T_8d338_row7_col10\" class=\"data row7 col10\" >Furniture</td>\n",
       "      <td id=\"T_8d338_row7_col11\" class=\"data row7 col11\" >1</td>\n",
       "      <td id=\"T_8d338_row7_col12\" class=\"data row7 col12\" >nan</td>\n",
       "    </tr>\n",
       "    <tr>\n",
       "      <th id=\"T_8d338_level0_row8\" class=\"row_heading level0 row8\" >345</th>\n",
       "      <td id=\"T_8d338_row8_col0\" class=\"data row8 col0\" >1004498</td>\n",
       "      <td id=\"T_8d338_row8_col1\" class=\"data row8 col1\" >Srishti</td>\n",
       "      <td id=\"T_8d338_row8_col2\" class=\"data row8 col2\" >P00030842</td>\n",
       "      <td id=\"T_8d338_row8_col3\" class=\"data row8 col3\" >F</td>\n",
       "      <td id=\"T_8d338_row8_col4\" class=\"data row8 col4\" >51-55</td>\n",
       "      <td id=\"T_8d338_row8_col5\" class=\"data row8 col5\" >55</td>\n",
       "      <td id=\"T_8d338_row8_col6\" class=\"data row8 col6\" >0</td>\n",
       "      <td id=\"T_8d338_row8_col7\" class=\"data row8 col7\" >Delhi</td>\n",
       "      <td id=\"T_8d338_row8_col8\" class=\"data row8 col8\" >Central</td>\n",
       "      <td id=\"T_8d338_row8_col9\" class=\"data row8 col9\" >Textile</td>\n",
       "      <td id=\"T_8d338_row8_col10\" class=\"data row8 col10\" >Footwear & Shoes</td>\n",
       "      <td id=\"T_8d338_row8_col11\" class=\"data row8 col11\" >1</td>\n",
       "      <td id=\"T_8d338_row8_col12\" class=\"data row8 col12\" >nan</td>\n",
       "    </tr>\n",
       "    <tr>\n",
       "      <th id=\"T_8d338_level0_row9\" class=\"row_heading level0 row9\" >452</th>\n",
       "      <td id=\"T_8d338_row9_col0\" class=\"data row9 col0\" >1004601</td>\n",
       "      <td id=\"T_8d338_row9_col1\" class=\"data row9 col1\" >Gaurav</td>\n",
       "      <td id=\"T_8d338_row9_col2\" class=\"data row9 col2\" >P00014442</td>\n",
       "      <td id=\"T_8d338_row9_col3\" class=\"data row9 col3\" >F</td>\n",
       "      <td id=\"T_8d338_row9_col4\" class=\"data row9 col4\" >36-45</td>\n",
       "      <td id=\"T_8d338_row9_col5\" class=\"data row9 col5\" >40</td>\n",
       "      <td id=\"T_8d338_row9_col6\" class=\"data row9 col6\" >1</td>\n",
       "      <td id=\"T_8d338_row9_col7\" class=\"data row9 col7\" >Madhya Pradesh</td>\n",
       "      <td id=\"T_8d338_row9_col8\" class=\"data row9 col8\" >Central</td>\n",
       "      <td id=\"T_8d338_row9_col9\" class=\"data row9 col9\" >Hospitality</td>\n",
       "      <td id=\"T_8d338_row9_col10\" class=\"data row9 col10\" >Food</td>\n",
       "      <td id=\"T_8d338_row9_col11\" class=\"data row9 col11\" >4</td>\n",
       "      <td id=\"T_8d338_row9_col12\" class=\"data row9 col12\" >nan</td>\n",
       "    </tr>\n",
       "    <tr>\n",
       "      <th id=\"T_8d338_level0_row10\" class=\"row_heading level0 row10\" >464</th>\n",
       "      <td id=\"T_8d338_row10_col0\" class=\"data row10 col0\" >1004528</td>\n",
       "      <td id=\"T_8d338_row10_col1\" class=\"data row10 col1\" >Anurag</td>\n",
       "      <td id=\"T_8d338_row10_col2\" class=\"data row10 col2\" >P00338442</td>\n",
       "      <td id=\"T_8d338_row10_col3\" class=\"data row10 col3\" >F</td>\n",
       "      <td id=\"T_8d338_row10_col4\" class=\"data row10 col4\" >26-35</td>\n",
       "      <td id=\"T_8d338_row10_col5\" class=\"data row10 col5\" >33</td>\n",
       "      <td id=\"T_8d338_row10_col6\" class=\"data row10 col6\" >1</td>\n",
       "      <td id=\"T_8d338_row10_col7\" class=\"data row10 col7\" >Uttar Pradesh</td>\n",
       "      <td id=\"T_8d338_row10_col8\" class=\"data row10 col8\" >Central</td>\n",
       "      <td id=\"T_8d338_row10_col9\" class=\"data row10 col9\" >Automobile</td>\n",
       "      <td id=\"T_8d338_row10_col10\" class=\"data row10 col10\" >Food</td>\n",
       "      <td id=\"T_8d338_row10_col11\" class=\"data row10 col11\" >2</td>\n",
       "      <td id=\"T_8d338_row10_col12\" class=\"data row10 col12\" >nan</td>\n",
       "    </tr>\n",
       "    <tr>\n",
       "      <th id=\"T_8d338_level0_row11\" class=\"row_heading level0 row11\" >493</th>\n",
       "      <td id=\"T_8d338_row11_col0\" class=\"data row11 col0\" >1002994</td>\n",
       "      <td id=\"T_8d338_row11_col1\" class=\"data row11 col1\" >Hemant</td>\n",
       "      <td id=\"T_8d338_row11_col2\" class=\"data row11 col2\" >P0009942</td>\n",
       "      <td id=\"T_8d338_row11_col3\" class=\"data row11 col3\" >F</td>\n",
       "      <td id=\"T_8d338_row11_col4\" class=\"data row11 col4\" >36-45</td>\n",
       "      <td id=\"T_8d338_row11_col5\" class=\"data row11 col5\" >38</td>\n",
       "      <td id=\"T_8d338_row11_col6\" class=\"data row11 col6\" >0</td>\n",
       "      <td id=\"T_8d338_row11_col7\" class=\"data row11 col7\" >Uttar Pradesh</td>\n",
       "      <td id=\"T_8d338_row11_col8\" class=\"data row11 col8\" >Central</td>\n",
       "      <td id=\"T_8d338_row11_col9\" class=\"data row11 col9\" >IT Sector</td>\n",
       "      <td id=\"T_8d338_row11_col10\" class=\"data row11 col10\" >Food</td>\n",
       "      <td id=\"T_8d338_row11_col11\" class=\"data row11 col11\" >4</td>\n",
       "      <td id=\"T_8d338_row11_col12\" class=\"data row11 col12\" >nan</td>\n",
       "    </tr>\n",
       "  </tbody>\n",
       "</table>\n"
      ],
      "text/plain": [
       "<pandas.io.formats.style.Styler at 0x789af3069090>"
      ]
     },
     "execution_count": 17,
     "metadata": {},
     "output_type": "execute_result"
    }
   ],
   "source": [
    "df_na=df[df.isna().any(axis=1)]\n",
    "df_na.style.set_caption(\"Records with missing values\").set_properties(**{\"border\" : \"1px solid\"}).highlight_null('red').set_table_styles([headers, caption])"
   ]
  },
  {
   "cell_type": "markdown",
   "id": "81ecc118",
   "metadata": {
    "papermill": {
     "duration": 0.042152,
     "end_time": "2023-10-31T05:07:43.189792",
     "exception": false,
     "start_time": "2023-10-31T05:07:43.147640",
     "status": "completed"
    },
    "tags": []
   },
   "source": [
    "Removing records with missing values"
   ]
  },
  {
   "cell_type": "code",
   "execution_count": 18,
   "id": "008165cf",
   "metadata": {
    "execution": {
     "iopub.execute_input": "2023-10-31T05:07:43.277050Z",
     "iopub.status.busy": "2023-10-31T05:07:43.276672Z",
     "iopub.status.idle": "2023-10-31T05:07:43.300858Z",
     "shell.execute_reply": "2023-10-31T05:07:43.299548Z"
    },
    "papermill": {
     "duration": 0.072519,
     "end_time": "2023-10-31T05:07:43.303734",
     "exception": false,
     "start_time": "2023-10-31T05:07:43.231215",
     "status": "completed"
    },
    "tags": []
   },
   "outputs": [],
   "source": [
    "df.dropna(inplace=True)"
   ]
  },
  {
   "cell_type": "code",
   "execution_count": 19,
   "id": "7aa4ff66",
   "metadata": {
    "execution": {
     "iopub.execute_input": "2023-10-31T05:07:43.388655Z",
     "iopub.status.busy": "2023-10-31T05:07:43.388224Z",
     "iopub.status.idle": "2023-10-31T05:07:43.411286Z",
     "shell.execute_reply": "2023-10-31T05:07:43.410011Z"
    },
    "papermill": {
     "duration": 0.067969,
     "end_time": "2023-10-31T05:07:43.413620",
     "exception": false,
     "start_time": "2023-10-31T05:07:43.345651",
     "status": "completed"
    },
    "tags": []
   },
   "outputs": [
    {
     "data": {
      "text/plain": [
       "user_id             0\n",
       "cust_name           0\n",
       "product_id          0\n",
       "gender              0\n",
       "age_group           0\n",
       "age                 0\n",
       "marital_status      0\n",
       "state               0\n",
       "zone                0\n",
       "occupation          0\n",
       "product_category    0\n",
       "orders              0\n",
       "amount              0\n",
       "dtype: int64"
      ]
     },
     "execution_count": 19,
     "metadata": {},
     "output_type": "execute_result"
    }
   ],
   "source": [
    "df.isnull().sum()"
   ]
  },
  {
   "cell_type": "markdown",
   "id": "f1160739",
   "metadata": {
    "papermill": {
     "duration": 0.041087,
     "end_time": "2023-10-31T05:07:43.496145",
     "exception": false,
     "start_time": "2023-10-31T05:07:43.455058",
     "status": "completed"
    },
    "tags": []
   },
   "source": [
    "- 'Status' and 'unnamed1' have been removed as they were empy columns.\n",
    "- Columns have been renamed in the appropriate format (converted to lowercase, spaces replaced with '_').\n",
    "- The data types of 'user_id', 'marital_status', and 'orders' have been converted to 'string' for convenience.\n",
    "- Since there were very few records with missing values, they were removed."
   ]
  },
  {
   "cell_type": "markdown",
   "id": "2c203ba0",
   "metadata": {
    "papermill": {
     "duration": 0.040742,
     "end_time": "2023-10-31T05:07:43.578754",
     "exception": false,
     "start_time": "2023-10-31T05:07:43.538012",
     "status": "completed"
    },
    "tags": []
   },
   "source": [
    "## Exploratory data analysis and visualization"
   ]
  },
  {
   "cell_type": "markdown",
   "id": "6967c546",
   "metadata": {
    "papermill": {
     "duration": 0.042843,
     "end_time": "2023-10-31T05:07:43.665017",
     "exception": false,
     "start_time": "2023-10-31T05:07:43.622174",
     "status": "completed"
    },
    "tags": []
   },
   "source": [
    "### Univariate analysis"
   ]
  },
  {
   "cell_type": "markdown",
   "id": "4b192b5c",
   "metadata": {
    "papermill": {
     "duration": 0.041093,
     "end_time": "2023-10-31T05:07:43.748922",
     "exception": false,
     "start_time": "2023-10-31T05:07:43.707829",
     "status": "completed"
    },
    "tags": []
   },
   "source": [
    "#### product_id"
   ]
  },
  {
   "cell_type": "markdown",
   "id": "65ccce36",
   "metadata": {
    "papermill": {
     "duration": 0.041008,
     "end_time": "2023-10-31T05:07:43.831992",
     "exception": false,
     "start_time": "2023-10-31T05:07:43.790984",
     "status": "completed"
    },
    "tags": []
   },
   "source": [
    "Looking at the number of different products"
   ]
  },
  {
   "cell_type": "code",
   "execution_count": 20,
   "id": "e5c1bd0b",
   "metadata": {
    "execution": {
     "iopub.execute_input": "2023-10-31T05:07:43.919827Z",
     "iopub.status.busy": "2023-10-31T05:07:43.918904Z",
     "iopub.status.idle": "2023-10-31T05:07:43.928057Z",
     "shell.execute_reply": "2023-10-31T05:07:43.926921Z"
    },
    "papermill": {
     "duration": 0.056095,
     "end_time": "2023-10-31T05:07:43.930291",
     "exception": false,
     "start_time": "2023-10-31T05:07:43.874196",
     "status": "completed"
    },
    "tags": []
   },
   "outputs": [
    {
     "data": {
      "text/plain": [
       "2350"
      ]
     },
     "execution_count": 20,
     "metadata": {},
     "output_type": "execute_result"
    }
   ],
   "source": [
    "df['product_id'].nunique()"
   ]
  },
  {
   "cell_type": "markdown",
   "id": "d1ce5755",
   "metadata": {
    "papermill": {
     "duration": 0.042384,
     "end_time": "2023-10-31T05:07:44.015751",
     "exception": false,
     "start_time": "2023-10-31T05:07:43.973367",
     "status": "completed"
    },
    "tags": []
   },
   "source": [
    "Plotting the top 10 most ordered products"
   ]
  },
  {
   "cell_type": "code",
   "execution_count": 21,
   "id": "22084f31",
   "metadata": {
    "execution": {
     "iopub.execute_input": "2023-10-31T05:07:44.103151Z",
     "iopub.status.busy": "2023-10-31T05:07:44.102477Z",
     "iopub.status.idle": "2023-10-31T05:07:46.434373Z",
     "shell.execute_reply": "2023-10-31T05:07:46.433398Z"
    },
    "papermill": {
     "duration": 2.377787,
     "end_time": "2023-10-31T05:07:46.437076",
     "exception": false,
     "start_time": "2023-10-31T05:07:44.059289",
     "status": "completed"
    },
    "tags": []
   },
   "outputs": [
    {
     "data": {
      "text/html": [
       "        <script type=\"text/javascript\">\n",
       "        window.PlotlyConfig = {MathJaxConfig: 'local'};\n",
       "        if (window.MathJax && window.MathJax.Hub && window.MathJax.Hub.Config) {window.MathJax.Hub.Config({SVG: {font: \"STIX-Web\"}});}\n",
       "        if (typeof require !== 'undefined') {\n",
       "        require.undef(\"plotly\");\n",
       "        requirejs.config({\n",
       "            paths: {\n",
       "                'plotly': ['https://cdn.plot.ly/plotly-2.24.1.min']\n",
       "            }\n",
       "        });\n",
       "        require(['plotly'], function(Plotly) {\n",
       "            window._Plotly = Plotly;\n",
       "        });\n",
       "        }\n",
       "        </script>\n",
       "        "
      ]
     },
     "metadata": {},
     "output_type": "display_data"
    },
    {
     "data": {
      "text/html": [
       "<div>                            <div id=\"0b32f8e0-65c5-4e88-8eb8-1837c64b7b17\" class=\"plotly-graph-div\" style=\"height:500px; width:800px;\"></div>            <script type=\"text/javascript\">                require([\"plotly\"], function(Plotly) {                    window.PLOTLYENV=window.PLOTLYENV || {};                                    if (document.getElementById(\"0b32f8e0-65c5-4e88-8eb8-1837c64b7b17\")) {                    Plotly.newPlot(                        \"0b32f8e0-65c5-4e88-8eb8-1837c64b7b17\",                        [{\"alignmentgroup\":\"True\",\"hovertemplate\":\"product_id=%{x}\\u003cbr\\u003ecounts=%{y}\\u003cextra\\u003e\\u003c\\u002fextra\\u003e\",\"legendgroup\":\"P00265242\",\"marker\":{\"color\":\"#636efa\",\"pattern\":{\"shape\":\"\"}},\"name\":\"P00265242\",\"offsetgroup\":\"P00265242\",\"orientation\":\"v\",\"showlegend\":true,\"textposition\":\"auto\",\"texttemplate\":\"%{y}\",\"x\":[\"P00265242\"],\"xaxis\":\"x\",\"y\":[53],\"yaxis\":\"y\",\"type\":\"bar\"},{\"alignmentgroup\":\"True\",\"hovertemplate\":\"product_id=%{x}\\u003cbr\\u003ecounts=%{y}\\u003cextra\\u003e\\u003c\\u002fextra\\u003e\",\"legendgroup\":\"P00110942\",\"marker\":{\"color\":\"#EF553B\",\"pattern\":{\"shape\":\"\"}},\"name\":\"P00110942\",\"offsetgroup\":\"P00110942\",\"orientation\":\"v\",\"showlegend\":true,\"textposition\":\"auto\",\"texttemplate\":\"%{y}\",\"x\":[\"P00110942\"],\"xaxis\":\"x\",\"y\":[44],\"yaxis\":\"y\",\"type\":\"bar\"},{\"alignmentgroup\":\"True\",\"hovertemplate\":\"product_id=%{x}\\u003cbr\\u003ecounts=%{y}\\u003cextra\\u003e\\u003c\\u002fextra\\u003e\",\"legendgroup\":\"P00184942\",\"marker\":{\"color\":\"#00cc96\",\"pattern\":{\"shape\":\"\"}},\"name\":\"P00184942\",\"offsetgroup\":\"P00184942\",\"orientation\":\"v\",\"showlegend\":true,\"textposition\":\"auto\",\"texttemplate\":\"%{y}\",\"x\":[\"P00184942\"],\"xaxis\":\"x\",\"y\":[37],\"yaxis\":\"y\",\"type\":\"bar\"},{\"alignmentgroup\":\"True\",\"hovertemplate\":\"product_id=%{x}\\u003cbr\\u003ecounts=%{y}\\u003cextra\\u003e\\u003c\\u002fextra\\u003e\",\"legendgroup\":\"P00237542\",\"marker\":{\"color\":\"#ab63fa\",\"pattern\":{\"shape\":\"\"}},\"name\":\"P00237542\",\"offsetgroup\":\"P00237542\",\"orientation\":\"v\",\"showlegend\":true,\"textposition\":\"auto\",\"texttemplate\":\"%{y}\",\"x\":[\"P00237542\"],\"xaxis\":\"x\",\"y\":[35],\"yaxis\":\"y\",\"type\":\"bar\"},{\"alignmentgroup\":\"True\",\"hovertemplate\":\"product_id=%{x}\\u003cbr\\u003ecounts=%{y}\\u003cextra\\u003e\\u003c\\u002fextra\\u003e\",\"legendgroup\":\"P00112142\",\"marker\":{\"color\":\"#FFA15A\",\"pattern\":{\"shape\":\"\"}},\"name\":\"P00112142\",\"offsetgroup\":\"P00112142\",\"orientation\":\"v\",\"showlegend\":true,\"textposition\":\"auto\",\"texttemplate\":\"%{y}\",\"x\":[\"P00112142\"],\"xaxis\":\"x\",\"y\":[34],\"yaxis\":\"y\",\"type\":\"bar\"},{\"alignmentgroup\":\"True\",\"hovertemplate\":\"product_id=%{x}\\u003cbr\\u003ecounts=%{y}\\u003cextra\\u003e\\u003c\\u002fextra\\u003e\",\"legendgroup\":\"P00114942\",\"marker\":{\"color\":\"#19d3f3\",\"pattern\":{\"shape\":\"\"}},\"name\":\"P00114942\",\"offsetgroup\":\"P00114942\",\"orientation\":\"v\",\"showlegend\":true,\"textposition\":\"auto\",\"texttemplate\":\"%{y}\",\"x\":[\"P00114942\"],\"xaxis\":\"x\",\"y\":[33],\"yaxis\":\"y\",\"type\":\"bar\"},{\"alignmentgroup\":\"True\",\"hovertemplate\":\"product_id=%{x}\\u003cbr\\u003ecounts=%{y}\\u003cextra\\u003e\\u003c\\u002fextra\\u003e\",\"legendgroup\":\"P00110742\",\"marker\":{\"color\":\"#FF6692\",\"pattern\":{\"shape\":\"\"}},\"name\":\"P00110742\",\"offsetgroup\":\"P00110742\",\"orientation\":\"v\",\"showlegend\":true,\"textposition\":\"auto\",\"texttemplate\":\"%{y}\",\"x\":[\"P00110742\"],\"xaxis\":\"x\",\"y\":[32],\"yaxis\":\"y\",\"type\":\"bar\"},{\"alignmentgroup\":\"True\",\"hovertemplate\":\"product_id=%{x}\\u003cbr\\u003ecounts=%{y}\\u003cextra\\u003e\\u003c\\u002fextra\\u003e\",\"legendgroup\":\"P00110842\",\"marker\":{\"color\":\"#B6E880\",\"pattern\":{\"shape\":\"\"}},\"name\":\"P00110842\",\"offsetgroup\":\"P00110842\",\"orientation\":\"v\",\"showlegend\":true,\"textposition\":\"auto\",\"texttemplate\":\"%{y}\",\"x\":[\"P00110842\"],\"xaxis\":\"x\",\"y\":[30],\"yaxis\":\"y\",\"type\":\"bar\"},{\"alignmentgroup\":\"True\",\"hovertemplate\":\"product_id=%{x}\\u003cbr\\u003ecounts=%{y}\\u003cextra\\u003e\\u003c\\u002fextra\\u003e\",\"legendgroup\":\"P00112542\",\"marker\":{\"color\":\"#FF97FF\",\"pattern\":{\"shape\":\"\"}},\"name\":\"P00112542\",\"offsetgroup\":\"P00112542\",\"orientation\":\"v\",\"showlegend\":true,\"textposition\":\"auto\",\"texttemplate\":\"%{y}\",\"x\":[\"P00112542\"],\"xaxis\":\"x\",\"y\":[30],\"yaxis\":\"y\",\"type\":\"bar\"},{\"alignmentgroup\":\"True\",\"hovertemplate\":\"product_id=%{x}\\u003cbr\\u003ecounts=%{y}\\u003cextra\\u003e\\u003c\\u002fextra\\u003e\",\"legendgroup\":\"P00145042\",\"marker\":{\"color\":\"#FECB52\",\"pattern\":{\"shape\":\"\"}},\"name\":\"P00145042\",\"offsetgroup\":\"P00145042\",\"orientation\":\"v\",\"showlegend\":true,\"textposition\":\"auto\",\"texttemplate\":\"%{y}\",\"x\":[\"P00145042\"],\"xaxis\":\"x\",\"y\":[30],\"yaxis\":\"y\",\"type\":\"bar\"}],                        {\"template\":{\"data\":{\"histogram2dcontour\":[{\"type\":\"histogram2dcontour\",\"colorbar\":{\"outlinewidth\":0,\"ticks\":\"\"},\"colorscale\":[[0.0,\"#0d0887\"],[0.1111111111111111,\"#46039f\"],[0.2222222222222222,\"#7201a8\"],[0.3333333333333333,\"#9c179e\"],[0.4444444444444444,\"#bd3786\"],[0.5555555555555556,\"#d8576b\"],[0.6666666666666666,\"#ed7953\"],[0.7777777777777778,\"#fb9f3a\"],[0.8888888888888888,\"#fdca26\"],[1.0,\"#f0f921\"]]}],\"choropleth\":[{\"type\":\"choropleth\",\"colorbar\":{\"outlinewidth\":0,\"ticks\":\"\"}}],\"histogram2d\":[{\"type\":\"histogram2d\",\"colorbar\":{\"outlinewidth\":0,\"ticks\":\"\"},\"colorscale\":[[0.0,\"#0d0887\"],[0.1111111111111111,\"#46039f\"],[0.2222222222222222,\"#7201a8\"],[0.3333333333333333,\"#9c179e\"],[0.4444444444444444,\"#bd3786\"],[0.5555555555555556,\"#d8576b\"],[0.6666666666666666,\"#ed7953\"],[0.7777777777777778,\"#fb9f3a\"],[0.8888888888888888,\"#fdca26\"],[1.0,\"#f0f921\"]]}],\"heatmap\":[{\"type\":\"heatmap\",\"colorbar\":{\"outlinewidth\":0,\"ticks\":\"\"},\"colorscale\":[[0.0,\"#0d0887\"],[0.1111111111111111,\"#46039f\"],[0.2222222222222222,\"#7201a8\"],[0.3333333333333333,\"#9c179e\"],[0.4444444444444444,\"#bd3786\"],[0.5555555555555556,\"#d8576b\"],[0.6666666666666666,\"#ed7953\"],[0.7777777777777778,\"#fb9f3a\"],[0.8888888888888888,\"#fdca26\"],[1.0,\"#f0f921\"]]}],\"heatmapgl\":[{\"type\":\"heatmapgl\",\"colorbar\":{\"outlinewidth\":0,\"ticks\":\"\"},\"colorscale\":[[0.0,\"#0d0887\"],[0.1111111111111111,\"#46039f\"],[0.2222222222222222,\"#7201a8\"],[0.3333333333333333,\"#9c179e\"],[0.4444444444444444,\"#bd3786\"],[0.5555555555555556,\"#d8576b\"],[0.6666666666666666,\"#ed7953\"],[0.7777777777777778,\"#fb9f3a\"],[0.8888888888888888,\"#fdca26\"],[1.0,\"#f0f921\"]]}],\"contourcarpet\":[{\"type\":\"contourcarpet\",\"colorbar\":{\"outlinewidth\":0,\"ticks\":\"\"}}],\"contour\":[{\"type\":\"contour\",\"colorbar\":{\"outlinewidth\":0,\"ticks\":\"\"},\"colorscale\":[[0.0,\"#0d0887\"],[0.1111111111111111,\"#46039f\"],[0.2222222222222222,\"#7201a8\"],[0.3333333333333333,\"#9c179e\"],[0.4444444444444444,\"#bd3786\"],[0.5555555555555556,\"#d8576b\"],[0.6666666666666666,\"#ed7953\"],[0.7777777777777778,\"#fb9f3a\"],[0.8888888888888888,\"#fdca26\"],[1.0,\"#f0f921\"]]}],\"surface\":[{\"type\":\"surface\",\"colorbar\":{\"outlinewidth\":0,\"ticks\":\"\"},\"colorscale\":[[0.0,\"#0d0887\"],[0.1111111111111111,\"#46039f\"],[0.2222222222222222,\"#7201a8\"],[0.3333333333333333,\"#9c179e\"],[0.4444444444444444,\"#bd3786\"],[0.5555555555555556,\"#d8576b\"],[0.6666666666666666,\"#ed7953\"],[0.7777777777777778,\"#fb9f3a\"],[0.8888888888888888,\"#fdca26\"],[1.0,\"#f0f921\"]]}],\"mesh3d\":[{\"type\":\"mesh3d\",\"colorbar\":{\"outlinewidth\":0,\"ticks\":\"\"}}],\"scatter\":[{\"fillpattern\":{\"fillmode\":\"overlay\",\"size\":10,\"solidity\":0.2},\"type\":\"scatter\"}],\"parcoords\":[{\"type\":\"parcoords\",\"line\":{\"colorbar\":{\"outlinewidth\":0,\"ticks\":\"\"}}}],\"scatterpolargl\":[{\"type\":\"scatterpolargl\",\"marker\":{\"colorbar\":{\"outlinewidth\":0,\"ticks\":\"\"}}}],\"bar\":[{\"error_x\":{\"color\":\"#2a3f5f\"},\"error_y\":{\"color\":\"#2a3f5f\"},\"marker\":{\"line\":{\"color\":\"#E5ECF6\",\"width\":0.5},\"pattern\":{\"fillmode\":\"overlay\",\"size\":10,\"solidity\":0.2}},\"type\":\"bar\"}],\"scattergeo\":[{\"type\":\"scattergeo\",\"marker\":{\"colorbar\":{\"outlinewidth\":0,\"ticks\":\"\"}}}],\"scatterpolar\":[{\"type\":\"scatterpolar\",\"marker\":{\"colorbar\":{\"outlinewidth\":0,\"ticks\":\"\"}}}],\"histogram\":[{\"marker\":{\"pattern\":{\"fillmode\":\"overlay\",\"size\":10,\"solidity\":0.2}},\"type\":\"histogram\"}],\"scattergl\":[{\"type\":\"scattergl\",\"marker\":{\"colorbar\":{\"outlinewidth\":0,\"ticks\":\"\"}}}],\"scatter3d\":[{\"type\":\"scatter3d\",\"line\":{\"colorbar\":{\"outlinewidth\":0,\"ticks\":\"\"}},\"marker\":{\"colorbar\":{\"outlinewidth\":0,\"ticks\":\"\"}}}],\"scattermapbox\":[{\"type\":\"scattermapbox\",\"marker\":{\"colorbar\":{\"outlinewidth\":0,\"ticks\":\"\"}}}],\"scatterternary\":[{\"type\":\"scatterternary\",\"marker\":{\"colorbar\":{\"outlinewidth\":0,\"ticks\":\"\"}}}],\"scattercarpet\":[{\"type\":\"scattercarpet\",\"marker\":{\"colorbar\":{\"outlinewidth\":0,\"ticks\":\"\"}}}],\"carpet\":[{\"aaxis\":{\"endlinecolor\":\"#2a3f5f\",\"gridcolor\":\"white\",\"linecolor\":\"white\",\"minorgridcolor\":\"white\",\"startlinecolor\":\"#2a3f5f\"},\"baxis\":{\"endlinecolor\":\"#2a3f5f\",\"gridcolor\":\"white\",\"linecolor\":\"white\",\"minorgridcolor\":\"white\",\"startlinecolor\":\"#2a3f5f\"},\"type\":\"carpet\"}],\"table\":[{\"cells\":{\"fill\":{\"color\":\"#EBF0F8\"},\"line\":{\"color\":\"white\"}},\"header\":{\"fill\":{\"color\":\"#C8D4E3\"},\"line\":{\"color\":\"white\"}},\"type\":\"table\"}],\"barpolar\":[{\"marker\":{\"line\":{\"color\":\"#E5ECF6\",\"width\":0.5},\"pattern\":{\"fillmode\":\"overlay\",\"size\":10,\"solidity\":0.2}},\"type\":\"barpolar\"}],\"pie\":[{\"automargin\":true,\"type\":\"pie\"}]},\"layout\":{\"autotypenumbers\":\"strict\",\"colorway\":[\"#636efa\",\"#EF553B\",\"#00cc96\",\"#ab63fa\",\"#FFA15A\",\"#19d3f3\",\"#FF6692\",\"#B6E880\",\"#FF97FF\",\"#FECB52\"],\"font\":{\"color\":\"#2a3f5f\"},\"hovermode\":\"closest\",\"hoverlabel\":{\"align\":\"left\"},\"paper_bgcolor\":\"white\",\"plot_bgcolor\":\"#E5ECF6\",\"polar\":{\"bgcolor\":\"#E5ECF6\",\"angularaxis\":{\"gridcolor\":\"white\",\"linecolor\":\"white\",\"ticks\":\"\"},\"radialaxis\":{\"gridcolor\":\"white\",\"linecolor\":\"white\",\"ticks\":\"\"}},\"ternary\":{\"bgcolor\":\"#E5ECF6\",\"aaxis\":{\"gridcolor\":\"white\",\"linecolor\":\"white\",\"ticks\":\"\"},\"baxis\":{\"gridcolor\":\"white\",\"linecolor\":\"white\",\"ticks\":\"\"},\"caxis\":{\"gridcolor\":\"white\",\"linecolor\":\"white\",\"ticks\":\"\"}},\"coloraxis\":{\"colorbar\":{\"outlinewidth\":0,\"ticks\":\"\"}},\"colorscale\":{\"sequential\":[[0.0,\"#0d0887\"],[0.1111111111111111,\"#46039f\"],[0.2222222222222222,\"#7201a8\"],[0.3333333333333333,\"#9c179e\"],[0.4444444444444444,\"#bd3786\"],[0.5555555555555556,\"#d8576b\"],[0.6666666666666666,\"#ed7953\"],[0.7777777777777778,\"#fb9f3a\"],[0.8888888888888888,\"#fdca26\"],[1.0,\"#f0f921\"]],\"sequentialminus\":[[0.0,\"#0d0887\"],[0.1111111111111111,\"#46039f\"],[0.2222222222222222,\"#7201a8\"],[0.3333333333333333,\"#9c179e\"],[0.4444444444444444,\"#bd3786\"],[0.5555555555555556,\"#d8576b\"],[0.6666666666666666,\"#ed7953\"],[0.7777777777777778,\"#fb9f3a\"],[0.8888888888888888,\"#fdca26\"],[1.0,\"#f0f921\"]],\"diverging\":[[0,\"#8e0152\"],[0.1,\"#c51b7d\"],[0.2,\"#de77ae\"],[0.3,\"#f1b6da\"],[0.4,\"#fde0ef\"],[0.5,\"#f7f7f7\"],[0.6,\"#e6f5d0\"],[0.7,\"#b8e186\"],[0.8,\"#7fbc41\"],[0.9,\"#4d9221\"],[1,\"#276419\"]]},\"xaxis\":{\"gridcolor\":\"white\",\"linecolor\":\"white\",\"ticks\":\"\",\"title\":{\"standoff\":15},\"zerolinecolor\":\"white\",\"automargin\":true,\"zerolinewidth\":2},\"yaxis\":{\"gridcolor\":\"white\",\"linecolor\":\"white\",\"ticks\":\"\",\"title\":{\"standoff\":15},\"zerolinecolor\":\"white\",\"automargin\":true,\"zerolinewidth\":2},\"scene\":{\"xaxis\":{\"backgroundcolor\":\"#E5ECF6\",\"gridcolor\":\"white\",\"linecolor\":\"white\",\"showbackground\":true,\"ticks\":\"\",\"zerolinecolor\":\"white\",\"gridwidth\":2},\"yaxis\":{\"backgroundcolor\":\"#E5ECF6\",\"gridcolor\":\"white\",\"linecolor\":\"white\",\"showbackground\":true,\"ticks\":\"\",\"zerolinecolor\":\"white\",\"gridwidth\":2},\"zaxis\":{\"backgroundcolor\":\"#E5ECF6\",\"gridcolor\":\"white\",\"linecolor\":\"white\",\"showbackground\":true,\"ticks\":\"\",\"zerolinecolor\":\"white\",\"gridwidth\":2}},\"shapedefaults\":{\"line\":{\"color\":\"#2a3f5f\"}},\"annotationdefaults\":{\"arrowcolor\":\"#2a3f5f\",\"arrowhead\":0,\"arrowwidth\":1},\"geo\":{\"bgcolor\":\"white\",\"landcolor\":\"#E5ECF6\",\"subunitcolor\":\"white\",\"showland\":true,\"showlakes\":true,\"lakecolor\":\"white\"},\"title\":{\"x\":0.05},\"mapbox\":{\"style\":\"light\"}}},\"xaxis\":{\"anchor\":\"y\",\"domain\":[0.0,1.0],\"title\":{\"text\":\"Product IDs\"},\"categoryorder\":\"array\",\"categoryarray\":[\"P00265242\",\"P00110942\",\"P00184942\",\"P00237542\",\"P00112142\",\"P00114942\",\"P00110742\",\"P00110842\",\"P00112542\",\"P00145042\"],\"tickangle\":35},\"yaxis\":{\"anchor\":\"x\",\"domain\":[0.0,1.0],\"title\":{\"text\":\"Number of orders\"}},\"legend\":{\"title\":{\"text\":\"product_id\"},\"tracegroupgap\":0},\"margin\":{\"t\":60},\"barmode\":\"relative\",\"title\":{\"text\":\"Top 10 most ordered products\"},\"height\":500,\"width\":800,\"showlegend\":false},                        {\"responsive\": true}                    ).then(function(){\n",
       "                            \n",
       "var gd = document.getElementById('0b32f8e0-65c5-4e88-8eb8-1837c64b7b17');\n",
       "var x = new MutationObserver(function (mutations, observer) {{\n",
       "        var display = window.getComputedStyle(gd).display;\n",
       "        if (!display || display === 'none') {{\n",
       "            console.log([gd, 'removed!']);\n",
       "            Plotly.purge(gd);\n",
       "            observer.disconnect();\n",
       "        }}\n",
       "}});\n",
       "\n",
       "// Listen for the removal of the full notebook cells\n",
       "var notebookContainer = gd.closest('#notebook-container');\n",
       "if (notebookContainer) {{\n",
       "    x.observe(notebookContainer, {childList: true});\n",
       "}}\n",
       "\n",
       "// Listen for the clearing of the current output cell\n",
       "var outputEl = gd.closest('.output');\n",
       "if (outputEl) {{\n",
       "    x.observe(outputEl, {childList: true});\n",
       "}}\n",
       "\n",
       "                        })                };                });            </script>        </div>"
      ]
     },
     "metadata": {},
     "output_type": "display_data"
    }
   ],
   "source": [
    "top_10_products=df.groupby(['product_id']).size().reset_index(name='counts').sort_values('counts', ascending=False).head(10)\n",
    "\n",
    "fig=px.bar(data_frame=top_10_products, \n",
    "             x='product_id', \n",
    "             y='counts', \n",
    "             color='product_id', \n",
    "             text_auto=True)\n",
    "\n",
    "fig.update_layout(title=\"Top 10 most ordered products\", \n",
    "                  height=500, \n",
    "                  width=800, \n",
    "                  showlegend=False, \n",
    "                  yaxis_title_text='Number of orders', \n",
    "                  xaxis_title_text='Product IDs', \n",
    "                  xaxis_tickangle=35)\n",
    "\n",
    "fig.show()"
   ]
  },
  {
   "cell_type": "markdown",
   "id": "9ce00fc7",
   "metadata": {
    "papermill": {
     "duration": 0.041877,
     "end_time": "2023-10-31T05:07:46.521944",
     "exception": false,
     "start_time": "2023-10-31T05:07:46.480067",
     "status": "completed"
    },
    "tags": []
   },
   "source": [
    "#### gender"
   ]
  },
  {
   "cell_type": "markdown",
   "id": "d3c9deed",
   "metadata": {
    "papermill": {
     "duration": 0.042989,
     "end_time": "2023-10-31T05:07:46.608881",
     "exception": false,
     "start_time": "2023-10-31T05:07:46.565892",
     "status": "completed"
    },
    "tags": []
   },
   "source": [
    "Looking at the number of orders for each gender"
   ]
  },
  {
   "cell_type": "code",
   "execution_count": 22,
   "id": "8b553012",
   "metadata": {
    "execution": {
     "iopub.execute_input": "2023-10-31T05:07:46.696891Z",
     "iopub.status.busy": "2023-10-31T05:07:46.695798Z",
     "iopub.status.idle": "2023-10-31T05:07:46.707169Z",
     "shell.execute_reply": "2023-10-31T05:07:46.705987Z"
    },
    "papermill": {
     "duration": 0.058681,
     "end_time": "2023-10-31T05:07:46.709825",
     "exception": false,
     "start_time": "2023-10-31T05:07:46.651144",
     "status": "completed"
    },
    "tags": []
   },
   "outputs": [
    {
     "data": {
      "text/plain": [
       "gender\n",
       "F    7832\n",
       "M    3407\n",
       "Name: count, dtype: int64"
      ]
     },
     "execution_count": 22,
     "metadata": {},
     "output_type": "execute_result"
    }
   ],
   "source": [
    "df['gender'].value_counts()"
   ]
  },
  {
   "cell_type": "markdown",
   "id": "e0347c94",
   "metadata": {
    "papermill": {
     "duration": 0.044294,
     "end_time": "2023-10-31T05:07:46.796239",
     "exception": false,
     "start_time": "2023-10-31T05:07:46.751945",
     "status": "completed"
    },
    "tags": []
   },
   "source": [
    "Visualizing the distribution of orders with respect to gender"
   ]
  },
  {
   "cell_type": "code",
   "execution_count": 23,
   "id": "7af8691a",
   "metadata": {
    "execution": {
     "iopub.execute_input": "2023-10-31T05:07:46.882886Z",
     "iopub.status.busy": "2023-10-31T05:07:46.882187Z",
     "iopub.status.idle": "2023-10-31T05:07:46.899812Z",
     "shell.execute_reply": "2023-10-31T05:07:46.898564Z"
    },
    "papermill": {
     "duration": 0.063689,
     "end_time": "2023-10-31T05:07:46.902224",
     "exception": false,
     "start_time": "2023-10-31T05:07:46.838535",
     "status": "completed"
    },
    "tags": []
   },
   "outputs": [
    {
     "data": {
      "text/html": [
       "<div>\n",
       "<style scoped>\n",
       "    .dataframe tbody tr th:only-of-type {\n",
       "        vertical-align: middle;\n",
       "    }\n",
       "\n",
       "    .dataframe tbody tr th {\n",
       "        vertical-align: top;\n",
       "    }\n",
       "\n",
       "    .dataframe thead th {\n",
       "        text-align: right;\n",
       "    }\n",
       "</style>\n",
       "<table border=\"1\" class=\"dataframe\">\n",
       "  <thead>\n",
       "    <tr style=\"text-align: right;\">\n",
       "      <th></th>\n",
       "      <th>gender</th>\n",
       "      <th>counts</th>\n",
       "    </tr>\n",
       "  </thead>\n",
       "  <tbody>\n",
       "    <tr>\n",
       "      <th>0</th>\n",
       "      <td>F</td>\n",
       "      <td>7832</td>\n",
       "    </tr>\n",
       "    <tr>\n",
       "      <th>1</th>\n",
       "      <td>M</td>\n",
       "      <td>3407</td>\n",
       "    </tr>\n",
       "  </tbody>\n",
       "</table>\n",
       "</div>"
      ],
      "text/plain": [
       "  gender  counts\n",
       "0      F    7832\n",
       "1      M    3407"
      ]
     },
     "execution_count": 23,
     "metadata": {},
     "output_type": "execute_result"
    }
   ],
   "source": [
    "gender=df.groupby(['gender']).size().reset_index(name='counts')\n",
    "gender"
   ]
  },
  {
   "cell_type": "code",
   "execution_count": 24,
   "id": "954d4627",
   "metadata": {
    "execution": {
     "iopub.execute_input": "2023-10-31T05:07:46.989908Z",
     "iopub.status.busy": "2023-10-31T05:07:46.989531Z",
     "iopub.status.idle": "2023-10-31T05:07:47.089439Z",
     "shell.execute_reply": "2023-10-31T05:07:47.088276Z"
    },
    "papermill": {
     "duration": 0.146834,
     "end_time": "2023-10-31T05:07:47.091905",
     "exception": false,
     "start_time": "2023-10-31T05:07:46.945071",
     "status": "completed"
    },
    "tags": []
   },
   "outputs": [
    {
     "data": {
      "text/html": [
       "<div>                            <div id=\"0b664fbd-eb1f-4fc1-b458-37f90f9cf12d\" class=\"plotly-graph-div\" style=\"height:500px; width:800px;\"></div>            <script type=\"text/javascript\">                require([\"plotly\"], function(Plotly) {                    window.PLOTLYENV=window.PLOTLYENV || {};                                    if (document.getElementById(\"0b664fbd-eb1f-4fc1-b458-37f90f9cf12d\")) {                    Plotly.newPlot(                        \"0b664fbd-eb1f-4fc1-b458-37f90f9cf12d\",                        [{\"domain\":{\"x\":[0.0,1.0],\"y\":[0.0,1.0]},\"hovertemplate\":\"gender=%{label}\\u003cbr\\u003ecounts=%{value}\\u003cextra\\u003e\\u003c\\u002fextra\\u003e\",\"labels\":[\"Female\",\"Male\"],\"legendgroup\":\"\",\"name\":\"\",\"showlegend\":true,\"values\":[7832,3407],\"type\":\"pie\"}],                        {\"template\":{\"data\":{\"histogram2dcontour\":[{\"type\":\"histogram2dcontour\",\"colorbar\":{\"outlinewidth\":0,\"ticks\":\"\"},\"colorscale\":[[0.0,\"#0d0887\"],[0.1111111111111111,\"#46039f\"],[0.2222222222222222,\"#7201a8\"],[0.3333333333333333,\"#9c179e\"],[0.4444444444444444,\"#bd3786\"],[0.5555555555555556,\"#d8576b\"],[0.6666666666666666,\"#ed7953\"],[0.7777777777777778,\"#fb9f3a\"],[0.8888888888888888,\"#fdca26\"],[1.0,\"#f0f921\"]]}],\"choropleth\":[{\"type\":\"choropleth\",\"colorbar\":{\"outlinewidth\":0,\"ticks\":\"\"}}],\"histogram2d\":[{\"type\":\"histogram2d\",\"colorbar\":{\"outlinewidth\":0,\"ticks\":\"\"},\"colorscale\":[[0.0,\"#0d0887\"],[0.1111111111111111,\"#46039f\"],[0.2222222222222222,\"#7201a8\"],[0.3333333333333333,\"#9c179e\"],[0.4444444444444444,\"#bd3786\"],[0.5555555555555556,\"#d8576b\"],[0.6666666666666666,\"#ed7953\"],[0.7777777777777778,\"#fb9f3a\"],[0.8888888888888888,\"#fdca26\"],[1.0,\"#f0f921\"]]}],\"heatmap\":[{\"type\":\"heatmap\",\"colorbar\":{\"outlinewidth\":0,\"ticks\":\"\"},\"colorscale\":[[0.0,\"#0d0887\"],[0.1111111111111111,\"#46039f\"],[0.2222222222222222,\"#7201a8\"],[0.3333333333333333,\"#9c179e\"],[0.4444444444444444,\"#bd3786\"],[0.5555555555555556,\"#d8576b\"],[0.6666666666666666,\"#ed7953\"],[0.7777777777777778,\"#fb9f3a\"],[0.8888888888888888,\"#fdca26\"],[1.0,\"#f0f921\"]]}],\"heatmapgl\":[{\"type\":\"heatmapgl\",\"colorbar\":{\"outlinewidth\":0,\"ticks\":\"\"},\"colorscale\":[[0.0,\"#0d0887\"],[0.1111111111111111,\"#46039f\"],[0.2222222222222222,\"#7201a8\"],[0.3333333333333333,\"#9c179e\"],[0.4444444444444444,\"#bd3786\"],[0.5555555555555556,\"#d8576b\"],[0.6666666666666666,\"#ed7953\"],[0.7777777777777778,\"#fb9f3a\"],[0.8888888888888888,\"#fdca26\"],[1.0,\"#f0f921\"]]}],\"contourcarpet\":[{\"type\":\"contourcarpet\",\"colorbar\":{\"outlinewidth\":0,\"ticks\":\"\"}}],\"contour\":[{\"type\":\"contour\",\"colorbar\":{\"outlinewidth\":0,\"ticks\":\"\"},\"colorscale\":[[0.0,\"#0d0887\"],[0.1111111111111111,\"#46039f\"],[0.2222222222222222,\"#7201a8\"],[0.3333333333333333,\"#9c179e\"],[0.4444444444444444,\"#bd3786\"],[0.5555555555555556,\"#d8576b\"],[0.6666666666666666,\"#ed7953\"],[0.7777777777777778,\"#fb9f3a\"],[0.8888888888888888,\"#fdca26\"],[1.0,\"#f0f921\"]]}],\"surface\":[{\"type\":\"surface\",\"colorbar\":{\"outlinewidth\":0,\"ticks\":\"\"},\"colorscale\":[[0.0,\"#0d0887\"],[0.1111111111111111,\"#46039f\"],[0.2222222222222222,\"#7201a8\"],[0.3333333333333333,\"#9c179e\"],[0.4444444444444444,\"#bd3786\"],[0.5555555555555556,\"#d8576b\"],[0.6666666666666666,\"#ed7953\"],[0.7777777777777778,\"#fb9f3a\"],[0.8888888888888888,\"#fdca26\"],[1.0,\"#f0f921\"]]}],\"mesh3d\":[{\"type\":\"mesh3d\",\"colorbar\":{\"outlinewidth\":0,\"ticks\":\"\"}}],\"scatter\":[{\"fillpattern\":{\"fillmode\":\"overlay\",\"size\":10,\"solidity\":0.2},\"type\":\"scatter\"}],\"parcoords\":[{\"type\":\"parcoords\",\"line\":{\"colorbar\":{\"outlinewidth\":0,\"ticks\":\"\"}}}],\"scatterpolargl\":[{\"type\":\"scatterpolargl\",\"marker\":{\"colorbar\":{\"outlinewidth\":0,\"ticks\":\"\"}}}],\"bar\":[{\"error_x\":{\"color\":\"#2a3f5f\"},\"error_y\":{\"color\":\"#2a3f5f\"},\"marker\":{\"line\":{\"color\":\"#E5ECF6\",\"width\":0.5},\"pattern\":{\"fillmode\":\"overlay\",\"size\":10,\"solidity\":0.2}},\"type\":\"bar\"}],\"scattergeo\":[{\"type\":\"scattergeo\",\"marker\":{\"colorbar\":{\"outlinewidth\":0,\"ticks\":\"\"}}}],\"scatterpolar\":[{\"type\":\"scatterpolar\",\"marker\":{\"colorbar\":{\"outlinewidth\":0,\"ticks\":\"\"}}}],\"histogram\":[{\"marker\":{\"pattern\":{\"fillmode\":\"overlay\",\"size\":10,\"solidity\":0.2}},\"type\":\"histogram\"}],\"scattergl\":[{\"type\":\"scattergl\",\"marker\":{\"colorbar\":{\"outlinewidth\":0,\"ticks\":\"\"}}}],\"scatter3d\":[{\"type\":\"scatter3d\",\"line\":{\"colorbar\":{\"outlinewidth\":0,\"ticks\":\"\"}},\"marker\":{\"colorbar\":{\"outlinewidth\":0,\"ticks\":\"\"}}}],\"scattermapbox\":[{\"type\":\"scattermapbox\",\"marker\":{\"colorbar\":{\"outlinewidth\":0,\"ticks\":\"\"}}}],\"scatterternary\":[{\"type\":\"scatterternary\",\"marker\":{\"colorbar\":{\"outlinewidth\":0,\"ticks\":\"\"}}}],\"scattercarpet\":[{\"type\":\"scattercarpet\",\"marker\":{\"colorbar\":{\"outlinewidth\":0,\"ticks\":\"\"}}}],\"carpet\":[{\"aaxis\":{\"endlinecolor\":\"#2a3f5f\",\"gridcolor\":\"white\",\"linecolor\":\"white\",\"minorgridcolor\":\"white\",\"startlinecolor\":\"#2a3f5f\"},\"baxis\":{\"endlinecolor\":\"#2a3f5f\",\"gridcolor\":\"white\",\"linecolor\":\"white\",\"minorgridcolor\":\"white\",\"startlinecolor\":\"#2a3f5f\"},\"type\":\"carpet\"}],\"table\":[{\"cells\":{\"fill\":{\"color\":\"#EBF0F8\"},\"line\":{\"color\":\"white\"}},\"header\":{\"fill\":{\"color\":\"#C8D4E3\"},\"line\":{\"color\":\"white\"}},\"type\":\"table\"}],\"barpolar\":[{\"marker\":{\"line\":{\"color\":\"#E5ECF6\",\"width\":0.5},\"pattern\":{\"fillmode\":\"overlay\",\"size\":10,\"solidity\":0.2}},\"type\":\"barpolar\"}],\"pie\":[{\"automargin\":true,\"type\":\"pie\"}]},\"layout\":{\"autotypenumbers\":\"strict\",\"colorway\":[\"#636efa\",\"#EF553B\",\"#00cc96\",\"#ab63fa\",\"#FFA15A\",\"#19d3f3\",\"#FF6692\",\"#B6E880\",\"#FF97FF\",\"#FECB52\"],\"font\":{\"color\":\"#2a3f5f\"},\"hovermode\":\"closest\",\"hoverlabel\":{\"align\":\"left\"},\"paper_bgcolor\":\"white\",\"plot_bgcolor\":\"#E5ECF6\",\"polar\":{\"bgcolor\":\"#E5ECF6\",\"angularaxis\":{\"gridcolor\":\"white\",\"linecolor\":\"white\",\"ticks\":\"\"},\"radialaxis\":{\"gridcolor\":\"white\",\"linecolor\":\"white\",\"ticks\":\"\"}},\"ternary\":{\"bgcolor\":\"#E5ECF6\",\"aaxis\":{\"gridcolor\":\"white\",\"linecolor\":\"white\",\"ticks\":\"\"},\"baxis\":{\"gridcolor\":\"white\",\"linecolor\":\"white\",\"ticks\":\"\"},\"caxis\":{\"gridcolor\":\"white\",\"linecolor\":\"white\",\"ticks\":\"\"}},\"coloraxis\":{\"colorbar\":{\"outlinewidth\":0,\"ticks\":\"\"}},\"colorscale\":{\"sequential\":[[0.0,\"#0d0887\"],[0.1111111111111111,\"#46039f\"],[0.2222222222222222,\"#7201a8\"],[0.3333333333333333,\"#9c179e\"],[0.4444444444444444,\"#bd3786\"],[0.5555555555555556,\"#d8576b\"],[0.6666666666666666,\"#ed7953\"],[0.7777777777777778,\"#fb9f3a\"],[0.8888888888888888,\"#fdca26\"],[1.0,\"#f0f921\"]],\"sequentialminus\":[[0.0,\"#0d0887\"],[0.1111111111111111,\"#46039f\"],[0.2222222222222222,\"#7201a8\"],[0.3333333333333333,\"#9c179e\"],[0.4444444444444444,\"#bd3786\"],[0.5555555555555556,\"#d8576b\"],[0.6666666666666666,\"#ed7953\"],[0.7777777777777778,\"#fb9f3a\"],[0.8888888888888888,\"#fdca26\"],[1.0,\"#f0f921\"]],\"diverging\":[[0,\"#8e0152\"],[0.1,\"#c51b7d\"],[0.2,\"#de77ae\"],[0.3,\"#f1b6da\"],[0.4,\"#fde0ef\"],[0.5,\"#f7f7f7\"],[0.6,\"#e6f5d0\"],[0.7,\"#b8e186\"],[0.8,\"#7fbc41\"],[0.9,\"#4d9221\"],[1,\"#276419\"]]},\"xaxis\":{\"gridcolor\":\"white\",\"linecolor\":\"white\",\"ticks\":\"\",\"title\":{\"standoff\":15},\"zerolinecolor\":\"white\",\"automargin\":true,\"zerolinewidth\":2},\"yaxis\":{\"gridcolor\":\"white\",\"linecolor\":\"white\",\"ticks\":\"\",\"title\":{\"standoff\":15},\"zerolinecolor\":\"white\",\"automargin\":true,\"zerolinewidth\":2},\"scene\":{\"xaxis\":{\"backgroundcolor\":\"#E5ECF6\",\"gridcolor\":\"white\",\"linecolor\":\"white\",\"showbackground\":true,\"ticks\":\"\",\"zerolinecolor\":\"white\",\"gridwidth\":2},\"yaxis\":{\"backgroundcolor\":\"#E5ECF6\",\"gridcolor\":\"white\",\"linecolor\":\"white\",\"showbackground\":true,\"ticks\":\"\",\"zerolinecolor\":\"white\",\"gridwidth\":2},\"zaxis\":{\"backgroundcolor\":\"#E5ECF6\",\"gridcolor\":\"white\",\"linecolor\":\"white\",\"showbackground\":true,\"ticks\":\"\",\"zerolinecolor\":\"white\",\"gridwidth\":2}},\"shapedefaults\":{\"line\":{\"color\":\"#2a3f5f\"}},\"annotationdefaults\":{\"arrowcolor\":\"#2a3f5f\",\"arrowhead\":0,\"arrowwidth\":1},\"geo\":{\"bgcolor\":\"white\",\"landcolor\":\"#E5ECF6\",\"subunitcolor\":\"white\",\"showland\":true,\"showlakes\":true,\"lakecolor\":\"white\"},\"title\":{\"x\":0.05},\"mapbox\":{\"style\":\"light\"}}},\"legend\":{\"tracegroupgap\":0},\"margin\":{\"t\":60},\"title\":{\"text\":\"Distribution of orders w.r.t gender\"},\"height\":500,\"width\":800},                        {\"responsive\": true}                    ).then(function(){\n",
       "                            \n",
       "var gd = document.getElementById('0b664fbd-eb1f-4fc1-b458-37f90f9cf12d');\n",
       "var x = new MutationObserver(function (mutations, observer) {{\n",
       "        var display = window.getComputedStyle(gd).display;\n",
       "        if (!display || display === 'none') {{\n",
       "            console.log([gd, 'removed!']);\n",
       "            Plotly.purge(gd);\n",
       "            observer.disconnect();\n",
       "        }}\n",
       "}});\n",
       "\n",
       "// Listen for the removal of the full notebook cells\n",
       "var notebookContainer = gd.closest('#notebook-container');\n",
       "if (notebookContainer) {{\n",
       "    x.observe(notebookContainer, {childList: true});\n",
       "}}\n",
       "\n",
       "// Listen for the clearing of the current output cell\n",
       "var outputEl = gd.closest('.output');\n",
       "if (outputEl) {{\n",
       "    x.observe(outputEl, {childList: true});\n",
       "}}\n",
       "\n",
       "                        })                };                });            </script>        </div>"
      ]
     },
     "metadata": {},
     "output_type": "display_data"
    }
   ],
   "source": [
    "gender=df.groupby(['gender']).size().reset_index(name='counts')\n",
    "gender['gender']=gender['gender'].replace('F', 'Female')\n",
    "gender['gender']=gender['gender'].replace('M', 'Male')\n",
    "\n",
    "fig=px.pie(gender, \n",
    "           values='counts', \n",
    "           names='gender')\n",
    "\n",
    "gender_labels = {'F': 'Females', 'M': 'Males'}\n",
    "\n",
    "fig.update_layout(title=\"Distribution of orders w.r.t gender\", \n",
    "                  height=500, \n",
    "                  width=800)\n",
    "\n",
    "fig.show()"
   ]
  },
  {
   "cell_type": "markdown",
   "id": "da94d917",
   "metadata": {
    "papermill": {
     "duration": 0.043834,
     "end_time": "2023-10-31T05:07:47.178462",
     "exception": false,
     "start_time": "2023-10-31T05:07:47.134628",
     "status": "completed"
    },
    "tags": []
   },
   "source": [
    "#### age_group"
   ]
  },
  {
   "cell_type": "markdown",
   "id": "8e001f05",
   "metadata": {
    "papermill": {
     "duration": 0.042537,
     "end_time": "2023-10-31T05:07:47.263725",
     "exception": false,
     "start_time": "2023-10-31T05:07:47.221188",
     "status": "completed"
    },
    "tags": []
   },
   "source": [
    "Looking at the different age groups"
   ]
  },
  {
   "cell_type": "code",
   "execution_count": 25,
   "id": "87db7256",
   "metadata": {
    "execution": {
     "iopub.execute_input": "2023-10-31T05:07:47.351705Z",
     "iopub.status.busy": "2023-10-31T05:07:47.351321Z",
     "iopub.status.idle": "2023-10-31T05:07:47.361031Z",
     "shell.execute_reply": "2023-10-31T05:07:47.359837Z"
    },
    "papermill": {
     "duration": 0.057221,
     "end_time": "2023-10-31T05:07:47.363668",
     "exception": false,
     "start_time": "2023-10-31T05:07:47.306447",
     "status": "completed"
    },
    "tags": []
   },
   "outputs": [
    {
     "data": {
      "text/plain": [
       "array(['26-35', '0-17', '18-25', '51-55', '46-50', '55+', '36-45'],\n",
       "      dtype=object)"
      ]
     },
     "execution_count": 25,
     "metadata": {},
     "output_type": "execute_result"
    }
   ],
   "source": [
    "df['age_group'].unique()"
   ]
  },
  {
   "cell_type": "markdown",
   "id": "e3108bd1",
   "metadata": {
    "papermill": {
     "duration": 0.042481,
     "end_time": "2023-10-31T05:07:47.449160",
     "exception": false,
     "start_time": "2023-10-31T05:07:47.406679",
     "status": "completed"
    },
    "tags": []
   },
   "source": [
    "Looking at the number of orders from each age group"
   ]
  },
  {
   "cell_type": "code",
   "execution_count": 26,
   "id": "91277eff",
   "metadata": {
    "execution": {
     "iopub.execute_input": "2023-10-31T05:07:47.538784Z",
     "iopub.status.busy": "2023-10-31T05:07:47.538342Z",
     "iopub.status.idle": "2023-10-31T05:07:47.549197Z",
     "shell.execute_reply": "2023-10-31T05:07:47.548177Z"
    },
    "papermill": {
     "duration": 0.058316,
     "end_time": "2023-10-31T05:07:47.551505",
     "exception": false,
     "start_time": "2023-10-31T05:07:47.493189",
     "status": "completed"
    },
    "tags": []
   },
   "outputs": [
    {
     "data": {
      "text/plain": [
       "age_group\n",
       "26-35    4541\n",
       "36-45    2283\n",
       "18-25    1879\n",
       "46-50     983\n",
       "51-55     830\n",
       "55+       427\n",
       "0-17      296\n",
       "Name: count, dtype: int64"
      ]
     },
     "execution_count": 26,
     "metadata": {},
     "output_type": "execute_result"
    }
   ],
   "source": [
    "df['age_group'].value_counts()"
   ]
  },
  {
   "cell_type": "markdown",
   "id": "21145613",
   "metadata": {
    "papermill": {
     "duration": 0.043496,
     "end_time": "2023-10-31T05:07:47.638097",
     "exception": false,
     "start_time": "2023-10-31T05:07:47.594601",
     "status": "completed"
    },
    "tags": []
   },
   "source": [
    "Plotting the distribution of orders across the various age groups"
   ]
  },
  {
   "cell_type": "code",
   "execution_count": 27,
   "id": "f0456e06",
   "metadata": {
    "execution": {
     "iopub.execute_input": "2023-10-31T05:07:47.726345Z",
     "iopub.status.busy": "2023-10-31T05:07:47.725883Z",
     "iopub.status.idle": "2023-10-31T05:07:47.845276Z",
     "shell.execute_reply": "2023-10-31T05:07:47.844017Z"
    },
    "papermill": {
     "duration": 0.167093,
     "end_time": "2023-10-31T05:07:47.848104",
     "exception": false,
     "start_time": "2023-10-31T05:07:47.681011",
     "status": "completed"
    },
    "tags": []
   },
   "outputs": [
    {
     "data": {
      "text/html": [
       "<div>                            <div id=\"47a54fee-20cc-4739-bdb4-fc087174611a\" class=\"plotly-graph-div\" style=\"height:500px; width:800px;\"></div>            <script type=\"text/javascript\">                require([\"plotly\"], function(Plotly) {                    window.PLOTLYENV=window.PLOTLYENV || {};                                    if (document.getElementById(\"47a54fee-20cc-4739-bdb4-fc087174611a\")) {                    Plotly.newPlot(                        \"47a54fee-20cc-4739-bdb4-fc087174611a\",                        [{\"alignmentgroup\":\"True\",\"hovertemplate\":\"age_group=%{x}\\u003cbr\\u003ecounts=%{y}\\u003cextra\\u003e\\u003c\\u002fextra\\u003e\",\"legendgroup\":\"0-17\",\"marker\":{\"color\":\"#636efa\",\"pattern\":{\"shape\":\"\"}},\"name\":\"0-17\",\"offsetgroup\":\"0-17\",\"orientation\":\"v\",\"showlegend\":true,\"textposition\":\"auto\",\"texttemplate\":\"%{y}\",\"x\":[\"0-17\"],\"xaxis\":\"x\",\"y\":[296],\"yaxis\":\"y\",\"type\":\"bar\"},{\"alignmentgroup\":\"True\",\"hovertemplate\":\"age_group=%{x}\\u003cbr\\u003ecounts=%{y}\\u003cextra\\u003e\\u003c\\u002fextra\\u003e\",\"legendgroup\":\"18-25\",\"marker\":{\"color\":\"#EF553B\",\"pattern\":{\"shape\":\"\"}},\"name\":\"18-25\",\"offsetgroup\":\"18-25\",\"orientation\":\"v\",\"showlegend\":true,\"textposition\":\"auto\",\"texttemplate\":\"%{y}\",\"x\":[\"18-25\"],\"xaxis\":\"x\",\"y\":[1879],\"yaxis\":\"y\",\"type\":\"bar\"},{\"alignmentgroup\":\"True\",\"hovertemplate\":\"age_group=%{x}\\u003cbr\\u003ecounts=%{y}\\u003cextra\\u003e\\u003c\\u002fextra\\u003e\",\"legendgroup\":\"26-35\",\"marker\":{\"color\":\"#00cc96\",\"pattern\":{\"shape\":\"\"}},\"name\":\"26-35\",\"offsetgroup\":\"26-35\",\"orientation\":\"v\",\"showlegend\":true,\"textposition\":\"auto\",\"texttemplate\":\"%{y}\",\"x\":[\"26-35\"],\"xaxis\":\"x\",\"y\":[4541],\"yaxis\":\"y\",\"type\":\"bar\"},{\"alignmentgroup\":\"True\",\"hovertemplate\":\"age_group=%{x}\\u003cbr\\u003ecounts=%{y}\\u003cextra\\u003e\\u003c\\u002fextra\\u003e\",\"legendgroup\":\"36-45\",\"marker\":{\"color\":\"#ab63fa\",\"pattern\":{\"shape\":\"\"}},\"name\":\"36-45\",\"offsetgroup\":\"36-45\",\"orientation\":\"v\",\"showlegend\":true,\"textposition\":\"auto\",\"texttemplate\":\"%{y}\",\"x\":[\"36-45\"],\"xaxis\":\"x\",\"y\":[2283],\"yaxis\":\"y\",\"type\":\"bar\"},{\"alignmentgroup\":\"True\",\"hovertemplate\":\"age_group=%{x}\\u003cbr\\u003ecounts=%{y}\\u003cextra\\u003e\\u003c\\u002fextra\\u003e\",\"legendgroup\":\"46-50\",\"marker\":{\"color\":\"#FFA15A\",\"pattern\":{\"shape\":\"\"}},\"name\":\"46-50\",\"offsetgroup\":\"46-50\",\"orientation\":\"v\",\"showlegend\":true,\"textposition\":\"auto\",\"texttemplate\":\"%{y}\",\"x\":[\"46-50\"],\"xaxis\":\"x\",\"y\":[983],\"yaxis\":\"y\",\"type\":\"bar\"},{\"alignmentgroup\":\"True\",\"hovertemplate\":\"age_group=%{x}\\u003cbr\\u003ecounts=%{y}\\u003cextra\\u003e\\u003c\\u002fextra\\u003e\",\"legendgroup\":\"51-55\",\"marker\":{\"color\":\"#19d3f3\",\"pattern\":{\"shape\":\"\"}},\"name\":\"51-55\",\"offsetgroup\":\"51-55\",\"orientation\":\"v\",\"showlegend\":true,\"textposition\":\"auto\",\"texttemplate\":\"%{y}\",\"x\":[\"51-55\"],\"xaxis\":\"x\",\"y\":[830],\"yaxis\":\"y\",\"type\":\"bar\"},{\"alignmentgroup\":\"True\",\"hovertemplate\":\"age_group=%{x}\\u003cbr\\u003ecounts=%{y}\\u003cextra\\u003e\\u003c\\u002fextra\\u003e\",\"legendgroup\":\"55+\",\"marker\":{\"color\":\"#FF6692\",\"pattern\":{\"shape\":\"\"}},\"name\":\"55+\",\"offsetgroup\":\"55+\",\"orientation\":\"v\",\"showlegend\":true,\"textposition\":\"auto\",\"texttemplate\":\"%{y}\",\"x\":[\"55+\"],\"xaxis\":\"x\",\"y\":[427],\"yaxis\":\"y\",\"type\":\"bar\"}],                        {\"template\":{\"data\":{\"histogram2dcontour\":[{\"type\":\"histogram2dcontour\",\"colorbar\":{\"outlinewidth\":0,\"ticks\":\"\"},\"colorscale\":[[0.0,\"#0d0887\"],[0.1111111111111111,\"#46039f\"],[0.2222222222222222,\"#7201a8\"],[0.3333333333333333,\"#9c179e\"],[0.4444444444444444,\"#bd3786\"],[0.5555555555555556,\"#d8576b\"],[0.6666666666666666,\"#ed7953\"],[0.7777777777777778,\"#fb9f3a\"],[0.8888888888888888,\"#fdca26\"],[1.0,\"#f0f921\"]]}],\"choropleth\":[{\"type\":\"choropleth\",\"colorbar\":{\"outlinewidth\":0,\"ticks\":\"\"}}],\"histogram2d\":[{\"type\":\"histogram2d\",\"colorbar\":{\"outlinewidth\":0,\"ticks\":\"\"},\"colorscale\":[[0.0,\"#0d0887\"],[0.1111111111111111,\"#46039f\"],[0.2222222222222222,\"#7201a8\"],[0.3333333333333333,\"#9c179e\"],[0.4444444444444444,\"#bd3786\"],[0.5555555555555556,\"#d8576b\"],[0.6666666666666666,\"#ed7953\"],[0.7777777777777778,\"#fb9f3a\"],[0.8888888888888888,\"#fdca26\"],[1.0,\"#f0f921\"]]}],\"heatmap\":[{\"type\":\"heatmap\",\"colorbar\":{\"outlinewidth\":0,\"ticks\":\"\"},\"colorscale\":[[0.0,\"#0d0887\"],[0.1111111111111111,\"#46039f\"],[0.2222222222222222,\"#7201a8\"],[0.3333333333333333,\"#9c179e\"],[0.4444444444444444,\"#bd3786\"],[0.5555555555555556,\"#d8576b\"],[0.6666666666666666,\"#ed7953\"],[0.7777777777777778,\"#fb9f3a\"],[0.8888888888888888,\"#fdca26\"],[1.0,\"#f0f921\"]]}],\"heatmapgl\":[{\"type\":\"heatmapgl\",\"colorbar\":{\"outlinewidth\":0,\"ticks\":\"\"},\"colorscale\":[[0.0,\"#0d0887\"],[0.1111111111111111,\"#46039f\"],[0.2222222222222222,\"#7201a8\"],[0.3333333333333333,\"#9c179e\"],[0.4444444444444444,\"#bd3786\"],[0.5555555555555556,\"#d8576b\"],[0.6666666666666666,\"#ed7953\"],[0.7777777777777778,\"#fb9f3a\"],[0.8888888888888888,\"#fdca26\"],[1.0,\"#f0f921\"]]}],\"contourcarpet\":[{\"type\":\"contourcarpet\",\"colorbar\":{\"outlinewidth\":0,\"ticks\":\"\"}}],\"contour\":[{\"type\":\"contour\",\"colorbar\":{\"outlinewidth\":0,\"ticks\":\"\"},\"colorscale\":[[0.0,\"#0d0887\"],[0.1111111111111111,\"#46039f\"],[0.2222222222222222,\"#7201a8\"],[0.3333333333333333,\"#9c179e\"],[0.4444444444444444,\"#bd3786\"],[0.5555555555555556,\"#d8576b\"],[0.6666666666666666,\"#ed7953\"],[0.7777777777777778,\"#fb9f3a\"],[0.8888888888888888,\"#fdca26\"],[1.0,\"#f0f921\"]]}],\"surface\":[{\"type\":\"surface\",\"colorbar\":{\"outlinewidth\":0,\"ticks\":\"\"},\"colorscale\":[[0.0,\"#0d0887\"],[0.1111111111111111,\"#46039f\"],[0.2222222222222222,\"#7201a8\"],[0.3333333333333333,\"#9c179e\"],[0.4444444444444444,\"#bd3786\"],[0.5555555555555556,\"#d8576b\"],[0.6666666666666666,\"#ed7953\"],[0.7777777777777778,\"#fb9f3a\"],[0.8888888888888888,\"#fdca26\"],[1.0,\"#f0f921\"]]}],\"mesh3d\":[{\"type\":\"mesh3d\",\"colorbar\":{\"outlinewidth\":0,\"ticks\":\"\"}}],\"scatter\":[{\"fillpattern\":{\"fillmode\":\"overlay\",\"size\":10,\"solidity\":0.2},\"type\":\"scatter\"}],\"parcoords\":[{\"type\":\"parcoords\",\"line\":{\"colorbar\":{\"outlinewidth\":0,\"ticks\":\"\"}}}],\"scatterpolargl\":[{\"type\":\"scatterpolargl\",\"marker\":{\"colorbar\":{\"outlinewidth\":0,\"ticks\":\"\"}}}],\"bar\":[{\"error_x\":{\"color\":\"#2a3f5f\"},\"error_y\":{\"color\":\"#2a3f5f\"},\"marker\":{\"line\":{\"color\":\"#E5ECF6\",\"width\":0.5},\"pattern\":{\"fillmode\":\"overlay\",\"size\":10,\"solidity\":0.2}},\"type\":\"bar\"}],\"scattergeo\":[{\"type\":\"scattergeo\",\"marker\":{\"colorbar\":{\"outlinewidth\":0,\"ticks\":\"\"}}}],\"scatterpolar\":[{\"type\":\"scatterpolar\",\"marker\":{\"colorbar\":{\"outlinewidth\":0,\"ticks\":\"\"}}}],\"histogram\":[{\"marker\":{\"pattern\":{\"fillmode\":\"overlay\",\"size\":10,\"solidity\":0.2}},\"type\":\"histogram\"}],\"scattergl\":[{\"type\":\"scattergl\",\"marker\":{\"colorbar\":{\"outlinewidth\":0,\"ticks\":\"\"}}}],\"scatter3d\":[{\"type\":\"scatter3d\",\"line\":{\"colorbar\":{\"outlinewidth\":0,\"ticks\":\"\"}},\"marker\":{\"colorbar\":{\"outlinewidth\":0,\"ticks\":\"\"}}}],\"scattermapbox\":[{\"type\":\"scattermapbox\",\"marker\":{\"colorbar\":{\"outlinewidth\":0,\"ticks\":\"\"}}}],\"scatterternary\":[{\"type\":\"scatterternary\",\"marker\":{\"colorbar\":{\"outlinewidth\":0,\"ticks\":\"\"}}}],\"scattercarpet\":[{\"type\":\"scattercarpet\",\"marker\":{\"colorbar\":{\"outlinewidth\":0,\"ticks\":\"\"}}}],\"carpet\":[{\"aaxis\":{\"endlinecolor\":\"#2a3f5f\",\"gridcolor\":\"white\",\"linecolor\":\"white\",\"minorgridcolor\":\"white\",\"startlinecolor\":\"#2a3f5f\"},\"baxis\":{\"endlinecolor\":\"#2a3f5f\",\"gridcolor\":\"white\",\"linecolor\":\"white\",\"minorgridcolor\":\"white\",\"startlinecolor\":\"#2a3f5f\"},\"type\":\"carpet\"}],\"table\":[{\"cells\":{\"fill\":{\"color\":\"#EBF0F8\"},\"line\":{\"color\":\"white\"}},\"header\":{\"fill\":{\"color\":\"#C8D4E3\"},\"line\":{\"color\":\"white\"}},\"type\":\"table\"}],\"barpolar\":[{\"marker\":{\"line\":{\"color\":\"#E5ECF6\",\"width\":0.5},\"pattern\":{\"fillmode\":\"overlay\",\"size\":10,\"solidity\":0.2}},\"type\":\"barpolar\"}],\"pie\":[{\"automargin\":true,\"type\":\"pie\"}]},\"layout\":{\"autotypenumbers\":\"strict\",\"colorway\":[\"#636efa\",\"#EF553B\",\"#00cc96\",\"#ab63fa\",\"#FFA15A\",\"#19d3f3\",\"#FF6692\",\"#B6E880\",\"#FF97FF\",\"#FECB52\"],\"font\":{\"color\":\"#2a3f5f\"},\"hovermode\":\"closest\",\"hoverlabel\":{\"align\":\"left\"},\"paper_bgcolor\":\"white\",\"plot_bgcolor\":\"#E5ECF6\",\"polar\":{\"bgcolor\":\"#E5ECF6\",\"angularaxis\":{\"gridcolor\":\"white\",\"linecolor\":\"white\",\"ticks\":\"\"},\"radialaxis\":{\"gridcolor\":\"white\",\"linecolor\":\"white\",\"ticks\":\"\"}},\"ternary\":{\"bgcolor\":\"#E5ECF6\",\"aaxis\":{\"gridcolor\":\"white\",\"linecolor\":\"white\",\"ticks\":\"\"},\"baxis\":{\"gridcolor\":\"white\",\"linecolor\":\"white\",\"ticks\":\"\"},\"caxis\":{\"gridcolor\":\"white\",\"linecolor\":\"white\",\"ticks\":\"\"}},\"coloraxis\":{\"colorbar\":{\"outlinewidth\":0,\"ticks\":\"\"}},\"colorscale\":{\"sequential\":[[0.0,\"#0d0887\"],[0.1111111111111111,\"#46039f\"],[0.2222222222222222,\"#7201a8\"],[0.3333333333333333,\"#9c179e\"],[0.4444444444444444,\"#bd3786\"],[0.5555555555555556,\"#d8576b\"],[0.6666666666666666,\"#ed7953\"],[0.7777777777777778,\"#fb9f3a\"],[0.8888888888888888,\"#fdca26\"],[1.0,\"#f0f921\"]],\"sequentialminus\":[[0.0,\"#0d0887\"],[0.1111111111111111,\"#46039f\"],[0.2222222222222222,\"#7201a8\"],[0.3333333333333333,\"#9c179e\"],[0.4444444444444444,\"#bd3786\"],[0.5555555555555556,\"#d8576b\"],[0.6666666666666666,\"#ed7953\"],[0.7777777777777778,\"#fb9f3a\"],[0.8888888888888888,\"#fdca26\"],[1.0,\"#f0f921\"]],\"diverging\":[[0,\"#8e0152\"],[0.1,\"#c51b7d\"],[0.2,\"#de77ae\"],[0.3,\"#f1b6da\"],[0.4,\"#fde0ef\"],[0.5,\"#f7f7f7\"],[0.6,\"#e6f5d0\"],[0.7,\"#b8e186\"],[0.8,\"#7fbc41\"],[0.9,\"#4d9221\"],[1,\"#276419\"]]},\"xaxis\":{\"gridcolor\":\"white\",\"linecolor\":\"white\",\"ticks\":\"\",\"title\":{\"standoff\":15},\"zerolinecolor\":\"white\",\"automargin\":true,\"zerolinewidth\":2},\"yaxis\":{\"gridcolor\":\"white\",\"linecolor\":\"white\",\"ticks\":\"\",\"title\":{\"standoff\":15},\"zerolinecolor\":\"white\",\"automargin\":true,\"zerolinewidth\":2},\"scene\":{\"xaxis\":{\"backgroundcolor\":\"#E5ECF6\",\"gridcolor\":\"white\",\"linecolor\":\"white\",\"showbackground\":true,\"ticks\":\"\",\"zerolinecolor\":\"white\",\"gridwidth\":2},\"yaxis\":{\"backgroundcolor\":\"#E5ECF6\",\"gridcolor\":\"white\",\"linecolor\":\"white\",\"showbackground\":true,\"ticks\":\"\",\"zerolinecolor\":\"white\",\"gridwidth\":2},\"zaxis\":{\"backgroundcolor\":\"#E5ECF6\",\"gridcolor\":\"white\",\"linecolor\":\"white\",\"showbackground\":true,\"ticks\":\"\",\"zerolinecolor\":\"white\",\"gridwidth\":2}},\"shapedefaults\":{\"line\":{\"color\":\"#2a3f5f\"}},\"annotationdefaults\":{\"arrowcolor\":\"#2a3f5f\",\"arrowhead\":0,\"arrowwidth\":1},\"geo\":{\"bgcolor\":\"white\",\"landcolor\":\"#E5ECF6\",\"subunitcolor\":\"white\",\"showland\":true,\"showlakes\":true,\"lakecolor\":\"white\"},\"title\":{\"x\":0.05},\"mapbox\":{\"style\":\"light\"}}},\"xaxis\":{\"anchor\":\"y\",\"domain\":[0.0,1.0],\"title\":{\"text\":\"Age groups\"},\"categoryorder\":\"array\",\"categoryarray\":[\"0-17\",\"18-25\",\"26-35\",\"36-45\",\"46-50\",\"51-55\",\"55+\"]},\"yaxis\":{\"anchor\":\"x\",\"domain\":[0.0,1.0],\"title\":{\"text\":\"Number of orders\"}},\"legend\":{\"title\":{\"text\":\"age_group\"},\"tracegroupgap\":0},\"margin\":{\"t\":60},\"barmode\":\"relative\",\"title\":{\"text\":\"Distribution of orders across various age groups\"},\"height\":500,\"width\":800,\"showlegend\":false},                        {\"responsive\": true}                    ).then(function(){\n",
       "                            \n",
       "var gd = document.getElementById('47a54fee-20cc-4739-bdb4-fc087174611a');\n",
       "var x = new MutationObserver(function (mutations, observer) {{\n",
       "        var display = window.getComputedStyle(gd).display;\n",
       "        if (!display || display === 'none') {{\n",
       "            console.log([gd, 'removed!']);\n",
       "            Plotly.purge(gd);\n",
       "            observer.disconnect();\n",
       "        }}\n",
       "}});\n",
       "\n",
       "// Listen for the removal of the full notebook cells\n",
       "var notebookContainer = gd.closest('#notebook-container');\n",
       "if (notebookContainer) {{\n",
       "    x.observe(notebookContainer, {childList: true});\n",
       "}}\n",
       "\n",
       "// Listen for the clearing of the current output cell\n",
       "var outputEl = gd.closest('.output');\n",
       "if (outputEl) {{\n",
       "    x.observe(outputEl, {childList: true});\n",
       "}}\n",
       "\n",
       "                        })                };                });            </script>        </div>"
      ]
     },
     "metadata": {},
     "output_type": "display_data"
    }
   ],
   "source": [
    "age_group=df.groupby(['age_group']).size().reset_index(name='counts')\n",
    "\n",
    "fig=px.bar(data_frame=age_group, \n",
    "             x='age_group', \n",
    "             y='counts', \n",
    "             color='age_group', \n",
    "             text_auto=True)\n",
    "\n",
    "fig.update_layout(title=\"Distribution of orders across various age groups\", \n",
    "                  height=500, \n",
    "                  width=800,  \n",
    "                  showlegend=False, \n",
    "                  yaxis_title_text='Number of orders', \n",
    "                  xaxis_title_text='Age groups')\n",
    "\n",
    "fig.update_xaxes(categoryorder='array', categoryarray=['0-17', '18-25', '26-35', '36-45', '46-50', '51-55', '55+'])\n",
    "\n",
    "fig.show()"
   ]
  },
  {
   "cell_type": "markdown",
   "id": "c039514a",
   "metadata": {
    "papermill": {
     "duration": 0.043138,
     "end_time": "2023-10-31T05:07:47.934499",
     "exception": false,
     "start_time": "2023-10-31T05:07:47.891361",
     "status": "completed"
    },
    "tags": []
   },
   "source": [
    "#### age"
   ]
  },
  {
   "cell_type": "markdown",
   "id": "733993eb",
   "metadata": {
    "papermill": {
     "duration": 0.043099,
     "end_time": "2023-10-31T05:07:48.021407",
     "exception": false,
     "start_time": "2023-10-31T05:07:47.978308",
     "status": "completed"
    },
    "tags": []
   },
   "source": [
    "Looking at the statistical description of 'age'"
   ]
  },
  {
   "cell_type": "code",
   "execution_count": 28,
   "id": "e103d1b4",
   "metadata": {
    "execution": {
     "iopub.execute_input": "2023-10-31T05:07:48.112223Z",
     "iopub.status.busy": "2023-10-31T05:07:48.110814Z",
     "iopub.status.idle": "2023-10-31T05:07:48.127466Z",
     "shell.execute_reply": "2023-10-31T05:07:48.126271Z"
    },
    "papermill": {
     "duration": 0.065201,
     "end_time": "2023-10-31T05:07:48.129932",
     "exception": false,
     "start_time": "2023-10-31T05:07:48.064731",
     "status": "completed"
    },
    "tags": []
   },
   "outputs": [
    {
     "data": {
      "text/plain": [
       "count    11239.000000\n",
       "mean        35.410357\n",
       "std         12.753866\n",
       "min         12.000000\n",
       "25%         27.000000\n",
       "50%         33.000000\n",
       "75%         43.000000\n",
       "max         92.000000\n",
       "Name: age, dtype: float64"
      ]
     },
     "execution_count": 28,
     "metadata": {},
     "output_type": "execute_result"
    }
   ],
   "source": [
    "df['age'].describe()"
   ]
  },
  {
   "cell_type": "markdown",
   "id": "ac22d631",
   "metadata": {
    "papermill": {
     "duration": 0.043428,
     "end_time": "2023-10-31T05:07:48.216962",
     "exception": false,
     "start_time": "2023-10-31T05:07:48.173534",
     "status": "completed"
    },
    "tags": []
   },
   "source": [
    "Visualizing the distribution of ages"
   ]
  },
  {
   "cell_type": "code",
   "execution_count": 29,
   "id": "2edc5d2d",
   "metadata": {
    "execution": {
     "iopub.execute_input": "2023-10-31T05:07:48.306387Z",
     "iopub.status.busy": "2023-10-31T05:07:48.305628Z",
     "iopub.status.idle": "2023-10-31T05:07:48.414235Z",
     "shell.execute_reply": "2023-10-31T05:07:48.413082Z"
    },
    "papermill": {
     "duration": 0.156439,
     "end_time": "2023-10-31T05:07:48.416915",
     "exception": false,
     "start_time": "2023-10-31T05:07:48.260476",
     "status": "completed"
    },
    "tags": []
   },
   "outputs": [
    {
     "data": {
      "text/html": [
       "<div>                            <div id=\"d985af9b-c9cd-4490-b146-13b956616e0c\" class=\"plotly-graph-div\" style=\"height:400px; width:800px;\"></div>            <script type=\"text/javascript\">                require([\"plotly\"], function(Plotly) {                    window.PLOTLYENV=window.PLOTLYENV || {};                                    if (document.getElementById(\"d985af9b-c9cd-4490-b146-13b956616e0c\")) {                    Plotly.newPlot(                        \"d985af9b-c9cd-4490-b146-13b956616e0c\",                        [{\"alignmentgroup\":\"True\",\"boxpoints\":\"all\",\"hovertemplate\":\"age=%{x}\\u003cextra\\u003e\\u003c\\u002fextra\\u003e\",\"legendgroup\":\"\",\"marker\":{\"color\":\"#636efa\"},\"name\":\"\",\"notched\":false,\"offsetgroup\":\"\",\"orientation\":\"h\",\"showlegend\":false,\"x\":[28,35,35,16,28,28,25,35,26,34,20,20,26,24,29,54,54,19,46,30,53,83,33,40,25,54,39,20,32,36,35,55,27,20,32,72,25,35,30,16,40,35,45,28,32,32,53,43,29,47,35,22,34,33,36,52,18,39,34,33,21,38,28,37,20,23,34,49,38,30,25,19,42,38,21,35,24,52,53,37,28,50,40,35,45,35,18,22,43,48,28,31,23,44,34,46,43,21,54,34,44,29,38,55,26,46,38,47,35,31,26,41,42,49,44,31,31,27,32,66,28,52,19,45,53,36,41,22,30,46,47,29,28,53,53,15,40,35,33,40,52,27,45,48,38,33,47,40,47,44,46,50,49,29,53,42,51,26,30,33,34,26,46,36,26,50,32,38,41,43,40,26,36,50,32,47,51,36,42,32,48,32,41,54,33,30,29,27,51,43,31,72,39,31,42,40,26,27,39,25,55,29,50,30,31,34,33,30,29,49,34,42,38,26,28,40,54,47,19,41,41,24,23,25,29,34,29,26,83,55,37,34,29,23,51,39,41,20,52,53,48,31,55,40,45,26,52,27,35,27,42,28,28,35,28,35,48,28,26,21,19,20,25,39,52,20,52,34,47,77,41,24,27,27,28,87,79,27,35,20,26,36,71,47,44,32,40,47,31,49,34,51,88,28,29,41,30,35,30,21,52,44,41,45,40,32,35,31,33,37,37,45,22,32,34,53,47,58,43,88,28,30,41,19,47,33,38,22,41,31,45,50,43,72,82,43,41,36,87,34,32,62,24,29,36,44,26,33,33,20,92,55,52,26,22,35,40,41,36,45,36,40,26,47,24,29,50,51,34,16,51,26,29,52,36,39,33,33,24,26,30,49,30,29,38,33,33,34,26,52,44,72,32,27,38,30,55,36,37,34,25,39,38,37,21,12,63,31,43,28,35,12,53,41,34,21,43,42,34,32,51,45,21,46,31,17,20,27,32,18,28,23,30,16,13,53,34,31,25,28,40,13,25,29,29,21,18,55,67,26,45,26,39,26,32,27,44,34,31,27,21,54,32,18,55,55,28,51,31,36,45,30,43,34,29,32,27,38,39,28,29,19,28,38,49,43,31,43,24,45,22,20,29,30,38,39,18,30,41,23,31,23,50,23,52,35,52,28,28,24,23,29,29,43,23,36,23,34,20,19,42,71,49,52,19,41,29,30,39,50,16,31,18,67,54,21,35,32,31,34,47,28,26,53,43,35,27,35,18,48,31,26,20,53,27,32,33,32,27,28,28,25,29,34,47,41,26,49,90,56,26,29,33,34,23,43,51,48,19,63,26,37,19,20,36,43,52,22,21,20,26,44,26,32,33,47,47,26,25,32,92,28,23,38,31,35,42,30,19,32,29,44,52,18,29,34,26,30,22,38,44,35,27,19,32,34,16,32,46,31,45,19,50,54,32,43,43,26,39,24,29,23,29,41,37,41,52,53,41,25,34,19,30,37,29,90,30,32,33,67,33,22,28,26,36,37,29,29,26,36,31,25,51,44,33,19,38,30,20,75,44,48,27,19,31,19,25,21,52,82,30,20,24,28,42,35,22,38,31,35,35,35,39,25,27,34,20,50,46,43,34,44,13,39,18,27,32,31,54,49,30,24,25,35,24,71,49,46,37,42,32,32,26,12,15,15,32,40,20,31,35,23,33,20,30,22,35,38,49,52,53,49,19,81,32,28,39,53,37,55,29,26,38,34,21,33,34,26,21,43,32,28,28,17,22,21,66,17,35,43,23,26,53,52,32,21,37,38,44,33,31,24,51,34,43,20,64,21,27,47,20,32,31,13,45,36,34,49,35,36,28,50,32,23,30,41,31,49,28,38,25,13,52,35,47,29,30,30,29,41,20,23,45,26,44,38,35,40,25,28,24,51,28,18,30,28,50,50,19,30,23,73,31,27,51,23,46,31,28,33,20,33,34,35,24,27,26,35,55,30,44,29,40,26,30,29,30,33,53,39,49,29,33,31,47,22,40,23,28,23,35,24,51,54,47,28,22,18,20,21,19,45,84,28,14,47,45,43,16,19,41,35,28,40,31,28,31,50,52,34,76,36,26,35,23,26,46,20,39,39,27,42,40,46,21,52,23,32,66,39,53,21,18,33,38,36,47,48,53,34,34,53,40,30,30,34,30,46,20,29,24,34,35,43,32,29,28,27,21,34,30,38,27,30,30,31,31,48,28,48,19,39,34,53,51,82,27,53,25,45,19,35,27,18,31,26,21,31,24,35,31,30,32,30,33,30,44,36,24,28,36,35,21,37,51,55,55,39,36,31,35,27,33,34,39,32,50,54,30,27,67,41,38,37,49,29,42,55,29,29,47,30,50,55,47,33,42,48,26,47,35,52,27,41,26,35,33,40,27,44,49,41,42,55,28,16,48,42,43,35,86,45,45,54,32,50,29,28,31,31,27,33,52,21,33,33,40,52,44,46,30,20,39,29,92,31,40,54,33,87,36,49,46,89,31,29,22,55,39,49,31,36,23,41,52,32,26,68,33,20,55,35,29,48,48,32,28,23,26,19,45,23,44,38,46,28,33,37,49,44,26,43,43,28,34,33,47,37,54,41,50,32,43,34,27,87,26,40,50,16,35,18,52,44,26,23,41,31,61,45,47,91,26,39,53,27,42,35,35,31,20,36,31,47,34,52,22,33,15,28,45,47,44,39,43,44,49,48,35,35,18,47,77,20,29,28,37,47,34,26,43,47,42,32,47,48,29,53,85,32,27,35,19,21,38,30,47,46,51,26,32,32,41,54,24,44,31,41,25,42,53,53,35,39,30,30,48,30,28,42,39,23,51,42,31,40,33,43,36,41,39,31,27,31,48,29,24,39,48,27,32,45,47,30,28,31,37,48,44,50,38,25,29,38,31,48,54,28,42,33,22,76,26,54,33,37,33,35,52,27,32,45,49,26,37,55,53,31,27,45,34,30,44,44,68,30,31,42,52,29,54,39,35,26,33,28,45,47,36,31,44,14,51,45,26,38,26,46,41,40,27,33,21,38,45,81,38,31,37,35,54,28,29,51,30,49,30,21,51,35,42,42,46,28,35,35,43,43,49,33,25,40,52,27,37,51,40,26,26,27,52,48,53,27,45,30,32,43,32,50,43,55,47,29,29,46,41,42,29,33,44,46,64,42,30,26,32,41,45,20,22,52,34,33,34,31,20,39,31,48,38,34,42,40,35,34,46,41,28,20,35,42,37,44,46,43,28,39,34,46,28,29,53,53,36,50,43,38,27,35,45,27,35,30,38,35,54,29,42,30,35,29,54,29,26,28,28,21,19,39,44,48,54,75,82,29,30,42,29,48,34,14,26,30,28,41,28,53,31,26,55,31,52,18,46,58,50,35,35,32,30,32,28,55,30,36,41,30,23,36,39,35,26,22,51,20,30,44,50,53,41,46,27,30,28,37,34,34,31,51,27,35,33,35,35,34,43,35,25,33,28,55,31,42,25,26,37,42,26,12,55,13,70,62,31,44,26,31,40,49,44,48,20,38,35,35,33,34,30,46,31,27,32,55,32,24,45,28,22,44,41,34,55,40,48,29,30,15,29,26,29,23,41,35,21,19,20,23,22,36,34,28,18,36,18,33,32,36,23,37,22,34,54,39,31,18,47,29,81,90,15,34,38,29,23,41,40,41,25,39,42,40,24,45,39,33,30,50,26,23,27,22,51,21,30,23,29,52,23,31,42,39,43,34,26,48,24,26,47,27,44,19,39,22,12,21,31,23,30,36,24,44,45,23,38,31,31,39,28,42,33,39,15,26,23,35,31,21,31,32,31,50,77,21,53,39,35,32,29,37,53,32,45,31,87,38,21,40,27,44,48,47,35,18,50,32,23,28,24,25,48,39,41,36,41,30,42,28,36,51,35,41,47,31,23,23,36,36,30,39,91,22,51,40,29,25,25,35,27,41,56,30,32,51,29,52,43,19,45,34,32,33,27,32,30,35,25,45,18,33,48,31,53,40,24,18,31,20,35,38,44,21,34,12,30,25,37,37,21,43,45,29,44,47,37,31,24,29,40,21,38,53,41,19,44,14,22,31,30,26,50,26,25,35,34,33,30,27,29,27,80,16,26,18,54,35,48,25,21,47,30,29,34,33,33,32,45,40,17,46,76,45,51,33,51,30,27,31,30,24,31,27,28,15,39,53,19,44,16,65,17,53,38,27,28,30,42,25,51,38,33,41,35,63,42,15,24,44,21,22,34,22,46,37,29,51,28,40,32,46,27,53,26,28,55,73,21,33,29,37,26,33,22,50,19,25,31,28,52,29,45,46,23,27,18,35,12,37,31,61,52,32,23,35,33,28,25,30,30,31,53,46,27,54,30,32,23,17,33,35,44,35,46,33,26,29,35,38,22,21,28,43,26,40,47,43,20,28,33,30,22,55,33,24,21,23,31,28,50,67,18,33,29,18,56,26,13,18,18,31,55,49,44,75,26,29,30,24,19,35,46,35,35,35,47,20,33,29,23,37,74,30,39,51,33,46,44,79,25,39,28,40,36,48,50,47,26,32,32,28,32,37,18,27,28,20,33,40,54,37,31,20,52,20,89,63,17,40,44,37,44,33,32,37,20,39,30,32,45,69,27,54,26,19,28,49,33,43,21,22,35,41,33,33,63,32,14,18,21,47,31,20,30,35,33,20,26,41,26,21,18,20,40,19,29,38,46,44,79,29,20,26,41,33,20,28,30,54,41,22,42,13,38,26,23,33,36,45,33,39,25,33,30,27,32,32,29,38,18,40,55,26,47,29,15,41,39,52,26,38,34,41,40,30,27,33,86,28,39,35,21,34,31,45,35,29,51,46,18,13,30,33,33,48,46,32,34,54,33,40,29,19,26,29,55,21,18,26,32,33,35,22,39,30,28,21,22,53,35,28,33,41,35,40,29,49,45,18,26,49,20,75,29,32,29,33,31,35,55,48,38,52,24,20,26,44,21,24,19,21,29,26,24,22,26,32,30,24,54,54,33,20,39,31,19,28,38,30,18,33,29,47,26,15,27,29,24,29,20,44,37,26,42,31,45,25,49,50,25,29,24,24,40,36,23,44,52,44,35,35,29,36,18,20,33,34,29,44,21,19,31,51,31,55,49,32,45,28,50,14,18,20,35,39,32,19,45,36,30,19,33,85,34,42,35,43,32,34,27,29,26,19,50,38,28,39,20,33,36,30,21,32,29,31,20,35,38,53,31,34,33,25,26,27,25,29,27,37,48,48,26,30,31,25,54,26,46,44,28,40,22,43,51,70,20,43,78,35,30,64,34,24,44,55,20,48,27,47,21,24,29,30,28,66,33,39,13,24,34,53,35,24,27,72,22,37,51,38,33,79,28,21,49,51,46,20,33,40,33,48,39,28,43,27,20,28,34,30,34,32,32,45,29,50,32,55,27,32,48,33,40,27,24,25,31,29,38,21,28,16,39,29,18,47,32,26,80,53,40,23,61,41,26,38,36,27,31,39,32,85,40,20,44,28,31,82,36,26,26,39,30,28,51,12,44,34,25,17,45,16,45,32,24,44,34,44,54,23,32,34,20,31,44,51,21,27,38,31,40,21,45,39,30,34,28,55,48,17,55,54,14,45,50,33,29,45,38,18,45,35,25,21,41,34,46,35,44,42,35,37,48,47,33,41,34,23,27,16,35,45,48,20,47,24,55,23,39,29,32,28,18,31,30,33,37,31,49,36,23,19,19,34,40,26,27,27,27,30,50,29,22,31,43,28,30,15,30,30,37,53,38,82,25,28,16,31,35,18,54,30,33,22,33,88,32,27,53,80,30,39,76,35,20,34,53,30,77,19,40,40,55,25,28,45,41,40,90,35,44,21,34,27,55,18,74,41,23,23,29,30,36,33,54,55,44,26,35,45,31,39,46,50,32,49,19,25,39,52,22,28,17,27,28,28,27,27,40,29,33,37,50,22,19,16,33,41,78,26,28,41,32,32,26,41,40,45,26,28,21,53,52,37,28,31,41,49,28,21,32,35,50,51,28,48,27,29,87,23,30,28,35,28,31,31,30,52,92,28,44,32,20,26,35,54,32,37,35,45,38,23,46,40,24,29,24,33,31,35,26,26,19,38,31,51,36,38,28,37,29,25,39,22,42,37,18,35,39,24,69,47,38,26,35,33,44,55,46,25,26,25,40,26,35,47,41,39,33,45,36,40,33,30,44,27,52,54,53,69,37,26,26,51,50,28,30,19,43,44,44,63,48,42,38,32,29,50,26,32,15,30,22,30,23,35,27,34,28,43,43,19,43,37,55,26,25,34,28,34,20,29,27,30,34,22,34,30,53,41,38,54,26,41,35,20,17,38,38,32,55,33,25,25,49,41,26,30,28,13,44,25,34,34,32,38,39,27,44,79,14,19,13,20,43,37,50,30,40,26,20,29,26,29,26,41,55,44,42,29,32,48,50,36,29,49,27,28,39,34,44,46,22,30,40,49,49,52,36,32,47,34,37,27,54,35,61,26,39,48,39,27,47,27,37,74,42,38,27,29,37,29,68,41,31,32,33,44,53,42,45,43,49,42,50,49,26,37,35,49,52,29,54,27,18,46,64,32,28,19,26,26,52,19,35,39,44,55,43,33,29,92,16,33,27,31,47,29,27,74,50,28,44,43,20,55,32,39,28,36,19,51,26,37,26,43,50,41,30,29,37,50,46,38,34,37,40,30,30,27,39,37,41,33,33,72,41,81,63,26,27,26,33,51,27,33,38,29,30,64,31,38,52,52,30,34,28,20,30,49,34,49,32,69,33,19,27,53,40,75,51,26,24,88,50,32,36,27,38,57,39,31,53,27,27,35,41,40,42,83,34,51,51,32,48,41,35,48,48,54,44,27,16,40,19,35,33,52,27,31,26,44,18,43,28,41,53,18,38,50,30,30,44,17,53,65,55,13,30,61,41,39,31,30,26,15,28,34,25,52,15,48,53,27,46,28,34,15,20,18,22,32,39,43,39,43,50,33,35,21,34,19,25,50,33,15,34,26,31,48,43,35,30,31,30,18,35,41,90,30,32,38,22,84,49,33,51,34,50,50,33,37,39,31,31,23,32,34,27,19,25,46,31,38,44,21,34,47,30,18,47,26,29,44,86,35,53,34,46,23,28,48,32,18,13,43,34,54,20,50,29,33,50,31,34,27,33,28,47,55,12,70,29,14,33,42,48,27,37,26,45,29,51,51,20,31,26,46,23,46,63,38,46,23,75,34,35,28,23,46,19,41,32,61,29,19,45,15,30,28,36,28,32,41,39,40,21,78,25,89,49,32,29,83,32,34,39,30,36,21,31,30,42,30,67,27,20,25,26,28,53,42,43,31,88,25,45,54,34,50,23,15,33,30,45,25,33,26,42,27,34,50,64,61,41,53,24,40,34,34,34,38,53,31,25,34,21,21,18,21,34,28,36,34,49,43,23,12,18,64,32,18,28,35,36,18,21,24,53,26,31,33,38,18,42,38,21,25,21,36,34,20,51,29,41,18,19,20,38,26,20,42,22,44,29,29,44,23,54,51,15,18,20,33,43,27,28,19,45,34,27,44,15,54,58,21,28,49,37,49,54,40,37,32,33,76,35,19,30,34,32,23,35,55,27,24,37,30,32,28,30,25,38,30,32,20,23,58,36,41,48,36,50,51,28,44,35,50,49,23,27,31,39,31,61,41,35,30,28,26,34,35,25,53,45,27,22,29,46,31,26,24,30,23,33,46,24,51,30,39,19,28,27,21,42,32,26,46,49,18,37,54,27,42,34,32,54,48,33,52,54,33,45,39,34,28,27,21,39,45,42,85,29,33,38,48,44,26,17,64,52,52,12,18,51,17,43,32,24,30,26,31,44,27,50,22,36,26,26,25,27,23,34,26,29,54,32,28,38,28,30,46,32,28,50,18,28,23,36,45,30,33,20,29,23,26,15,40,18,42,48,42,46,25,30,33,48,22,18,27,20,38,27,56,35,55,22,19,31,30,31,32,32,13,23,30,24,38,64,33,42,38,30,38,36,89,23,31,49,45,39,31,27,35,47,22,26,46,23,26,32,29,23,40,54,31,20,18,21,28,36,19,28,18,27,54,12,46,47,20,24,21,17,33,23,33,29,28,35,30,49,24,20,37,33,22,35,30,32,30,20,50,46,80,40,32,51,13,60,19,24,35,35,49,44,35,39,31,35,41,44,27,28,28,55,44,44,32,49,47,24,27,28,29,36,55,43,32,32,28,55,31,28,34,32,31,45,30,14,30,34,32,32,34,42,38,41,14,22,33,35,29,34,31,34,19,29,27,22,52,32,25,47,20,19,34,65,31,52,34,26,50,39,18,19,49,46,23,38,32,24,30,50,48,35,49,48,68,16,52,29,43,33,34,26,42,56,45,32,30,50,51,45,12,49,31,34,38,41,35,27,52,24,28,41,52,34,19,32,27,36,65,36,35,35,28,21,29,43,55,22,35,26,54,35,23,55,30,54,35,28,31,34,25,35,39,27,26,32,22,28,31,43,47,31,18,20,38,28,54,38,43,22,48,27,42,32,23,20,28,20,26,43,28,48,32,30,57,33,22,45,22,34,39,53,30,48,18,29,19,25,40,35,23,37,35,44,34,26,26,26,18,29,20,38,22,27,30,30,41,41,28,41,33,29,31,25,32,44,52,51,26,26,19,34,47,55,82,80,41,20,28,23,42,54,55,34,22,40,43,25,37,21,50,46,18,37,33,50,24,32,28,33,56,19,29,44,18,19,26,32,47,88,25,21,35,40,22,26,38,44,19,26,40,26,29,30,33,43,52,43,20,39,54,32,42,41,27,12,32,23,18,29,38,51,24,33,35,44,27,33,32,54,33,51,45,43,32,26,37,28,37,46,32,50,42,43,20,25,20,28,38,53,44,35,31,46,20,37,43,48,19,47,27,20,33,33,32,29,27,44,41,31,44,45,23,29,47,18,39,48,28,48,18,44,46,48,20,18,34,34,25,64,29,14,20,19,20,30,33,33,33,46,36,51,45,25,16,30,26,31,19,30,35,48,41,48,45,45,44,34,44,25,64,46,53,44,42,54,26,30,26,46,27,29,17,20,26,47,53,26,32,29,51,49,33,34,30,70,45,43,27,51,50,31,47,21,30,47,40,40,33,28,50,27,18,47,12,40,34,38,20,47,24,28,22,50,34,49,84,84,34,37,19,53,33,43,20,47,50,50,19,23,22,24,31,60,31,60,32,32,32,30,32,31,31,26,43,22,37,22,30,46,28,30,45,26,32,27,44,26,20,26,42,39,32,47,22,31,44,47,83,36,32,18,31,18,33,41,24,55,53,31,50,34,50,39,40,37,27,68,28,31,21,22,24,44,18,19,88,36,20,27,32,20,35,30,34,33,13,34,12,31,33,33,26,32,31,18,29,23,34,36,47,18,31,32,32,54,50,54,29,29,37,36,54,41,34,43,43,43,43,47,36,44,24,41,26,52,29,52,26,27,50,20,55,52,20,54,54,29,49,32,30,23,31,26,33,22,26,33,32,24,29,45,30,35,30,14,36,46,25,26,33,33,35,32,40,28,22,28,18,24,29,33,76,48,54,32,27,43,44,55,44,35,37,28,51,31,22,20,28,39,41,31,59,90,54,48,27,19,36,45,16,35,44,27,37,40,36,35,19,35,16,45,29,27,16,27,38,33,47,34,21,20,42,45,45,35,48,23,18,33,38,39,30,55,53,54,39,32,36,34,36,38,34,65,33,34,28,25,45,24,29,85,24,52,28,20,26,43,18,52,55,26,36,21,43,42,27,43,48,25,21,27,34,39,54,34,21,26,52,54,24,19,25,37,39,26,34,32,29,18,18,36,84,32,27,23,53,43,54,54,47,29,22,15,47,66,31,42,39,29,37,37,41,29,33,31,45,56,25,36,45,32,53,36,36,25,46,21,38,26,40,35,47,34,47,53,34,35,39,52,31,32,29,32,32,26,55,34,34,37,12,55,55,33,18,19,27,37,48,48,41,34,42,42,32,20,27,31,49,33,32,49,22,32,44,25,38,51,29,39,29,37,27,29,29,34,46,29,34,37,37,41,32,28,44,32,47,45,22,34,38,26,28,55,19,22,41,52,35,23,30,23,30,30,45,33,28,55,60,29,24,35,43,21,32,30,30,36,49,56,33,20,46,28,34,47,45,45,26,34,26,15,28,45,46,34,20,32,45,29,65,35,24,35,35,35,35,31,18,29,27,35,50,50,78,41,30,44,18,26,47,42,49,55,51,31,52,27,31,50,47,40,33,43,36,42,26,34,44,19,45,34,24,54,17,13,32,26,43,30,19,18,31,33,33,25,35,51,35,37,28,33,28,48,49,38,29,29,34,48,28,42,18,85,54,49,34,40,24,27,12,51,46,21,37,21,35,34,30,23,36,55,32,25,26,24,32,31,32,31,34,34,19,47,13,47,30,44,24,22,44,20,26,30,29,26,28,31,26,32,27,77,27,31,46,27,52,49,29,33,31,30,26,31,34,89,40,45,30,27,18,42,46,13,41,36,41,34,35,32,29,46,35,52,42,44,64,17,36,39,34,19,49,32,35,29,29,41,37,29,30,20,35,45,21,42,48,45,30,18,20,22,12,24,31,31,35,24,46,23,23,35,49,46,27,86,34,31,28,27,36,49,19,31,29,44,35,31,52,65,37,45,38,30,55,21,49,22,21,37,59,19,29,35,38,39,21,26,54,62,49,34,16,28,22,33,30,33,20,28,29,29,34,27,29,46,24,76,55,37,31,27,12,28,26,30,32,28,65,52,32,50,39,48,27,39,76,27,29,51,37,52,22,24,26,25,43,23,29,52,52,41,20,29,27,29,37,41,29,35,32,54,44,34,21,55,18,40,24,24,37,32,35,26,26,26,54,20,38,29,29,43,30,39,44,31,18,27,20,33,34,54,24,23,35,51,26,47,31,55,45,51,43,35,34,29,41,15,31,89,48,56,33,28,31,24,35,22,26,30,25,36,40,87,40,28,31,40,47,49,24,36,26,36,19,20,86,25,27,28,24,39,25,31,35,37,22,46,35,26,30,26,31,46,46,55,22,34,51,25,35,51,45,51,30,14,26,26,22,22,36,33,51,44,23,45,38,29,28,48,47,19,54,45,35,22,45,27,34,28,34,47,54,38,50,32,32,32,29,28,19,19,47,48,29,29,24,26,27,48,23,27,34,14,38,18,18,20,35,55,20,47,26,29,33,19,79,52,34,47,48,53,35,31,20,48,22,32,32,46,18,18,50,30,26,42,43,28,44,21,31,45,34,20,33,49,20,32,69,39,32,32,32,25,33,22,33,55,40,42,24,53,19,35,44,32,29,43,32,44,30,33,54,20,37,26,26,26,50,45,26,31,46,32,42,26,39,52,50,44,27,33,19,23,27,43,18,26,30,28,50,22,27,35,38,43,28,42,16,27,18,34,39,25,33,20,22,43,51,24,27,47,41,39,39,33,31,20,55,32,41,33,27,29,23,49,52,39,45,35,25,36,29,40,49,35,26,31,51,34,12,52,35,32,41,51,35,41,47,32,22,21,52,45,38,34,24,64,37,53,12,51,25,26,15,34,26,21,31,23,26,18,27,31,44,27,43,43,64,32,22,26,30,36,30,19,30,51,50,50,40,23,19,39,54,37,53,38,47,21,50,31,32,33,22,21,30,44,44,55,29,35,31,32,35,26,34,30,31,29,21,31,31,19,15,57,50,25,32,51,55,29,71,30,20,39,30,32,50,37,37,30,26,44,32,24,31,41,27,52,53,41,26,32,21,21,28,22,25,48,35,29,29,46,21,26,79,25,34,66,19,26,29,54,46,37,23,39,26,51,30,29,55,35,29,44,51,28,39,26,23,31,37,38,35,41,43,33,13,30,20,38,32,38,34,30,26,33,46,51,23,26,34,34,32,30,48,24,45,55,33,53,40,37,33,37,29,33,44,35,27,27,20,25,36,43,41,35,37,87,19,29,53,29,25,26,38,25,43,36,30,26,47,22,27,68,25,26,43,26,28,53,34,38,30,28,34,31,31,52,76,39,25,28,20,53,33,49,33,30,46,29,35,42,28,28,26,53,54,39,31,19,28,29,26,29,32,49,29,32,48,13,28,28,79,27,31,31,36,85,27,29,25,44,29,42,16,30,35,33,25,29,34,37,45,45,28,61,26,33,27,30,30,25,86,26,40,28,40,63,45,36,26,54,43,35,51,50,31,19,32,21,55,32,48,18,20,23,18,38,49,22,42,19,28,42,22,21,28,29,21,21,32,47,30,21,34,44,49,32,20,54,45,32,53,34,30,58,28,34,47,45,26,27,45,32,55,30,42,38,30,34,24,23,22,22,30,32,46,48,52,81,32,41,73,37,48,41,31,38,47,43,47,25,52,18,30,38,32,33,31,15,28,27,47,41,52,41,40,29,26,32,28,35,27,26,38,31,44,23,25,21,17,21,26,42,31,42,24,33,34,33,16,30,38,21,50,22,48,51,43,47,51,29,47,17,35,13,31,46,35,23,13,23,19,32,27,42,30,34,45,21,39,22,28,23,55,36,55,23,29,49,53,12,15,26,35,39,39,34,33,14,28,47,26,39,30,19,16,16,38,54,24,54,36,30,37,22,50,37,49,45,27,40,39,23,21,39,31,32,26,42,46,46,33,18,19,28,19,33,48,42,32,31,36,24,24,47,26,46,34,44,25,15,31,41,21,48,28,50,50,50,39,87,51,20,33,33,35,30,50,29,28,28,54,35,32,53,23,25,32,22,44,44,43,34,69,54,50,19,35,25,43,43,43,51,51,29,34,31,31,42,23,48,27,43,39,35,26,35,48,48,44,44,36,50,29,50,33,49,33,51,34,34,42,52,42,78,23,74,18,20,20,34,30,34,16,27,48,21,47,44,50,45,33,38,30,33,43,35,47,54,28,87,19,45,33,87,45,26,46,27,25,33,46,30,38,27,33,44,26,30,44,29,32,27,47,32,12,31,47,51,43,43,89,31,35,48,39,44,31,22,35,28,24,13,37,51,18,51,19,30,40,45,45,22,31,33,34,43,24,18,26,30,30,36,40,53,32,16,51,35,50,34,33,64,28,36,33,25,36,25,34,29,26,83,33,42,19,41,31,40,45,60,23,71,50,21,46,54,25,34,37,36,29,22,41,24,45,33,27,47,30,34,39,50,54,88,52,27,45,55,31,31,49,26,34,51,31,37,31,34,43,24,53,53,28,47,43,47,53,53,49,28,46,28,26,28,41,27,41,19,52,53,28,28,53,22,46,24,30,50,42,26,37,37,40,37,29,28,49,36,66,37,37,50,66,26,19,28,28,32,32,53,19,30,19,55,25,39,53,39,21,26,22,34,22,45,22,30,30,30,34,19,43,18,28,42,23,46,18,25,45,38,34,34,28,42,52,35,52,27,19,28,30,70,35,30,23,31,27,19,19,49,52,48,19,21,21,32,28,16,33,53,55,34,28,28,26,43,30,38,30,18,37,23,25,49,30,25,30,42,31,27,29,27,88,27,24,42,26,37,16,27,33,22,22,37,48,62,32,42,29,29,85,47,52,19,21,35,30,30,12,16,24,39,26,36,46,54,55,42,43,51,13,42,38,55,30,38,29,46,32,34,27,42,34,48,21,45,16,32,45,17,17,18,29,54,21,37,51,17,20,55,47,42,39,41,42,47,29,29,30,26,27,42,23,30,33,31,16,34,41,55,23,34,23,31,43,27,46,20,53,18,32,26,32,21,45,26,33,41,26,37,37,31,38,53,84,18,28,47,29,34,28,28,34,33,55,52,27,26,14,47,21,53,28,45,30,23,40,53,28,27,51,39,37,37,50,33,29,32,47,22,30,42,26,30,69,27,27,40,54,50,73,21,30,31,37,43,89,12,31,37,37,52,26,33,30,28,49,30,49,34,41,26,30,49,12,19,49,20,54,27,34,20,20,52,26,35,53,24,36,35,36,53,21,48,35,26,20,40,28,35,58,51,30,45,54,31,33,26,44,54,23,24,22,53,26,27,58,29,23,64,30,26,28,53,32,32,36,40,78,39,33,50,37,34,44,32,39,31,49,60,18,18,39,37,44,22,40,30,36,23,34,40,41,24,49,30,29,23,23,22,34,34,54,27,23,35,40,32,34,52,31,52,31,20,54,35,55,43,43,24,18,21,26,27,35,27,32,31,21,26,33,42,30,26,30,34,20,54,36,49,39,51,34,46,19,26,38,34,34,50,34,37,26,35,31,21,26,23,50,51,37,31,33,76,27,22,23,28,28,22,45,86,32,24,28,32,28,26,40,27,30,33,53,27,35,13,30,28,49,19,27,31,50,33,30,45,33,30,35,29,34,26,55,41,30,24,39,41,22,24,45,41,31,51,30,36,50,26,26,35,20,31,36,47,20,22,44,20,26,34,43,55,20,31,37,51,31,42,41,17,34,54,32,55,66,25,55,38,41,33,48,20,48,53,24,21,28,32,49,48,16,37,35,40,46,36,26,23,18,30,68,29,29,24,23,30,31,28,40,47,31,51,31,32,30,33,16,28,28,31,46,49,69,31,36,25,32,35,31,53,50,48,12,55,45,45,55,48,34,29,20,59,26,35,45,30,51,32,43,24,43,42,43,19,31,16,34,24,26,41,34,23,46,55,31,43,15,43,31,45,39,26,30,37,43,51,34,34,34,20,20,32,27,38,38,26,34,34,28,28,46,54,30,45,26,26,29,46,36,31,29,53,45,34,35,25,19,45,25,19,43,29,55,43,44,34,49,31,44,22,34,29,29,39,19,12,50,29,27,50,27,26,30,25,55,30,30,33,32,22,30,46,29,18,42,28,44,76,46,20,24,51,31,34,16,27,29,31,22,21,16,27,29,45,34,34,49,48,45,28,38,36,46,24,17,51,22,91,31,35,24,23,38,30,22,38,32,29,28,32,33,23,24,50,16,57,25,20,31,39,24,18,43,22,25,26,19,22,35,36,37,16,22,45,55,27,33,21,25,52,41,38,16,23,30,27,40,30,38,13,24,45,52,35,32,25,45,51,46,28,21,30,29,32,76,32,46,42,31,27,29,45,55,28,77,50,48,54,19,37,54,45,28,30,39,32,27,38,50,26,33,48,30,53,46,38,31,28,29,48,29,38,25,23,26,54,29,31,32,50,31,26,35,29,35,42,45,42,50,34,14,45,55,22,22,41,46,41,46,17,36,48,28,51,12,18,36,20,31,19,49,22,47,23,19,42,64,30,49,19,13,39,23,37,21,55,24,35,40,21,49,34,50,30,21,38,51,27,36,26,48,19,29,35,34,31,31,22,34,31,43,49,55,24,54,46,20,32,30,33,47,45,30,31,50,43,30,40,24,22,44,27,34,19,44,44,21,29,20,27,30,49,41,32,77,54,18,47,18,19,24,34,13,26,19,37,39,87,44,27,30,31,53,48,15,24,35,16,40,32,20,25,23,20,53,32,29,28,22,22,29,37,20,43,44,28,43,51,30,32,20,35,39,47,51,40,53,40,50,29,35,41,32,22,39,36,34,33,61,69,27,40,53,32,54,37,50,45,20,40,26,45,18,26,34,40,31,90,24,46,30,41,39,50,34,18,31,38,45,34,41,30,26,46,24,34,32,49,40,86,32,42,54,27,45,47,75,29,23,20,29,24,38,27,24,29,24,21,29,31,36,30,22,32,34,46,26,35,58,44,30,33,39,38,20,32,56,49,13,34,28,37,48,29,32,20,22,29,50,28,26,21,30,35,36,12,24,25,25,38,36,46,16,29,35,41,46,63,29,31,46,44,29,34,51,45,25,48,35,35,42,23,45,46,35,29,58,49,19,19,39,31,16,32,22,25,38,26,29,34,29,31,85,43,26,31,50,23,30,34,43,37,23,29,32,27,28,34,27,19,43,32,46,32,27,39,31,31,26,39,43,26,34,27,27,44,23,30,29,55,34,44,55,33,48,49,45,51,33,39,35,18,67,34,59,50,44,26,30,33,16,24,65,24,32,45,27,32,12,29,33,30,20,27,42,13,23,29,32,46,41,31,26,28,48,43,30,48,41,43,27,27,44,90,33,54,33,30,21,40,40,41,38,74,35,52,54,46,50,19,25,27,47,32,46,18,15,34,27,30,40,21,55,25,33,40,17,30,32,28,52,31,20,68,36,39,35,29,36,27,24,31,32,17,26,35,21,57,33,23,52,55,54,44,45,30,42,22,52,18,27,41,45,33,35,45,28,34,19,33,26,19,33,29,28,25,27,39,22,35,19,31,28,32,40,53,22,43,42,71,51,40,30,52,33,44,47,32,31,42,19,32,52,31,30,24,31,35,30,45,40,51,26,39,37,39,83,38,48,36,18,45,20,44,30,32,32,35,41,18,25,31,24,28,49,38,53,33,28,22,30,45,34,40,26,28,50,18,39,18,46,31,31,28,31,29,22,28,46,26,37,52,24,32,55,31,34,17,51,22,33,26,32,41,27,26,28,49,31,42,36,20,27,14,22,29,40,36,26,47,31,26,30,49,38,28,76,14,33,33,36,27,37,39,25,40,42,50,41,24,48,50,31,35,46,48,30,27,33,35,21,26,45,23,18,29,34,23,43,28,87,29,38,51,30,30,45,22,86,51,43,34,22,52,29,20,40,30,31,53,27,31,26,50,22,49,50,14,22,50,29,26,47,34,26,35,44,29,41,29,33,34,27,49,53,20,53,39,35,27,43,18,41,18,63,54,30,25,38,35,29,40,25,46,14,23,40,26,64,32,34,54,21,36,26,40,30,33,51,27,24,29,37,49,35,41,16,33,19,24,40,19,55,34,31,30,45,51,17,27,23,31,48,34,33,36,30,39,46,42,80,19,29,42,30,28,38,46,17,28,30,25,29,48,29,28,50,35,37,31,52,25,26,28,40,19,35,27,23,27,28,42,42,60,32,45,22,44,21,39,54,35,51,34,46,31,35,32,34,22,24,35,28,15,32,33,34,45,34,50,38,37,33,30,45,42,36,35,53,87,43,26,29,50,15,34,48,48,31,29,28,50,14,39,38,45,15,18,29,49,19,28,31,53,27,27,20,35,47,33,47,45,18,28,30,32,38,26,74,50,40,26,31,43,44,34,52,34,35,20,20,32,22,37,73,34,29,25,52,44,37,33,53,28,41,36,50,35,21,18,75,38,53,63,55,38,38,41,32,27,13,33,31,28,23,19,21,23,43,35,32,88,25,35,44,23,44,23,54,34,26,21,35,24,30,34,55,34,19,32,36,30,36,38,28,32,33,35,35,19,52,54,28,43,48,39,31,44,47,70,41,13,35,53,30,38,49,45,91,32,34,32,19,19,41,36,30,37,36,42,22,32,35,30,12,12,24,24,54,28,44,39,35,40,54,55,23,30,24,24,21,22,67,67,29,23,39,53,43,21,55,55,28,37,81,19,19,23,22,33,21,36,33,33,31,34,26,26,41,32,19,44,21,35,21,32,33,42,46,52,34,22,29,22,35,40,30,40,44,21,68,25,50,68,32,19,49,38,48,34,55,38,26,64,24,33,54,54,33,39,54,32,34,34,23,23,23,18,40,48,52,21,54,48,17,31,42,17,28,36,48,48,26,25,45,49,45,23,31,31,40,41,40,52,35,22,38,28,28,26,35,32,46,26,28,48,30,35,34,36,18,33,36,41,31,24,49,49,27,31,33,50,22,22,46,41,23,53,49,29,49,30,45,51,42,55,51,28,27,23,39,29,18,29,25,40,39,26,31,31,26,26,27,43,33,19,40,30,71,66,31,34,37,19,28,28,55,21,23,29,35,12,27,32,18,29,33,32,21,24,26,26,44,29,36,37,53,26,25,30,73,48,48,30,23,30,40,42,33,33,46,27,26,35,38,29,18,20,48,18,35,32,32,45,19,21,22,26,27,37,45,34,51,33,30,85,31,22,33,48,14,40,18,41,33,46,15,38,15,28,28,34,34,22,63,49,49,33,25,41,30,75,40,32,31,44,39,47,36,22,19,19,26,27,38,36,38,30,37,24,24,49,54,42,54,19,84,27,89,29,89,17,17,41,50,41,15,41,22,50,50,49,49,32,43,33,52,44,29,29,23,43,43,38,13,40,51,47,21,39,21,33,26,42,26,26,37,39,36,34,13,40,21,22,18,24,30,91,23,31,22,44,68,46,50,41,18,61,41,41,41,76,44,76,34,29,30,29,38,29,35,31,27,54,50,40,48,82,57,24,36,24,54,24,54,29,26,55,31,34,23,45,30,45,30,32,45,28,23,18,40,40,20,37,30,35,34,49,20,35,21,33,28,50,43,33,25,37,52,52,28,46,52,53,52,23,22,27,20,35,33,27,42,34,35,21,22,48,25,24,18,37,49,31,40,27,31,20,19,20,42,26,28,34,46,46,25,31,26,41,26,41,26,35,26,40,53,36,43,21,33,44,18,47,48,33,33,22,19,27,55,33,55,55,42,34,20,19,27,33,34,34,26,21,28,67,43,86,47,54,34,47,20,36,36,40,30,41,34,34,25,35,28,33,21,14,21,24,22,33,26,23,32,52,33,29,43,35,68,53,83,27,25,19,22,33,31,23,42,47,39,19,30,20,31,31,30,18,35,30,35,13,28,55,26,32,47,33,23,52,30,26,37,29,41,35,54,26,39,26,30,34,39,30,32,36,32,32,28,30,31,48,28,33,30,30,41,33,27,38,40,18,29,47,47,36,30,32,20,20,39,55,17,28,28,28,32,29,26,30,47,46,55,28,36,36,31,37,45,33,30,32,35,29,29,36,49,30,32,50,35,55,30,36,19,27,48,23,31,45,49,40,55,27,42,54,20,25,35,27,25,21,27,50,25,42,30,46,27,32,32,27,73,51,28,35,40,25,45,38,29,46,18,89,32,18,26,22,26,19,31,20,32,45,49,51,44,38,25,38,41,54,25,32,30,34,30,39,54,79,30,51,48,54,23,26,15,29,15,21,46,22,33,33,31,34,20,56,45,43,35,45,37,47,38,30,28,31,31,58,27,90,53,25,24,45,36,27,47,59,25,45,23,47,33,49,48,53,24,33,40,33,44,35,43,29,33,33,28,34,30,30,18,20,40,29,47,30,28,29,24,27,27,27,44,28,45,25,36,40,12,37,27,30,30,36,27,47,33,28,22,30,55,24,31,47,31,69,12,34,24,32,48,35,18,38,22,28,74,49,49,44,32,33,44,36,30,47,27,40,12,31,32,22,27,54,35,47,30,36,34,50,55,21,37,52,48,30,24,24,43,36,40,39,75,40,21,27,26,32,46,43,50,19,33,79,28,31,37,31,34,46,40,43,20,29,43,28,32,25,39,25,26,21,40,37,21,41,44,34,44,44,29,42,35,54,29,46,39,54,41,26,45,36,34,35,19,30,13,66,50,31,47,45,41,26,43,34,44,24,36,18,25,30,53,35,51,52,25,55,19,25,43,35,35,43,33,70,40,18,28,36,40,30,31,35,46,33,31,30,22,21,28,28,38,49,49,54,27,47,13,23,31,25,29,23,31,16,45,27,22,34,49,48,21,22,22,45,21,50,24,35,20,28,28,54,23,46,57,25,49,32,36,44,50,19,53,43,18,30,35,35,21,21,30,26,47,40,32,30,45,20,57,30,40,28,28,27,23,35,19,40,38,26,35,29,22,21,33,72,31,38,49,43,12,19,26,29,39,15,49,26,31,36,45,49,30,20,54,32,84,48,55,27,42,49,35,45,35,31,17,19,27,20,23,25,45,29,38,42,30,31,34,25,44,34,27,40,35,18,28,31,24,28,42,30,48,21,33,31,18,34,15,34,52,33,35,42,52,30,37,31,26,25,49,35,27,47,18,40,19,19,29,35,35,27,27,84,54,44,80,28,34,21,44,29,45,20,19,25,27,27,23,29,27,48,44,24,22,37,47,27,69,49,41,42,24,27,33,26,23,53,35,38,26,20,65,39,53,51,73,30,81,21,29,18,24,39,47,27,31,26,44,31,55,25,34,50,20,36,28,47,28,48,46,25,36,21,32,28,21,34,43,34,26,34,24,36,29,29,21,12,21,24,43,33,48,35,31,32,46,38,12,26,25,38,30,27,33,33,40,51,25,25,25,31,31,31,30,31,54,31,45,50,30,38,26,54,25,21,31,31,85,19,39,19,28,54,32,31,32,37,29,35,35,26,26,46,25,30,26,36,24,39,29,20,52,36,21,89,32,35,35,12,30,39,35,28,27,40,52,15,54,54,25,54,23,46,50,36,29,47,47,35,45,32,42,23,52,35,21,41,30,27,45,33,21,35,26,31,30,24,85,46,44,29,29,24,43,37,25,13,37,48,37,53,41,21,71,20,33,53,55,26,34,48,26,43,19,22,48,43,27,49,45,27,47,30,69,39,37,24,31,21,39,54,26,32,45,21,29,28,54,22,35,34,45,31,39,27,50,38,51,31,22,31,21,32,53,40,26,28,48,28,27,18,26,22,49,27,20,41,37,54,22,22,21,51,19,50,27,30,28,29,40,42,30,29,52,22,50,21,54,54,17,29,47,44,27,35,44,23,27,37,25,54,84,31,34,23,24,54,31,29,35,35,29,72,32,14,38,31,26,34,15,34,74,31,40,45,42,30,50,51,41,51,31,33,29,72,50,31,44,53,54,58,26,30,46,31,29,20,35,32,52,35,18,32,59,22,29,29,27,48,33,32,52,35,29,26,30,35,37,50,19,18,26,33,34,50,30,65,19,51,52,40,28,26,28,24,33,29,52,26,61,45,42,18,18,42,49,30,33,12,44,42,35,31,27,32,48,33,26,51,30,19,33,38,33,49,47,32,26,33,25,39,48,20,34,43,27,35,47,22,25,22,44,49,20,49,52,54,31,32,29,38,34,19,55,29,21,25,15,41,34,27,41,29,40,47,46,20,39,43,34,37,28,32,37,39,47,27,45,27,73,21,27,29,21,42,37,26,32,18,22,42,26,45,46,28,31,40,34,31,30,30,16,32,25,50,15,45,50,50,33,32,36,35,44,58,41,38,12,22,19,35,35,29,47,47,45,37,43,28,39,36,55,41,29,50,51,51,27,26,34,42,39,39,56,22,31,43,12,29,46,16,44,16,22,42,87,30,27,32,32,27,27,31,28,19,27,75,30,32,22,28,28,48,61,13,54,63,43,75,26,92,26,28,83,83,39,53,65,27,78,51,27,32,34,20,26,33,55,24,44,23,32,28,29,42,46,30,47,30,27,44,46,30,48,28,27,44,47,30,50,30,29,55,27,32,34,32,38,55,25,21,45,30,51,46,40,45,32,33,35,49,53,31,47,42,51,40,19,40,51,32,25,36,28,52,30,27,55,25,22,12,76,36,28,47,27,46,21,20,20,83,47,32,12,13,26,26,33,33,49,49,55,29,37,30,45,33,75,49,48,54,33,21,25,28,50,13,22,21,91,28,55,29,29,27,21,28,20,28,22,50,28,30,46,29,18,26,50,38,35,30,35,48,51,45,50,27,51,41,32,39,86,27,18,20,50,50,42,33,26,43,39,54,30,30,48,29,31,26,23,33,28,39,39,26,50,20,20,27,29,53,28,20,48,45,28,28,29,30,26,41,34,34,27,26,36,32,41,37,31,31,44,31,50,20,33,47,21,21,27,25,47,26,34,44,34,32,32,28,26,22,34,43,43,40,32,33,35,35,52,42,34,35,39,26,41,39,20,86,26,43,47,23,55,26,27,22,25,37,38,29,44,20,18,50,21,33,22,42,28,35,52,34,35,40,41,24,19,25,26,40,21,28,28,19,20,28,35,53,30,26,47,27,44,49,53,21,49,18,29,36,30,16,21,30,30,34,22,30,19,21,20,30,31,30,22,28,26,29,18,18,44,44,36,36,53,34,18,31,44,47,25,26,41,28,28,28,29,30,30,35,43,27,20,24,33,38,21,22,29,27,22,30,18,27,30,29,54,47,21,34,30,44,28,35,43,32,21,84,13,38,39,34,23,43,35,20,47,22,23,34,41,53,43,27,43,30,32,75,50,27,60,26,52,26,33,39,24,44,38,50,43,53,35,38,22,27,42,27,27,35,25,41,27,43,50,24,43,22,32,50,24,33,46,28,16,31,50,45,47,19,43,26,26,33,30,54,32,34,46,18,33,52,39,31,34,30,34,35,30,28,32,28,13,18,30,41,30,26,44,17,24,41,89,37,29,57,36,28,52,17,32,38,34,29,50,28,54,36,53,52,74,36,54,30,38,35,45,49,42,31,24,35,87,33,39,40,58,23,52,46,26,26,19,36,29,37,42,43,71,28,22,23,22,22,44,39,35,50,15,91,39,47,32,28,27,34,26,41,28,38,29,91,24,53,27,53,38,33,48,33,28,13,28,23,30,30,38,34,42,30,30,21,53,92,31,53,28,26,30,39,29,27,51,32,27,31,33,39,28,77,22,52,51,31,25,35,73,26,49,26,19,33,30,46,35,27,25,26,28,29,29,53,38,19,32,29,28,34,33,27,29,45,21,24,41,47,14,36,34,26,49,52,42,45,29,30,44,38,24,27,66,26,43,41,35,31,30,28,28,28,45,26,28,50,43,52,44,33,29,38,27,22,20,36,23,29,83,31,19,35,24,50,23,25,30,48,30,15,47,46,48,52,52,27,33,30,76,23,39,33,28,32,36,27,33,25,29,71,40,47,48,32,26,26,48,30,30,19,41,47,26,33,21,27,28,32,39,44,78,30,41,41,29,47,33,21,33,29,43,61,28,66,44,22,30,19,30,17,31,40,44,18,23,19,27,30,54,45,24,21,30,39,18,35,31,30,49,29,49,26,22,30,45,26,32,29,34,33,19,40,54,33,15,47,18,24,52,24,22,18,48,22,50,61,24,71,27,28,33,29,31,40,45,29,26,17,38,43,31,32,24,34,43,23,26,38,19,36,25,28,33,16,33,35,48,30,43,32,33,34,29,24,18,27,47,69,23,38,33,38,26,32,45,52,35,16,29,33,35,41,52,32,35,36,34,33,36,33,53,31,28,23,28,34,26,28,29,52,34,27,27,34,23,27,35,26,18,26,37,28,32,21,30,33,30,53,37,33,24,44,40,16,28,31,34,36,27,20,22,19,35,27,46,18,27,14,23,33,25,21,35,33,26,31,33,30,28,41,46,38,19,38,26,30,22,27,19,50,34,28,30,30,26,30,24,32,32,14,44,29,27,29,43,47,24,33,33,52,35,22,27,30,77,42,29,29,38,28,49,25,24,25,31,23,26,52,31,29,16,34,42,19,35,22,23,22,25,44,88,26,28,29,18,28,23,20,19,24,31,34,54,19,39,26,55,26,37,35,22,28,32,22,26,39,28,43,27,49,20,19,30,41,43,28,53,32,47,52,44,31,25,34,33,34,42,28,39,29,23,38,29,34,43,28,50,41,38,39,54,33,31,29,50,52,31,27,46,47,24,43,27,18,27,19,47,33,40,76,34,28,28,29,50,39,91,40,27,39,21,33,49,35,36,52,21,34,52,32,33,53,35,35,22,30,32,15,39,32,52,28,48,30,36,24,18,30,60,25,37,34,30,54,32,55,21,44,38,35,36,13,19,32,35,24,23,16,39,29,23,37,28,33,28,81,21,19,32,39,31,26,32,29,26,16,20,31,22,20,30,26,30,29,34,28,51,15,28,32,27,31,31,36,20,21,30,27,17,33,24,38,48,40,34,29,36,31,20,35,38,24,45,33,30,42,30,27,25,31,21,35,36,27,45,32,50,44,26,43,19,22,41,47,32,49,33,34,21,28,28,26,33,31,35,21,20,30,35,64,34,50,34,25,33,19,29,23,27,35,33,19,35,19,36,30,55,34,26,21,78,28,25,29,49,27,34,33,37,22,24,31,31,37,44,34,38,36,45,31,43,30,53,43,22,32,33,31,33,34,34,31,47,25,25,54,33,43,50,18,21,26,20,50,26,51,24,26,41,19,27,41,45,48,37,30,30,49,34,21,19,17,38,51,29,29,29,18,32,34,14,46,32,20,19,51,48,41,50,26,30,40,29,41,47,18,26,24,52,45,53,27,49,35,35,29,23,40,30,37,48,55,36,26,37,53,21,31,19,38,35,41,55,47,33,36,27,49,50,30,21,32,27,34,18,23,47,32,41,43,50,32,44,48,29,45,19,19,30,36,79,51,33,21,54,37,25,38,52,28,28,29,31,21,29,38,47,28,20,29,30,35,20,47,25,25,25,32,35,24,53,22,33,12,28,27,32,34,26,53,18,18,30,35,41,34,33,14,36,25,25,29,18,35,44,22,42,32,33,42,34,33,44,12,45,20,20,30,28,51,34,36,18,20,24,38,22,31,27,44,54,53,44,18,40,46,53,46,53,30,35,34,54,13,44,50,40,42,30,37,52,27,27,34,49,18,31,69,42,31,26,21,28,27,33,18,27,24,32,44,33,41,40,37,49,33,28,24,30,43,26,32,50,38,35,29,31,31,30,37,27,32,37,38,38,28,40,40,27,23,35,27,32,46,30,21,22,31,45,45,34,42,26,76,19,33,28,35,20,26,49,13,37,33,28,35,49,28,30,30,33,39,17,26,41,90,13,52,90,35,47,26,19,40,27,37,37,31,30,32,53,20,37,50,25,34,19,44,85,29,28,49,31,63,38,87,31,47,55,39,34,42,34,20,35,41,35,27,19,27,18,36,89,41,25,35,30,29,62,28,42,26,45,37,60,37,20,25,45,34,28,84,30,45,30,29,49,31,23,20,27,35,29,23,45,75,50,19,18,50,35,27,46,27,22,23,59,13,45,26,41,32,40,40,20,23,20,42,35,38,41,29,32,42,31,29,46,18,27,50,27,26,18,42,42,35,50,50,26,31,26,32,49,20,32,30,42,31,31,42,35,52,46,42,57,26,36,31,26,30,43,33,43,29,43,43,44,35,38,41,46,32,21,52,25,27,28,32,23,38,69,48,20,33,32,26,26,22,22,34,30,33,39,32,22,29,85,31,12,28,20,28,23,26,30,31,36,30,55,33,40,34,21,43,76,13,34,22,29,27,34,15,35,29,29,28,34,28,36,26,29,34,21,32,30,33,45,89,43,26,44,27,38,44,32,55,25,27,36,48,23,69,34,24,23,29,50,14,18,44,19,29,40,23,23,43,34,44,27,40,40,41,22,28,39,51,21,42,27,28,34,67,18,42,23,43,52,32,50,19,28,27,49,29,27,25,47,64,33,50,47,32,13,21,18,48,50,32,48,30,23,48,20,18,42,54,35,49,80,37,20,27,19,21,39,17,29,28,33,12,33,27,53,53,31,19,33,40,37,19],\"x0\":\" \",\"xaxis\":\"x\",\"y0\":\" \",\"yaxis\":\"y\",\"type\":\"box\"}],                        {\"template\":{\"data\":{\"histogram2dcontour\":[{\"type\":\"histogram2dcontour\",\"colorbar\":{\"outlinewidth\":0,\"ticks\":\"\"},\"colorscale\":[[0.0,\"#0d0887\"],[0.1111111111111111,\"#46039f\"],[0.2222222222222222,\"#7201a8\"],[0.3333333333333333,\"#9c179e\"],[0.4444444444444444,\"#bd3786\"],[0.5555555555555556,\"#d8576b\"],[0.6666666666666666,\"#ed7953\"],[0.7777777777777778,\"#fb9f3a\"],[0.8888888888888888,\"#fdca26\"],[1.0,\"#f0f921\"]]}],\"choropleth\":[{\"type\":\"choropleth\",\"colorbar\":{\"outlinewidth\":0,\"ticks\":\"\"}}],\"histogram2d\":[{\"type\":\"histogram2d\",\"colorbar\":{\"outlinewidth\":0,\"ticks\":\"\"},\"colorscale\":[[0.0,\"#0d0887\"],[0.1111111111111111,\"#46039f\"],[0.2222222222222222,\"#7201a8\"],[0.3333333333333333,\"#9c179e\"],[0.4444444444444444,\"#bd3786\"],[0.5555555555555556,\"#d8576b\"],[0.6666666666666666,\"#ed7953\"],[0.7777777777777778,\"#fb9f3a\"],[0.8888888888888888,\"#fdca26\"],[1.0,\"#f0f921\"]]}],\"heatmap\":[{\"type\":\"heatmap\",\"colorbar\":{\"outlinewidth\":0,\"ticks\":\"\"},\"colorscale\":[[0.0,\"#0d0887\"],[0.1111111111111111,\"#46039f\"],[0.2222222222222222,\"#7201a8\"],[0.3333333333333333,\"#9c179e\"],[0.4444444444444444,\"#bd3786\"],[0.5555555555555556,\"#d8576b\"],[0.6666666666666666,\"#ed7953\"],[0.7777777777777778,\"#fb9f3a\"],[0.8888888888888888,\"#fdca26\"],[1.0,\"#f0f921\"]]}],\"heatmapgl\":[{\"type\":\"heatmapgl\",\"colorbar\":{\"outlinewidth\":0,\"ticks\":\"\"},\"colorscale\":[[0.0,\"#0d0887\"],[0.1111111111111111,\"#46039f\"],[0.2222222222222222,\"#7201a8\"],[0.3333333333333333,\"#9c179e\"],[0.4444444444444444,\"#bd3786\"],[0.5555555555555556,\"#d8576b\"],[0.6666666666666666,\"#ed7953\"],[0.7777777777777778,\"#fb9f3a\"],[0.8888888888888888,\"#fdca26\"],[1.0,\"#f0f921\"]]}],\"contourcarpet\":[{\"type\":\"contourcarpet\",\"colorbar\":{\"outlinewidth\":0,\"ticks\":\"\"}}],\"contour\":[{\"type\":\"contour\",\"colorbar\":{\"outlinewidth\":0,\"ticks\":\"\"},\"colorscale\":[[0.0,\"#0d0887\"],[0.1111111111111111,\"#46039f\"],[0.2222222222222222,\"#7201a8\"],[0.3333333333333333,\"#9c179e\"],[0.4444444444444444,\"#bd3786\"],[0.5555555555555556,\"#d8576b\"],[0.6666666666666666,\"#ed7953\"],[0.7777777777777778,\"#fb9f3a\"],[0.8888888888888888,\"#fdca26\"],[1.0,\"#f0f921\"]]}],\"surface\":[{\"type\":\"surface\",\"colorbar\":{\"outlinewidth\":0,\"ticks\":\"\"},\"colorscale\":[[0.0,\"#0d0887\"],[0.1111111111111111,\"#46039f\"],[0.2222222222222222,\"#7201a8\"],[0.3333333333333333,\"#9c179e\"],[0.4444444444444444,\"#bd3786\"],[0.5555555555555556,\"#d8576b\"],[0.6666666666666666,\"#ed7953\"],[0.7777777777777778,\"#fb9f3a\"],[0.8888888888888888,\"#fdca26\"],[1.0,\"#f0f921\"]]}],\"mesh3d\":[{\"type\":\"mesh3d\",\"colorbar\":{\"outlinewidth\":0,\"ticks\":\"\"}}],\"scatter\":[{\"fillpattern\":{\"fillmode\":\"overlay\",\"size\":10,\"solidity\":0.2},\"type\":\"scatter\"}],\"parcoords\":[{\"type\":\"parcoords\",\"line\":{\"colorbar\":{\"outlinewidth\":0,\"ticks\":\"\"}}}],\"scatterpolargl\":[{\"type\":\"scatterpolargl\",\"marker\":{\"colorbar\":{\"outlinewidth\":0,\"ticks\":\"\"}}}],\"bar\":[{\"error_x\":{\"color\":\"#2a3f5f\"},\"error_y\":{\"color\":\"#2a3f5f\"},\"marker\":{\"line\":{\"color\":\"#E5ECF6\",\"width\":0.5},\"pattern\":{\"fillmode\":\"overlay\",\"size\":10,\"solidity\":0.2}},\"type\":\"bar\"}],\"scattergeo\":[{\"type\":\"scattergeo\",\"marker\":{\"colorbar\":{\"outlinewidth\":0,\"ticks\":\"\"}}}],\"scatterpolar\":[{\"type\":\"scatterpolar\",\"marker\":{\"colorbar\":{\"outlinewidth\":0,\"ticks\":\"\"}}}],\"histogram\":[{\"marker\":{\"pattern\":{\"fillmode\":\"overlay\",\"size\":10,\"solidity\":0.2}},\"type\":\"histogram\"}],\"scattergl\":[{\"type\":\"scattergl\",\"marker\":{\"colorbar\":{\"outlinewidth\":0,\"ticks\":\"\"}}}],\"scatter3d\":[{\"type\":\"scatter3d\",\"line\":{\"colorbar\":{\"outlinewidth\":0,\"ticks\":\"\"}},\"marker\":{\"colorbar\":{\"outlinewidth\":0,\"ticks\":\"\"}}}],\"scattermapbox\":[{\"type\":\"scattermapbox\",\"marker\":{\"colorbar\":{\"outlinewidth\":0,\"ticks\":\"\"}}}],\"scatterternary\":[{\"type\":\"scatterternary\",\"marker\":{\"colorbar\":{\"outlinewidth\":0,\"ticks\":\"\"}}}],\"scattercarpet\":[{\"type\":\"scattercarpet\",\"marker\":{\"colorbar\":{\"outlinewidth\":0,\"ticks\":\"\"}}}],\"carpet\":[{\"aaxis\":{\"endlinecolor\":\"#2a3f5f\",\"gridcolor\":\"white\",\"linecolor\":\"white\",\"minorgridcolor\":\"white\",\"startlinecolor\":\"#2a3f5f\"},\"baxis\":{\"endlinecolor\":\"#2a3f5f\",\"gridcolor\":\"white\",\"linecolor\":\"white\",\"minorgridcolor\":\"white\",\"startlinecolor\":\"#2a3f5f\"},\"type\":\"carpet\"}],\"table\":[{\"cells\":{\"fill\":{\"color\":\"#EBF0F8\"},\"line\":{\"color\":\"white\"}},\"header\":{\"fill\":{\"color\":\"#C8D4E3\"},\"line\":{\"color\":\"white\"}},\"type\":\"table\"}],\"barpolar\":[{\"marker\":{\"line\":{\"color\":\"#E5ECF6\",\"width\":0.5},\"pattern\":{\"fillmode\":\"overlay\",\"size\":10,\"solidity\":0.2}},\"type\":\"barpolar\"}],\"pie\":[{\"automargin\":true,\"type\":\"pie\"}]},\"layout\":{\"autotypenumbers\":\"strict\",\"colorway\":[\"#636efa\",\"#EF553B\",\"#00cc96\",\"#ab63fa\",\"#FFA15A\",\"#19d3f3\",\"#FF6692\",\"#B6E880\",\"#FF97FF\",\"#FECB52\"],\"font\":{\"color\":\"#2a3f5f\"},\"hovermode\":\"closest\",\"hoverlabel\":{\"align\":\"left\"},\"paper_bgcolor\":\"white\",\"plot_bgcolor\":\"#E5ECF6\",\"polar\":{\"bgcolor\":\"#E5ECF6\",\"angularaxis\":{\"gridcolor\":\"white\",\"linecolor\":\"white\",\"ticks\":\"\"},\"radialaxis\":{\"gridcolor\":\"white\",\"linecolor\":\"white\",\"ticks\":\"\"}},\"ternary\":{\"bgcolor\":\"#E5ECF6\",\"aaxis\":{\"gridcolor\":\"white\",\"linecolor\":\"white\",\"ticks\":\"\"},\"baxis\":{\"gridcolor\":\"white\",\"linecolor\":\"white\",\"ticks\":\"\"},\"caxis\":{\"gridcolor\":\"white\",\"linecolor\":\"white\",\"ticks\":\"\"}},\"coloraxis\":{\"colorbar\":{\"outlinewidth\":0,\"ticks\":\"\"}},\"colorscale\":{\"sequential\":[[0.0,\"#0d0887\"],[0.1111111111111111,\"#46039f\"],[0.2222222222222222,\"#7201a8\"],[0.3333333333333333,\"#9c179e\"],[0.4444444444444444,\"#bd3786\"],[0.5555555555555556,\"#d8576b\"],[0.6666666666666666,\"#ed7953\"],[0.7777777777777778,\"#fb9f3a\"],[0.8888888888888888,\"#fdca26\"],[1.0,\"#f0f921\"]],\"sequentialminus\":[[0.0,\"#0d0887\"],[0.1111111111111111,\"#46039f\"],[0.2222222222222222,\"#7201a8\"],[0.3333333333333333,\"#9c179e\"],[0.4444444444444444,\"#bd3786\"],[0.5555555555555556,\"#d8576b\"],[0.6666666666666666,\"#ed7953\"],[0.7777777777777778,\"#fb9f3a\"],[0.8888888888888888,\"#fdca26\"],[1.0,\"#f0f921\"]],\"diverging\":[[0,\"#8e0152\"],[0.1,\"#c51b7d\"],[0.2,\"#de77ae\"],[0.3,\"#f1b6da\"],[0.4,\"#fde0ef\"],[0.5,\"#f7f7f7\"],[0.6,\"#e6f5d0\"],[0.7,\"#b8e186\"],[0.8,\"#7fbc41\"],[0.9,\"#4d9221\"],[1,\"#276419\"]]},\"xaxis\":{\"gridcolor\":\"white\",\"linecolor\":\"white\",\"ticks\":\"\",\"title\":{\"standoff\":15},\"zerolinecolor\":\"white\",\"automargin\":true,\"zerolinewidth\":2},\"yaxis\":{\"gridcolor\":\"white\",\"linecolor\":\"white\",\"ticks\":\"\",\"title\":{\"standoff\":15},\"zerolinecolor\":\"white\",\"automargin\":true,\"zerolinewidth\":2},\"scene\":{\"xaxis\":{\"backgroundcolor\":\"#E5ECF6\",\"gridcolor\":\"white\",\"linecolor\":\"white\",\"showbackground\":true,\"ticks\":\"\",\"zerolinecolor\":\"white\",\"gridwidth\":2},\"yaxis\":{\"backgroundcolor\":\"#E5ECF6\",\"gridcolor\":\"white\",\"linecolor\":\"white\",\"showbackground\":true,\"ticks\":\"\",\"zerolinecolor\":\"white\",\"gridwidth\":2},\"zaxis\":{\"backgroundcolor\":\"#E5ECF6\",\"gridcolor\":\"white\",\"linecolor\":\"white\",\"showbackground\":true,\"ticks\":\"\",\"zerolinecolor\":\"white\",\"gridwidth\":2}},\"shapedefaults\":{\"line\":{\"color\":\"#2a3f5f\"}},\"annotationdefaults\":{\"arrowcolor\":\"#2a3f5f\",\"arrowhead\":0,\"arrowwidth\":1},\"geo\":{\"bgcolor\":\"white\",\"landcolor\":\"#E5ECF6\",\"subunitcolor\":\"white\",\"showland\":true,\"showlakes\":true,\"lakecolor\":\"white\"},\"title\":{\"x\":0.05},\"mapbox\":{\"style\":\"light\"}}},\"xaxis\":{\"anchor\":\"y\",\"domain\":[0.0,1.0],\"title\":{\"text\":\"Ages\"}},\"yaxis\":{\"anchor\":\"x\",\"domain\":[0.0,1.0]},\"legend\":{\"tracegroupgap\":0},\"margin\":{\"t\":60},\"boxmode\":\"group\",\"title\":{\"text\":\"Distribution of ages\"},\"height\":400,\"width\":800,\"showlegend\":false},                        {\"responsive\": true}                    ).then(function(){\n",
       "                            \n",
       "var gd = document.getElementById('d985af9b-c9cd-4490-b146-13b956616e0c');\n",
       "var x = new MutationObserver(function (mutations, observer) {{\n",
       "        var display = window.getComputedStyle(gd).display;\n",
       "        if (!display || display === 'none') {{\n",
       "            console.log([gd, 'removed!']);\n",
       "            Plotly.purge(gd);\n",
       "            observer.disconnect();\n",
       "        }}\n",
       "}});\n",
       "\n",
       "// Listen for the removal of the full notebook cells\n",
       "var notebookContainer = gd.closest('#notebook-container');\n",
       "if (notebookContainer) {{\n",
       "    x.observe(notebookContainer, {childList: true});\n",
       "}}\n",
       "\n",
       "// Listen for the clearing of the current output cell\n",
       "var outputEl = gd.closest('.output');\n",
       "if (outputEl) {{\n",
       "    x.observe(outputEl, {childList: true});\n",
       "}}\n",
       "\n",
       "                        })                };                });            </script>        </div>"
      ]
     },
     "metadata": {},
     "output_type": "display_data"
    }
   ],
   "source": [
    "fig=px.box(df, x=\"age\", points='all')\n",
    "\n",
    "fig.update_layout(title=\"Distribution of ages\", \n",
    "                  height=400, \n",
    "                  width=800,  \n",
    "                  showlegend=False, \n",
    "                  xaxis_title_text='Ages')\n",
    "\n",
    "fig.show()"
   ]
  },
  {
   "cell_type": "markdown",
   "id": "91fb4cbc",
   "metadata": {
    "papermill": {
     "duration": 0.044152,
     "end_time": "2023-10-31T05:07:48.506869",
     "exception": false,
     "start_time": "2023-10-31T05:07:48.462717",
     "status": "completed"
    },
    "tags": []
   },
   "source": [
    "#### marital_status"
   ]
  },
  {
   "cell_type": "markdown",
   "id": "acbe425e",
   "metadata": {
    "papermill": {
     "duration": 0.044349,
     "end_time": "2023-10-31T05:07:48.596266",
     "exception": false,
     "start_time": "2023-10-31T05:07:48.551917",
     "status": "completed"
    },
    "tags": []
   },
   "source": [
    "Looking at the number of orders based on marital status"
   ]
  },
  {
   "cell_type": "code",
   "execution_count": 30,
   "id": "ed3278c1",
   "metadata": {
    "execution": {
     "iopub.execute_input": "2023-10-31T05:07:48.690183Z",
     "iopub.status.busy": "2023-10-31T05:07:48.689799Z",
     "iopub.status.idle": "2023-10-31T05:07:48.702515Z",
     "shell.execute_reply": "2023-10-31T05:07:48.701117Z"
    },
    "papermill": {
     "duration": 0.062362,
     "end_time": "2023-10-31T05:07:48.704986",
     "exception": false,
     "start_time": "2023-10-31T05:07:48.642624",
     "status": "completed"
    },
    "tags": []
   },
   "outputs": [
    {
     "data": {
      "text/plain": [
       "marital_status\n",
       "0    6518\n",
       "1    4721\n",
       "Name: count, dtype: int64"
      ]
     },
     "execution_count": 30,
     "metadata": {},
     "output_type": "execute_result"
    }
   ],
   "source": [
    "df['marital_status'].value_counts()"
   ]
  },
  {
   "cell_type": "markdown",
   "id": "28ebae47",
   "metadata": {
    "papermill": {
     "duration": 0.045805,
     "end_time": "2023-10-31T05:07:48.796475",
     "exception": false,
     "start_time": "2023-10-31T05:07:48.750670",
     "status": "completed"
    },
    "tags": []
   },
   "source": [
    "Visualizing the distribution of orders with respect to marital status"
   ]
  },
  {
   "cell_type": "code",
   "execution_count": 31,
   "id": "11623b23",
   "metadata": {
    "execution": {
     "iopub.execute_input": "2023-10-31T05:07:48.887813Z",
     "iopub.status.busy": "2023-10-31T05:07:48.887392Z",
     "iopub.status.idle": "2023-10-31T05:07:48.953984Z",
     "shell.execute_reply": "2023-10-31T05:07:48.952594Z"
    },
    "papermill": {
     "duration": 0.115174,
     "end_time": "2023-10-31T05:07:48.956915",
     "exception": false,
     "start_time": "2023-10-31T05:07:48.841741",
     "status": "completed"
    },
    "tags": []
   },
   "outputs": [
    {
     "data": {
      "text/html": [
       "<div>                            <div id=\"ef6926ca-f259-4518-be63-1fb0f65c8d2b\" class=\"plotly-graph-div\" style=\"height:500px; width:800px;\"></div>            <script type=\"text/javascript\">                require([\"plotly\"], function(Plotly) {                    window.PLOTLYENV=window.PLOTLYENV || {};                                    if (document.getElementById(\"ef6926ca-f259-4518-be63-1fb0f65c8d2b\")) {                    Plotly.newPlot(                        \"ef6926ca-f259-4518-be63-1fb0f65c8d2b\",                        [{\"domain\":{\"x\":[0.0,1.0],\"y\":[0.0,1.0]},\"hovertemplate\":\"marital_status=%{label}\\u003cbr\\u003ecounts=%{value}\\u003cextra\\u003e\\u003c\\u002fextra\\u003e\",\"labels\":[\"Not married\",\"Married\"],\"legendgroup\":\"\",\"name\":\"\",\"showlegend\":true,\"values\":[6518,4721],\"type\":\"pie\"}],                        {\"template\":{\"data\":{\"histogram2dcontour\":[{\"type\":\"histogram2dcontour\",\"colorbar\":{\"outlinewidth\":0,\"ticks\":\"\"},\"colorscale\":[[0.0,\"#0d0887\"],[0.1111111111111111,\"#46039f\"],[0.2222222222222222,\"#7201a8\"],[0.3333333333333333,\"#9c179e\"],[0.4444444444444444,\"#bd3786\"],[0.5555555555555556,\"#d8576b\"],[0.6666666666666666,\"#ed7953\"],[0.7777777777777778,\"#fb9f3a\"],[0.8888888888888888,\"#fdca26\"],[1.0,\"#f0f921\"]]}],\"choropleth\":[{\"type\":\"choropleth\",\"colorbar\":{\"outlinewidth\":0,\"ticks\":\"\"}}],\"histogram2d\":[{\"type\":\"histogram2d\",\"colorbar\":{\"outlinewidth\":0,\"ticks\":\"\"},\"colorscale\":[[0.0,\"#0d0887\"],[0.1111111111111111,\"#46039f\"],[0.2222222222222222,\"#7201a8\"],[0.3333333333333333,\"#9c179e\"],[0.4444444444444444,\"#bd3786\"],[0.5555555555555556,\"#d8576b\"],[0.6666666666666666,\"#ed7953\"],[0.7777777777777778,\"#fb9f3a\"],[0.8888888888888888,\"#fdca26\"],[1.0,\"#f0f921\"]]}],\"heatmap\":[{\"type\":\"heatmap\",\"colorbar\":{\"outlinewidth\":0,\"ticks\":\"\"},\"colorscale\":[[0.0,\"#0d0887\"],[0.1111111111111111,\"#46039f\"],[0.2222222222222222,\"#7201a8\"],[0.3333333333333333,\"#9c179e\"],[0.4444444444444444,\"#bd3786\"],[0.5555555555555556,\"#d8576b\"],[0.6666666666666666,\"#ed7953\"],[0.7777777777777778,\"#fb9f3a\"],[0.8888888888888888,\"#fdca26\"],[1.0,\"#f0f921\"]]}],\"heatmapgl\":[{\"type\":\"heatmapgl\",\"colorbar\":{\"outlinewidth\":0,\"ticks\":\"\"},\"colorscale\":[[0.0,\"#0d0887\"],[0.1111111111111111,\"#46039f\"],[0.2222222222222222,\"#7201a8\"],[0.3333333333333333,\"#9c179e\"],[0.4444444444444444,\"#bd3786\"],[0.5555555555555556,\"#d8576b\"],[0.6666666666666666,\"#ed7953\"],[0.7777777777777778,\"#fb9f3a\"],[0.8888888888888888,\"#fdca26\"],[1.0,\"#f0f921\"]]}],\"contourcarpet\":[{\"type\":\"contourcarpet\",\"colorbar\":{\"outlinewidth\":0,\"ticks\":\"\"}}],\"contour\":[{\"type\":\"contour\",\"colorbar\":{\"outlinewidth\":0,\"ticks\":\"\"},\"colorscale\":[[0.0,\"#0d0887\"],[0.1111111111111111,\"#46039f\"],[0.2222222222222222,\"#7201a8\"],[0.3333333333333333,\"#9c179e\"],[0.4444444444444444,\"#bd3786\"],[0.5555555555555556,\"#d8576b\"],[0.6666666666666666,\"#ed7953\"],[0.7777777777777778,\"#fb9f3a\"],[0.8888888888888888,\"#fdca26\"],[1.0,\"#f0f921\"]]}],\"surface\":[{\"type\":\"surface\",\"colorbar\":{\"outlinewidth\":0,\"ticks\":\"\"},\"colorscale\":[[0.0,\"#0d0887\"],[0.1111111111111111,\"#46039f\"],[0.2222222222222222,\"#7201a8\"],[0.3333333333333333,\"#9c179e\"],[0.4444444444444444,\"#bd3786\"],[0.5555555555555556,\"#d8576b\"],[0.6666666666666666,\"#ed7953\"],[0.7777777777777778,\"#fb9f3a\"],[0.8888888888888888,\"#fdca26\"],[1.0,\"#f0f921\"]]}],\"mesh3d\":[{\"type\":\"mesh3d\",\"colorbar\":{\"outlinewidth\":0,\"ticks\":\"\"}}],\"scatter\":[{\"fillpattern\":{\"fillmode\":\"overlay\",\"size\":10,\"solidity\":0.2},\"type\":\"scatter\"}],\"parcoords\":[{\"type\":\"parcoords\",\"line\":{\"colorbar\":{\"outlinewidth\":0,\"ticks\":\"\"}}}],\"scatterpolargl\":[{\"type\":\"scatterpolargl\",\"marker\":{\"colorbar\":{\"outlinewidth\":0,\"ticks\":\"\"}}}],\"bar\":[{\"error_x\":{\"color\":\"#2a3f5f\"},\"error_y\":{\"color\":\"#2a3f5f\"},\"marker\":{\"line\":{\"color\":\"#E5ECF6\",\"width\":0.5},\"pattern\":{\"fillmode\":\"overlay\",\"size\":10,\"solidity\":0.2}},\"type\":\"bar\"}],\"scattergeo\":[{\"type\":\"scattergeo\",\"marker\":{\"colorbar\":{\"outlinewidth\":0,\"ticks\":\"\"}}}],\"scatterpolar\":[{\"type\":\"scatterpolar\",\"marker\":{\"colorbar\":{\"outlinewidth\":0,\"ticks\":\"\"}}}],\"histogram\":[{\"marker\":{\"pattern\":{\"fillmode\":\"overlay\",\"size\":10,\"solidity\":0.2}},\"type\":\"histogram\"}],\"scattergl\":[{\"type\":\"scattergl\",\"marker\":{\"colorbar\":{\"outlinewidth\":0,\"ticks\":\"\"}}}],\"scatter3d\":[{\"type\":\"scatter3d\",\"line\":{\"colorbar\":{\"outlinewidth\":0,\"ticks\":\"\"}},\"marker\":{\"colorbar\":{\"outlinewidth\":0,\"ticks\":\"\"}}}],\"scattermapbox\":[{\"type\":\"scattermapbox\",\"marker\":{\"colorbar\":{\"outlinewidth\":0,\"ticks\":\"\"}}}],\"scatterternary\":[{\"type\":\"scatterternary\",\"marker\":{\"colorbar\":{\"outlinewidth\":0,\"ticks\":\"\"}}}],\"scattercarpet\":[{\"type\":\"scattercarpet\",\"marker\":{\"colorbar\":{\"outlinewidth\":0,\"ticks\":\"\"}}}],\"carpet\":[{\"aaxis\":{\"endlinecolor\":\"#2a3f5f\",\"gridcolor\":\"white\",\"linecolor\":\"white\",\"minorgridcolor\":\"white\",\"startlinecolor\":\"#2a3f5f\"},\"baxis\":{\"endlinecolor\":\"#2a3f5f\",\"gridcolor\":\"white\",\"linecolor\":\"white\",\"minorgridcolor\":\"white\",\"startlinecolor\":\"#2a3f5f\"},\"type\":\"carpet\"}],\"table\":[{\"cells\":{\"fill\":{\"color\":\"#EBF0F8\"},\"line\":{\"color\":\"white\"}},\"header\":{\"fill\":{\"color\":\"#C8D4E3\"},\"line\":{\"color\":\"white\"}},\"type\":\"table\"}],\"barpolar\":[{\"marker\":{\"line\":{\"color\":\"#E5ECF6\",\"width\":0.5},\"pattern\":{\"fillmode\":\"overlay\",\"size\":10,\"solidity\":0.2}},\"type\":\"barpolar\"}],\"pie\":[{\"automargin\":true,\"type\":\"pie\"}]},\"layout\":{\"autotypenumbers\":\"strict\",\"colorway\":[\"#636efa\",\"#EF553B\",\"#00cc96\",\"#ab63fa\",\"#FFA15A\",\"#19d3f3\",\"#FF6692\",\"#B6E880\",\"#FF97FF\",\"#FECB52\"],\"font\":{\"color\":\"#2a3f5f\"},\"hovermode\":\"closest\",\"hoverlabel\":{\"align\":\"left\"},\"paper_bgcolor\":\"white\",\"plot_bgcolor\":\"#E5ECF6\",\"polar\":{\"bgcolor\":\"#E5ECF6\",\"angularaxis\":{\"gridcolor\":\"white\",\"linecolor\":\"white\",\"ticks\":\"\"},\"radialaxis\":{\"gridcolor\":\"white\",\"linecolor\":\"white\",\"ticks\":\"\"}},\"ternary\":{\"bgcolor\":\"#E5ECF6\",\"aaxis\":{\"gridcolor\":\"white\",\"linecolor\":\"white\",\"ticks\":\"\"},\"baxis\":{\"gridcolor\":\"white\",\"linecolor\":\"white\",\"ticks\":\"\"},\"caxis\":{\"gridcolor\":\"white\",\"linecolor\":\"white\",\"ticks\":\"\"}},\"coloraxis\":{\"colorbar\":{\"outlinewidth\":0,\"ticks\":\"\"}},\"colorscale\":{\"sequential\":[[0.0,\"#0d0887\"],[0.1111111111111111,\"#46039f\"],[0.2222222222222222,\"#7201a8\"],[0.3333333333333333,\"#9c179e\"],[0.4444444444444444,\"#bd3786\"],[0.5555555555555556,\"#d8576b\"],[0.6666666666666666,\"#ed7953\"],[0.7777777777777778,\"#fb9f3a\"],[0.8888888888888888,\"#fdca26\"],[1.0,\"#f0f921\"]],\"sequentialminus\":[[0.0,\"#0d0887\"],[0.1111111111111111,\"#46039f\"],[0.2222222222222222,\"#7201a8\"],[0.3333333333333333,\"#9c179e\"],[0.4444444444444444,\"#bd3786\"],[0.5555555555555556,\"#d8576b\"],[0.6666666666666666,\"#ed7953\"],[0.7777777777777778,\"#fb9f3a\"],[0.8888888888888888,\"#fdca26\"],[1.0,\"#f0f921\"]],\"diverging\":[[0,\"#8e0152\"],[0.1,\"#c51b7d\"],[0.2,\"#de77ae\"],[0.3,\"#f1b6da\"],[0.4,\"#fde0ef\"],[0.5,\"#f7f7f7\"],[0.6,\"#e6f5d0\"],[0.7,\"#b8e186\"],[0.8,\"#7fbc41\"],[0.9,\"#4d9221\"],[1,\"#276419\"]]},\"xaxis\":{\"gridcolor\":\"white\",\"linecolor\":\"white\",\"ticks\":\"\",\"title\":{\"standoff\":15},\"zerolinecolor\":\"white\",\"automargin\":true,\"zerolinewidth\":2},\"yaxis\":{\"gridcolor\":\"white\",\"linecolor\":\"white\",\"ticks\":\"\",\"title\":{\"standoff\":15},\"zerolinecolor\":\"white\",\"automargin\":true,\"zerolinewidth\":2},\"scene\":{\"xaxis\":{\"backgroundcolor\":\"#E5ECF6\",\"gridcolor\":\"white\",\"linecolor\":\"white\",\"showbackground\":true,\"ticks\":\"\",\"zerolinecolor\":\"white\",\"gridwidth\":2},\"yaxis\":{\"backgroundcolor\":\"#E5ECF6\",\"gridcolor\":\"white\",\"linecolor\":\"white\",\"showbackground\":true,\"ticks\":\"\",\"zerolinecolor\":\"white\",\"gridwidth\":2},\"zaxis\":{\"backgroundcolor\":\"#E5ECF6\",\"gridcolor\":\"white\",\"linecolor\":\"white\",\"showbackground\":true,\"ticks\":\"\",\"zerolinecolor\":\"white\",\"gridwidth\":2}},\"shapedefaults\":{\"line\":{\"color\":\"#2a3f5f\"}},\"annotationdefaults\":{\"arrowcolor\":\"#2a3f5f\",\"arrowhead\":0,\"arrowwidth\":1},\"geo\":{\"bgcolor\":\"white\",\"landcolor\":\"#E5ECF6\",\"subunitcolor\":\"white\",\"showland\":true,\"showlakes\":true,\"lakecolor\":\"white\"},\"title\":{\"x\":0.05},\"mapbox\":{\"style\":\"light\"}}},\"legend\":{\"tracegroupgap\":0},\"margin\":{\"t\":60},\"title\":{\"text\":\"Distribution of orders w.r.t marital status\"},\"height\":500,\"width\":800},                        {\"responsive\": true}                    ).then(function(){\n",
       "                            \n",
       "var gd = document.getElementById('ef6926ca-f259-4518-be63-1fb0f65c8d2b');\n",
       "var x = new MutationObserver(function (mutations, observer) {{\n",
       "        var display = window.getComputedStyle(gd).display;\n",
       "        if (!display || display === 'none') {{\n",
       "            console.log([gd, 'removed!']);\n",
       "            Plotly.purge(gd);\n",
       "            observer.disconnect();\n",
       "        }}\n",
       "}});\n",
       "\n",
       "// Listen for the removal of the full notebook cells\n",
       "var notebookContainer = gd.closest('#notebook-container');\n",
       "if (notebookContainer) {{\n",
       "    x.observe(notebookContainer, {childList: true});\n",
       "}}\n",
       "\n",
       "// Listen for the clearing of the current output cell\n",
       "var outputEl = gd.closest('.output');\n",
       "if (outputEl) {{\n",
       "    x.observe(outputEl, {childList: true});\n",
       "}}\n",
       "\n",
       "                        })                };                });            </script>        </div>"
      ]
     },
     "metadata": {},
     "output_type": "display_data"
    }
   ],
   "source": [
    "marital_status=df.groupby(['marital_status']).size().reset_index(name='counts')\n",
    "marital_status['marital_status']=marital_status['marital_status'].replace('0', 'Not married')\n",
    "marital_status['marital_status']=marital_status['marital_status'].replace('1', 'Married')\n",
    "\n",
    "fig=px.pie(marital_status, \n",
    "             values='counts', \n",
    "             names='marital_status')\n",
    "\n",
    "fig.update_layout(title=\"Distribution of orders w.r.t marital status\", \n",
    "                  height=500, \n",
    "                  width=800)\n",
    "\n",
    "fig.show()"
   ]
  },
  {
   "cell_type": "markdown",
   "id": "cfe424ea",
   "metadata": {
    "papermill": {
     "duration": 0.052646,
     "end_time": "2023-10-31T05:07:49.061201",
     "exception": false,
     "start_time": "2023-10-31T05:07:49.008555",
     "status": "completed"
    },
    "tags": []
   },
   "source": [
    "#### state"
   ]
  },
  {
   "cell_type": "markdown",
   "id": "709e51f5",
   "metadata": {
    "papermill": {
     "duration": 0.057521,
     "end_time": "2023-10-31T05:07:49.166264",
     "exception": false,
     "start_time": "2023-10-31T05:07:49.108743",
     "status": "completed"
    },
    "tags": []
   },
   "source": [
    "Looking at the various states from which orders have been received"
   ]
  },
  {
   "cell_type": "code",
   "execution_count": 32,
   "id": "38c218e5",
   "metadata": {
    "execution": {
     "iopub.execute_input": "2023-10-31T05:07:49.267084Z",
     "iopub.status.busy": "2023-10-31T05:07:49.266696Z",
     "iopub.status.idle": "2023-10-31T05:07:49.276679Z",
     "shell.execute_reply": "2023-10-31T05:07:49.275063Z"
    },
    "papermill": {
     "duration": 0.064571,
     "end_time": "2023-10-31T05:07:49.279676",
     "exception": false,
     "start_time": "2023-10-31T05:07:49.215105",
     "status": "completed"
    },
    "tags": []
   },
   "outputs": [
    {
     "data": {
      "text/plain": [
       "array(['Maharashtra', 'Andhra\\xa0Pradesh', 'Uttar Pradesh', 'Karnataka',\n",
       "       'Gujarat', 'Himachal Pradesh', 'Delhi', 'Jharkhand', 'Kerala',\n",
       "       'Haryana', 'Madhya Pradesh', 'Bihar', 'Rajasthan', 'Uttarakhand',\n",
       "       'Telangana', 'Punjab'], dtype=object)"
      ]
     },
     "execution_count": 32,
     "metadata": {},
     "output_type": "execute_result"
    }
   ],
   "source": [
    "df['state'].unique()"
   ]
  },
  {
   "cell_type": "markdown",
   "id": "f1e71bd2",
   "metadata": {
    "papermill": {
     "duration": 0.050259,
     "end_time": "2023-10-31T05:07:49.382426",
     "exception": false,
     "start_time": "2023-10-31T05:07:49.332167",
     "status": "completed"
    },
    "tags": []
   },
   "source": [
    "Looking at the number of orders from each state"
   ]
  },
  {
   "cell_type": "code",
   "execution_count": 33,
   "id": "fb5bf9a7",
   "metadata": {
    "execution": {
     "iopub.execute_input": "2023-10-31T05:07:49.483651Z",
     "iopub.status.busy": "2023-10-31T05:07:49.483266Z",
     "iopub.status.idle": "2023-10-31T05:07:49.494289Z",
     "shell.execute_reply": "2023-10-31T05:07:49.493099Z"
    },
    "papermill": {
     "duration": 0.063223,
     "end_time": "2023-10-31T05:07:49.496809",
     "exception": false,
     "start_time": "2023-10-31T05:07:49.433586",
     "status": "completed"
    },
    "tags": []
   },
   "outputs": [
    {
     "data": {
      "text/plain": [
       "state\n",
       "Uttar Pradesh       1944\n",
       "Maharashtra         1525\n",
       "Karnataka           1304\n",
       "Delhi               1104\n",
       "Madhya Pradesh       921\n",
       "Andhra Pradesh       811\n",
       "Himachal Pradesh     608\n",
       "Kerala               453\n",
       "Haryana              452\n",
       "Bihar                434\n",
       "Gujarat              427\n",
       "Jharkhand            380\n",
       "Uttarakhand          320\n",
       "Rajasthan            231\n",
       "Punjab               200\n",
       "Telangana            125\n",
       "Name: count, dtype: int64"
      ]
     },
     "execution_count": 33,
     "metadata": {},
     "output_type": "execute_result"
    }
   ],
   "source": [
    "df['state'].value_counts()"
   ]
  },
  {
   "cell_type": "markdown",
   "id": "df844683",
   "metadata": {
    "papermill": {
     "duration": 0.045261,
     "end_time": "2023-10-31T05:07:49.589637",
     "exception": false,
     "start_time": "2023-10-31T05:07:49.544376",
     "status": "completed"
    },
    "tags": []
   },
   "source": [
    "Plotting the distribution of orders across various states"
   ]
  },
  {
   "cell_type": "code",
   "execution_count": 34,
   "id": "f7671cc2",
   "metadata": {
    "execution": {
     "iopub.execute_input": "2023-10-31T05:07:49.687153Z",
     "iopub.status.busy": "2023-10-31T05:07:49.686353Z",
     "iopub.status.idle": "2023-10-31T05:07:49.845350Z",
     "shell.execute_reply": "2023-10-31T05:07:49.844206Z"
    },
    "papermill": {
     "duration": 0.209528,
     "end_time": "2023-10-31T05:07:49.847929",
     "exception": false,
     "start_time": "2023-10-31T05:07:49.638401",
     "status": "completed"
    },
    "tags": []
   },
   "outputs": [
    {
     "data": {
      "text/html": [
       "<div>                            <div id=\"0384c13e-0aef-4924-9993-669501c4bbe5\" class=\"plotly-graph-div\" style=\"height:500px; width:800px;\"></div>            <script type=\"text/javascript\">                require([\"plotly\"], function(Plotly) {                    window.PLOTLYENV=window.PLOTLYENV || {};                                    if (document.getElementById(\"0384c13e-0aef-4924-9993-669501c4bbe5\")) {                    Plotly.newPlot(                        \"0384c13e-0aef-4924-9993-669501c4bbe5\",                        [{\"alignmentgroup\":\"True\",\"hovertemplate\":\"state=%{x}\\u003cbr\\u003ecounts=%{y}\\u003cextra\\u003e\\u003c\\u002fextra\\u003e\",\"legendgroup\":\"Uttar Pradesh\",\"marker\":{\"color\":\"#636efa\",\"pattern\":{\"shape\":\"\"}},\"name\":\"Uttar Pradesh\",\"offsetgroup\":\"Uttar Pradesh\",\"orientation\":\"v\",\"showlegend\":true,\"textposition\":\"auto\",\"texttemplate\":\"%{y}\",\"x\":[\"Uttar Pradesh\"],\"xaxis\":\"x\",\"y\":[1944],\"yaxis\":\"y\",\"type\":\"bar\"},{\"alignmentgroup\":\"True\",\"hovertemplate\":\"state=%{x}\\u003cbr\\u003ecounts=%{y}\\u003cextra\\u003e\\u003c\\u002fextra\\u003e\",\"legendgroup\":\"Maharashtra\",\"marker\":{\"color\":\"#EF553B\",\"pattern\":{\"shape\":\"\"}},\"name\":\"Maharashtra\",\"offsetgroup\":\"Maharashtra\",\"orientation\":\"v\",\"showlegend\":true,\"textposition\":\"auto\",\"texttemplate\":\"%{y}\",\"x\":[\"Maharashtra\"],\"xaxis\":\"x\",\"y\":[1525],\"yaxis\":\"y\",\"type\":\"bar\"},{\"alignmentgroup\":\"True\",\"hovertemplate\":\"state=%{x}\\u003cbr\\u003ecounts=%{y}\\u003cextra\\u003e\\u003c\\u002fextra\\u003e\",\"legendgroup\":\"Karnataka\",\"marker\":{\"color\":\"#00cc96\",\"pattern\":{\"shape\":\"\"}},\"name\":\"Karnataka\",\"offsetgroup\":\"Karnataka\",\"orientation\":\"v\",\"showlegend\":true,\"textposition\":\"auto\",\"texttemplate\":\"%{y}\",\"x\":[\"Karnataka\"],\"xaxis\":\"x\",\"y\":[1304],\"yaxis\":\"y\",\"type\":\"bar\"},{\"alignmentgroup\":\"True\",\"hovertemplate\":\"state=%{x}\\u003cbr\\u003ecounts=%{y}\\u003cextra\\u003e\\u003c\\u002fextra\\u003e\",\"legendgroup\":\"Delhi\",\"marker\":{\"color\":\"#ab63fa\",\"pattern\":{\"shape\":\"\"}},\"name\":\"Delhi\",\"offsetgroup\":\"Delhi\",\"orientation\":\"v\",\"showlegend\":true,\"textposition\":\"auto\",\"texttemplate\":\"%{y}\",\"x\":[\"Delhi\"],\"xaxis\":\"x\",\"y\":[1104],\"yaxis\":\"y\",\"type\":\"bar\"},{\"alignmentgroup\":\"True\",\"hovertemplate\":\"state=%{x}\\u003cbr\\u003ecounts=%{y}\\u003cextra\\u003e\\u003c\\u002fextra\\u003e\",\"legendgroup\":\"Madhya Pradesh\",\"marker\":{\"color\":\"#FFA15A\",\"pattern\":{\"shape\":\"\"}},\"name\":\"Madhya Pradesh\",\"offsetgroup\":\"Madhya Pradesh\",\"orientation\":\"v\",\"showlegend\":true,\"textposition\":\"auto\",\"texttemplate\":\"%{y}\",\"x\":[\"Madhya Pradesh\"],\"xaxis\":\"x\",\"y\":[921],\"yaxis\":\"y\",\"type\":\"bar\"},{\"alignmentgroup\":\"True\",\"hovertemplate\":\"state=%{x}\\u003cbr\\u003ecounts=%{y}\\u003cextra\\u003e\\u003c\\u002fextra\\u003e\",\"legendgroup\":\"Andhra Pradesh\",\"marker\":{\"color\":\"#19d3f3\",\"pattern\":{\"shape\":\"\"}},\"name\":\"Andhra Pradesh\",\"offsetgroup\":\"Andhra Pradesh\",\"orientation\":\"v\",\"showlegend\":true,\"textposition\":\"auto\",\"texttemplate\":\"%{y}\",\"x\":[\"Andhra Pradesh\"],\"xaxis\":\"x\",\"y\":[811],\"yaxis\":\"y\",\"type\":\"bar\"},{\"alignmentgroup\":\"True\",\"hovertemplate\":\"state=%{x}\\u003cbr\\u003ecounts=%{y}\\u003cextra\\u003e\\u003c\\u002fextra\\u003e\",\"legendgroup\":\"Himachal Pradesh\",\"marker\":{\"color\":\"#FF6692\",\"pattern\":{\"shape\":\"\"}},\"name\":\"Himachal Pradesh\",\"offsetgroup\":\"Himachal Pradesh\",\"orientation\":\"v\",\"showlegend\":true,\"textposition\":\"auto\",\"texttemplate\":\"%{y}\",\"x\":[\"Himachal Pradesh\"],\"xaxis\":\"x\",\"y\":[608],\"yaxis\":\"y\",\"type\":\"bar\"},{\"alignmentgroup\":\"True\",\"hovertemplate\":\"state=%{x}\\u003cbr\\u003ecounts=%{y}\\u003cextra\\u003e\\u003c\\u002fextra\\u003e\",\"legendgroup\":\"Kerala\",\"marker\":{\"color\":\"#B6E880\",\"pattern\":{\"shape\":\"\"}},\"name\":\"Kerala\",\"offsetgroup\":\"Kerala\",\"orientation\":\"v\",\"showlegend\":true,\"textposition\":\"auto\",\"texttemplate\":\"%{y}\",\"x\":[\"Kerala\"],\"xaxis\":\"x\",\"y\":[453],\"yaxis\":\"y\",\"type\":\"bar\"},{\"alignmentgroup\":\"True\",\"hovertemplate\":\"state=%{x}\\u003cbr\\u003ecounts=%{y}\\u003cextra\\u003e\\u003c\\u002fextra\\u003e\",\"legendgroup\":\"Haryana\",\"marker\":{\"color\":\"#FF97FF\",\"pattern\":{\"shape\":\"\"}},\"name\":\"Haryana\",\"offsetgroup\":\"Haryana\",\"orientation\":\"v\",\"showlegend\":true,\"textposition\":\"auto\",\"texttemplate\":\"%{y}\",\"x\":[\"Haryana\"],\"xaxis\":\"x\",\"y\":[452],\"yaxis\":\"y\",\"type\":\"bar\"},{\"alignmentgroup\":\"True\",\"hovertemplate\":\"state=%{x}\\u003cbr\\u003ecounts=%{y}\\u003cextra\\u003e\\u003c\\u002fextra\\u003e\",\"legendgroup\":\"Bihar\",\"marker\":{\"color\":\"#FECB52\",\"pattern\":{\"shape\":\"\"}},\"name\":\"Bihar\",\"offsetgroup\":\"Bihar\",\"orientation\":\"v\",\"showlegend\":true,\"textposition\":\"auto\",\"texttemplate\":\"%{y}\",\"x\":[\"Bihar\"],\"xaxis\":\"x\",\"y\":[434],\"yaxis\":\"y\",\"type\":\"bar\"},{\"alignmentgroup\":\"True\",\"hovertemplate\":\"state=%{x}\\u003cbr\\u003ecounts=%{y}\\u003cextra\\u003e\\u003c\\u002fextra\\u003e\",\"legendgroup\":\"Gujarat\",\"marker\":{\"color\":\"#636efa\",\"pattern\":{\"shape\":\"\"}},\"name\":\"Gujarat\",\"offsetgroup\":\"Gujarat\",\"orientation\":\"v\",\"showlegend\":true,\"textposition\":\"auto\",\"texttemplate\":\"%{y}\",\"x\":[\"Gujarat\"],\"xaxis\":\"x\",\"y\":[427],\"yaxis\":\"y\",\"type\":\"bar\"},{\"alignmentgroup\":\"True\",\"hovertemplate\":\"state=%{x}\\u003cbr\\u003ecounts=%{y}\\u003cextra\\u003e\\u003c\\u002fextra\\u003e\",\"legendgroup\":\"Jharkhand\",\"marker\":{\"color\":\"#EF553B\",\"pattern\":{\"shape\":\"\"}},\"name\":\"Jharkhand\",\"offsetgroup\":\"Jharkhand\",\"orientation\":\"v\",\"showlegend\":true,\"textposition\":\"auto\",\"texttemplate\":\"%{y}\",\"x\":[\"Jharkhand\"],\"xaxis\":\"x\",\"y\":[380],\"yaxis\":\"y\",\"type\":\"bar\"},{\"alignmentgroup\":\"True\",\"hovertemplate\":\"state=%{x}\\u003cbr\\u003ecounts=%{y}\\u003cextra\\u003e\\u003c\\u002fextra\\u003e\",\"legendgroup\":\"Uttarakhand\",\"marker\":{\"color\":\"#00cc96\",\"pattern\":{\"shape\":\"\"}},\"name\":\"Uttarakhand\",\"offsetgroup\":\"Uttarakhand\",\"orientation\":\"v\",\"showlegend\":true,\"textposition\":\"auto\",\"texttemplate\":\"%{y}\",\"x\":[\"Uttarakhand\"],\"xaxis\":\"x\",\"y\":[320],\"yaxis\":\"y\",\"type\":\"bar\"},{\"alignmentgroup\":\"True\",\"hovertemplate\":\"state=%{x}\\u003cbr\\u003ecounts=%{y}\\u003cextra\\u003e\\u003c\\u002fextra\\u003e\",\"legendgroup\":\"Rajasthan\",\"marker\":{\"color\":\"#ab63fa\",\"pattern\":{\"shape\":\"\"}},\"name\":\"Rajasthan\",\"offsetgroup\":\"Rajasthan\",\"orientation\":\"v\",\"showlegend\":true,\"textposition\":\"auto\",\"texttemplate\":\"%{y}\",\"x\":[\"Rajasthan\"],\"xaxis\":\"x\",\"y\":[231],\"yaxis\":\"y\",\"type\":\"bar\"},{\"alignmentgroup\":\"True\",\"hovertemplate\":\"state=%{x}\\u003cbr\\u003ecounts=%{y}\\u003cextra\\u003e\\u003c\\u002fextra\\u003e\",\"legendgroup\":\"Punjab\",\"marker\":{\"color\":\"#FFA15A\",\"pattern\":{\"shape\":\"\"}},\"name\":\"Punjab\",\"offsetgroup\":\"Punjab\",\"orientation\":\"v\",\"showlegend\":true,\"textposition\":\"auto\",\"texttemplate\":\"%{y}\",\"x\":[\"Punjab\"],\"xaxis\":\"x\",\"y\":[200],\"yaxis\":\"y\",\"type\":\"bar\"},{\"alignmentgroup\":\"True\",\"hovertemplate\":\"state=%{x}\\u003cbr\\u003ecounts=%{y}\\u003cextra\\u003e\\u003c\\u002fextra\\u003e\",\"legendgroup\":\"Telangana\",\"marker\":{\"color\":\"#19d3f3\",\"pattern\":{\"shape\":\"\"}},\"name\":\"Telangana\",\"offsetgroup\":\"Telangana\",\"orientation\":\"v\",\"showlegend\":true,\"textposition\":\"auto\",\"texttemplate\":\"%{y}\",\"x\":[\"Telangana\"],\"xaxis\":\"x\",\"y\":[125],\"yaxis\":\"y\",\"type\":\"bar\"}],                        {\"template\":{\"data\":{\"histogram2dcontour\":[{\"type\":\"histogram2dcontour\",\"colorbar\":{\"outlinewidth\":0,\"ticks\":\"\"},\"colorscale\":[[0.0,\"#0d0887\"],[0.1111111111111111,\"#46039f\"],[0.2222222222222222,\"#7201a8\"],[0.3333333333333333,\"#9c179e\"],[0.4444444444444444,\"#bd3786\"],[0.5555555555555556,\"#d8576b\"],[0.6666666666666666,\"#ed7953\"],[0.7777777777777778,\"#fb9f3a\"],[0.8888888888888888,\"#fdca26\"],[1.0,\"#f0f921\"]]}],\"choropleth\":[{\"type\":\"choropleth\",\"colorbar\":{\"outlinewidth\":0,\"ticks\":\"\"}}],\"histogram2d\":[{\"type\":\"histogram2d\",\"colorbar\":{\"outlinewidth\":0,\"ticks\":\"\"},\"colorscale\":[[0.0,\"#0d0887\"],[0.1111111111111111,\"#46039f\"],[0.2222222222222222,\"#7201a8\"],[0.3333333333333333,\"#9c179e\"],[0.4444444444444444,\"#bd3786\"],[0.5555555555555556,\"#d8576b\"],[0.6666666666666666,\"#ed7953\"],[0.7777777777777778,\"#fb9f3a\"],[0.8888888888888888,\"#fdca26\"],[1.0,\"#f0f921\"]]}],\"heatmap\":[{\"type\":\"heatmap\",\"colorbar\":{\"outlinewidth\":0,\"ticks\":\"\"},\"colorscale\":[[0.0,\"#0d0887\"],[0.1111111111111111,\"#46039f\"],[0.2222222222222222,\"#7201a8\"],[0.3333333333333333,\"#9c179e\"],[0.4444444444444444,\"#bd3786\"],[0.5555555555555556,\"#d8576b\"],[0.6666666666666666,\"#ed7953\"],[0.7777777777777778,\"#fb9f3a\"],[0.8888888888888888,\"#fdca26\"],[1.0,\"#f0f921\"]]}],\"heatmapgl\":[{\"type\":\"heatmapgl\",\"colorbar\":{\"outlinewidth\":0,\"ticks\":\"\"},\"colorscale\":[[0.0,\"#0d0887\"],[0.1111111111111111,\"#46039f\"],[0.2222222222222222,\"#7201a8\"],[0.3333333333333333,\"#9c179e\"],[0.4444444444444444,\"#bd3786\"],[0.5555555555555556,\"#d8576b\"],[0.6666666666666666,\"#ed7953\"],[0.7777777777777778,\"#fb9f3a\"],[0.8888888888888888,\"#fdca26\"],[1.0,\"#f0f921\"]]}],\"contourcarpet\":[{\"type\":\"contourcarpet\",\"colorbar\":{\"outlinewidth\":0,\"ticks\":\"\"}}],\"contour\":[{\"type\":\"contour\",\"colorbar\":{\"outlinewidth\":0,\"ticks\":\"\"},\"colorscale\":[[0.0,\"#0d0887\"],[0.1111111111111111,\"#46039f\"],[0.2222222222222222,\"#7201a8\"],[0.3333333333333333,\"#9c179e\"],[0.4444444444444444,\"#bd3786\"],[0.5555555555555556,\"#d8576b\"],[0.6666666666666666,\"#ed7953\"],[0.7777777777777778,\"#fb9f3a\"],[0.8888888888888888,\"#fdca26\"],[1.0,\"#f0f921\"]]}],\"surface\":[{\"type\":\"surface\",\"colorbar\":{\"outlinewidth\":0,\"ticks\":\"\"},\"colorscale\":[[0.0,\"#0d0887\"],[0.1111111111111111,\"#46039f\"],[0.2222222222222222,\"#7201a8\"],[0.3333333333333333,\"#9c179e\"],[0.4444444444444444,\"#bd3786\"],[0.5555555555555556,\"#d8576b\"],[0.6666666666666666,\"#ed7953\"],[0.7777777777777778,\"#fb9f3a\"],[0.8888888888888888,\"#fdca26\"],[1.0,\"#f0f921\"]]}],\"mesh3d\":[{\"type\":\"mesh3d\",\"colorbar\":{\"outlinewidth\":0,\"ticks\":\"\"}}],\"scatter\":[{\"fillpattern\":{\"fillmode\":\"overlay\",\"size\":10,\"solidity\":0.2},\"type\":\"scatter\"}],\"parcoords\":[{\"type\":\"parcoords\",\"line\":{\"colorbar\":{\"outlinewidth\":0,\"ticks\":\"\"}}}],\"scatterpolargl\":[{\"type\":\"scatterpolargl\",\"marker\":{\"colorbar\":{\"outlinewidth\":0,\"ticks\":\"\"}}}],\"bar\":[{\"error_x\":{\"color\":\"#2a3f5f\"},\"error_y\":{\"color\":\"#2a3f5f\"},\"marker\":{\"line\":{\"color\":\"#E5ECF6\",\"width\":0.5},\"pattern\":{\"fillmode\":\"overlay\",\"size\":10,\"solidity\":0.2}},\"type\":\"bar\"}],\"scattergeo\":[{\"type\":\"scattergeo\",\"marker\":{\"colorbar\":{\"outlinewidth\":0,\"ticks\":\"\"}}}],\"scatterpolar\":[{\"type\":\"scatterpolar\",\"marker\":{\"colorbar\":{\"outlinewidth\":0,\"ticks\":\"\"}}}],\"histogram\":[{\"marker\":{\"pattern\":{\"fillmode\":\"overlay\",\"size\":10,\"solidity\":0.2}},\"type\":\"histogram\"}],\"scattergl\":[{\"type\":\"scattergl\",\"marker\":{\"colorbar\":{\"outlinewidth\":0,\"ticks\":\"\"}}}],\"scatter3d\":[{\"type\":\"scatter3d\",\"line\":{\"colorbar\":{\"outlinewidth\":0,\"ticks\":\"\"}},\"marker\":{\"colorbar\":{\"outlinewidth\":0,\"ticks\":\"\"}}}],\"scattermapbox\":[{\"type\":\"scattermapbox\",\"marker\":{\"colorbar\":{\"outlinewidth\":0,\"ticks\":\"\"}}}],\"scatterternary\":[{\"type\":\"scatterternary\",\"marker\":{\"colorbar\":{\"outlinewidth\":0,\"ticks\":\"\"}}}],\"scattercarpet\":[{\"type\":\"scattercarpet\",\"marker\":{\"colorbar\":{\"outlinewidth\":0,\"ticks\":\"\"}}}],\"carpet\":[{\"aaxis\":{\"endlinecolor\":\"#2a3f5f\",\"gridcolor\":\"white\",\"linecolor\":\"white\",\"minorgridcolor\":\"white\",\"startlinecolor\":\"#2a3f5f\"},\"baxis\":{\"endlinecolor\":\"#2a3f5f\",\"gridcolor\":\"white\",\"linecolor\":\"white\",\"minorgridcolor\":\"white\",\"startlinecolor\":\"#2a3f5f\"},\"type\":\"carpet\"}],\"table\":[{\"cells\":{\"fill\":{\"color\":\"#EBF0F8\"},\"line\":{\"color\":\"white\"}},\"header\":{\"fill\":{\"color\":\"#C8D4E3\"},\"line\":{\"color\":\"white\"}},\"type\":\"table\"}],\"barpolar\":[{\"marker\":{\"line\":{\"color\":\"#E5ECF6\",\"width\":0.5},\"pattern\":{\"fillmode\":\"overlay\",\"size\":10,\"solidity\":0.2}},\"type\":\"barpolar\"}],\"pie\":[{\"automargin\":true,\"type\":\"pie\"}]},\"layout\":{\"autotypenumbers\":\"strict\",\"colorway\":[\"#636efa\",\"#EF553B\",\"#00cc96\",\"#ab63fa\",\"#FFA15A\",\"#19d3f3\",\"#FF6692\",\"#B6E880\",\"#FF97FF\",\"#FECB52\"],\"font\":{\"color\":\"#2a3f5f\"},\"hovermode\":\"closest\",\"hoverlabel\":{\"align\":\"left\"},\"paper_bgcolor\":\"white\",\"plot_bgcolor\":\"#E5ECF6\",\"polar\":{\"bgcolor\":\"#E5ECF6\",\"angularaxis\":{\"gridcolor\":\"white\",\"linecolor\":\"white\",\"ticks\":\"\"},\"radialaxis\":{\"gridcolor\":\"white\",\"linecolor\":\"white\",\"ticks\":\"\"}},\"ternary\":{\"bgcolor\":\"#E5ECF6\",\"aaxis\":{\"gridcolor\":\"white\",\"linecolor\":\"white\",\"ticks\":\"\"},\"baxis\":{\"gridcolor\":\"white\",\"linecolor\":\"white\",\"ticks\":\"\"},\"caxis\":{\"gridcolor\":\"white\",\"linecolor\":\"white\",\"ticks\":\"\"}},\"coloraxis\":{\"colorbar\":{\"outlinewidth\":0,\"ticks\":\"\"}},\"colorscale\":{\"sequential\":[[0.0,\"#0d0887\"],[0.1111111111111111,\"#46039f\"],[0.2222222222222222,\"#7201a8\"],[0.3333333333333333,\"#9c179e\"],[0.4444444444444444,\"#bd3786\"],[0.5555555555555556,\"#d8576b\"],[0.6666666666666666,\"#ed7953\"],[0.7777777777777778,\"#fb9f3a\"],[0.8888888888888888,\"#fdca26\"],[1.0,\"#f0f921\"]],\"sequentialminus\":[[0.0,\"#0d0887\"],[0.1111111111111111,\"#46039f\"],[0.2222222222222222,\"#7201a8\"],[0.3333333333333333,\"#9c179e\"],[0.4444444444444444,\"#bd3786\"],[0.5555555555555556,\"#d8576b\"],[0.6666666666666666,\"#ed7953\"],[0.7777777777777778,\"#fb9f3a\"],[0.8888888888888888,\"#fdca26\"],[1.0,\"#f0f921\"]],\"diverging\":[[0,\"#8e0152\"],[0.1,\"#c51b7d\"],[0.2,\"#de77ae\"],[0.3,\"#f1b6da\"],[0.4,\"#fde0ef\"],[0.5,\"#f7f7f7\"],[0.6,\"#e6f5d0\"],[0.7,\"#b8e186\"],[0.8,\"#7fbc41\"],[0.9,\"#4d9221\"],[1,\"#276419\"]]},\"xaxis\":{\"gridcolor\":\"white\",\"linecolor\":\"white\",\"ticks\":\"\",\"title\":{\"standoff\":15},\"zerolinecolor\":\"white\",\"automargin\":true,\"zerolinewidth\":2},\"yaxis\":{\"gridcolor\":\"white\",\"linecolor\":\"white\",\"ticks\":\"\",\"title\":{\"standoff\":15},\"zerolinecolor\":\"white\",\"automargin\":true,\"zerolinewidth\":2},\"scene\":{\"xaxis\":{\"backgroundcolor\":\"#E5ECF6\",\"gridcolor\":\"white\",\"linecolor\":\"white\",\"showbackground\":true,\"ticks\":\"\",\"zerolinecolor\":\"white\",\"gridwidth\":2},\"yaxis\":{\"backgroundcolor\":\"#E5ECF6\",\"gridcolor\":\"white\",\"linecolor\":\"white\",\"showbackground\":true,\"ticks\":\"\",\"zerolinecolor\":\"white\",\"gridwidth\":2},\"zaxis\":{\"backgroundcolor\":\"#E5ECF6\",\"gridcolor\":\"white\",\"linecolor\":\"white\",\"showbackground\":true,\"ticks\":\"\",\"zerolinecolor\":\"white\",\"gridwidth\":2}},\"shapedefaults\":{\"line\":{\"color\":\"#2a3f5f\"}},\"annotationdefaults\":{\"arrowcolor\":\"#2a3f5f\",\"arrowhead\":0,\"arrowwidth\":1},\"geo\":{\"bgcolor\":\"white\",\"landcolor\":\"#E5ECF6\",\"subunitcolor\":\"white\",\"showland\":true,\"showlakes\":true,\"lakecolor\":\"white\"},\"title\":{\"x\":0.05},\"mapbox\":{\"style\":\"light\"}}},\"xaxis\":{\"anchor\":\"y\",\"domain\":[0.0,1.0],\"title\":{\"text\":\"States\"},\"categoryorder\":\"array\",\"categoryarray\":[\"Uttar Pradesh\",\"Maharashtra\",\"Karnataka\",\"Delhi\",\"Madhya Pradesh\",\"Andhra Pradesh\",\"Himachal Pradesh\",\"Kerala\",\"Haryana\",\"Bihar\",\"Gujarat\",\"Jharkhand\",\"Uttarakhand\",\"Rajasthan\",\"Punjab\",\"Telangana\"],\"tickangle\":35},\"yaxis\":{\"anchor\":\"x\",\"domain\":[0.0,1.0],\"title\":{\"text\":\"Number of orders\"}},\"legend\":{\"title\":{\"text\":\"state\"},\"tracegroupgap\":0},\"margin\":{\"t\":60},\"barmode\":\"relative\",\"title\":{\"text\":\"Distribution of orders across various states\"},\"height\":500,\"width\":800,\"showlegend\":false},                        {\"responsive\": true}                    ).then(function(){\n",
       "                            \n",
       "var gd = document.getElementById('0384c13e-0aef-4924-9993-669501c4bbe5');\n",
       "var x = new MutationObserver(function (mutations, observer) {{\n",
       "        var display = window.getComputedStyle(gd).display;\n",
       "        if (!display || display === 'none') {{\n",
       "            console.log([gd, 'removed!']);\n",
       "            Plotly.purge(gd);\n",
       "            observer.disconnect();\n",
       "        }}\n",
       "}});\n",
       "\n",
       "// Listen for the removal of the full notebook cells\n",
       "var notebookContainer = gd.closest('#notebook-container');\n",
       "if (notebookContainer) {{\n",
       "    x.observe(notebookContainer, {childList: true});\n",
       "}}\n",
       "\n",
       "// Listen for the clearing of the current output cell\n",
       "var outputEl = gd.closest('.output');\n",
       "if (outputEl) {{\n",
       "    x.observe(outputEl, {childList: true});\n",
       "}}\n",
       "\n",
       "                        })                };                });            </script>        </div>"
      ]
     },
     "metadata": {},
     "output_type": "display_data"
    }
   ],
   "source": [
    "state=df.groupby(['state']).size().reset_index(name='counts').sort_values('counts', ascending=False)\n",
    "\n",
    "fig=px.bar(data_frame=state, \n",
    "             x='state', \n",
    "             y='counts', \n",
    "             color='state', \n",
    "             text_auto=True)\n",
    "\n",
    "fig.update_layout(title=\"Distribution of orders across various states\", \n",
    "                  height=500, \n",
    "                  width=800,  \n",
    "                  showlegend=False, \n",
    "                  yaxis_title_text='Number of orders', \n",
    "                  xaxis_title_text='States', \n",
    "                  xaxis_tickangle=35)\n",
    "\n",
    "fig.show()"
   ]
  },
  {
   "cell_type": "markdown",
   "id": "82de2478",
   "metadata": {
    "papermill": {
     "duration": 0.046112,
     "end_time": "2023-10-31T05:07:49.940097",
     "exception": false,
     "start_time": "2023-10-31T05:07:49.893985",
     "status": "completed"
    },
    "tags": []
   },
   "source": [
    "#### zone"
   ]
  },
  {
   "cell_type": "markdown",
   "id": "3e366dcf",
   "metadata": {
    "papermill": {
     "duration": 0.047025,
     "end_time": "2023-10-31T05:07:50.033210",
     "exception": false,
     "start_time": "2023-10-31T05:07:49.986185",
     "status": "completed"
    },
    "tags": []
   },
   "source": [
    "Looking at the different geographical zones"
   ]
  },
  {
   "cell_type": "code",
   "execution_count": 35,
   "id": "66d611b3",
   "metadata": {
    "execution": {
     "iopub.execute_input": "2023-10-31T05:07:50.146360Z",
     "iopub.status.busy": "2023-10-31T05:07:50.145964Z",
     "iopub.status.idle": "2023-10-31T05:07:50.153660Z",
     "shell.execute_reply": "2023-10-31T05:07:50.152825Z"
    },
    "papermill": {
     "duration": 0.079936,
     "end_time": "2023-10-31T05:07:50.159205",
     "exception": false,
     "start_time": "2023-10-31T05:07:50.079269",
     "status": "completed"
    },
    "tags": []
   },
   "outputs": [
    {
     "data": {
      "text/plain": [
       "array(['Western', 'Southern', 'Central', 'Northern', 'Eastern'],\n",
       "      dtype=object)"
      ]
     },
     "execution_count": 35,
     "metadata": {},
     "output_type": "execute_result"
    }
   ],
   "source": [
    "df['zone'].unique()"
   ]
  },
  {
   "cell_type": "markdown",
   "id": "48b9c2b1",
   "metadata": {
    "papermill": {
     "duration": 0.04542,
     "end_time": "2023-10-31T05:07:50.250881",
     "exception": false,
     "start_time": "2023-10-31T05:07:50.205461",
     "status": "completed"
    },
    "tags": []
   },
   "source": [
    "Looking at the number of orders from each zone"
   ]
  },
  {
   "cell_type": "code",
   "execution_count": 36,
   "id": "dafb5541",
   "metadata": {
    "execution": {
     "iopub.execute_input": "2023-10-31T05:07:50.355683Z",
     "iopub.status.busy": "2023-10-31T05:07:50.354915Z",
     "iopub.status.idle": "2023-10-31T05:07:50.368224Z",
     "shell.execute_reply": "2023-10-31T05:07:50.366975Z"
    },
    "papermill": {
     "duration": 0.070522,
     "end_time": "2023-10-31T05:07:50.371148",
     "exception": false,
     "start_time": "2023-10-31T05:07:50.300626",
     "status": "completed"
    },
    "tags": []
   },
   "outputs": [
    {
     "data": {
      "text/plain": [
       "zone\n",
       "Central     4289\n",
       "Southern    2693\n",
       "Western     1952\n",
       "Northern    1491\n",
       "Eastern      814\n",
       "Name: count, dtype: int64"
      ]
     },
     "execution_count": 36,
     "metadata": {},
     "output_type": "execute_result"
    }
   ],
   "source": [
    "df['zone'].value_counts()"
   ]
  },
  {
   "cell_type": "markdown",
   "id": "25343f37",
   "metadata": {
    "papermill": {
     "duration": 0.045537,
     "end_time": "2023-10-31T05:07:50.475262",
     "exception": false,
     "start_time": "2023-10-31T05:07:50.429725",
     "status": "completed"
    },
    "tags": []
   },
   "source": [
    "Plotting the distribution of orders across various geographical zones"
   ]
  },
  {
   "cell_type": "code",
   "execution_count": 37,
   "id": "fb4635cb",
   "metadata": {
    "execution": {
     "iopub.execute_input": "2023-10-31T05:07:50.568161Z",
     "iopub.status.busy": "2023-10-31T05:07:50.567665Z",
     "iopub.status.idle": "2023-10-31T05:07:50.673550Z",
     "shell.execute_reply": "2023-10-31T05:07:50.672600Z"
    },
    "papermill": {
     "duration": 0.154819,
     "end_time": "2023-10-31T05:07:50.675959",
     "exception": false,
     "start_time": "2023-10-31T05:07:50.521140",
     "status": "completed"
    },
    "tags": []
   },
   "outputs": [
    {
     "data": {
      "text/html": [
       "<div>                            <div id=\"4756ab46-a152-4726-b1fb-3c1d0842decf\" class=\"plotly-graph-div\" style=\"height:500px; width:800px;\"></div>            <script type=\"text/javascript\">                require([\"plotly\"], function(Plotly) {                    window.PLOTLYENV=window.PLOTLYENV || {};                                    if (document.getElementById(\"4756ab46-a152-4726-b1fb-3c1d0842decf\")) {                    Plotly.newPlot(                        \"4756ab46-a152-4726-b1fb-3c1d0842decf\",                        [{\"alignmentgroup\":\"True\",\"hovertemplate\":\"zone=%{x}\\u003cbr\\u003ecounts=%{y}\\u003cextra\\u003e\\u003c\\u002fextra\\u003e\",\"legendgroup\":\"Central\",\"marker\":{\"color\":\"#636efa\",\"pattern\":{\"shape\":\"\"}},\"name\":\"Central\",\"offsetgroup\":\"Central\",\"orientation\":\"v\",\"showlegend\":true,\"textposition\":\"auto\",\"texttemplate\":\"%{y}\",\"x\":[\"Central\"],\"xaxis\":\"x\",\"y\":[4289],\"yaxis\":\"y\",\"type\":\"bar\"},{\"alignmentgroup\":\"True\",\"hovertemplate\":\"zone=%{x}\\u003cbr\\u003ecounts=%{y}\\u003cextra\\u003e\\u003c\\u002fextra\\u003e\",\"legendgroup\":\"Southern\",\"marker\":{\"color\":\"#EF553B\",\"pattern\":{\"shape\":\"\"}},\"name\":\"Southern\",\"offsetgroup\":\"Southern\",\"orientation\":\"v\",\"showlegend\":true,\"textposition\":\"auto\",\"texttemplate\":\"%{y}\",\"x\":[\"Southern\"],\"xaxis\":\"x\",\"y\":[2693],\"yaxis\":\"y\",\"type\":\"bar\"},{\"alignmentgroup\":\"True\",\"hovertemplate\":\"zone=%{x}\\u003cbr\\u003ecounts=%{y}\\u003cextra\\u003e\\u003c\\u002fextra\\u003e\",\"legendgroup\":\"Western\",\"marker\":{\"color\":\"#00cc96\",\"pattern\":{\"shape\":\"\"}},\"name\":\"Western\",\"offsetgroup\":\"Western\",\"orientation\":\"v\",\"showlegend\":true,\"textposition\":\"auto\",\"texttemplate\":\"%{y}\",\"x\":[\"Western\"],\"xaxis\":\"x\",\"y\":[1952],\"yaxis\":\"y\",\"type\":\"bar\"},{\"alignmentgroup\":\"True\",\"hovertemplate\":\"zone=%{x}\\u003cbr\\u003ecounts=%{y}\\u003cextra\\u003e\\u003c\\u002fextra\\u003e\",\"legendgroup\":\"Northern\",\"marker\":{\"color\":\"#ab63fa\",\"pattern\":{\"shape\":\"\"}},\"name\":\"Northern\",\"offsetgroup\":\"Northern\",\"orientation\":\"v\",\"showlegend\":true,\"textposition\":\"auto\",\"texttemplate\":\"%{y}\",\"x\":[\"Northern\"],\"xaxis\":\"x\",\"y\":[1491],\"yaxis\":\"y\",\"type\":\"bar\"},{\"alignmentgroup\":\"True\",\"hovertemplate\":\"zone=%{x}\\u003cbr\\u003ecounts=%{y}\\u003cextra\\u003e\\u003c\\u002fextra\\u003e\",\"legendgroup\":\"Eastern\",\"marker\":{\"color\":\"#FFA15A\",\"pattern\":{\"shape\":\"\"}},\"name\":\"Eastern\",\"offsetgroup\":\"Eastern\",\"orientation\":\"v\",\"showlegend\":true,\"textposition\":\"auto\",\"texttemplate\":\"%{y}\",\"x\":[\"Eastern\"],\"xaxis\":\"x\",\"y\":[814],\"yaxis\":\"y\",\"type\":\"bar\"}],                        {\"template\":{\"data\":{\"histogram2dcontour\":[{\"type\":\"histogram2dcontour\",\"colorbar\":{\"outlinewidth\":0,\"ticks\":\"\"},\"colorscale\":[[0.0,\"#0d0887\"],[0.1111111111111111,\"#46039f\"],[0.2222222222222222,\"#7201a8\"],[0.3333333333333333,\"#9c179e\"],[0.4444444444444444,\"#bd3786\"],[0.5555555555555556,\"#d8576b\"],[0.6666666666666666,\"#ed7953\"],[0.7777777777777778,\"#fb9f3a\"],[0.8888888888888888,\"#fdca26\"],[1.0,\"#f0f921\"]]}],\"choropleth\":[{\"type\":\"choropleth\",\"colorbar\":{\"outlinewidth\":0,\"ticks\":\"\"}}],\"histogram2d\":[{\"type\":\"histogram2d\",\"colorbar\":{\"outlinewidth\":0,\"ticks\":\"\"},\"colorscale\":[[0.0,\"#0d0887\"],[0.1111111111111111,\"#46039f\"],[0.2222222222222222,\"#7201a8\"],[0.3333333333333333,\"#9c179e\"],[0.4444444444444444,\"#bd3786\"],[0.5555555555555556,\"#d8576b\"],[0.6666666666666666,\"#ed7953\"],[0.7777777777777778,\"#fb9f3a\"],[0.8888888888888888,\"#fdca26\"],[1.0,\"#f0f921\"]]}],\"heatmap\":[{\"type\":\"heatmap\",\"colorbar\":{\"outlinewidth\":0,\"ticks\":\"\"},\"colorscale\":[[0.0,\"#0d0887\"],[0.1111111111111111,\"#46039f\"],[0.2222222222222222,\"#7201a8\"],[0.3333333333333333,\"#9c179e\"],[0.4444444444444444,\"#bd3786\"],[0.5555555555555556,\"#d8576b\"],[0.6666666666666666,\"#ed7953\"],[0.7777777777777778,\"#fb9f3a\"],[0.8888888888888888,\"#fdca26\"],[1.0,\"#f0f921\"]]}],\"heatmapgl\":[{\"type\":\"heatmapgl\",\"colorbar\":{\"outlinewidth\":0,\"ticks\":\"\"},\"colorscale\":[[0.0,\"#0d0887\"],[0.1111111111111111,\"#46039f\"],[0.2222222222222222,\"#7201a8\"],[0.3333333333333333,\"#9c179e\"],[0.4444444444444444,\"#bd3786\"],[0.5555555555555556,\"#d8576b\"],[0.6666666666666666,\"#ed7953\"],[0.7777777777777778,\"#fb9f3a\"],[0.8888888888888888,\"#fdca26\"],[1.0,\"#f0f921\"]]}],\"contourcarpet\":[{\"type\":\"contourcarpet\",\"colorbar\":{\"outlinewidth\":0,\"ticks\":\"\"}}],\"contour\":[{\"type\":\"contour\",\"colorbar\":{\"outlinewidth\":0,\"ticks\":\"\"},\"colorscale\":[[0.0,\"#0d0887\"],[0.1111111111111111,\"#46039f\"],[0.2222222222222222,\"#7201a8\"],[0.3333333333333333,\"#9c179e\"],[0.4444444444444444,\"#bd3786\"],[0.5555555555555556,\"#d8576b\"],[0.6666666666666666,\"#ed7953\"],[0.7777777777777778,\"#fb9f3a\"],[0.8888888888888888,\"#fdca26\"],[1.0,\"#f0f921\"]]}],\"surface\":[{\"type\":\"surface\",\"colorbar\":{\"outlinewidth\":0,\"ticks\":\"\"},\"colorscale\":[[0.0,\"#0d0887\"],[0.1111111111111111,\"#46039f\"],[0.2222222222222222,\"#7201a8\"],[0.3333333333333333,\"#9c179e\"],[0.4444444444444444,\"#bd3786\"],[0.5555555555555556,\"#d8576b\"],[0.6666666666666666,\"#ed7953\"],[0.7777777777777778,\"#fb9f3a\"],[0.8888888888888888,\"#fdca26\"],[1.0,\"#f0f921\"]]}],\"mesh3d\":[{\"type\":\"mesh3d\",\"colorbar\":{\"outlinewidth\":0,\"ticks\":\"\"}}],\"scatter\":[{\"fillpattern\":{\"fillmode\":\"overlay\",\"size\":10,\"solidity\":0.2},\"type\":\"scatter\"}],\"parcoords\":[{\"type\":\"parcoords\",\"line\":{\"colorbar\":{\"outlinewidth\":0,\"ticks\":\"\"}}}],\"scatterpolargl\":[{\"type\":\"scatterpolargl\",\"marker\":{\"colorbar\":{\"outlinewidth\":0,\"ticks\":\"\"}}}],\"bar\":[{\"error_x\":{\"color\":\"#2a3f5f\"},\"error_y\":{\"color\":\"#2a3f5f\"},\"marker\":{\"line\":{\"color\":\"#E5ECF6\",\"width\":0.5},\"pattern\":{\"fillmode\":\"overlay\",\"size\":10,\"solidity\":0.2}},\"type\":\"bar\"}],\"scattergeo\":[{\"type\":\"scattergeo\",\"marker\":{\"colorbar\":{\"outlinewidth\":0,\"ticks\":\"\"}}}],\"scatterpolar\":[{\"type\":\"scatterpolar\",\"marker\":{\"colorbar\":{\"outlinewidth\":0,\"ticks\":\"\"}}}],\"histogram\":[{\"marker\":{\"pattern\":{\"fillmode\":\"overlay\",\"size\":10,\"solidity\":0.2}},\"type\":\"histogram\"}],\"scattergl\":[{\"type\":\"scattergl\",\"marker\":{\"colorbar\":{\"outlinewidth\":0,\"ticks\":\"\"}}}],\"scatter3d\":[{\"type\":\"scatter3d\",\"line\":{\"colorbar\":{\"outlinewidth\":0,\"ticks\":\"\"}},\"marker\":{\"colorbar\":{\"outlinewidth\":0,\"ticks\":\"\"}}}],\"scattermapbox\":[{\"type\":\"scattermapbox\",\"marker\":{\"colorbar\":{\"outlinewidth\":0,\"ticks\":\"\"}}}],\"scatterternary\":[{\"type\":\"scatterternary\",\"marker\":{\"colorbar\":{\"outlinewidth\":0,\"ticks\":\"\"}}}],\"scattercarpet\":[{\"type\":\"scattercarpet\",\"marker\":{\"colorbar\":{\"outlinewidth\":0,\"ticks\":\"\"}}}],\"carpet\":[{\"aaxis\":{\"endlinecolor\":\"#2a3f5f\",\"gridcolor\":\"white\",\"linecolor\":\"white\",\"minorgridcolor\":\"white\",\"startlinecolor\":\"#2a3f5f\"},\"baxis\":{\"endlinecolor\":\"#2a3f5f\",\"gridcolor\":\"white\",\"linecolor\":\"white\",\"minorgridcolor\":\"white\",\"startlinecolor\":\"#2a3f5f\"},\"type\":\"carpet\"}],\"table\":[{\"cells\":{\"fill\":{\"color\":\"#EBF0F8\"},\"line\":{\"color\":\"white\"}},\"header\":{\"fill\":{\"color\":\"#C8D4E3\"},\"line\":{\"color\":\"white\"}},\"type\":\"table\"}],\"barpolar\":[{\"marker\":{\"line\":{\"color\":\"#E5ECF6\",\"width\":0.5},\"pattern\":{\"fillmode\":\"overlay\",\"size\":10,\"solidity\":0.2}},\"type\":\"barpolar\"}],\"pie\":[{\"automargin\":true,\"type\":\"pie\"}]},\"layout\":{\"autotypenumbers\":\"strict\",\"colorway\":[\"#636efa\",\"#EF553B\",\"#00cc96\",\"#ab63fa\",\"#FFA15A\",\"#19d3f3\",\"#FF6692\",\"#B6E880\",\"#FF97FF\",\"#FECB52\"],\"font\":{\"color\":\"#2a3f5f\"},\"hovermode\":\"closest\",\"hoverlabel\":{\"align\":\"left\"},\"paper_bgcolor\":\"white\",\"plot_bgcolor\":\"#E5ECF6\",\"polar\":{\"bgcolor\":\"#E5ECF6\",\"angularaxis\":{\"gridcolor\":\"white\",\"linecolor\":\"white\",\"ticks\":\"\"},\"radialaxis\":{\"gridcolor\":\"white\",\"linecolor\":\"white\",\"ticks\":\"\"}},\"ternary\":{\"bgcolor\":\"#E5ECF6\",\"aaxis\":{\"gridcolor\":\"white\",\"linecolor\":\"white\",\"ticks\":\"\"},\"baxis\":{\"gridcolor\":\"white\",\"linecolor\":\"white\",\"ticks\":\"\"},\"caxis\":{\"gridcolor\":\"white\",\"linecolor\":\"white\",\"ticks\":\"\"}},\"coloraxis\":{\"colorbar\":{\"outlinewidth\":0,\"ticks\":\"\"}},\"colorscale\":{\"sequential\":[[0.0,\"#0d0887\"],[0.1111111111111111,\"#46039f\"],[0.2222222222222222,\"#7201a8\"],[0.3333333333333333,\"#9c179e\"],[0.4444444444444444,\"#bd3786\"],[0.5555555555555556,\"#d8576b\"],[0.6666666666666666,\"#ed7953\"],[0.7777777777777778,\"#fb9f3a\"],[0.8888888888888888,\"#fdca26\"],[1.0,\"#f0f921\"]],\"sequentialminus\":[[0.0,\"#0d0887\"],[0.1111111111111111,\"#46039f\"],[0.2222222222222222,\"#7201a8\"],[0.3333333333333333,\"#9c179e\"],[0.4444444444444444,\"#bd3786\"],[0.5555555555555556,\"#d8576b\"],[0.6666666666666666,\"#ed7953\"],[0.7777777777777778,\"#fb9f3a\"],[0.8888888888888888,\"#fdca26\"],[1.0,\"#f0f921\"]],\"diverging\":[[0,\"#8e0152\"],[0.1,\"#c51b7d\"],[0.2,\"#de77ae\"],[0.3,\"#f1b6da\"],[0.4,\"#fde0ef\"],[0.5,\"#f7f7f7\"],[0.6,\"#e6f5d0\"],[0.7,\"#b8e186\"],[0.8,\"#7fbc41\"],[0.9,\"#4d9221\"],[1,\"#276419\"]]},\"xaxis\":{\"gridcolor\":\"white\",\"linecolor\":\"white\",\"ticks\":\"\",\"title\":{\"standoff\":15},\"zerolinecolor\":\"white\",\"automargin\":true,\"zerolinewidth\":2},\"yaxis\":{\"gridcolor\":\"white\",\"linecolor\":\"white\",\"ticks\":\"\",\"title\":{\"standoff\":15},\"zerolinecolor\":\"white\",\"automargin\":true,\"zerolinewidth\":2},\"scene\":{\"xaxis\":{\"backgroundcolor\":\"#E5ECF6\",\"gridcolor\":\"white\",\"linecolor\":\"white\",\"showbackground\":true,\"ticks\":\"\",\"zerolinecolor\":\"white\",\"gridwidth\":2},\"yaxis\":{\"backgroundcolor\":\"#E5ECF6\",\"gridcolor\":\"white\",\"linecolor\":\"white\",\"showbackground\":true,\"ticks\":\"\",\"zerolinecolor\":\"white\",\"gridwidth\":2},\"zaxis\":{\"backgroundcolor\":\"#E5ECF6\",\"gridcolor\":\"white\",\"linecolor\":\"white\",\"showbackground\":true,\"ticks\":\"\",\"zerolinecolor\":\"white\",\"gridwidth\":2}},\"shapedefaults\":{\"line\":{\"color\":\"#2a3f5f\"}},\"annotationdefaults\":{\"arrowcolor\":\"#2a3f5f\",\"arrowhead\":0,\"arrowwidth\":1},\"geo\":{\"bgcolor\":\"white\",\"landcolor\":\"#E5ECF6\",\"subunitcolor\":\"white\",\"showland\":true,\"showlakes\":true,\"lakecolor\":\"white\"},\"title\":{\"x\":0.05},\"mapbox\":{\"style\":\"light\"}}},\"xaxis\":{\"anchor\":\"y\",\"domain\":[0.0,1.0],\"title\":{\"text\":\"Zones\"},\"categoryorder\":\"array\",\"categoryarray\":[\"Central\",\"Southern\",\"Western\",\"Northern\",\"Eastern\"]},\"yaxis\":{\"anchor\":\"x\",\"domain\":[0.0,1.0],\"title\":{\"text\":\"Number of orders\"}},\"legend\":{\"title\":{\"text\":\"zone\"},\"tracegroupgap\":0},\"margin\":{\"t\":60},\"barmode\":\"relative\",\"title\":{\"text\":\"Distribution of orders across various geographical zones\"},\"height\":500,\"width\":800,\"showlegend\":false},                        {\"responsive\": true}                    ).then(function(){\n",
       "                            \n",
       "var gd = document.getElementById('4756ab46-a152-4726-b1fb-3c1d0842decf');\n",
       "var x = new MutationObserver(function (mutations, observer) {{\n",
       "        var display = window.getComputedStyle(gd).display;\n",
       "        if (!display || display === 'none') {{\n",
       "            console.log([gd, 'removed!']);\n",
       "            Plotly.purge(gd);\n",
       "            observer.disconnect();\n",
       "        }}\n",
       "}});\n",
       "\n",
       "// Listen for the removal of the full notebook cells\n",
       "var notebookContainer = gd.closest('#notebook-container');\n",
       "if (notebookContainer) {{\n",
       "    x.observe(notebookContainer, {childList: true});\n",
       "}}\n",
       "\n",
       "// Listen for the clearing of the current output cell\n",
       "var outputEl = gd.closest('.output');\n",
       "if (outputEl) {{\n",
       "    x.observe(outputEl, {childList: true});\n",
       "}}\n",
       "\n",
       "                        })                };                });            </script>        </div>"
      ]
     },
     "metadata": {},
     "output_type": "display_data"
    }
   ],
   "source": [
    "zone=df.groupby(['zone']).size().reset_index(name='counts').sort_values('counts', ascending=False)\n",
    "\n",
    "fig=px.bar(data_frame=zone, \n",
    "             x='zone', \n",
    "             y='counts', \n",
    "             color='zone', \n",
    "             text_auto=True)\n",
    "\n",
    "fig.update_layout(title=\"Distribution of orders across various geographical zones\", \n",
    "                  height=500, \n",
    "                  width=800,  \n",
    "                  showlegend=False, \n",
    "                  yaxis_title_text='Number of orders', \n",
    "                  xaxis_title_text='Zones')\n",
    "\n",
    "fig.show()"
   ]
  },
  {
   "cell_type": "markdown",
   "id": "9811dcfd",
   "metadata": {
    "papermill": {
     "duration": 0.046054,
     "end_time": "2023-10-31T05:07:50.769026",
     "exception": false,
     "start_time": "2023-10-31T05:07:50.722972",
     "status": "completed"
    },
    "tags": []
   },
   "source": [
    "#### occupation"
   ]
  },
  {
   "cell_type": "markdown",
   "id": "832760b4",
   "metadata": {
    "papermill": {
     "duration": 0.047231,
     "end_time": "2023-10-31T05:07:50.863231",
     "exception": false,
     "start_time": "2023-10-31T05:07:50.816000",
     "status": "completed"
    },
    "tags": []
   },
   "source": [
    "Looking at the various customer occupations"
   ]
  },
  {
   "cell_type": "code",
   "execution_count": 38,
   "id": "d75950fd",
   "metadata": {
    "execution": {
     "iopub.execute_input": "2023-10-31T05:07:50.960075Z",
     "iopub.status.busy": "2023-10-31T05:07:50.959434Z",
     "iopub.status.idle": "2023-10-31T05:07:50.967997Z",
     "shell.execute_reply": "2023-10-31T05:07:50.966639Z"
    },
    "papermill": {
     "duration": 0.059657,
     "end_time": "2023-10-31T05:07:50.970698",
     "exception": false,
     "start_time": "2023-10-31T05:07:50.911041",
     "status": "completed"
    },
    "tags": []
   },
   "outputs": [
    {
     "data": {
      "text/plain": [
       "array(['Healthcare', 'Govt', 'Automobile', 'Construction',\n",
       "       'Food Processing', 'Lawyer', 'Media', 'Banking', 'Retail',\n",
       "       'IT Sector', 'Aviation', 'Hospitality', 'Agriculture', 'Textile',\n",
       "       'Chemical'], dtype=object)"
      ]
     },
     "execution_count": 38,
     "metadata": {},
     "output_type": "execute_result"
    }
   ],
   "source": [
    "df['occupation'].unique()"
   ]
  },
  {
   "cell_type": "markdown",
   "id": "53792855",
   "metadata": {
    "papermill": {
     "duration": 0.046345,
     "end_time": "2023-10-31T05:07:51.066418",
     "exception": false,
     "start_time": "2023-10-31T05:07:51.020073",
     "status": "completed"
    },
    "tags": []
   },
   "source": [
    "Looking at the number of orders with respect to customer occupation"
   ]
  },
  {
   "cell_type": "code",
   "execution_count": 39,
   "id": "b6f024c7",
   "metadata": {
    "execution": {
     "iopub.execute_input": "2023-10-31T05:07:51.161830Z",
     "iopub.status.busy": "2023-10-31T05:07:51.161207Z",
     "iopub.status.idle": "2023-10-31T05:07:51.170710Z",
     "shell.execute_reply": "2023-10-31T05:07:51.169566Z"
    },
    "papermill": {
     "duration": 0.060851,
     "end_time": "2023-10-31T05:07:51.173464",
     "exception": false,
     "start_time": "2023-10-31T05:07:51.112613",
     "status": "completed"
    },
    "tags": []
   },
   "outputs": [
    {
     "data": {
      "text/plain": [
       "occupation\n",
       "IT Sector          1583\n",
       "Healthcare         1408\n",
       "Aviation           1310\n",
       "Banking            1137\n",
       "Govt                854\n",
       "Hospitality         703\n",
       "Media               637\n",
       "Automobile          565\n",
       "Chemical            541\n",
       "Lawyer              531\n",
       "Retail              501\n",
       "Food Processing     423\n",
       "Construction        414\n",
       "Textile             349\n",
       "Agriculture         283\n",
       "Name: count, dtype: int64"
      ]
     },
     "execution_count": 39,
     "metadata": {},
     "output_type": "execute_result"
    }
   ],
   "source": [
    "df['occupation'].value_counts()"
   ]
  },
  {
   "cell_type": "markdown",
   "id": "18f83f04",
   "metadata": {
    "papermill": {
     "duration": 0.045896,
     "end_time": "2023-10-31T05:07:51.266067",
     "exception": false,
     "start_time": "2023-10-31T05:07:51.220171",
     "status": "completed"
    },
    "tags": []
   },
   "source": [
    "Plotting the distribution of orders with respect to customer occupation"
   ]
  },
  {
   "cell_type": "code",
   "execution_count": 40,
   "id": "4ef124ae",
   "metadata": {
    "execution": {
     "iopub.execute_input": "2023-10-31T05:07:51.363153Z",
     "iopub.status.busy": "2023-10-31T05:07:51.362733Z",
     "iopub.status.idle": "2023-10-31T05:07:51.531700Z",
     "shell.execute_reply": "2023-10-31T05:07:51.530551Z"
    },
    "papermill": {
     "duration": 0.221909,
     "end_time": "2023-10-31T05:07:51.534119",
     "exception": false,
     "start_time": "2023-10-31T05:07:51.312210",
     "status": "completed"
    },
    "tags": []
   },
   "outputs": [
    {
     "data": {
      "text/html": [
       "<div>                            <div id=\"b656f605-a889-42cb-8626-14643710a947\" class=\"plotly-graph-div\" style=\"height:500px; width:800px;\"></div>            <script type=\"text/javascript\">                require([\"plotly\"], function(Plotly) {                    window.PLOTLYENV=window.PLOTLYENV || {};                                    if (document.getElementById(\"b656f605-a889-42cb-8626-14643710a947\")) {                    Plotly.newPlot(                        \"b656f605-a889-42cb-8626-14643710a947\",                        [{\"alignmentgroup\":\"True\",\"hovertemplate\":\"occupation=%{x}\\u003cbr\\u003ecounts=%{y}\\u003cextra\\u003e\\u003c\\u002fextra\\u003e\",\"legendgroup\":\"IT Sector\",\"marker\":{\"color\":\"#636efa\",\"pattern\":{\"shape\":\"\"}},\"name\":\"IT Sector\",\"offsetgroup\":\"IT Sector\",\"orientation\":\"v\",\"showlegend\":true,\"textposition\":\"auto\",\"texttemplate\":\"%{y}\",\"x\":[\"IT Sector\"],\"xaxis\":\"x\",\"y\":[1583],\"yaxis\":\"y\",\"type\":\"bar\"},{\"alignmentgroup\":\"True\",\"hovertemplate\":\"occupation=%{x}\\u003cbr\\u003ecounts=%{y}\\u003cextra\\u003e\\u003c\\u002fextra\\u003e\",\"legendgroup\":\"Healthcare\",\"marker\":{\"color\":\"#EF553B\",\"pattern\":{\"shape\":\"\"}},\"name\":\"Healthcare\",\"offsetgroup\":\"Healthcare\",\"orientation\":\"v\",\"showlegend\":true,\"textposition\":\"auto\",\"texttemplate\":\"%{y}\",\"x\":[\"Healthcare\"],\"xaxis\":\"x\",\"y\":[1408],\"yaxis\":\"y\",\"type\":\"bar\"},{\"alignmentgroup\":\"True\",\"hovertemplate\":\"occupation=%{x}\\u003cbr\\u003ecounts=%{y}\\u003cextra\\u003e\\u003c\\u002fextra\\u003e\",\"legendgroup\":\"Aviation\",\"marker\":{\"color\":\"#00cc96\",\"pattern\":{\"shape\":\"\"}},\"name\":\"Aviation\",\"offsetgroup\":\"Aviation\",\"orientation\":\"v\",\"showlegend\":true,\"textposition\":\"auto\",\"texttemplate\":\"%{y}\",\"x\":[\"Aviation\"],\"xaxis\":\"x\",\"y\":[1310],\"yaxis\":\"y\",\"type\":\"bar\"},{\"alignmentgroup\":\"True\",\"hovertemplate\":\"occupation=%{x}\\u003cbr\\u003ecounts=%{y}\\u003cextra\\u003e\\u003c\\u002fextra\\u003e\",\"legendgroup\":\"Banking\",\"marker\":{\"color\":\"#ab63fa\",\"pattern\":{\"shape\":\"\"}},\"name\":\"Banking\",\"offsetgroup\":\"Banking\",\"orientation\":\"v\",\"showlegend\":true,\"textposition\":\"auto\",\"texttemplate\":\"%{y}\",\"x\":[\"Banking\"],\"xaxis\":\"x\",\"y\":[1137],\"yaxis\":\"y\",\"type\":\"bar\"},{\"alignmentgroup\":\"True\",\"hovertemplate\":\"occupation=%{x}\\u003cbr\\u003ecounts=%{y}\\u003cextra\\u003e\\u003c\\u002fextra\\u003e\",\"legendgroup\":\"Govt\",\"marker\":{\"color\":\"#FFA15A\",\"pattern\":{\"shape\":\"\"}},\"name\":\"Govt\",\"offsetgroup\":\"Govt\",\"orientation\":\"v\",\"showlegend\":true,\"textposition\":\"auto\",\"texttemplate\":\"%{y}\",\"x\":[\"Govt\"],\"xaxis\":\"x\",\"y\":[854],\"yaxis\":\"y\",\"type\":\"bar\"},{\"alignmentgroup\":\"True\",\"hovertemplate\":\"occupation=%{x}\\u003cbr\\u003ecounts=%{y}\\u003cextra\\u003e\\u003c\\u002fextra\\u003e\",\"legendgroup\":\"Hospitality\",\"marker\":{\"color\":\"#19d3f3\",\"pattern\":{\"shape\":\"\"}},\"name\":\"Hospitality\",\"offsetgroup\":\"Hospitality\",\"orientation\":\"v\",\"showlegend\":true,\"textposition\":\"auto\",\"texttemplate\":\"%{y}\",\"x\":[\"Hospitality\"],\"xaxis\":\"x\",\"y\":[703],\"yaxis\":\"y\",\"type\":\"bar\"},{\"alignmentgroup\":\"True\",\"hovertemplate\":\"occupation=%{x}\\u003cbr\\u003ecounts=%{y}\\u003cextra\\u003e\\u003c\\u002fextra\\u003e\",\"legendgroup\":\"Media\",\"marker\":{\"color\":\"#FF6692\",\"pattern\":{\"shape\":\"\"}},\"name\":\"Media\",\"offsetgroup\":\"Media\",\"orientation\":\"v\",\"showlegend\":true,\"textposition\":\"auto\",\"texttemplate\":\"%{y}\",\"x\":[\"Media\"],\"xaxis\":\"x\",\"y\":[637],\"yaxis\":\"y\",\"type\":\"bar\"},{\"alignmentgroup\":\"True\",\"hovertemplate\":\"occupation=%{x}\\u003cbr\\u003ecounts=%{y}\\u003cextra\\u003e\\u003c\\u002fextra\\u003e\",\"legendgroup\":\"Automobile\",\"marker\":{\"color\":\"#B6E880\",\"pattern\":{\"shape\":\"\"}},\"name\":\"Automobile\",\"offsetgroup\":\"Automobile\",\"orientation\":\"v\",\"showlegend\":true,\"textposition\":\"auto\",\"texttemplate\":\"%{y}\",\"x\":[\"Automobile\"],\"xaxis\":\"x\",\"y\":[565],\"yaxis\":\"y\",\"type\":\"bar\"},{\"alignmentgroup\":\"True\",\"hovertemplate\":\"occupation=%{x}\\u003cbr\\u003ecounts=%{y}\\u003cextra\\u003e\\u003c\\u002fextra\\u003e\",\"legendgroup\":\"Chemical\",\"marker\":{\"color\":\"#FF97FF\",\"pattern\":{\"shape\":\"\"}},\"name\":\"Chemical\",\"offsetgroup\":\"Chemical\",\"orientation\":\"v\",\"showlegend\":true,\"textposition\":\"auto\",\"texttemplate\":\"%{y}\",\"x\":[\"Chemical\"],\"xaxis\":\"x\",\"y\":[541],\"yaxis\":\"y\",\"type\":\"bar\"},{\"alignmentgroup\":\"True\",\"hovertemplate\":\"occupation=%{x}\\u003cbr\\u003ecounts=%{y}\\u003cextra\\u003e\\u003c\\u002fextra\\u003e\",\"legendgroup\":\"Lawyer\",\"marker\":{\"color\":\"#FECB52\",\"pattern\":{\"shape\":\"\"}},\"name\":\"Lawyer\",\"offsetgroup\":\"Lawyer\",\"orientation\":\"v\",\"showlegend\":true,\"textposition\":\"auto\",\"texttemplate\":\"%{y}\",\"x\":[\"Lawyer\"],\"xaxis\":\"x\",\"y\":[531],\"yaxis\":\"y\",\"type\":\"bar\"},{\"alignmentgroup\":\"True\",\"hovertemplate\":\"occupation=%{x}\\u003cbr\\u003ecounts=%{y}\\u003cextra\\u003e\\u003c\\u002fextra\\u003e\",\"legendgroup\":\"Retail\",\"marker\":{\"color\":\"#636efa\",\"pattern\":{\"shape\":\"\"}},\"name\":\"Retail\",\"offsetgroup\":\"Retail\",\"orientation\":\"v\",\"showlegend\":true,\"textposition\":\"auto\",\"texttemplate\":\"%{y}\",\"x\":[\"Retail\"],\"xaxis\":\"x\",\"y\":[501],\"yaxis\":\"y\",\"type\":\"bar\"},{\"alignmentgroup\":\"True\",\"hovertemplate\":\"occupation=%{x}\\u003cbr\\u003ecounts=%{y}\\u003cextra\\u003e\\u003c\\u002fextra\\u003e\",\"legendgroup\":\"Food Processing\",\"marker\":{\"color\":\"#EF553B\",\"pattern\":{\"shape\":\"\"}},\"name\":\"Food Processing\",\"offsetgroup\":\"Food Processing\",\"orientation\":\"v\",\"showlegend\":true,\"textposition\":\"auto\",\"texttemplate\":\"%{y}\",\"x\":[\"Food Processing\"],\"xaxis\":\"x\",\"y\":[423],\"yaxis\":\"y\",\"type\":\"bar\"},{\"alignmentgroup\":\"True\",\"hovertemplate\":\"occupation=%{x}\\u003cbr\\u003ecounts=%{y}\\u003cextra\\u003e\\u003c\\u002fextra\\u003e\",\"legendgroup\":\"Construction\",\"marker\":{\"color\":\"#00cc96\",\"pattern\":{\"shape\":\"\"}},\"name\":\"Construction\",\"offsetgroup\":\"Construction\",\"orientation\":\"v\",\"showlegend\":true,\"textposition\":\"auto\",\"texttemplate\":\"%{y}\",\"x\":[\"Construction\"],\"xaxis\":\"x\",\"y\":[414],\"yaxis\":\"y\",\"type\":\"bar\"},{\"alignmentgroup\":\"True\",\"hovertemplate\":\"occupation=%{x}\\u003cbr\\u003ecounts=%{y}\\u003cextra\\u003e\\u003c\\u002fextra\\u003e\",\"legendgroup\":\"Textile\",\"marker\":{\"color\":\"#ab63fa\",\"pattern\":{\"shape\":\"\"}},\"name\":\"Textile\",\"offsetgroup\":\"Textile\",\"orientation\":\"v\",\"showlegend\":true,\"textposition\":\"auto\",\"texttemplate\":\"%{y}\",\"x\":[\"Textile\"],\"xaxis\":\"x\",\"y\":[349],\"yaxis\":\"y\",\"type\":\"bar\"},{\"alignmentgroup\":\"True\",\"hovertemplate\":\"occupation=%{x}\\u003cbr\\u003ecounts=%{y}\\u003cextra\\u003e\\u003c\\u002fextra\\u003e\",\"legendgroup\":\"Agriculture\",\"marker\":{\"color\":\"#FFA15A\",\"pattern\":{\"shape\":\"\"}},\"name\":\"Agriculture\",\"offsetgroup\":\"Agriculture\",\"orientation\":\"v\",\"showlegend\":true,\"textposition\":\"auto\",\"texttemplate\":\"%{y}\",\"x\":[\"Agriculture\"],\"xaxis\":\"x\",\"y\":[283],\"yaxis\":\"y\",\"type\":\"bar\"}],                        {\"template\":{\"data\":{\"histogram2dcontour\":[{\"type\":\"histogram2dcontour\",\"colorbar\":{\"outlinewidth\":0,\"ticks\":\"\"},\"colorscale\":[[0.0,\"#0d0887\"],[0.1111111111111111,\"#46039f\"],[0.2222222222222222,\"#7201a8\"],[0.3333333333333333,\"#9c179e\"],[0.4444444444444444,\"#bd3786\"],[0.5555555555555556,\"#d8576b\"],[0.6666666666666666,\"#ed7953\"],[0.7777777777777778,\"#fb9f3a\"],[0.8888888888888888,\"#fdca26\"],[1.0,\"#f0f921\"]]}],\"choropleth\":[{\"type\":\"choropleth\",\"colorbar\":{\"outlinewidth\":0,\"ticks\":\"\"}}],\"histogram2d\":[{\"type\":\"histogram2d\",\"colorbar\":{\"outlinewidth\":0,\"ticks\":\"\"},\"colorscale\":[[0.0,\"#0d0887\"],[0.1111111111111111,\"#46039f\"],[0.2222222222222222,\"#7201a8\"],[0.3333333333333333,\"#9c179e\"],[0.4444444444444444,\"#bd3786\"],[0.5555555555555556,\"#d8576b\"],[0.6666666666666666,\"#ed7953\"],[0.7777777777777778,\"#fb9f3a\"],[0.8888888888888888,\"#fdca26\"],[1.0,\"#f0f921\"]]}],\"heatmap\":[{\"type\":\"heatmap\",\"colorbar\":{\"outlinewidth\":0,\"ticks\":\"\"},\"colorscale\":[[0.0,\"#0d0887\"],[0.1111111111111111,\"#46039f\"],[0.2222222222222222,\"#7201a8\"],[0.3333333333333333,\"#9c179e\"],[0.4444444444444444,\"#bd3786\"],[0.5555555555555556,\"#d8576b\"],[0.6666666666666666,\"#ed7953\"],[0.7777777777777778,\"#fb9f3a\"],[0.8888888888888888,\"#fdca26\"],[1.0,\"#f0f921\"]]}],\"heatmapgl\":[{\"type\":\"heatmapgl\",\"colorbar\":{\"outlinewidth\":0,\"ticks\":\"\"},\"colorscale\":[[0.0,\"#0d0887\"],[0.1111111111111111,\"#46039f\"],[0.2222222222222222,\"#7201a8\"],[0.3333333333333333,\"#9c179e\"],[0.4444444444444444,\"#bd3786\"],[0.5555555555555556,\"#d8576b\"],[0.6666666666666666,\"#ed7953\"],[0.7777777777777778,\"#fb9f3a\"],[0.8888888888888888,\"#fdca26\"],[1.0,\"#f0f921\"]]}],\"contourcarpet\":[{\"type\":\"contourcarpet\",\"colorbar\":{\"outlinewidth\":0,\"ticks\":\"\"}}],\"contour\":[{\"type\":\"contour\",\"colorbar\":{\"outlinewidth\":0,\"ticks\":\"\"},\"colorscale\":[[0.0,\"#0d0887\"],[0.1111111111111111,\"#46039f\"],[0.2222222222222222,\"#7201a8\"],[0.3333333333333333,\"#9c179e\"],[0.4444444444444444,\"#bd3786\"],[0.5555555555555556,\"#d8576b\"],[0.6666666666666666,\"#ed7953\"],[0.7777777777777778,\"#fb9f3a\"],[0.8888888888888888,\"#fdca26\"],[1.0,\"#f0f921\"]]}],\"surface\":[{\"type\":\"surface\",\"colorbar\":{\"outlinewidth\":0,\"ticks\":\"\"},\"colorscale\":[[0.0,\"#0d0887\"],[0.1111111111111111,\"#46039f\"],[0.2222222222222222,\"#7201a8\"],[0.3333333333333333,\"#9c179e\"],[0.4444444444444444,\"#bd3786\"],[0.5555555555555556,\"#d8576b\"],[0.6666666666666666,\"#ed7953\"],[0.7777777777777778,\"#fb9f3a\"],[0.8888888888888888,\"#fdca26\"],[1.0,\"#f0f921\"]]}],\"mesh3d\":[{\"type\":\"mesh3d\",\"colorbar\":{\"outlinewidth\":0,\"ticks\":\"\"}}],\"scatter\":[{\"fillpattern\":{\"fillmode\":\"overlay\",\"size\":10,\"solidity\":0.2},\"type\":\"scatter\"}],\"parcoords\":[{\"type\":\"parcoords\",\"line\":{\"colorbar\":{\"outlinewidth\":0,\"ticks\":\"\"}}}],\"scatterpolargl\":[{\"type\":\"scatterpolargl\",\"marker\":{\"colorbar\":{\"outlinewidth\":0,\"ticks\":\"\"}}}],\"bar\":[{\"error_x\":{\"color\":\"#2a3f5f\"},\"error_y\":{\"color\":\"#2a3f5f\"},\"marker\":{\"line\":{\"color\":\"#E5ECF6\",\"width\":0.5},\"pattern\":{\"fillmode\":\"overlay\",\"size\":10,\"solidity\":0.2}},\"type\":\"bar\"}],\"scattergeo\":[{\"type\":\"scattergeo\",\"marker\":{\"colorbar\":{\"outlinewidth\":0,\"ticks\":\"\"}}}],\"scatterpolar\":[{\"type\":\"scatterpolar\",\"marker\":{\"colorbar\":{\"outlinewidth\":0,\"ticks\":\"\"}}}],\"histogram\":[{\"marker\":{\"pattern\":{\"fillmode\":\"overlay\",\"size\":10,\"solidity\":0.2}},\"type\":\"histogram\"}],\"scattergl\":[{\"type\":\"scattergl\",\"marker\":{\"colorbar\":{\"outlinewidth\":0,\"ticks\":\"\"}}}],\"scatter3d\":[{\"type\":\"scatter3d\",\"line\":{\"colorbar\":{\"outlinewidth\":0,\"ticks\":\"\"}},\"marker\":{\"colorbar\":{\"outlinewidth\":0,\"ticks\":\"\"}}}],\"scattermapbox\":[{\"type\":\"scattermapbox\",\"marker\":{\"colorbar\":{\"outlinewidth\":0,\"ticks\":\"\"}}}],\"scatterternary\":[{\"type\":\"scatterternary\",\"marker\":{\"colorbar\":{\"outlinewidth\":0,\"ticks\":\"\"}}}],\"scattercarpet\":[{\"type\":\"scattercarpet\",\"marker\":{\"colorbar\":{\"outlinewidth\":0,\"ticks\":\"\"}}}],\"carpet\":[{\"aaxis\":{\"endlinecolor\":\"#2a3f5f\",\"gridcolor\":\"white\",\"linecolor\":\"white\",\"minorgridcolor\":\"white\",\"startlinecolor\":\"#2a3f5f\"},\"baxis\":{\"endlinecolor\":\"#2a3f5f\",\"gridcolor\":\"white\",\"linecolor\":\"white\",\"minorgridcolor\":\"white\",\"startlinecolor\":\"#2a3f5f\"},\"type\":\"carpet\"}],\"table\":[{\"cells\":{\"fill\":{\"color\":\"#EBF0F8\"},\"line\":{\"color\":\"white\"}},\"header\":{\"fill\":{\"color\":\"#C8D4E3\"},\"line\":{\"color\":\"white\"}},\"type\":\"table\"}],\"barpolar\":[{\"marker\":{\"line\":{\"color\":\"#E5ECF6\",\"width\":0.5},\"pattern\":{\"fillmode\":\"overlay\",\"size\":10,\"solidity\":0.2}},\"type\":\"barpolar\"}],\"pie\":[{\"automargin\":true,\"type\":\"pie\"}]},\"layout\":{\"autotypenumbers\":\"strict\",\"colorway\":[\"#636efa\",\"#EF553B\",\"#00cc96\",\"#ab63fa\",\"#FFA15A\",\"#19d3f3\",\"#FF6692\",\"#B6E880\",\"#FF97FF\",\"#FECB52\"],\"font\":{\"color\":\"#2a3f5f\"},\"hovermode\":\"closest\",\"hoverlabel\":{\"align\":\"left\"},\"paper_bgcolor\":\"white\",\"plot_bgcolor\":\"#E5ECF6\",\"polar\":{\"bgcolor\":\"#E5ECF6\",\"angularaxis\":{\"gridcolor\":\"white\",\"linecolor\":\"white\",\"ticks\":\"\"},\"radialaxis\":{\"gridcolor\":\"white\",\"linecolor\":\"white\",\"ticks\":\"\"}},\"ternary\":{\"bgcolor\":\"#E5ECF6\",\"aaxis\":{\"gridcolor\":\"white\",\"linecolor\":\"white\",\"ticks\":\"\"},\"baxis\":{\"gridcolor\":\"white\",\"linecolor\":\"white\",\"ticks\":\"\"},\"caxis\":{\"gridcolor\":\"white\",\"linecolor\":\"white\",\"ticks\":\"\"}},\"coloraxis\":{\"colorbar\":{\"outlinewidth\":0,\"ticks\":\"\"}},\"colorscale\":{\"sequential\":[[0.0,\"#0d0887\"],[0.1111111111111111,\"#46039f\"],[0.2222222222222222,\"#7201a8\"],[0.3333333333333333,\"#9c179e\"],[0.4444444444444444,\"#bd3786\"],[0.5555555555555556,\"#d8576b\"],[0.6666666666666666,\"#ed7953\"],[0.7777777777777778,\"#fb9f3a\"],[0.8888888888888888,\"#fdca26\"],[1.0,\"#f0f921\"]],\"sequentialminus\":[[0.0,\"#0d0887\"],[0.1111111111111111,\"#46039f\"],[0.2222222222222222,\"#7201a8\"],[0.3333333333333333,\"#9c179e\"],[0.4444444444444444,\"#bd3786\"],[0.5555555555555556,\"#d8576b\"],[0.6666666666666666,\"#ed7953\"],[0.7777777777777778,\"#fb9f3a\"],[0.8888888888888888,\"#fdca26\"],[1.0,\"#f0f921\"]],\"diverging\":[[0,\"#8e0152\"],[0.1,\"#c51b7d\"],[0.2,\"#de77ae\"],[0.3,\"#f1b6da\"],[0.4,\"#fde0ef\"],[0.5,\"#f7f7f7\"],[0.6,\"#e6f5d0\"],[0.7,\"#b8e186\"],[0.8,\"#7fbc41\"],[0.9,\"#4d9221\"],[1,\"#276419\"]]},\"xaxis\":{\"gridcolor\":\"white\",\"linecolor\":\"white\",\"ticks\":\"\",\"title\":{\"standoff\":15},\"zerolinecolor\":\"white\",\"automargin\":true,\"zerolinewidth\":2},\"yaxis\":{\"gridcolor\":\"white\",\"linecolor\":\"white\",\"ticks\":\"\",\"title\":{\"standoff\":15},\"zerolinecolor\":\"white\",\"automargin\":true,\"zerolinewidth\":2},\"scene\":{\"xaxis\":{\"backgroundcolor\":\"#E5ECF6\",\"gridcolor\":\"white\",\"linecolor\":\"white\",\"showbackground\":true,\"ticks\":\"\",\"zerolinecolor\":\"white\",\"gridwidth\":2},\"yaxis\":{\"backgroundcolor\":\"#E5ECF6\",\"gridcolor\":\"white\",\"linecolor\":\"white\",\"showbackground\":true,\"ticks\":\"\",\"zerolinecolor\":\"white\",\"gridwidth\":2},\"zaxis\":{\"backgroundcolor\":\"#E5ECF6\",\"gridcolor\":\"white\",\"linecolor\":\"white\",\"showbackground\":true,\"ticks\":\"\",\"zerolinecolor\":\"white\",\"gridwidth\":2}},\"shapedefaults\":{\"line\":{\"color\":\"#2a3f5f\"}},\"annotationdefaults\":{\"arrowcolor\":\"#2a3f5f\",\"arrowhead\":0,\"arrowwidth\":1},\"geo\":{\"bgcolor\":\"white\",\"landcolor\":\"#E5ECF6\",\"subunitcolor\":\"white\",\"showland\":true,\"showlakes\":true,\"lakecolor\":\"white\"},\"title\":{\"x\":0.05},\"mapbox\":{\"style\":\"light\"}}},\"xaxis\":{\"anchor\":\"y\",\"domain\":[0.0,1.0],\"title\":{\"text\":\"Occupations\"},\"categoryorder\":\"array\",\"categoryarray\":[\"IT Sector\",\"Healthcare\",\"Aviation\",\"Banking\",\"Govt\",\"Hospitality\",\"Media\",\"Automobile\",\"Chemical\",\"Lawyer\",\"Retail\",\"Food Processing\",\"Construction\",\"Textile\",\"Agriculture\"],\"tickangle\":35},\"yaxis\":{\"anchor\":\"x\",\"domain\":[0.0,1.0],\"title\":{\"text\":\"Number of orders\"}},\"legend\":{\"title\":{\"text\":\"occupation\"},\"tracegroupgap\":0},\"margin\":{\"t\":60},\"barmode\":\"relative\",\"title\":{\"text\":\"Distribution of orders w.r.t customer occupation\"},\"height\":500,\"width\":800,\"showlegend\":false},                        {\"responsive\": true}                    ).then(function(){\n",
       "                            \n",
       "var gd = document.getElementById('b656f605-a889-42cb-8626-14643710a947');\n",
       "var x = new MutationObserver(function (mutations, observer) {{\n",
       "        var display = window.getComputedStyle(gd).display;\n",
       "        if (!display || display === 'none') {{\n",
       "            console.log([gd, 'removed!']);\n",
       "            Plotly.purge(gd);\n",
       "            observer.disconnect();\n",
       "        }}\n",
       "}});\n",
       "\n",
       "// Listen for the removal of the full notebook cells\n",
       "var notebookContainer = gd.closest('#notebook-container');\n",
       "if (notebookContainer) {{\n",
       "    x.observe(notebookContainer, {childList: true});\n",
       "}}\n",
       "\n",
       "// Listen for the clearing of the current output cell\n",
       "var outputEl = gd.closest('.output');\n",
       "if (outputEl) {{\n",
       "    x.observe(outputEl, {childList: true});\n",
       "}}\n",
       "\n",
       "                        })                };                });            </script>        </div>"
      ]
     },
     "metadata": {},
     "output_type": "display_data"
    }
   ],
   "source": [
    "occupation=df.groupby(['occupation']).size().reset_index(name='counts').sort_values('counts', ascending=False)\n",
    "\n",
    "fig=px.bar(data_frame=occupation, \n",
    "             x='occupation', \n",
    "             y='counts', \n",
    "             color='occupation', \n",
    "             text_auto=True)\n",
    "\n",
    "fig.update_layout(title=\"Distribution of orders w.r.t customer occupation\", \n",
    "                  height=500, \n",
    "                  width=800,  \n",
    "                  showlegend=False, \n",
    "                  yaxis_title_text='Number of orders', \n",
    "                  xaxis_title_text='Occupations', \n",
    "                  xaxis_tickangle=35)\n",
    "\n",
    "fig.show()"
   ]
  },
  {
   "cell_type": "markdown",
   "id": "40be3e0e",
   "metadata": {
    "papermill": {
     "duration": 0.055173,
     "end_time": "2023-10-31T05:07:51.637805",
     "exception": false,
     "start_time": "2023-10-31T05:07:51.582632",
     "status": "completed"
    },
    "tags": []
   },
   "source": [
    "#### product_category"
   ]
  },
  {
   "cell_type": "markdown",
   "id": "0e305f4f",
   "metadata": {
    "papermill": {
     "duration": 0.046766,
     "end_time": "2023-10-31T05:07:51.732326",
     "exception": false,
     "start_time": "2023-10-31T05:07:51.685560",
     "status": "completed"
    },
    "tags": []
   },
   "source": [
    "Looking at the number of different product categories"
   ]
  },
  {
   "cell_type": "code",
   "execution_count": 41,
   "id": "e08aad39",
   "metadata": {
    "execution": {
     "iopub.execute_input": "2023-10-31T05:07:51.832479Z",
     "iopub.status.busy": "2023-10-31T05:07:51.832071Z",
     "iopub.status.idle": "2023-10-31T05:07:51.840682Z",
     "shell.execute_reply": "2023-10-31T05:07:51.839732Z"
    },
    "papermill": {
     "duration": 0.060807,
     "end_time": "2023-10-31T05:07:51.842903",
     "exception": false,
     "start_time": "2023-10-31T05:07:51.782096",
     "status": "completed"
    },
    "tags": []
   },
   "outputs": [
    {
     "data": {
      "text/plain": [
       "18"
      ]
     },
     "execution_count": 41,
     "metadata": {},
     "output_type": "execute_result"
    }
   ],
   "source": [
    "df['product_category'].nunique()"
   ]
  },
  {
   "cell_type": "markdown",
   "id": "d893e94c",
   "metadata": {
    "papermill": {
     "duration": 0.046606,
     "end_time": "2023-10-31T05:07:51.936344",
     "exception": false,
     "start_time": "2023-10-31T05:07:51.889738",
     "status": "completed"
    },
    "tags": []
   },
   "source": [
    "Looking at the various product categories"
   ]
  },
  {
   "cell_type": "code",
   "execution_count": 42,
   "id": "e7d6e3b9",
   "metadata": {
    "execution": {
     "iopub.execute_input": "2023-10-31T05:07:52.033883Z",
     "iopub.status.busy": "2023-10-31T05:07:52.033465Z",
     "iopub.status.idle": "2023-10-31T05:07:52.042283Z",
     "shell.execute_reply": "2023-10-31T05:07:52.041100Z"
    },
    "papermill": {
     "duration": 0.061199,
     "end_time": "2023-10-31T05:07:52.044676",
     "exception": false,
     "start_time": "2023-10-31T05:07:51.983477",
     "status": "completed"
    },
    "tags": []
   },
   "outputs": [
    {
     "data": {
      "text/plain": [
       "array(['Auto', 'Hand & Power Tools', 'Stationery', 'Tupperware',\n",
       "       'Footwear & Shoes', 'Furniture', 'Food', 'Games & Toys',\n",
       "       'Sports Products', 'Books', 'Electronics & Gadgets', 'Decor',\n",
       "       'Clothing & Apparel', 'Beauty', 'Household items', 'Pet Care',\n",
       "       'Veterinary', 'Office'], dtype=object)"
      ]
     },
     "execution_count": 42,
     "metadata": {},
     "output_type": "execute_result"
    }
   ],
   "source": [
    "df['product_category'].unique()"
   ]
  },
  {
   "cell_type": "markdown",
   "id": "da0b2276",
   "metadata": {
    "papermill": {
     "duration": 0.047694,
     "end_time": "2023-10-31T05:07:52.139412",
     "exception": false,
     "start_time": "2023-10-31T05:07:52.091718",
     "status": "completed"
    },
    "tags": []
   },
   "source": [
    "Looking at the number of orders for each product category"
   ]
  },
  {
   "cell_type": "code",
   "execution_count": 43,
   "id": "31c09c90",
   "metadata": {
    "execution": {
     "iopub.execute_input": "2023-10-31T05:07:52.234796Z",
     "iopub.status.busy": "2023-10-31T05:07:52.234370Z",
     "iopub.status.idle": "2023-10-31T05:07:52.245500Z",
     "shell.execute_reply": "2023-10-31T05:07:52.244234Z"
    },
    "papermill": {
     "duration": 0.061628,
     "end_time": "2023-10-31T05:07:52.247727",
     "exception": false,
     "start_time": "2023-10-31T05:07:52.186099",
     "status": "completed"
    },
    "tags": []
   },
   "outputs": [
    {
     "data": {
      "text/plain": [
       "product_category\n",
       "Clothing & Apparel       2655\n",
       "Food                     2490\n",
       "Electronics & Gadgets    2087\n",
       "Footwear & Shoes         1059\n",
       "Household items           520\n",
       "Beauty                    422\n",
       "Games & Toys              386\n",
       "Sports Products           356\n",
       "Furniture                 352\n",
       "Pet Care                  212\n",
       "Office                    113\n",
       "Stationery                112\n",
       "Books                     103\n",
       "Auto                       97\n",
       "Decor                      96\n",
       "Veterinary                 81\n",
       "Tupperware                 72\n",
       "Hand & Power Tools         26\n",
       "Name: count, dtype: int64"
      ]
     },
     "execution_count": 43,
     "metadata": {},
     "output_type": "execute_result"
    }
   ],
   "source": [
    "df['product_category'].value_counts()"
   ]
  },
  {
   "cell_type": "markdown",
   "id": "de1c1906",
   "metadata": {
    "papermill": {
     "duration": 0.046771,
     "end_time": "2023-10-31T05:07:52.341193",
     "exception": false,
     "start_time": "2023-10-31T05:07:52.294422",
     "status": "completed"
    },
    "tags": []
   },
   "source": [
    "Plotting the distribution of orders based on various product categories"
   ]
  },
  {
   "cell_type": "code",
   "execution_count": 44,
   "id": "a2d0d5e2",
   "metadata": {
    "execution": {
     "iopub.execute_input": "2023-10-31T05:07:52.438994Z",
     "iopub.status.busy": "2023-10-31T05:07:52.438588Z",
     "iopub.status.idle": "2023-10-31T05:07:52.605597Z",
     "shell.execute_reply": "2023-10-31T05:07:52.604385Z"
    },
    "papermill": {
     "duration": 0.218331,
     "end_time": "2023-10-31T05:07:52.607946",
     "exception": false,
     "start_time": "2023-10-31T05:07:52.389615",
     "status": "completed"
    },
    "tags": []
   },
   "outputs": [
    {
     "data": {
      "text/html": [
       "<div>                            <div id=\"cf556140-2150-4262-8b37-8b46287d3d6f\" class=\"plotly-graph-div\" style=\"height:500px; width:800px;\"></div>            <script type=\"text/javascript\">                require([\"plotly\"], function(Plotly) {                    window.PLOTLYENV=window.PLOTLYENV || {};                                    if (document.getElementById(\"cf556140-2150-4262-8b37-8b46287d3d6f\")) {                    Plotly.newPlot(                        \"cf556140-2150-4262-8b37-8b46287d3d6f\",                        [{\"alignmentgroup\":\"True\",\"hovertemplate\":\"product_category=%{x}\\u003cbr\\u003ecounts=%{y}\\u003cextra\\u003e\\u003c\\u002fextra\\u003e\",\"legendgroup\":\"Clothing & Apparel\",\"marker\":{\"color\":\"#636efa\",\"pattern\":{\"shape\":\"\"}},\"name\":\"Clothing & Apparel\",\"offsetgroup\":\"Clothing & Apparel\",\"orientation\":\"v\",\"showlegend\":true,\"textposition\":\"auto\",\"texttemplate\":\"%{y}\",\"x\":[\"Clothing & Apparel\"],\"xaxis\":\"x\",\"y\":[2655],\"yaxis\":\"y\",\"type\":\"bar\"},{\"alignmentgroup\":\"True\",\"hovertemplate\":\"product_category=%{x}\\u003cbr\\u003ecounts=%{y}\\u003cextra\\u003e\\u003c\\u002fextra\\u003e\",\"legendgroup\":\"Food\",\"marker\":{\"color\":\"#EF553B\",\"pattern\":{\"shape\":\"\"}},\"name\":\"Food\",\"offsetgroup\":\"Food\",\"orientation\":\"v\",\"showlegend\":true,\"textposition\":\"auto\",\"texttemplate\":\"%{y}\",\"x\":[\"Food\"],\"xaxis\":\"x\",\"y\":[2490],\"yaxis\":\"y\",\"type\":\"bar\"},{\"alignmentgroup\":\"True\",\"hovertemplate\":\"product_category=%{x}\\u003cbr\\u003ecounts=%{y}\\u003cextra\\u003e\\u003c\\u002fextra\\u003e\",\"legendgroup\":\"Electronics & Gadgets\",\"marker\":{\"color\":\"#00cc96\",\"pattern\":{\"shape\":\"\"}},\"name\":\"Electronics & Gadgets\",\"offsetgroup\":\"Electronics & Gadgets\",\"orientation\":\"v\",\"showlegend\":true,\"textposition\":\"auto\",\"texttemplate\":\"%{y}\",\"x\":[\"Electronics & Gadgets\"],\"xaxis\":\"x\",\"y\":[2087],\"yaxis\":\"y\",\"type\":\"bar\"},{\"alignmentgroup\":\"True\",\"hovertemplate\":\"product_category=%{x}\\u003cbr\\u003ecounts=%{y}\\u003cextra\\u003e\\u003c\\u002fextra\\u003e\",\"legendgroup\":\"Footwear & Shoes\",\"marker\":{\"color\":\"#ab63fa\",\"pattern\":{\"shape\":\"\"}},\"name\":\"Footwear & Shoes\",\"offsetgroup\":\"Footwear & Shoes\",\"orientation\":\"v\",\"showlegend\":true,\"textposition\":\"auto\",\"texttemplate\":\"%{y}\",\"x\":[\"Footwear & Shoes\"],\"xaxis\":\"x\",\"y\":[1059],\"yaxis\":\"y\",\"type\":\"bar\"},{\"alignmentgroup\":\"True\",\"hovertemplate\":\"product_category=%{x}\\u003cbr\\u003ecounts=%{y}\\u003cextra\\u003e\\u003c\\u002fextra\\u003e\",\"legendgroup\":\"Household items\",\"marker\":{\"color\":\"#FFA15A\",\"pattern\":{\"shape\":\"\"}},\"name\":\"Household items\",\"offsetgroup\":\"Household items\",\"orientation\":\"v\",\"showlegend\":true,\"textposition\":\"auto\",\"texttemplate\":\"%{y}\",\"x\":[\"Household items\"],\"xaxis\":\"x\",\"y\":[520],\"yaxis\":\"y\",\"type\":\"bar\"},{\"alignmentgroup\":\"True\",\"hovertemplate\":\"product_category=%{x}\\u003cbr\\u003ecounts=%{y}\\u003cextra\\u003e\\u003c\\u002fextra\\u003e\",\"legendgroup\":\"Beauty\",\"marker\":{\"color\":\"#19d3f3\",\"pattern\":{\"shape\":\"\"}},\"name\":\"Beauty\",\"offsetgroup\":\"Beauty\",\"orientation\":\"v\",\"showlegend\":true,\"textposition\":\"auto\",\"texttemplate\":\"%{y}\",\"x\":[\"Beauty\"],\"xaxis\":\"x\",\"y\":[422],\"yaxis\":\"y\",\"type\":\"bar\"},{\"alignmentgroup\":\"True\",\"hovertemplate\":\"product_category=%{x}\\u003cbr\\u003ecounts=%{y}\\u003cextra\\u003e\\u003c\\u002fextra\\u003e\",\"legendgroup\":\"Games & Toys\",\"marker\":{\"color\":\"#FF6692\",\"pattern\":{\"shape\":\"\"}},\"name\":\"Games & Toys\",\"offsetgroup\":\"Games & Toys\",\"orientation\":\"v\",\"showlegend\":true,\"textposition\":\"auto\",\"texttemplate\":\"%{y}\",\"x\":[\"Games & Toys\"],\"xaxis\":\"x\",\"y\":[386],\"yaxis\":\"y\",\"type\":\"bar\"},{\"alignmentgroup\":\"True\",\"hovertemplate\":\"product_category=%{x}\\u003cbr\\u003ecounts=%{y}\\u003cextra\\u003e\\u003c\\u002fextra\\u003e\",\"legendgroup\":\"Sports Products\",\"marker\":{\"color\":\"#B6E880\",\"pattern\":{\"shape\":\"\"}},\"name\":\"Sports Products\",\"offsetgroup\":\"Sports Products\",\"orientation\":\"v\",\"showlegend\":true,\"textposition\":\"auto\",\"texttemplate\":\"%{y}\",\"x\":[\"Sports Products\"],\"xaxis\":\"x\",\"y\":[356],\"yaxis\":\"y\",\"type\":\"bar\"},{\"alignmentgroup\":\"True\",\"hovertemplate\":\"product_category=%{x}\\u003cbr\\u003ecounts=%{y}\\u003cextra\\u003e\\u003c\\u002fextra\\u003e\",\"legendgroup\":\"Furniture\",\"marker\":{\"color\":\"#FF97FF\",\"pattern\":{\"shape\":\"\"}},\"name\":\"Furniture\",\"offsetgroup\":\"Furniture\",\"orientation\":\"v\",\"showlegend\":true,\"textposition\":\"auto\",\"texttemplate\":\"%{y}\",\"x\":[\"Furniture\"],\"xaxis\":\"x\",\"y\":[352],\"yaxis\":\"y\",\"type\":\"bar\"},{\"alignmentgroup\":\"True\",\"hovertemplate\":\"product_category=%{x}\\u003cbr\\u003ecounts=%{y}\\u003cextra\\u003e\\u003c\\u002fextra\\u003e\",\"legendgroup\":\"Pet Care\",\"marker\":{\"color\":\"#FECB52\",\"pattern\":{\"shape\":\"\"}},\"name\":\"Pet Care\",\"offsetgroup\":\"Pet Care\",\"orientation\":\"v\",\"showlegend\":true,\"textposition\":\"auto\",\"texttemplate\":\"%{y}\",\"x\":[\"Pet Care\"],\"xaxis\":\"x\",\"y\":[212],\"yaxis\":\"y\",\"type\":\"bar\"},{\"alignmentgroup\":\"True\",\"hovertemplate\":\"product_category=%{x}\\u003cbr\\u003ecounts=%{y}\\u003cextra\\u003e\\u003c\\u002fextra\\u003e\",\"legendgroup\":\"Office\",\"marker\":{\"color\":\"#636efa\",\"pattern\":{\"shape\":\"\"}},\"name\":\"Office\",\"offsetgroup\":\"Office\",\"orientation\":\"v\",\"showlegend\":true,\"textposition\":\"auto\",\"texttemplate\":\"%{y}\",\"x\":[\"Office\"],\"xaxis\":\"x\",\"y\":[113],\"yaxis\":\"y\",\"type\":\"bar\"},{\"alignmentgroup\":\"True\",\"hovertemplate\":\"product_category=%{x}\\u003cbr\\u003ecounts=%{y}\\u003cextra\\u003e\\u003c\\u002fextra\\u003e\",\"legendgroup\":\"Stationery\",\"marker\":{\"color\":\"#EF553B\",\"pattern\":{\"shape\":\"\"}},\"name\":\"Stationery\",\"offsetgroup\":\"Stationery\",\"orientation\":\"v\",\"showlegend\":true,\"textposition\":\"auto\",\"texttemplate\":\"%{y}\",\"x\":[\"Stationery\"],\"xaxis\":\"x\",\"y\":[112],\"yaxis\":\"y\",\"type\":\"bar\"},{\"alignmentgroup\":\"True\",\"hovertemplate\":\"product_category=%{x}\\u003cbr\\u003ecounts=%{y}\\u003cextra\\u003e\\u003c\\u002fextra\\u003e\",\"legendgroup\":\"Books\",\"marker\":{\"color\":\"#00cc96\",\"pattern\":{\"shape\":\"\"}},\"name\":\"Books\",\"offsetgroup\":\"Books\",\"orientation\":\"v\",\"showlegend\":true,\"textposition\":\"auto\",\"texttemplate\":\"%{y}\",\"x\":[\"Books\"],\"xaxis\":\"x\",\"y\":[103],\"yaxis\":\"y\",\"type\":\"bar\"},{\"alignmentgroup\":\"True\",\"hovertemplate\":\"product_category=%{x}\\u003cbr\\u003ecounts=%{y}\\u003cextra\\u003e\\u003c\\u002fextra\\u003e\",\"legendgroup\":\"Auto\",\"marker\":{\"color\":\"#ab63fa\",\"pattern\":{\"shape\":\"\"}},\"name\":\"Auto\",\"offsetgroup\":\"Auto\",\"orientation\":\"v\",\"showlegend\":true,\"textposition\":\"auto\",\"texttemplate\":\"%{y}\",\"x\":[\"Auto\"],\"xaxis\":\"x\",\"y\":[97],\"yaxis\":\"y\",\"type\":\"bar\"},{\"alignmentgroup\":\"True\",\"hovertemplate\":\"product_category=%{x}\\u003cbr\\u003ecounts=%{y}\\u003cextra\\u003e\\u003c\\u002fextra\\u003e\",\"legendgroup\":\"Decor\",\"marker\":{\"color\":\"#FFA15A\",\"pattern\":{\"shape\":\"\"}},\"name\":\"Decor\",\"offsetgroup\":\"Decor\",\"orientation\":\"v\",\"showlegend\":true,\"textposition\":\"auto\",\"texttemplate\":\"%{y}\",\"x\":[\"Decor\"],\"xaxis\":\"x\",\"y\":[96],\"yaxis\":\"y\",\"type\":\"bar\"},{\"alignmentgroup\":\"True\",\"hovertemplate\":\"product_category=%{x}\\u003cbr\\u003ecounts=%{y}\\u003cextra\\u003e\\u003c\\u002fextra\\u003e\",\"legendgroup\":\"Veterinary\",\"marker\":{\"color\":\"#19d3f3\",\"pattern\":{\"shape\":\"\"}},\"name\":\"Veterinary\",\"offsetgroup\":\"Veterinary\",\"orientation\":\"v\",\"showlegend\":true,\"textposition\":\"auto\",\"texttemplate\":\"%{y}\",\"x\":[\"Veterinary\"],\"xaxis\":\"x\",\"y\":[81],\"yaxis\":\"y\",\"type\":\"bar\"},{\"alignmentgroup\":\"True\",\"hovertemplate\":\"product_category=%{x}\\u003cbr\\u003ecounts=%{y}\\u003cextra\\u003e\\u003c\\u002fextra\\u003e\",\"legendgroup\":\"Tupperware\",\"marker\":{\"color\":\"#FF6692\",\"pattern\":{\"shape\":\"\"}},\"name\":\"Tupperware\",\"offsetgroup\":\"Tupperware\",\"orientation\":\"v\",\"showlegend\":true,\"textposition\":\"auto\",\"texttemplate\":\"%{y}\",\"x\":[\"Tupperware\"],\"xaxis\":\"x\",\"y\":[72],\"yaxis\":\"y\",\"type\":\"bar\"},{\"alignmentgroup\":\"True\",\"hovertemplate\":\"product_category=%{x}\\u003cbr\\u003ecounts=%{y}\\u003cextra\\u003e\\u003c\\u002fextra\\u003e\",\"legendgroup\":\"Hand & Power Tools\",\"marker\":{\"color\":\"#B6E880\",\"pattern\":{\"shape\":\"\"}},\"name\":\"Hand & Power Tools\",\"offsetgroup\":\"Hand & Power Tools\",\"orientation\":\"v\",\"showlegend\":true,\"textposition\":\"auto\",\"texttemplate\":\"%{y}\",\"x\":[\"Hand & Power Tools\"],\"xaxis\":\"x\",\"y\":[26],\"yaxis\":\"y\",\"type\":\"bar\"}],                        {\"template\":{\"data\":{\"histogram2dcontour\":[{\"type\":\"histogram2dcontour\",\"colorbar\":{\"outlinewidth\":0,\"ticks\":\"\"},\"colorscale\":[[0.0,\"#0d0887\"],[0.1111111111111111,\"#46039f\"],[0.2222222222222222,\"#7201a8\"],[0.3333333333333333,\"#9c179e\"],[0.4444444444444444,\"#bd3786\"],[0.5555555555555556,\"#d8576b\"],[0.6666666666666666,\"#ed7953\"],[0.7777777777777778,\"#fb9f3a\"],[0.8888888888888888,\"#fdca26\"],[1.0,\"#f0f921\"]]}],\"choropleth\":[{\"type\":\"choropleth\",\"colorbar\":{\"outlinewidth\":0,\"ticks\":\"\"}}],\"histogram2d\":[{\"type\":\"histogram2d\",\"colorbar\":{\"outlinewidth\":0,\"ticks\":\"\"},\"colorscale\":[[0.0,\"#0d0887\"],[0.1111111111111111,\"#46039f\"],[0.2222222222222222,\"#7201a8\"],[0.3333333333333333,\"#9c179e\"],[0.4444444444444444,\"#bd3786\"],[0.5555555555555556,\"#d8576b\"],[0.6666666666666666,\"#ed7953\"],[0.7777777777777778,\"#fb9f3a\"],[0.8888888888888888,\"#fdca26\"],[1.0,\"#f0f921\"]]}],\"heatmap\":[{\"type\":\"heatmap\",\"colorbar\":{\"outlinewidth\":0,\"ticks\":\"\"},\"colorscale\":[[0.0,\"#0d0887\"],[0.1111111111111111,\"#46039f\"],[0.2222222222222222,\"#7201a8\"],[0.3333333333333333,\"#9c179e\"],[0.4444444444444444,\"#bd3786\"],[0.5555555555555556,\"#d8576b\"],[0.6666666666666666,\"#ed7953\"],[0.7777777777777778,\"#fb9f3a\"],[0.8888888888888888,\"#fdca26\"],[1.0,\"#f0f921\"]]}],\"heatmapgl\":[{\"type\":\"heatmapgl\",\"colorbar\":{\"outlinewidth\":0,\"ticks\":\"\"},\"colorscale\":[[0.0,\"#0d0887\"],[0.1111111111111111,\"#46039f\"],[0.2222222222222222,\"#7201a8\"],[0.3333333333333333,\"#9c179e\"],[0.4444444444444444,\"#bd3786\"],[0.5555555555555556,\"#d8576b\"],[0.6666666666666666,\"#ed7953\"],[0.7777777777777778,\"#fb9f3a\"],[0.8888888888888888,\"#fdca26\"],[1.0,\"#f0f921\"]]}],\"contourcarpet\":[{\"type\":\"contourcarpet\",\"colorbar\":{\"outlinewidth\":0,\"ticks\":\"\"}}],\"contour\":[{\"type\":\"contour\",\"colorbar\":{\"outlinewidth\":0,\"ticks\":\"\"},\"colorscale\":[[0.0,\"#0d0887\"],[0.1111111111111111,\"#46039f\"],[0.2222222222222222,\"#7201a8\"],[0.3333333333333333,\"#9c179e\"],[0.4444444444444444,\"#bd3786\"],[0.5555555555555556,\"#d8576b\"],[0.6666666666666666,\"#ed7953\"],[0.7777777777777778,\"#fb9f3a\"],[0.8888888888888888,\"#fdca26\"],[1.0,\"#f0f921\"]]}],\"surface\":[{\"type\":\"surface\",\"colorbar\":{\"outlinewidth\":0,\"ticks\":\"\"},\"colorscale\":[[0.0,\"#0d0887\"],[0.1111111111111111,\"#46039f\"],[0.2222222222222222,\"#7201a8\"],[0.3333333333333333,\"#9c179e\"],[0.4444444444444444,\"#bd3786\"],[0.5555555555555556,\"#d8576b\"],[0.6666666666666666,\"#ed7953\"],[0.7777777777777778,\"#fb9f3a\"],[0.8888888888888888,\"#fdca26\"],[1.0,\"#f0f921\"]]}],\"mesh3d\":[{\"type\":\"mesh3d\",\"colorbar\":{\"outlinewidth\":0,\"ticks\":\"\"}}],\"scatter\":[{\"fillpattern\":{\"fillmode\":\"overlay\",\"size\":10,\"solidity\":0.2},\"type\":\"scatter\"}],\"parcoords\":[{\"type\":\"parcoords\",\"line\":{\"colorbar\":{\"outlinewidth\":0,\"ticks\":\"\"}}}],\"scatterpolargl\":[{\"type\":\"scatterpolargl\",\"marker\":{\"colorbar\":{\"outlinewidth\":0,\"ticks\":\"\"}}}],\"bar\":[{\"error_x\":{\"color\":\"#2a3f5f\"},\"error_y\":{\"color\":\"#2a3f5f\"},\"marker\":{\"line\":{\"color\":\"#E5ECF6\",\"width\":0.5},\"pattern\":{\"fillmode\":\"overlay\",\"size\":10,\"solidity\":0.2}},\"type\":\"bar\"}],\"scattergeo\":[{\"type\":\"scattergeo\",\"marker\":{\"colorbar\":{\"outlinewidth\":0,\"ticks\":\"\"}}}],\"scatterpolar\":[{\"type\":\"scatterpolar\",\"marker\":{\"colorbar\":{\"outlinewidth\":0,\"ticks\":\"\"}}}],\"histogram\":[{\"marker\":{\"pattern\":{\"fillmode\":\"overlay\",\"size\":10,\"solidity\":0.2}},\"type\":\"histogram\"}],\"scattergl\":[{\"type\":\"scattergl\",\"marker\":{\"colorbar\":{\"outlinewidth\":0,\"ticks\":\"\"}}}],\"scatter3d\":[{\"type\":\"scatter3d\",\"line\":{\"colorbar\":{\"outlinewidth\":0,\"ticks\":\"\"}},\"marker\":{\"colorbar\":{\"outlinewidth\":0,\"ticks\":\"\"}}}],\"scattermapbox\":[{\"type\":\"scattermapbox\",\"marker\":{\"colorbar\":{\"outlinewidth\":0,\"ticks\":\"\"}}}],\"scatterternary\":[{\"type\":\"scatterternary\",\"marker\":{\"colorbar\":{\"outlinewidth\":0,\"ticks\":\"\"}}}],\"scattercarpet\":[{\"type\":\"scattercarpet\",\"marker\":{\"colorbar\":{\"outlinewidth\":0,\"ticks\":\"\"}}}],\"carpet\":[{\"aaxis\":{\"endlinecolor\":\"#2a3f5f\",\"gridcolor\":\"white\",\"linecolor\":\"white\",\"minorgridcolor\":\"white\",\"startlinecolor\":\"#2a3f5f\"},\"baxis\":{\"endlinecolor\":\"#2a3f5f\",\"gridcolor\":\"white\",\"linecolor\":\"white\",\"minorgridcolor\":\"white\",\"startlinecolor\":\"#2a3f5f\"},\"type\":\"carpet\"}],\"table\":[{\"cells\":{\"fill\":{\"color\":\"#EBF0F8\"},\"line\":{\"color\":\"white\"}},\"header\":{\"fill\":{\"color\":\"#C8D4E3\"},\"line\":{\"color\":\"white\"}},\"type\":\"table\"}],\"barpolar\":[{\"marker\":{\"line\":{\"color\":\"#E5ECF6\",\"width\":0.5},\"pattern\":{\"fillmode\":\"overlay\",\"size\":10,\"solidity\":0.2}},\"type\":\"barpolar\"}],\"pie\":[{\"automargin\":true,\"type\":\"pie\"}]},\"layout\":{\"autotypenumbers\":\"strict\",\"colorway\":[\"#636efa\",\"#EF553B\",\"#00cc96\",\"#ab63fa\",\"#FFA15A\",\"#19d3f3\",\"#FF6692\",\"#B6E880\",\"#FF97FF\",\"#FECB52\"],\"font\":{\"color\":\"#2a3f5f\"},\"hovermode\":\"closest\",\"hoverlabel\":{\"align\":\"left\"},\"paper_bgcolor\":\"white\",\"plot_bgcolor\":\"#E5ECF6\",\"polar\":{\"bgcolor\":\"#E5ECF6\",\"angularaxis\":{\"gridcolor\":\"white\",\"linecolor\":\"white\",\"ticks\":\"\"},\"radialaxis\":{\"gridcolor\":\"white\",\"linecolor\":\"white\",\"ticks\":\"\"}},\"ternary\":{\"bgcolor\":\"#E5ECF6\",\"aaxis\":{\"gridcolor\":\"white\",\"linecolor\":\"white\",\"ticks\":\"\"},\"baxis\":{\"gridcolor\":\"white\",\"linecolor\":\"white\",\"ticks\":\"\"},\"caxis\":{\"gridcolor\":\"white\",\"linecolor\":\"white\",\"ticks\":\"\"}},\"coloraxis\":{\"colorbar\":{\"outlinewidth\":0,\"ticks\":\"\"}},\"colorscale\":{\"sequential\":[[0.0,\"#0d0887\"],[0.1111111111111111,\"#46039f\"],[0.2222222222222222,\"#7201a8\"],[0.3333333333333333,\"#9c179e\"],[0.4444444444444444,\"#bd3786\"],[0.5555555555555556,\"#d8576b\"],[0.6666666666666666,\"#ed7953\"],[0.7777777777777778,\"#fb9f3a\"],[0.8888888888888888,\"#fdca26\"],[1.0,\"#f0f921\"]],\"sequentialminus\":[[0.0,\"#0d0887\"],[0.1111111111111111,\"#46039f\"],[0.2222222222222222,\"#7201a8\"],[0.3333333333333333,\"#9c179e\"],[0.4444444444444444,\"#bd3786\"],[0.5555555555555556,\"#d8576b\"],[0.6666666666666666,\"#ed7953\"],[0.7777777777777778,\"#fb9f3a\"],[0.8888888888888888,\"#fdca26\"],[1.0,\"#f0f921\"]],\"diverging\":[[0,\"#8e0152\"],[0.1,\"#c51b7d\"],[0.2,\"#de77ae\"],[0.3,\"#f1b6da\"],[0.4,\"#fde0ef\"],[0.5,\"#f7f7f7\"],[0.6,\"#e6f5d0\"],[0.7,\"#b8e186\"],[0.8,\"#7fbc41\"],[0.9,\"#4d9221\"],[1,\"#276419\"]]},\"xaxis\":{\"gridcolor\":\"white\",\"linecolor\":\"white\",\"ticks\":\"\",\"title\":{\"standoff\":15},\"zerolinecolor\":\"white\",\"automargin\":true,\"zerolinewidth\":2},\"yaxis\":{\"gridcolor\":\"white\",\"linecolor\":\"white\",\"ticks\":\"\",\"title\":{\"standoff\":15},\"zerolinecolor\":\"white\",\"automargin\":true,\"zerolinewidth\":2},\"scene\":{\"xaxis\":{\"backgroundcolor\":\"#E5ECF6\",\"gridcolor\":\"white\",\"linecolor\":\"white\",\"showbackground\":true,\"ticks\":\"\",\"zerolinecolor\":\"white\",\"gridwidth\":2},\"yaxis\":{\"backgroundcolor\":\"#E5ECF6\",\"gridcolor\":\"white\",\"linecolor\":\"white\",\"showbackground\":true,\"ticks\":\"\",\"zerolinecolor\":\"white\",\"gridwidth\":2},\"zaxis\":{\"backgroundcolor\":\"#E5ECF6\",\"gridcolor\":\"white\",\"linecolor\":\"white\",\"showbackground\":true,\"ticks\":\"\",\"zerolinecolor\":\"white\",\"gridwidth\":2}},\"shapedefaults\":{\"line\":{\"color\":\"#2a3f5f\"}},\"annotationdefaults\":{\"arrowcolor\":\"#2a3f5f\",\"arrowhead\":0,\"arrowwidth\":1},\"geo\":{\"bgcolor\":\"white\",\"landcolor\":\"#E5ECF6\",\"subunitcolor\":\"white\",\"showland\":true,\"showlakes\":true,\"lakecolor\":\"white\"},\"title\":{\"x\":0.05},\"mapbox\":{\"style\":\"light\"}}},\"xaxis\":{\"anchor\":\"y\",\"domain\":[0.0,1.0],\"title\":{\"text\":\"Categories\"},\"categoryorder\":\"array\",\"categoryarray\":[\"Clothing & Apparel\",\"Food\",\"Electronics & Gadgets\",\"Footwear & Shoes\",\"Household items\",\"Beauty\",\"Games & Toys\",\"Sports Products\",\"Furniture\",\"Pet Care\",\"Office\",\"Stationery\",\"Books\",\"Auto\",\"Decor\",\"Veterinary\",\"Tupperware\",\"Hand & Power Tools\"],\"tickangle\":35},\"yaxis\":{\"anchor\":\"x\",\"domain\":[0.0,1.0],\"title\":{\"text\":\"Number of orders\"}},\"legend\":{\"title\":{\"text\":\"product_category\"},\"tracegroupgap\":0},\"margin\":{\"t\":60},\"barmode\":\"relative\",\"title\":{\"text\":\"Distribution of orders based on various product categories\"},\"height\":500,\"width\":800,\"showlegend\":false},                        {\"responsive\": true}                    ).then(function(){\n",
       "                            \n",
       "var gd = document.getElementById('cf556140-2150-4262-8b37-8b46287d3d6f');\n",
       "var x = new MutationObserver(function (mutations, observer) {{\n",
       "        var display = window.getComputedStyle(gd).display;\n",
       "        if (!display || display === 'none') {{\n",
       "            console.log([gd, 'removed!']);\n",
       "            Plotly.purge(gd);\n",
       "            observer.disconnect();\n",
       "        }}\n",
       "}});\n",
       "\n",
       "// Listen for the removal of the full notebook cells\n",
       "var notebookContainer = gd.closest('#notebook-container');\n",
       "if (notebookContainer) {{\n",
       "    x.observe(notebookContainer, {childList: true});\n",
       "}}\n",
       "\n",
       "// Listen for the clearing of the current output cell\n",
       "var outputEl = gd.closest('.output');\n",
       "if (outputEl) {{\n",
       "    x.observe(outputEl, {childList: true});\n",
       "}}\n",
       "\n",
       "                        })                };                });            </script>        </div>"
      ]
     },
     "metadata": {},
     "output_type": "display_data"
    }
   ],
   "source": [
    "category=df.groupby(['product_category']).size().reset_index(name='counts').sort_values('counts', ascending=False)\n",
    "\n",
    "fig=px.bar(data_frame=category, \n",
    "             x='product_category', \n",
    "             y='counts', \n",
    "             color='product_category', \n",
    "             text_auto=True)\n",
    "\n",
    "fig.update_layout(title=\"Distribution of orders based on various product categories\", \n",
    "                  height=500, \n",
    "                  width=800,  \n",
    "                  showlegend=False, \n",
    "                  yaxis_title_text='Number of orders', \n",
    "                  xaxis_title_text='Categories', \n",
    "                  xaxis_tickangle=35)\n",
    "\n",
    "fig.show()"
   ]
  },
  {
   "cell_type": "markdown",
   "id": "33fee228",
   "metadata": {
    "papermill": {
     "duration": 0.047352,
     "end_time": "2023-10-31T05:07:52.703591",
     "exception": false,
     "start_time": "2023-10-31T05:07:52.656239",
     "status": "completed"
    },
    "tags": []
   },
   "source": [
    "#### orders"
   ]
  },
  {
   "cell_type": "markdown",
   "id": "ede09201",
   "metadata": {
    "papermill": {
     "duration": 0.048363,
     "end_time": "2023-10-31T05:07:52.799952",
     "exception": false,
     "start_time": "2023-10-31T05:07:52.751589",
     "status": "completed"
    },
    "tags": []
   },
   "source": [
    "Looking at the number of orders based on number of units ordered"
   ]
  },
  {
   "cell_type": "code",
   "execution_count": 45,
   "id": "e7765f9d",
   "metadata": {
    "execution": {
     "iopub.execute_input": "2023-10-31T05:07:52.899176Z",
     "iopub.status.busy": "2023-10-31T05:07:52.898752Z",
     "iopub.status.idle": "2023-10-31T05:07:52.909809Z",
     "shell.execute_reply": "2023-10-31T05:07:52.908990Z"
    },
    "papermill": {
     "duration": 0.063568,
     "end_time": "2023-10-31T05:07:52.912015",
     "exception": false,
     "start_time": "2023-10-31T05:07:52.848447",
     "status": "completed"
    },
    "tags": []
   },
   "outputs": [
    {
     "data": {
      "text/plain": [
       "orders\n",
       "2    2893\n",
       "1    2808\n",
       "4    2773\n",
       "3    2765\n",
       "Name: count, dtype: int64"
      ]
     },
     "execution_count": 45,
     "metadata": {},
     "output_type": "execute_result"
    }
   ],
   "source": [
    "df['orders'].value_counts()"
   ]
  },
  {
   "cell_type": "markdown",
   "id": "3ad3d106",
   "metadata": {
    "papermill": {
     "duration": 0.047332,
     "end_time": "2023-10-31T05:07:53.007911",
     "exception": false,
     "start_time": "2023-10-31T05:07:52.960579",
     "status": "completed"
    },
    "tags": []
   },
   "source": [
    "Visualizing the distribution of number of units ordered"
   ]
  },
  {
   "cell_type": "code",
   "execution_count": 46,
   "id": "1d7c8bea",
   "metadata": {
    "execution": {
     "iopub.execute_input": "2023-10-31T05:07:53.106981Z",
     "iopub.status.busy": "2023-10-31T05:07:53.106578Z",
     "iopub.status.idle": "2023-10-31T05:07:53.209294Z",
     "shell.execute_reply": "2023-10-31T05:07:53.208098Z"
    },
    "papermill": {
     "duration": 0.155373,
     "end_time": "2023-10-31T05:07:53.211926",
     "exception": false,
     "start_time": "2023-10-31T05:07:53.056553",
     "status": "completed"
    },
    "tags": []
   },
   "outputs": [
    {
     "data": {
      "text/html": [
       "<div>                            <div id=\"a9cb0e94-d98b-4a94-8226-876e1ed47c9e\" class=\"plotly-graph-div\" style=\"height:500px; width:800px;\"></div>            <script type=\"text/javascript\">                require([\"plotly\"], function(Plotly) {                    window.PLOTLYENV=window.PLOTLYENV || {};                                    if (document.getElementById(\"a9cb0e94-d98b-4a94-8226-876e1ed47c9e\")) {                    Plotly.newPlot(                        \"a9cb0e94-d98b-4a94-8226-876e1ed47c9e\",                        [{\"alignmentgroup\":\"True\",\"hovertemplate\":\"orders=%{x}\\u003cbr\\u003ecounts=%{y}\\u003cextra\\u003e\\u003c\\u002fextra\\u003e\",\"legendgroup\":\"1\",\"marker\":{\"color\":\"#636efa\",\"pattern\":{\"shape\":\"\"}},\"name\":\"1\",\"offsetgroup\":\"1\",\"orientation\":\"v\",\"showlegend\":true,\"textposition\":\"auto\",\"texttemplate\":\"%{y}\",\"x\":[\"1\"],\"xaxis\":\"x\",\"y\":[2808],\"yaxis\":\"y\",\"type\":\"bar\"},{\"alignmentgroup\":\"True\",\"hovertemplate\":\"orders=%{x}\\u003cbr\\u003ecounts=%{y}\\u003cextra\\u003e\\u003c\\u002fextra\\u003e\",\"legendgroup\":\"2\",\"marker\":{\"color\":\"#EF553B\",\"pattern\":{\"shape\":\"\"}},\"name\":\"2\",\"offsetgroup\":\"2\",\"orientation\":\"v\",\"showlegend\":true,\"textposition\":\"auto\",\"texttemplate\":\"%{y}\",\"x\":[\"2\"],\"xaxis\":\"x\",\"y\":[2893],\"yaxis\":\"y\",\"type\":\"bar\"},{\"alignmentgroup\":\"True\",\"hovertemplate\":\"orders=%{x}\\u003cbr\\u003ecounts=%{y}\\u003cextra\\u003e\\u003c\\u002fextra\\u003e\",\"legendgroup\":\"3\",\"marker\":{\"color\":\"#00cc96\",\"pattern\":{\"shape\":\"\"}},\"name\":\"3\",\"offsetgroup\":\"3\",\"orientation\":\"v\",\"showlegend\":true,\"textposition\":\"auto\",\"texttemplate\":\"%{y}\",\"x\":[\"3\"],\"xaxis\":\"x\",\"y\":[2765],\"yaxis\":\"y\",\"type\":\"bar\"},{\"alignmentgroup\":\"True\",\"hovertemplate\":\"orders=%{x}\\u003cbr\\u003ecounts=%{y}\\u003cextra\\u003e\\u003c\\u002fextra\\u003e\",\"legendgroup\":\"4\",\"marker\":{\"color\":\"#ab63fa\",\"pattern\":{\"shape\":\"\"}},\"name\":\"4\",\"offsetgroup\":\"4\",\"orientation\":\"v\",\"showlegend\":true,\"textposition\":\"auto\",\"texttemplate\":\"%{y}\",\"x\":[\"4\"],\"xaxis\":\"x\",\"y\":[2773],\"yaxis\":\"y\",\"type\":\"bar\"}],                        {\"template\":{\"data\":{\"histogram2dcontour\":[{\"type\":\"histogram2dcontour\",\"colorbar\":{\"outlinewidth\":0,\"ticks\":\"\"},\"colorscale\":[[0.0,\"#0d0887\"],[0.1111111111111111,\"#46039f\"],[0.2222222222222222,\"#7201a8\"],[0.3333333333333333,\"#9c179e\"],[0.4444444444444444,\"#bd3786\"],[0.5555555555555556,\"#d8576b\"],[0.6666666666666666,\"#ed7953\"],[0.7777777777777778,\"#fb9f3a\"],[0.8888888888888888,\"#fdca26\"],[1.0,\"#f0f921\"]]}],\"choropleth\":[{\"type\":\"choropleth\",\"colorbar\":{\"outlinewidth\":0,\"ticks\":\"\"}}],\"histogram2d\":[{\"type\":\"histogram2d\",\"colorbar\":{\"outlinewidth\":0,\"ticks\":\"\"},\"colorscale\":[[0.0,\"#0d0887\"],[0.1111111111111111,\"#46039f\"],[0.2222222222222222,\"#7201a8\"],[0.3333333333333333,\"#9c179e\"],[0.4444444444444444,\"#bd3786\"],[0.5555555555555556,\"#d8576b\"],[0.6666666666666666,\"#ed7953\"],[0.7777777777777778,\"#fb9f3a\"],[0.8888888888888888,\"#fdca26\"],[1.0,\"#f0f921\"]]}],\"heatmap\":[{\"type\":\"heatmap\",\"colorbar\":{\"outlinewidth\":0,\"ticks\":\"\"},\"colorscale\":[[0.0,\"#0d0887\"],[0.1111111111111111,\"#46039f\"],[0.2222222222222222,\"#7201a8\"],[0.3333333333333333,\"#9c179e\"],[0.4444444444444444,\"#bd3786\"],[0.5555555555555556,\"#d8576b\"],[0.6666666666666666,\"#ed7953\"],[0.7777777777777778,\"#fb9f3a\"],[0.8888888888888888,\"#fdca26\"],[1.0,\"#f0f921\"]]}],\"heatmapgl\":[{\"type\":\"heatmapgl\",\"colorbar\":{\"outlinewidth\":0,\"ticks\":\"\"},\"colorscale\":[[0.0,\"#0d0887\"],[0.1111111111111111,\"#46039f\"],[0.2222222222222222,\"#7201a8\"],[0.3333333333333333,\"#9c179e\"],[0.4444444444444444,\"#bd3786\"],[0.5555555555555556,\"#d8576b\"],[0.6666666666666666,\"#ed7953\"],[0.7777777777777778,\"#fb9f3a\"],[0.8888888888888888,\"#fdca26\"],[1.0,\"#f0f921\"]]}],\"contourcarpet\":[{\"type\":\"contourcarpet\",\"colorbar\":{\"outlinewidth\":0,\"ticks\":\"\"}}],\"contour\":[{\"type\":\"contour\",\"colorbar\":{\"outlinewidth\":0,\"ticks\":\"\"},\"colorscale\":[[0.0,\"#0d0887\"],[0.1111111111111111,\"#46039f\"],[0.2222222222222222,\"#7201a8\"],[0.3333333333333333,\"#9c179e\"],[0.4444444444444444,\"#bd3786\"],[0.5555555555555556,\"#d8576b\"],[0.6666666666666666,\"#ed7953\"],[0.7777777777777778,\"#fb9f3a\"],[0.8888888888888888,\"#fdca26\"],[1.0,\"#f0f921\"]]}],\"surface\":[{\"type\":\"surface\",\"colorbar\":{\"outlinewidth\":0,\"ticks\":\"\"},\"colorscale\":[[0.0,\"#0d0887\"],[0.1111111111111111,\"#46039f\"],[0.2222222222222222,\"#7201a8\"],[0.3333333333333333,\"#9c179e\"],[0.4444444444444444,\"#bd3786\"],[0.5555555555555556,\"#d8576b\"],[0.6666666666666666,\"#ed7953\"],[0.7777777777777778,\"#fb9f3a\"],[0.8888888888888888,\"#fdca26\"],[1.0,\"#f0f921\"]]}],\"mesh3d\":[{\"type\":\"mesh3d\",\"colorbar\":{\"outlinewidth\":0,\"ticks\":\"\"}}],\"scatter\":[{\"fillpattern\":{\"fillmode\":\"overlay\",\"size\":10,\"solidity\":0.2},\"type\":\"scatter\"}],\"parcoords\":[{\"type\":\"parcoords\",\"line\":{\"colorbar\":{\"outlinewidth\":0,\"ticks\":\"\"}}}],\"scatterpolargl\":[{\"type\":\"scatterpolargl\",\"marker\":{\"colorbar\":{\"outlinewidth\":0,\"ticks\":\"\"}}}],\"bar\":[{\"error_x\":{\"color\":\"#2a3f5f\"},\"error_y\":{\"color\":\"#2a3f5f\"},\"marker\":{\"line\":{\"color\":\"#E5ECF6\",\"width\":0.5},\"pattern\":{\"fillmode\":\"overlay\",\"size\":10,\"solidity\":0.2}},\"type\":\"bar\"}],\"scattergeo\":[{\"type\":\"scattergeo\",\"marker\":{\"colorbar\":{\"outlinewidth\":0,\"ticks\":\"\"}}}],\"scatterpolar\":[{\"type\":\"scatterpolar\",\"marker\":{\"colorbar\":{\"outlinewidth\":0,\"ticks\":\"\"}}}],\"histogram\":[{\"marker\":{\"pattern\":{\"fillmode\":\"overlay\",\"size\":10,\"solidity\":0.2}},\"type\":\"histogram\"}],\"scattergl\":[{\"type\":\"scattergl\",\"marker\":{\"colorbar\":{\"outlinewidth\":0,\"ticks\":\"\"}}}],\"scatter3d\":[{\"type\":\"scatter3d\",\"line\":{\"colorbar\":{\"outlinewidth\":0,\"ticks\":\"\"}},\"marker\":{\"colorbar\":{\"outlinewidth\":0,\"ticks\":\"\"}}}],\"scattermapbox\":[{\"type\":\"scattermapbox\",\"marker\":{\"colorbar\":{\"outlinewidth\":0,\"ticks\":\"\"}}}],\"scatterternary\":[{\"type\":\"scatterternary\",\"marker\":{\"colorbar\":{\"outlinewidth\":0,\"ticks\":\"\"}}}],\"scattercarpet\":[{\"type\":\"scattercarpet\",\"marker\":{\"colorbar\":{\"outlinewidth\":0,\"ticks\":\"\"}}}],\"carpet\":[{\"aaxis\":{\"endlinecolor\":\"#2a3f5f\",\"gridcolor\":\"white\",\"linecolor\":\"white\",\"minorgridcolor\":\"white\",\"startlinecolor\":\"#2a3f5f\"},\"baxis\":{\"endlinecolor\":\"#2a3f5f\",\"gridcolor\":\"white\",\"linecolor\":\"white\",\"minorgridcolor\":\"white\",\"startlinecolor\":\"#2a3f5f\"},\"type\":\"carpet\"}],\"table\":[{\"cells\":{\"fill\":{\"color\":\"#EBF0F8\"},\"line\":{\"color\":\"white\"}},\"header\":{\"fill\":{\"color\":\"#C8D4E3\"},\"line\":{\"color\":\"white\"}},\"type\":\"table\"}],\"barpolar\":[{\"marker\":{\"line\":{\"color\":\"#E5ECF6\",\"width\":0.5},\"pattern\":{\"fillmode\":\"overlay\",\"size\":10,\"solidity\":0.2}},\"type\":\"barpolar\"}],\"pie\":[{\"automargin\":true,\"type\":\"pie\"}]},\"layout\":{\"autotypenumbers\":\"strict\",\"colorway\":[\"#636efa\",\"#EF553B\",\"#00cc96\",\"#ab63fa\",\"#FFA15A\",\"#19d3f3\",\"#FF6692\",\"#B6E880\",\"#FF97FF\",\"#FECB52\"],\"font\":{\"color\":\"#2a3f5f\"},\"hovermode\":\"closest\",\"hoverlabel\":{\"align\":\"left\"},\"paper_bgcolor\":\"white\",\"plot_bgcolor\":\"#E5ECF6\",\"polar\":{\"bgcolor\":\"#E5ECF6\",\"angularaxis\":{\"gridcolor\":\"white\",\"linecolor\":\"white\",\"ticks\":\"\"},\"radialaxis\":{\"gridcolor\":\"white\",\"linecolor\":\"white\",\"ticks\":\"\"}},\"ternary\":{\"bgcolor\":\"#E5ECF6\",\"aaxis\":{\"gridcolor\":\"white\",\"linecolor\":\"white\",\"ticks\":\"\"},\"baxis\":{\"gridcolor\":\"white\",\"linecolor\":\"white\",\"ticks\":\"\"},\"caxis\":{\"gridcolor\":\"white\",\"linecolor\":\"white\",\"ticks\":\"\"}},\"coloraxis\":{\"colorbar\":{\"outlinewidth\":0,\"ticks\":\"\"}},\"colorscale\":{\"sequential\":[[0.0,\"#0d0887\"],[0.1111111111111111,\"#46039f\"],[0.2222222222222222,\"#7201a8\"],[0.3333333333333333,\"#9c179e\"],[0.4444444444444444,\"#bd3786\"],[0.5555555555555556,\"#d8576b\"],[0.6666666666666666,\"#ed7953\"],[0.7777777777777778,\"#fb9f3a\"],[0.8888888888888888,\"#fdca26\"],[1.0,\"#f0f921\"]],\"sequentialminus\":[[0.0,\"#0d0887\"],[0.1111111111111111,\"#46039f\"],[0.2222222222222222,\"#7201a8\"],[0.3333333333333333,\"#9c179e\"],[0.4444444444444444,\"#bd3786\"],[0.5555555555555556,\"#d8576b\"],[0.6666666666666666,\"#ed7953\"],[0.7777777777777778,\"#fb9f3a\"],[0.8888888888888888,\"#fdca26\"],[1.0,\"#f0f921\"]],\"diverging\":[[0,\"#8e0152\"],[0.1,\"#c51b7d\"],[0.2,\"#de77ae\"],[0.3,\"#f1b6da\"],[0.4,\"#fde0ef\"],[0.5,\"#f7f7f7\"],[0.6,\"#e6f5d0\"],[0.7,\"#b8e186\"],[0.8,\"#7fbc41\"],[0.9,\"#4d9221\"],[1,\"#276419\"]]},\"xaxis\":{\"gridcolor\":\"white\",\"linecolor\":\"white\",\"ticks\":\"\",\"title\":{\"standoff\":15},\"zerolinecolor\":\"white\",\"automargin\":true,\"zerolinewidth\":2},\"yaxis\":{\"gridcolor\":\"white\",\"linecolor\":\"white\",\"ticks\":\"\",\"title\":{\"standoff\":15},\"zerolinecolor\":\"white\",\"automargin\":true,\"zerolinewidth\":2},\"scene\":{\"xaxis\":{\"backgroundcolor\":\"#E5ECF6\",\"gridcolor\":\"white\",\"linecolor\":\"white\",\"showbackground\":true,\"ticks\":\"\",\"zerolinecolor\":\"white\",\"gridwidth\":2},\"yaxis\":{\"backgroundcolor\":\"#E5ECF6\",\"gridcolor\":\"white\",\"linecolor\":\"white\",\"showbackground\":true,\"ticks\":\"\",\"zerolinecolor\":\"white\",\"gridwidth\":2},\"zaxis\":{\"backgroundcolor\":\"#E5ECF6\",\"gridcolor\":\"white\",\"linecolor\":\"white\",\"showbackground\":true,\"ticks\":\"\",\"zerolinecolor\":\"white\",\"gridwidth\":2}},\"shapedefaults\":{\"line\":{\"color\":\"#2a3f5f\"}},\"annotationdefaults\":{\"arrowcolor\":\"#2a3f5f\",\"arrowhead\":0,\"arrowwidth\":1},\"geo\":{\"bgcolor\":\"white\",\"landcolor\":\"#E5ECF6\",\"subunitcolor\":\"white\",\"showland\":true,\"showlakes\":true,\"lakecolor\":\"white\"},\"title\":{\"x\":0.05},\"mapbox\":{\"style\":\"light\"}}},\"xaxis\":{\"anchor\":\"y\",\"domain\":[0.0,1.0],\"title\":{\"text\":\"Number of units ordered\"},\"categoryorder\":\"array\",\"categoryarray\":[\"1\",\"2\",\"3\",\"4\"]},\"yaxis\":{\"anchor\":\"x\",\"domain\":[0.0,1.0],\"title\":{\"text\":\"Number of orders\"}},\"legend\":{\"title\":{\"text\":\"orders\"},\"tracegroupgap\":0},\"margin\":{\"t\":60},\"barmode\":\"relative\",\"title\":{\"text\":\"Distribution of number of units orders\"},\"height\":500,\"width\":800,\"showlegend\":false},                        {\"responsive\": true}                    ).then(function(){\n",
       "                            \n",
       "var gd = document.getElementById('a9cb0e94-d98b-4a94-8226-876e1ed47c9e');\n",
       "var x = new MutationObserver(function (mutations, observer) {{\n",
       "        var display = window.getComputedStyle(gd).display;\n",
       "        if (!display || display === 'none') {{\n",
       "            console.log([gd, 'removed!']);\n",
       "            Plotly.purge(gd);\n",
       "            observer.disconnect();\n",
       "        }}\n",
       "}});\n",
       "\n",
       "// Listen for the removal of the full notebook cells\n",
       "var notebookContainer = gd.closest('#notebook-container');\n",
       "if (notebookContainer) {{\n",
       "    x.observe(notebookContainer, {childList: true});\n",
       "}}\n",
       "\n",
       "// Listen for the clearing of the current output cell\n",
       "var outputEl = gd.closest('.output');\n",
       "if (outputEl) {{\n",
       "    x.observe(outputEl, {childList: true});\n",
       "}}\n",
       "\n",
       "                        })                };                });            </script>        </div>"
      ]
     },
     "metadata": {},
     "output_type": "display_data"
    }
   ],
   "source": [
    "orders=df.groupby(['orders']).size().reset_index(name='counts')\n",
    "\n",
    "fig=px.bar(data_frame=orders, \n",
    "             x='orders', \n",
    "             y='counts', \n",
    "             color='orders', \n",
    "             text_auto=True)\n",
    "\n",
    "fig.update_layout(title=\"Distribution of number of units orders\", \n",
    "                  height=500, \n",
    "                  width=800,  \n",
    "                  showlegend=False, \n",
    "                  yaxis_title_text='Number of orders', \n",
    "                  xaxis_title_text='Number of units ordered')\n",
    "\n",
    "fig.update_xaxes(categoryorder='array', categoryarray= ['1', '2', '3', '4'])\n",
    "\n",
    "fig.show()"
   ]
  },
  {
   "cell_type": "markdown",
   "id": "7d7ea14c",
   "metadata": {
    "papermill": {
     "duration": 0.047992,
     "end_time": "2023-10-31T05:07:53.308109",
     "exception": false,
     "start_time": "2023-10-31T05:07:53.260117",
     "status": "completed"
    },
    "tags": []
   },
   "source": [
    "#### amount"
   ]
  },
  {
   "cell_type": "markdown",
   "id": "69a3370e",
   "metadata": {
    "papermill": {
     "duration": 0.04922,
     "end_time": "2023-10-31T05:07:53.407743",
     "exception": false,
     "start_time": "2023-10-31T05:07:53.358523",
     "status": "completed"
    },
    "tags": []
   },
   "source": [
    "Looking at the statistical description of 'amount'"
   ]
  },
  {
   "cell_type": "code",
   "execution_count": 47,
   "id": "696b260c",
   "metadata": {
    "execution": {
     "iopub.execute_input": "2023-10-31T05:07:53.505728Z",
     "iopub.status.busy": "2023-10-31T05:07:53.505325Z",
     "iopub.status.idle": "2023-10-31T05:07:53.517774Z",
     "shell.execute_reply": "2023-10-31T05:07:53.516679Z"
    },
    "papermill": {
     "duration": 0.064486,
     "end_time": "2023-10-31T05:07:53.520064",
     "exception": false,
     "start_time": "2023-10-31T05:07:53.455578",
     "status": "completed"
    },
    "tags": []
   },
   "outputs": [
    {
     "data": {
      "text/plain": [
       "count    11239.000000\n",
       "mean      9453.610858\n",
       "std       5222.355869\n",
       "min        188.000000\n",
       "25%       5443.000000\n",
       "50%       8109.000000\n",
       "75%      12675.000000\n",
       "max      23952.000000\n",
       "Name: amount, dtype: float64"
      ]
     },
     "execution_count": 47,
     "metadata": {},
     "output_type": "execute_result"
    }
   ],
   "source": [
    "df['amount'].describe()"
   ]
  },
  {
   "cell_type": "markdown",
   "id": "231f663a",
   "metadata": {
    "papermill": {
     "duration": 0.048865,
     "end_time": "2023-10-31T05:07:53.617569",
     "exception": false,
     "start_time": "2023-10-31T05:07:53.568704",
     "status": "completed"
    },
    "tags": []
   },
   "source": [
    "Visualizing the distribution of amounts"
   ]
  },
  {
   "cell_type": "code",
   "execution_count": 48,
   "id": "e2ec89a5",
   "metadata": {
    "execution": {
     "iopub.execute_input": "2023-10-31T05:07:53.717499Z",
     "iopub.status.busy": "2023-10-31T05:07:53.717075Z",
     "iopub.status.idle": "2023-10-31T05:07:53.791420Z",
     "shell.execute_reply": "2023-10-31T05:07:53.790278Z"
    },
    "papermill": {
     "duration": 0.127941,
     "end_time": "2023-10-31T05:07:53.794791",
     "exception": false,
     "start_time": "2023-10-31T05:07:53.666850",
     "status": "completed"
    },
    "tags": []
   },
   "outputs": [
    {
     "data": {
      "text/html": [
       "<div>                            <div id=\"26e10803-abd7-4b01-8262-59856a9e685f\" class=\"plotly-graph-div\" style=\"height:400px; width:800px;\"></div>            <script type=\"text/javascript\">                require([\"plotly\"], function(Plotly) {                    window.PLOTLYENV=window.PLOTLYENV || {};                                    if (document.getElementById(\"26e10803-abd7-4b01-8262-59856a9e685f\")) {                    Plotly.newPlot(                        \"26e10803-abd7-4b01-8262-59856a9e685f\",                        [{\"alignmentgroup\":\"True\",\"boxpoints\":\"all\",\"hovertemplate\":\"amount=%{x}\\u003cextra\\u003e\\u003c\\u002fextra\\u003e\",\"legendgroup\":\"\",\"marker\":{\"color\":\"#636efa\"},\"name\":\"\",\"notched\":false,\"offsetgroup\":\"\",\"orientation\":\"h\",\"showlegend\":false,\"x\":[23952.0,23934.0,23924.0,23912.0,23877.0,23877.0,23841.0,23809.0,23799.99,23770.0,23752.0,23730.0,23718.0,23664.0,23619.0,23568.0,23568.0,23546.0,23525.0,23518.0,23515.0,23513.0,23462.0,23456.0,23451.0,23434.0,23389.0,23365.0,23326.0,23314.0,23306.0,23302.0,23285.0,23281.0,23270.0,23267.0,23252.0,23247.0,23246.0,23239.0,23201.0,23185.0,23160.0,23154.0,23103.0,23066.0,23053.0,23047.0,21563.0,21547.0,21533.0,21503.0,21495.0,21463.0,21427.0,21423.0,21401.0,21397.0,21388.0,21325.0,21320.0,21317.0,21293.0,21266.0,21259.0,21246.0,21218.0,21178.0,21178.0,21152.0,21079.0,21058.0,21039.0,21013.0,21009.0,20981.0,20967.0,20965.0,20965.0,20963.0,20960.0,20960.0,20959.0,20955.0,20951.5,20950.0,20949.0,20948.0,20945.0,20944.0,20943.0,20938.0,20933.0,20932.0,20930.0,20929.0,20928.0,20925.0,20920.0,20914.0,20914.0,20912.0,20912.0,20908.0,20908.0,20906.0,20900.0,20896.0,20883.0,20875.0,20874.0,20874.0,20873.0,20870.0,20867.0,20865.0,20863.0,20860.0,20855.0,20853.0,20852.0,20850.0,20847.0,20840.0,20837.0,20833.0,20819.0,20816.0,20815.0,20815.0,20812.0,20807.0,20805.45,20796.0,20796.0,20788.0,20783.0,20770.0,20767.0,20767.0,20757.0,20752.0,20752.0,20751.0,20751.0,20745.0,20745.0,20744.0,20739.0,20739.0,20729.0,20714.0,20712.0,20707.0,20705.0,20691.0,20689.0,20688.0,20678.0,20677.0,20677.0,20676.0,20673.0,20669.0,20668.0,20668.0,20666.0,20665.0,20664.0,20661.0,20660.0,20659.0,20659.0,20659.0,20657.0,20654.0,20644.0,20642.0,20641.0,20628.0,20627.0,20623.0,20622.0,20620.0,20619.0,20615.0,20608.0,20608.0,20607.0,20607.0,20606.0,20603.0,20602.0,20600.0,20600.0,20598.0,20598.0,20598.0,20595.99,20594.0,20589.0,20588.0,20588.0,20586.0,20586.0,20581.0,20579.0,20573.0,20572.0,20570.0,20570.0,20569.0,20566.0,20559.0,20558.0,20553.0,20550.0,20549.0,20548.0,20547.0,20546.0,20544.0,20543.0,20540.0,20537.0,20536.0,20536.0,20536.0,20533.0,20529.0,20525.0,20516.0,20515.0,20512.0,20511.0,20509.0,20508.0,20508.0,20508.0,20505.0,20503.0,20502.0,20502.0,20501.0,20500.0,20495.0,20494.0,20493.0,20492.0,20488.0,20486.0,20486.0,20484.0,20483.0,20477.0,20477.0,20476.0,20471.0,20469.0,20468.0,20464.0,20463.0,20457.0,20457.0,20454.0,20450.0,20448.0,20445.0,20442.0,20440.0,20438.0,20433.0,20432.0,20432.0,20429.0,20427.0,20424.0,20423.0,20420.0,20413.0,20410.0,20405.0,20405.0,20403.0,20394.0,20392.0,20387.0,20380.0,20379.0,20375.0,20373.0,20373.0,20364.0,20363.0,20362.0,20361.0,20359.0,20359.0,20358.0,20357.0,20357.0,20348.0,20344.0,20342.0,20338.0,20328.0,20323.0,20322.0,20317.0,20315.0,20315.0,20313.0,20312.0,20312.0,20312.0,20310.0,20309.0,20309.0,20308.0,20304.0,20303.0,20302.0,20301.0,20295.0,20290.0,20288.0,20286.0,20285.0,20285.0,20283.0,20281.0,20280.0,20279.0,20278.0,20278.0,20276.0,20275.0,20269.0,20269.0,20262.0,20260.0,20260.0,20258.0,20258.0,20257.0,20253.0,20252.0,20251.0,20250.0,20246.0,20239.0,20237.0,20236.0,20233.0,20232.0,20230.0,20230.0,20229.0,20227.0,20224.0,20216.0,20212.0,20211.0,20211.0,20210.0,20209.0,20208.0,20207.0,20206.0,20205.0,20204.0,20203.0,20201.0,20201.0,20200.0,20196.0,20194.0,20192.0,20191.0,20191.0,20189.0,20188.0,20187.0,20173.0,20173.0,20169.0,20166.0,20165.0,20162.0,20149.0,20149.0,20141.0,20139.0,20138.0,20131.0,20131.0,20120.0,20111.0,20098.0,20089.0,20079.0,20077.0,20066.0,20064.0,20058.0,20058.0,20056.0,20027.0,20022.0,20014.0,20007.0,19991.0,19990.0,19975.0,19967.0,19952.0,19930.0,19927.0,19927.0,19920.0,19919.0,19911.0,19909.0,19907.0,19904.0,19903.0,19901.0,19895.0,19708.0,19705.0,19704.0,19702.0,19699.0,19696.0,19695.0,19695.0,19690.0,19690.0,19687.0,19686.0,19686.0,19684.0,19684.0,19683.0,19681.0,19681.0,19681.0,19678.0,19677.0,19676.0,19676.0,19674.0,19674.0,19672.0,19671.0,19670.0,19670.0,19669.0,19667.0,19660.0,19659.0,19658.0,19654.0,19652.0,19650.0,19646.0,19644.0,19643.0,19642.0,19641.0,19639.0,19638.0,19637.0,19637.0,19634.0,19630.0,19629.0,19628.0,19628.0,19625.0,19623.0,19620.0,19619.0,19617.0,19617.0,19615.0,19614.0,19613.0,19609.0,19608.0,19604.0,19603.0,19603.0,19602.0,19600.0,19599.0,19596.0,19595.0,19591.0,19589.0,19587.0,19586.0,19586.0,19586.0,19585.0,19583.0,19583.0,19582.0,19580.0,19580.0,19578.0,19577.0,19577.0,19575.0,19575.0,19575.0,19574.0,19574.0,19573.0,19573.0,19572.0,19571.0,19568.0,19568.0,19567.0,19567.0,19566.5,19566.0,19565.0,19564.0,19561.0,19560.0,19557.0,19557.0,19556.0,19555.0,19555.0,19554.0,19554.0,19552.0,19551.0,19548.0,19547.0,19545.0,19536.0,19533.0,19532.0,19531.0,19531.0,19527.0,19524.0,19522.0,19522.0,19520.0,19520.0,19518.0,19516.0,19516.0,19516.0,19515.0,19515.0,19513.0,19512.0,19510.0,19508.0,19507.0,19507.0,19506.0,19505.0,19499.0,19499.0,19497.0,19495.0,19493.0,19490.0,19490.0,19490.0,19489.0,19488.0,19487.0,19486.0,19484.0,19484.0,19483.0,19477.0,19477.0,19477.0,19474.0,19474.0,19472.0,19472.0,19469.0,19467.0,19466.0,19466.0,19465.0,19465.0,19462.0,19459.0,19457.0,19457.0,19456.0,19455.0,19454.0,19454.0,19451.0,19450.0,19449.0,19448.0,19446.0,19445.0,19445.0,19444.0,19443.0,19441.0,19438.0,19437.0,19437.0,19436.0,19434.0,19434.0,19433.0,19432.0,19431.0,19431.0,19426.0,19425.0,19424.0,19423.0,19419.0,19416.0,19415.0,19414.0,19413.0,19412.0,19410.0,19408.0,19406.0,19404.0,19402.0,19401.0,19401.0,19400.0,19399.0,19399.0,19395.0,19395.0,19394.0,19392.0,19391.0,19386.0,19385.0,19383.0,19381.0,19380.0,19380.0,19380.0,19379.0,19378.0,19376.0,19375.0,19369.0,19368.0,19368.0,19367.0,19367.0,19363.0,19363.0,19361.0,19356.0,19356.0,19355.0,19353.0,19351.0,19350.0,19349.0,19346.0,19346.0,19345.0,19344.0,19342.0,19342.0,19339.0,19337.0,19336.0,19334.0,19334.0,19333.0,19328.0,19328.0,19327.0,19326.0,19326.0,19326.0,19325.0,19325.0,19325.0,19323.0,19320.0,19320.0,19320.0,19319.0,19319.0,19318.0,19316.0,19316.0,19314.0,19312.0,19311.0,19311.0,19310.0,19310.0,19308.0,19307.0,19306.0,19303.0,19301.0,19301.0,19300.0,19300.0,19300.0,19297.0,19295.0,19295.0,19293.0,19293.0,19293.0,19292.0,19292.0,19291.0,19289.0,19285.0,19284.0,19284.0,19283.0,19282.0,19282.0,19280.0,19280.0,19280.0,19278.0,19273.0,19268.0,19268.0,19267.0,19263.0,19261.0,19259.0,19259.0,19258.0,19255.0,19255.0,19254.0,19253.0,19252.0,19251.0,19251.0,19251.0,19250.0,19249.0,19247.0,19245.0,19243.0,19241.0,19241.0,19238.0,19237.0,19235.0,19235.0,19232.0,19230.0,19229.0,19229.0,19228.0,19221.0,19221.0,19220.0,19216.0,19216.0,19215.0,19214.0,19214.0,19213.0,19211.0,19211.0,19210.0,19209.0,19208.0,19204.0,19204.0,19203.0,19202.0,19198.0,19195.0,19193.0,19187.0,19186.0,19183.0,19182.0,19179.0,19175.0,19175.0,19171.0,19169.0,19166.0,19164.0,19163.0,19160.0,19159.0,19155.0,19155.0,19147.0,19145.0,19143.0,19141.0,19141.0,19139.0,19138.0,19137.0,19136.0,19135.0,19133.0,19131.0,19130.0,19129.0,19126.0,19126.0,19125.0,19122.0,19122.0,19119.0,19119.0,19119.0,19116.0,19116.0,19115.0,19115.0,19114.0,19113.0,19112.0,19111.0,19110.0,19110.0,19109.0,19108.0,19106.0,19105.0,19101.0,19099.0,19096.0,19096.0,19095.0,19093.0,19092.0,19092.0,19090.0,19089.0,19088.0,19085.0,19084.0,19081.0,19081.0,19076.0,19073.0,19073.0,19072.0,19072.0,19070.0,19069.0,19069.0,19067.0,19067.0,19067.0,19067.0,19065.0,19064.0,19059.0,19059.0,19056.0,19054.0,19054.0,19054.0,19053.0,19052.0,19051.0,19050.0,19049.0,19048.0,19048.0,19048.0,19046.0,19045.0,19045.0,19045.0,19045.0,19044.0,19041.0,19039.0,19038.0,19037.0,19036.0,19034.0,19034.0,19034.0,19033.0,19032.0,19031.0,19030.0,19029.0,19027.0,19024.0,19024.0,19023.0,19022.0,19021.0,19020.0,19019.0,19015.0,19014.0,19014.0,19014.0,19014.0,19011.0,19010.0,19007.0,19007.0,19004.0,19002.0,19002.0,19000.0,18997.0,18996.0,18996.0,18995.0,18992.0,18989.0,18987.0,18985.0,18984.0,18983.0,18980.0,18975.0,18974.0,18971.0,18970.0,18968.0,18964.0,18964.0,18963.0,18961.0,18960.0,18959.0,18959.0,18959.0,18957.0,18956.0,18953.0,18953.0,18952.0,18952.0,18891.0,18858.0,18856.0,18851.0,18832.0,18828.0,18801.0,18798.0,18789.0,18782.0,18780.0,18770.0,18688.0,18685.0,18679.0,18665.0,18614.0,18612.0,18609.0,18608.0,18592.0,18583.0,18580.0,18573.0,18568.0,18559.0,18536.0,18516.0,18465.0,18413.0,18311.0,18269.0,17415.0,17333.0,17321.0,17300.0,17262.0,17204.0,17175.0,17175.0,17175.0,17143.0,17130.0,17107.0,17097.0,17093.0,17058.0,17052.0,17036.0,17002.0,16995.0,16980.0,16954.0,16947.0,16938.0,16937.0,16937.0,16935.0,16933.0,16933.0,16928.0,16927.0,16927.0,16922.0,16921.0,16920.0,16920.0,16920.0,16919.0,16918.0,16917.0,16915.0,16911.0,16907.0,16906.0,16904.0,16903.0,16902.0,16902.0,16901.0,16900.0,16897.0,16896.0,16896.0,16895.0,16894.0,16892.0,16891.0,16891.0,16887.0,16887.0,16887.0,16883.0,16878.0,16870.0,16867.0,16865.0,16865.0,16863.0,16862.0,16862.0,16861.0,16861.0,16860.0,16859.0,16856.0,16855.0,16854.0,16854.0,16851.0,16843.0,16842.0,16842.0,16842.0,16837.0,16837.0,16836.0,16835.0,16835.0,16834.0,16832.0,16832.0,16829.0,16828.0,16827.0,16822.0,16818.0,16818.0,16818.0,16817.0,16813.0,16812.0,16811.0,16807.0,16805.0,16804.0,16799.0,16799.0,16797.0,16795.0,16794.0,16794.0,16792.0,16792.0,16790.0,16789.0,16788.0,16787.0,16787.0,16785.0,16785.0,16784.0,16783.0,16781.0,16778.0,16776.0,16776.0,16776.0,16775.0,16774.0,16773.0,16772.0,16767.0,16766.0,16766.0,16766.0,16765.0,16761.0,16760.0,16760.0,16758.0,16753.0,16751.0,16749.0,16747.0,16745.0,16732.0,16732.0,16732.0,16727.0,16726.0,16724.0,16724.0,16721.0,16720.0,16719.0,16717.0,16716.0,16716.0,16716.0,16715.0,16715.0,16713.0,16711.0,16710.0,16709.0,16707.0,16706.0,16706.0,16705.0,16704.0,16701.0,16701.0,16698.0,16693.0,16692.0,16692.0,16691.0,16687.0,16685.0,16685.0,16685.0,16684.0,16681.0,16681.0,16681.0,16674.0,16673.0,16672.0,16671.0,16671.0,16669.0,16669.0,16665.0,16664.0,16664.0,16664.0,16663.0,16662.0,16658.0,16655.0,16655.0,16654.0,16651.0,16649.0,16649.0,16649.0,16643.0,16643.0,16643.0,16637.0,16636.0,16636.0,16634.0,16633.0,16631.0,16630.0,16627.0,16626.0,16624.0,16623.0,16622.0,16620.0,16620.0,16618.0,16616.0,16614.0,16614.0,16614.0,16613.0,16613.0,16612.0,16610.0,16610.0,16608.0,16606.0,16604.0,16599.0,16599.0,16598.0,16597.0,16596.0,16595.0,16595.0,16593.0,16592.0,16588.0,16588.0,16587.0,16585.0,16581.0,16581.0,16579.0,16578.0,16578.0,16577.0,16576.0,16574.0,16573.0,16569.0,16568.0,16568.0,16567.0,16566.0,16565.0,16564.0,16563.0,16562.0,16561.0,16560.0,16560.0,16553.0,16552.0,16552.0,16551.0,16550.0,16550.0,16549.0,16548.0,16548.0,16548.0,16544.0,16540.0,16539.0,16537.0,16534.0,16533.0,16532.0,16530.0,16527.0,16527.0,16525.0,16524.0,16522.0,16520.0,16518.0,16518.0,16518.0,16517.0,16516.0,16512.0,16512.0,16511.0,16510.0,16510.0,16509.0,16509.0,16506.0,16501.0,16499.0,16496.0,16494.0,16491.0,16490.0,16490.0,16489.0,16488.0,16486.0,16484.0,16484.0,16484.0,16480.0,16479.0,16478.0,16475.0,16475.0,16475.0,16475.0,16475.0,16472.0,16472.0,16471.0,16471.0,16469.0,16466.0,16461.0,16461.0,16460.0,16460.0,16458.0,16456.0,16456.0,16453.0,16452.0,16451.0,16451.0,16450.0,16449.0,16447.0,16444.0,16444.0,16444.0,16443.0,16443.0,16441.0,16438.0,16435.0,16435.0,16427.0,16426.0,16425.0,16423.0,16422.0,16419.0,16418.0,16418.0,16416.0,16416.0,16415.0,16413.0,16412.0,16409.0,16409.0,16408.0,16407.0,16407.0,16405.0,16404.0,16403.0,16401.0,16398.0,16397.0,16396.0,16396.0,16395.0,16393.0,16392.0,16391.0,16390.0,16390.0,16390.0,16386.0,16386.0,16385.0,16385.0,16384.0,16382.0,16382.0,16380.0,16380.0,16379.0,16378.0,16377.0,16377.0,16376.0,16376.0,16375.0,16375.0,16375.0,16372.0,16369.0,16367.0,16366.0,16365.0,16364.0,16363.0,16362.0,16360.0,16359.0,16357.0,16357.0,16355.0,16354.0,16354.0,16354.0,16353.0,16353.0,16351.0,16349.0,16349.0,16348.0,16348.0,16346.0,16345.0,16344.0,16343.0,16343.0,16340.0,16337.0,16331.0,16329.0,16325.0,16324.0,16324.0,16321.0,16319.0,16318.0,16317.0,16316.0,16314.0,16311.0,16311.0,16304.0,16303.0,16302.0,16300.0,16298.0,16297.0,16294.0,16292.0,16292.0,16290.0,16289.0,16288.0,16288.0,16287.0,16287.0,16284.0,16283.0,16282.0,16279.0,16278.0,16277.0,16277.0,16276.0,16274.0,16271.0,16271.0,16270.0,16268.0,16268.0,16267.0,16266.0,16264.0,16257.0,16257.0,16255.0,16251.0,16245.0,16245.0,16244.0,16244.0,16242.0,16241.0,16240.0,16239.0,16236.0,16236.0,16230.0,16227.0,16225.0,16224.0,16224.0,16222.0,16221.0,16220.0,16219.0,16219.0,16217.0,16216.0,16216.0,16215.0,16214.0,16213.0,16213.0,16211.0,16209.0,16209.0,16209.0,16208.0,16204.0,16201.0,16200.0,16199.0,16197.0,16195.0,16194.0,16194.0,16190.0,16189.0,16187.0,16185.0,16185.0,16181.0,16181.0,16179.0,16179.0,16178.0,16178.0,16178.0,16176.0,16176.0,16176.0,16175.0,16175.0,16174.0,16170.0,16170.0,16165.0,16165.0,16165.0,16165.0,16163.0,16162.0,16162.0,16159.0,16157.0,16156.0,16156.0,16149.0,16148.0,16148.0,16143.0,16143.0,16143.0,16143.0,16142.0,16142.0,16140.0,16139.0,16138.0,16134.0,16133.0,16133.0,16132.0,16131.0,16125.0,16124.0,16116.0,16107.0,16105.0,16103.0,16103.0,16102.0,16101.0,16096.0,16092.0,16092.0,16081.0,16081.0,16080.0,16078.0,16078.0,16076.0,16061.0,16054.0,16051.0,16042.0,16034.0,16033.0,16032.0,16029.0,16026.0,16010.0,16002.0,15996.0,15996.0,15994.0,15993.0,15992.0,15992.0,15980.0,15966.0,15952.0,15952.0,15951.0,15949.0,15949.0,15945.0,15944.0,15936.0,15934.0,15930.0,15925.0,15924.0,15918.0,15918.0,15918.0,15917.0,15916.0,15916.0,15916.0,15916.0,15915.0,15914.0,15914.0,15914.0,15912.0,15912.0,15911.0,15909.0,15909.0,15907.0,15906.0,15906.0,15905.0,15905.0,15904.0,15903.0,15903.0,15903.0,15902.0,15902.0,15899.0,15898.0,15896.0,15896.0,15894.0,15893.0,15892.0,15892.0,15892.0,15889.0,15889.0,15888.0,15887.0,15886.0,15884.0,15883.0,15883.0,15883.0,15882.0,15882.0,15880.0,15880.0,15877.0,15877.0,15876.0,15876.0,15876.0,15874.0,15874.0,15873.0,15872.0,15871.0,15870.0,15869.0,15868.0,15868.0,15867.0,15866.0,15865.0,15864.0,15863.0,15860.0,15860.0,15859.0,15858.0,15856.0,15853.0,15851.0,15851.0,15850.0,15849.0,15849.0,15848.0,15848.0,15846.0,15845.0,15844.0,15844.0,15843.0,15840.0,15838.0,15836.0,15833.0,15833.0,15833.0,15831.0,15831.0,15830.0,15830.0,15829.0,15829.0,15826.0,15826.0,15826.0,15825.0,15825.0,15824.0,15823.0,15822.0,15820.0,15818.0,15815.0,15812.0,15812.0,15812.0,15810.0,15808.0,15807.0,15806.0,15806.0,15806.0,15803.0,15803.0,15802.0,15801.0,15800.0,15800.0,15799.0,15798.0,15796.0,15796.0,15795.0,15795.0,15795.0,15792.0,15792.0,15792.0,15791.0,15791.0,15790.0,15790.0,15786.0,15784.0,15781.0,15781.0,15780.0,15779.0,15779.0,15778.0,15778.0,15777.0,15776.0,15776.0,15772.0,15771.0,15771.0,15771.0,15770.0,15769.0,15769.0,15768.0,15768.0,15765.0,15765.0,15765.0,15764.0,15764.0,15763.0,15762.0,15759.0,15757.0,15756.0,15756.0,15755.0,15754.0,15754.0,15752.0,15752.0,15750.0,15750.0,15749.0,15749.0,15748.0,15747.0,15745.0,15744.0,15742.0,15742.0,15741.0,15741.0,15739.0,15739.0,15738.0,15737.0,15737.0,15736.0,15734.0,15734.0,15732.0,15732.0,15731.0,15730.0,15729.0,15729.0,15728.0,15728.0,15723.0,15722.0,15721.0,15718.0,15718.0,15717.0,15715.0,15715.0,15714.0,15711.0,15710.0,15708.0,15707.0,15703.0,15703.0,15702.0,15701.0,15699.0,15699.0,15697.0,15697.0,15696.0,15695.0,15694.0,15694.0,15693.0,15691.0,15691.0,15690.0,15690.0,15689.0,15689.0,15689.0,15689.0,15688.0,15682.0,15678.0,15677.0,15676.0,15676.0,15675.0,15675.0,15675.0,15674.0,15672.0,15671.0,15670.0,15669.0,15669.0,15668.0,15668.0,15666.0,15665.0,15665.0,15665.0,15664.0,15662.0,15661.0,15659.0,15659.0,15659.0,15658.0,15657.0,15655.0,15654.0,15654.0,15653.0,15653.0,15653.0,15651.0,15650.0,15650.0,15650.0,15648.0,15647.0,15647.0,15646.0,15645.0,15645.0,15644.0,15644.0,15641.0,15639.0,15639.0,15637.0,15633.0,15633.0,15633.0,15633.0,15632.0,15631.0,15631.0,15630.0,15627.0,15626.0,15626.0,15625.0,15624.0,15623.0,15622.0,15622.0,15617.0,15617.0,15617.0,15617.0,15615.0,15615.0,15614.0,15613.0,15613.0,15613.0,15611.0,15610.0,15609.0,15609.0,15607.0,15607.0,15606.0,15605.0,15603.0,15601.0,15600.0,15599.0,15599.0,15598.0,15597.0,15596.0,15596.0,15596.0,15595.0,15595.0,15593.0,15593.0,15592.0,15592.0,15591.0,15590.0,15588.0,15586.0,15585.0,15583.0,15582.0,15582.0,15581.0,15574.0,15573.0,15573.0,15573.0,15572.0,15572.0,15571.0,15570.0,15569.0,15567.0,15567.0,15567.0,15566.0,15564.0,15564.0,15564.0,15562.0,15562.0,15561.0,15561.0,15561.0,15559.0,15559.0,15558.0,15557.0,15557.0,15556.0,15556.0,15556.0,15555.0,15554.0,15551.0,15549.0,15549.0,15545.0,15545.0,15544.0,15543.0,15542.0,15542.0,15541.0,15541.0,15540.0,15540.0,15539.0,15539.0,15537.0,15536.0,15536.0,15536.0,15536.0,15535.0,15534.0,15534.0,15534.0,15533.0,15533.0,15531.0,15531.0,15531.0,15529.0,15529.0,15528.0,15528.0,15527.0,15524.0,15523.0,15522.0,15519.0,15519.0,15519.0,15519.0,15517.0,15516.0,15516.0,15516.0,15516.0,15515.0,15513.0,15513.0,15511.0,15509.0,15508.0,15508.0,15507.0,15507.0,15506.0,15506.0,15505.0,15504.0,15504.0,15503.0,15502.0,15500.0,15499.0,15498.0,15496.0,15492.0,15492.0,15492.0,15492.0,15491.0,15490.0,15488.0,15488.0,15486.0,15486.0,15485.0,15485.0,15482.0,15481.0,15480.0,15480.0,15477.0,15477.0,15477.0,15477.0,15476.0,15474.0,15474.0,15474.0,15473.0,15473.0,15473.0,15473.0,15472.0,15472.0,15472.0,15472.0,15472.0,15470.0,15470.0,15470.0,15470.0,15470.0,15468.0,15468.0,15467.0,15466.0,15465.0,15465.0,15465.0,15465.0,15463.0,15463.0,15462.0,15462.0,15461.0,15461.0,15460.0,15459.0,15458.0,15458.0,15457.0,15456.0,15456.0,15455.0,15454.0,15453.0,15453.0,15451.0,15451.0,15450.0,15450.0,15450.0,15449.0,15448.0,15448.0,15448.0,15446.0,15446.0,15446.0,15443.0,15441.0,15438.0,15434.0,15433.0,15427.0,15426.0,15425.0,15425.0,15423.0,15423.0,15422.0,15419.0,15418.0,15417.0,15415.0,15415.0,15414.0,15412.0,15411.0,15410.0,15409.0,15408.0,15408.0,15407.0,15405.0,15404.0,15404.0,15403.0,15402.0,15401.0,15401.0,15401.0,15399.0,15399.0,15399.0,15397.0,15397.0,15396.0,15396.0,15394.0,15393.0,15392.0,15391.0,15389.0,15388.0,15388.0,15386.0,15385.0,15384.0,15383.0,15382.0,15382.0,15380.0,15380.0,15378.0,15378.0,15377.0,15375.0,15374.0,15371.0,15371.0,15369.0,15369.0,15369.0,15367.0,15364.0,15363.0,15362.0,15362.0,15362.0,15361.0,15359.0,15359.0,15358.0,15358.0,15357.0,15357.0,15356.0,15356.0,15356.0,15355.0,15354.0,15353.0,15353.0,15352.0,15351.0,15350.0,15348.0,15348.0,15348.0,15347.0,15347.0,15346.0,15346.0,15346.0,15345.0,15344.0,15342.0,15341.0,15341.0,15340.0,15340.0,15336.0,15335.0,15333.0,15333.0,15333.0,15332.0,15332.0,15332.0,15332.0,15331.0,15330.0,15329.0,15326.0,15325.0,15325.0,15325.0,15324.0,15323.0,15321.0,15318.0,15315.0,15314.0,15311.0,15310.0,15309.0,15309.0,15306.0,15304.0,15302.0,15300.0,15299.0,15298.0,15298.0,15297.0,15296.0,15295.0,15295.0,15294.0,15289.0,15287.0,15286.0,15286.0,15285.0,15285.0,15284.0,15283.0,15283.0,15283.0,15282.0,15280.0,15279.0,15278.0,15274.0,15273.0,15273.0,15273.0,15272.0,15270.0,15269.0,15268.0,15267.0,15267.0,15266.0,15265.0,15264.0,15263.0,15262.0,15262.0,15262.0,15261.0,15260.0,15260.0,15256.0,15256.0,15254.0,15254.0,15254.0,15254.0,15254.0,15251.0,15250.0,15249.0,15248.0,15247.0,15247.0,15247.0,15246.0,15246.0,15244.0,15244.0,15242.0,15242.0,15241.0,15240.0,15240.0,15240.0,15239.0,15238.0,15237.0,15236.0,15236.0,15236.0,15235.0,15234.0,15234.0,15234.0,15233.0,15232.0,15232.0,15231.0,15230.0,15228.0,15227.0,15227.0,15227.0,15226.0,15226.0,15225.0,15223.0,15223.0,15222.0,15221.0,15219.0,15218.0,15218.0,15218.0,15217.0,15216.0,15213.0,15212.0,15212.0,15209.0,15208.0,15208.0,15208.0,15204.0,15204.0,15204.0,15204.0,15201.0,15201.0,15201.0,15201.0,15199.0,15199.0,15198.0,15198.0,15197.0,15197.0,15197.0,15197.0,15195.0,15195.0,15192.0,15191.0,15191.0,15191.0,15190.0,15190.0,15189.0,15189.0,15188.0,15188.0,15187.0,15187.0,15187.0,15185.0,15185.0,15183.0,15182.0,15182.0,15181.0,15181.0,15181.0,15179.0,15179.0,15178.0,15176.0,15174.0,15173.0,15171.0,15169.0,15168.0,15166.0,15165.0,15165.0,15164.0,15163.0,15163.0,15162.0,15161.0,15160.0,15151.0,15102.0,14928.0,14893.0,14759.0,14663.0,14641.0,14640.0,14627.0,14564.0,14325.0,14323.0,14255.0,14187.0,14160.0,14063.0,13977.0,13963.0,13867.0,13832.0,13702.0,13699.0,13675.0,13667.0,13662.0,13662.0,13658.0,13655.0,13653.0,13650.0,13647.0,13624.0,13618.0,13613.0,13610.0,13610.0,13609.0,13608.0,13607.0,13598.0,13583.0,13578.0,13576.0,13575.0,13560.0,13557.0,13556.0,13547.0,13546.0,13545.0,13545.0,13536.0,13533.0,13528.0,13527.0,13522.0,13520.0,13515.0,13501.0,13498.0,13495.0,13493.0,13488.0,13481.0,13480.0,13467.0,13466.0,13465.0,13458.0,13455.0,13455.0,13453.0,13430.0,13429.0,13429.0,13424.0,13423.0,13403.0,13403.0,13403.0,13400.0,13397.0,13396.0,13393.0,13391.0,13387.0,13383.0,13381.0,13376.0,13371.0,13371.0,13367.0,13354.0,13351.0,13348.0,13345.0,13338.0,13337.0,13334.0,13329.0,13327.0,13326.0,13325.0,13322.0,13308.0,13304.0,13297.0,13292.0,13291.0,13289.0,13289.0,13286.0,13284.0,13282.0,13277.0,13277.0,13276.0,13272.0,13264.0,13263.0,13263.0,13260.0,13260.0,13259.0,13251.0,13250.0,13249.0,13248.0,13245.0,13239.0,13235.0,13231.0,13228.0,13220.0,13218.0,13215.0,13213.0,13212.0,13210.0,13206.0,13205.0,13202.0,13201.0,13201.0,13201.0,13199.0,13195.0,13195.0,13194.0,13186.0,13184.0,13183.0,13176.0,13168.0,13162.0,13158.0,13158.0,13156.0,13151.0,13151.0,13148.0,13148.0,13146.0,13144.0,13143.0,13140.0,13140.0,13139.0,13139.0,13134.0,13133.0,13127.0,13120.0,13119.0,13114.0,13111.0,13109.0,13104.0,13100.0,13100.0,13098.0,13087.0,13083.0,13083.0,13078.0,13077.0,13067.0,13058.0,13056.0,13055.0,13055.0,13053.0,13052.0,13051.0,13042.0,13041.0,13036.0,13016.0,13012.0,12997.0,12994.0,12989.0,12987.0,12984.0,12981.0,12981.0,12975.0,12973.0,12971.0,12970.0,12964.0,12962.0,12960.0,12959.0,12957.0,12953.0,12949.0,12947.0,12944.0,12943.0,12930.0,12930.0,12914.0,12912.0,12909.0,12904.0,12904.0,12903.0,12901.0,12901.0,12899.0,12899.0,12895.0,12895.0,12893.0,12892.0,12891.0,12887.0,12887.0,12886.0,12882.0,12878.0,12878.0,12878.0,12878.0,12876.0,12876.0,12873.0,12871.0,12870.0,12870.0,12869.0,12869.0,12866.0,12865.0,12865.0,12865.0,12864.0,12862.0,12861.0,12858.0,12857.0,12857.0,12856.0,12854.0,12851.0,12849.0,12847.0,12846.0,12845.0,12844.0,12844.0,12844.0,12837.0,12835.0,12835.0,12834.0,12833.0,12831.0,12828.0,12826.0,12823.0,12823.0,12820.0,12818.0,12817.0,12816.0,12815.0,12815.0,12811.0,12809.0,12806.0,12802.0,12799.0,12799.0,12797.0,12796.0,12796.0,12792.0,12791.0,12790.0,12788.0,12788.0,12786.0,12784.0,12783.0,12780.0,12778.0,12778.0,12776.0,12774.0,12772.0,12771.0,12768.0,12766.0,12765.0,12765.0,12764.0,12763.0,12763.0,12761.0,12759.0,12759.0,12758.0,12757.0,12754.0,12753.0,12752.0,12751.0,12746.0,12746.0,12746.0,12733.0,12731.0,12728.0,12725.0,12723.0,12722.0,12722.0,12721.0,12721.0,12720.0,12720.0,12718.0,12717.0,12716.0,12716.0,12714.0,12713.0,12712.0,12712.0,12711.0,12711.0,12710.0,12709.0,12705.0,12704.0,12703.0,12703.0,12702.0,12701.0,12699.0,12699.0,12699.0,12698.0,12698.0,12697.0,12697.0,12696.0,12695.0,12692.0,12691.0,12691.0,12691.0,12689.0,12683.0,12682.0,12680.0,12678.0,12677.0,12673.0,12673.0,12671.0,12671.0,12671.0,12670.0,12670.0,12668.0,12666.0,12661.0,12658.0,12658.0,12654.0,12653.0,12648.0,12646.0,12641.0,12638.0,12627.0,12626.0,12626.0,12623.0,12622.0,12621.0,12620.0,12616.0,12612.0,12611.0,12609.0,12609.0,12608.0,12607.0,12606.0,12604.0,12602.0,12601.0,12600.0,12595.0,12591.0,12587.0,12583.0,12582.0,12578.0,12577.0,12576.0,12575.0,12575.0,12574.0,12573.0,12572.0,12571.0,12566.0,12566.0,12566.0,12564.0,12559.0,12559.0,12558.0,12558.0,12555.0,12551.0,12541.0,12540.0,12538.0,12536.0,12529.0,12528.0,12527.0,12527.0,12524.0,12523.0,12520.0,12512.0,12508.0,12505.0,12505.0,12504.0,12504.0,12502.0,12499.0,12496.0,12489.0,12479.0,12478.0,12478.0,12474.0,12474.0,12472.0,12469.0,12467.0,12465.0,12459.0,12455.0,12451.0,12451.0,12449.0,12446.0,12444.0,12444.0,12444.0,12443.0,12443.0,12440.0,12435.0,12434.0,12433.0,12429.0,12427.0,12427.0,12421.0,12420.0,12420.0,12419.0,12413.0,12405.0,12403.0,12401.0,12401.0,12400.0,12399.0,12398.0,12397.0,12396.0,12395.0,12390.0,12389.0,12388.0,12387.0,12386.0,12383.0,12381.0,12381.0,12380.0,12379.0,12375.0,12367.0,12363.0,12363.0,12361.0,12361.0,12357.0,12356.0,12354.0,12352.0,12350.0,12350.0,12345.0,12344.0,12340.0,12338.0,12337.0,12333.0,12333.0,12331.0,12328.0,12328.0,12327.0,12327.0,12324.0,12321.0,12320.0,12315.0,12310.0,12308.0,12307.0,12301.0,12300.0,12296.0,12296.0,12292.0,12290.0,12289.0,12285.0,12285.0,12283.0,12282.0,12280.0,12278.0,12275.0,12274.0,12268.0,12268.0,12267.0,12267.0,12262.0,12261.0,12258.0,12258.0,12256.0,12252.0,12248.0,12248.0,12247.0,12244.0,12242.0,12242.0,12241.0,12240.0,12239.0,12238.0,12237.0,12237.0,12235.0,12233.0,12232.0,12230.0,12229.0,12228.0,12228.0,12222.0,12220.0,12218.0,12216.0,12214.0,12214.0,12211.0,12208.0,12208.0,12207.0,12205.0,12199.0,12198.0,12198.0,12196.0,12192.0,12190.0,12190.0,12189.0,12183.0,12180.0,12180.0,12175.0,12175.0,12174.0,12173.0,12172.0,12171.0,12170.0,12163.0,12162.0,12162.0,12161.0,12160.0,12159.0,12157.0,12157.0,12155.0,12154.0,12153.0,12147.0,12144.0,12144.0,12132.0,12127.0,12126.0,12126.0,12125.0,12125.0,12124.0,12124.0,12123.0,12120.0,12119.0,12119.0,12118.0,12118.0,12114.0,12112.0,12112.0,12112.0,12110.0,12110.0,12109.0,12108.0,12107.0,12106.0,12106.0,12106.0,12105.0,12104.0,12102.0,12102.0,12101.0,12100.0,12099.0,12099.0,12099.0,12099.0,12099.0,12097.0,12097.0,12097.0,12096.0,12095.0,12093.0,12093.0,12091.0,12090.0,12090.0,12089.0,12089.0,12089.0,12088.0,12087.0,12087.0,12085.0,12084.0,12084.0,12083.0,12082.0,12081.0,12081.0,12079.0,12078.0,12076.0,12076.0,12074.0,12072.0,12071.0,12071.0,12069.0,12067.0,12067.0,12067.0,12066.0,12065.0,12065.0,12063.0,12063.0,12061.0,12061.0,12060.0,12060.0,12056.0,12055.0,12054.0,12054.0,12050.0,12049.0,12048.0,12047.0,12047.0,12046.0,12044.0,12044.0,12043.0,12043.0,12042.0,12042.0,12040.0,12040.0,12039.0,12038.0,12036.0,12035.0,12035.0,12034.0,12032.0,12032.0,12031.0,12030.0,12028.0,12027.0,12025.0,12024.0,12021.0,12021.0,12019.0,12017.0,12017.0,12017.0,12016.0,12014.0,12014.0,12013.0,12013.0,12012.0,12012.0,12011.0,12011.0,12010.0,12010.0,12009.0,12009.0,12008.0,12007.0,12006.0,12006.0,12005.0,12001.0,12001.0,11999.0,11998.0,11996.0,11996.0,11992.0,11992.0,11992.0,11992.0,11991.0,11990.0,11989.0,11989.0,11989.0,11989.0,11988.0,11988.0,11987.0,11986.0,11985.0,11984.0,11983.0,11979.0,11975.0,11974.0,11973.0,11973.0,11973.0,11972.0,11972.0,11971.0,11971.0,11971.0,11970.0,11969.0,11969.0,11968.0,11967.0,11966.0,11965.0,11963.0,11963.0,11962.0,11962.0,11962.0,11960.0,11960.0,11959.0,11958.0,11957.0,11956.0,11954.0,11954.0,11953.0,11951.0,11951.0,11951.0,11950.0,11949.0,11947.0,11947.0,11946.0,11944.0,11944.0,11943.0,11941.0,11940.0,11940.0,11939.0,11939.0,11938.0,11936.0,11936.0,11935.0,11935.0,11935.0,11934.0,11933.0,11933.0,11933.0,11933.0,11931.0,11930.0,11925.0,11924.0,11923.0,11922.0,11921.0,11921.0,11919.0,11919.0,11915.0,11915.0,11912.0,11911.0,11911.0,11909.0,11908.0,11907.0,11904.0,11904.0,11903.0,11903.0,11903.0,11902.0,11896.0,11895.0,11894.0,11894.0,11889.0,11888.0,11887.0,11885.0,11885.0,11884.0,11883.0,11883.0,11882.0,11882.0,11881.0,11881.0,11880.0,11878.0,11878.0,11877.0,11874.0,11873.0,11873.0,11870.0,11869.0,11868.0,11868.0,11867.0,11865.0,11863.0,11863.0,11863.0,11862.0,11861.0,11859.0,11858.0,11856.0,11855.0,11852.0,11851.0,11849.0,11849.0,11847.0,11846.0,11845.0,11845.0,11844.0,11843.0,11843.0,11842.0,11842.0,11842.0,11839.0,11838.0,11837.0,11836.0,11836.0,11836.0,11835.0,11835.0,11833.0,11832.0,11832.0,11832.0,11831.0,11828.0,11827.0,11827.0,11827.0,11825.0,11825.0,11824.0,11822.0,11821.0,11820.0,11820.0,11819.0,11818.0,11818.0,11814.0,11813.0,11813.0,11812.0,11812.0,11811.0,11810.0,11810.0,11810.0,11809.0,11806.0,11806.0,11805.0,11804.0,11803.0,11801.0,11801.0,11801.0,11800.0,11798.0,11797.0,11797.0,11797.0,11797.0,11793.0,11792.0,11791.0,11789.0,11789.0,11788.0,11788.0,11788.0,11787.0,11787.0,11787.0,11781.0,11781.0,11780.0,11779.0,11778.0,11777.0,11775.0,11774.0,11773.0,11772.0,11772.0,11771.0,11770.0,11769.0,11769.0,11767.0,11765.0,11764.0,11764.0,11763.0,11760.0,11759.0,11758.0,11756.0,11756.0,11756.0,11756.0,11756.0,11755.0,11755.0,11754.0,11754.0,11753.0,11753.0,11748.0,11748.0,11747.0,11743.0,11742.0,11739.0,11737.0,11736.0,11734.0,11734.0,11734.0,11734.0,11732.0,11731.0,11731.0,11731.0,11730.0,11729.0,11729.0,11729.0,11728.0,11727.0,11727.0,11724.0,11723.0,11722.0,11722.0,11722.0,11721.0,11721.0,11717.0,11716.0,11714.0,11714.0,11714.0,11713.0,11713.0,11713.0,11712.0,11711.0,11710.0,11708.0,11708.0,11706.0,11704.0,11704.0,11703.0,11702.0,11697.0,11696.0,11695.0,11693.0,11693.0,11691.0,11689.0,11688.0,11688.0,11687.0,11687.0,11687.0,11684.0,11681.0,11681.0,11680.0,11679.0,11679.0,11679.0,11678.0,11677.0,11676.0,11676.0,11674.0,11674.0,11673.0,11673.0,11672.0,11672.0,11671.0,11669.0,11668.0,11668.0,11668.0,11667.0,11667.0,11667.0,11667.0,11667.0,11656.0,11656.0,11655.0,11655.0,11646.0,11646.0,11642.0,11641.0,11640.0,11640.0,11639.0,11638.0,11638.0,11636.0,11636.0,11635.0,11634.0,11633.0,11633.0,11632.0,11629.0,11629.0,11624.0,11618.0,11617.0,11616.0,11614.0,11613.0,11611.0,11610.0,11609.0,11609.0,11608.0,11607.0,11606.0,11606.0,11606.0,11606.0,11606.0,11605.0,11605.0,11604.0,11604.0,11604.0,11603.0,11603.0,11602.0,11602.0,11601.0,11601.0,11601.0,11601.0,11598.0,11598.0,11595.0,11593.0,11591.0,11590.0,11588.0,11588.0,11585.0,11585.0,11585.0,11584.0,11583.0,11581.0,11580.0,11578.0,11578.0,11578.0,11576.0,11576.0,11576.0,11573.0,11571.0,11571.0,11569.0,11567.0,11566.0,11565.0,11564.0,11563.0,11560.0,11557.0,11557.0,11556.0,11555.0,11555.0,11552.0,11551.0,11550.0,11550.0,11550.0,11548.0,11548.0,11547.0,11546.0,11544.0,11544.0,11543.0,11543.0,11543.0,11542.0,11541.0,11541.0,11540.0,11540.0,11537.0,11535.0,11533.0,11532.0,11532.0,11532.0,11531.0,11530.0,11528.0,11526.0,11526.0,11525.0,11521.0,11520.0,11519.0,11516.0,11515.0,11514.0,11514.0,11513.0,11512.0,11511.0,11511.0,11510.0,11510.0,11509.0,11508.0,11507.0,11507.0,11507.0,11506.0,11506.0,11506.0,11504.0,11501.0,11501.0,11500.0,11497.0,11496.0,11495.0,11495.0,11494.0,11492.0,11492.0,11491.0,11490.0,11490.0,11486.0,11486.0,11481.0,11480.0,11480.0,11479.0,11479.0,11479.0,11479.0,11479.0,11478.0,11476.0,11474.0,11473.0,11471.0,11471.0,11471.0,11471.0,11470.0,11470.0,11469.0,11468.0,11468.0,11465.0,11465.0,11465.0,11464.0,11462.0,11460.0,11459.0,11459.0,11458.0,11458.0,11458.0,11458.0,11457.0,11454.0,11454.0,11450.0,11450.0,11447.0,11447.0,11446.0,11446.0,11441.0,11441.0,11441.0,11439.0,11439.0,11439.0,11437.0,11437.0,11437.0,11437.0,11435.0,11432.0,11432.0,11431.0,11430.0,11430.0,11430.0,11429.0,11429.0,11426.0,11425.0,11425.0,11424.0,11422.0,11422.0,11420.0,11419.0,11419.0,11417.0,11417.0,11414.0,11414.0,11413.0,11413.0,11413.0,11411.0,11410.0,11410.0,11410.0,11409.0,11406.0,11405.0,11405.0,11403.0,11401.0,11400.0,11399.0,11397.0,11396.0,11396.0,11393.0,11393.0,11392.0,11392.0,11390.0,11390.0,11388.0,11385.0,11385.0,11384.0,11384.0,11384.0,11383.0,11383.0,11382.0,11382.0,11380.0,11380.0,11379.0,11378.0,11378.0,11377.0,11376.0,11376.0,11374.0,11374.0,11372.0,11371.0,11239.0,11151.0,11079.0,11078.0,11075.0,11064.0,11056.0,11055.0,11054.0,11054.0,11048.0,11048.0,11040.0,11035.0,11032.0,11027.0,11027.0,11027.0,11016.0,11014.0,11014.0,11011.0,11008.0,10996.0,10995.0,10991.0,10991.0,10985.0,10984.0,10981.0,10958.0,10957.0,10956.0,10944.0,10933.0,10924.0,10918.0,10917.0,10917.0,10915.0,10909.0,10905.0,10898.0,10894.0,10890.0,10882.0,10875.0,10875.0,10872.0,10868.0,10866.0,10865.0,10861.0,10859.0,10857.0,10857.0,10843.0,10841.0,10840.0,10836.0,10827.0,10819.0,10803.0,10801.0,10801.0,10799.0,10793.0,10792.0,10791.0,10788.0,10787.0,10787.0,10786.0,10785.0,10785.0,10784.0,10779.0,10773.0,10772.0,10771.0,10768.0,10765.0,10764.0,10764.0,10749.0,10746.0,10744.0,10740.0,10736.0,10729.0,10716.0,10715.0,10709.0,10708.0,10706.0,10706.0,10693.0,10692.0,10691.0,10690.0,10688.0,10685.0,10682.0,10680.0,10677.0,10674.0,10672.0,10670.0,10670.0,10669.0,10666.0,10663.0,10661.0,10657.0,10655.0,10655.0,10652.0,10650.0,10646.0,10645.0,10644.0,10644.0,10641.0,10641.0,10639.0,10631.0,10630.0,10623.0,10609.0,10606.0,10606.0,10606.0,10599.0,10598.0,10596.0,10593.0,10589.0,10588.0,10579.0,10577.0,10576.0,10575.0,10570.0,10565.0,10565.0,10554.0,10554.0,10554.0,10553.0,10546.0,10545.0,10542.0,10535.0,10521.0,10485.0,10478.0,10466.0,10401.0,10392.0,10392.0,10386.0,10386.0,10364.0,10362.0,10358.0,10332.0,10330.0,10329.0,10309.0,10305.0,10283.0,10270.0,10270.0,10262.0,10262.0,10249.0,10249.0,10245.0,10240.0,10232.0,10225.0,10208.0,10147.0,10144.0,10141.0,10140.0,10133.0,10131.0,10130.0,10114.0,10114.0,10109.0,10108.0,10108.0,10102.0,10102.0,10097.0,10093.0,10088.0,10088.0,10088.0,10082.0,10082.0,10082.0,10081.0,10081.0,10081.0,10080.0,10080.0,10080.0,10077.0,10076.0,10076.0,10076.0,10074.0,10074.0,10074.0,10074.0,10072.0,10072.0,10072.0,10070.0,10069.0,10069.0,10068.0,10068.0,10068.0,10065.0,10064.0,10063.0,10062.0,10058.0,10058.0,10058.0,10057.0,10057.0,10057.0,10056.0,10056.0,10056.0,10056.0,10054.0,10054.0,10054.0,10053.0,10053.0,10052.0,10051.0,10051.0,10051.0,10051.0,10050.0,10049.0,10049.0,10048.0,10047.0,10046.0,10046.0,10046.0,10046.0,10045.0,10045.0,10045.0,10045.0,10043.0,10042.0,10042.0,10041.0,10041.0,10041.0,10041.0,10040.0,10040.0,10040.0,10040.0,10040.0,10039.0,10038.0,10037.0,10037.0,10037.0,10037.0,10036.0,10035.0,10034.0,10034.0,10032.0,10032.0,10032.0,10031.0,10030.0,10030.0,10030.0,10029.0,10028.0,10028.0,10028.0,10027.0,10026.0,10026.0,10026.0,10025.0,10024.0,10024.0,10024.0,10022.0,10022.0,10022.0,10021.0,10021.0,10020.0,10016.0,10016.0,10015.0,10015.0,10014.0,10013.0,10013.0,10013.0,10012.0,10012.0,10012.0,10010.0,10010.0,10009.0,10009.0,10008.0,10008.0,10008.0,10007.0,10007.0,10006.0,10006.0,10006.0,10004.0,10003.0,10002.0,10001.0,10000.0,10000.0,10000.0,10000.0,10000.0,9999.0,9998.0,9998.0,9998.0,9997.0,9997.0,9996.0,9996.0,9995.0,9993.0,9993.0,9992.0,9992.0,9992.0,9992.0,9992.0,9992.0,9991.0,9990.0,9989.0,9989.0,9988.0,9988.0,9988.0,9987.0,9986.0,9986.0,9984.0,9984.0,9984.0,9983.0,9983.0,9983.0,9982.0,9981.0,9981.0,9980.0,9980.0,9980.0,9979.0,9979.0,9977.0,9976.0,9976.0,9975.0,9975.0,9975.0,9973.0,9972.0,9972.0,9971.0,9971.0,9970.0,9970.0,9969.0,9969.0,9969.0,9968.0,9968.0,9968.0,9967.0,9966.0,9965.0,9965.0,9965.0,9963.0,9963.0,9963.0,9963.0,9963.0,9962.0,9961.0,9960.0,9959.0,9958.0,9958.0,9958.0,9958.0,9957.0,9957.0,9957.0,9956.0,9955.0,9954.0,9954.0,9950.0,9949.0,9948.0,9947.0,9947.0,9946.0,9946.0,9946.0,9946.0,9945.0,9945.0,9944.0,9942.0,9941.0,9941.0,9941.0,9941.0,9941.0,9941.0,9940.0,9940.0,9939.0,9938.0,9938.0,9937.0,9937.0,9936.0,9936.0,9936.0,9936.0,9932.0,9931.0,9930.0,9930.0,9930.0,9930.0,9928.0,9927.0,9927.0,9926.0,9925.0,9924.0,9923.0,9921.0,9920.0,9920.0,9920.0,9919.0,9919.0,9919.0,9919.0,9919.0,9919.0,9919.0,9918.0,9918.0,9917.0,9917.0,9917.0,9916.0,9915.0,9915.0,9915.0,9914.0,9913.0,9913.0,9913.0,9912.0,9912.0,9911.0,9911.0,9910.0,9909.0,9909.0,9909.0,9908.0,9908.0,9907.0,9907.0,9906.0,9905.0,9904.0,9903.0,9902.0,9901.0,9901.0,9900.0,9900.0,9900.0,9900.0,9900.0,9899.0,9898.0,9897.0,9897.0,9895.0,9894.0,9894.0,9894.0,9893.0,9892.0,9892.0,9892.0,9891.0,9891.0,9890.0,9889.0,9888.0,9887.0,9886.0,9886.0,9886.0,9886.0,9886.0,9885.0,9885.0,9885.0,9885.0,9884.0,9883.0,9882.0,9880.0,9880.0,9879.0,9879.0,9879.0,9878.0,9875.0,9875.0,9873.0,9872.0,9871.0,9869.0,9869.0,9868.0,9867.0,9867.0,9866.0,9865.0,9863.0,9862.0,9862.0,9862.0,9861.0,9861.0,9861.0,9859.0,9859.0,9859.0,9858.0,9858.0,9857.0,9857.0,9855.0,9854.0,9853.0,9852.0,9852.0,9852.0,9850.0,9849.0,9849.0,9849.0,9846.0,9846.0,9846.0,9845.0,9844.0,9842.0,9842.0,9841.0,9841.0,9841.0,9841.0,9840.0,9840.0,9838.0,9838.0,9838.0,9837.0,9837.0,9835.0,9835.0,9834.0,9832.0,9832.0,9832.0,9831.0,9829.0,9829.0,9829.0,9828.0,9828.0,9827.0,9826.0,9826.0,9825.0,9824.0,9823.0,9822.0,9822.0,9820.0,9819.0,9818.0,9818.0,9817.0,9817.0,9816.0,9816.0,9816.0,9815.0,9814.0,9814.0,9813.0,9813.0,9812.0,9811.0,9811.0,9811.0,9811.0,9809.0,9809.0,9808.0,9807.0,9807.0,9805.0,9805.0,9805.0,9805.0,9804.0,9804.0,9804.0,9804.0,9803.0,9803.0,9802.0,9801.0,9801.0,9799.0,9799.0,9795.0,9792.0,9791.0,9791.0,9790.0,9790.0,9789.0,9789.0,9789.0,9789.0,9789.0,9788.0,9788.0,9786.0,9786.0,9786.0,9786.0,9786.0,9785.0,9783.0,9783.0,9782.0,9781.0,9781.0,9781.0,9780.0,9779.0,9779.0,9778.0,9777.0,9777.0,9776.0,9775.0,9774.0,9773.0,9772.0,9771.0,9770.0,9770.0,9769.0,9769.0,9768.0,9768.0,9767.0,9767.0,9766.0,9766.0,9765.0,9764.0,9763.0,9762.0,9762.0,9762.0,9762.0,9761.0,9761.0,9760.0,9760.0,9760.0,9760.0,9760.0,9759.0,9759.0,9758.0,9757.0,9756.0,9756.0,9756.0,9755.0,9755.0,9753.0,9751.0,9751.0,9751.0,9749.0,9749.0,9749.0,9748.0,9746.0,9743.0,9742.0,9742.0,9741.0,9741.0,9740.0,9740.0,9740.0,9740.0,9740.0,9734.0,9733.0,9733.0,9732.0,9732.0,9732.0,9731.0,9731.0,9730.0,9729.0,9728.0,9728.0,9728.0,9727.0,9727.0,9727.0,9726.0,9726.0,9726.0,9725.0,9724.0,9722.0,9722.0,9721.0,9719.0,9719.0,9718.0,9718.0,9717.0,9717.0,9717.0,9715.0,9714.0,9714.0,9714.0,9713.0,9713.0,9713.0,9708.0,9708.0,9708.0,9708.0,9706.0,9705.0,9705.0,9705.0,9703.0,9703.0,9703.0,9702.0,9702.0,9701.0,9701.0,9701.0,9700.0,9699.0,9699.0,9699.0,9699.0,9699.0,9698.0,9697.0,9697.0,9697.0,9696.0,9696.0,9692.0,9690.0,9678.0,9672.0,9669.0,9662.0,9659.0,9656.0,9655.0,9648.0,9634.0,9632.0,9626.0,9626.0,9620.0,9613.0,9606.0,9594.0,9593.0,9590.0,9586.0,9584.0,9584.0,9572.0,9568.0,9568.0,9568.0,9565.0,9563.0,9562.0,9559.0,9552.0,9538.0,9527.0,9526.0,9525.0,9386.0,9049.0,9003.0,8958.0,8907.0,8904.0,8903.0,8903.0,8902.0,8902.0,8902.0,8900.0,8900.0,8900.0,8899.0,8897.0,8897.0,8896.0,8896.0,8896.0,8896.0,8896.0,8895.0,8895.0,8895.0,8895.0,8895.0,8894.0,8894.0,8894.0,8893.0,8893.0,8893.0,8893.0,8893.0,8892.0,8892.0,8892.0,8891.0,8891.0,8890.0,8890.0,8889.0,8888.0,8885.0,8885.0,8884.0,8884.0,8883.0,8883.0,8882.0,8882.0,8880.0,8879.0,8879.0,8878.0,8877.0,8877.0,8876.0,8876.0,8874.0,8874.0,8873.0,8872.0,8872.0,8872.0,8871.0,8871.0,8871.0,8871.0,8871.0,8870.0,8870.0,8870.0,8870.0,8870.0,8870.0,8870.0,8868.0,8868.0,8867.0,8866.0,8865.0,8864.0,8864.0,8863.0,8863.0,8863.0,8862.0,8861.0,8861.0,8860.0,8859.0,8857.0,8857.0,8856.0,8856.0,8855.0,8855.0,8854.0,8854.0,8852.0,8852.0,8852.0,8851.0,8851.0,8850.0,8848.0,8847.0,8847.0,8847.0,8845.0,8845.0,8845.0,8844.0,8844.0,8843.0,8842.0,8842.0,8842.0,8842.0,8842.0,8841.0,8840.0,8840.0,8840.0,8839.0,8838.0,8838.0,8838.0,8838.0,8838.0,8838.0,8837.0,8836.0,8836.0,8836.0,8835.0,8835.0,8834.0,8833.0,8833.0,8833.0,8833.0,8833.0,8832.0,8832.0,8832.0,8832.0,8831.0,8829.0,8828.0,8828.0,8828.0,8828.0,8828.0,8828.0,8827.0,8826.0,8826.0,8826.0,8825.0,8825.0,8824.0,8824.0,8824.0,8824.0,8824.0,8823.0,8822.0,8822.0,8822.0,8820.0,8820.0,8820.0,8820.0,8819.0,8819.0,8818.0,8818.0,8818.0,8815.0,8814.0,8814.0,8813.0,8813.0,8811.0,8811.0,8810.0,8810.0,8809.0,8809.0,8808.0,8808.0,8807.0,8807.0,8807.0,8806.0,8806.0,8805.0,8804.0,8804.0,8804.0,8803.0,8802.0,8799.0,8799.0,8798.0,8797.0,8797.0,8796.0,8796.0,8796.0,8795.0,8795.0,8794.0,8794.0,8793.0,8792.0,8792.0,8790.0,8790.0,8790.0,8789.0,8789.0,8789.0,8789.0,8789.0,8788.0,8787.0,8787.0,8786.0,8785.0,8783.0,8783.0,8783.0,8782.0,8781.0,8781.0,8779.0,8779.0,8778.0,8778.0,8776.0,8775.0,8774.0,8774.0,8774.0,8774.0,8773.0,8773.0,8771.0,8771.0,8771.0,8770.0,8769.0,8769.0,8769.0,8769.0,8768.0,8768.0,8767.0,8767.0,8767.0,8766.0,8765.0,8765.0,8764.0,8764.0,8763.0,8763.0,8761.0,8760.0,8760.0,8759.0,8758.0,8758.0,8757.0,8756.0,8755.0,8755.0,8754.0,8754.0,8753.0,8753.0,8752.0,8752.0,8752.0,8747.0,8747.0,8747.0,8746.0,8745.0,8745.0,8744.0,8744.0,8743.0,8743.0,8743.0,8743.0,8743.0,8743.0,8742.0,8742.0,8741.0,8741.0,8740.0,8739.0,8739.0,8739.0,8739.0,8738.0,8738.0,8738.0,8735.0,8735.0,8735.0,8735.0,8734.0,8733.0,8732.0,8732.0,8731.0,8731.0,8731.0,8731.0,8730.0,8730.0,8727.0,8727.0,8727.0,8727.0,8727.0,8725.0,8725.0,8724.0,8724.0,8723.0,8723.0,8722.0,8721.0,8721.0,8721.0,8720.0,8719.0,8717.0,8717.0,8717.0,8717.0,8716.0,8716.0,8715.0,8715.0,8714.0,8712.0,8711.0,8711.0,8711.0,8711.0,8711.0,8710.0,8710.0,8709.0,8708.0,8708.0,8708.0,8707.0,8707.0,8707.0,8706.0,8705.0,8705.0,8705.0,8704.0,8703.0,8702.0,8702.0,8702.0,8702.0,8701.0,8700.0,8699.0,8699.0,8699.0,8697.0,8697.0,8696.0,8696.0,8695.0,8695.0,8693.0,8692.0,8692.0,8692.0,8692.0,8691.0,8691.0,8690.0,8690.0,8690.0,8689.0,8687.0,8687.0,8686.0,8685.0,8684.0,8684.0,8683.0,8683.0,8683.0,8683.0,8682.0,8681.0,8681.0,8681.0,8681.0,8680.0,8679.0,8679.0,8679.0,8679.0,8677.0,8677.0,8676.0,8676.0,8676.0,8675.0,8674.0,8674.0,8673.0,8673.0,8671.0,8671.0,8670.0,8670.0,8670.0,8670.0,8669.0,8668.0,8668.0,8667.0,8664.0,8664.0,8663.0,8662.0,8662.0,8662.0,8662.0,8662.0,8661.0,8661.0,8661.0,8660.0,8660.0,8659.0,8658.0,8658.0,8655.0,8655.0,8654.0,8652.0,8651.0,8651.0,8649.0,8648.0,8648.0,8647.0,8647.0,8646.0,8646.0,8646.0,8646.0,8644.0,8644.0,8644.0,8643.0,8643.0,8643.0,8642.0,8642.0,8641.0,8641.0,8641.0,8641.0,8641.0,8640.0,8638.0,8638.0,8637.0,8637.0,8637.0,8637.0,8637.0,8637.0,8636.0,8636.0,8635.0,8634.0,8633.0,8633.0,8633.0,8633.0,8633.0,8632.0,8631.0,8630.0,8630.0,8630.0,8628.0,8628.0,8628.0,8627.0,8624.0,8623.0,8623.0,8623.0,8623.0,8622.0,8621.0,8621.0,8620.0,8620.0,8619.0,8618.0,8617.0,8616.0,8616.0,8616.0,8616.0,8615.0,8615.0,8613.0,8613.0,8612.0,8612.0,8611.0,8611.0,8609.0,8609.0,8608.0,8606.0,8606.0,8606.0,8605.0,8605.0,8605.0,8604.0,8604.0,8601.0,8600.0,8600.0,8599.0,8598.0,8598.0,8597.0,8597.0,8596.0,8596.0,8594.0,8594.0,8594.0,8593.0,8592.0,8592.0,8591.0,8589.0,8589.0,8589.0,8589.0,8588.0,8588.0,8588.0,8588.0,8586.0,8585.0,8585.0,8584.0,8584.0,8581.0,8580.0,8579.0,8579.0,8579.0,8579.0,8577.0,8577.0,8576.0,8576.0,8576.0,8575.0,8575.0,8575.0,8575.0,8574.0,8574.0,8573.0,8573.0,8573.0,8573.0,8572.0,8572.0,8572.0,8572.0,8572.0,8572.0,8571.0,8570.0,8570.0,8569.0,8569.0,8567.0,8566.0,8566.0,8566.0,8566.0,8557.0,8551.0,8549.0,8544.0,8539.0,8535.0,8532.0,8532.0,8531.0,8528.0,8524.0,8521.0,8520.0,8520.0,8518.0,8516.0,8514.0,8510.0,8488.0,8484.0,8478.0,8477.0,8477.0,8476.0,8468.0,8467.0,8463.0,8460.0,8457.0,8446.0,8445.0,8439.0,8439.0,8437.0,8431.0,8431.0,8431.0,8423.0,8420.0,8420.0,8417.0,8417.0,8416.0,8415.0,8411.0,8411.0,8410.0,8410.0,8404.0,8404.0,8397.0,8396.0,8396.0,8395.0,8392.0,8385.0,8384.0,8384.0,8383.0,8379.0,8378.0,8378.0,8376.0,8374.0,8366.0,8363.0,8362.0,8360.0,8351.0,8346.0,8346.0,8346.0,8345.0,8345.0,8344.0,8343.0,8343.0,8339.0,8338.0,8330.0,8330.0,8329.0,8327.0,8327.0,8321.0,8321.0,8319.0,8318.0,8315.0,8314.0,8314.0,8310.0,8308.0,8307.0,8307.0,8305.0,8305.0,8302.0,8300.0,8299.0,8299.0,8298.0,8296.0,8292.0,8289.0,8288.0,8286.0,8285.0,8283.0,8281.0,8280.0,8278.0,8276.0,8276.0,8276.0,8271.0,8271.0,8271.0,8270.0,8269.0,8268.0,8267.0,8266.0,8263.0,8261.0,8260.0,8259.0,8258.0,8258.0,8257.0,8254.0,8253.0,8248.0,8241.0,8241.0,8240.0,8239.0,8237.0,8236.0,8235.0,8235.0,8235.0,8234.0,8234.0,8234.0,8233.0,8230.0,8226.0,8226.0,8225.0,8225.0,8223.0,8219.0,8216.0,8216.0,8214.0,8214.0,8212.0,8211.0,8209.0,8208.0,8208.0,8207.0,8207.0,8207.0,8206.0,8206.0,8203.0,8202.0,8202.0,8201.0,8199.0,8197.0,8190.0,8190.0,8189.0,8189.0,8188.0,8187.0,8185.0,8181.0,8179.0,8178.0,8178.0,8178.0,8177.0,8175.0,8174.0,8174.0,8173.0,8173.0,8173.0,8173.0,8172.0,8172.0,8170.0,8170.0,8170.0,8162.0,8162.0,8161.0,8159.0,8157.0,8154.0,8152.0,8152.0,8151.0,8150.0,8150.0,8146.0,8146.0,8146.0,8145.0,8144.0,8143.0,8143.0,8143.0,8143.0,8142.0,8142.0,8142.0,8142.0,8141.0,8141.0,8141.0,8141.0,8138.0,8138.0,8138.0,8137.0,8137.0,8136.0,8136.0,8136.0,8135.0,8135.0,8135.0,8135.0,8134.0,8134.0,8134.0,8134.0,8134.0,8134.0,8133.0,8133.0,8133.0,8133.0,8133.0,8133.0,8133.0,8133.0,8132.0,8131.0,8131.0,8131.0,8130.0,8129.0,8129.0,8129.0,8129.0,8129.0,8129.0,8129.0,8128.0,8128.0,8128.0,8128.0,8128.0,8128.0,8128.0,8128.0,8127.0,8127.0,8127.0,8126.0,8126.0,8126.0,8126.0,8125.0,8125.0,8125.0,8125.0,8125.0,8125.0,8124.0,8123.0,8123.0,8123.0,8123.0,8122.0,8121.0,8120.0,8119.0,8119.0,8119.0,8119.0,8119.0,8118.0,8118.0,8118.0,8118.0,8118.0,8117.0,8117.0,8117.0,8117.0,8117.0,8116.0,8116.0,8116.0,8115.0,8114.0,8114.0,8114.0,8113.0,8113.0,8113.0,8112.0,8111.0,8111.0,8111.0,8110.0,8110.0,8110.0,8110.0,8109.0,8109.0,8109.0,8109.0,8109.0,8109.0,8109.0,8108.0,8108.0,8108.0,8107.0,8107.0,8107.0,8107.0,8107.0,8107.0,8106.0,8106.0,8106.0,8106.0,8105.0,8105.0,8105.0,8105.0,8104.0,8104.0,8103.0,8103.0,8103.0,8103.0,8103.0,8102.0,8102.0,8102.0,8102.0,8102.0,8102.0,8101.0,8100.0,8100.0,8100.0,8100.0,8100.0,8100.0,8099.0,8098.0,8098.0,8097.0,8097.0,8096.0,8096.0,8096.0,8096.0,8095.0,8095.0,8095.0,8095.0,8094.0,8094.0,8094.0,8093.0,8093.0,8093.0,8092.0,8092.0,8092.0,8091.0,8091.0,8090.0,8090.0,8089.0,8089.0,8089.0,8088.0,8088.0,8088.0,8088.0,8088.0,8088.0,8087.0,8087.0,8087.0,8086.0,8086.0,8086.0,8085.0,8085.0,8084.0,8084.0,8083.0,8083.0,8083.0,8083.0,8082.0,8082.0,8082.0,8082.0,8081.0,8081.0,8081.0,8080.0,8080.0,8079.0,8079.0,8079.0,8079.0,8078.0,8078.0,8078.0,8078.0,8077.0,8076.0,8076.0,8076.0,8074.0,8074.0,8073.0,8073.0,8073.0,8073.0,8073.0,8072.0,8072.0,8071.0,8071.0,8071.0,8071.0,8070.0,8069.0,8068.0,8068.0,8068.0,8068.0,8067.0,8067.0,8067.0,8066.0,8066.0,8066.0,8066.0,8065.0,8065.0,8064.0,8064.0,8063.0,8063.0,8063.0,8063.0,8063.0,8062.0,8061.0,8061.0,8061.0,8060.0,8060.0,8059.0,8059.0,8059.0,8058.0,8057.0,8055.0,8055.0,8055.0,8055.0,8054.0,8053.0,8052.0,8052.0,8052.0,8052.0,8051.0,8051.0,8050.0,8050.0,8049.0,8049.0,8049.0,8049.0,8048.0,8048.0,8048.0,8047.0,8046.0,8046.0,8046.0,8046.0,8045.0,8045.0,8044.0,8044.0,8044.0,8043.0,8043.0,8043.0,8043.0,8043.0,8042.0,8042.0,8042.0,8042.0,8041.0,8040.0,8040.0,8040.0,8040.0,8040.0,8039.0,8039.0,8039.0,8039.0,8039.0,8039.0,8039.0,8038.0,8038.0,8038.0,8038.0,8038.0,8038.0,8037.0,8037.0,8037.0,8036.0,8036.0,8036.0,8035.0,8035.0,8034.0,8033.0,8033.0,8032.0,8032.0,8032.0,8031.0,8030.0,8030.0,8030.0,8029.0,8029.0,8029.0,8029.0,8029.0,8029.0,8028.0,8027.0,8027.0,8026.0,8026.0,8026.0,8026.0,8026.0,8026.0,8025.0,8025.0,8025.0,8025.0,8025.0,8024.0,8024.0,8023.0,8023.0,8023.0,8019.0,8019.0,8019.0,8018.0,8017.0,8017.0,8016.0,8016.0,8016.0,8016.0,8016.0,8016.0,8016.0,8016.0,8015.0,8015.0,8015.0,8015.0,8015.0,8015.0,8015.0,8015.0,8014.0,8014.0,8014.0,8014.0,8013.0,8013.0,8013.0,8013.0,8011.0,8010.0,8010.0,8009.0,8009.0,8009.0,8009.0,8009.0,8009.0,8009.0,8009.0,8008.0,8008.0,8007.0,8006.0,8006.0,8006.0,8005.0,8005.0,8005.0,8005.0,8005.0,8004.0,8004.0,8004.0,8003.0,8002.0,8002.0,8002.0,8002.0,8002.0,8001.0,8001.0,8001.0,8001.0,8001.0,8001.0,8001.0,7999.0,7999.0,7999.0,7999.0,7999.0,7998.0,7998.0,7998.0,7998.0,7997.0,7997.0,7997.0,7996.0,7996.0,7996.0,7996.0,7995.0,7995.0,7995.0,7995.0,7994.0,7993.0,7993.0,7992.0,7991.0,7991.0,7991.0,7990.0,7990.0,7990.0,7989.0,7989.0,7988.0,7988.0,7988.0,7988.0,7987.0,7987.0,7987.0,7987.0,7987.0,7987.0,7987.0,7986.0,7986.0,7985.0,7985.0,7985.0,7984.0,7984.0,7984.0,7983.0,7983.0,7981.0,7981.0,7981.0,7981.0,7981.0,7981.0,7981.0,7980.0,7980.0,7980.0,7979.0,7979.0,7979.0,7978.0,7978.0,7977.0,7977.0,7977.0,7977.0,7977.0,7977.0,7976.0,7976.0,7976.0,7976.0,7976.0,7975.0,7974.0,7973.0,7973.0,7973.0,7973.0,7972.0,7972.0,7972.0,7971.0,7970.0,7970.0,7969.0,7969.0,7969.0,7969.0,7968.0,7968.0,7967.0,7966.0,7966.0,7965.0,7963.0,7963.0,7963.0,7962.0,7961.0,7961.0,7961.0,7959.0,7959.0,7959.0,7957.0,7957.0,7956.0,7956.0,7956.0,7956.0,7956.0,7956.0,7956.0,7956.0,7956.0,7956.0,7955.0,7955.0,7955.0,7954.0,7954.0,7954.0,7954.0,7953.0,7953.0,7953.0,7953.0,7953.0,7952.0,7952.0,7951.0,7951.0,7951.0,7951.0,7950.0,7950.0,7950.0,7949.0,7949.0,7948.0,7948.0,7948.0,7948.0,7948.0,7947.0,7946.0,7946.0,7946.0,7946.0,7945.0,7945.0,7944.0,7944.0,7944.0,7943.0,7941.0,7941.0,7941.0,7941.0,7941.0,7941.0,7940.0,7939.0,7939.0,7939.0,7939.0,7939.0,7938.0,7938.0,7938.0,7937.0,7937.0,7937.0,7937.0,7937.0,7937.0,7937.0,7936.0,7936.0,7935.0,7935.0,7934.0,7934.0,7933.0,7932.0,7932.0,7932.0,7931.0,7931.0,7930.0,7930.0,7930.0,7929.0,7929.0,7929.0,7929.0,7928.0,7928.0,7927.0,7926.0,7926.0,7924.0,7924.0,7924.0,7924.0,7924.0,7923.0,7923.0,7923.0,7922.0,7921.0,7921.0,7921.0,7920.0,7920.0,7920.0,7918.0,7918.0,7918.0,7917.0,7917.0,7916.0,7916.0,7915.0,7915.0,7915.0,7915.0,7915.0,7914.0,7914.0,7914.0,7914.0,7914.0,7913.0,7912.0,7912.0,7912.0,7912.0,7911.0,7911.0,7911.0,7911.0,7909.0,7909.0,7909.0,7909.0,7907.0,7907.0,7907.0,7907.0,7907.0,7907.0,7907.0,7907.0,7907.0,7907.0,7907.0,7906.0,7905.0,7905.0,7904.0,7904.0,7903.0,7903.0,7902.0,7902.0,7902.0,7900.0,7900.0,7898.0,7898.0,7898.0,7898.0,7898.0,7898.0,7898.0,7898.0,7897.0,7897.0,7897.0,7896.0,7896.0,7895.0,7895.0,7895.0,7895.0,7894.0,7894.0,7894.0,7894.0,7893.0,7893.0,7893.0,7892.0,7892.0,7892.0,7891.0,7891.0,7891.0,7890.0,7890.0,7890.0,7889.0,7886.0,7886.0,7886.0,7885.0,7885.0,7884.0,7884.0,7884.0,7884.0,7884.0,7883.0,7883.0,7882.0,7882.0,7882.0,7880.0,7880.0,7880.0,7879.0,7879.0,7879.0,7878.0,7878.0,7877.0,7876.0,7875.0,7875.0,7875.0,7875.0,7875.0,7875.0,7875.0,7874.0,7874.0,7873.0,7872.0,7872.0,7872.0,7871.0,7871.0,7871.0,7870.0,7869.0,7869.0,7869.0,7868.0,7868.0,7868.0,7867.0,7866.0,7866.0,7866.0,7865.0,7865.0,7865.0,7865.0,7865.0,7865.0,7864.0,7864.0,7864.0,7864.0,7864.0,7863.0,7863.0,7862.0,7862.0,7861.0,7861.0,7861.0,7860.0,7860.0,7860.0,7860.0,7860.0,7860.0,7858.0,7858.0,7858.0,7858.0,7857.0,7857.0,7856.0,7856.0,7856.0,7856.0,7856.0,7856.0,7856.0,7856.0,7855.0,7855.0,7855.0,7855.0,7854.0,7854.0,7854.0,7853.0,7853.0,7852.0,7852.0,7851.0,7851.0,7851.0,7851.0,7851.0,7850.0,7849.0,7849.0,7849.0,7848.0,7847.0,7847.0,7847.0,7847.0,7847.0,7847.0,7846.0,7846.0,7846.0,7845.0,7845.0,7844.0,7844.0,7843.0,7843.0,7843.0,7843.0,7843.0,7842.0,7842.0,7842.0,7842.0,7842.0,7841.0,7840.0,7840.0,7840.0,7840.0,7840.0,7839.0,7839.0,7838.0,7838.0,7837.0,7837.0,7835.0,7835.0,7834.0,7834.0,7832.0,7831.0,7831.0,7830.0,7830.0,7830.0,7830.0,7829.0,7829.0,7828.0,7828.0,7828.0,7828.0,7828.0,7828.0,7827.0,7827.0,7826.0,7826.0,7825.0,7825.0,7825.0,7825.0,7824.0,7824.0,7823.0,7823.0,7823.0,7823.0,7822.0,7822.0,7821.0,7821.0,7820.0,7820.0,7819.0,7819.0,7818.0,7818.0,7817.0,7816.0,7816.0,7816.0,7815.0,7815.0,7814.0,7814.0,7813.0,7813.0,7812.0,7812.0,7811.0,7810.0,7809.0,7809.0,7808.0,7808.0,7808.0,7807.0,7806.0,7806.0,7805.0,7805.0,7805.0,7803.0,7803.0,7803.0,7802.0,7802.0,7802.0,7801.0,7801.0,7801.0,7800.0,7800.0,7800.0,7800.0,7800.0,7800.0,7799.0,7798.0,7798.0,7798.0,7798.0,7797.0,7797.0,7796.0,7796.0,7796.0,7796.0,7796.0,7795.0,7795.0,7795.0,7794.0,7794.0,7794.0,7794.0,7794.0,7793.0,7793.0,7792.0,7792.0,7792.0,7791.0,7791.0,7791.0,7789.0,7789.0,7789.0,7788.0,7788.0,7787.0,7787.0,7787.0,7786.0,7785.0,7785.0,7785.0,7785.0,7785.0,7784.0,7784.0,7784.0,7784.0,7783.0,7783.0,7782.0,7782.0,7782.0,7782.0,7781.0,7781.0,7781.0,7780.0,7779.0,7779.0,7778.0,7778.0,7778.0,7778.0,7778.0,7776.0,7775.0,7775.0,7775.0,7775.0,7775.0,7775.0,7775.0,7774.0,7774.0,7772.0,7772.0,7772.0,7771.0,7771.0,7771.0,7771.0,7770.0,7770.0,7769.0,7769.0,7769.0,7768.0,7768.0,7768.0,7767.0,7767.0,7767.0,7767.0,7766.0,7766.0,7766.0,7765.0,7764.0,7764.0,7764.0,7764.0,7763.0,7762.0,7762.0,7762.0,7762.0,7762.0,7761.0,7761.0,7761.0,7761.0,7760.0,7760.0,7759.0,7758.0,7758.0,7758.0,7757.0,7757.0,7756.0,7754.0,7754.0,7753.0,7753.0,7749.0,7748.0,7748.0,7747.0,7743.0,7740.0,7732.0,7727.0,7725.0,7721.0,7720.0,7715.0,7715.0,7713.0,7709.0,7709.0,7708.0,7701.0,7698.0,7697.0,7697.0,7690.0,7686.0,7683.0,7682.0,7681.0,7681.0,7680.0,7677.0,7674.0,7670.0,7668.0,7666.0,7663.0,7659.0,7659.0,7655.0,7655.0,7653.0,7652.0,7651.0,7645.0,7640.0,7638.0,7637.0,7629.0,7629.0,7627.0,7625.0,7622.0,7622.0,7622.0,7621.0,7619.0,7617.0,7611.0,7610.0,7610.0,7601.0,7601.0,7600.0,7598.0,7598.0,7592.0,7589.0,7589.0,7588.0,7588.0,7586.0,7586.0,7584.0,7583.0,7582.0,7576.0,7572.0,7562.0,7552.0,7536.0,7526.0,7519.0,7517.0,7513.0,7512.0,7509.0,7506.0,7502.0,7498.0,7485.0,7468.0,7463.0,7432.0,7428.0,7425.0,7424.0,7421.0,7416.0,7415.0,7415.0,7409.0,7409.0,7408.0,7405.0,7404.0,7402.0,7401.0,7399.0,7398.0,7397.0,7392.0,7389.0,7381.0,7377.0,7375.0,7194.0,7194.0,7193.0,7193.0,7193.0,7192.0,7192.0,7192.0,7192.0,7192.0,7191.0,7191.0,7190.0,7190.0,7190.0,7190.0,7190.0,7189.0,7188.0,7187.0,7187.0,7187.0,7187.0,7186.0,7186.0,7186.0,7185.0,7185.0,7185.0,7185.0,7185.0,7184.0,7184.0,7184.0,7184.0,7182.0,7182.0,7182.0,7182.0,7181.0,7181.0,7181.0,7181.0,7180.0,7179.0,7179.0,7179.0,7179.0,7178.0,7177.0,7177.0,7176.0,7174.0,7174.0,7174.0,7173.0,7172.0,7172.0,7172.0,7172.0,7171.0,7171.0,7170.0,7170.0,7170.0,7169.0,7169.0,7168.0,7168.0,7168.0,7168.0,7168.0,7168.0,7167.0,7167.0,7167.0,7167.0,7167.0,7166.0,7166.0,7165.0,7165.0,7165.0,7164.0,7164.0,7163.0,7163.0,7163.0,7162.0,7162.0,7162.0,7162.0,7162.0,7161.0,7161.0,7161.0,7160.0,7159.0,7159.0,7159.0,7158.0,7157.0,7157.0,7156.0,7156.0,7156.0,7155.0,7155.0,7155.0,7155.0,7155.0,7155.0,7154.0,7154.0,7154.0,7154.0,7153.0,7153.0,7153.0,7152.0,7152.0,7152.0,7151.0,7151.0,7151.0,7150.0,7150.0,7150.0,7149.0,7149.0,7149.0,7149.0,7147.0,7146.0,7146.0,7146.0,7145.0,7144.0,7144.0,7143.0,7143.0,7142.0,7142.0,7141.0,7141.0,7140.0,7140.0,7139.0,7139.0,7139.0,7139.0,7138.0,7138.0,7138.0,7138.0,7138.0,7138.0,7138.0,7137.0,7137.0,7137.0,7135.0,7135.0,7134.0,7133.0,7133.0,7133.0,7132.0,7132.0,7132.0,7131.0,7131.0,7131.0,7131.0,7131.0,7131.0,7131.0,7130.0,7130.0,7130.0,7129.0,7128.0,7128.0,7128.0,7127.0,7126.0,7126.0,7125.0,7125.0,7125.0,7125.0,7124.0,7124.0,7123.0,7123.0,7123.0,7122.0,7122.0,7122.0,7122.0,7122.0,7122.0,7121.0,7121.0,7121.0,7121.0,7121.0,7120.0,7120.0,7120.0,7119.0,7119.0,7119.0,7119.0,7118.0,7118.0,7118.0,7118.0,7117.0,7116.0,7115.0,7114.0,7113.0,7113.0,7112.0,7112.0,7112.0,7112.0,7112.0,7111.0,7111.0,7111.0,7111.0,7109.0,7109.0,7108.0,7108.0,7108.0,7107.0,7107.0,7107.0,7106.0,7105.0,7105.0,7104.0,7104.0,7104.0,7104.0,7103.0,7103.0,7103.0,7103.0,7102.0,7100.0,7100.0,7099.0,7099.0,7099.0,7099.0,7098.0,7098.0,7098.0,7098.0,7097.0,7097.0,7097.0,7096.0,7096.0,7095.0,7095.0,7094.0,7094.0,7094.0,7094.0,7094.0,7093.0,7093.0,7093.0,7093.0,7092.0,7092.0,7092.0,7091.0,7090.0,7089.0,7089.0,7089.0,7089.0,7089.0,7089.0,7089.0,7088.0,7088.0,7087.0,7087.0,7087.0,7087.0,7087.0,7087.0,7086.0,7086.0,7086.0,7086.0,7086.0,7086.0,7086.0,7086.0,7086.0,7085.0,7085.0,7084.0,7083.0,7083.0,7083.0,7083.0,7082.0,7080.0,7080.0,7080.0,7080.0,7078.0,7078.0,7078.0,7078.0,7077.0,7077.0,7077.0,7077.0,7077.0,7076.0,7076.0,7075.0,7075.0,7075.0,7075.0,7074.0,7074.0,7073.0,7073.0,7072.0,7071.0,7070.0,7070.0,7069.0,7069.0,7069.0,7068.0,7068.0,7067.0,7067.0,7066.0,7066.0,7065.0,7065.0,7065.0,7064.0,7064.0,7064.0,7063.0,7063.0,7062.0,7062.0,7062.0,7061.0,7061.0,7061.0,7060.0,7060.0,7060.0,7059.0,7058.0,7058.0,7057.0,7057.0,7057.0,7056.0,7055.0,7055.0,7055.0,7054.0,7054.0,7053.0,7053.0,7053.0,7053.0,7053.0,7053.0,7052.0,7052.0,7052.0,7052.0,7052.0,7051.0,7051.0,7051.0,7050.0,7049.0,7049.0,7049.0,7048.0,7047.0,7047.0,7047.0,7047.0,7046.0,7046.0,7046.0,7045.0,7045.0,7045.0,7045.0,7045.0,7045.0,7045.0,7044.0,7044.0,7044.0,7043.0,7043.0,7042.0,7041.0,7041.0,7040.0,7040.0,7040.0,7039.0,7039.0,7039.0,7039.0,7039.0,7038.0,7038.0,7038.0,7038.0,7038.0,7037.0,7037.0,7037.0,7037.0,7037.0,7037.0,7037.0,7037.0,7036.0,7036.0,7036.0,7035.0,7035.0,7035.0,7035.0,7035.0,7035.0,7035.0,7034.0,7034.0,7034.0,7033.0,7033.0,7033.0,7033.0,7033.0,7032.0,7032.0,7032.0,7032.0,7031.0,7031.0,7030.0,7030.0,7029.0,7028.0,7028.0,7027.0,7026.0,7026.0,7026.0,7026.0,7026.0,7026.0,7025.0,7025.0,7024.0,7024.0,7024.0,7024.0,7023.0,7023.0,7023.0,7023.0,7023.0,7023.0,7022.0,7022.0,7022.0,7022.0,7022.0,7022.0,7020.0,7020.0,7020.0,7019.0,7019.0,7019.0,7019.0,7018.0,7018.0,7017.0,7017.0,7017.0,7017.0,7017.0,7016.0,7016.0,7016.0,7015.0,7015.0,7015.0,7014.0,7014.0,7013.0,7013.0,7013.0,7012.0,7012.0,7011.0,7011.0,7011.0,7011.0,7011.0,7011.0,7011.0,7010.0,7010.0,7010.0,7010.0,7010.0,7010.0,7009.0,7008.0,7008.0,7008.0,7007.0,7007.0,7006.0,7006.0,7006.0,7006.0,7005.0,7005.0,7005.0,7005.0,7005.0,7005.0,7004.0,7004.0,7003.0,7003.0,7003.0,7003.0,7002.0,7002.0,7001.0,7001.0,7001.0,7000.0,6999.0,6998.0,6998.0,6996.0,6996.0,6995.0,6995.0,6995.0,6994.0,6994.0,6994.0,6994.0,6993.0,6993.0,6993.0,6992.0,6992.0,6991.0,6991.0,6991.0,6990.0,6990.0,6989.0,6988.0,6988.0,6988.0,6985.0,6985.0,6984.0,6983.0,6982.0,6981.0,6981.0,6981.0,6981.0,6981.0,6981.0,6981.0,6980.0,6980.0,6979.0,6978.0,6978.0,6978.0,6978.0,6978.0,6977.0,6977.0,6977.0,6977.0,6977.0,6976.0,6976.0,6975.0,6974.0,6973.0,6973.0,6972.0,6972.0,6971.0,6971.0,6971.0,6970.0,6970.0,6970.0,6970.0,6969.0,6969.0,6968.0,6968.0,6968.0,6967.0,6966.0,6966.0,6966.0,6965.0,6965.0,6965.0,6965.0,6964.0,6964.0,6964.0,6964.0,6963.0,6963.0,6962.0,6962.0,6962.0,6962.0,6960.0,6960.0,6960.0,6959.0,6959.0,6959.0,6958.0,6958.0,6958.0,6957.0,6956.0,6956.0,6956.0,6956.0,6955.0,6954.0,6954.0,6954.0,6954.0,6954.0,6954.0,6953.0,6953.0,6953.0,6952.0,6952.0,6951.0,6951.0,6951.0,6951.0,6950.0,6950.0,6950.0,6949.0,6949.0,6949.0,6949.0,6948.0,6948.0,6948.0,6948.0,6948.0,6948.0,6947.0,6947.0,6946.0,6946.0,6946.0,6945.0,6945.0,6945.0,6945.0,6945.0,6945.0,6944.0,6944.0,6944.0,6943.0,6943.0,6943.0,6943.0,6942.0,6942.0,6942.0,6941.0,6941.0,6939.0,6939.0,6938.0,6938.0,6937.0,6937.0,6936.0,6936.0,6935.0,6935.0,6935.0,6934.0,6933.0,6933.0,6932.0,6931.0,6931.0,6930.0,6930.0,6930.0,6929.0,6929.0,6929.0,6929.0,6928.0,6928.0,6928.0,6927.0,6927.0,6927.0,6927.0,6926.0,6926.0,6926.0,6925.0,6925.0,6925.0,6924.0,6923.0,6923.0,6923.0,6923.0,6923.0,6923.0,6923.0,6923.0,6922.0,6922.0,6921.0,6921.0,6921.0,6920.0,6920.0,6920.0,6919.0,6919.0,6919.0,6918.0,6918.0,6918.0,6918.0,6918.0,6917.0,6917.0,6916.0,6915.0,6915.0,6915.0,6915.0,6915.0,6913.0,6913.0,6913.0,6912.0,6912.0,6912.0,6912.0,6911.0,6911.0,6911.0,6910.0,6910.0,6910.0,6909.0,6909.0,6909.0,6908.0,6908.0,6908.0,6908.0,6907.0,6907.0,6907.0,6906.0,6905.0,6904.0,6904.0,6903.0,6903.0,6903.0,6902.0,6902.0,6902.0,6901.0,6901.0,6901.0,6900.0,6900.0,6900.0,6899.0,6899.0,6899.0,6899.0,6899.0,6899.0,6898.0,6898.0,6897.0,6895.0,6895.0,6894.0,6894.0,6894.0,6893.0,6893.0,6892.0,6892.0,6892.0,6891.0,6891.0,6890.0,6890.0,6890.0,6890.0,6889.0,6889.0,6888.0,6888.0,6886.0,6886.0,6886.0,6886.0,6885.0,6885.0,6884.0,6883.0,6883.0,6882.0,6882.0,6882.0,6881.0,6881.0,6881.0,6880.0,6880.0,6880.0,6880.0,6879.0,6878.0,6878.0,6878.0,6877.0,6877.0,6877.0,6877.0,6877.0,6876.0,6876.0,6875.0,6875.0,6874.0,6873.0,6873.0,6873.0,6873.0,6872.0,6872.0,6872.0,6871.0,6870.0,6870.0,6870.0,6870.0,6870.0,6870.0,6868.0,6868.0,6868.0,6866.0,6866.0,6866.0,6865.0,6865.0,6865.0,6864.0,6864.0,6863.0,6862.0,6862.0,6862.0,6862.0,6861.0,6861.0,6861.0,6861.0,6860.0,6860.0,6860.0,6860.0,6858.0,6858.0,6858.0,6857.0,6856.0,6856.0,6856.0,6855.0,6855.0,6855.0,6853.0,6853.0,6853.0,6853.0,6853.0,6852.0,6839.0,6835.0,6833.0,6830.0,6788.0,6778.0,6766.0,6751.0,6738.0,6735.0,6721.0,6719.0,6702.0,6682.0,6675.0,6671.0,6670.0,6666.0,6644.0,6631.0,6595.0,6595.0,6590.0,6572.0,6570.0,6548.0,6533.0,6531.0,6522.0,6480.0,6464.0,6463.0,6463.0,6451.0,6446.0,6422.0,6421.0,6393.0,6356.0,6350.0,6204.0,6204.0,6203.0,6203.0,6203.0,6202.0,6202.0,6202.0,6197.0,6197.0,6196.0,6196.0,6195.0,6193.0,6192.0,6190.0,6189.0,6189.0,6189.0,6189.0,6188.0,6187.0,6187.0,6184.0,6184.0,6183.0,6182.0,6181.0,6180.0,6180.0,6180.0,6180.0,6179.0,6179.0,6178.0,6178.0,6178.0,6178.0,6177.0,6176.0,6173.0,6172.0,6171.0,6171.0,6171.0,6170.0,6170.0,6170.0,6168.0,6168.0,6168.0,6167.0,6167.0,6167.0,6167.0,6166.0,6164.0,6163.0,6162.0,6162.0,6162.0,6162.0,6161.0,6161.0,6160.0,6160.0,6160.0,6159.0,6158.0,6158.0,6158.0,6158.0,6158.0,6157.0,6157.0,6156.0,6156.0,6156.0,6155.0,6155.0,6155.0,6154.0,6154.0,6151.0,6150.0,6150.0,6150.0,6148.0,6148.0,6146.0,6144.0,6144.0,6144.0,6143.0,6143.0,6142.0,6142.0,6142.0,6140.0,6138.0,6137.0,6136.0,6136.0,6135.0,6135.0,6134.0,6134.0,6134.0,6133.0,6133.0,6133.0,6132.0,6131.0,6131.0,6130.0,6130.0,6128.0,6127.0,6127.0,6126.0,6126.0,6126.0,6125.0,6125.0,6125.0,6124.0,6124.0,6124.0,6122.0,6122.0,6122.0,6122.0,6120.0,6120.0,6119.0,6118.0,6118.0,6118.0,6117.0,6117.0,6117.0,6117.0,6116.0,6116.0,6115.0,6115.0,6115.0,6115.0,6114.0,6114.0,6112.0,6111.0,6111.0,6110.0,6110.0,6107.0,6107.0,6106.0,6105.0,6105.0,6104.0,6103.0,6102.0,6102.0,6102.0,6102.0,6100.0,6100.0,6100.0,6099.0,6099.0,6099.0,6099.0,6098.0,6098.0,6097.0,6097.0,6097.0,6097.0,6097.0,6096.0,6096.0,6096.0,6094.0,6094.0,6092.0,6091.0,6091.0,6089.0,6088.0,6088.0,6087.0,6087.0,6087.0,6086.0,6086.0,6086.0,6084.0,6084.0,6083.0,6083.0,6082.0,6080.0,6080.0,6078.0,6078.0,6077.0,6077.0,6076.0,6074.0,6074.0,6074.0,6073.0,6072.0,6070.0,6070.0,6069.0,6069.0,6069.0,6068.0,6067.0,6067.0,6066.0,6066.0,6066.0,6066.0,6065.0,6063.0,6063.0,6062.0,6062.0,6061.0,6061.0,6060.0,6060.0,6060.0,6060.0,6060.0,6059.0,6058.0,6057.0,6057.0,6055.0,6055.0,6055.0,6054.0,6054.0,6054.0,6053.0,6052.0,6051.0,6049.0,6049.0,6048.0,6048.0,6048.0,6048.0,6048.0,6047.0,6047.0,6046.0,6046.0,6045.0,6045.0,6045.0,6044.0,6044.0,6044.0,6043.0,6042.0,6041.0,6040.0,6040.0,6039.0,6039.0,6037.0,6037.0,6035.0,6035.0,6035.0,6035.0,6034.0,6033.0,6033.0,6033.0,6032.0,6031.0,6031.0,6031.0,6029.0,6029.0,6027.0,6027.0,6026.0,6026.0,6026.0,6026.0,6025.0,6023.0,6023.0,6023.0,6022.0,6021.0,6021.0,6020.0,6019.0,6019.0,6018.0,6018.0,6018.0,6018.0,6018.0,6018.0,6018.0,6017.0,6017.0,6017.0,6016.0,6016.0,6016.0,6015.0,6015.0,6014.0,6013.0,6013.0,6013.0,6013.0,6012.0,6012.0,6011.0,6010.0,6010.0,6010.0,6009.0,6008.0,6008.0,6007.0,6005.0,6005.0,6005.0,6004.0,6004.0,6003.0,6003.0,6001.0,6001.0,5998.0,5998.0,5997.0,5996.0,5995.0,5995.0,5994.0,5993.0,5992.0,5990.0,5989.0,5988.0,5987.0,5986.0,5985.0,5983.0,5983.0,5979.0,5979.0,5978.0,5978.0,5977.0,5977.0,5976.0,5975.0,5975.0,5975.0,5974.0,5974.0,5974.0,5974.0,5973.0,5973.0,5973.0,5972.0,5972.0,5972.0,5971.0,5971.0,5971.0,5971.0,5971.0,5970.0,5970.0,5969.0,5969.0,5969.0,5969.0,5967.0,5967.0,5967.0,5967.0,5966.0,5965.0,5965.0,5962.0,5962.0,5961.0,5960.0,5959.0,5959.0,5959.0,5957.0,5957.0,5957.0,5956.0,5955.0,5955.0,5954.0,5952.0,5951.0,5951.0,5950.0,5949.0,5948.0,5947.0,5946.0,5945.0,5943.0,5943.0,5943.0,5941.0,5941.0,5941.0,5940.0,5940.0,5940.0,5940.0,5939.0,5939.0,5939.0,5939.0,5938.0,5937.0,5937.0,5936.0,5936.0,5935.0,5934.0,5934.0,5934.0,5933.0,5933.0,5932.0,5932.0,5931.0,5930.0,5930.0,5930.0,5930.0,5929.0,5929.0,5929.0,5927.0,5926.0,5926.0,5925.0,5925.0,5925.0,5924.0,5923.0,5920.0,5920.0,5920.0,5920.0,5919.0,5919.0,5919.0,5918.0,5918.0,5918.0,5918.0,5917.0,5917.0,5917.0,5916.0,5915.0,5914.0,5914.0,5914.0,5913.0,5913.0,5913.0,5911.0,5910.0,5910.0,5910.0,5908.0,5908.0,5908.0,5907.0,5907.0,5907.0,5906.0,5906.0,5905.0,5905.0,5905.0,5903.0,5902.0,5902.0,5901.0,5901.0,5900.0,5899.0,5898.0,5898.0,5898.0,5896.0,5896.0,5896.0,5896.0,5896.0,5895.0,5895.0,5892.0,5892.0,5891.0,5891.0,5891.0,5890.0,5890.0,5889.0,5888.0,5888.0,5887.0,5886.0,5884.0,5883.0,5882.0,5880.0,5878.0,5877.0,5877.0,5877.0,5876.0,5876.0,5876.0,5876.0,5875.0,5875.0,5875.0,5875.0,5875.0,5873.0,5872.0,5871.0,5871.0,5871.0,5871.0,5871.0,5870.0,5869.0,5868.0,5865.0,5865.0,5864.0,5863.0,5863.0,5863.0,5862.0,5861.0,5861.0,5859.0,5859.0,5858.0,5858.0,5857.0,5856.0,5855.0,5854.0,5853.0,5853.0,5852.0,5850.0,5850.0,5849.0,5849.0,5849.0,5848.0,5848.0,5848.0,5847.0,5847.0,5846.0,5845.0,5845.0,5845.0,5845.0,5845.0,5845.0,5844.0,5844.0,5843.0,5843.0,5843.0,5842.0,5842.0,5840.0,5840.0,5839.0,5835.0,5835.0,5834.0,5831.0,5830.0,5829.0,5829.0,5828.0,5828.0,5828.0,5826.0,5825.0,5823.0,5823.0,5822.0,5822.0,5821.0,5821.0,5821.0,5821.0,5819.0,5819.0,5757.0,5738.0,5717.0,5707.0,5680.0,5665.0,5651.0,5619.0,5541.0,5530.0,5526.0,5514.0,5511.0,5504.0,5499.0,5481.0,5481.0,5481.0,5481.0,5481.0,5480.0,5480.0,5479.0,5479.0,5479.0,5478.0,5477.0,5477.0,5476.0,5475.0,5474.0,5474.0,5474.0,5474.0,5473.0,5472.0,5470.0,5469.0,5469.0,5468.0,5467.0,5467.0,5466.0,5465.0,5465.0,5464.0,5464.0,5463.0,5463.0,5463.0,5463.0,5462.0,5461.0,5461.0,5461.0,5460.0,5460.0,5459.0,5459.0,5458.0,5457.0,5457.0,5457.0,5456.0,5456.0,5456.0,5455.0,5455.0,5453.0,5453.0,5452.0,5451.0,5451.0,5450.0,5450.0,5450.0,5450.0,5450.0,5449.0,5449.0,5448.0,5446.0,5446.0,5446.0,5445.0,5445.0,5445.0,5445.0,5444.0,5444.0,5444.0,5443.0,5443.0,5443.0,5443.0,5443.0,5442.0,5442.0,5442.0,5441.0,5441.0,5440.0,5440.0,5440.0,5440.0,5439.0,5438.0,5438.0,5438.0,5438.0,5437.0,5436.0,5436.0,5436.0,5436.0,5435.0,5435.0,5435.0,5435.0,5435.0,5435.0,5435.0,5434.0,5433.0,5432.0,5432.0,5432.0,5432.0,5431.0,5431.0,5430.0,5430.0,5428.0,5428.0,5428.0,5428.0,5427.0,5427.0,5426.0,5425.0,5424.0,5424.0,5423.0,5422.0,5422.0,5422.0,5421.0,5421.0,5420.0,5420.0,5419.0,5419.0,5419.0,5418.0,5417.0,5416.0,5416.0,5415.0,5415.0,5414.0,5414.0,5414.0,5413.0,5412.0,5412.0,5411.0,5410.0,5410.0,5410.0,5409.0,5409.0,5409.0,5409.0,5409.0,5408.0,5408.0,5408.0,5408.0,5408.0,5408.0,5407.0,5407.0,5406.0,5406.0,5406.0,5406.0,5405.0,5405.0,5404.0,5403.0,5402.0,5401.0,5401.0,5401.0,5401.0,5401.0,5400.0,5397.0,5397.0,5397.0,5396.0,5396.0,5396.0,5396.0,5394.0,5394.0,5393.0,5391.0,5391.0,5390.0,5390.0,5390.0,5389.0,5389.0,5389.0,5389.0,5388.0,5388.0,5388.0,5388.0,5388.0,5387.0,5387.0,5387.0,5387.0,5387.0,5386.0,5385.0,5385.0,5385.0,5385.0,5385.0,5384.0,5384.0,5384.0,5383.0,5382.0,5381.0,5381.0,5381.0,5380.0,5379.0,5379.0,5378.0,5377.0,5377.0,5377.0,5377.0,5376.0,5376.0,5376.0,5375.0,5375.0,5375.0,5374.0,5374.0,5373.0,5372.0,5370.0,5370.0,5369.0,5369.0,5368.0,5367.0,5366.0,5366.0,5366.0,5365.0,5364.0,5363.0,5362.0,5362.0,5362.0,5361.0,5361.0,5361.0,5361.0,5360.0,5359.0,5359.0,5358.0,5356.0,5356.0,5354.0,5353.0,5352.0,5351.0,5351.0,5351.0,5350.0,5349.0,5349.0,5349.0,5349.0,5349.0,5349.0,5349.0,5348.0,5348.0,5346.0,5346.0,5345.0,5345.0,5345.0,5345.0,5344.0,5343.0,5342.0,5342.0,5342.0,5342.0,5342.0,5340.0,5339.0,5339.0,5338.0,5337.0,5336.0,5336.0,5335.0,5335.0,5333.0,5333.0,5332.0,5332.0,5332.0,5332.0,5332.0,5331.0,5330.0,5330.0,5329.0,5328.0,5328.0,5327.0,5327.0,5326.0,5326.0,5326.0,5326.0,5326.0,5326.0,5325.0,5324.0,5324.0,5323.0,5323.0,5322.0,5322.0,5322.0,5321.0,5321.0,5320.0,5319.0,5318.0,5318.0,5317.0,5317.0,5317.0,5316.0,5315.0,5314.0,5313.0,5313.0,5313.0,5313.0,5312.0,5311.0,5311.0,5310.0,5310.0,5309.0,5309.0,5308.0,5308.0,5308.0,5307.0,5307.0,5306.0,5306.0,5305.0,5305.0,5304.0,5304.0,5303.0,5303.0,5303.0,5303.0,5302.0,5299.0,5299.0,5298.0,5297.0,5297.0,5297.0,5296.0,5296.0,5295.0,5295.0,5295.0,5295.0,5294.0,5293.0,5292.0,5292.0,5291.0,5291.0,5290.0,5290.0,5289.0,5289.0,5289.0,5288.0,5288.0,5288.0,5287.0,5286.0,5286.0,5285.0,5285.0,5284.0,5283.0,5283.0,5282.0,5281.0,5281.0,5281.0,5281.0,5280.0,5280.0,5279.0,5278.0,5278.0,5277.0,5277.0,5277.0,5277.0,5276.0,5276.0,5275.0,5275.0,5275.0,5274.0,5273.0,5273.0,5272.0,5271.0,5271.0,5271.0,5271.0,5271.0,5271.0,5271.0,5270.0,5270.0,5270.0,5269.0,5269.0,5269.0,5269.0,5268.0,5268.0,5268.0,5268.0,5264.0,5263.0,5261.0,5261.0,5261.0,5260.0,5259.0,5259.0,5259.0,5259.0,5258.0,5258.0,5258.0,5257.0,5257.0,5256.0,5255.0,5255.0,5255.0,5254.0,5254.0,5254.0,5253.0,5252.0,5252.0,5251.0,5251.0,5251.0,5250.0,5250.0,5249.0,5249.0,5249.0,5248.0,5247.0,5247.0,5247.0,5246.0,5246.0,5246.0,5246.0,5246.0,5245.0,5244.0,5242.0,5242.0,5242.0,5241.0,5241.0,5241.0,5241.0,5240.0,5240.0,5240.0,5239.0,5239.0,5239.0,5239.0,5238.0,5238.0,5237.0,5235.0,5235.0,5235.0,5235.0,5234.0,5234.0,5234.0,5233.0,5233.0,5233.0,5232.0,5232.0,5232.0,5232.0,5230.0,5230.0,5229.0,5227.0,5227.0,5226.0,5226.0,5226.0,5225.0,5225.0,5225.0,5223.0,5223.0,5222.0,5222.0,5222.0,5220.0,5220.0,5219.0,5219.0,5219.0,5219.0,5215.0,5215.0,5215.0,5214.0,5214.0,5214.0,5214.0,5214.0,5212.0,5212.0,5211.0,5210.0,5210.0,5210.0,5209.0,5209.0,5209.0,5209.0,5209.0,5209.0,5208.0,5208.0,5208.0,5208.0,5207.0,5207.0,5206.0,5206.0,5205.0,5204.0,5202.0,5202.0,5202.0,5202.0,5201.0,5201.0,5201.0,5200.0,5199.0,5198.0,5198.0,5198.0,5198.0,5198.0,5195.0,5195.0,5195.0,5194.0,5194.0,5193.0,5192.0,5192.0,5190.0,5190.0,5190.0,5189.0,5189.0,5188.0,5188.0,5186.0,5186.0,5185.0,5185.0,5185.0,5182.0,5182.0,5182.0,5182.0,5181.0,5178.0,5178.0,5178.0,5178.0,5177.0,5177.0,5177.0,5176.0,5174.0,5174.0,5174.0,5173.0,5173.0,5173.0,5172.0,5172.0,5172.0,5171.0,5171.0,5170.0,5170.0,5169.0,5169.0,5169.0,5168.0,5167.0,5167.0,5166.0,5166.0,5165.0,5165.0,5165.0,5165.0,5164.0,5162.0,5161.0,5159.0,5159.0,5159.0,5158.0,5158.0,5158.0,5158.0,5158.0,5158.0,5158.0,5157.0,5157.0,5157.0,5157.0,5157.0,5155.0,5155.0,5153.0,5151.0,5150.0,5150.0,5149.0,5149.0,5149.0,5149.0,5149.0,5148.0,5147.0,5147.0,5147.0,5146.0,5146.0,5146.0,5145.0,5145.0,5144.0,5143.0,5143.0,5142.0,5142.0,5140.0,5140.0,5139.0,5139.0,5139.0,5137.0,4922.0,4905.0,4839.0,4822.0,4819.0,4810.0,4784.0,4774.0,4771.0,4768.0,4764.0,4763.0,4751.0,4733.0,4729.0,4727.0,4710.0,4708.0,4707.0,4702.0,4702.0,4697.0,4696.0,4693.0,4692.0,4691.0,4691.0,4690.0,4690.0,4689.0,4685.0,4670.0,4669.0,4665.0,4664.0,4662.0,4661.0,4659.0,4658.0,4654.0,4651.0,4649.0,4646.0,4642.0,4642.0,4642.0,4640.0,4639.0,4636.0,4636.0,4635.0,4635.0,4634.0,4634.0,4634.0,4632.0,4629.0,4628.0,4620.0,4615.0,4610.0,4610.0,4609.0,4608.0,4605.0,4604.0,4603.0,4603.0,4602.0,4602.0,4602.0,4600.0,4598.0,4596.0,4595.0,4595.0,4592.0,4591.0,4589.0,4588.0,4588.0,4586.0,4586.0,4584.0,4584.0,4582.0,4581.0,4580.0,4577.0,4574.0,4571.0,4570.0,4569.0,4569.0,4567.0,4565.0,4564.0,4561.0,4560.0,4559.0,4558.0,4553.0,4553.0,4552.0,4548.0,4545.0,4545.0,4541.0,4540.0,4538.0,4536.0,4533.0,4532.0,4527.0,4524.0,4524.0,4523.0,4522.0,4519.0,4519.0,4518.0,4518.0,4518.0,4517.0,4515.0,4515.0,4515.0,4514.0,4514.0,4513.0,4513.0,4510.0,4509.0,4507.0,4506.0,4506.0,4506.0,4502.0,4502.0,4501.0,4500.0,4498.0,4497.0,4497.0,4497.0,4494.0,4494.0,4492.0,4491.0,4490.0,4488.0,4488.0,4487.0,4487.0,4486.0,4486.0,4484.0,4482.0,4480.0,4479.0,4479.0,4478.0,4476.0,4475.0,4474.0,4473.0,4473.0,4472.0,4470.0,4468.0,4467.0,4467.0,4466.0,4464.0,4463.0,4462.0,4460.0,4459.0,4459.0,4452.0,4451.0,4450.0,4448.0,4444.0,4443.0,4443.0,4443.0,4441.0,4441.0,4441.0,4440.0,4439.0,4438.0,4436.0,4431.0,4430.0,4428.0,4428.0,4426.0,4423.0,4421.0,4409.0,4405.0,4402.0,4399.0,4397.0,4392.0,4391.0,4380.0,4380.0,4372.0,4365.0,4365.0,4358.0,4350.0,4347.0,4344.0,4342.0,4332.0,4325.0,4322.0,4317.0,4311.0,4303.0,4299.0,4298.0,4296.0,4294.0,4293.0,4293.0,4293.0,4290.0,4286.0,4284.0,4282.0,4278.0,4277.0,4276.0,4276.0,4276.0,4273.0,4272.0,4269.0,4268.0,4265.0,4263.0,4262.0,4262.0,4261.0,4259.0,4251.0,4251.0,4250.0,4250.0,4248.0,4247.0,4245.0,4242.0,4240.0,4236.0,4235.0,4235.0,4234.0,4234.0,4233.0,4233.0,4233.0,4232.0,4230.0,4229.0,4228.0,4228.0,4228.0,4227.0,4227.0,4227.0,4224.0,4220.0,4217.0,4214.0,4214.0,4214.0,4213.0,4211.0,4210.0,4209.0,4208.0,4208.0,4204.0,4204.0,4204.0,4203.0,4202.0,4201.0,4201.0,4201.0,4199.0,4199.0,4194.0,4192.0,4192.0,4192.0,4192.0,4191.0,4191.0,4191.0,4190.0,4190.0,4189.0,4188.0,4188.0,4187.0,4186.0,4186.0,4184.0,4184.0,4179.0,4178.0,4178.0,4178.0,4178.0,4178.0,4177.0,4177.0,4175.0,4174.0,4174.0,4172.0,4171.0,4171.0,4169.0,4169.0,4166.0,4164.0,4164.0,4161.0,4160.0,4159.0,4157.0,4156.0,4154.0,4154.0,4154.0,4153.0,4150.0,4150.0,4149.0,4147.0,4144.0,4144.0,4143.0,4143.0,4142.0,4139.0,4138.0,4135.0,4133.0,4133.0,4128.0,4128.0,4127.0,4127.0,4125.0,4124.0,4123.0,4123.0,4122.0,4119.0,4118.0,4118.0,4115.0,4113.0,4112.0,4111.0,4110.0,4109.0,4108.0,4107.0,4105.0,4105.0,4105.0,4103.0,4103.0,4102.0,4101.0,4092.0,4089.0,4088.0,4086.0,4086.0,4086.0,4085.0,4085.0,4085.0,4084.0,4084.0,4083.0,4082.0,4081.0,4081.0,4079.0,4078.0,4076.0,4075.0,4074.0,4074.0,4063.0,4061.0,4061.0,4061.0,4061.0,4060.0,4059.0,4058.0,4056.0,4056.0,4056.0,4054.0,4050.0,4050.0,4050.0,4050.0,4050.0,4049.0,4049.0,4049.0,4048.0,4046.0,4046.0,4044.0,4044.0,4044.0,4042.0,4041.0,4039.0,4036.0,4035.0,4034.0,4033.0,4033.0,4030.0,4028.0,4028.0,4023.0,4022.0,4016.0,4014.0,4013.0,4012.0,4008.0,4007.0,4005.0,4003.0,4003.0,4000.0,3997.0,3996.0,3994.0,3992.0,3991.0,3988.0,3987.0,3987.0,3987.0,3985.0,3984.0,3982.0,3980.0,3977.0,3977.0,3975.0,3975.0,3971.0,3970.0,3969.0,3969.0,3969.0,3967.0,3967.0,3966.0,3965.0,3965.0,3964.0,3963.0,3961.0,3960.0,3960.0,3956.0,3956.0,3948.0,3947.0,3947.0,3942.0,3942.0,3942.0,3935.0,3934.0,3933.0,3933.0,3932.0,3928.0,3928.0,3927.0,3927.0,3925.0,3924.0,3923.0,3920.0,3918.0,3918.0,3911.0,3910.0,3910.0,3908.0,3905.0,3903.0,3900.0,3900.0,3898.0,3897.0,3896.0,3895.0,3894.0,3894.0,3893.0,3892.0,3892.0,3891.0,3890.0,3890.0,3890.0,3890.0,3890.0,3889.0,3889.0,3888.0,3887.0,3887.0,3887.0,3887.0,3887.0,3886.0,3885.0,3884.0,3883.0,3883.0,3881.0,3881.0,3879.0,3878.0,3878.0,3878.0,3878.0,3878.0,3877.0,3876.0,3875.0,3873.0,3872.0,3872.0,3872.0,3872.0,3869.0,3869.0,3869.0,3868.0,3867.0,3866.0,3866.0,3865.0,3865.0,3864.0,3864.0,3863.0,3862.0,3862.0,3862.0,3861.0,3860.0,3858.0,3858.0,3857.0,3857.0,3854.0,3851.0,3851.0,3850.0,3849.0,3848.0,3848.0,3847.0,3843.0,3843.0,3841.0,3840.0,3840.0,3839.0,3839.0,3839.0,3839.0,3838.0,3837.0,3835.0,3834.0,3831.0,3830.0,3828.0,3827.0,3825.0,3825.0,3824.0,3822.0,3822.0,3821.0,3821.0,3821.0,3820.0,3820.0,3819.0,3817.0,3816.0,3815.0,3815.0,3814.0,3814.0,3813.0,3812.0,3812.0,3811.0,3810.0,3810.0,3810.0,3805.0,3804.0,3803.0,3801.0,3800.0,3800.0,3800.0,3799.0,3799.0,3799.0,3798.0,3795.0,3795.0,3794.0,3794.0,3794.0,3792.0,3791.0,3791.0,3791.0,3790.0,3790.0,3790.0,3790.0,3790.0,3789.0,3787.0,3786.0,3785.0,3784.0,3784.0,3782.0,3779.0,3779.0,3779.0,3778.0,3777.0,3777.0,3776.0,3775.0,3774.0,3774.0,3774.0,3772.0,3772.0,3770.0,3770.0,3768.0,3768.0,3768.0,3768.0,3767.0,3767.0,3767.0,3767.0,3767.0,3767.0,3766.0,3766.0,3765.0,3764.0,3763.0,3762.0,3762.0,3760.0,3760.0,3760.0,3760.0,3760.0,3760.0,3759.0,3757.0,3757.0,3756.0,3756.0,3755.0,3754.0,3754.0,3753.0,3753.0,3753.0,3753.0,3752.0,3750.0,3750.0,3750.0,3749.0,3749.0,3747.0,3746.0,3743.0,3742.0,3741.0,3740.0,3739.0,3738.0,3736.0,3734.0,3732.0,3730.0,3730.0,3729.0,3729.0,3728.0,3728.0,3728.0,3728.0,3728.0,3727.0,3726.0,3725.0,3724.0,3724.0,3724.0,3721.0,3719.0,3716.0,3716.0,3714.0,3714.0,3714.0,3711.0,3709.0,3709.0,3709.0,3709.0,3707.0,3706.0,3705.0,3704.0,3703.0,3701.0,3700.0,3699.0,3699.0,3698.0,3697.0,3697.0,3696.0,3695.0,3695.0,3694.0,3693.0,3693.0,3693.0,3692.0,3692.0,3692.0,3692.0,3692.0,3679.0,3677.0,3677.0,3677.0,3676.0,3674.0,3673.0,3673.0,3673.0,3672.0,3672.0,3671.0,3671.0,3670.0,3669.0,3669.0,3668.0,3668.0,3668.0,3667.0,3667.0,3664.0,3663.0,3661.0,3660.0,3660.0,3659.0,3659.0,3658.0,3657.0,3657.0,3657.0,3656.0,3654.0,3653.0,3652.0,3652.0,3651.0,3651.0,3650.0,3650.0,3649.0,3648.0,3647.0,3646.0,3645.0,3645.0,3645.0,3644.0,3644.0,3643.0,3643.0,3643.0,3643.0,3643.0,3639.0,3639.0,3637.0,3634.0,3634.0,3634.0,3633.0,3633.0,3632.0,3631.0,3630.0,3630.0,3629.0,3629.0,3628.0,3627.0,3626.0,3624.0,3623.0,3623.0,3623.0,3622.0,3618.0,3617.0,3616.0,3616.0,3614.0,3613.0,3611.0,3610.0,3610.0,3607.0,3607.0,3607.0,3605.0,3603.0,3603.0,3603.0,3602.0,3602.0,3600.0,3600.0,3598.0,3598.0,3597.0,3597.0,3595.0,3594.0,3593.0,3592.0,3589.0,3589.0,3588.0,3588.0,3586.0,3585.0,3583.0,3583.0,3581.0,3579.0,3579.0,3578.0,3578.0,3577.0,3573.0,3573.0,3572.0,3572.0,3571.0,3571.0,3570.0,3570.0,3570.0,3565.0,3565.0,3565.0,3565.0,3563.0,3562.0,3561.0,3560.0,3559.0,3559.0,3558.0,3557.0,3557.0,3557.0,3555.0,3554.0,3552.0,3551.0,3551.0,3550.0,3550.0,3548.0,3547.0,3545.0,3544.0,3538.0,3536.0,3534.0,3533.0,3530.0,3527.0,3525.0,3525.0,3524.0,3523.0,3522.0,3521.0,3520.0,3519.0,3519.0,3519.0,3518.0,3516.0,3516.0,3515.0,3513.0,3511.0,3511.0,3511.0,3511.0,3511.0,3509.0,3509.0,3509.0,3507.0,3507.0,3506.0,3506.0,3505.0,3505.0,3503.0,3501.0,3501.0,3500.0,3499.0,3496.0,3496.0,3495.0,3495.0,3495.0,3491.0,3488.0,3488.0,3487.0,3487.0,3486.0,3485.0,3485.0,3482.0,3480.0,3480.0,3478.0,3478.0,3478.0,3477.0,3477.0,3472.0,3472.0,3471.0,3471.0,3468.0,3467.0,3465.0,3464.0,3462.0,3462.0,3462.0,3461.0,3459.0,3459.0,3455.0,3451.0,3450.0,3448.0,3448.0,3447.0,3447.0,3446.0,3445.0,3445.0,3445.0,3444.0,3441.0,3439.0,3439.0,3439.0,3439.0,3439.0,3439.0,3436.0,3435.0,3434.0,3434.0,3433.0,3432.0,3432.0,3431.0,3431.0,3430.0,3429.0,3429.0,3428.0,3427.0,3426.0,3426.0,3425.0,3423.0,3423.0,3420.0,3358.0,3354.0,3303.0,3271.0,3266.0,3235.0,3234.0,3229.0,3228.0,3228.0,3207.0,3205.0,3201.0,3200.0,3199.0,3197.0,3194.0,3189.0,3189.0,3185.0,3185.0,3180.0,3178.0,3171.0,3162.0,3160.0,3157.0,3157.0,3155.0,3150.0,3150.0,3150.0,3149.0,3148.0,3148.0,3147.0,3146.0,3146.0,3144.0,3144.0,3144.0,3143.0,3143.0,3142.0,3141.0,3139.0,3138.0,3137.0,3136.0,3135.0,3134.0,3134.0,3134.0,3134.0,3133.0,3133.0,3132.0,3131.0,3130.0,3129.0,3129.0,3128.0,3128.0,3128.0,3128.0,3127.0,3127.0,3127.0,3127.0,3126.0,3126.0,3126.0,3125.0,3125.0,3124.0,3124.0,3124.0,3123.0,3121.0,3121.0,3121.0,3121.0,3121.0,3120.0,3120.0,3120.0,3119.0,3119.0,3119.0,3119.0,3118.0,3118.0,3117.0,3116.0,3116.0,3115.0,3115.0,3115.0,3114.0,3114.0,3114.0,3112.0,3111.0,3110.0,3110.0,3110.0,3109.0,3109.0,3109.0,3108.0,3108.0,3107.0,3107.0,3106.0,3104.0,3104.0,3103.0,3103.0,3102.0,3102.0,3101.0,3100.0,3100.0,3098.0,3098.0,3097.0,3095.0,3095.0,3095.0,3094.0,3094.0,3094.0,3092.0,3091.0,3090.0,3090.0,3090.0,3089.0,3089.0,3088.0,3087.0,3087.0,3086.0,3086.0,3086.0,3086.0,3084.0,3083.0,3082.0,3082.0,3079.0,3078.0,3078.0,3076.0,3075.0,3075.0,3074.0,3074.0,3073.0,3073.0,3073.0,3072.0,3071.0,3071.0,3071.0,3071.0,3070.0,3069.0,3068.0,3066.0,3065.0,3065.0,3065.0,3064.0,3062.0,3062.0,3061.0,3061.0,3061.0,3061.0,3060.0,3058.0,3057.0,3057.0,3056.0,3056.0,3056.0,3054.0,3054.0,3053.0,3053.0,3053.0,3052.0,3051.0,3051.0,3051.0,3050.0,3049.0,3049.0,3048.0,3047.0,3046.0,3045.0,3044.0,3044.0,3044.0,3043.0,3043.0,3043.0,3042.0,3042.0,3042.0,3042.0,3040.0,3040.0,3039.0,3039.0,3039.0,3038.0,3037.0,3037.0,3037.0,3036.0,3035.0,3035.0,3034.0,3034.0,3033.0,3033.0,3033.0,3033.0,3032.0,3031.0,3030.0,3030.0,3030.0,3029.0,3029.0,3028.0,3025.0,3025.0,3023.0,3023.0,3023.0,3022.0,3022.0,3022.0,3021.0,3020.0,3019.0,3019.0,3019.0,3019.0,3018.0,3017.0,3017.0,3017.0,3016.0,3016.0,3016.0,3014.0,3013.0,3012.0,3010.0,3009.0,3009.0,3009.0,3009.0,3009.0,3009.0,3008.0,3008.0,3007.0,3007.0,3006.0,3006.0,3005.0,3005.0,3005.0,3004.0,3003.0,3003.0,3001.0,3001.0,3001.0,3000.0,3000.0,2994.0,2989.0,2988.0,2987.0,2982.0,2979.0,2977.0,2972.0,2969.0,2960.0,2957.0,2955.0,2952.0,2948.0,2943.0,2897.0,2872.0,2869.0,2867.0,2860.0,2859.0,2857.0,2853.0,2851.0,2850.0,2846.0,2844.0,2844.0,2839.0,2839.0,2839.0,2836.0,2835.0,2833.0,2831.0,2830.0,2826.0,2826.0,2825.0,2825.0,2824.0,2817.0,2815.0,2813.0,2811.0,2811.0,2808.0,2805.0,2801.0,2801.0,2801.0,2798.0,2798.0,2792.0,2790.0,2790.0,2789.0,2787.0,2786.0,2786.0,2786.0,2782.0,2782.0,2782.0,2781.0,2781.0,2779.0,2771.0,2766.0,2765.0,2763.0,2762.0,2754.0,2751.0,2748.0,2747.0,2746.0,2746.0,2743.0,2742.0,2740.0,2739.0,2737.0,2733.0,2700.0,2400.0,2397.0,2397.0,2396.0,2396.0,2395.0,2395.0,2394.0,2393.0,2392.0,2392.0,2390.0,2389.0,2389.0,2388.0,2388.0,2386.0,2384.0,2384.0,2383.0,2383.0,2382.0,2382.0,2381.0,2380.0,2379.0,2378.0,2375.0,2375.0,2373.0,2372.0,2372.0,2372.0,2371.0,2370.0,2370.0,2368.0,2367.0,2367.0,2367.0,2363.0,2362.0,2361.0,2361.0,2360.0,2360.0,2360.0,2359.0,2358.0,2356.0,2355.0,2354.0,2354.0,2353.0,2352.0,2350.0,2350.0,2349.0,2347.0,2346.0,2345.0,2340.0,2339.0,2339.0,2338.0,2336.0,2334.0,2333.0,2332.0,2330.0,2327.0,2326.0,2324.0,2324.0,2323.0,2322.0,2320.0,2320.0,2318.0,2313.0,2313.0,2312.0,2312.0,2312.0,2312.0,2311.0,2309.0,2308.0,2307.0,2305.0,2304.0,2304.0,2304.0,2304.0,2304.0,2303.0,2303.0,2302.0,2302.0,2301.0,2301.0,2299.0,2298.0,2293.0,2292.0,2290.0,2288.0,2281.0,2280.0,2280.0,2280.0,2280.0,2277.0,2276.0,2275.0,2275.0,2274.0,2274.0,2273.0,2273.0,2272.0,2272.0,2271.0,2271.0,2267.0,2267.0,2266.0,2264.0,2261.0,2260.0,2257.0,2256.0,2256.0,2256.0,2256.0,2254.0,2252.0,2250.0,2245.0,2245.0,2243.0,2230.0,2217.0,2217.0,2216.0,2211.0,2195.0,2188.0,2187.0,2184.0,2183.0,2183.0,2183.0,2180.0,2180.0,2180.0,2178.0,2177.0,2176.0,2175.0,2173.0,2171.0,2167.0,2165.0,2163.0,2163.0,2162.0,2160.0,2160.0,2159.0,2159.0,2157.0,2152.0,2150.0,2149.0,2148.0,2148.0,2148.0,2147.0,2147.0,2146.0,2145.0,2144.0,2143.0,2140.0,2139.0,2139.0,2138.0,2133.0,2131.0,2130.0,2130.0,2130.0,2129.0,2128.0,2126.0,2124.0,2123.0,2120.0,2119.0,2118.0,2116.0,2114.0,2113.0,2112.0,2111.0,2111.0,2109.0,2106.0,2106.0,2106.0,2105.0,2100.0,2091.0,2088.0,2088.0,2087.0,2086.0,2086.0,2082.0,2076.0,2076.0,2076.0,2075.0,2074.0,2073.0,2072.0,2071.0,2069.0,2064.0,2062.0,2062.0,2057.0,2056.0,2056.0,2054.0,2054.0,2053.0,2053.0,2052.0,2049.0,2047.0,2046.0,2046.0,2045.0,2045.0,2042.0,2041.0,2032.0,2030.0,2027.0,2025.0,2023.0,2023.0,2015.0,2015.0,2014.0,2013.0,2013.0,2012.0,2012.0,2011.0,2010.0,2010.0,2007.0,2007.0,2006.0,2005.0,2005.0,2004.0,2002.0,2002.0,2002.0,2001.0,2000.0,1998.0,1996.0,1994.0,1994.0,1993.0,1993.0,1988.0,1988.0,1985.0,1979.0,1976.0,1973.0,1972.0,1971.0,1969.0,1968.0,1965.0,1964.0,1963.0,1961.0,1960.0,1959.0,1958.0,1955.0,1952.0,1951.0,1951.0,1948.0,1948.0,1947.0,1945.0,1943.0,1943.0,1943.0,1939.0,1939.0,1939.0,1937.0,1931.0,1930.0,1926.0,1923.0,1921.0,1919.0,1917.0,1912.0,1909.0,1905.0,1904.0,1895.0,1895.0,1889.0,1886.0,1883.0,1882.0,1881.0,1881.0,1881.0,1879.0,1876.0,1876.0,1875.0,1873.0,1873.0,1872.0,1871.0,1871.0,1871.0,1871.0,1868.0,1865.0,1865.0,1864.0,1863.0,1861.0,1861.0,1861.0,1860.0,1859.0,1858.0,1858.0,1857.0,1855.0,1854.0,1853.0,1852.0,1851.0,1849.0,1849.0,1849.0,1848.0,1848.0,1847.0,1846.0,1846.0,1844.0,1840.0,1838.0,1837.0,1836.0,1835.0,1834.0,1834.0,1832.0,1831.0,1829.0,1828.0,1828.0,1826.0,1820.0,1818.0,1818.0,1816.0,1813.0,1808.0,1805.0,1803.0,1799.0,1798.0,1796.0,1795.0,1794.0,1794.0,1794.0,1790.0,1789.0,1789.0,1788.0,1788.0,1784.0,1784.0,1777.0,1776.0,1776.0,1775.0,1774.0,1773.0,1768.0,1768.0,1767.0,1767.0,1763.0,1763.0,1762.0,1760.0,1759.0,1758.0,1758.0,1757.0,1756.0,1753.0,1751.0,1751.0,1750.0,1750.0,1749.0,1748.0,1748.0,1747.0,1746.0,1744.0,1744.0,1742.0,1739.0,1739.0,1738.0,1738.0,1738.0,1737.0,1737.0,1736.0,1736.0,1735.0,1735.0,1735.0,1734.0,1733.0,1732.0,1731.0,1730.0,1730.0,1728.0,1728.0,1726.0,1726.0,1723.0,1722.0,1722.0,1722.0,1721.0,1721.0,1720.0,1719.0,1717.0,1715.0,1713.0,1710.0,1707.0,1706.0,1705.0,1704.0,1695.0,1692.0,1690.0,1689.0,1681.0,1674.0,1674.0,1670.0,1665.0,1663.0,1663.0,1659.0,1656.0,1654.0,1649.0,1630.0,1629.0,1626.0,1620.0,1612.0,1609.0,1606.0,1601.0,1600.0,1599.0,1596.0,1591.0,1591.0,1590.0,1590.0,1584.0,1582.0,1576.0,1570.0,1570.0,1570.0,1570.0,1569.0,1568.0,1563.0,1561.0,1560.0,1552.0,1545.0,1542.0,1540.0,1538.0,1538.0,1536.0,1535.0,1531.0,1529.0,1527.0,1527.0,1526.0,1523.0,1521.0,1515.0,1508.0,1504.0,1502.0,1501.0,1501.0,1500.0,1498.0,1497.0,1495.0,1493.0,1493.0,1492.0,1490.0,1489.0,1488.0,1488.0,1486.0,1485.0,1475.0,1474.0,1472.0,1469.0,1467.0,1465.0,1462.0,1453.0,1450.0,1440.0,1436.0,1435.0,1435.0,1435.0,1432.0,1429.0,1427.0,1426.0,1426.0,1425.0,1425.0,1423.0,1422.0,1419.0,1417.0,1417.0,1415.0,1413.0,1413.0,1410.0,1410.0,1409.0,1409.0,1407.0,1405.0,1404.0,1403.0,1402.0,1400.0,1397.0,1394.0,1391.0,1388.0,1385.0,1385.0,1384.0,1384.0,1383.0,1381.0,1381.0,1378.0,1375.0,1374.0,1370.0,1078.0,1076.0,1075.0,1075.0,1073.0,1073.0,1072.0,1069.0,1064.0,1059.0,1057.0,1051.0,1040.0,1040.0,1039.0,960.0,959.0,959.0,958.0,957.0,956.0,954.0,953.0,952.0,952.0,951.0,951.0,950.0,950.0,948.0,945.0,944.0,942.0,942.0,940.0,936.0,935.0,933.0,931.0,931.0,929.0,928.0,927.0,927.0,925.0,925.0,897.0,893.0,883.0,883.0,876.0,864.0,833.0,819.0,813.0,800.0,796.0,785.0,782.0,780.0,780.0,777.0,777.0,776.0,776.0,775.0,774.0,773.0,773.0,772.0,772.0,771.0,770.0,768.0,768.0,766.0,766.0,765.0,765.0,763.0,762.0,762.0,762.0,761.0,761.0,760.0,760.0,759.0,757.0,756.0,756.0,754.0,750.0,749.0,749.0,748.0,748.0,748.0,746.0,745.0,745.0,745.0,745.0,744.0,744.0,744.0,744.0,743.0,743.0,741.0,741.0,740.0,740.0,740.0,739.0,738.0,736.0,732.0,720.0,719.0,700.0,697.0,688.0,686.0,686.0,591.0,589.0,588.0,587.0,585.0,585.0,584.0,582.0,580.0,579.0,575.0,575.0,574.0,572.0,572.0,570.0,569.0,569.0,568.0,567.0,563.0,563.0,563.0,562.0,560.0,560.0,557.0,555.0,407.0,396.0,384.0,382.0,382.0,382.0,381.0,370.0,367.0,213.0,206.0,188.0],\"x0\":\" \",\"xaxis\":\"x\",\"y0\":\" \",\"yaxis\":\"y\",\"type\":\"box\"}],                        {\"template\":{\"data\":{\"histogram2dcontour\":[{\"type\":\"histogram2dcontour\",\"colorbar\":{\"outlinewidth\":0,\"ticks\":\"\"},\"colorscale\":[[0.0,\"#0d0887\"],[0.1111111111111111,\"#46039f\"],[0.2222222222222222,\"#7201a8\"],[0.3333333333333333,\"#9c179e\"],[0.4444444444444444,\"#bd3786\"],[0.5555555555555556,\"#d8576b\"],[0.6666666666666666,\"#ed7953\"],[0.7777777777777778,\"#fb9f3a\"],[0.8888888888888888,\"#fdca26\"],[1.0,\"#f0f921\"]]}],\"choropleth\":[{\"type\":\"choropleth\",\"colorbar\":{\"outlinewidth\":0,\"ticks\":\"\"}}],\"histogram2d\":[{\"type\":\"histogram2d\",\"colorbar\":{\"outlinewidth\":0,\"ticks\":\"\"},\"colorscale\":[[0.0,\"#0d0887\"],[0.1111111111111111,\"#46039f\"],[0.2222222222222222,\"#7201a8\"],[0.3333333333333333,\"#9c179e\"],[0.4444444444444444,\"#bd3786\"],[0.5555555555555556,\"#d8576b\"],[0.6666666666666666,\"#ed7953\"],[0.7777777777777778,\"#fb9f3a\"],[0.8888888888888888,\"#fdca26\"],[1.0,\"#f0f921\"]]}],\"heatmap\":[{\"type\":\"heatmap\",\"colorbar\":{\"outlinewidth\":0,\"ticks\":\"\"},\"colorscale\":[[0.0,\"#0d0887\"],[0.1111111111111111,\"#46039f\"],[0.2222222222222222,\"#7201a8\"],[0.3333333333333333,\"#9c179e\"],[0.4444444444444444,\"#bd3786\"],[0.5555555555555556,\"#d8576b\"],[0.6666666666666666,\"#ed7953\"],[0.7777777777777778,\"#fb9f3a\"],[0.8888888888888888,\"#fdca26\"],[1.0,\"#f0f921\"]]}],\"heatmapgl\":[{\"type\":\"heatmapgl\",\"colorbar\":{\"outlinewidth\":0,\"ticks\":\"\"},\"colorscale\":[[0.0,\"#0d0887\"],[0.1111111111111111,\"#46039f\"],[0.2222222222222222,\"#7201a8\"],[0.3333333333333333,\"#9c179e\"],[0.4444444444444444,\"#bd3786\"],[0.5555555555555556,\"#d8576b\"],[0.6666666666666666,\"#ed7953\"],[0.7777777777777778,\"#fb9f3a\"],[0.8888888888888888,\"#fdca26\"],[1.0,\"#f0f921\"]]}],\"contourcarpet\":[{\"type\":\"contourcarpet\",\"colorbar\":{\"outlinewidth\":0,\"ticks\":\"\"}}],\"contour\":[{\"type\":\"contour\",\"colorbar\":{\"outlinewidth\":0,\"ticks\":\"\"},\"colorscale\":[[0.0,\"#0d0887\"],[0.1111111111111111,\"#46039f\"],[0.2222222222222222,\"#7201a8\"],[0.3333333333333333,\"#9c179e\"],[0.4444444444444444,\"#bd3786\"],[0.5555555555555556,\"#d8576b\"],[0.6666666666666666,\"#ed7953\"],[0.7777777777777778,\"#fb9f3a\"],[0.8888888888888888,\"#fdca26\"],[1.0,\"#f0f921\"]]}],\"surface\":[{\"type\":\"surface\",\"colorbar\":{\"outlinewidth\":0,\"ticks\":\"\"},\"colorscale\":[[0.0,\"#0d0887\"],[0.1111111111111111,\"#46039f\"],[0.2222222222222222,\"#7201a8\"],[0.3333333333333333,\"#9c179e\"],[0.4444444444444444,\"#bd3786\"],[0.5555555555555556,\"#d8576b\"],[0.6666666666666666,\"#ed7953\"],[0.7777777777777778,\"#fb9f3a\"],[0.8888888888888888,\"#fdca26\"],[1.0,\"#f0f921\"]]}],\"mesh3d\":[{\"type\":\"mesh3d\",\"colorbar\":{\"outlinewidth\":0,\"ticks\":\"\"}}],\"scatter\":[{\"fillpattern\":{\"fillmode\":\"overlay\",\"size\":10,\"solidity\":0.2},\"type\":\"scatter\"}],\"parcoords\":[{\"type\":\"parcoords\",\"line\":{\"colorbar\":{\"outlinewidth\":0,\"ticks\":\"\"}}}],\"scatterpolargl\":[{\"type\":\"scatterpolargl\",\"marker\":{\"colorbar\":{\"outlinewidth\":0,\"ticks\":\"\"}}}],\"bar\":[{\"error_x\":{\"color\":\"#2a3f5f\"},\"error_y\":{\"color\":\"#2a3f5f\"},\"marker\":{\"line\":{\"color\":\"#E5ECF6\",\"width\":0.5},\"pattern\":{\"fillmode\":\"overlay\",\"size\":10,\"solidity\":0.2}},\"type\":\"bar\"}],\"scattergeo\":[{\"type\":\"scattergeo\",\"marker\":{\"colorbar\":{\"outlinewidth\":0,\"ticks\":\"\"}}}],\"scatterpolar\":[{\"type\":\"scatterpolar\",\"marker\":{\"colorbar\":{\"outlinewidth\":0,\"ticks\":\"\"}}}],\"histogram\":[{\"marker\":{\"pattern\":{\"fillmode\":\"overlay\",\"size\":10,\"solidity\":0.2}},\"type\":\"histogram\"}],\"scattergl\":[{\"type\":\"scattergl\",\"marker\":{\"colorbar\":{\"outlinewidth\":0,\"ticks\":\"\"}}}],\"scatter3d\":[{\"type\":\"scatter3d\",\"line\":{\"colorbar\":{\"outlinewidth\":0,\"ticks\":\"\"}},\"marker\":{\"colorbar\":{\"outlinewidth\":0,\"ticks\":\"\"}}}],\"scattermapbox\":[{\"type\":\"scattermapbox\",\"marker\":{\"colorbar\":{\"outlinewidth\":0,\"ticks\":\"\"}}}],\"scatterternary\":[{\"type\":\"scatterternary\",\"marker\":{\"colorbar\":{\"outlinewidth\":0,\"ticks\":\"\"}}}],\"scattercarpet\":[{\"type\":\"scattercarpet\",\"marker\":{\"colorbar\":{\"outlinewidth\":0,\"ticks\":\"\"}}}],\"carpet\":[{\"aaxis\":{\"endlinecolor\":\"#2a3f5f\",\"gridcolor\":\"white\",\"linecolor\":\"white\",\"minorgridcolor\":\"white\",\"startlinecolor\":\"#2a3f5f\"},\"baxis\":{\"endlinecolor\":\"#2a3f5f\",\"gridcolor\":\"white\",\"linecolor\":\"white\",\"minorgridcolor\":\"white\",\"startlinecolor\":\"#2a3f5f\"},\"type\":\"carpet\"}],\"table\":[{\"cells\":{\"fill\":{\"color\":\"#EBF0F8\"},\"line\":{\"color\":\"white\"}},\"header\":{\"fill\":{\"color\":\"#C8D4E3\"},\"line\":{\"color\":\"white\"}},\"type\":\"table\"}],\"barpolar\":[{\"marker\":{\"line\":{\"color\":\"#E5ECF6\",\"width\":0.5},\"pattern\":{\"fillmode\":\"overlay\",\"size\":10,\"solidity\":0.2}},\"type\":\"barpolar\"}],\"pie\":[{\"automargin\":true,\"type\":\"pie\"}]},\"layout\":{\"autotypenumbers\":\"strict\",\"colorway\":[\"#636efa\",\"#EF553B\",\"#00cc96\",\"#ab63fa\",\"#FFA15A\",\"#19d3f3\",\"#FF6692\",\"#B6E880\",\"#FF97FF\",\"#FECB52\"],\"font\":{\"color\":\"#2a3f5f\"},\"hovermode\":\"closest\",\"hoverlabel\":{\"align\":\"left\"},\"paper_bgcolor\":\"white\",\"plot_bgcolor\":\"#E5ECF6\",\"polar\":{\"bgcolor\":\"#E5ECF6\",\"angularaxis\":{\"gridcolor\":\"white\",\"linecolor\":\"white\",\"ticks\":\"\"},\"radialaxis\":{\"gridcolor\":\"white\",\"linecolor\":\"white\",\"ticks\":\"\"}},\"ternary\":{\"bgcolor\":\"#E5ECF6\",\"aaxis\":{\"gridcolor\":\"white\",\"linecolor\":\"white\",\"ticks\":\"\"},\"baxis\":{\"gridcolor\":\"white\",\"linecolor\":\"white\",\"ticks\":\"\"},\"caxis\":{\"gridcolor\":\"white\",\"linecolor\":\"white\",\"ticks\":\"\"}},\"coloraxis\":{\"colorbar\":{\"outlinewidth\":0,\"ticks\":\"\"}},\"colorscale\":{\"sequential\":[[0.0,\"#0d0887\"],[0.1111111111111111,\"#46039f\"],[0.2222222222222222,\"#7201a8\"],[0.3333333333333333,\"#9c179e\"],[0.4444444444444444,\"#bd3786\"],[0.5555555555555556,\"#d8576b\"],[0.6666666666666666,\"#ed7953\"],[0.7777777777777778,\"#fb9f3a\"],[0.8888888888888888,\"#fdca26\"],[1.0,\"#f0f921\"]],\"sequentialminus\":[[0.0,\"#0d0887\"],[0.1111111111111111,\"#46039f\"],[0.2222222222222222,\"#7201a8\"],[0.3333333333333333,\"#9c179e\"],[0.4444444444444444,\"#bd3786\"],[0.5555555555555556,\"#d8576b\"],[0.6666666666666666,\"#ed7953\"],[0.7777777777777778,\"#fb9f3a\"],[0.8888888888888888,\"#fdca26\"],[1.0,\"#f0f921\"]],\"diverging\":[[0,\"#8e0152\"],[0.1,\"#c51b7d\"],[0.2,\"#de77ae\"],[0.3,\"#f1b6da\"],[0.4,\"#fde0ef\"],[0.5,\"#f7f7f7\"],[0.6,\"#e6f5d0\"],[0.7,\"#b8e186\"],[0.8,\"#7fbc41\"],[0.9,\"#4d9221\"],[1,\"#276419\"]]},\"xaxis\":{\"gridcolor\":\"white\",\"linecolor\":\"white\",\"ticks\":\"\",\"title\":{\"standoff\":15},\"zerolinecolor\":\"white\",\"automargin\":true,\"zerolinewidth\":2},\"yaxis\":{\"gridcolor\":\"white\",\"linecolor\":\"white\",\"ticks\":\"\",\"title\":{\"standoff\":15},\"zerolinecolor\":\"white\",\"automargin\":true,\"zerolinewidth\":2},\"scene\":{\"xaxis\":{\"backgroundcolor\":\"#E5ECF6\",\"gridcolor\":\"white\",\"linecolor\":\"white\",\"showbackground\":true,\"ticks\":\"\",\"zerolinecolor\":\"white\",\"gridwidth\":2},\"yaxis\":{\"backgroundcolor\":\"#E5ECF6\",\"gridcolor\":\"white\",\"linecolor\":\"white\",\"showbackground\":true,\"ticks\":\"\",\"zerolinecolor\":\"white\",\"gridwidth\":2},\"zaxis\":{\"backgroundcolor\":\"#E5ECF6\",\"gridcolor\":\"white\",\"linecolor\":\"white\",\"showbackground\":true,\"ticks\":\"\",\"zerolinecolor\":\"white\",\"gridwidth\":2}},\"shapedefaults\":{\"line\":{\"color\":\"#2a3f5f\"}},\"annotationdefaults\":{\"arrowcolor\":\"#2a3f5f\",\"arrowhead\":0,\"arrowwidth\":1},\"geo\":{\"bgcolor\":\"white\",\"landcolor\":\"#E5ECF6\",\"subunitcolor\":\"white\",\"showland\":true,\"showlakes\":true,\"lakecolor\":\"white\"},\"title\":{\"x\":0.05},\"mapbox\":{\"style\":\"light\"}}},\"xaxis\":{\"anchor\":\"y\",\"domain\":[0.0,1.0],\"title\":{\"text\":\"Amounts (rupees)\"}},\"yaxis\":{\"anchor\":\"x\",\"domain\":[0.0,1.0]},\"legend\":{\"tracegroupgap\":0},\"margin\":{\"t\":60},\"boxmode\":\"group\",\"title\":{\"text\":\"Distribution of amounts\"},\"height\":400,\"width\":800,\"showlegend\":false},                        {\"responsive\": true}                    ).then(function(){\n",
       "                            \n",
       "var gd = document.getElementById('26e10803-abd7-4b01-8262-59856a9e685f');\n",
       "var x = new MutationObserver(function (mutations, observer) {{\n",
       "        var display = window.getComputedStyle(gd).display;\n",
       "        if (!display || display === 'none') {{\n",
       "            console.log([gd, 'removed!']);\n",
       "            Plotly.purge(gd);\n",
       "            observer.disconnect();\n",
       "        }}\n",
       "}});\n",
       "\n",
       "// Listen for the removal of the full notebook cells\n",
       "var notebookContainer = gd.closest('#notebook-container');\n",
       "if (notebookContainer) {{\n",
       "    x.observe(notebookContainer, {childList: true});\n",
       "}}\n",
       "\n",
       "// Listen for the clearing of the current output cell\n",
       "var outputEl = gd.closest('.output');\n",
       "if (outputEl) {{\n",
       "    x.observe(outputEl, {childList: true});\n",
       "}}\n",
       "\n",
       "                        })                };                });            </script>        </div>"
      ]
     },
     "metadata": {},
     "output_type": "display_data"
    }
   ],
   "source": [
    "fig=px.box(df, x=\"amount\", points='all')\n",
    "\n",
    "fig.update_layout(title=\"Distribution of amounts\", \n",
    "                  height=400, \n",
    "                  width=800,  \n",
    "                  showlegend=False, \n",
    "                  xaxis_title_text='Amounts (rupees)')\n",
    "\n",
    "fig.show()"
   ]
  },
  {
   "cell_type": "markdown",
   "id": "77fa77bd",
   "metadata": {
    "papermill": {
     "duration": 0.049954,
     "end_time": "2023-10-31T05:07:53.894157",
     "exception": false,
     "start_time": "2023-10-31T05:07:53.844203",
     "status": "completed"
    },
    "tags": []
   },
   "source": [
    "- Out of 2350 products, the top 10 most ordered products have the following product IDs: P00265242 (53), P00110942 (44), P00184942 (37), P00237542 (35), P00112142 (34), P00114942 (33), P00110742 (32), P00110842 (30), P00112542 (30), P00145042 (30).\n",
    "- There are more female customers (7832, which is 69.7%) compared to male customers (3407, which is 30.3%).\n",
    "- Most customers are 26-35 years old (4541).\n",
    "- There are more unmarried customers (6518, which is 58%) than married customers (4721, which is 42%).\n",
    "- Uttar Pradesh is the state with the most number of orders (1944) followed by Maharashtra (1525), Karnataka (1304), and Delhi (1104). Telangana is the state with the least number of orders (125).\n",
    "- Most orders are from the central zone of India (4289), while the eastern zone of India has the least number of orders (814).\n",
    "- Most customers work in the IT sector (1583). Other popular occupations among customers include healthcare (1408), aviation (1310), and banking (1137). Agriculture is the least popular occupation among customers (283).\n",
    "- Among the 18 product categories, clothing & apparel (2655), food (2490), and electronics & gadgets (2087) are the most popular categories with the most number of orders. Hand & power tools is the category with the least number of orders (26).\n",
    "- While the distribution of number of orders based on the number of units ordered is almost even, most orders are for 2 units (2893).\n",
    "- Most orders have an amount in the range of 5,500 to 12,500 rupees. The mean amount for orders is Rs 9453.61."
   ]
  },
  {
   "cell_type": "markdown",
   "id": "0c7a0054",
   "metadata": {
    "papermill": {
     "duration": 0.050959,
     "end_time": "2023-10-31T05:07:53.995630",
     "exception": false,
     "start_time": "2023-10-31T05:07:53.944671",
     "status": "completed"
    },
    "tags": []
   },
   "source": [
    "### Multivariate analysis"
   ]
  },
  {
   "cell_type": "markdown",
   "id": "08785867",
   "metadata": {
    "papermill": {
     "duration": 0.049653,
     "end_time": "2023-10-31T05:07:54.096218",
     "exception": false,
     "start_time": "2023-10-31T05:07:54.046565",
     "status": "completed"
    },
    "tags": []
   },
   "source": [
    "Visualizing the top 10 products that generate the most revenue by analyzing the total amount spent by customers for each product"
   ]
  },
  {
   "cell_type": "code",
   "execution_count": 49,
   "id": "280bd71e",
   "metadata": {
    "execution": {
     "iopub.execute_input": "2023-10-31T05:07:54.197192Z",
     "iopub.status.busy": "2023-10-31T05:07:54.196800Z",
     "iopub.status.idle": "2023-10-31T05:07:54.289869Z",
     "shell.execute_reply": "2023-10-31T05:07:54.288739Z"
    },
    "papermill": {
     "duration": 0.146499,
     "end_time": "2023-10-31T05:07:54.292384",
     "exception": false,
     "start_time": "2023-10-31T05:07:54.145885",
     "status": "completed"
    },
    "tags": []
   },
   "outputs": [
    {
     "data": {
      "text/html": [
       "<div>                            <div id=\"89f0aa20-6b74-4349-828a-2ce3ebd2c2af\" class=\"plotly-graph-div\" style=\"height:500px; width:800px;\"></div>            <script type=\"text/javascript\">                require([\"plotly\"], function(Plotly) {                    window.PLOTLYENV=window.PLOTLYENV || {};                                    if (document.getElementById(\"89f0aa20-6b74-4349-828a-2ce3ebd2c2af\")) {                    Plotly.newPlot(                        \"89f0aa20-6b74-4349-828a-2ce3ebd2c2af\",                        [{\"alignmentgroup\":\"True\",\"hovertemplate\":\"product_category=Food\\u003cbr\\u003eproduct_id=%{x}\\u003cbr\\u003eamount=%{y}\\u003cextra\\u003e\\u003c\\u002fextra\\u003e\",\"legendgroup\":\"Food\",\"marker\":{\"color\":\"#636efa\",\"pattern\":{\"shape\":\"\"}},\"name\":\"Food\",\"offsetgroup\":\"Food\",\"orientation\":\"v\",\"showlegend\":true,\"textposition\":\"auto\",\"texttemplate\":\"%{y}\",\"x\":[\"P00265242\",\"P00058042\",\"P00251242\",\"P00184942\",\"P00237542\",\"P00073842\",\"P00110942\",\"P00112142\",\"P00216342\",\"P00110742\"],\"xaxis\":\"x\",\"y\":[237790.0,155362.0,137187.0,136993.0,136881.0,136545.0,132891.0,132265.0,131243.0,128404.0],\"yaxis\":\"y\",\"type\":\"bar\"}],                        {\"template\":{\"data\":{\"histogram2dcontour\":[{\"type\":\"histogram2dcontour\",\"colorbar\":{\"outlinewidth\":0,\"ticks\":\"\"},\"colorscale\":[[0.0,\"#0d0887\"],[0.1111111111111111,\"#46039f\"],[0.2222222222222222,\"#7201a8\"],[0.3333333333333333,\"#9c179e\"],[0.4444444444444444,\"#bd3786\"],[0.5555555555555556,\"#d8576b\"],[0.6666666666666666,\"#ed7953\"],[0.7777777777777778,\"#fb9f3a\"],[0.8888888888888888,\"#fdca26\"],[1.0,\"#f0f921\"]]}],\"choropleth\":[{\"type\":\"choropleth\",\"colorbar\":{\"outlinewidth\":0,\"ticks\":\"\"}}],\"histogram2d\":[{\"type\":\"histogram2d\",\"colorbar\":{\"outlinewidth\":0,\"ticks\":\"\"},\"colorscale\":[[0.0,\"#0d0887\"],[0.1111111111111111,\"#46039f\"],[0.2222222222222222,\"#7201a8\"],[0.3333333333333333,\"#9c179e\"],[0.4444444444444444,\"#bd3786\"],[0.5555555555555556,\"#d8576b\"],[0.6666666666666666,\"#ed7953\"],[0.7777777777777778,\"#fb9f3a\"],[0.8888888888888888,\"#fdca26\"],[1.0,\"#f0f921\"]]}],\"heatmap\":[{\"type\":\"heatmap\",\"colorbar\":{\"outlinewidth\":0,\"ticks\":\"\"},\"colorscale\":[[0.0,\"#0d0887\"],[0.1111111111111111,\"#46039f\"],[0.2222222222222222,\"#7201a8\"],[0.3333333333333333,\"#9c179e\"],[0.4444444444444444,\"#bd3786\"],[0.5555555555555556,\"#d8576b\"],[0.6666666666666666,\"#ed7953\"],[0.7777777777777778,\"#fb9f3a\"],[0.8888888888888888,\"#fdca26\"],[1.0,\"#f0f921\"]]}],\"heatmapgl\":[{\"type\":\"heatmapgl\",\"colorbar\":{\"outlinewidth\":0,\"ticks\":\"\"},\"colorscale\":[[0.0,\"#0d0887\"],[0.1111111111111111,\"#46039f\"],[0.2222222222222222,\"#7201a8\"],[0.3333333333333333,\"#9c179e\"],[0.4444444444444444,\"#bd3786\"],[0.5555555555555556,\"#d8576b\"],[0.6666666666666666,\"#ed7953\"],[0.7777777777777778,\"#fb9f3a\"],[0.8888888888888888,\"#fdca26\"],[1.0,\"#f0f921\"]]}],\"contourcarpet\":[{\"type\":\"contourcarpet\",\"colorbar\":{\"outlinewidth\":0,\"ticks\":\"\"}}],\"contour\":[{\"type\":\"contour\",\"colorbar\":{\"outlinewidth\":0,\"ticks\":\"\"},\"colorscale\":[[0.0,\"#0d0887\"],[0.1111111111111111,\"#46039f\"],[0.2222222222222222,\"#7201a8\"],[0.3333333333333333,\"#9c179e\"],[0.4444444444444444,\"#bd3786\"],[0.5555555555555556,\"#d8576b\"],[0.6666666666666666,\"#ed7953\"],[0.7777777777777778,\"#fb9f3a\"],[0.8888888888888888,\"#fdca26\"],[1.0,\"#f0f921\"]]}],\"surface\":[{\"type\":\"surface\",\"colorbar\":{\"outlinewidth\":0,\"ticks\":\"\"},\"colorscale\":[[0.0,\"#0d0887\"],[0.1111111111111111,\"#46039f\"],[0.2222222222222222,\"#7201a8\"],[0.3333333333333333,\"#9c179e\"],[0.4444444444444444,\"#bd3786\"],[0.5555555555555556,\"#d8576b\"],[0.6666666666666666,\"#ed7953\"],[0.7777777777777778,\"#fb9f3a\"],[0.8888888888888888,\"#fdca26\"],[1.0,\"#f0f921\"]]}],\"mesh3d\":[{\"type\":\"mesh3d\",\"colorbar\":{\"outlinewidth\":0,\"ticks\":\"\"}}],\"scatter\":[{\"fillpattern\":{\"fillmode\":\"overlay\",\"size\":10,\"solidity\":0.2},\"type\":\"scatter\"}],\"parcoords\":[{\"type\":\"parcoords\",\"line\":{\"colorbar\":{\"outlinewidth\":0,\"ticks\":\"\"}}}],\"scatterpolargl\":[{\"type\":\"scatterpolargl\",\"marker\":{\"colorbar\":{\"outlinewidth\":0,\"ticks\":\"\"}}}],\"bar\":[{\"error_x\":{\"color\":\"#2a3f5f\"},\"error_y\":{\"color\":\"#2a3f5f\"},\"marker\":{\"line\":{\"color\":\"#E5ECF6\",\"width\":0.5},\"pattern\":{\"fillmode\":\"overlay\",\"size\":10,\"solidity\":0.2}},\"type\":\"bar\"}],\"scattergeo\":[{\"type\":\"scattergeo\",\"marker\":{\"colorbar\":{\"outlinewidth\":0,\"ticks\":\"\"}}}],\"scatterpolar\":[{\"type\":\"scatterpolar\",\"marker\":{\"colorbar\":{\"outlinewidth\":0,\"ticks\":\"\"}}}],\"histogram\":[{\"marker\":{\"pattern\":{\"fillmode\":\"overlay\",\"size\":10,\"solidity\":0.2}},\"type\":\"histogram\"}],\"scattergl\":[{\"type\":\"scattergl\",\"marker\":{\"colorbar\":{\"outlinewidth\":0,\"ticks\":\"\"}}}],\"scatter3d\":[{\"type\":\"scatter3d\",\"line\":{\"colorbar\":{\"outlinewidth\":0,\"ticks\":\"\"}},\"marker\":{\"colorbar\":{\"outlinewidth\":0,\"ticks\":\"\"}}}],\"scattermapbox\":[{\"type\":\"scattermapbox\",\"marker\":{\"colorbar\":{\"outlinewidth\":0,\"ticks\":\"\"}}}],\"scatterternary\":[{\"type\":\"scatterternary\",\"marker\":{\"colorbar\":{\"outlinewidth\":0,\"ticks\":\"\"}}}],\"scattercarpet\":[{\"type\":\"scattercarpet\",\"marker\":{\"colorbar\":{\"outlinewidth\":0,\"ticks\":\"\"}}}],\"carpet\":[{\"aaxis\":{\"endlinecolor\":\"#2a3f5f\",\"gridcolor\":\"white\",\"linecolor\":\"white\",\"minorgridcolor\":\"white\",\"startlinecolor\":\"#2a3f5f\"},\"baxis\":{\"endlinecolor\":\"#2a3f5f\",\"gridcolor\":\"white\",\"linecolor\":\"white\",\"minorgridcolor\":\"white\",\"startlinecolor\":\"#2a3f5f\"},\"type\":\"carpet\"}],\"table\":[{\"cells\":{\"fill\":{\"color\":\"#EBF0F8\"},\"line\":{\"color\":\"white\"}},\"header\":{\"fill\":{\"color\":\"#C8D4E3\"},\"line\":{\"color\":\"white\"}},\"type\":\"table\"}],\"barpolar\":[{\"marker\":{\"line\":{\"color\":\"#E5ECF6\",\"width\":0.5},\"pattern\":{\"fillmode\":\"overlay\",\"size\":10,\"solidity\":0.2}},\"type\":\"barpolar\"}],\"pie\":[{\"automargin\":true,\"type\":\"pie\"}]},\"layout\":{\"autotypenumbers\":\"strict\",\"colorway\":[\"#636efa\",\"#EF553B\",\"#00cc96\",\"#ab63fa\",\"#FFA15A\",\"#19d3f3\",\"#FF6692\",\"#B6E880\",\"#FF97FF\",\"#FECB52\"],\"font\":{\"color\":\"#2a3f5f\"},\"hovermode\":\"closest\",\"hoverlabel\":{\"align\":\"left\"},\"paper_bgcolor\":\"white\",\"plot_bgcolor\":\"#E5ECF6\",\"polar\":{\"bgcolor\":\"#E5ECF6\",\"angularaxis\":{\"gridcolor\":\"white\",\"linecolor\":\"white\",\"ticks\":\"\"},\"radialaxis\":{\"gridcolor\":\"white\",\"linecolor\":\"white\",\"ticks\":\"\"}},\"ternary\":{\"bgcolor\":\"#E5ECF6\",\"aaxis\":{\"gridcolor\":\"white\",\"linecolor\":\"white\",\"ticks\":\"\"},\"baxis\":{\"gridcolor\":\"white\",\"linecolor\":\"white\",\"ticks\":\"\"},\"caxis\":{\"gridcolor\":\"white\",\"linecolor\":\"white\",\"ticks\":\"\"}},\"coloraxis\":{\"colorbar\":{\"outlinewidth\":0,\"ticks\":\"\"}},\"colorscale\":{\"sequential\":[[0.0,\"#0d0887\"],[0.1111111111111111,\"#46039f\"],[0.2222222222222222,\"#7201a8\"],[0.3333333333333333,\"#9c179e\"],[0.4444444444444444,\"#bd3786\"],[0.5555555555555556,\"#d8576b\"],[0.6666666666666666,\"#ed7953\"],[0.7777777777777778,\"#fb9f3a\"],[0.8888888888888888,\"#fdca26\"],[1.0,\"#f0f921\"]],\"sequentialminus\":[[0.0,\"#0d0887\"],[0.1111111111111111,\"#46039f\"],[0.2222222222222222,\"#7201a8\"],[0.3333333333333333,\"#9c179e\"],[0.4444444444444444,\"#bd3786\"],[0.5555555555555556,\"#d8576b\"],[0.6666666666666666,\"#ed7953\"],[0.7777777777777778,\"#fb9f3a\"],[0.8888888888888888,\"#fdca26\"],[1.0,\"#f0f921\"]],\"diverging\":[[0,\"#8e0152\"],[0.1,\"#c51b7d\"],[0.2,\"#de77ae\"],[0.3,\"#f1b6da\"],[0.4,\"#fde0ef\"],[0.5,\"#f7f7f7\"],[0.6,\"#e6f5d0\"],[0.7,\"#b8e186\"],[0.8,\"#7fbc41\"],[0.9,\"#4d9221\"],[1,\"#276419\"]]},\"xaxis\":{\"gridcolor\":\"white\",\"linecolor\":\"white\",\"ticks\":\"\",\"title\":{\"standoff\":15},\"zerolinecolor\":\"white\",\"automargin\":true,\"zerolinewidth\":2},\"yaxis\":{\"gridcolor\":\"white\",\"linecolor\":\"white\",\"ticks\":\"\",\"title\":{\"standoff\":15},\"zerolinecolor\":\"white\",\"automargin\":true,\"zerolinewidth\":2},\"scene\":{\"xaxis\":{\"backgroundcolor\":\"#E5ECF6\",\"gridcolor\":\"white\",\"linecolor\":\"white\",\"showbackground\":true,\"ticks\":\"\",\"zerolinecolor\":\"white\",\"gridwidth\":2},\"yaxis\":{\"backgroundcolor\":\"#E5ECF6\",\"gridcolor\":\"white\",\"linecolor\":\"white\",\"showbackground\":true,\"ticks\":\"\",\"zerolinecolor\":\"white\",\"gridwidth\":2},\"zaxis\":{\"backgroundcolor\":\"#E5ECF6\",\"gridcolor\":\"white\",\"linecolor\":\"white\",\"showbackground\":true,\"ticks\":\"\",\"zerolinecolor\":\"white\",\"gridwidth\":2}},\"shapedefaults\":{\"line\":{\"color\":\"#2a3f5f\"}},\"annotationdefaults\":{\"arrowcolor\":\"#2a3f5f\",\"arrowhead\":0,\"arrowwidth\":1},\"geo\":{\"bgcolor\":\"white\",\"landcolor\":\"#E5ECF6\",\"subunitcolor\":\"white\",\"showland\":true,\"showlakes\":true,\"lakecolor\":\"white\"},\"title\":{\"x\":0.05},\"mapbox\":{\"style\":\"light\"}}},\"xaxis\":{\"anchor\":\"y\",\"domain\":[0.0,1.0],\"title\":{\"text\":\"Product IDs\"}},\"yaxis\":{\"anchor\":\"x\",\"domain\":[0.0,1.0],\"title\":{\"text\":\"Gross revenue generated (Rupees)\"}},\"legend\":{\"title\":{\"text\":\"product_category\"},\"tracegroupgap\":0},\"margin\":{\"t\":60},\"barmode\":\"relative\",\"title\":{\"text\":\"Top 10 products that generate the most revenue\"},\"height\":500,\"width\":800,\"showlegend\":true},                        {\"responsive\": true}                    ).then(function(){\n",
       "                            \n",
       "var gd = document.getElementById('89f0aa20-6b74-4349-828a-2ce3ebd2c2af');\n",
       "var x = new MutationObserver(function (mutations, observer) {{\n",
       "        var display = window.getComputedStyle(gd).display;\n",
       "        if (!display || display === 'none') {{\n",
       "            console.log([gd, 'removed!']);\n",
       "            Plotly.purge(gd);\n",
       "            observer.disconnect();\n",
       "        }}\n",
       "}});\n",
       "\n",
       "// Listen for the removal of the full notebook cells\n",
       "var notebookContainer = gd.closest('#notebook-container');\n",
       "if (notebookContainer) {{\n",
       "    x.observe(notebookContainer, {childList: true});\n",
       "}}\n",
       "\n",
       "// Listen for the clearing of the current output cell\n",
       "var outputEl = gd.closest('.output');\n",
       "if (outputEl) {{\n",
       "    x.observe(outputEl, {childList: true});\n",
       "}}\n",
       "\n",
       "                        })                };                });            </script>        </div>"
      ]
     },
     "metadata": {},
     "output_type": "display_data"
    }
   ],
   "source": [
    "product_amount = df.groupby(['product_id', 'product_category'], as_index=False)['amount'].sum().sort_values(by='amount', ascending=False).head(10)\n",
    "    \n",
    "fig = px.bar(data_frame=product_amount,\n",
    "             x='product_id', \n",
    "             y='amount',\n",
    "             color='product_category',\n",
    "             text_auto=True)\n",
    "    \n",
    "fig.update_layout(title=\"Top 10 products that generate the most revenue\", \n",
    "                  height=500, \n",
    "                  width=800,  \n",
    "                  showlegend=True, \n",
    "                  yaxis_title_text='Gross revenue generated (Rupees)', \n",
    "                  xaxis_title_text='Product IDs')\n",
    "    \n",
    "fig.show()"
   ]
  },
  {
   "cell_type": "markdown",
   "id": "80cbe187",
   "metadata": {
    "papermill": {
     "duration": 0.050678,
     "end_time": "2023-10-31T05:07:54.392619",
     "exception": false,
     "start_time": "2023-10-31T05:07:54.341941",
     "status": "completed"
    },
    "tags": []
   },
   "source": [
    "Visualizing the total revenue generated by various product categories by analyzing the total amount spent by customers on products from various categories"
   ]
  },
  {
   "cell_type": "code",
   "execution_count": 50,
   "id": "75fe53e5",
   "metadata": {
    "execution": {
     "iopub.execute_input": "2023-10-31T05:07:54.499299Z",
     "iopub.status.busy": "2023-10-31T05:07:54.498916Z",
     "iopub.status.idle": "2023-10-31T05:07:54.667592Z",
     "shell.execute_reply": "2023-10-31T05:07:54.666239Z"
    },
    "papermill": {
     "duration": 0.222177,
     "end_time": "2023-10-31T05:07:54.670014",
     "exception": false,
     "start_time": "2023-10-31T05:07:54.447837",
     "status": "completed"
    },
    "tags": []
   },
   "outputs": [
    {
     "data": {
      "text/html": [
       "<div>                            <div id=\"4721a582-5d19-4557-904a-bdfe978cb0e3\" class=\"plotly-graph-div\" style=\"height:500px; width:800px;\"></div>            <script type=\"text/javascript\">                require([\"plotly\"], function(Plotly) {                    window.PLOTLYENV=window.PLOTLYENV || {};                                    if (document.getElementById(\"4721a582-5d19-4557-904a-bdfe978cb0e3\")) {                    Plotly.newPlot(                        \"4721a582-5d19-4557-904a-bdfe978cb0e3\",                        [{\"alignmentgroup\":\"True\",\"hovertemplate\":\"product_category=%{x}\\u003cbr\\u003eamount=%{y}\\u003cextra\\u003e\\u003c\\u002fextra\\u003e\",\"legendgroup\":\"Food\",\"marker\":{\"color\":\"#636efa\",\"pattern\":{\"shape\":\"\"}},\"name\":\"Food\",\"offsetgroup\":\"Food\",\"orientation\":\"v\",\"showlegend\":true,\"textposition\":\"auto\",\"texttemplate\":\"%{y}\",\"x\":[\"Food\"],\"xaxis\":\"x\",\"y\":[33933883.5],\"yaxis\":\"y\",\"type\":\"bar\"},{\"alignmentgroup\":\"True\",\"hovertemplate\":\"product_category=%{x}\\u003cbr\\u003eamount=%{y}\\u003cextra\\u003e\\u003c\\u002fextra\\u003e\",\"legendgroup\":\"Clothing & Apparel\",\"marker\":{\"color\":\"#EF553B\",\"pattern\":{\"shape\":\"\"}},\"name\":\"Clothing & Apparel\",\"offsetgroup\":\"Clothing & Apparel\",\"orientation\":\"v\",\"showlegend\":true,\"textposition\":\"auto\",\"texttemplate\":\"%{y}\",\"x\":[\"Clothing & Apparel\"],\"xaxis\":\"x\",\"y\":[16495019.0],\"yaxis\":\"y\",\"type\":\"bar\"},{\"alignmentgroup\":\"True\",\"hovertemplate\":\"product_category=%{x}\\u003cbr\\u003eamount=%{y}\\u003cextra\\u003e\\u003c\\u002fextra\\u003e\",\"legendgroup\":\"Electronics & Gadgets\",\"marker\":{\"color\":\"#00cc96\",\"pattern\":{\"shape\":\"\"}},\"name\":\"Electronics & Gadgets\",\"offsetgroup\":\"Electronics & Gadgets\",\"orientation\":\"v\",\"showlegend\":true,\"textposition\":\"auto\",\"texttemplate\":\"%{y}\",\"x\":[\"Electronics & Gadgets\"],\"xaxis\":\"x\",\"y\":[15643846.0],\"yaxis\":\"y\",\"type\":\"bar\"},{\"alignmentgroup\":\"True\",\"hovertemplate\":\"product_category=%{x}\\u003cbr\\u003eamount=%{y}\\u003cextra\\u003e\\u003c\\u002fextra\\u003e\",\"legendgroup\":\"Footwear & Shoes\",\"marker\":{\"color\":\"#ab63fa\",\"pattern\":{\"shape\":\"\"}},\"name\":\"Footwear & Shoes\",\"offsetgroup\":\"Footwear & Shoes\",\"orientation\":\"v\",\"showlegend\":true,\"textposition\":\"auto\",\"texttemplate\":\"%{y}\",\"x\":[\"Footwear & Shoes\"],\"xaxis\":\"x\",\"y\":[15575209.45],\"yaxis\":\"y\",\"type\":\"bar\"},{\"alignmentgroup\":\"True\",\"hovertemplate\":\"product_category=%{x}\\u003cbr\\u003eamount=%{y}\\u003cextra\\u003e\\u003c\\u002fextra\\u003e\",\"legendgroup\":\"Furniture\",\"marker\":{\"color\":\"#FFA15A\",\"pattern\":{\"shape\":\"\"}},\"name\":\"Furniture\",\"offsetgroup\":\"Furniture\",\"orientation\":\"v\",\"showlegend\":true,\"textposition\":\"auto\",\"texttemplate\":\"%{y}\",\"x\":[\"Furniture\"],\"xaxis\":\"x\",\"y\":[5440051.99],\"yaxis\":\"y\",\"type\":\"bar\"},{\"alignmentgroup\":\"True\",\"hovertemplate\":\"product_category=%{x}\\u003cbr\\u003eamount=%{y}\\u003cextra\\u003e\\u003c\\u002fextra\\u003e\",\"legendgroup\":\"Games & Toys\",\"marker\":{\"color\":\"#19d3f3\",\"pattern\":{\"shape\":\"\"}},\"name\":\"Games & Toys\",\"offsetgroup\":\"Games & Toys\",\"orientation\":\"v\",\"showlegend\":true,\"textposition\":\"auto\",\"texttemplate\":\"%{y}\",\"x\":[\"Games & Toys\"],\"xaxis\":\"x\",\"y\":[4331694.0],\"yaxis\":\"y\",\"type\":\"bar\"},{\"alignmentgroup\":\"True\",\"hovertemplate\":\"product_category=%{x}\\u003cbr\\u003eamount=%{y}\\u003cextra\\u003e\\u003c\\u002fextra\\u003e\",\"legendgroup\":\"Sports Products\",\"marker\":{\"color\":\"#FF6692\",\"pattern\":{\"shape\":\"\"}},\"name\":\"Sports Products\",\"offsetgroup\":\"Sports Products\",\"orientation\":\"v\",\"showlegend\":true,\"textposition\":\"auto\",\"texttemplate\":\"%{y}\",\"x\":[\"Sports Products\"],\"xaxis\":\"x\",\"y\":[3635933.0],\"yaxis\":\"y\",\"type\":\"bar\"},{\"alignmentgroup\":\"True\",\"hovertemplate\":\"product_category=%{x}\\u003cbr\\u003eamount=%{y}\\u003cextra\\u003e\\u003c\\u002fextra\\u003e\",\"legendgroup\":\"Beauty\",\"marker\":{\"color\":\"#B6E880\",\"pattern\":{\"shape\":\"\"}},\"name\":\"Beauty\",\"offsetgroup\":\"Beauty\",\"orientation\":\"v\",\"showlegend\":true,\"textposition\":\"auto\",\"texttemplate\":\"%{y}\",\"x\":[\"Beauty\"],\"xaxis\":\"x\",\"y\":[1959484.0],\"yaxis\":\"y\",\"type\":\"bar\"},{\"alignmentgroup\":\"True\",\"hovertemplate\":\"product_category=%{x}\\u003cbr\\u003eamount=%{y}\\u003cextra\\u003e\\u003c\\u002fextra\\u003e\",\"legendgroup\":\"Auto\",\"marker\":{\"color\":\"#FF97FF\",\"pattern\":{\"shape\":\"\"}},\"name\":\"Auto\",\"offsetgroup\":\"Auto\",\"orientation\":\"v\",\"showlegend\":true,\"textposition\":\"auto\",\"texttemplate\":\"%{y}\",\"x\":[\"Auto\"],\"xaxis\":\"x\",\"y\":[1958609.99],\"yaxis\":\"y\",\"type\":\"bar\"},{\"alignmentgroup\":\"True\",\"hovertemplate\":\"product_category=%{x}\\u003cbr\\u003eamount=%{y}\\u003cextra\\u003e\\u003c\\u002fextra\\u003e\",\"legendgroup\":\"Stationery\",\"marker\":{\"color\":\"#FECB52\",\"pattern\":{\"shape\":\"\"}},\"name\":\"Stationery\",\"offsetgroup\":\"Stationery\",\"orientation\":\"v\",\"showlegend\":true,\"textposition\":\"auto\",\"texttemplate\":\"%{y}\",\"x\":[\"Stationery\"],\"xaxis\":\"x\",\"y\":[1676051.5],\"yaxis\":\"y\",\"type\":\"bar\"},{\"alignmentgroup\":\"True\",\"hovertemplate\":\"product_category=%{x}\\u003cbr\\u003eamount=%{y}\\u003cextra\\u003e\\u003c\\u002fextra\\u003e\",\"legendgroup\":\"Household items\",\"marker\":{\"color\":\"#636efa\",\"pattern\":{\"shape\":\"\"}},\"name\":\"Household items\",\"offsetgroup\":\"Household items\",\"orientation\":\"v\",\"showlegend\":true,\"textposition\":\"auto\",\"texttemplate\":\"%{y}\",\"x\":[\"Household items\"],\"xaxis\":\"x\",\"y\":[1569337.0],\"yaxis\":\"y\",\"type\":\"bar\"},{\"alignmentgroup\":\"True\",\"hovertemplate\":\"product_category=%{x}\\u003cbr\\u003eamount=%{y}\\u003cextra\\u003e\\u003c\\u002fextra\\u003e\",\"legendgroup\":\"Tupperware\",\"marker\":{\"color\":\"#EF553B\",\"pattern\":{\"shape\":\"\"}},\"name\":\"Tupperware\",\"offsetgroup\":\"Tupperware\",\"orientation\":\"v\",\"showlegend\":true,\"textposition\":\"auto\",\"texttemplate\":\"%{y}\",\"x\":[\"Tupperware\"],\"xaxis\":\"x\",\"y\":[1155642.0],\"yaxis\":\"y\",\"type\":\"bar\"},{\"alignmentgroup\":\"True\",\"hovertemplate\":\"product_category=%{x}\\u003cbr\\u003eamount=%{y}\\u003cextra\\u003e\\u003c\\u002fextra\\u003e\",\"legendgroup\":\"Books\",\"marker\":{\"color\":\"#00cc96\",\"pattern\":{\"shape\":\"\"}},\"name\":\"Books\",\"offsetgroup\":\"Books\",\"orientation\":\"v\",\"showlegend\":true,\"textposition\":\"auto\",\"texttemplate\":\"%{y}\",\"x\":[\"Books\"],\"xaxis\":\"x\",\"y\":[1061478.0],\"yaxis\":\"y\",\"type\":\"bar\"},{\"alignmentgroup\":\"True\",\"hovertemplate\":\"product_category=%{x}\\u003cbr\\u003eamount=%{y}\\u003cextra\\u003e\\u003c\\u002fextra\\u003e\",\"legendgroup\":\"Decor\",\"marker\":{\"color\":\"#ab63fa\",\"pattern\":{\"shape\":\"\"}},\"name\":\"Decor\",\"offsetgroup\":\"Decor\",\"orientation\":\"v\",\"showlegend\":true,\"textposition\":\"auto\",\"texttemplate\":\"%{y}\",\"x\":[\"Decor\"],\"xaxis\":\"x\",\"y\":[730360.0],\"yaxis\":\"y\",\"type\":\"bar\"},{\"alignmentgroup\":\"True\",\"hovertemplate\":\"product_category=%{x}\\u003cbr\\u003eamount=%{y}\\u003cextra\\u003e\\u003c\\u002fextra\\u003e\",\"legendgroup\":\"Pet Care\",\"marker\":{\"color\":\"#FFA15A\",\"pattern\":{\"shape\":\"\"}},\"name\":\"Pet Care\",\"offsetgroup\":\"Pet Care\",\"orientation\":\"v\",\"showlegend\":true,\"textposition\":\"auto\",\"texttemplate\":\"%{y}\",\"x\":[\"Pet Care\"],\"xaxis\":\"x\",\"y\":[482277.0],\"yaxis\":\"y\",\"type\":\"bar\"},{\"alignmentgroup\":\"True\",\"hovertemplate\":\"product_category=%{x}\\u003cbr\\u003eamount=%{y}\\u003cextra\\u003e\\u003c\\u002fextra\\u003e\",\"legendgroup\":\"Hand & Power Tools\",\"marker\":{\"color\":\"#19d3f3\",\"pattern\":{\"shape\":\"\"}},\"name\":\"Hand & Power Tools\",\"offsetgroup\":\"Hand & Power Tools\",\"orientation\":\"v\",\"showlegend\":true,\"textposition\":\"auto\",\"texttemplate\":\"%{y}\",\"x\":[\"Hand & Power Tools\"],\"xaxis\":\"x\",\"y\":[405618.0],\"yaxis\":\"y\",\"type\":\"bar\"},{\"alignmentgroup\":\"True\",\"hovertemplate\":\"product_category=%{x}\\u003cbr\\u003eamount=%{y}\\u003cextra\\u003e\\u003c\\u002fextra\\u003e\",\"legendgroup\":\"Veterinary\",\"marker\":{\"color\":\"#FF6692\",\"pattern\":{\"shape\":\"\"}},\"name\":\"Veterinary\",\"offsetgroup\":\"Veterinary\",\"orientation\":\"v\",\"showlegend\":true,\"textposition\":\"auto\",\"texttemplate\":\"%{y}\",\"x\":[\"Veterinary\"],\"xaxis\":\"x\",\"y\":[112702.0],\"yaxis\":\"y\",\"type\":\"bar\"},{\"alignmentgroup\":\"True\",\"hovertemplate\":\"product_category=%{x}\\u003cbr\\u003eamount=%{y}\\u003cextra\\u003e\\u003c\\u002fextra\\u003e\",\"legendgroup\":\"Office\",\"marker\":{\"color\":\"#B6E880\",\"pattern\":{\"shape\":\"\"}},\"name\":\"Office\",\"offsetgroup\":\"Office\",\"orientation\":\"v\",\"showlegend\":true,\"textposition\":\"auto\",\"texttemplate\":\"%{y}\",\"x\":[\"Office\"],\"xaxis\":\"x\",\"y\":[81936.0],\"yaxis\":\"y\",\"type\":\"bar\"}],                        {\"template\":{\"data\":{\"histogram2dcontour\":[{\"type\":\"histogram2dcontour\",\"colorbar\":{\"outlinewidth\":0,\"ticks\":\"\"},\"colorscale\":[[0.0,\"#0d0887\"],[0.1111111111111111,\"#46039f\"],[0.2222222222222222,\"#7201a8\"],[0.3333333333333333,\"#9c179e\"],[0.4444444444444444,\"#bd3786\"],[0.5555555555555556,\"#d8576b\"],[0.6666666666666666,\"#ed7953\"],[0.7777777777777778,\"#fb9f3a\"],[0.8888888888888888,\"#fdca26\"],[1.0,\"#f0f921\"]]}],\"choropleth\":[{\"type\":\"choropleth\",\"colorbar\":{\"outlinewidth\":0,\"ticks\":\"\"}}],\"histogram2d\":[{\"type\":\"histogram2d\",\"colorbar\":{\"outlinewidth\":0,\"ticks\":\"\"},\"colorscale\":[[0.0,\"#0d0887\"],[0.1111111111111111,\"#46039f\"],[0.2222222222222222,\"#7201a8\"],[0.3333333333333333,\"#9c179e\"],[0.4444444444444444,\"#bd3786\"],[0.5555555555555556,\"#d8576b\"],[0.6666666666666666,\"#ed7953\"],[0.7777777777777778,\"#fb9f3a\"],[0.8888888888888888,\"#fdca26\"],[1.0,\"#f0f921\"]]}],\"heatmap\":[{\"type\":\"heatmap\",\"colorbar\":{\"outlinewidth\":0,\"ticks\":\"\"},\"colorscale\":[[0.0,\"#0d0887\"],[0.1111111111111111,\"#46039f\"],[0.2222222222222222,\"#7201a8\"],[0.3333333333333333,\"#9c179e\"],[0.4444444444444444,\"#bd3786\"],[0.5555555555555556,\"#d8576b\"],[0.6666666666666666,\"#ed7953\"],[0.7777777777777778,\"#fb9f3a\"],[0.8888888888888888,\"#fdca26\"],[1.0,\"#f0f921\"]]}],\"heatmapgl\":[{\"type\":\"heatmapgl\",\"colorbar\":{\"outlinewidth\":0,\"ticks\":\"\"},\"colorscale\":[[0.0,\"#0d0887\"],[0.1111111111111111,\"#46039f\"],[0.2222222222222222,\"#7201a8\"],[0.3333333333333333,\"#9c179e\"],[0.4444444444444444,\"#bd3786\"],[0.5555555555555556,\"#d8576b\"],[0.6666666666666666,\"#ed7953\"],[0.7777777777777778,\"#fb9f3a\"],[0.8888888888888888,\"#fdca26\"],[1.0,\"#f0f921\"]]}],\"contourcarpet\":[{\"type\":\"contourcarpet\",\"colorbar\":{\"outlinewidth\":0,\"ticks\":\"\"}}],\"contour\":[{\"type\":\"contour\",\"colorbar\":{\"outlinewidth\":0,\"ticks\":\"\"},\"colorscale\":[[0.0,\"#0d0887\"],[0.1111111111111111,\"#46039f\"],[0.2222222222222222,\"#7201a8\"],[0.3333333333333333,\"#9c179e\"],[0.4444444444444444,\"#bd3786\"],[0.5555555555555556,\"#d8576b\"],[0.6666666666666666,\"#ed7953\"],[0.7777777777777778,\"#fb9f3a\"],[0.8888888888888888,\"#fdca26\"],[1.0,\"#f0f921\"]]}],\"surface\":[{\"type\":\"surface\",\"colorbar\":{\"outlinewidth\":0,\"ticks\":\"\"},\"colorscale\":[[0.0,\"#0d0887\"],[0.1111111111111111,\"#46039f\"],[0.2222222222222222,\"#7201a8\"],[0.3333333333333333,\"#9c179e\"],[0.4444444444444444,\"#bd3786\"],[0.5555555555555556,\"#d8576b\"],[0.6666666666666666,\"#ed7953\"],[0.7777777777777778,\"#fb9f3a\"],[0.8888888888888888,\"#fdca26\"],[1.0,\"#f0f921\"]]}],\"mesh3d\":[{\"type\":\"mesh3d\",\"colorbar\":{\"outlinewidth\":0,\"ticks\":\"\"}}],\"scatter\":[{\"fillpattern\":{\"fillmode\":\"overlay\",\"size\":10,\"solidity\":0.2},\"type\":\"scatter\"}],\"parcoords\":[{\"type\":\"parcoords\",\"line\":{\"colorbar\":{\"outlinewidth\":0,\"ticks\":\"\"}}}],\"scatterpolargl\":[{\"type\":\"scatterpolargl\",\"marker\":{\"colorbar\":{\"outlinewidth\":0,\"ticks\":\"\"}}}],\"bar\":[{\"error_x\":{\"color\":\"#2a3f5f\"},\"error_y\":{\"color\":\"#2a3f5f\"},\"marker\":{\"line\":{\"color\":\"#E5ECF6\",\"width\":0.5},\"pattern\":{\"fillmode\":\"overlay\",\"size\":10,\"solidity\":0.2}},\"type\":\"bar\"}],\"scattergeo\":[{\"type\":\"scattergeo\",\"marker\":{\"colorbar\":{\"outlinewidth\":0,\"ticks\":\"\"}}}],\"scatterpolar\":[{\"type\":\"scatterpolar\",\"marker\":{\"colorbar\":{\"outlinewidth\":0,\"ticks\":\"\"}}}],\"histogram\":[{\"marker\":{\"pattern\":{\"fillmode\":\"overlay\",\"size\":10,\"solidity\":0.2}},\"type\":\"histogram\"}],\"scattergl\":[{\"type\":\"scattergl\",\"marker\":{\"colorbar\":{\"outlinewidth\":0,\"ticks\":\"\"}}}],\"scatter3d\":[{\"type\":\"scatter3d\",\"line\":{\"colorbar\":{\"outlinewidth\":0,\"ticks\":\"\"}},\"marker\":{\"colorbar\":{\"outlinewidth\":0,\"ticks\":\"\"}}}],\"scattermapbox\":[{\"type\":\"scattermapbox\",\"marker\":{\"colorbar\":{\"outlinewidth\":0,\"ticks\":\"\"}}}],\"scatterternary\":[{\"type\":\"scatterternary\",\"marker\":{\"colorbar\":{\"outlinewidth\":0,\"ticks\":\"\"}}}],\"scattercarpet\":[{\"type\":\"scattercarpet\",\"marker\":{\"colorbar\":{\"outlinewidth\":0,\"ticks\":\"\"}}}],\"carpet\":[{\"aaxis\":{\"endlinecolor\":\"#2a3f5f\",\"gridcolor\":\"white\",\"linecolor\":\"white\",\"minorgridcolor\":\"white\",\"startlinecolor\":\"#2a3f5f\"},\"baxis\":{\"endlinecolor\":\"#2a3f5f\",\"gridcolor\":\"white\",\"linecolor\":\"white\",\"minorgridcolor\":\"white\",\"startlinecolor\":\"#2a3f5f\"},\"type\":\"carpet\"}],\"table\":[{\"cells\":{\"fill\":{\"color\":\"#EBF0F8\"},\"line\":{\"color\":\"white\"}},\"header\":{\"fill\":{\"color\":\"#C8D4E3\"},\"line\":{\"color\":\"white\"}},\"type\":\"table\"}],\"barpolar\":[{\"marker\":{\"line\":{\"color\":\"#E5ECF6\",\"width\":0.5},\"pattern\":{\"fillmode\":\"overlay\",\"size\":10,\"solidity\":0.2}},\"type\":\"barpolar\"}],\"pie\":[{\"automargin\":true,\"type\":\"pie\"}]},\"layout\":{\"autotypenumbers\":\"strict\",\"colorway\":[\"#636efa\",\"#EF553B\",\"#00cc96\",\"#ab63fa\",\"#FFA15A\",\"#19d3f3\",\"#FF6692\",\"#B6E880\",\"#FF97FF\",\"#FECB52\"],\"font\":{\"color\":\"#2a3f5f\"},\"hovermode\":\"closest\",\"hoverlabel\":{\"align\":\"left\"},\"paper_bgcolor\":\"white\",\"plot_bgcolor\":\"#E5ECF6\",\"polar\":{\"bgcolor\":\"#E5ECF6\",\"angularaxis\":{\"gridcolor\":\"white\",\"linecolor\":\"white\",\"ticks\":\"\"},\"radialaxis\":{\"gridcolor\":\"white\",\"linecolor\":\"white\",\"ticks\":\"\"}},\"ternary\":{\"bgcolor\":\"#E5ECF6\",\"aaxis\":{\"gridcolor\":\"white\",\"linecolor\":\"white\",\"ticks\":\"\"},\"baxis\":{\"gridcolor\":\"white\",\"linecolor\":\"white\",\"ticks\":\"\"},\"caxis\":{\"gridcolor\":\"white\",\"linecolor\":\"white\",\"ticks\":\"\"}},\"coloraxis\":{\"colorbar\":{\"outlinewidth\":0,\"ticks\":\"\"}},\"colorscale\":{\"sequential\":[[0.0,\"#0d0887\"],[0.1111111111111111,\"#46039f\"],[0.2222222222222222,\"#7201a8\"],[0.3333333333333333,\"#9c179e\"],[0.4444444444444444,\"#bd3786\"],[0.5555555555555556,\"#d8576b\"],[0.6666666666666666,\"#ed7953\"],[0.7777777777777778,\"#fb9f3a\"],[0.8888888888888888,\"#fdca26\"],[1.0,\"#f0f921\"]],\"sequentialminus\":[[0.0,\"#0d0887\"],[0.1111111111111111,\"#46039f\"],[0.2222222222222222,\"#7201a8\"],[0.3333333333333333,\"#9c179e\"],[0.4444444444444444,\"#bd3786\"],[0.5555555555555556,\"#d8576b\"],[0.6666666666666666,\"#ed7953\"],[0.7777777777777778,\"#fb9f3a\"],[0.8888888888888888,\"#fdca26\"],[1.0,\"#f0f921\"]],\"diverging\":[[0,\"#8e0152\"],[0.1,\"#c51b7d\"],[0.2,\"#de77ae\"],[0.3,\"#f1b6da\"],[0.4,\"#fde0ef\"],[0.5,\"#f7f7f7\"],[0.6,\"#e6f5d0\"],[0.7,\"#b8e186\"],[0.8,\"#7fbc41\"],[0.9,\"#4d9221\"],[1,\"#276419\"]]},\"xaxis\":{\"gridcolor\":\"white\",\"linecolor\":\"white\",\"ticks\":\"\",\"title\":{\"standoff\":15},\"zerolinecolor\":\"white\",\"automargin\":true,\"zerolinewidth\":2},\"yaxis\":{\"gridcolor\":\"white\",\"linecolor\":\"white\",\"ticks\":\"\",\"title\":{\"standoff\":15},\"zerolinecolor\":\"white\",\"automargin\":true,\"zerolinewidth\":2},\"scene\":{\"xaxis\":{\"backgroundcolor\":\"#E5ECF6\",\"gridcolor\":\"white\",\"linecolor\":\"white\",\"showbackground\":true,\"ticks\":\"\",\"zerolinecolor\":\"white\",\"gridwidth\":2},\"yaxis\":{\"backgroundcolor\":\"#E5ECF6\",\"gridcolor\":\"white\",\"linecolor\":\"white\",\"showbackground\":true,\"ticks\":\"\",\"zerolinecolor\":\"white\",\"gridwidth\":2},\"zaxis\":{\"backgroundcolor\":\"#E5ECF6\",\"gridcolor\":\"white\",\"linecolor\":\"white\",\"showbackground\":true,\"ticks\":\"\",\"zerolinecolor\":\"white\",\"gridwidth\":2}},\"shapedefaults\":{\"line\":{\"color\":\"#2a3f5f\"}},\"annotationdefaults\":{\"arrowcolor\":\"#2a3f5f\",\"arrowhead\":0,\"arrowwidth\":1},\"geo\":{\"bgcolor\":\"white\",\"landcolor\":\"#E5ECF6\",\"subunitcolor\":\"white\",\"showland\":true,\"showlakes\":true,\"lakecolor\":\"white\"},\"title\":{\"x\":0.05},\"mapbox\":{\"style\":\"light\"}}},\"xaxis\":{\"anchor\":\"y\",\"domain\":[0.0,1.0],\"title\":{\"text\":\"Categories\"},\"categoryorder\":\"array\",\"categoryarray\":[\"Food\",\"Clothing & Apparel\",\"Electronics & Gadgets\",\"Footwear & Shoes\",\"Furniture\",\"Games & Toys\",\"Sports Products\",\"Beauty\",\"Auto\",\"Stationery\",\"Household items\",\"Tupperware\",\"Books\",\"Decor\",\"Pet Care\",\"Hand & Power Tools\",\"Veterinary\",\"Office\"]},\"yaxis\":{\"anchor\":\"x\",\"domain\":[0.0,1.0],\"title\":{\"text\":\"Gross revenue generated (Rupees)\"}},\"legend\":{\"title\":{\"text\":\"product_category\"},\"tracegroupgap\":0},\"margin\":{\"t\":60},\"barmode\":\"relative\",\"title\":{\"text\":\"Total revenue generated by various product categories\"},\"height\":500,\"width\":800,\"showlegend\":false},                        {\"responsive\": true}                    ).then(function(){\n",
       "                            \n",
       "var gd = document.getElementById('4721a582-5d19-4557-904a-bdfe978cb0e3');\n",
       "var x = new MutationObserver(function (mutations, observer) {{\n",
       "        var display = window.getComputedStyle(gd).display;\n",
       "        if (!display || display === 'none') {{\n",
       "            console.log([gd, 'removed!']);\n",
       "            Plotly.purge(gd);\n",
       "            observer.disconnect();\n",
       "        }}\n",
       "}});\n",
       "\n",
       "// Listen for the removal of the full notebook cells\n",
       "var notebookContainer = gd.closest('#notebook-container');\n",
       "if (notebookContainer) {{\n",
       "    x.observe(notebookContainer, {childList: true});\n",
       "}}\n",
       "\n",
       "// Listen for the clearing of the current output cell\n",
       "var outputEl = gd.closest('.output');\n",
       "if (outputEl) {{\n",
       "    x.observe(outputEl, {childList: true});\n",
       "}}\n",
       "\n",
       "                        })                };                });            </script>        </div>"
      ]
     },
     "metadata": {},
     "output_type": "display_data"
    }
   ],
   "source": [
    "category_amount = df.groupby(['product_category'], as_index=False)['amount'].sum().sort_values(by='amount', ascending=False)\n",
    "    \n",
    "fig = px.bar(data_frame=category_amount,\n",
    "             x='product_category', \n",
    "             y='amount',\n",
    "             color='product_category',\n",
    "             text_auto=True)\n",
    "    \n",
    "fig.update_layout(title=\"Total revenue generated by various product categories\", \n",
    "                  height=500, \n",
    "                  width=800,  \n",
    "                  showlegend=False, \n",
    "                  yaxis_title_text='Gross revenue generated (Rupees)', \n",
    "                  xaxis_title_text='Categories')\n",
    "    \n",
    "fig.show()"
   ]
  },
  {
   "cell_type": "markdown",
   "id": "1be5dc17",
   "metadata": {
    "papermill": {
     "duration": 0.050209,
     "end_time": "2023-10-31T05:07:54.770146",
     "exception": false,
     "start_time": "2023-10-31T05:07:54.719937",
     "status": "completed"
    },
    "tags": []
   },
   "source": [
    "Visualizing the total amount spent by each gender"
   ]
  },
  {
   "cell_type": "code",
   "execution_count": 51,
   "id": "55f0b0d8",
   "metadata": {
    "execution": {
     "iopub.execute_input": "2023-10-31T05:07:54.873395Z",
     "iopub.status.busy": "2023-10-31T05:07:54.872925Z",
     "iopub.status.idle": "2023-10-31T05:07:54.967576Z",
     "shell.execute_reply": "2023-10-31T05:07:54.966319Z"
    },
    "papermill": {
     "duration": 0.150215,
     "end_time": "2023-10-31T05:07:54.970501",
     "exception": false,
     "start_time": "2023-10-31T05:07:54.820286",
     "status": "completed"
    },
    "tags": []
   },
   "outputs": [
    {
     "data": {
      "text/html": [
       "<div>                            <div id=\"5b6e83f8-9c79-4d55-ba8e-ed0b3238a7ce\" class=\"plotly-graph-div\" style=\"height:500px; width:800px;\"></div>            <script type=\"text/javascript\">                require([\"plotly\"], function(Plotly) {                    window.PLOTLYENV=window.PLOTLYENV || {};                                    if (document.getElementById(\"5b6e83f8-9c79-4d55-ba8e-ed0b3238a7ce\")) {                    Plotly.newPlot(                        \"5b6e83f8-9c79-4d55-ba8e-ed0b3238a7ce\",                        [{\"alignmentgroup\":\"True\",\"hovertemplate\":\"gender=%{x}\\u003cbr\\u003eamount=%{y}\\u003cextra\\u003e\\u003c\\u002fextra\\u003e\",\"legendgroup\":\"Female\",\"marker\":{\"color\":\"#636efa\",\"pattern\":{\"shape\":\"\"}},\"name\":\"Female\",\"offsetgroup\":\"Female\",\"orientation\":\"v\",\"showlegend\":true,\"textposition\":\"auto\",\"texttemplate\":\"%{y}\",\"x\":[\"Female\"],\"xaxis\":\"x\",\"y\":[74335856.43],\"yaxis\":\"y\",\"type\":\"bar\"},{\"alignmentgroup\":\"True\",\"hovertemplate\":\"gender=%{x}\\u003cbr\\u003eamount=%{y}\\u003cextra\\u003e\\u003c\\u002fextra\\u003e\",\"legendgroup\":\"Male\",\"marker\":{\"color\":\"#EF553B\",\"pattern\":{\"shape\":\"\"}},\"name\":\"Male\",\"offsetgroup\":\"Male\",\"orientation\":\"v\",\"showlegend\":true,\"textposition\":\"auto\",\"texttemplate\":\"%{y}\",\"x\":[\"Male\"],\"xaxis\":\"x\",\"y\":[31913276.0],\"yaxis\":\"y\",\"type\":\"bar\"}],                        {\"template\":{\"data\":{\"histogram2dcontour\":[{\"type\":\"histogram2dcontour\",\"colorbar\":{\"outlinewidth\":0,\"ticks\":\"\"},\"colorscale\":[[0.0,\"#0d0887\"],[0.1111111111111111,\"#46039f\"],[0.2222222222222222,\"#7201a8\"],[0.3333333333333333,\"#9c179e\"],[0.4444444444444444,\"#bd3786\"],[0.5555555555555556,\"#d8576b\"],[0.6666666666666666,\"#ed7953\"],[0.7777777777777778,\"#fb9f3a\"],[0.8888888888888888,\"#fdca26\"],[1.0,\"#f0f921\"]]}],\"choropleth\":[{\"type\":\"choropleth\",\"colorbar\":{\"outlinewidth\":0,\"ticks\":\"\"}}],\"histogram2d\":[{\"type\":\"histogram2d\",\"colorbar\":{\"outlinewidth\":0,\"ticks\":\"\"},\"colorscale\":[[0.0,\"#0d0887\"],[0.1111111111111111,\"#46039f\"],[0.2222222222222222,\"#7201a8\"],[0.3333333333333333,\"#9c179e\"],[0.4444444444444444,\"#bd3786\"],[0.5555555555555556,\"#d8576b\"],[0.6666666666666666,\"#ed7953\"],[0.7777777777777778,\"#fb9f3a\"],[0.8888888888888888,\"#fdca26\"],[1.0,\"#f0f921\"]]}],\"heatmap\":[{\"type\":\"heatmap\",\"colorbar\":{\"outlinewidth\":0,\"ticks\":\"\"},\"colorscale\":[[0.0,\"#0d0887\"],[0.1111111111111111,\"#46039f\"],[0.2222222222222222,\"#7201a8\"],[0.3333333333333333,\"#9c179e\"],[0.4444444444444444,\"#bd3786\"],[0.5555555555555556,\"#d8576b\"],[0.6666666666666666,\"#ed7953\"],[0.7777777777777778,\"#fb9f3a\"],[0.8888888888888888,\"#fdca26\"],[1.0,\"#f0f921\"]]}],\"heatmapgl\":[{\"type\":\"heatmapgl\",\"colorbar\":{\"outlinewidth\":0,\"ticks\":\"\"},\"colorscale\":[[0.0,\"#0d0887\"],[0.1111111111111111,\"#46039f\"],[0.2222222222222222,\"#7201a8\"],[0.3333333333333333,\"#9c179e\"],[0.4444444444444444,\"#bd3786\"],[0.5555555555555556,\"#d8576b\"],[0.6666666666666666,\"#ed7953\"],[0.7777777777777778,\"#fb9f3a\"],[0.8888888888888888,\"#fdca26\"],[1.0,\"#f0f921\"]]}],\"contourcarpet\":[{\"type\":\"contourcarpet\",\"colorbar\":{\"outlinewidth\":0,\"ticks\":\"\"}}],\"contour\":[{\"type\":\"contour\",\"colorbar\":{\"outlinewidth\":0,\"ticks\":\"\"},\"colorscale\":[[0.0,\"#0d0887\"],[0.1111111111111111,\"#46039f\"],[0.2222222222222222,\"#7201a8\"],[0.3333333333333333,\"#9c179e\"],[0.4444444444444444,\"#bd3786\"],[0.5555555555555556,\"#d8576b\"],[0.6666666666666666,\"#ed7953\"],[0.7777777777777778,\"#fb9f3a\"],[0.8888888888888888,\"#fdca26\"],[1.0,\"#f0f921\"]]}],\"surface\":[{\"type\":\"surface\",\"colorbar\":{\"outlinewidth\":0,\"ticks\":\"\"},\"colorscale\":[[0.0,\"#0d0887\"],[0.1111111111111111,\"#46039f\"],[0.2222222222222222,\"#7201a8\"],[0.3333333333333333,\"#9c179e\"],[0.4444444444444444,\"#bd3786\"],[0.5555555555555556,\"#d8576b\"],[0.6666666666666666,\"#ed7953\"],[0.7777777777777778,\"#fb9f3a\"],[0.8888888888888888,\"#fdca26\"],[1.0,\"#f0f921\"]]}],\"mesh3d\":[{\"type\":\"mesh3d\",\"colorbar\":{\"outlinewidth\":0,\"ticks\":\"\"}}],\"scatter\":[{\"fillpattern\":{\"fillmode\":\"overlay\",\"size\":10,\"solidity\":0.2},\"type\":\"scatter\"}],\"parcoords\":[{\"type\":\"parcoords\",\"line\":{\"colorbar\":{\"outlinewidth\":0,\"ticks\":\"\"}}}],\"scatterpolargl\":[{\"type\":\"scatterpolargl\",\"marker\":{\"colorbar\":{\"outlinewidth\":0,\"ticks\":\"\"}}}],\"bar\":[{\"error_x\":{\"color\":\"#2a3f5f\"},\"error_y\":{\"color\":\"#2a3f5f\"},\"marker\":{\"line\":{\"color\":\"#E5ECF6\",\"width\":0.5},\"pattern\":{\"fillmode\":\"overlay\",\"size\":10,\"solidity\":0.2}},\"type\":\"bar\"}],\"scattergeo\":[{\"type\":\"scattergeo\",\"marker\":{\"colorbar\":{\"outlinewidth\":0,\"ticks\":\"\"}}}],\"scatterpolar\":[{\"type\":\"scatterpolar\",\"marker\":{\"colorbar\":{\"outlinewidth\":0,\"ticks\":\"\"}}}],\"histogram\":[{\"marker\":{\"pattern\":{\"fillmode\":\"overlay\",\"size\":10,\"solidity\":0.2}},\"type\":\"histogram\"}],\"scattergl\":[{\"type\":\"scattergl\",\"marker\":{\"colorbar\":{\"outlinewidth\":0,\"ticks\":\"\"}}}],\"scatter3d\":[{\"type\":\"scatter3d\",\"line\":{\"colorbar\":{\"outlinewidth\":0,\"ticks\":\"\"}},\"marker\":{\"colorbar\":{\"outlinewidth\":0,\"ticks\":\"\"}}}],\"scattermapbox\":[{\"type\":\"scattermapbox\",\"marker\":{\"colorbar\":{\"outlinewidth\":0,\"ticks\":\"\"}}}],\"scatterternary\":[{\"type\":\"scatterternary\",\"marker\":{\"colorbar\":{\"outlinewidth\":0,\"ticks\":\"\"}}}],\"scattercarpet\":[{\"type\":\"scattercarpet\",\"marker\":{\"colorbar\":{\"outlinewidth\":0,\"ticks\":\"\"}}}],\"carpet\":[{\"aaxis\":{\"endlinecolor\":\"#2a3f5f\",\"gridcolor\":\"white\",\"linecolor\":\"white\",\"minorgridcolor\":\"white\",\"startlinecolor\":\"#2a3f5f\"},\"baxis\":{\"endlinecolor\":\"#2a3f5f\",\"gridcolor\":\"white\",\"linecolor\":\"white\",\"minorgridcolor\":\"white\",\"startlinecolor\":\"#2a3f5f\"},\"type\":\"carpet\"}],\"table\":[{\"cells\":{\"fill\":{\"color\":\"#EBF0F8\"},\"line\":{\"color\":\"white\"}},\"header\":{\"fill\":{\"color\":\"#C8D4E3\"},\"line\":{\"color\":\"white\"}},\"type\":\"table\"}],\"barpolar\":[{\"marker\":{\"line\":{\"color\":\"#E5ECF6\",\"width\":0.5},\"pattern\":{\"fillmode\":\"overlay\",\"size\":10,\"solidity\":0.2}},\"type\":\"barpolar\"}],\"pie\":[{\"automargin\":true,\"type\":\"pie\"}]},\"layout\":{\"autotypenumbers\":\"strict\",\"colorway\":[\"#636efa\",\"#EF553B\",\"#00cc96\",\"#ab63fa\",\"#FFA15A\",\"#19d3f3\",\"#FF6692\",\"#B6E880\",\"#FF97FF\",\"#FECB52\"],\"font\":{\"color\":\"#2a3f5f\"},\"hovermode\":\"closest\",\"hoverlabel\":{\"align\":\"left\"},\"paper_bgcolor\":\"white\",\"plot_bgcolor\":\"#E5ECF6\",\"polar\":{\"bgcolor\":\"#E5ECF6\",\"angularaxis\":{\"gridcolor\":\"white\",\"linecolor\":\"white\",\"ticks\":\"\"},\"radialaxis\":{\"gridcolor\":\"white\",\"linecolor\":\"white\",\"ticks\":\"\"}},\"ternary\":{\"bgcolor\":\"#E5ECF6\",\"aaxis\":{\"gridcolor\":\"white\",\"linecolor\":\"white\",\"ticks\":\"\"},\"baxis\":{\"gridcolor\":\"white\",\"linecolor\":\"white\",\"ticks\":\"\"},\"caxis\":{\"gridcolor\":\"white\",\"linecolor\":\"white\",\"ticks\":\"\"}},\"coloraxis\":{\"colorbar\":{\"outlinewidth\":0,\"ticks\":\"\"}},\"colorscale\":{\"sequential\":[[0.0,\"#0d0887\"],[0.1111111111111111,\"#46039f\"],[0.2222222222222222,\"#7201a8\"],[0.3333333333333333,\"#9c179e\"],[0.4444444444444444,\"#bd3786\"],[0.5555555555555556,\"#d8576b\"],[0.6666666666666666,\"#ed7953\"],[0.7777777777777778,\"#fb9f3a\"],[0.8888888888888888,\"#fdca26\"],[1.0,\"#f0f921\"]],\"sequentialminus\":[[0.0,\"#0d0887\"],[0.1111111111111111,\"#46039f\"],[0.2222222222222222,\"#7201a8\"],[0.3333333333333333,\"#9c179e\"],[0.4444444444444444,\"#bd3786\"],[0.5555555555555556,\"#d8576b\"],[0.6666666666666666,\"#ed7953\"],[0.7777777777777778,\"#fb9f3a\"],[0.8888888888888888,\"#fdca26\"],[1.0,\"#f0f921\"]],\"diverging\":[[0,\"#8e0152\"],[0.1,\"#c51b7d\"],[0.2,\"#de77ae\"],[0.3,\"#f1b6da\"],[0.4,\"#fde0ef\"],[0.5,\"#f7f7f7\"],[0.6,\"#e6f5d0\"],[0.7,\"#b8e186\"],[0.8,\"#7fbc41\"],[0.9,\"#4d9221\"],[1,\"#276419\"]]},\"xaxis\":{\"gridcolor\":\"white\",\"linecolor\":\"white\",\"ticks\":\"\",\"title\":{\"standoff\":15},\"zerolinecolor\":\"white\",\"automargin\":true,\"zerolinewidth\":2},\"yaxis\":{\"gridcolor\":\"white\",\"linecolor\":\"white\",\"ticks\":\"\",\"title\":{\"standoff\":15},\"zerolinecolor\":\"white\",\"automargin\":true,\"zerolinewidth\":2},\"scene\":{\"xaxis\":{\"backgroundcolor\":\"#E5ECF6\",\"gridcolor\":\"white\",\"linecolor\":\"white\",\"showbackground\":true,\"ticks\":\"\",\"zerolinecolor\":\"white\",\"gridwidth\":2},\"yaxis\":{\"backgroundcolor\":\"#E5ECF6\",\"gridcolor\":\"white\",\"linecolor\":\"white\",\"showbackground\":true,\"ticks\":\"\",\"zerolinecolor\":\"white\",\"gridwidth\":2},\"zaxis\":{\"backgroundcolor\":\"#E5ECF6\",\"gridcolor\":\"white\",\"linecolor\":\"white\",\"showbackground\":true,\"ticks\":\"\",\"zerolinecolor\":\"white\",\"gridwidth\":2}},\"shapedefaults\":{\"line\":{\"color\":\"#2a3f5f\"}},\"annotationdefaults\":{\"arrowcolor\":\"#2a3f5f\",\"arrowhead\":0,\"arrowwidth\":1},\"geo\":{\"bgcolor\":\"white\",\"landcolor\":\"#E5ECF6\",\"subunitcolor\":\"white\",\"showland\":true,\"showlakes\":true,\"lakecolor\":\"white\"},\"title\":{\"x\":0.05},\"mapbox\":{\"style\":\"light\"}}},\"xaxis\":{\"anchor\":\"y\",\"domain\":[0.0,1.0],\"title\":{\"text\":\"Genders\"},\"categoryorder\":\"array\",\"categoryarray\":[\"Female\",\"Male\"]},\"yaxis\":{\"anchor\":\"x\",\"domain\":[0.0,1.0],\"title\":{\"text\":\"Total amount spent (Rupees)\"}},\"legend\":{\"title\":{\"text\":\"gender\"},\"tracegroupgap\":0},\"margin\":{\"t\":60},\"barmode\":\"relative\",\"title\":{\"text\":\"Total amount spent by each gender\"},\"height\":500,\"width\":800,\"showlegend\":false},                        {\"responsive\": true}                    ).then(function(){\n",
       "                            \n",
       "var gd = document.getElementById('5b6e83f8-9c79-4d55-ba8e-ed0b3238a7ce');\n",
       "var x = new MutationObserver(function (mutations, observer) {{\n",
       "        var display = window.getComputedStyle(gd).display;\n",
       "        if (!display || display === 'none') {{\n",
       "            console.log([gd, 'removed!']);\n",
       "            Plotly.purge(gd);\n",
       "            observer.disconnect();\n",
       "        }}\n",
       "}});\n",
       "\n",
       "// Listen for the removal of the full notebook cells\n",
       "var notebookContainer = gd.closest('#notebook-container');\n",
       "if (notebookContainer) {{\n",
       "    x.observe(notebookContainer, {childList: true});\n",
       "}}\n",
       "\n",
       "// Listen for the clearing of the current output cell\n",
       "var outputEl = gd.closest('.output');\n",
       "if (outputEl) {{\n",
       "    x.observe(outputEl, {childList: true});\n",
       "}}\n",
       "\n",
       "                        })                };                });            </script>        </div>"
      ]
     },
     "metadata": {},
     "output_type": "display_data"
    }
   ],
   "source": [
    "gender_amount = df.groupby(['gender'], as_index=False)['amount'].sum().sort_values(by='amount', ascending=False)\n",
    "gender_amount['gender']=gender_amount['gender'].replace('F', 'Female')\n",
    "gender_amount['gender']=gender_amount['gender'].replace('M', 'Male')\n",
    "\n",
    "fig = px.bar(data_frame=gender_amount,\n",
    "             x='gender', \n",
    "             y='amount', \n",
    "             color='gender',  \n",
    "             text_auto=True)\n",
    "    \n",
    "fig.update_layout(title=\"Total amount spent by each gender\", \n",
    "                  height=500, \n",
    "                  width=800,  \n",
    "                  showlegend=False, \n",
    "                  yaxis_title_text='Total amount spent (Rupees)', \n",
    "                  xaxis_title_text='Genders')\n",
    "    \n",
    "fig.show()"
   ]
  },
  {
   "cell_type": "markdown",
   "id": "6a561bcf",
   "metadata": {
    "papermill": {
     "duration": 0.051409,
     "end_time": "2023-10-31T05:07:55.073308",
     "exception": false,
     "start_time": "2023-10-31T05:07:55.021899",
     "status": "completed"
    },
    "tags": []
   },
   "source": [
    "Looking at the average amount spent per person for female and male customers separately"
   ]
  },
  {
   "cell_type": "code",
   "execution_count": 52,
   "id": "ded33f9c",
   "metadata": {
    "execution": {
     "iopub.execute_input": "2023-10-31T05:07:55.175394Z",
     "iopub.status.busy": "2023-10-31T05:07:55.174956Z",
     "iopub.status.idle": "2023-10-31T05:07:55.197482Z",
     "shell.execute_reply": "2023-10-31T05:07:55.196082Z"
    },
    "papermill": {
     "duration": 0.076735,
     "end_time": "2023-10-31T05:07:55.200281",
     "exception": false,
     "start_time": "2023-10-31T05:07:55.123546",
     "status": "completed"
    },
    "tags": []
   },
   "outputs": [
    {
     "name": "stdout",
     "output_type": "stream",
     "text": [
      "Average amount spent by female customers =  9491.29933988764\n",
      "Average amount spent by male customers =  9366.972703257998\n"
     ]
    }
   ],
   "source": [
    "female_df=df[df['gender']=='F']\n",
    "male_df=df[df['gender']=='M']\n",
    "\n",
    "avg_female=female_df['amount'].describe().loc['mean']\n",
    "avg_male=male_df['amount'].describe().loc['mean']\n",
    "\n",
    "print(\"Average amount spent by female customers = \", avg_female)\n",
    "print(\"Average amount spent by male customers = \", avg_male)"
   ]
  },
  {
   "cell_type": "markdown",
   "id": "99ea2609",
   "metadata": {
    "papermill": {
     "duration": 0.051592,
     "end_time": "2023-10-31T05:07:55.302508",
     "exception": false,
     "start_time": "2023-10-31T05:07:55.250916",
     "status": "completed"
    },
    "tags": []
   },
   "source": [
    "Visualizing the amount spent by ages"
   ]
  },
  {
   "cell_type": "code",
   "execution_count": 53,
   "id": "9d944e6d",
   "metadata": {
    "execution": {
     "iopub.execute_input": "2023-10-31T05:07:55.408037Z",
     "iopub.status.busy": "2023-10-31T05:07:55.407634Z",
     "iopub.status.idle": "2023-10-31T05:07:55.564620Z",
     "shell.execute_reply": "2023-10-31T05:07:55.563344Z"
    },
    "papermill": {
     "duration": 0.218783,
     "end_time": "2023-10-31T05:07:55.571399",
     "exception": false,
     "start_time": "2023-10-31T05:07:55.352616",
     "status": "completed"
    },
    "tags": []
   },
   "outputs": [
    {
     "data": {
      "text/html": [
       "<div>                            <div id=\"21972fa5-e95c-4b03-a98c-7ddd86a23f2c\" class=\"plotly-graph-div\" style=\"height:500px; width:800px;\"></div>            <script type=\"text/javascript\">                require([\"plotly\"], function(Plotly) {                    window.PLOTLYENV=window.PLOTLYENV || {};                                    if (document.getElementById(\"21972fa5-e95c-4b03-a98c-7ddd86a23f2c\")) {                    Plotly.newPlot(                        \"21972fa5-e95c-4b03-a98c-7ddd86a23f2c\",                        [{\"hovertemplate\":\"\\u003cb\\u003e%{hovertext}\\u003c\\u002fb\\u003e\\u003cbr\\u003e\\u003cbr\\u003eage=%{x}\\u003cbr\\u003eamount=%{y}\\u003cextra\\u003e\\u003c\\u002fextra\\u003e\",\"hovertext\":[\"Sanskriti\",\"Kartik\",\"Bindu\",\"Sudevi\",\"Joni\",\"Joni\",\"Balk\",\"Kushal\",\"Ginny\",\"Harshita\",\"Kargatis\",\"Elijah\",\"Vasudev\",\"Lauren\",\"Mick\",\"Praneet\",\"Praneet\",\"Ellis\",\"Hrisheekesh\",\"Grant\",\"Gilcrest\",\"Skaria\",\"Eric\",\"Gibson\",\"Mahima\",\"Etezadi\",\"James\",\"Dean\",\"Aman\",\"Mousam\",\"Damala\",\"Daniels\",\"Inderpreet\",\"Sweta\",\"Phonely\",\"Mike\",\"Dean\",\"Neola\",\"Trupti\",\"Zypern\",\"Ellison\",\"Jane\",\"Stewart\",\"Breyer\",\"Jesslyn\",\"Abhijit\",\"Vineet\",\"Elizabeth\",\"Shivani\",\"Eugene\",\"Ishit\",\"Schwarz\",\"Sujay\",\"Smriti\",\"Champaklata\",\"Patil\",\"Atharv\",\"Thais\",\"Surabhi\",\"Bruce\",\"Saurabh\",\"Vaibhavi\",\"Larry\",\"Parhena\",\"Pete\",\"Cyra\",\"Rozendal\",\"Jack\",\"Victor\",\"Debra\",\"Bhosale\",\"Keshav\",\"Arsheen\",\"Kaydos\",\"Fjeld\",\"Turumella\",\"Vernon\",\"Connell\",\"Shami\",\"Flanagan\",\"Pond\",\"O'Brian\",\"Namrata\",\"Haushalter\",\"Maurice\",\"Snel\",\"Patrick\",\"Sung\",\"Mahima\",\"Charlotte\",\"Anubhaw\",\"Black\",\"Airdo\",\"Bhawna\",\"Corey-Lock\",\"Akin\",\"Neil\",\"Lisha\",\"Amlan\",\"Inderpreet\",\"Fisher\",\"Linda\",\"Aryan\",\"Kajal\",\"Neola\",\"Murray\",\"Bhishm\",\"Sukruta\",\"Arti\",\"Akshay\",\"Swati\",\"Mathew\",\"Kushal\",\"Luxemburg\",\"Bharat\",\"Sharda\",\"Steele\",\"Hazel\",\"Shariari\",\"Brittain\",\"Shiva\",\"Noah\",\"Kotsonis\",\"Sanjay\",\"Alejandro\",\"Devendra\",\"Sujay\",\"Moren\",\"Neola\",\"Philippe\",\"Patterson\",\"George\",\"Rohan\",\"Divyeshkumar\",\"Divyeshkumar\",\"Lynn\",\"Bhawna\",\"Mitch\",\"Ivan\",\"Avila\",\"Ben\",\"Amlan\",\"Diwakar\",\"Sharelle\",\"Amisha\",\"William\",\"Foulston\",\"Ferrer\",\"Muskan\",\"Stuart\",\"Beth\",\"Sauptik\",\"Pistek\",\"Muhammed\",\"Piyam\",\"Hemant\",\"Dowd\",\"Bixby\",\"Brandow\",\"Howell\",\"Ananya\",\"Sibella\",\"Wale\",\"Kritika\",\"Neola\",\"Parth\",\"Brooke\",\"Barcio\",\"Pelletier\",\"Michelle\",\"Bharat\",\"Divyansh\",\"Raglin\",\"Kajal\",\"Natalie\",\"Mrunal\",\"Nikita\",\"Siddharth\",\"Cindy\",\"Savi\",\"Yaanvi\",\"Kalyani\",\"McCrossin\",\"Calhoun\",\"Selesnick\",\"Parakh\",\"Neola\",\"Vaibhavi\",\"Cari\",\"Sink\",\"Geld\",\"Martinez\",\"Ameesha\",\"Jamie\",\"McCarthy\",\"Chad\",\"Prichep\",\"Lanier\",\"Sukrith\",\"Elliston\",\"Bergman\",\"Arthur\",\"Murray\",\"Toch\",\"Dahlen\",\"Randy\",\"Pradeep\",\"Aayushi\",\"Aparajita\",\"Arsheen\",\"Becky\",\"Aniket\",\"Gute\",\"Gopal\",\"Soumya\",\"Cathy\",\"Jason\",\"Gjertsen\",\"Keshav\",\"Zydlo\",\"Staavos\",\"Fein\",\"Aastha\",\"Lloyd\",\"Harshita\",\"Kirkland\",\"Trafton\",\"Shahid\",\"Dodson\",\"Redmond\",\"Payne\",\"Jamie\",\"Cousins\",\"Eva\",\"Mary\",\"Kennedy\",\"Swetha\",\"Maxwell\",\"Eno\",\"Eugene\",\"Sumeet\",\"Michelle\",\"Edelman\",\"Rose\",\"Ballard\",\"Erica\",\"Sheetal\",\"Sweta\",\"Jim\",\"Pond\",\"Pinky\",\"Eleni\",\"Klamczynski\",\"Bellavance\",\"Talbott\",\"Dheeraj\",\"Skach\",\"Gary\",\"Sharda\",\"Zeldin\",\"Murdock\",\"Wardle\",\"Lloyd\",\"Dhanraj\",\"Suhani\",\"Staebel\",\"Syed\",\"Lonsdale\",\"Murry\",\"McClure\",\"Payne\",\"Skye\",\"Nishi\",\"Vishakha\",\"Doherty\",\"Patil\",\"Jaideep\",\"Joy\",\"Nishant\",\"Collister\",\"Gopal\",\"Gonzalez\",\"Anjali\",\"Prashant\",\"Sink\",\"Ryan\",\"Bhishm\",\"Sauptik\",\"Swetlana\",\"Eugene\",\"McGrath\",\"Ritsa\",\"Ross\",\"Samiksha\",\"Sayre\",\"Carreira\",\"Bhaggyasree\",\"Moumita\",\"Cacioppo\",\"Speros\",\"Filia\",\"Lampkin\",\"Sink\",\"James\",\"Hendricks\",\"Kushal\",\"Chetan\",\"Nirja\",\"Neola\",\"Aditya\",\"Pradeep\",\"Farhat\",\"Nikita\",\"Ramesh\",\"Seio\",\"Anchal\",\"Guthrie\",\"Rosenblatt\",\"Aniket\",\"Reiter\",\"Rosenberg\",\"Gelder\",\"Ashwin\",\"Brooks\",\"Sauptik\",\"Moray\",\"Mayank\",\"Gonzalez\",\"Jackson\",\"Neha\",\"Nunn\",\"Cyma\",\"Aarushi\",\"Gnade\",\"Priyanka\",\"Abhijeet\",\"Beltran\",\"Parks\",\"Brian\",\"Gibson\",\"Ann\",\"Jitesh\",\"Luke\",\"Shirley\",\"Aarushi\",\"Richard\",\"Roger\",\"Peterman\",\"Randy\",\"Kennedy\",\"Prescott\",\"Blumstein\",\"Mane\",\"Corey-Lock\",\"Harivansh\",\"Willman\",\"Ken\",\"Seio\",\"Carreira\",\"percer\",\"Lee\",\"Bhawna\",\"Akshata\",\"O'Brian\",\"Craven\",\"Sandra\",\"Shweta\",\"Ashbrook\",\"McNair\",\"Phan\",\"Dianna\",\"Barnes\",\"Swint\",\"Alejandro\",\"Swetha\",\"Shivangi\",\"Turumella\",\"Subhashree\",\"Ludtke\",\"Abhijit\",\"Reichenbach\",\"Roach\",\"Kalyani\",\"Medina\",\"Rob\",\"Surbhi\",\"Atul\",\"Hemangi\",\"Nat\",\"Neoma\",\"Kristina\",\"Denise\",\"Murdock\",\"Shruti\",\"Hazard\",\"Chuck\",\"Barcio\",\"Hawkins\",\"Pardue\",\"Fuller\",\"Ober\",\"Kristen\",\"Sudheer\",\"Vipul\",\"Greene\",\"Phan\",\"Cacioppo\",\"Skach\",\"percer\",\"Carter\",\"Alyssa\",\"Caffey\",\"Dowd\",\"Jackson\",\"Ann\",\"Ed\",\"Quincy\",\"Sanjay\",\"Sidharth\",\"Hoffman\",\"Rutuja\",\"Lawera\",\"Gene\",\"Kimmel\",\"Delaney\",\"Joy\",\"Pawlan\",\"Sonia\",\"George\",\"Deanra\",\"liebe\",\"Phelps\",\"Masurkar\",\"Talbott\",\"Steven\",\"Daniels\",\"Troy\",\"Gjertsen\",\"Eva\",\"Shantanu\",\"Nripraj\",\"Ashmeet\",\"Sandra\",\"Jim\",\"Engle\",\"Ludtke\",\"Dean\",\"Ashley\",\"Goranitis\",\"Minnotte\",\"Dana\",\"Hitika\",\"Mautz\",\"Gopal\",\"Asish\",\"Ginny\",\"Soodesh\",\"Harrigan\",\"Bixby\",\"Akash\",\"Madhulika\",\"Eplett\",\"Hirsh\",\"Phonely\",\"Karlsson\",\"Savi\",\"Aditya\",\"Rutuja\",\"Rob\",\"Rob\",\"Phillina\",\"Kinney\",\"Moray\",\"Airdo\",\"Caudle\",\"Muskan\",\"Delaney\",\"Gross\",\"Indulekha\",\"Kipp\",\"Sonal\",\"Mahima\",\"Bolton\",\"Ludwig\",\"Lonsdale\",\"Ferrer\",\"Nishant\",\"Divyeta\",\"Piyam\",\"Hrisheekesh\",\"Atharv\",\"McAdams\",\"Riya\",\"Shaily\",\"Roach\",\"Sink\",\"Fritzler\",\"Neola\",\"Pratyusmita\",\"Abhishek\",\"Hildebrand\",\"Akshat\",\"Soltero\",\"Akshat\",\"Anchal\",\"Andreadi\",\"Christy\",\"Sandra\",\"Mayank\",\"Aromal\",\"Brooke\",\"Becky\",\"Becky\",\"Staavos\",\"Cooley\",\"Mahima\",\"Anemone\",\"Kartik\",\"Bryan\",\"Keshav\",\"Phillina\",\"Martinez\",\"Guy\",\"Dipali\",\"Carl\",\"Bhawna\",\"Eleni\",\"Dianna\",\"Tom\",\"Jitesh\",\"Kishwar\",\"Amisha\",\"Sunley\",\"Yogesh\",\"Heidel\",\"Dashyam\",\"Laura\",\"Victor\",\"Jesal\",\"Sanjna\",\"Lori\",\"Conant\",\"Laalji\",\"Aishwarya\",\"Bhishm\",\"Monton\",\"Kartik\",\"Mitch\",\"Rose\",\"Geld\",\"Sukant\",\"Ashvini\",\"Shardul\",\"Sibella\",\"Bhargav\",\"Bhaggyasree\",\"Haberlin\",\"Bhargav\",\"Weiss\",\"Garverick\",\"Prichep\",\"Duston\",\"Nockton\",\"Jahan\",\"McCrary\",\"Gaurav\",\"Dunbar\",\"O'Rourke\",\"Akanksha\",\"Koutras\",\"Aromal\",\"Luke\",\"Sheldon\",\"Brosina\",\"Crebassa\",\"Dona\",\"Monica\",\"Brown\",\"Lloyd\",\"Craig\",\"Cartwright\",\"Bavinger\",\"Chapman\",\"Dawkins\",\"Manning\",\"Aarushi\",\"Wilson\",\"Jesus\",\"Farah\",\"Hendricks\",\"Vasudev\",\"Toch\",\"Dilbeck\",\"Kastensmidt\",\"Tejeswini\",\"Harsh\",\"Harsh\",\"William\",\"Sakshi\",\"Kasheen\",\"Shreya\",\"Aryan\",\"Sukant\",\"Christina\",\"Gelder\",\"Heidel\",\"Nat\",\"LaWare\",\"Aditi\",\"Catlett\",\"Katz\",\"Yash\",\"Roper\",\"Dortch\",\"Shreyshi\",\"Lomonaco\",\"Madhav\",\"Ishit\",\"Raksha\",\"Carreira\",\"Sujay\",\"Logan\",\"Vishakha\",\"Crebagga\",\"Sweta\",\"Gelder\",\"Subhasmita\",\"Zrebassa\",\"Crebagga\",\"Akash\",\"Vrinda\",\"Donovan\",\"Nikhil\",\"Kritika\",\"Avila\",\"Cathy\",\"Alex\",\"Weiss\",\"Burns\",\"Ankita\",\"Magdelene\",\"Maris\",\"Vaibhav\",\"McAfee\",\"Flanagan\",\"Lee\",\"Divyansha\",\"Alejandro\",\"Manjiri\",\"Shatayu\",\"Grayson\",\"Pratyusmita\",\"Suzanne\",\"Cyma\",\"Wale\",\"Pranav\",\"Manshul\",\"Ayush\",\"Tran\",\"Manibalan\",\"Nishant\",\"Rachel\",\"Southworth\",\"Venier\",\"Aryan\",\"Uudhav\",\"Dickinson\",\"Roberts\",\"Kirkland\",\"Amisha\",\"Andreadi\",\"Knudson\",\"Baptist\",\"Champaklata\",\"Randy\",\"Jay\",\"Vikash\",\"Patil\",\"Greene\",\"Sakshi\",\"Mukesh\",\"Weirich\",\"Thomas\",\"Delaney\",\"Neola\",\"Erica\",\"Sandra\",\"Anurag\",\"Reichenbach\",\"Brian\",\"Perrino\",\"Pardue\",\"Hazard\",\"Philisse\",\"Suhani\",\"Kunst\",\"Collister\",\"Reiten\",\"Khloe\",\"Anisha\",\"Anisha\",\"Dario\",\"Neil\",\"Doug\",\"Ginny\",\"Hrisheekesh\",\"Barton\",\"Mrunal\",\"Philip\",\"Champaklata\",\"Shaily\",\"Harton\",\"Naresj\",\"Suman\",\"Eva\",\"Akshay\",\"Brian\",\"Fuller\",\"Lalita\",\"Barcio\",\"Vaibhav\",\"Shreyoshe\",\"Pratyusmita\",\"Jacobs\",\"Noonan\",\"Sauptik\",\"Nguyen\",\"Kampe\",\"Tanvi\",\"Redmond\",\"Olvera\",\"Nockton\",\"Gopal\",\"Liz\",\"Cynthia\",\"Muhammed\",\"Lela\",\"Emerson\",\"Vandana\",\"Bhavna\",\"Moren\",\"Linda\",\"Farhat\",\"K\",\"Charika\",\"Praneet\",\"Lakshmi\",\"Hagelstein\",\"Atkinson\",\"Redmond\",\"Paul\",\"Hirasaki\",\"Corey-Lock\",\"Buch\",\"Neola\",\"Kriz\",\"Kartikay\",\"Joe\",\"Kushal\",\"Nandita\",\"Dorothy\",\"Catlett\",\"Jenkins\",\"Emily\",\"Srishti\",\"Herbert\",\"Karen\",\"Vasudev\",\"Brown\",\"Aayushi\",\"Karen\",\"Aditya\",\"Aditya\",\"Sudevi\",\"Megha\",\"Barton\",\"Priyanka\",\"Barton\",\"Ralph\",\"Goldenen\",\"Cousins\",\"Vasudev\",\"Edelman\",\"Logan\",\"Haushalter\",\"Harsh\",\"Pooja\",\"Brooks\",\"Martin\",\"Shourya\",\"Monu\",\"Rose\",\"Martinez\",\"McCrossin\",\"Lisha\",\"Gonzalez\",\"Tate\",\"Meghana\",\"Jesslyn\",\"Flashing\",\"Jeremy\",\"Hazel\",\"William\",\"Phan\",\"Parna\",\"Vicky\",\"Linda\",\"Ajay\",\"Shaily\",\"Jasper\",\"Martinez\",\"Cox\",\"Arntzen\",\"Chikku\",\"Debra\",\"Ameesha\",\"Amlan\",\"Blanton\",\"Trevino\",\"Ballard\",\"Cathy\",\"Logan\",\"Hastings\",\"Turumella\",\"Jenkins\",\"Emily\",\"Elpida\",\"John\",\"Dashyam\",\"Bharat\",\"Roland\",\"Bühler\",\"Vikash\",\"Marley\",\"Pratiksha\",\"Marley\",\"Jamie\",\"James\",\"Collister\",\"Grant\",\"Federle\",\"Blanton\",\"Olsen\",\"Darley\",\"Nidhi\",\"Krutika\",\"Thornton\",\"Ajay\",\"Kirti\",\"Karandeep\",\"Moren\",\"Brian\",\"Gardner\",\"Williams\",\"Bhawna\",\"Navdeep\",\"Bell-\",\"Sandeep\",\"Sandeep\",\"Sheetal\",\"Harton\",\"Jenna\",\"Parakh\",\"Ashwin\",\"Herman\",\"William\",\"Magee\",\"Pamela\",\"Gardner\",\"Lycoris\",\"Nunn\",\"Seite\",\"Lucas\",\"Alan\",\"Saurabh\",\"Haberlin\",\"Frazer\",\"Delfina\",\"Franz\",\"Sabah\",\"Shreya\",\"Bhishm\",\"Chandni\",\"Rachna\",\"Deanra\",\"Saloni\",\"Brumley\",\"Norvell\",\"Rohan\",\"Bathina\",\"Airdo\",\"Epp\",\"Aishwarya\",\"Klamczynski\",\"Bradley\",\"Hwang\",\"Zettner\",\"Crebassa\",\"Hood\",\"Overfelt\",\"Blacks\",\"Jarboe\",\"Inderpreet\",\"Toch\",\"Triggs\",\"Yohann\",\"Shivani\",\"Vipul\",\"Mitali\",\"Brittain\",\"Caroline\",\"Lakshmi\",\"Etezadi\",\"Aayushi\",\"Shreyshi\",\"Smayling\",\"Tate\",\"Paridhi\",\"Patel\",\"Baird\",\"Atkinson\",\"Thais\",\"Vasudev\",\"Sandra\",\"Engle\",\"Vaibhavi\",\"Catini\",\"Cortes\",\"Palak\",\"Meghana\",\"Reiten\",\"Hagelstein\",\"Duhita\",\"Eno\",\"Cari\",\"Pardue\",\"Sandra\",\"Castell\",\"Gayman\",\"Marley\",\"Soltero\",\"Eileen\",\"Candace\",\"Ashbrook\",\"Adhvaita\",\"Noonan\",\"Bhaggyasree\",\"Crebagga\",\"Lynn\",\"Fuller\",\"Dorothy\",\"Dipali\",\"Lauren\",\"Phonely\",\"McGuire\",\"John\",\"Ken\",\"Jumper\",\"Meador\",\"Harry\",\"Moffitt\",\"Asish\",\"Kartik\",\"Cathy\",\"Reichenbach\",\"Hazel\",\"Clytie\",\"Weimer\",\"James\",\"Dianna\",\"Shourya\",\"Elliston\",\"Frazer\",\"Aastha\",\"Sorensen\",\"Ken\",\"Howell\",\"Deanra\",\"Sonal\",\"Chong\",\"Collister\",\"Ballard\",\"Herbert\",\"Alejandro\",\"Noah\",\"Moumita\",\"Elpida\",\"Duane\",\"Eason\",\"Deirdre\",\"Meador\",\"Shivani\",\"Becky\",\"Rutuja\",\"Mrinal\",\"Marina\",\"Aastha\",\"Savi\",\"Masurkar\",\"Lakshmi\",\"Syed\",\"Frazer\",\"Eudokia\",\"Shantanu\",\"Hazel\",\"Conant\",\"Hwang\",\"MacAllister\",\"Fein\",\"LaWare\",\"Jordon\",\"Rane\",\"Mull\",\"Keith\",\"Jonathan\",\"Barnes\",\"Lalita\",\"Phillip\",\"James\",\"Ginny\",\"Coyne\",\"Hoffmann\",\"Eudokia\",\"Chetan\",\"Champaklata\",\"Saptadeep\",\"Steve\",\"Kritika\",\"Brenda\",\"Reese\",\"Patil\",\"Olsen\",\"Seth\",\"Allen\",\"Jordon\",\"Herrera\",\"Poddar\",\"Jeremy\",\"Ricardo\",\"Ginny\",\"Nikhil\",\"Bremer\",\"Nikhil\",\"Crier\",\"Kampe\",\"Shreyshi\",\"Ryan\",\"Lauren\",\"Bremer\",\"Pelletier\",\"Gelder\",\"Ananya\",\"Gelder\",\"Bhawna\",\"Barchas\",\"Hwang\",\"Kartikay\",\"Nida\",\"Akshat\",\"Shikhar\",\"Mrunal\",\"Farhat\",\"Sumeet\",\"Martinez\",\"Erica\",\"Mahima\",\"Akin\",\"Christina\",\"Suman\",\"Hemangi\",\"Moumita\",\"Roach\",\"Roach\",\"Aayushi\",\"Halladay\",\"Hallsten\",\"Mohan\",\"Emily\",\"Rosenberg\",\"Sabah\",\"McNair\",\"Barreto\",\"Hackney\",\"Brittain\",\"Aayush\",\"Swetlana\",\"Kanak\",\"Spruell\",\"Siddharth\",\"Carter\",\"Dartt\",\"Helen\",\"Suman\",\"Daly\",\"Alice\",\"Mitali\",\"Aniket\",\"Mathis\",\"Rittenbach\",\"Pisteka\",\"Pete\",\"Prajakta\",\"Weirich\",\"Brian\",\"Schild\",\"Debra\",\"Craven\",\"Rutuja\",\"Meade\",\"Carter\",\"Brosina\",\"Bradley\",\"Shivam\",\"Soumyabrata\",\"Dortch\",\"Divsha\",\"Mary\",\"Inderpreet\",\"Braxton\",\"Hazel\",\"Bharat\",\"Tejeswini\",\"Shourya\",\"Bensley\",\"Bensley\",\"Ralph\",\"Carol\",\"Mitch\",\"Jenna\",\"Keshav\",\"Dortch\",\"Preis\",\"Diwakar\",\"Pinky\",\"Schnelling\",\"Parks\",\"Sean\",\"Phillina\",\"Swati\",\"Siddharth\",\"Gopal\",\"Hitesh\",\"Eno\",\"Sally\",\"Stuti\",\"Bhargav\",\"Schoenberger\",\"Swetha\",\"Bell-\",\"Fortune-\",\"Murray\",\"Savely\",\"Pauline\",\"Kartik\",\"Mills\",\"Jitesh\",\"Caroline\",\"Adrian\",\"Campbell\",\"Butterfield\",\"Hane\",\"Robert\",\"Patel\",\"Indulekha\",\"Stuti\",\"Foster\",\"Fuller\",\"Vijay\",\"Anna\",\"Kartikay\",\"Brockman\",\"Denise\",\"Soumyabrata\",\"Ellis\",\"Lalita\",\"McFarland\",\"Redmond\",\"Kshitij\",\"Dave\",\"Jane\",\"Stuart\",\"Ameesha\",\"Matthias\",\"Pistek\",\"Lycoris\",\"Barton\",\"Bryan\",\"DeCherney\",\"Ted\",\"Flanagan\",\"Mathew\",\"Philip\",\"Sanjit\",\"Kartikay\",\"Gillingham\",\"Divyeshkumar\",\"Dryer\",\"Parth\",\"Glassco\",\"McGuire\",\"Nguyen\",\"Sumeet\",\"Shirley\",\"Cyra\",\"Sukant\",\"Chikku\",\"Vipul\",\"Anand\",\"Vishakha\",\"Fred\",\"Lee\",\"Oshin\",\"Kasheen\",\"Neoma\",\"Sauptik\",\"Julie\",\"Mitchum\",\"Jonathan\",\"Barnett\",\"Lee\",\"Derr\",\"Jamie\",\"Barnett\",\"Moss\",\"Ferguson\",\"Sachs\",\"Rosenberg\",\"Harsh\",\"Eaton\",\"Corey-Lock\",\"Patterson\",\"Trevino\",\"Bavinger\",\"Prichep\",\"Darren\",\"Kunitz\",\"Wener\",\"Seite\",\"Ankita\",\"Bern\",\"DeMoss\",\"DeMoss\",\"Soodesh\",\"Burns\",\"McClure\",\"Syed\",\"Dana\",\"Rob\",\"Vishakha\",\"Hitesh\",\"Rashmi\",\"Knudson\",\"Blanton\",\"Kasheen\",\"Vaibhav\",\"Kunst\",\"McGrath\",\"Yoseph\",\"Tulika\",\"Ballard\",\"Ritu\",\"Swetha\",\"Häberlin\",\"Michelle\",\"Sonal\",\"Dhirajendu\",\"Vivek\",\"Yogesh\",\"Pratyusmita\",\"Brian\",\"Pamela\",\"Seth\",\"Yaanvi\",\"Jim\",\"Catini\",\"Christopher\",\"Amisha\",\"Atkinson\",\"Shrichand\",\"Raglin\",\"Saphhira\",\"Anne\",\"Ellison\",\"Noshiba\",\"Pippenger\",\"Andrew\",\"Jason\",\"Bryan\",\"Raymond\",\"Murray\",\"Harms\",\"Krohn\",\"Palak\",\"Priyanshu\",\"Shreyoshe\",\"Farhat\",\"Ashmi\",\"Akshata\",\"Mathis\",\"Aayush\",\"Anderson\",\"Manish\",\"Chloris\",\"Patterson\",\"Becky\",\"Braun\",\"Jesslyn\",\"Atul\",\"Schoenberger\",\"Campbell\",\"Zettner\",\"Divyansh\",\"Kunitz\",\"Laalji\",\"Parin\",\"Waco\",\"Prajakta\",\"David\",\"Dowd\",\"Miller\",\"Spruell\",\"Victoria\",\"Häberlin\",\"Ginny\",\"Kriz\",\"Mansi\",\"Richard\",\"Steve\",\"McCrossin\",\"Shourya\",\"Subhasmita\",\"Murray\",\"Nockton\",\"Barroso\",\"Freymann\",\"Hughes\",\"Sukant\",\"Pelletier\",\"Parishi\",\"Resi\",\"Cacioppo\",\"Peterman\",\"Mark\",\"Blume\",\"Sink\",\"Pippenger\",\"Michelle\",\"McGuire\",\"Carreira\",\"Erica\",\"Noel\",\"Zeldin\",\"Rozendal\",\"Lalita\",\"Gross\",\"Mrunal\",\"Bzostek\",\"Tim\",\"Kaydos\",\"Pistole\",\"Vaibhav\",\"Nripraj\",\"Olvera\",\"Flashing\",\"Monica\",\"Chetan\",\"Aayush\",\"Marley\",\"Eugene\",\"Ralph\",\"Gonzalez\",\"Dona\",\"O'Carroll\",\"Pisteka\",\"Kartikay\",\"Spruell\",\"Hughes\",\"Guy\",\"Monisha\",\"Kalyani\",\"Cheatham\",\"Charlotte\",\"Dowd\",\"Cartwright\",\"Hudgings\",\"Roelle\",\"Latchford\",\"Ordway\",\"Rupert\",\"O'Brian\",\"Rashmi\",\"Calhoun\",\"Bensley\",\"Yotov\",\"Bzostek\",\"Juliana\",\"Swint\",\"Oakman\",\"Bremer\",\"Michelle\",\"Roach\",\"Lichtenstein\",\"Khloe\",\"Morse\",\"Leatherbury\",\"Grant\",\"Toch\",\"Parhena\",\"Barchas\",\"Amy\",\"Navdeep\",\"Rawles\",\"Mukund\",\"Dianna\",\"Gannaway\",\"Shaily\",\"Foster\",\"Ritu\",\"Balk\",\"Anand\",\"Sanjay\",\"Packer\",\"Reiten\",\"Mhatre\",\"Flathmann\",\"Chayanika\",\"Quincy\",\"Laalji\",\"Sperren\",\"Lopez\",\"Atul\",\"Schild\",\"Ameesha\",\"Trudy\",\"Rishabh\",\"Pardue\",\"Braxton\",\"Shivangi\",\"Sissman\",\"Ashvini\",\"Sujay\",\"Daly\",\"Byrd\",\"Neil\",\"Quincy\",\"Cox\",\"Marley\",\"Katherine\",\"Catini\",\"Sidharth\",\"Scot\",\"Perrino\",\"William\",\"Willman\",\"Olsen\",\"Ayush\",\"Alan\",\"Coram\",\"Yana\",\"Sarah\",\"Lonsdale\",\"Linda\",\"Gunjal\",\"Anubhaw\",\"Surabhi\",\"Scot\",\"Cartwright\",\"Zandusky\",\"O'Rourke\",\"Brad\",\"Krishna\",\"Demir\",\"Rutuja\",\"Shivangi\",\"Kimberly\",\"Wilson\",\"Ayush\",\"Akanksha\",\"Rittenbach\",\"Yoseph\",\"Caudle\",\"Laurel\",\"Haushalter\",\"Webber\",\"Apsingekar\",\"Aaron\",\"Rob\",\"Alejandro\",\"Tran\",\"Herman\",\"Gilcrest\",\"Swint\",\"Eleni\",\"Company\",\"Sonal\",\"Alice\",\"Philip\",\"Armold\",\"Amol\",\"Bhargav\",\"Maxwell\",\"Brumfield\",\"Frank\",\"Mary\",\"Aparajita\",\"Vittorini\",\"Flanagan\",\"Victor\",\"Fjeld\",\"O'Carroll\",\"McCrossin\",\"Avni\",\"Ivan\",\"Maris\",\"Yana\",\"Barton\",\"Denny\",\"Ramesh\",\"Bensley\",\"Eno\",\"Parishi\",\"Eugene\",\"Stugart\",\"Dahlen\",\"Armstrong\",\"Siddharth\",\"Bruce\",\"Chetan\",\"Swati\",\"Peter\",\"Ratner\",\"Claudia\",\"Sukant\",\"Dhirajendu\",\"Myrick\",\"Greer\",\"McCarthy\",\"Benoit\",\"Abhijit\",\"Dionis\",\"Payne\",\"Evan\",\"Nancy\",\"Pinky\",\"Candace\",\"Vasudev\",\"Champaklata\",\"Flanagan\",\"Vaibhavi\",\"Steven\",\"Amlan\",\"Naresj\",\"Pisteka\",\"Daniels\",\"Shaun\",\"Leinenbach\",\"Monisha\",\"Pooja\",\"Namrata\",\"Swati\",\"Kartikay\",\"McAfee\",\"Mull\",\"Brumley\",\"Akshay\",\"Jack\",\"Willman\",\"Cacioppo\",\"Bickford\",\"Sheri\",\"Crouse\",\"Shantanu\",\"Gardner\",\"Fritzler\",\"Manshul\",\"Greene\",\"Heidel\",\"Taslimi\",\"Akshat\",\"Bhawna\",\"Schwartz\",\"Galang\",\"Karlsson\",\"Gockenbach\",\"Soltero\",\"Dhirajendu\",\"Noel\",\"Maris\",\"Soodesh\",\"Ken\",\"Shikhar\",\"Thea\",\"Turnell\",\"Divyansh\",\"Chong\",\"Barnes\",\"Rutuja\",\"Karl\",\"Sung\",\"Becker\",\"Cacioppo\",\"Epp\",\"Smayling\",\"Chad\",\"Daly\",\"Willman\",\"Sheldon\",\"Manibalan\",\"Shami\",\"Zettner\",\"Kimberly\",\"Abhijit\",\"Watters\",\"Indulekha\",\"Abhijit\",\"Mull\",\"Prashant\",\"Elias\",\"Cortes\",\"Pisteka\",\"Myrick\",\"Duhita\",\"Hitesh\",\"Gunjan\",\"Noopur\",\"Neil\",\"Suhani\",\"Kamberova\",\"Lauren\",\"Hughsby\",\"Zydlo\",\"Jasper\",\"Hendricks\",\"Joseph\",\"Jacobs\",\"Kane\",\"Dario\",\"Andrew\",\"Hendricks\",\"Dhirajendu\",\"Atul\",\"Barnes\",\"Logan\",\"Dortch\",\"Hwang\",\"Sara\",\"Rutuja\",\"Kushal\",\"Davis\",\"Parin\",\"Farah\",\"Chance\",\"Yash\",\"Sudheer\",\"Vasudev\",\"Kartik\",\"Amlan\",\"Dickinson\",\"Cox\",\"Vishakha\",\"Swetha\",\"Garza\",\"Dona\",\"Thea\",\"Dartt\",\"Maris\",\"Shreya\",\"Jesus\",\"Ankit\",\"Adhvaita\",\"Ludtke\",\"Gunjan\",\"Lucas\",\"Girase\",\"Dortch\",\"Mitchum\",\"Utkarsh\",\"Jasper\",\"Lee\",\"Ken\",\"Shaily\",\"Ted\",\"Caroline\",\"Vasudev\",\"Garverick\",\"Amol\",\"Cyra\",\"MacIntyre\",\"Joni\",\"Cohen\",\"Prajakta\",\"Gjertsen\",\"Patil\",\"Harold\",\"Dortch\",\"Suraj\",\"Akshat\",\"Akash\",\"Shivam\",\"Richard\",\"Redmond\",\"Chetan\",\"Bergmann\",\"Brumfield\",\"Katz\",\"Kartikay\",\"Prost\",\"Rick\",\"Trupti\",\"Leinenbach\",\"LaWare\",\"Schoenberger\",\"Daniel\",\"Ankita\",\"Charlotte\",\"Zettner\",\"Chand\",\"Manshul\",\"Elizabeth\",\"Abhijit\",\"Dana\",\"Yogesh\",\"Hoffman\",\"Mathew\",\"Hemant\",\"Astrea\",\"Adrian\",\"Sharda\",\"Hughsby\",\"Skach\",\"Kamberova\",\"Medina\",\"Crebagga\",\"Parishi\",\"Häberlin\",\"Beth\",\"Mayank\",\"Jamie\",\"Gary\",\"Shantanu\",\"Christine\",\"Byrd\",\"Jonathan\",\"Burns\",\"Sonia\",\"Donatelli\",\"Annie\",\"Venier\",\"Laura\",\"Krohn\",\"Hagelstein\",\"Shivanshu\",\"Robert\",\"Denny\",\"Shreyshi\",\"Mane\",\"Adhvaita\",\"Leinenbach\",\"Kean\",\"Krutika\",\"Inderpreet\",\"Crestani\",\"Klamczynski\",\"Farhat\",\"Anjali\",\"Zeldin\",\"Anne\",\"Hagelstein\",\"Resi\",\"Sarita\",\"Patterson\",\"Schmidt\",\"Dodson\",\"Kean\",\"Kendrick\",\"Shefali\",\"Pranjali\",\"Craig\",\"Eleni\",\"Thomas\",\"Arti\",\"Cooley\",\"O'Brian\",\"MacKendrick\",\"Laura\",\"Akancha\",\"Laalji\",\"Diwakar\",\"Zic\",\"Indulekha\",\"Maurice\",\"Vijay\",\"Barcio\",\"Ashmeet\",\"West\",\"Shweta\",\"Norvell\",\"Keith\",\"Olvera\",\"Cortes\",\"Indulekha\",\"Pournamasi\",\"MaryBeth\",\"Megha\",\"Dorris\",\"Nelson\",\"Moren\",\"D'Ascenzo\",\"Jacobs\",\"Swetlana\",\"Parth\",\"Katrina\",\"Uudhav\",\"Berenike\",\"Catlett\",\"Dowd\",\"Sanjova\",\"Moffitt\",\"Bolton\",\"Trupti\",\"Parnavi\",\"Kishwar\",\"Halladay\",\"Aastha\",\"Jaydeep\",\"Akash\",\"Yohann\",\"Lichtenstein\",\"Srishti\",\"Liston\",\"Aastha\",\"Latchford\",\"Matthias\",\"Kunitz\",\"Monu\",\"Laura\",\"Piyali\",\"Bern\",\"MacKendrick\",\"Chloris\",\"Rosenblatt\",\"Deirdre\",\"Caudle\",\"Ashmi\",\"Praneet\",\"Philisse\",\"Becky\",\"Dilbeck\",\"Sharda\",\"Moren\",\"Claudia\",\"Namrata\",\"Rohan\",\"Blumstein\",\"Burns\",\"Denny\",\"Pippenger\",\"Lebron\",\"Adhvaita\",\"Patil\",\"MacKendrick\",\"Gilpin\",\"percer\",\"Willingham\",\"Kotsonis\",\"DeCherney\",\"Zuschuss\",\"Stuti\",\"Ben\",\"Christina\",\"Cathy\",\"Devendra\",\"Brooke\",\"Ulpright\",\"Nandita\",\"Kishwar\",\"Abelman\",\"Wallace\",\"Apoorv\",\"Barbara\",\"Allen\",\"Ballentine\",\"Zic\",\"Chandni\",\"O'Donnell\",\"Heidel\",\"Dunbar\",\"Talbott\",\"Shaun\",\"Pistek\",\"Jesslyn\",\"Priyanshu\",\"Maribeth\",\"Girase\",\"Mary\",\"Cox\",\"Bzostek\",\"Sonal\",\"Shreyshi\",\"Nathan\",\"Crestani\",\"Mitchum\",\"Harold\",\"Ajay\",\"Adrian\",\"Catlett\",\"Garverick\",\"Ankit\",\"Praneet\",\"Manju\",\"Rashmi\",\"Ashmeet\",\"Neha\",\"Akash\",\"Beeghly\",\"Alyssa\",\"Sharda\",\"Bharat\",\"Shivam\",\"McMahon\",\"Leslie\",\"Rahul\",\"Vivian\",\"Swetlana\",\"Crestani\",\"Katherine\",\"Uudhav\",\"Badders\",\"Carlos\",\"Ramesh\",\"Noopur\",\"Cindy\",\"Brenda\",\"Lalita\",\"Krutika\",\"Arindam\",\"Beeghly\",\"Ducich\",\"Savi\",\"Kunst\",\"Aarushi\",\"O'Donnell\",\"Carter\",\"Swati\",\"Smriti\",\"MacAllister\",\"Srishti\",\"Brumley\",\"Häberlin\",\"Selesnick\",\"Mitchum\",\"Deirdre\",\"Vishakha\",\"Kartikay\",\"Drucker\",\"Charlotte\",\"Fritzler\",\"Dorothy\",\"Catlett\",\"Shaun\",\"Dean\",\"Gunjal\",\"Bowman\",\"Glotzbach\",\"Tushina\",\"Maris\",\"Matt\",\"Savi\",\"Kinney\",\"Christine\",\"Hooks\",\"Ashmi\",\"Zettner\",\"Dan\",\"Benoit\",\"Monica\",\"Cheatham\",\"Bertelson\",\"Navdeep\",\"Sanjova\",\"Alejandro\",\"Eugene\",\"Vandana\",\"Jaideep\",\"Reiten\",\"Reichenbach\",\"Catini\",\"Cari\",\"Ward\",\"Caudle\",\"Packer\",\"Kartik\",\"Stuti\",\"Linda\",\"Charlotte\",\"McFarland\",\"Sanjova\",\"Amruta\",\"Yogesh\",\"Vrinda\",\"Kelty\",\"Snehal\",\"Siddharth\",\"Alejandro\",\"Applegate\",\"Muskan\",\"Damala\",\"Mautz\",\"Turumella\",\"Amisha\",\"Linda\",\"Avish\",\"Ellis\",\"Ajay\",\"Pistek\",\"Erin\",\"Crestani\",\"Neola\",\"Braxton\",\"Nancy\",\"Kshitij\",\"Aditi\",\"Amlan\",\"Parna\",\"Krutika\",\"Tracy\",\"Derr\",\"Michelle\",\"Leslie\",\"Edward\",\"Barreto\",\"Rose\",\"Katharine\",\"Laalji\",\"Kimberly\",\"Krohn\",\"Sudevi\",\"Jennifer\",\"Rob\",\"Hitesh\",\"Pamela\",\"Nockton\",\"Chandni\",\"Crier\",\"Utkarsh\",\"Ausman\",\"Shikhar\",\"Sanskriti\",\"Becker\",\"Chapman\",\"Davis\",\"Baptist\",\"Divyansh\",\"Edward\",\"Conant\",\"Karl\",\"Palak\",\"Rashmi\",\"Corey-Lock\",\"Anurag\",\"Jacobs\",\"Cynthia\",\"Shefali\",\"Girase\",\"Divyeta\",\"Klamczynski\",\"Sathya\",\"Badders\",\"Tracy\",\"Marie\",\"Patricia\",\"Bhosale\",\"Bremer\",\"Nidhi\",\"Rawles\",\"Selesnick\",\"Soumya\",\"Yoseph\",\"Boyes\",\"Manshul\",\"Mane\",\"Lycoris\",\"Justin\",\"Shruti\",\"Trupti\",\"Vaibhav\",\"Jumper\",\"Divyansha\",\"Ishpreet\",\"Rahul\",\"Xylona\",\"Darrin\",\"Bhawna\",\"Herbert\",\"Nguyen\",\"Shahid\",\"Parnavi\",\"Spruell\",\"Shrichand\",\"Harivansh\",\"Phillina\",\"Bhishm\",\"Moss\",\"Halladay\",\"Trupti\",\"Pranjali\",\"Mahima\",\"Ramesh\",\"Mukund\",\"Akancha\",\"Knudson\",\"Barchas\",\"Flathmann\",\"Troy\",\"Rohan\",\"Pradeep\",\"Manish\",\"Lee\",\"Cortes\",\"Deborah\",\"Mitali\",\"Anisha\",\"Ferrer\",\"Astrea\",\"Butterfield\",\"Sidharth\",\"Hitesh\",\"Kaydos\",\"Sudevi\",\"Lawera\",\"Lisha\",\"Arpita\",\"Swapnil\",\"Snel\",\"Don\",\"Gute\",\"Kiefer\",\"Saptadeep\",\"Anudeep\",\"Rachna\",\"Glotzbach\",\"Diwakar\",\"Gross\",\"Nida\",\"Elpida\",\"Cooley\",\"Geetanjali\",\"Jill\",\"Pratyusmita\",\"Huffman\",\"McGrath\",\"Mrinal\",\"Saurabh\",\"Cox\",\"Yedwab\",\"Jitesh\",\"Barnes\",\"Gilpin\",\"Ankit\",\"Ivan\",\"Swint\",\"Zettner\",\"Freymann\",\"Shivam\",\"Armold\",\"Deborah\",\"Sundaresam\",\"Sudheer\",\"VanderZanden\",\"Lakshmi\",\"Joel\",\"Dave\",\"Anudeep\",\"Akshat\",\"Shivam\",\"Hitika\",\"Vijay\",\"Leslie\",\"Sudheer\",\"Dean\",\"Benoit\",\"Damala\",\"Monisha\",\"Powers\",\"Monton\",\"Jim\",\"Laalji\",\"Stefania\",\"Rachna\",\"Sauptik\",\"Steele\",\"Parin\",\"Kalyca\",\"Katrina\",\"Hazel\",\"Gannaway\",\"Vijay\",\"MaryBeth\",\"Lalita\",\"West\",\"Arpita\",\"Nandita\",\"Donovan\",\"Barbara\",\"Vasudev\",\"Gaurav\",\"Lee\",\"Gaurav\",\"Keshav\",\"Engle\",\"Shahid\",\"Halladay\",\"Fritzler\",\"Beeghly\",\"Beltran\",\"Mukesh\",\"Swati\",\"Bergman\",\"Dipali\",\"Dipali\",\"Katrina\",\"Aastha\",\"Sanjit\",\"Payne\",\"Kimmel\",\"Adrian\",\"Seth\",\"Charika\",\"Aastha\",\"Christensen\",\"Vishakha\",\"Crebagga\",\"Dilbeck\",\"Gilcrest\",\"Shami\",\"Delaney\",\"Priyanka\",\"Kriz\",\"Abhijeet\",\"Neil\",\"Tony\",\"Mugdha\",\"Hitesh\",\"Heidel\",\"Patricia\",\"Jesus\",\"Charles\",\"Charlotte\",\"Ed\",\"Glassco\",\"Abhijit\",\"Hopkins\",\"Taslimi\",\"Taslimi\",\"Fein\",\"Applegate\",\"Sheetal\",\"Harms\",\"Kunst\",\"Grinstein\",\"Vishakha\",\"Heather\",\"Shaily\",\"Lisha\",\"Cacioppo\",\"Bathina\",\"Flathmann\",\"Suhani\",\"Granlund\",\"Ordway\",\"Herman\",\"Noopur\",\"Derr\",\"Spruell\",\"Sanjna\",\"Coyne\",\"Brumley\",\"Dhirajendu\",\"Mrunal\",\"Dickinson\",\"Sukant\",\"Shivanshu\",\"Turumella\",\"Cindy\",\"Marc\",\"Daksh\",\"Rick\",\"Lomonaco\",\"Latchford\",\"Brooks\",\"Cartwright\",\"Applegate\",\"Mhatre\",\"Parna\",\"Foulston\",\"Pölking\",\"Tron\",\"Christensen\",\"Patil\",\"Tillman\",\"Deborah\",\"Raksha\",\"Lichtenstein\",\"Zewe\",\"Phillina\",\"Deggeller\",\"Noel\",\"Hernandez\",\"Wooten\",\"Ishpreet\",\"Thompson\",\"Max\",\"Jacobs\",\"Eaton\",\"Darley\",\"Braxton\",\"Gibson\",\"Mane\",\"Wasserman\",\"Aparajita\",\"Sukant\",\"Schneider\",\"Sudevi\",\"Natalie\",\"Ayush\",\"Hazel\",\"Roy\",\"Sam\",\"Paige\",\"Paige\",\"Parth\",\"Sanjay\",\"Haushalter\",\"Garverick\",\"Christy\",\"Eason\",\"Ajay\",\"Tanvi\",\"Parks\",\"Patricia\",\"Bühler\",\"Avish\",\"Heidel\",\"Lebron\",\"Rose\",\"Suman\",\"Denise\",\"Avni\",\"Fuller\",\"Patil\",\"Aastha\",\"Dhanraj\",\"Kennedy\",\"Charika\",\"Irene\",\"Foulston\",\"Phonely\",\"Schoenberger\",\"Apoorv\",\"Mick\",\"Haushalter\",\"Swetha\",\"Kalyca\",\"Aarushi\",\"DeCherney\",\"Tanvi\",\"Französisch\",\"Craven\",\"Aditya\",\"Preis\",\"Black\",\"Uudhav\",\"Halladay\",\"Jitesh\",\"Currie\",\"Kelly\",\"Bergman\",\"Hallie\",\"Shreyshi\",\"Dorothy\",\"Ankur\",\"Steele\",\"Arsheen\",\"Ludwig\",\"Maddox\",\"Srishti\",\"Monisha\",\"Phonely\",\"Bühler\",\"Mrunal\",\"Ritu\",\"Ausman\",\"Arpita\",\"Cano\",\"Linda\",\"Amol\",\"Cousins\",\"Rohan\",\"Luxemburg\",\"Praneet\",\"Praneet\",\"Nishant\",\"Ballentine\",\"Ionia\",\"Marc\",\"Lalita\",\"Eaton\",\"Darley\",\"Bixby\",\"Shreyshi\",\"Julie\",\"Eaton\",\"Norvell\",\"Paromita\",\"Michelle\",\"Sheetal\",\"Akshata\",\"Gene\",\"Kunst\",\"Liston\",\"Adam\",\"Goranitis\",\"Phalguni\",\"Sonal\",\"Bertelson\",\"Xylona\",\"Tillman\",\"Eric\",\"Elijah\",\"Corey\",\"Moumita\",\"Reed\",\"Vasudev\",\"Lawera\",\"Pete\",\"Shreyshi\",\"Corey-Lock\",\"Baird\",\"Jaideep\",\"Moumita\",\"Kirti\",\"Abhijeet\",\"Gainer\",\"Becky\",\"Erin\",\"Shreya\",\"Calhoun\",\"Rohan\",\"Gopal\",\"Diwakar\",\"Nishant\",\"Eichhorn\",\"Rutuja\",\"Sathya\",\"Brijesh\",\"Jesslyn\",\"Andreadi\",\"Naresj\",\"Hildebrand\",\"Lloyd\",\"Vicky\",\"Frank\",\"Andrew\",\"Tiffany\",\"Murry\",\"Yash\",\"Wardle\",\"Cari\",\"Andreada\",\"Armstrong\",\"Sakshi\",\"Troy\",\"Medina\",\"Mane\",\"Heather\",\"Pond\",\"Charlotte\",\"Chirag\",\"Kelly\",\"Karandeep\",\"Manjiri\",\"Van\",\"Rahul\",\"Damala\",\"Marley\",\"Hilary\",\"Nelson\",\"Phan\",\"Joe\",\"Aishwarya\",\"Sathya\",\"Ober\",\"Yogesh\",\"Vishakha\",\"Phillip\",\"Joseph\",\"Vittorini\",\"Carl\",\"Victoria\",\"Bhutekar\",\"Dilbeck\",\"Vernon\",\"Hughes\",\"Ross\",\"Bremer\",\"Kshitij\",\"Valerie\",\"Noshiba\",\"Kiran\",\"Kane\",\"Charles\",\"Alice\",\"Clark\",\"Akshata\",\"Sonal\",\"Ward\",\"Palak\",\"Laura\",\"Astrea\",\"Brumfield\",\"Yaanvi\",\"Yoseph\",\"Glantz\",\"Schnelling\",\"Sneha\",\"Megha\",\"Schwarz\",\"Bhargav\",\"MaryBeth\",\"Shaily\",\"Kendrick\",\"Shagiari\",\"Jim\",\"Tyler\",\"Hagelstein\",\"Subhashree\",\"Weirich\",\"Wallace\",\"Dave\",\"Gillingham\",\"Gillingham\",\"Samiksha\",\"Shagiari\",\"Mark\",\"Jackson\",\"Wiener\",\"Meg\",\"Atul\",\"Coakley\",\"Federle\",\"Hunter\",\"Derr\",\"Manjiri\",\"Larry\",\"Kalyani\",\"Phillina\",\"Gaurav\",\"Doherty\",\"Adhvaita\",\"Preis\",\"Bhishm\",\"Martinez\",\"Amit\",\"Rachna\",\"Joy\",\"Franz\",\"Philisse\",\"Noel\",\"Priyanshu\",\"Karen\",\"David\",\"Ober\",\"Nunn\",\"Odella\",\"John\",\"Trevino\",\"Deggeller\",\"Shivangi\",\"Kushal\",\"Arntzen\",\"Krutika\",\"Wasserman\",\"Andreadi\",\"Vishakha\",\"Williamson\",\"Moren\",\"Gaurav\",\"Corey-Lock\",\"Suman\",\"Bharat\",\"Bierner\",\"Fritzler\",\"Aditya\",\"Roland\",\"Sink\",\"Nunn\",\"Workman\",\"Willman\",\"Cathy\",\"Riya\",\"Freymann\",\"Matthias\",\"Surbhi\",\"Paige\",\"Melton\",\"Goldenen\",\"Pournamasi\",\"Resi\",\"Bixby\",\"Akanksha\",\"Nat\",\"Mitali\",\"Gunjal\",\"Deggeller\",\"Bhosale\",\"Chung\",\"Karandeep\",\"Keith\",\"Palak\",\"Champaklata\",\"Lichtenstein\",\"Raglin\",\"Epp\",\"Mrunal\",\"Kelly\",\"Zic\",\"Workman\",\"Divyansha\",\"Seth\",\"Erica\",\"Crowe\",\"Nancy\",\"Harshita\",\"Jamie\",\"Charles\",\"Charles\",\"Cathy\",\"Halladay\",\"McGrath\",\"Apsingekar\",\"Harsh\",\"Daksh\",\"Sylvia\",\"Shui\",\"Anna\",\"Pinky\",\"Willman\",\"Doherty\",\"Sandra\",\"Weien\",\"Gary\",\"Harshita\",\"Gannaway\",\"Sanskriti\",\"Siddharth\",\"Naresj\",\"Sudevi\",\"Meador\",\"Beeghly\",\"Aishwarya\",\"Kritika\",\"Poirier\",\"William\",\"Asish\",\"McCarthy\",\"Jarboe\",\"Powers\",\"Company\",\"Overfelt\",\"Sanjay\",\"Smith\",\"Alan\",\"Hildebrand\",\"Mukund\",\"Shreyoshe\",\"Dhirajendu\",\"Rashmi\",\"Dave\",\"Gary\",\"Joy\",\"Wiener\",\"Kastensmidt\",\"Wener\",\"Prajakta\",\"Sharda\",\"Noah\",\"Poirier\",\"Sheetal\",\"Shifley\",\"Meg\",\"Craig\",\"Duhita\",\"Shivam\",\"Eno\",\"Karen\",\"Bhawna\",\"Paridhi\",\"Champaklata\",\"Parna\",\"James\",\"Weirich\",\"Sudhir\",\"Shrichand\",\"Andy\",\"Shardul\",\"Phelps\",\"Brooks\",\"Candace\",\"Sudevi\",\"Adrian\",\"Keshav\",\"Voltz\",\"Dickinson\",\"Holden\",\"Suhani\",\"Parishi\",\"Becky\",\"Michelle\",\"Alex\",\"Amit\",\"Ritter\",\"Howell\",\"William\",\"Sagar\",\"Goldwyn\",\"Charika\",\"Dona\",\"Ed\",\"Zydlo\",\"Carter\",\"Suraj\",\"Jitesh\",\"Mathew\",\"Ocampo\",\"Ameesha\",\"Lalita\",\"Knutson\",\"Cortes\",\"MacIntyre\",\"Marley\",\"Odella\",\"Ginny\",\"Shivangi\",\"Raglin\",\"Patricia\",\"Damala\",\"Shourya\",\"Brumley\",\"Oshin\",\"Sanjay\",\"Smriti\",\"Utsav\",\"Kennedy\",\"Scott\",\"Becker\",\"Franz\",\"Oakman\",\"Poddar\",\"Namrata\",\"Christensen\",\"Gopal\",\"Holden\",\"Dryer\",\"Zeldin\",\"Dickinson\",\"Corinna\",\"Todd\",\"Siddharth\",\"Siddharth\",\"Stephanie\",\"Yohann\",\"Tom\",\"Anand\",\"Reiter\",\"Chung\",\"Chuck\",\"Dilbeck\",\"Dilbeck\",\"Pranav\",\"Pratiksha\",\"Schwartz\",\"O'Connel\",\"Howell\",\"Sandeep\",\"Ashmeet\",\"Sharda\",\"Overfelt\",\"Mitchum\",\"Mitchum\",\"Kinney\",\"Alex\",\"Arntzen\",\"Aishwarya\",\"Sudevi\",\"Rob\",\"Moray\",\"Atul\",\"Arti\",\"Hendricks\",\"Alyssa\",\"Tate\",\"Patricia\",\"Gunjal\",\"Dahlen\",\"Shirley\",\"Chetan\",\"Claudia\",\"Williamson\",\"Stuart\",\"Bergman\",\"Sudevi\",\"Mhatre\",\"Aparajita\",\"Sperren\",\"Vivek\",\"Gonzalez\",\"Eric\",\"Anita\",\"Rawles\",\"Akshat\",\"Luke\",\"Luke\",\"Coakley\",\"Kamberova\",\"Kiran\",\"Jack\",\"Weimer\",\"Flentye\",\"Barchas\",\"Seite\",\"Folk\",\"Perrino\",\"Dionis\",\"Charlotte\",\"Jackson\",\"Derr\",\"Chirag\",\"Nora\",\"Phan\",\"Chung\",\"Cousins\",\"Coram\",\"Patt\",\"Sayre\",\"Parth\",\"DeVincentis\",\"Priyanshu\",\"Kartik\",\"Cathy\",\"Vaibhavi\",\"Bobby\",\"Mitch\",\"Atharv\",\"Sylvia\",\"Dan\",\"Pardue\",\"Parna\",\"McGuire\",\"Russell\",\"Eugene\",\"Pelletier\",\"Hamilton\",\"Heidel\",\"Farry\",\"Shubhi\",\"Kalyca\",\"Vittorini\",\"Cohen\",\"Burns\",\"Soltero\",\"Brijesh\",\"Marc\",\"Russell\",\"Bell\",\"Mukund\",\"Lalita\",\"Bharat\",\"Kipp\",\"Swati\",\"Harry\",\"Calhoun\",\"Sanjova\",\"Nikita\",\"Eaton\",\"Kimberly\",\"Gordon\",\"Madhulika\",\"Farry\",\"Lanier\",\"Vishakha\",\"Aayush\",\"Ann\",\"Marley\",\"Atkinson\",\"Georgia\",\"Aryan\",\"Gibson\",\"Sharda\",\"Cathy\",\"Kalyca\",\"Harshita\",\"Toby\",\"Divyansha\",\"Carlisle\",\"Bhargav\",\"Hoffman\",\"Skach\",\"Roland\",\"Vernon\",\"Shrichand\",\"Hawkins\",\"Aryan\",\"Dinesh\",\"Sauptik\",\"Pippenger\",\"Bellavance\",\"Vaibhavi\",\"Mrunal\",\"Priyanshu\",\"Seio\",\"Martin\",\"Tejas\",\"Chen\",\"Brockman\",\"Krutika\",\"Hildebrand\",\"Cartwright\",\"Hunter\",\"Shourya\",\"Sudevi\",\"Baptist\",\"Keshav\",\"Sample\",\"Pamela\",\"Mathew\",\"Lindsay\",\"Marie\",\"Pond\",\"Troy\",\"Dilbeck\",\"Teena\",\"Girase\",\"Sandra\",\"Overcash\",\"Pauline\",\"Etezadi\",\"Lloyd\",\"Moumita\",\"Weirich\",\"Shrichand\",\"Goldenen\",\"Richard\",\"Seth\",\"Alan\",\"Ratner\",\"Ober\",\"Patrick\",\"Raglin\",\"Keshav\",\"Holden\",\"Navdeep\",\"Rashmi\",\"Mitchum\",\"Namrata\",\"Oshin\",\"Shifley\",\"Sanjna\",\"Karen\",\"Aarushi\",\"Ishpreet\",\"Sewall\",\"Myrick\",\"Henia\",\"Rosenblatt\",\"Jahan\",\"Utkarsh\",\"Snel\",\"O'Donnell\",\"Vipul\",\"Pölking\",\"Laalji\",\"Sabah\",\"Thomas\",\"Ulpright\",\"Indulekha\",\"Shivangi\",\"Prescott\",\"Armold\",\"Bolton\",\"Pryor\",\"Flathmann\",\"Edelman\",\"Atul\",\"Manjiri\",\"Champaklata\",\"Fisher\",\"Emily\",\"Manibalan\",\"Gross\",\"Shrichand\",\"Evan\",\"Evan\",\"Breyer\",\"Roland\",\"Sneha\",\"Pournamasi\",\"Jennifer\",\"Ajay\",\"Tiffany\",\"Crebagga\",\"Chandni\",\"Marc\",\"Meador\",\"Kirti\",\"Logan\",\"Satty\",\"Pamela\",\"Nora\",\"Calhoun\",\"Bzostek\",\"Shivam\",\"Randy\",\"Ekta\",\"Doherty\",\"Erin\",\"Philisse\",\"Vicky\",\"Sonal\",\"Anthony\",\"Stuti\",\"Hansen\",\"Aleksandra\",\"Aleksandra\",\"Manshul\",\"Pete\",\"Sarah\",\"Lacy\",\"Parnavi\",\"Bixby\",\"Lalita\",\"Lalita\",\"Hilary\",\"Farry\",\"Jackson\",\"Boyes\",\"Philip\",\"Sauptik\",\"Ben\",\"Lisha\",\"Lisha\",\"Zic\",\"Shubham\",\"Pak\",\"Powers\",\"Nripraj\",\"Eno\",\"Avish\",\"Merwin\",\"Sudheer\",\"Hendricks\",\"Paige\",\"Arsheen\",\"Nripraj\",\"Brumley\",\"Byrd\",\"Arun\",\"Aayushi\",\"Rishabh\",\"Prajakta\",\"Farah\",\"Dorris\",\"Jennifer\",\"Moray\",\"Rittenbach\",\"Carroll\",\"Shatayu\",\"Matt\",\"Patil\",\"Adhvaita\",\"Shifley\",\"Fuller\",\"Ishit\",\"Ross\",\"Barton\",\"Aleksandra\",\"Nockton\",\"Hitika\",\"Vineet\",\"Peter\",\"Joni\",\"Pournamasi\",\"Aastha\",\"Abhimanyu\",\"Katrina\",\"Brooke\",\"Sanjna\",\"Boeckenhauer\",\"Brumley\",\"Blacks\",\"Ashbrook\",\"Suman\",\"Lori\",\"Hitesh\",\"Aman\",\"Gjertsen\",\"Freymann\",\"Chikku\",\"Hood\",\"Mitch\",\"Reed\",\"Holt\",\"Yaanvi\",\"Hildebrand\",\"Naresj\",\"Braxton\",\"Vasudev\",\"Shantanu\",\"Yoseph\",\"Jaydeep\",\"Kushal\",\"Janet\",\"Ausman\",\"Adam\",\"Praneet\",\"Cathy\",\"Aditi\",\"Coram\",\"Devendra\",\"Mukesh\",\"Carlisle\",\"Vivian\",\"Hooks\",\"Tanja\",\"Surabhi\",\"Lalita\",\"Latchford\",\"Conant\",\"Coyne\",\"Rosenberg\",\"Ferguson\",\"Lanier\",\"Subhasmita\",\"Sam\",\"Tushina\",\"Gary\",\"Vivek\",\"Anjali\",\"Alan\",\"Dennis\",\"Chloris\",\"Theresa\",\"Dahlen\",\"Koutras\",\"Wiediger\",\"Yotov\",\"Philip\",\"MacIntyre\",\"Cari\",\"Quincy\",\"Nirja\",\"Thompson\",\"K\",\"Pournamasi\",\"Soodesh\",\"Duane\",\"McAfee\",\"Ameesha\",\"Brumley\",\"Cano\",\"Chloris\",\"Frazer\",\"Noel\",\"Barton\",\"Jaydeep\",\"Lonsdale\",\"Becker\",\"Fritzler\",\"Eugene\",\"Halladay\",\"Roper\",\"Maribeth\",\"Teena\",\"Arntzen\",\"Julia\",\"Lawera\",\"Yash\",\"Abhishek\",\"Reichenbach\",\"Kiefer\",\"Jill\",\"Adrian\",\"Zypern\",\"Arti\",\"Rittenbach\",\"Overcash\",\"Mitali\",\"Manning\",\"Ludwig\",\"Phonely\",\"Ashley\",\"DeMoss\",\"Sneha\",\"Meador\",\"Tanvi\",\"Bathina\",\"Schoenberger\",\"Manshul\",\"Parth\",\"Radford\",\"Blanton\",\"Luxemburg\",\"Jesus\",\"Shreya\",\"Dave\",\"Trupti\",\"Dilbeck\",\"Dryer\",\"Atkinson\",\"Roy\",\"James\",\"Benjamin\",\"Patt\",\"Bixby\",\"Rose\",\"McCrary\",\"Skye\",\"Sonal\",\"Schwartz\",\"Grace\",\"Delfina\",\"Akash\",\"Jessica\",\"Zrebassa\",\"Jahan\",\"Phelps\",\"Denise\",\"Noel\",\"Denise\",\"Aparajita\",\"Scot\",\"MaryBeth\",\"Daniels\",\"Lakshmi\",\"Lawera\",\"Lacy\",\"Emily\",\"Parishi\",\"Barton\",\"Crebassa\",\"Yohann\",\"Buch\",\"Dilbeck\",\"Noshiba\",\"Aastha\",\"Mills\",\"Dilbeck\",\"Vini\",\"Sanjova\",\"Eugene\",\"Hildebrand\",\"Riya\",\"Mitchell\",\"Sonia\",\"Engle\",\"Fisher\",\"Saloni\",\"Balk\",\"Geld\",\"Schneider\",\"Joy\",\"Eaton\",\"Bixby\",\"Aryan\",\"Maxwell\",\"Matt\",\"Boyes\",\"Manibalan\",\"Luxemburg\",\"Don\",\"Barroso\",\"Pinky\",\"McMahon\",\"Fisher\",\"Dowd\",\"Parnavi\",\"Sue\",\"Gunjan\",\"Sujay\",\"Sujay\",\"Corey-Lock\",\"Filia\",\"Willman\",\"Parhena\",\"Gelder\",\"Selesnick\",\"Selesnick\",\"Liz\",\"Turnell\",\"Conant\",\"Sunley\",\"Tulika\",\"Phalguni\",\"Pelletier\",\"Bellavance\",\"Eva\",\"Cunningham\",\"Bradley\",\"Chong\",\"Bremer\",\"Deanra\",\"Lynn\",\"Katrina\",\"Roland\",\"McClure\",\"Steele\",\"Kimberly\",\"Martin\",\"Barreto\",\"Kirkland\",\"Andreadi\",\"Sylvia\",\"Eason\",\"Aarushi\",\"Joseph\",\"Fritzler\",\"Atharv\",\"Mahima\",\"Aarushi\",\"Vishakha\",\"Rane\",\"Cari\",\"MacAllister\",\"Moren\",\"Badders\",\"Kotsonis\",\"Uudhav\",\"Barchas\",\"Gopal\",\"Degenhardt\",\"Lisha\",\"Nripraj\",\"Kelly\",\"Julie\",\"Bhavna\",\"Hughsby\",\"Barton\",\"Anchal\",\"Edelman\",\"Adams\",\"Kargatis\",\"Rutuja\",\"Cartwright\",\"Victor\",\"Govind\",\"Bergmann\",\"Grove\",\"Anand\",\"Brockman\",\"Brijesh\",\"McCrossin\",\"Rupert\",\"Dan\",\"Randy\",\"Jeremy\",\"Cartwright\",\"Oshin\",\"Moren\",\"Alice\",\"Ben\",\"Yogesh\",\"Doug\",\"Bhargav\",\"Parth\",\"Patt\",\"Swindell\",\"Utsav\",\"Sukant\",\"Brenda\",\"Vaibhav\",\"Blackwell\",\"Glantz\",\"Aishwarya\",\"Lena\",\"Carroll\",\"Lori\",\"MacIntyre\",\"Bart\",\"Jacobs\",\"Akanksha\",\"Henry\",\"Pratiksha\",\"Sanskriti\",\"Asish\",\"Grove\",\"Vijay\",\"Mark\",\"Paridhi\",\"Edward\",\"Neoma\",\"Collins\",\"Jim\",\"Alejandro\",\"Jarboe\",\"Lawera\",\"Philippe\",\"Foulston\",\"Dominguez\",\"Maddox\",\"Savely\",\"Sonakshi\",\"David\",\"Parna\",\"Jonathan\",\"Shivani\",\"Trafton\",\"Chirag\",\"Knutson\",\"Shruti\",\"Prajakta\",\"McGuire\",\"Barbara\",\"Aishwarya\",\"Raglin\",\"Wale\",\"Karl\",\"Rohan\",\"Coakley\",\"Chetan\",\"Abhishek\",\"Maris\",\"Nishant\",\"Juliana\",\"Fisher\",\"Sanjova\",\"Jas\",\"Aishwarya\",\"Girase\",\"McAdams\",\"Pak\",\"Hilary\",\"Claire\",\"Yaanvi\",\"Yoseph\",\"Bzostek\",\"Burns\",\"Grove\",\"Parth\",\"Thompson\",\"Lela\",\"Heidel\",\"Brosina\",\"Sievert\",\"Nora\",\"Hopkins\",\"Jane\",\"Yogesh\",\"Chad\",\"Noopur\",\"Jaydeep\",\"Conant\",\"Shivangi\",\"Nona\",\"Gardner\",\"Campbell\",\"Kipp\",\"Cortes\",\"Hastings\",\"Stewart\",\"MacAllister\",\"Tonja\",\"Muhammed\",\"Ashmi\",\"Hitesh\",\"Hughes\",\"Dennis\",\"Halladay\",\"Blumstein\",\"Brian\",\"Shardul\",\"Laurel\",\"Utsav\",\"Craven\",\"Charles\",\"Kiefer\",\"Shweta\",\"Glassco\",\"Sonia\",\"Arianne\",\"Tron\",\"Barreto\",\"Piyali\",\"Jamie\",\"Bhaggyasree\",\"Brooks\",\"MacAllister\",\"Irving\",\"Sudevi\",\"Caffey\",\"Subhasmita\",\"Lisa\",\"Monu\",\"Sudevi\",\"John\",\"Fox\",\"Cacioppo\",\"Ajay\",\"Workman\",\"Amit\",\"MacAllister\",\"Skach\",\"Etezadi\",\"Amol\",\"Nikita\",\"Foster\",\"Dipali\",\"Kennedy\",\"Caroline\",\"Maurice\",\"Katherine\",\"Parks\",\"Manning\",\"Tanvi\",\"Pournamasi\",\"Sharda\",\"Phan\",\"Mhatre\",\"Flashing\",\"Cynthia\",\"Yohann\",\"Nick\",\"Cox\",\"Jessica\",\"Connell\",\"Elias\",\"Pratyusmita\",\"James\",\"Nguyen\",\"Fred\",\"Carroll\",\"Sudhir\",\"Lawera\",\"Pournamasi\",\"VanderZanden\",\"Ben\",\"Maithilee\",\"Sweta\",\"Kipp\",\"Deborah\",\"Ashmi\",\"Bertelson\",\"Sissman\",\"Steven\",\"Thompson\",\"Sukant\",\"Luke\",\"Siddharth\",\"Grant\",\"Bixby\",\"Dartt\",\"Vipul\",\"Brenda\",\"Dona\",\"Sukrith\",\"Inderpreet\",\"Gonzalez\",\"Kiran\",\"Kajal\",\"Carreira\",\"Sidharth\",\"Gayman\",\"Perrino\",\"Linda\",\"Tulika\",\"Aastha\",\"Jaideep\",\"Jaydeep\",\"Baptist\",\"Shivam\",\"Mills\",\"MacIntyre\",\"Farah\",\"Norris\",\"Ritsa\",\"Darrin\",\"Kimberly\",\"Grove\",\"Ritter\",\"Cohen\",\"Stivers\",\"Armstrong\",\"Harshita\",\"Schmidt\",\"Barchas\",\"Rohit\",\"Nunn\",\"K\",\"Pisteka\",\"Chloris\",\"Surabhi\",\"Apoorva\",\"Logan\",\"Barchas\",\"Stuart\",\"McGrath\",\"Dona\",\"Lakshmi\",\"Barnes\",\"Eplett\",\"Christina\",\"Harsh\",\"Mansi\",\"Lawera\",\"Ankit\",\"Meghana\",\"Claire\",\"Boyes\",\"William\",\"Marley\",\"Gockenbach\",\"Prashant\",\"Chong\",\"Lena\",\"Kirti\",\"Fuller\",\"Kiefer\",\"Nishi\",\"Kipp\",\"Pete\",\"Uudhav\",\"Gelder\",\"Harms\",\"Prashant\",\"Vittorini\",\"Pooja\",\"Radford\",\"Smith\",\"Mitchum\",\"Divyeta\",\"Sue\",\"Vishakha\",\"Delfina\",\"Delfina\",\"Spruell\",\"Hughsby\",\"Zandusky\",\"Ted\",\"Sonal\",\"Chong\",\"Ben\",\"Rohan\",\"Bzostek\",\"Marley\",\"Parna\",\"Ben\",\"Deirdre\",\"William\",\"Troy\",\"Degenhardt\",\"Akshay\",\"Kshitij\",\"Cartwright\",\"Soumya\",\"Catherine\",\"Pradeep\",\"Mayank\",\"Donovan\",\"Karlsson\",\"Galang\",\"Aleksandra\",\"Schmidt\",\"Kalyca\",\"Lacy\",\"Stevenson\",\"Manju\",\"Ellis\",\"Dowd\",\"Praneet\",\"Sievert\",\"Bailliet\",\"Huston\",\"Etezadi\",\"Johnson\",\"Soodesh\",\"Kiran\",\"Vishakha\",\"LaWare\",\"Karandeep\",\"Dortch\",\"Mhatre\",\"Lisa\",\"Jocasta\",\"Marina\",\"Kampe\",\"Glassco\",\"Koutras\",\"Mane\",\"Nikita\",\"Thomas\",\"Smriti\",\"Penelope\",\"Swetlana\",\"Hopkins\",\"Candace\",\"Kimmel\",\"Bailliet\",\"Maithilee\",\"Elijah\",\"Mukesh\",\"Greg\",\"Gordon\",\"Dryer\",\"Joni\",\"Gunjan\",\"Carter\",\"Sanjova\",\"Koutras\",\"Mansi\",\"Divyansha\",\"Sujay\",\"Piyali\",\"Soumyabrata\",\"Roper\",\"Nripraj\",\"Martin\",\"Paromita\",\"Arntzen\",\"Boyes\",\"Snehal\",\"Sanjay\",\"Anisha\",\"Ameesha\",\"Sahil\",\"Gute\",\"Galang\",\"Sally\",\"Bharat\",\"Yash\",\"Don\",\"Ulpright\",\"Dana\",\"Fritzler\",\"Tillman\",\"Ameesha\",\"Demir\",\"Pryor\",\"Greer\",\"McCarthy\",\"Turumella\",\"Maddox\",\"Glotzbach\",\"Siddharth\",\"Weimer\",\"Adams\",\"Nockton\",\"Thea\",\"Avish\",\"Jackson\",\"Eno\",\"Kinney\",\"Sabah\",\"Burns\",\"Moray\",\"Jenna\",\"Praneet\",\"Patel\",\"Becky\",\"Nida\",\"Anne\",\"Eileen\",\"Eleni\",\"Shivam\",\"Shruti\",\"Rishabh\",\"Adrian\",\"Leatherbury\",\"Jamie\",\"Ausman\",\"Krutika\",\"Gross\",\"Nockton\",\"Jahan\",\"Skach\",\"Adams\",\"Gene\",\"Brooks\",\"Diwakar\",\"Phonely\",\"Charika\",\"Buch\",\"Christina\",\"Maxwell\",\"Knutson\",\"Astrea\",\"Hughes\",\"Dionis\",\"Darley\",\"Dean\",\"Akash\",\"Aromal\",\"Cousins\",\"Sanjay\",\"Maria\",\"Nikhil\",\"Subhasmita\",\"Flathmann\",\"Shreyoshe\",\"Suraj\",\"Mohan\",\"Bremer\",\"Frank\",\"Aayush\",\"Chirag\",\"Cheatham\",\"Bruce\",\"Jill\",\"Barnett\",\"LaWare\",\"Dheeraj\",\"Barbara\",\"MacAllister\",\"Kalyca\",\"Vivian\",\"Jahan\",\"Trevino\",\"Rhea\",\"VanderZanden\",\"Jesal\",\"Jesal\",\"Matt\",\"Schwarz\",\"Sukant\",\"Shami\",\"Akash\",\"Atharv\",\"Anubhaw\",\"Hood\",\"Katrina\",\"Namrata\",\"Christina\",\"Andy\",\"Laalji\",\"Abhijit\",\"Van\",\"Herman\",\"Pölking\",\"Joel\",\"Victoria\",\"Ricardo\",\"Christy\",\"Gopal\",\"Amol\",\"Goranitis\",\"Ratner\",\"Gjertsen\",\"Mathis\",\"Reiter\",\"Nandita\",\"Watters\",\"Julia\",\"Magdelene\",\"Joy\",\"Kamberova\",\"Sneha\",\"Alejandro\",\"Matthias\",\"Braunhardt\",\"Holden\",\"Black\",\"Craven\",\"Shivani\",\"Scott\",\"Yaanvi\",\"Hawkins\",\"Foster\",\"Lanier\",\"Pamela\",\"Annie\",\"Cyra\",\"Barry\",\"Vijay\",\"Avila\",\"Nikhil\",\"Arun\",\"Katrina\",\"Visinsky\",\"Henry\",\"Astrea\",\"Akash\",\"Weimer\",\"Oshin\",\"Tillman\",\"Schwartz\",\"Hooks\",\"Baird\",\"Hazard\",\"Kargatis\",\"Teena\",\"Henia\",\"Sanjay\",\"Sagar\",\"Sudevi\",\"Ivan\",\"Kalyca\",\"Hoffmann\",\"Chetan\",\"Jamie\",\"Suman\",\"Zydlo\",\"Michelle\",\"Corey\",\"McAdams\",\"Phan\",\"Vaibhavi\",\"Merwin\",\"Crestani\",\"Chad\",\"Hightower\",\"Inderpreet\",\"Tushina\",\"Crebagga\",\"Holloman\",\"Dona\",\"Alejandro\",\"Barnes\",\"Olsen\",\"Company\",\"Sudhir\",\"Delfina\",\"Sudheer\",\"Lebron\",\"Gunjal\",\"Frazer\",\"Dipali\",\"Sanjay\",\"Bharat\",\"Adam\",\"Bremer\",\"Hagelstein\",\"Monu\",\"Parna\",\"Armold\",\"Anderson\",\"Neoma\",\"Crestani\",\"Ober\",\"Cortes\",\"Waldorf\",\"Cortes\",\"Troy\",\"Aditi\",\"Filia\",\"Herrera\",\"Sujay\",\"Shantanu\",\"Ashmeet\",\"Siddharth\",\"Gute\",\"Dorris\",\"Paridhi\",\"Anemone\",\"Beth\",\"Haushalter\",\"Holt\",\"Arti\",\"Victor\",\"Chance\",\"Anemone\",\"Trafton\",\"Maurice\",\"Norris\",\"Gaurav\",\"Deepak\",\"Oakman\",\"Tony\",\"Harry\",\"Gjertsen\",\"Gonzalez\",\"Harton\",\"Hirasaki\",\"Arindam\",\"O'Brian\",\"Airdo\",\"Phonely\",\"Ocampo\",\"Oshin\",\"Kotsonis\",\"Cortes\",\"Guy\",\"Guy\",\"Wardle\",\"Meade\",\"Deggeller\",\"MacKendrick\",\"Shefali\",\"Stuti\",\"Dominguez\",\"Catlett\",\"Ayush\",\"Laura\",\"Ashvini\",\"Jane\",\"Deggeller\",\"DeMoss\",\"Karl\",\"Eva\",\"Maxwell\",\"Willingham\",\"Huffman\",\"Daly\",\"Wiediger\",\"Ginny\",\"Krutika\",\"Hernandez\",\"Omkar\",\"Rosenberg\",\"Brennan\",\"Brennan\",\"Palak\",\"Ashley\",\"Palak\",\"Maria\",\"Shivangi\",\"Pauline\",\"Noah\",\"Crowe\",\"Kennedy\",\"Swati\",\"Fuller\",\"Harshita\",\"Fuller\",\"Murry\",\"Shantanu\",\"Mitch\",\"Myrick\",\"Clasen\",\"Kalyani\",\"Guthrie\",\"Creighton\",\"Huffman\",\"Grant\",\"Vineet\",\"Martinez\",\"Murray\",\"Pranjali\",\"Mukesh\",\"Mills\",\"O'Rourke\",\"Buch\",\"West\",\"VanderZanden\",\"Blumstein\",\"Hernandez\",\"Reiten\",\"Sumrall\",\"Barnes\",\"Cooley\",\"Sumrall\",\"Dortch\",\"Arianne\",\"Srishti\",\"Akshata\",\"Bhavna\",\"Sidharth\",\"Mull\",\"Venier\",\"Nelson\",\"Brumfield\",\"Parakh\",\"Joni\",\"Uudhav\",\"Leinenbach\",\"Thurman\",\"Fox\",\"Jesus\",\"Skach\",\"Daly\",\"Gjertsen\",\"Nora\",\"Nora\",\"Vishakha\",\"Brijesh\",\"Fritzler\",\"Vipul\",\"Cyra\",\"Kristen\",\"Hood\",\"Vikash\",\"Tejas\",\"Tejas\",\"Selesnick\",\"Katharine\",\"Dave\",\"Masurkar\",\"Komal\",\"Randy\",\"Jacobs\",\"Randy\",\"Meg\",\"Hirsh\",\"Jennifer\",\"Aman\",\"Wendt\",\"Lakshmi\",\"Lakshmi\",\"Guthrie\",\"Siddharth\",\"Rose\",\"Ameesha\",\"Rose\",\"Moore\",\"Parth\",\"Kipp\",\"Neola\",\"Van\",\"Folk\",\"Manshul\",\"Thompson\",\"Champaklata\",\"Mugdha\",\"Harold\",\"Mugdha\",\"Parna\",\"McGarr\",\"Mitch\",\"Aparajita\",\"Aarushi\",\"Anmol\",\"Weiss\",\"Hirasaki\",\"Cortes\",\"Neil\",\"Halladay\",\"Dave\",\"John\",\"Phelps\",\"Gunjal\",\"Lucas\",\"Patrick\",\"Jumper\",\"Bern\",\"Foster\",\"Murry\",\"Carlisle\",\"Lindsay\",\"Zandusky\",\"Dorris\",\"Pinky\",\"Flathmann\",\"Jaideep\",\"liebe\",\"Moren\",\"Lloyd\",\"Kendrick\",\"Shubham\",\"Taslimi\",\"Murdock\",\"Delaney\",\"Manibalan\",\"Anderson\",\"Schwarz\",\"Cyra\",\"Hwang\",\"Xylona\",\"Knutson\",\"Currie\",\"Saurabh\",\"Avish\",\"Cassandra\",\"Bierner\",\"Pranav\",\"Kunst\",\"House\",\"Hazel\",\"Chandni\",\"Becky\",\"Kunst\",\"Wardle\",\"Megha\",\"VanderZanden\",\"Haushalter\",\"Lori\",\"Dryer\",\"Hallie\",\"Derr\",\"Soltero\",\"Soltero\",\"Cheatham\",\"Jenkins\",\"Cheatham\",\"Ishit\",\"Ishit\",\"Pinky\",\"Swetlana\",\"Alejandro\",\"Maurice\",\"Hale\",\"Sujay\",\"Sujay\",\"Holden\",\"Holden\",\"Ocampo\",\"Dhanraj\",\"Indulekha\",\"Hooks\",\"Jahan\",\"Rittenbach\",\"Chen\",\"Flentye\",\"Priyanshu\",\"Katherine\",\"Gibson\",\"Smith\",\"Toby\",\"Fritzler\",\"Shaily\",\"Chung\",\"Fisher\",\"Apoorv\",\"Sissman\",\"Flashing\",\"Grant\",\"Cacioppo\",\"Arthur\",\"Roelle\",\"Daniels\",\"Van\",\"Harivansh\",\"Jayanti\",\"Van\",\"Shifley\",\"Lisa\",\"Linda\",\"Swetha\",\"Weiss\",\"Fjeld\",\"Weiss\",\"Sudevi\",\"Hale\",\"Brockman\",\"Barbara\",\"Anderson\",\"Waco\",\"Ashley\",\"Chandni\",\"Hallie\",\"Chloris\",\"Gnade\",\"Luke\",\"Nat\",\"Flashing\",\"Rachel\",\"Shivam\",\"Carter\",\"Anmol\",\"Giulietta\",\"Tiffany\",\"Debra\",\"Shifley\",\"Bhawna\",\"Shrichand\",\"Ananya\",\"Shrichand\",\"Berenike\",\"Kaydos\",\"Spruell\",\"Syed\",\"Caudle\",\"Speros\",\"Luke\",\"Inderpreet\",\"Schneider\",\"Black\",\"Brooke\",\"Jitesh\",\"Sonakshi\",\"Katharine\",\"Chong\",\"Jane\",\"Willingham\",\"Ballard\",\"Glotzbach\",\"Airdo\",\"Jack\",\"Aayush\",\"Emily\",\"Phonely\",\"Grace\",\"Hitesh\",\"Freymann\",\"Abelman\",\"Freymann\",\"MacKendrick\",\"Sink\",\"Shantanu\",\"Ginny\",\"MacKendrick\",\"Ginny\",\"Jackson\",\"Kipp\",\"Akin\",\"Smriti\",\"Carl\",\"Witt\",\"Sink\",\"Eno\",\"Eno\",\"Caudle\",\"Anand\",\"Ducich\",\"Corey\",\"Sheetal\",\"Sarah\",\"Karl\",\"Nockton\",\"Byrd\",\"Wener\",\"Andreada\",\"Clytie\",\"Surabhi\",\"Reese\",\"Hallsten\",\"Rittenbach\",\"Beeghly\",\"Pranav\",\"Chapman\",\"Phonely\",\"Rachna\",\"Galang\",\"Elias\",\"Becker\",\"Brooks\",\"Brosina\",\"Nora\",\"Brooks\",\"Bern\",\"Holloman\",\"Saurabh\",\"Fox\",\"Raksha\",\"Turnell\",\"Ashley\",\"Reese\",\"Arindam\",\"Amisha\",\"Beeghly\",\"Brumley\",\"Sink\",\"Halladay\",\"Sanjana\",\"Drucker\",\"Harsh\",\"Amit\",\"Sheetal\",\"Dryer\",\"Powers\",\"Shillingsburg\",\"Dryer\",\"Connell\",\"Elias\",\"Marina\",\"Jenkins\",\"Kennedy\",\"Pardue\",\"Crouse\",\"Meghana\",\"MacKendrick\",\"Boyes\",\"Hooks\",\"Lakshmi\",\"Sweed\",\"Braun\",\"Annie\",\"Hackney\",\"Apsingekar\",\"Dheeraj\",\"Geld\",\"Corey-Lock\",\"Kean\",\"Mukund\",\"Mane\",\"Mane\",\"West\",\"D'Ascenzo\",\"Shardul\",\"Molinari\",\"Cano\",\"Aishwarya\",\"Meg\",\"Sonakshi\",\"Odegard\",\"Ivan\",\"Jackson\",\"Jackson\",\"Ritter\",\"Halladay\",\"Aditya\",\"Merwin\",\"VanderZanden\",\"Nandita\",\"Leatherbury\",\"Kennedy\",\"Teena\",\"Harry\",\"Schneider\",\"Kartikay\",\"Kartikay\",\"Lichtenstein\",\"Dryer\",\"Jenna\",\"Ausman\",\"Gopal\",\"Eudokia\",\"Lakshmi\",\"Foulston\",\"Bailliet\",\"Cox\",\"Spruell\",\"Dhirajendu\",\"Jamie\",\"Raglin\",\"Edelman\",\"Abhijeet\",\"Eudokia\",\"Sudheer\",\"Parth\",\"Jennifer\",\"Maureen\",\"Nandita\",\"Gary\",\"Gary\",\"Smriti\",\"Gelder\",\"Dowd\",\"Chen\",\"Lakshmi\",\"Carl\",\"Hitesh\",\"Ann\",\"McCrossin\",\"Coakley\",\"Pelletier\",\"Nida\",\"Omkar\",\"Anita\",\"Anita\",\"Benjamin\",\"Gockenbach\",\"Irene\",\"Southworth\",\"Skach\",\"Hazel\",\"Anderson\",\"Murry\",\"Manning\",\"Beeghly\",\"Hitesh\",\"Anudeep\",\"Oakman\",\"Alejandro\",\"Dheeraj\",\"Fred\",\"Deanra\",\"O'Carroll\",\"Schoenberger\",\"Erica\",\"Erica\",\"Eaton\",\"Karl\",\"Anubhaw\",\"Ballentine\",\"Karen\",\"Lopez\",\"Rashmi\",\"Shivanshu\",\"Andreadi\",\"Dennis\",\"Shivanshu\",\"Quincy\",\"Williamson\",\"Cassandra\",\"Ausman\",\"Dona\",\"Neoma\",\"Becky\",\"Jason\",\"Patricia\",\"Harsh\",\"Vrinda\",\"Flathmann\",\"Dahlen\",\"Linda\",\"Kalyani\",\"Linda\",\"Gross\",\"Gross\",\"Farry\",\"Ricardo\",\"Lela\",\"McMath\",\"Sonakshi\",\"Blackwell\",\"Apoorva\",\"Shatayu\",\"Paige\",\"Nitant\",\"Gibson\",\"Ellison\",\"Ellison\",\"Norvell\",\"Snel\",\"Rittenbach\",\"Michelle\",\"Coram\",\"Phelps\",\"LaWare\",\"Heidel\",\"Brockman\",\"Daly\",\"Patricia\",\"Vasudev\",\"Leatherbury\",\"Shantanu\",\"Shatayu\",\"Kshitij\",\"Heather\",\"Trudy\",\"Geetanjali\",\"Anne\",\"Damala\",\"Stewart\",\"Pradeep\",\"Moss\",\"Kishwar\",\"Farah\",\"Snel\",\"Snel\",\"Bell-\",\"Bell-\",\"Neola\",\"Dortch\",\"Kasheen\",\"Subhasmita\",\"Charika\",\"Samiksha\",\"Samiksha\",\"Nikhil\",\"Seio\",\"Venier\",\"Steven\",\"Crebagga\",\"Katz\",\"Brennan\",\"Bruce\",\"Crebagga\",\"Cheatham\",\"Eleni\",\"Harms\",\"Theone\",\"Katrina\",\"Akshat\",\"Surbhi\",\"Hane\",\"Bremer\",\"Hazel\",\"Anand\",\"Shrichand\",\"Hawkins\",\"Gopal\",\"Shikhar\",\"Krohn\",\"Fein\",\"Mukund\",\"Shikhar\",\"Annie\",\"Nida\",\"Dennis\",\"Eplett\",\"Evan\",\"Eaton\",\"Sukrith\",\"Ausman\",\"Christina\",\"Luke\",\"Shantanu\",\"Hamilton\",\"Hamilton\",\"Kargatis\",\"Carlisle\",\"Harrigan\",\"Harshita\",\"Bradley\",\"Grant\",\"Beltran\",\"Swint\",\"Abelman\",\"Atkinson\",\"Kamberova\",\"D'Ascenzo\",\"D'Ascenzo\",\"Garverick\",\"Yogesh\",\"Shourya\",\"Riya\",\"Olson\",\"Lebron\",\"Divyansha\",\"Yogesh\",\"Häberlin\",\"Buch\",\"Nguyen\",\"Kipp\",\"Shatayu\",\"Jesslyn\",\"West\",\"Rose\",\"percer\",\"Rachel\",\"Gibson\",\"Shivanshu\",\"Sean\",\"Tony\",\"Glotzbach\",\"Eno\",\"Manisha\",\"Bryan\",\"Ann\",\"Nitant\",\"Fox\",\"Joni\",\"Sonia\",\"Tran\",\"Christensen\",\"Jamie\",\"Catlett\",\"Brendan\",\"Bellavance\",\"Brendan\",\"Chuck\",\"Carreira\",\"Manshul\",\"Donatelli\",\"Witt\",\"House\",\"Parth\",\"Rachna\",\"Selesnick\",\"Zettner\",\"Chetan\",\"Staavos\",\"Delfina\",\"Vishakha\",\"Gross\",\"Sewall\",\"Conant\",\"Clytie\",\"Yoseph\",\"Eudokia\",\"Joe\",\"Skach\",\"Nitant\",\"Amol\",\"Yana\",\"Cyra\",\"Bickford\",\"Tillman\",\"Lakshmi\",\"Kimmel\",\"Laal \",\"Zewe\",\"Hughsby\",\"Weiss\",\"Donovan\",\"Jasper\",\"Ashvini\",\"Bellavance\",\"Michelle\",\"Bharat\",\"Meghana\",\"Prost\",\"Wilson\",\"Roper\",\"Akash\",\"Drucker\",\"Frazer\",\"Dan\",\"Saunders\",\"Karl\",\"Hawkins\",\"Muhammed\",\"Roland\",\"Manish\",\"Sonia\",\"Max\",\"Demir\",\"Jenna\",\"Debra\",\"Sissman\",\"Monu\",\"Holden\",\"Thomas\",\"Klamczynski\",\"Hunt\",\"Herman\",\"Hildebrand\",\"Poddar\",\"Smith\",\"Akshata\",\"Bixby\",\"Sarah\",\"Hughsby\",\"Brooke\",\"Phelps\",\"Fritzler\",\"Barton\",\"Angele\",\"Hastings\",\"Jay\",\"Brian\",\"Dheeraj\",\"Darley\",\"Jeremy\",\"Lisa\",\"O'Connel\",\"Eugene\",\"Yogesh\",\"Bhargav\",\"Sudhir\",\"Saphhira\",\"Larry\",\"Elpida\",\"Govind\",\"Hackney\",\"Jane\",\"Dave\",\"Sissman\",\"Gibson\",\"Hunt\",\"Amisha\",\"Lycoris\",\"Stephanie\",\"Gaurav\",\"Justin\",\"Turnell\",\"Hemant\",\"Ginny\",\"Jaydeep\",\"Dean\",\"Philip\",\"Sarah\",\"Wiediger\",\"Blume\",\"Manju\",\"Barnett\",\"Mayank\",\"Akshat\",\"Arsheen\",\"Ramesh\",\"Anisha\",\"Vaibhav\",\"Catherine\",\"Jitesh\",\"Cox\",\"Astrea\",\"Triggs\",\"Airdo\",\"Pölking\",\"Catini\",\"Daniels\",\"Bailliet\",\"Uudhav\",\"Hernandez\",\"Heidel\",\"Huffman\",\"Hazel\",\"Pranjali\",\"Boyes\",\"Flashing\",\"Jack\",\"Vini\",\"Karlsson\",\"Indulekha\",\"Carmichael\",\"Kunst\",\"Pryor\",\"Deggeller\",\"Vasudev\",\"Chetan\",\"Kalyani\",\"Rohit\",\"Jitesh\",\"Darren\",\"Deborah\",\"Pistek\",\"Karen\",\"Thea\",\"Astrea\",\"Hughes\",\"Norling\",\"Bailliet\",\"Etezadi\",\"Yedwab\",\"Glotzbach\",\"Hart\",\"Foster\",\"Nitant\",\"Weiss\",\"Ratner\",\"Taslimi\",\"Herman\",\"Davis\",\"Kalyani\",\"Kalyani\",\"Gibson\",\"Barton\",\"Conant\",\"Anjali\",\"Grace\",\"Sumeet\",\"Mousam\",\"MaryBeth\",\"Kastensmidt\",\"Avila\",\"Kanak\",\"Mayank\",\"Toch\",\"Sundaresam\",\"Moray\",\"Bühler\",\"Shreyshi\",\"Maithilee\",\"Byrd\",\"Champaklata\",\"Duhita\",\"Suzanne\",\"Jesslyn\",\"Gunjan\",\"Phillina\",\"Nelson\",\"Craig\",\"MacAllister\",\"Julie\",\"House\",\"Christina\",\"Barreto\",\"Bavinger\",\"Wallace\",\"Aimee\",\"Childs\",\"Sudheer\",\"Mike\",\"Conant\",\"Kushal\",\"Sheetal\",\"Seite\",\"Häberlin\",\"Eaton\",\"Mane\",\"William\",\"Cox\",\"Rachel\",\"Spruell\",\"Bhosale\",\"Vineet\",\"Kaydos\",\"Arindam\",\"Galang\",\"Sayre\",\"Sharelle\",\"Rupert\",\"Rachel\",\"Sumrall\",\"Skach\",\"Ulpright\",\"House\",\"Jenna\",\"Ralph\",\"Ellis\",\"Rahul\",\"Sachs\",\"Vishakha\",\"Shahid\",\"Overfelt\",\"Workman\",\"Brumley\",\"Pippenger\",\"Anita\",\"Julia\",\"Waco\",\"Clark\",\"Evan\",\"Armold\",\"Cooley\",\"Bharat\",\"Ralph\",\"Deborah\",\"Dilbeck\",\"Daksh\",\"Shikhar\",\"Katharine\",\"Linda\",\"Katrina\",\"Toby\",\"Epp\",\"Pippenger\",\"Frazer\",\"Olsen\",\"Tulika\",\"Gene\",\"Todd\",\"Catini\",\"Akshat\",\"Carlos\",\"Nick\",\"Tanja\",\"Ankita\",\"Arsheen\",\"Spruell\",\"Overfelt\",\"Hilary\",\"Garza\",\"Hooks\",\"Vishakha\",\"Saloni\",\"Wiener\",\"Melton\",\"Rozendal\",\"Phan\",\"Tushina\",\"Tushina\",\"Ober\",\"Jay\",\"Divyansha\",\"Rahul\",\"Savi\",\"Joseph\",\"Conant\",\"Bharat\",\"Nat\",\"Jaideep\",\"Farhat\",\"Yaanvi\",\"Farry\",\"Maria\",\"Baptist\",\"Champaklata\",\"DeCherney\",\"Cortes\",\"Aniket\",\"Kaydos\",\"Conant\",\"Vishakha\",\"Divsha\",\"Parna\",\"Jonathan\",\"Apoorv\",\"Oshin\",\"Neha\",\"Neha\",\"Ross\",\"Stugart\",\"Ashmeet\",\"Greer\",\"Greer\",\"Takahito\",\"Parth\",\"Hazel\",\"Sandra\",\"Pete\",\"Sudevi\",\"Andreadi\",\"Skach\",\"Fjeld\",\"Hughsby\",\"Aayush\",\"Sudevi\",\"Vernon\",\"Anne\",\"Seite\",\"Murdock\",\"Gunjan\",\"Deggeller\",\"Brooks\",\"Hemangi\",\"Mary\",\"Apoorva\",\"Subhashree\",\"Keshav\",\"Craven\",\"Shardul\",\"Eileen\",\"Hood\",\"Parth\",\"Nida\",\"Monisha\",\"Ginny\",\"O'Donnell\",\"Jim\",\"Eva\",\"Duhita\",\"Duhita\",\"O'Briant\",\"Bickford\",\"Dhanraj\",\"Hernandez\",\"Tyler\",\"Sudevi\",\"Sam\",\"Ameesha\",\"Mitali\",\"Kajal\",\"Pete\",\"Aimee\",\"Messe\",\"Hazel\",\"Norvell\",\"Jim\",\"Paridhi\",\"Vandana\",\"Cartwright\",\"Khloe\",\"Neil\",\"Astrea\",\"Gary\",\"Astrea\",\"McNair\",\"Maribeth\",\"Roy\",\"Mugdha\",\"Blumstein\",\"Akanksha\",\"Adhvaita\",\"Cassandra\",\"Shaily\",\"Fein\",\"Raymond\",\"Christina\",\"Chandni\",\"Barry\",\"Susan\",\"Neoma\",\"Devendra\",\"Hamilton\",\"Guthrie\",\"Christy\",\"Jesus\",\"Cathy\",\"Vasudev\",\"Charika\",\"Reichenbach\",\"Philip\",\"Hagelstein\",\"Thurman\",\"Noshiba\",\"McAfee\",\"Gaurav\",\"Kritika\",\"Mrinal\",\"Aarushi\",\"Ashvini\",\"Caffey\",\"Tulika\",\"Debra\",\"Grant\",\"Keshav\",\"Harold\",\"Chikku\",\"Ruben\",\"Jesus\",\"Hoffman\",\"Huffman\",\"Armold\",\"Carter\",\"Bell\",\"Shreyshi\",\"Shrichand\",\"Sagar\",\"Ashwin\",\"Vishakha\",\"Chad\",\"Valerie\",\"Howell\",\"Cazamias\",\"Vaibhavi\",\"Bradley\",\"Schneider\",\"Irving\",\"Frank\",\"Kelty\",\"Dorris\",\"Vineet\",\"Corey-Lock\",\"Katrina\",\"Quincy\",\"Neil\",\"Shifley\",\"Daly\",\"Shaun\",\"Jay\",\"Ed\",\"Edelman\",\"Childs\",\"Hoffman\",\"Matt\",\"Neola\",\"Derr\",\"Abhijeet\",\"Shubhi\",\"Crier\",\"Aniket\",\"Tron\",\"Abhijeet\",\"Stuti\",\"Adhvaita\",\"McGuire\",\"Devendra\",\"Jenkins\",\"Kartikay\",\"Hoffman\",\"Tate\",\"Bierner\",\"Katrina\",\"Myrick\",\"Roper\",\"Anubhaw\",\"Abhijit\",\"Jackson\",\"Holden\",\"Ocampo\",\"Brijesh\",\"O'Brian\",\"Klamczynski\",\"Donatelli\",\"Thompson\",\"Barnett\",\"Black\",\"Gillingham\",\"Medina\",\"Alyssa\",\"Jones\",\"Anchal\",\"Sibella\",\"Französisch\",\"Mitchell\",\"Amy\",\"Gopal\",\"Parth\",\"Kiran\",\"Perrino\",\"Stevenson\",\"Bowman\",\"Maris\",\"Gjertsen\",\"Takahito\",\"Andy\",\"Clytie\",\"Ramesh\",\"Debra\",\"Lanier\",\"Rhea\",\"Moumita\",\"Becky\",\"Peter\",\"Kiran\",\"Alejandro\",\"Kennedy\",\"Alejandro\",\"Jeremy\",\"Gunjan\",\"Sara\",\"Christopher\",\"Nazzal\",\"Kshitij\",\"Praneet\",\"Cyra\",\"Todd\",\"Rutuja\",\"Yogesh\",\"Preis\",\"Nandita\",\"Ajay\",\"Nitant\",\"Lori\",\"Roger\",\"Marina\",\"Keith\",\"Irving\",\"Gockenbach\",\"Ionia\",\"Clytie\",\"Clytie\",\"Redmond\",\"Rosenberg\",\"Tron\",\"Flathmann\",\"Childs\",\"Dahlen\",\"Joni\",\"Ashmi\",\"Noel\",\"Pratiksha\",\"Murry\",\"Jack\",\"Maureen\",\"Maureen\",\"Sukant\",\"Nunn\",\"Shirley\",\"Schoenberger\",\"Rachel\",\"Rohit\",\"Shaily\",\"Redmond\",\"Flashing\",\"Randy\",\"Webber\",\"Braun\",\"Manish\",\"Sweta\",\"Sharda\",\"Shreya\",\"Reiten\",\"Lauren\",\"Gillingham\",\"Sanjova\",\"Arntzen\",\"Pooja\",\"Corey\",\"Boland\",\"Susan\",\"Baird\",\"Kalyani\",\"Barcio\",\"Fortune-\",\"Debra\",\"Anubhaw\",\"Savely\",\"Luke\",\"Magdelene\",\"Sundaresam\",\"Hawley\",\"Charlotte\",\"David\",\"Catlett\",\"Catlett\",\"Jill\",\"Srishti\",\"Gopal\",\"Gross\",\"Gonzalez\",\"McGuire\",\"Granlund\",\"Noel\",\"Atharv\",\"Tillman\",\"Aishwarya\",\"Claire\",\"Holden\",\"Abelman\",\"Pardue\",\"Clytie\",\"Byrd\",\"Ivan\",\"Gastineau\",\"Sue\",\"Gunjan\",\"Saphhira\",\"Patricia\",\"Moray\",\"Subhasmita\",\"Reiten\",\"Tim\",\"Anemone\",\"Coyne\",\"Reed\",\"Divyeta\",\"Bruce\",\"Prichep\",\"Bradley\",\"Schild\",\"Subhasmita\",\"Dilbeck\",\"Kennedy\",\"Dona\",\"Steve\",\"Minnotte\",\"Vivek\",\"Ishit\",\"Venier\",\"Skach\",\"Ajay\",\"Sudhir\",\"Schnelling\",\"Aayush\",\"Sandra\",\"Pistek\",\"Tran\",\"Coram\",\"Snehal\",\"Olson\",\"Hawkins\",\"Lalita\",\"Raksha\",\"Amlan\",\"Kartikay\",\"Clark\",\"Bixby\",\"Lucas\",\"Carlisle\",\"Noah\",\"Pradeep\",\"Shivani\",\"Boyes\",\"Yotov\",\"Amlan\",\"Shardul\",\"Jasper\",\"Kamberova\",\"Jackson\",\"Franz\",\"Tom\",\"Shivangi\",\"Robert\",\"Bell-\",\"Hart\",\"Häberlin\",\"Carl\",\"Vasudev\",\"Bart\",\"Greene\",\"Bradley\",\"Kushal\",\"Henia\",\"Rosenberg\",\"Brendan\",\"Yaanvi\",\"Nripraj\",\"Tillman\",\"Aleksandra\",\"Palak\",\"Angele\",\"Clark\",\"Anubhaw\",\"Claire\",\"Bzostek\",\"Ballard\",\"Thurman\",\"Mrinal\",\"Sukant\",\"Brooke\",\"Noopur\",\"Aishwarya\",\"Derr\",\"Omkar\",\"Fein\",\"Rohan\",\"Bathina\",\"Paul\",\"Bern\",\"Anchal\",\"Gunjan\",\"Tron\",\"Gjertsen\",\"Akshat\",\"Johnson\",\"Kean\",\"Dilbeck\",\"Dilbeck\",\"Andreadi\",\"Scot\",\"Hilary\",\"Anchal\",\"Parth\",\"Vivek\",\"Cazamias\",\"Shivani\",\"Georgia\",\"Jitesh\",\"Neola\",\"Lichtenstein\",\"Ratner\",\"Hightower\",\"Dana\",\"Mansi\",\"Klamczynski\",\"Klamczynski\",\"Nikhil\",\"Harrigan\",\"Grace\",\"Grady\",\"Indulekha\",\"Kiefer\",\"Moore\",\"Johnson\",\"Amy\",\"Indulekha\",\"Amit\",\"Olson\",\"Hopkins\",\"Huthwaite\",\"Lomonaco\",\"Akash\",\"Sundaresam\",\"Knudson\",\"Eileen\",\"Deborah\",\"Piyali\",\"Charlotte\",\"Venier\",\"Hagelstein\",\"Nancy\",\"Christine\",\"Smriti\",\"Hitika\",\"Aman\",\"Kristen\",\"Moss\",\"Monisha\",\"Cathy\",\"Daniel\",\"Gainer\",\"Sewall\",\"Kennedy\",\"Rashmi\",\"Ratner\",\"Harrigan\",\"Kanak\",\"Akshat\",\"Jonathan\",\"Ionia\",\"Dionis\",\"Keshav\",\"liebe\",\"Crebassa\",\"Alan\",\"Roper\",\"Flashing\",\"Sandra\",\"Annie\",\"Dave\",\"Irene\",\"Butterfield\",\"Penelope\",\"Bailliet\",\"Corinna\",\"Anudeep\",\"Ankur\",\"Krishna\",\"Carroll\",\"Dilbeck\",\"Hirsh\",\"Ken\",\"Bühler\",\"Ballentine\",\"Norling\",\"Cindy\",\"Chirag\",\"Lisa\",\"Sandeep\",\"Arianne\",\"Kampe\",\"Jacobs\",\"Kampe\",\"Mathis\",\"Akancha\",\"Maribeth\",\"Anurag\",\"Akash\",\"Arpita\",\"Weien\",\"Dhirajendu\",\"MaryBeth\",\"Akin\",\"Jahan\",\"Murray\",\"Astrea\",\"Justin\",\"Hazard\",\"Glassco\",\"Utkarsh\",\"Hudgings\",\"Patricia\",\"Ishit\",\"Mohan\",\"Dianna\",\"Wardle\",\"Crebassa\",\"Katharine\",\"Barnes\",\"Dinesh\",\"Armold\",\"Webber\",\"Henry\",\"Jitesh\",\"Hawley\",\"Krishna\",\"Ulpright\",\"Sanjay\",\"Jill\",\"Swetha\",\"Jenna\",\"Lee\",\"Duston\",\"Amisha\",\"Haberlin\",\"Foster\",\"Parishi\",\"Roy\",\"Noopur\",\"Rittenbach\",\"Gillingham\",\"Kamberova\",\"Herbert\",\"Huffman\",\"Sukruta\",\"Stuti\",\"Arsheen\",\"Zewe\",\"Deepak\",\"Zewe\",\"Grace\",\"Ginny\",\"Sajal\",\"Barnes\",\"George\",\"Dominguez\",\"Cyra\",\"Atharv\",\"Jackson\",\"Palak\",\"Shifley\",\"Sheldon\",\"Mousam\",\"Shyam\",\"Shreyshi\",\"Federle\",\"Hallsten\",\"Manibalan\",\"Pistole\",\"Manibalan\",\"Clasen\",\"Bzostek\",\"Nathan\",\"Vishakha\",\"Hopkins\",\"Brandow\",\"Rhea\",\"Uudhav\",\"Dorris\",\"Laurel\",\"Pauline\",\"Ritsa\",\"Buch\",\"Mrunal\",\"Heidel\",\"Ankit\",\"McVee\",\"Preis\",\"Mukund\",\"Hoffman\",\"Shivani\",\"Juliana\",\"Suraj\",\"Avni\",\"Priyanshu\",\"Avni\",\"Eva\",\"Meg\",\"Halladay\",\"Deborah\",\"Stewart\",\"Stewart\",\"Dona\",\"Pete\",\"Waldorf\",\"Hallie\",\"Katrina\",\"Sung\",\"Duane\",\"Shrichand\",\"Lampkin\",\"Skaria\",\"Merwin\",\"Pratyusmita\",\"Hilary\",\"Barton\",\"Phan\",\"Lisha\",\"Hoffman\",\"Thais\",\"Thais\",\"Tran\",\"Sanjova\",\"Haines\",\"Bixby\",\"Liston\",\"Bickford\",\"Brumfield\",\"Pierre\",\"Uudhav\",\"Meade\",\"Meade\",\"Kartikay\",\"Duane\",\"Clasen\",\"Duane\",\"Nidhi\",\"Damala\",\"Norvell\",\"Bhosale\",\"Eugene\",\"Divyeshkumar\",\"Sukruta\",\"Marie\",\"Bolton\",\"Joseph\",\"Kamberova\",\"Balk\",\"Gunjan\",\"Holden\",\"Schoenberger\",\"Cousins\",\"Gopal\",\"Karen\",\"Giulietta\",\"Giulietta\",\"Tron\",\"Brumley\",\"Craven\",\"Swati\",\"Craven\",\"Marina\",\"Anand\",\"Mayank\",\"Latchford\",\"Saurabh\",\"Benjamin\",\"Eva\",\"Eva\",\"Sahil\",\"Brockman\",\"Morse\",\"Ankita\",\"Shifley\",\"Nguyen\",\"Berenike\",\"Sukant\",\"Brad\",\"VanderZanden\",\"Bavinger\",\"Mukesh\",\"Charlotte\",\"Akin\",\"Akin\",\"Poddar\",\"Khloe\",\"Maya\",\"Pete\",\"Chayanika\",\"Chayanika\",\"Benjamin\",\"Chand\",\"Aayush\",\"Herbert\",\"Phonely\",\"Neola\",\"Leslie\",\"O'Donnell\",\"Rane\",\"Byrd\",\"Coram\",\"Norvell\",\"Hansen\",\"Chong\",\"Shivani\",\"Shivani\",\"Shruti\",\"Reichenbach\",\"Ralph\",\"Anurag\",\"Hirasaki\",\"Pete\",\"Sudheer\",\"Schneider\",\"Nishant\",\"Elijah\",\"Elijah\",\"Filia\",\"Filia\",\"Daly\",\"Henry\",\"Bowman\",\"Bowman\",\"Gonzalez\",\"Shyam\",\"Swati\",\"Rahul\",\"Nona\",\"Karl\",\"Brian\",\"Duhita\",\"Gnade\",\"Mrunal\",\"Mrunal\",\"Kirkland\",\"Bharat\",\"Goldwyn\",\"Farry\",\"Pranjali\",\"Farry\",\"Anubhaw\",\"Crebagga\",\"Eichhorn\",\"Bergman\",\"Sudheer\",\"Sudheer\",\"Maris\",\"Herman\",\"Soodesh\",\"Sonakshi\",\"MacIntyre\",\"Daniels\",\"Brooks\",\"Kristen\",\"Kristen\",\"Deirdre\",\"Shantanu\",\"Collins\",\"Phillina\",\"Frazer\",\"Gjertsen\",\"Dianna\",\"Chloris\",\"Clark\",\"Sanjay\",\"Shifley\",\"Surabhi\",\"McCrossin\",\"Halladay\",\"Ajay\",\"Ferguson\",\"Fisher\",\"Bhaggyasree\",\"Blumstein\",\"Herbert\",\"Prajakta\",\"Donatelli\",\"Sam\",\"Hemant\",\"Piyali\",\"Tejeswini\",\"Lynn\",\"Bradley\",\"Latchford\",\"Luke\",\"Boland\",\"Pelletier\",\"Bremer\",\"Schild\",\"Shantanu\",\"Emily\",\"Aarushi\",\"Chirag\",\"Patrick\",\"Aarushi\",\"Sanjana\",\"Vaibhavi\",\"Deanra\",\"Bhavna\",\"Halladay\",\"Priyanshu\",\"Gardner\",\"Ekta\",\"Daniels\",\"Jahan\",\"Joe\",\"Pinky\",\"Christensen\",\"Lanier\",\"Amy\",\"Gillingham\",\"Howell\",\"Arti\",\"Prost\",\"Maureen\",\"Christine\",\"Vandana\",\"Glassco\",\"Arti\",\"Shonely\",\"Jasper\",\"Fritzler\",\"Cunningham\",\"Grady\",\"Siddharth\",\"Epp\",\"Epp\",\"Noel\",\"Ankit\",\"Rahul\",\"Parishi\",\"Vikash\",\"Harms\",\"Sukruta\",\"Atul\",\"Carol\",\"Carol\",\"Laalji\",\"Kirti\",\"Catherine\",\"Rahul\",\"Nelson\",\"Priyanshu\",\"Schmidt\",\"O'Brian\",\"Tyler\",\"Gannaway\",\"Fein\",\"Avish\",\"Anita\",\"Chikku\",\"Saptadeep\",\"Anita\",\"Hazard\",\"Parishi\",\"Lawera\",\"Utsav\",\"Darren\",\"Amol\",\"Kristen\",\"Shishu\",\"Cindy\",\"Vaibhav\",\"Tanushree\",\"Vernon\",\"McMahon\",\"Gonzalez\",\"Ekta\",\"Hirasaki\",\"Boeckenhauer\",\"Yoseph\",\"Surbhi\",\"Rutuja\",\"Bremer\",\"Jackson\",\"Jackson\",\"Heidel\",\"Corey\",\"Shrichand\",\"Goranitis\",\"Abhimanyu\",\"Vishakha\",\"Zeldin\",\"Huston\",\"Deirdre\",\"Parin\",\"Kaydos\",\"Chuck\",\"Maya\",\"Messe\",\"Arnett\",\"Kunst\",\"Arpita\",\"Kiefer\",\"Pistole\",\"Pistole\",\"Irene\",\"Karandeep\",\"Reiten\",\"Arnett\",\"Stefanie\",\"Parna\",\"Arntzen\",\"Yohann\",\"Priyanshu\",\"Siddharth\",\"Ashley\",\"Ananya\",\"Navdeep\",\"Norling\",\"Hwang\",\"Norling\",\"Moray\",\"Glassco\",\"Annie\",\"Alyssa\",\"Harsh\",\"Alyssa\",\"Kastensmidt\",\"Marc\",\"Kamberova\",\"Zuschuss\",\"Kamberova\",\"Barton\",\"Barnes\",\"Nandita\",\"Dheeraj\",\"Dheeraj\",\"Nandita\",\"Boeckenhauer\",\"Ashmeet\",\"Harms\",\"Brenda\",\"Ulpright\",\"Maithilee\",\"Sudevi\",\"Shrichand\",\"Shrichand\",\"Craig\",\"Sujay\",\"Neola\",\"Vishakha\",\"Jenkins\",\"Vandana\",\"Magdelene\",\"Crestani\",\"Crestani\",\"Evan\",\"Magdelene\",\"Kartik\",\"Wiediger\",\"Gannaway\",\"Sharda\",\"Pryor\",\"Pryor\",\"Ben\",\"Mull\",\"Dominguez\",\"Mull\",\"Rawles\",\"Prost\",\"Aditya\",\"Arnett\",\"Indulekha\",\"Chikku\",\"Gopal\",\"Kelly\",\"Pearl\",\"Kelly\",\"Goldenen\",\"Amlan\",\"Häberlin\",\"Rohan\",\"Häberlin\",\"Sheetal\",\"Arun\",\"Clark\",\"Mousam\",\"Nathan\",\"Shikhar\",\"Eva\",\"Yaanvi\",\"Liz\",\"Astrea\",\"Manish\",\"Hemant\",\"Fox\",\"Amlan\",\"Tran\",\"Bharat\",\"Crebagga\",\"Boyes\",\"Crebagga\",\"Caudle\",\"George\",\"Turumella\",\"Bergmann\",\"Jones\",\"Muhammed\",\"Mitali\",\"Laalji\",\"Brandow\",\"Collins\",\"Crier\",\"Jasper\",\"Arsheen\",\"Tron\",\"Pelletier\",\"Katharine\",\"Ober\",\"Ober\",\"Gannaway\",\"Larry\",\"Haines\",\"Kastensmidt\",\"Braun\",\"Kalyani\",\"Saurabh\",\"Bell\",\"Bell\",\"Muhammed\",\"Myrick\",\"Kshitij\",\"Trudy\",\"Kshitij\",\"McCrary\",\"Indulekha\",\"Gonzalez\",\"Murdock\",\"Prashant\",\"Katherine\",\"Katharine\",\"Cousins\",\"Pinky\",\"Arti\",\"Mrinal\",\"Barroso\",\"Armold\",\"Nandita\",\"Armold\",\"Cazamias\",\"Vaibhav\",\"Lucas\",\"Chad\",\"Phillina\",\"Glantz\",\"LaWare\",\"Glocke\",\"Glocke\",\"Aniket\",\"Rhea\",\"Mousam\",\"Bixby\",\"Gilpin\",\"McMath\",\"McMath\",\"McMahon\",\"Divyeshkumar\",\"Jaydeep\",\"Melanie\",\"Badders\",\"Abhimanyu\",\"Katharine\",\"Katharine\",\"Roger\",\"Hernandez\",\"Shivam\",\"Avish\",\"Scot\",\"Bart\",\"Greg\",\"Denny\",\"Collister\",\"Medina\",\"Nick\",\"Ashbrook\",\"Sudevi\",\"Kamberova\",\"Uudhav\",\"Caudle\",\"Akshat\",\"Harton\",\"Gardner\",\"Mrunal\",\"Smayling\",\"Sandra\",\"Emily\",\"Carreira\",\"Flathmann\",\"Trevino\",\"Chong\",\"Adhvaita\",\"MacKendrick\",\"Clark\",\"Adhvaita\",\"Bellavance\",\"Bellavance\",\"Chayanika\",\"Shagiari\",\"Penelope\",\"Jesus\",\"Mukund\",\"Saloni\",\"Gilcrest\",\"Poirier\",\"Stephanie\",\"Parth\",\"Staavos\",\"Aniket\",\"Maithilee\",\"Bhawna\",\"Pratyusmita\",\"Sanjova\",\"Sanjova\",\"Stuti\",\"Dorothy\",\"Jesslyn\",\"Sneha\",\"Granlund\",\"Sajal\",\"Sandra\",\"Kunitz\",\"Dan\",\"Kristen\",\"Fuller\",\"Srishti\",\"Sean\",\"Kushal\",\"Tonja\",\"Hildebrand\",\"Zandusky\",\"Anderson\",\"Philip\",\"Eichhorn\",\"Baptist\",\"O'Rourke\",\"Weimer\",\"Gopal\",\"Atharv\",\"Rachna\",\"Kelly\",\"Nat\",\"Mick\",\"Lampkin\",\"Nat\",\"Mitchum\",\"Moffitt\",\"Mills\",\"Zrebassa\",\"Rohit\",\"Vini\",\"Shyam\",\"Bruce\",\"Jane\",\"Mukesh\",\"McMahon\",\"Nancy\",\"Nancy\",\"McMahon\",\"Roger\",\"Anchal\",\"Ellison\",\"Apoorva\",\"Nockton\",\"Amol\",\"Bensley\",\"Bhosale\",\"Wilson\",\"Gelder\",\"Karl\",\"Phillip\",\"Glocke\",\"Piyali\",\"Hallsten\",\"Jane\",\"Rachel\",\"Sheetal\",\"Payne\",\"Fortune-\",\"Fortune-\",\"Yedwab\",\"Shirley\",\"Christensen\",\"Grace\",\"Pratyusmita\",\"James\",\"Cacioppo\",\"Ted\",\"Monu\",\"Cacioppo\",\"Coakley\",\"Reese\",\"Reese\",\"Muskan\",\"Blumstein\",\"Abelman\",\"Benoit\",\"Ballard\",\"Zettner\",\"Ayush\",\"Dorris\",\"Brumley\",\"McVee\",\"Ferrer\",\"Monisha\",\"Pauline\",\"Fisher\",\"Randy\",\"Bell-\",\"Lakshmi\",\"Riya\",\"MacIntyre\",\"Divyeshkumar\",\"Manshul\",\"DeVincentis\",\"Sonal\",\"Rick\",\"Wasserman\",\"Patrick\",\"Norris\",\"DeVincentis\",\"Keshav\",\"Pawlan\",\"Uudhav\",\"Bharat\",\"Lena\",\"Soumya\",\"Phelps\",\"Phelps\",\"Melanie\",\"Gopal\",\"Französisch\",\"McGrath\",\"Harms\",\"Jackson\",\"Etezadi\",\"Jackson\",\"McGrath\",\"Knudson\",\"Shubhi\",\"Etezadi\",\"Donovan\",\"Freymann\",\"Sanjay\",\"Schmidt\",\"Surabhi\",\"Jaideep\",\"Bergman\",\"Cox\",\"Palak\",\"Komal\",\"Victor\",\"Etezadi\",\"Hackney\",\"Karen\",\"Bobby\",\"Shubham\",\"Resi\",\"Pierre\",\"Sue\",\"Hackney\",\"Bhavna\",\"Cazamias\",\"Andreada\",\"Praneet\",\"Brittain\",\"Shantanu\",\"Vasudev\",\"Gordon\",\"Breyer\",\"Krutika\",\"Carter\",\"Bern\",\"Demir\",\"Alice\",\"Meade\",\"Sujay\",\"Stobb\",\"Dortch\",\"Bowman\",\"Toch\",\"Andy\",\"Nida\",\"Nishant\",\"Demir\",\"Rose\",\"Abhishek\",\"Helen\",\"Southworth\",\"Bhawna\",\"Dorris\",\"Hazard\",\"Indulekha\",\"Smriti\",\"Patel\",\"Ben\",\"Cacioppo\",\"Christina\",\"Kristina\",\"Arthur\",\"Christina\",\"Tanja\",\"Rane\",\"Moss\",\"Moss\",\"Darren\",\"Grinstein\",\"Grinstein\",\"Claudia\",\"Sweta\",\"George\",\"Bailliet\",\"Hoffmann\",\"Rittenbach\",\"Brenda\",\"Sanjova\",\"Fox\",\"Sanjova\",\"Fox\",\"Cortes\",\"Jason\",\"Avila\",\"Patil\",\"Marie\",\"Poirier\",\"VanderZanden\",\"Stivers\",\"Paige\",\"Gopal\",\"McGuire\",\"Gelder\",\"McGuire\",\"Ross\",\"Stuti\",\"Pierre\",\"Sewall\",\"Poddar\",\"Nida\",\"Apoorva\",\"LaWare\",\"Bickford\",\"Debra\",\"Pauline\",\"Bern\",\"Deepak\",\"Juliana\",\"Ivan\",\"Ashley\",\"Crestani\",\"Brennan\",\"Shatayu\",\"Vishakha\",\"Yedwab\",\"Bhavna\",\"Thurman\",\"Jarboe\",\"Thurman\",\"Sukrith\",\"Adams\",\"Swetlana\",\"Mukund\",\"Matthias\",\"Samiksha\",\"Jeremy\",\"Jim\",\"Andreada\",\"Dortch\",\"Kiran\",\"Shourya\",\"Hooks\",\"Alejandro\",\"Prost\",\"Nikita\",\"Subhashree\",\"Subhashree\",\"Nishi\",\"Clark\",\"Derr\",\"Fisher\",\"Donatelli\",\"Shreyshi\",\"Pierre\",\"Thornton\",\"Troy\",\"Cohen\",\"Fox\",\"Wilson\",\"Alejandro\",\"Dowd\",\"MacIntyre\",\"Shourya\",\"Susan\",\"Tron\",\"Amruta\",\"Jenkins\",\"Dean\",\"LaWare\",\"Aleksandra\",\"Shariari\",\"McGuire\",\"Sharda\",\"Hitesh\",\"McGuire\",\"Haines\",\"Wener\",\"Matt\",\"Sylvia\",\"Erica\",\"Apoorv\",\"Gayman\",\"Soodesh\",\"McCrary\",\"Fortune-\",\"Vittorini\",\"Amol\",\"McCrary\",\"Gene\",\"Sylvia\",\"Rane\",\"Rane\",\"Shreyshi\",\"Emerson\",\"Mrunal\",\"Sudevi\",\"Vasudev\",\"Rachel\",\"Phelps\",\"Erica\",\"Mayank\",\"Philip\",\"Mick\",\"Vandana\",\"Boland\",\"Mahima\",\"Harrigan\",\"Jacobs\",\"Riya\",\"Spruell\",\"Stuart\",\"Akash\",\"Workman\",\"Charles\",\"Ivan\",\"Castell\",\"Zewe\",\"Teena\",\"LaWare\",\"Baptist\",\"Barreto\",\"Priyanshu\",\"Anmol\",\"Stuti\",\"Jonathan\",\"Hwang\",\"Barroso\",\"Vaibhav\",\"Sonal\",\"Riya\",\"Sonal\",\"Jason\",\"Sundaresam\",\"O'Brian\",\"Kunst\",\"Shourya\",\"Thornton\",\"Prajakta\",\"Meg\",\"Hawkins\",\"Reiten\",\"Adhvaita\",\"Charlotte\",\"Suman\",\"Vasudev\",\"Roy\",\"Manibalan\",\"Meador\",\"Randy\",\"Klamczynski\",\"Klamczynski\",\"Bühler\",\"Freymann\",\"Duane\",\"Utsav\",\"Allen\",\"Chad\",\"Pratyusmita\",\"Herman\",\"Sanjana\",\"DeVincentis\",\"Jesus\",\"Caudle\",\"Katrina\",\"Steve\",\"Hale\",\"Atharv\",\"Hazel\",\"Dinesh\",\"Glantz\",\"Reiter\",\"Greer\",\"Phillip\",\"Hood\",\"Tushina\",\"Caudle\",\"Shreyoshe\",\"Mathis\",\"Bart\",\"Parna\",\"Hernandez\",\"Blumstein\",\"Frank\",\"Sylvia\",\"Garza\",\"Oshin\",\"Christensen\",\"Braxton\",\"DeMoss\",\"Magee\",\"Chad\",\"Vishakha\",\"Soumyabrata\",\"Gelder\",\"Sung\",\"Kriz\",\"Champaklata\",\"House\",\"Champaklata\",\"Barchas\",\"Arnett\",\"Marina\",\"Monu\",\"Holt\",\"Inderpreet\",\"Daksh\",\"Minnotte\",\"Siddharth\",\"Roper\",\"Kristina\",\"Avila\",\"Cheatham\",\"Vaibhavi\",\"Stivers\",\"Sheldon\",\"Stivers\",\"Muhammed\",\"Dortch\",\"Brennan\",\"Divyeta\",\"Sharda\",\"Aniket\",\"Aniket\",\"Bierner\",\"Edelman\",\"Knudson\",\"Knudson\",\"Shubhi\",\"Shubhi\",\"McGuire\",\"Redmond\",\"McCrossin\",\"McCrossin\",\"Grayson\",\"Ann\",\"Ann\",\"Soltero\",\"Soltero\",\"Prashant\",\"Preis\",\"Lucas\",\"Jahan\",\"Dionis\",\"Fuller\",\"Parth\",\"Farry\",\"Kennedy\",\"Gunjan\",\"Lawera\",\"Klamczynski\",\"Dartt\",\"Bhishm\",\"Sudheer\",\"Karandeep\",\"Pournamasi\",\"Ritter\",\"Karandeep\",\"Pournamasi\",\"Tejeswini\",\"Bremer\",\"Französisch\",\"Krishna\",\"Meade\",\"Berenike\",\"Hawkins\",\"Mukesh\",\"Kamberova\",\"Crebagga\",\"Sukant\",\"Daly\",\"Tran\",\"Tate\",\"Dominguez\",\"Dickinson\",\"Bixby\",\"Rahul\",\"Shahid\",\"Mrunal\",\"Sharelle\",\"Trevino\",\"Hirsh\",\"Vittorini\",\"Sandeep\",\"Garverick\",\"Parishi\",\"O'Connel\",\"Swati\",\"Cathy\",\"Weimer\",\"Yoseph\",\"Southworth\",\"Edward\",\"Christina\",\"Avila\",\"Shrichand\",\"Mark\",\"Meghana\",\"Luke\",\"Badders\",\"Xylona\",\"Becky\",\"Coyne\",\"Triggs\",\"Parna\",\"Arntzen\",\"Monu\",\"Grove\",\"Phillip\",\"Dawkins\",\"Lopez\",\"Ken\",\"Parhena\",\"Akin\",\"Akin\",\"Ajay\",\"Evan\",\"Arpita\",\"Hrisheekesh\",\"O'Connell\",\"Olson\",\"Hrisheekesh\",\"Manshul\",\"Mansi\",\"Magee\",\"Maria\",\"Carlos\",\"Rohan\",\"Shantanu\",\"Garverick\",\"Garza\",\"Divyeta\",\"Tushina\",\"Shreyshi\",\"Sathya\",\"Kshitij\",\"Mugdha\",\"Shatayu\",\"Shivam\",\"Lloyd\",\"Shruti\",\"Sung\",\"Ashmeet\",\"Lynn\",\"Sachs\",\"Kristen\",\"Coram\",\"Klamczynski\",\"Daly\",\"Geetanjali\",\"Shyam\",\"Swapnil\",\"Brenda\",\"Gunjan\",\"Sanjana\",\"Lisa\",\"Sundaresam\",\"VanderZanden\",\"Overfelt\",\"Pinky\",\"Mahima\",\"Emerson\",\"Jenkins\",\"Ananya\",\"Carol\",\"Rohan\",\"Ayush\",\"Craven\",\"Franz\",\"Olson\",\"Lampkin\",\"Dawkins\",\"Tushina\",\"Eason\",\"Mohan\",\"Hoffmann\",\"Scot\",\"Kartikay\",\"Dhanraj\",\"Cortes\",\"Oshin\",\"Priyanshu\",\"Kargatis\",\"Christensen\",\"Wardle\",\"Dona\",\"Baptist\",\"Caffey\",\"Daniel\",\"Cassandra\",\"Butterfield\",\"Arntzen\",\"Alan\",\"Brad\",\"Eleni\",\"Anthony\",\"Caroline\",\"Nripraj\",\"Gary\",\"Jamie\",\"Barcio\",\"Nandita\",\"Adam\",\"Buch\",\"Philip\",\"Matthew\",\"Blackwell\",\"Mansi\",\"Shruti\",\"Mane\",\"Norvell\",\"Waco\",\"Nishant\",\"Bruce\",\"Freymann\",\"Hane\",\"Aditi\",\"Schwarz\",\"Adams\",\"Brian\",\"O'Brian\",\"Corey-Lock\",\"Surbhi\",\"Sanjna\",\"Clark\",\"Hitika\",\"Phonely\",\"Eichhorn\",\"Murray\",\"Hitika\",\"Patricia\",\"Akshata\",\"Nathan\",\"Creighton\",\"Sujay\",\"Hitesh\",\"Sally\",\"Hane\",\"Schoenberger\",\"Anubhaw\",\"Budd\",\"Foulston\",\"Hazel\",\"Henia\",\"Cyma\",\"K\",\"Cyma\",\"Raglin\",\"Komal\",\"Nelson\",\"Bill\",\"Calhoun\",\"Barnes\",\"Greene\",\"Tanvi\",\"Grove\",\"Gaurav\",\"Philip\",\"Sayre\",\"Gnade\",\"Harton\",\"Georgia\",\"Mathis\",\"Laurel\",\"Rachna\",\"Patricia\",\"Theone\",\"Abhishek\",\"Schwarz\",\"Anand\",\"Crebassa\",\"Dryer\",\"Sandra\",\"Bühler\",\"Cindy\",\"Benjamin\",\"Keith\",\"Irene\",\"Tamara\",\"Mansi\",\"Kamberova\",\"Granlund\",\"Kunst\",\"Overfelt\",\"Sean\",\"Ludtke\",\"Rawles\",\"Bhishm\",\"Steele\",\"Hirasaki\",\"Rane\",\"Eugene\",\"Shreyshi\",\"Aastha\",\"Lampkin\",\"Ludwig\",\"Ocampo\",\"Suman\",\"Messe\",\"Jim\",\"Aromal\",\"Aparajita\",\"George\",\"Greer\",\"Preksha\",\"Christensen\",\"Norvell\",\"Phillip\",\"Chirag\",\"Stivers\",\"Marie\",\"Rohit\",\"Jesus\",\"Ananya\",\"Geld\",\"Jesus\",\"Trafton\",\"Mugdha\",\"Aastha\",\"Shweta\",\"Bhawna\",\"Reichenbach\",\"Jitesh\",\"Erin\",\"Bill\",\"Stefania\",\"Hitesh\",\"Roy\",\"Childs\",\"Hart\",\"Sylvia\",\"Grant\",\"Uudhav\",\"Ruben\",\"Kajal\",\"Gonzalez\",\"Southworth\",\"Chung\",\"Joni\",\"Dhirajendu\",\"Anjali\",\"Kelly\",\"Patterson\",\"Harold\",\"Spruell\",\"Craven\",\"Philippe\",\"Bryan\",\"Selesnick\",\"Mane\",\"Kalyca\",\"Rupert\",\"Kartik\",\"Fein\",\"Joseph\",\"Rob\",\"Derr\",\"Lee\",\"Joy\",\"Dhirajendu\",\"Wener\",\"Matt\",\"Dana\",\"Chuck\",\"Smith\",\"Toch\",\"Priyanshu\",\"Sabah\",\"Bruce\",\"Rose\",\"Greene\",\"Maris\",\"Mick\",\"Baptist\",\"Waco\",\"Barnes\",\"Monton\",\"Craven\",\"Häberlin\",\"Neil\",\"Ausman\",\"Gonzalez\",\"Mayank\",\"Ritu\",\"Cohen\",\"Barchas\",\"Apoorv\",\"Ritsa\",\"Bailliet\",\"Gainer\",\"Hazel\",\"Poirier\",\"Merwin\",\"Lalita\",\"Ausman\",\"Jonathan\",\"Gute\",\"Kunst\",\"Larry\",\"Corey\",\"Abhimanyu\",\"Pryor\",\"Aastha\",\"Anthony\",\"Hoffmann\",\"O'Connel\",\"Gjertsen\",\"Mike\",\"Melton\",\"Sheldon\",\"Pratyusmita\",\"Sample\",\"Howell\",\"Divyeshkumar\",\"Manish\",\"Carter\",\"Bart\",\"Turumella\",\"Penelope\",\"Amol\",\"Lucas\",\"Childs\",\"Soumyabrata\",\"Carol\",\"Sanjay\",\"Pierre\",\"Stefanie\",\"Surabhi\",\"Cano\",\"Savi\",\"Arpita\",\"Kirkland\",\"Harsh\",\"Snel\",\"Speros\",\"Sayre\",\"Gibson\",\"Patricia\",\"Brenda\",\"Matthias\",\"Dona\",\"Galang\",\"Crebagga\",\"Apoorv\",\"Melanie\",\"Hunt\",\"Jordon\",\"Gillingham\",\"Applegate\",\"Roelle\",\"Parhena\",\"Olson\",\"Donatelli\",\"Aniket\",\"LaWare\",\"Jill\",\"Dickinson\",\"Chong\",\"Tamara\",\"Bzostek\",\"Fjeld\",\"Clay\",\"Kalyca\",\"Melanie\",\"Arntzen\",\"Trupti\",\"Uudhav\",\"Phonely\",\"Ivan\",\"Sanjit\",\"Takahito\",\"Schwarz\",\"Joel\",\"Swati\",\"Roger\",\"Eaton\",\"Patel\",\"Coakley\",\"Sanjit\",\"Meg\",\"Arindam\",\"Pond\",\"Epp\",\"Tracy\",\"Aastha\",\"Latchford\",\"Savely\",\"DeVincentis\",\"Phonely\",\"Sylvia\",\"Bavinger\",\"Todd\",\"Fred\",\"Akshat\",\"Lichtenstein\",\"Shubham\",\"Pearl\",\"Raglin\",\"Aparajita\",\"Rohit\",\"Jones\",\"Galang\",\"Krutika\",\"Jessica\",\"Lynn\",\"Shami\",\"Cyma\",\"Mathew\",\"Kennedy\",\"Chloris\",\"Annie\",\"Shillingsburg\",\"Mark\",\"Ekta\",\"Ritter\",\"Crebagga\",\"McVee\",\"Boeckenhauer\",\"Grayson\",\"Knutson\",\"Tejeswini\",\"Gunjal\",\"Syed\",\"Duane\",\"Ramesh\",\"Stuart\",\"Skach\",\"Chirag\",\"Atul\",\"Grant\",\"Amy\",\"Reese\",\"Foulston\",\"O'Connel\",\"Catlett\",\"Zuschuss\",\"Sibella\",\"Brown\",\"Cyra\",\"Grinstein\",\"Barreto\",\"Harold\",\"Hildebrand\",\"Steele\",\"Carl\",\"Rahul\",\"Gopal\",\"Roper\",\"Brown\",\"Fisher\",\"Haushalter\",\"Voltz\",\"Stuart\",\"Mitchum\",\"Frazer\",\"Grove\",\"Sachs\",\"Sanjova\",\"Rane\",\"Hitesh\",\"Gibson\",\"Liz\",\"Zandusky\",\"Ekta\",\"Stuti\",\"Hrisheekesh\",\"Grace\",\"Sorensen\",\"Keshav\",\"Yedwab\",\"Teena\",\"Oshin\",\"Surabhi\",\"Swint\",\"Ramesh\",\"Schmidt\",\"Aparajita\",\"Frazer\",\"Fisher\",\"Sathya\",\"Klamczynski\",\"Akshat\",\"Debra\",\"Bergmann\",\"McCarthy\",\"Joel\",\"MaryBeth\",\"Sean\",\"Sibella\",\"Christopher\",\"Braden\",\"Jaideep\",\"Dipali\",\"Chloris\",\"Jane\",\"Larry\",\"Rohit\",\"Joy\",\"Raksha\",\"Ausman\",\"Morse\",\"Lebron\",\"Debra\",\"Apsingekar\",\"Anand\",\"Kelly\",\"Aastha\",\"Akshat\",\"Sukant\",\"Barton\",\"Sundaresam\",\"Cacioppo\",\"Nathan\",\"Susan\",\"Staebel\",\"Moore\",\"Darrin\",\"Phan\",\"Barnes\",\"Hane\",\"Taslimi\",\"Stuti\",\"Patterson\",\"Wooten\",\"Vivek\",\"Juliana\",\"Foster\",\"Jesal\",\"Pistek\",\"Pelletier\",\"Guthrie\",\"Sudevi\",\"Charles\",\"Nazzal\",\"Krishna\",\"Brown\",\"Ulpright\",\"Tanvi\",\"Krishna\",\"Bixby\",\"Steve\",\"Ross\",\"Paromita\",\"Shonely\",\"Damala\",\"Saptadeep\",\"Sheetal\",\"Shaily\",\"Shreyshi\",\"Mautz\",\"Cindy\",\"Amisha\",\"Tonja\",\"Inderpreet\",\"Nida\",\"Martinez\",\"Harsh\",\"Webber\",\"Norvell\",\"Kelly\",\"Hendricks\",\"Sink\",\"Ananya\",\"Jim\",\"Brooks\",\"Budd\",\"Astrea\",\"Rachel\",\"Williams\",\"Akash\",\"Fein\",\"Piyali\",\"Ballard\",\"Jennifer\",\"Christina\",\"Hoffman\",\"Halladay\",\"Parks\",\"Ekta\",\"Christy\",\"Magdelene\",\"Mautz\",\"Reiter\",\"Syed\",\"Laalji\",\"Gannaway\",\"Gibson\",\"Flanagan\",\"Shikhar\",\"Holt\",\"Freymann\",\"Ryan\",\"Phan\",\"Cousins\",\"Grinstein\",\"Amit\",\"Schnelling\",\"Mark\",\"Devendra\",\"Ruben\",\"Roberts\",\"Crebagga\",\"Chand\",\"Jasper\",\"Bixby\",\"Barchas\",\"McClure\",\"Patil\",\"Chong\",\"Swint\",\"Gordon\",\"Sanjay\",\"O'Connel\",\"Turumella\",\"Bremer\",\"Crestani\",\"Farhat\",\"Dave\",\"Shaun\",\"Clark\",\"Barbara\",\"Akshat\",\"Sathya\",\"Raglin\",\"Katharine\",\"liebe\",\"Ameesha\",\"Rose\",\"Fuller\",\"Max\",\"Surabhi\",\"Shivani\",\"Akshat\",\"Gute\",\"Akin\",\"Stuti\",\"Arpita\",\"McGarr\",\"Shikhar\",\"Piyali\",\"Kennedy\",\"Kiran\",\"Jonathan\",\"Robert\",\"Pinky\",\"Murray\",\"Jesslyn\",\"Herman\",\"Cohen\",\"Granlund\",\"Swetha\",\"Eugene\",\"Carlos\",\"Bzostek\",\"Anne\",\"Halladay\",\"MaryBeth\",\"Moore\",\"Parakh\",\"Seio\",\"Carroll\",\"Aastha\",\"Mhatre\",\"Dorris\",\"Seth\",\"Shivangi\",\"Neil\",\"Sahil\",\"Neil\",\"Toby\",\"Krishna\",\"Craig\",\"Heather\",\"Soumyabrata\",\"Sweed\",\"Barroso\",\"Mills\",\"Sabah\",\"Stefania\",\"Pratyusmita\",\"Jim\",\"Utsav\",\"Kane\",\"Hallsten\",\"Joni\",\"Lalita\",\"Howell\",\"Reiter\",\"Laalji\",\"Nazzal\",\"Sink\",\"Shiva\",\"Bhosale\",\"Gerbode\",\"Sievert\",\"Elizabeth\",\"Barton\",\"Nishant\",\"Holt\",\"Deanra\",\"Johnson\",\"Roelle\",\"Hansen\",\"Jas\",\"Jamie\",\"Mitch\",\"Corey-Lock\",\"Joni\",\"Odegard\",\"Ellis\",\"Michael\",\"Corinna\",\"Sorensen\",\"Martinez\",\"Hernandez\",\"Eleni\",\"Hightower\",\"Rohit\",\"Harivansh\",\"Divyeta\",\"Barreto\",\"Abhijit\",\"Gonzalez\",\"Dickinson\",\"Vasudev\",\"Claudia\",\"McMath\",\"Sara\",\"Black\",\"Anthony\",\"Maureen\",\"Frazer\",\"Rosenberg\",\"Anurag\",\"Sharelle\",\"Wallace\",\"Adhvaita\",\"Vijay\",\"Stobb\",\"Staavos\",\"Sudevi\",\"Debra\",\"Andrew\",\"Holloman\",\"Braden\",\"Sonakshi\",\"Budd\",\"Ballentine\",\"Tamara\",\"Deepak\",\"Rishabh\",\"Tron\",\"Hitesh\",\"Flashing\",\"Poddar\",\"Voltz\",\"Caffey\",\"Tamara\",\"Arun\",\"DeVincentis\",\"Leslie\",\"Matthias\",\"Doherty\",\"Annie\",\"Guy\",\"Bathina\",\"Halladay\",\"Medina\",\"Nockton\",\"Chand\",\"Nockton\",\"Sanjay\",\"Bühler\",\"Ober\",\"Harshita\",\"Troy\",\"Helen\",\"Aryan\",\"Pond\",\"Randy\",\"Richard\",\"Manjiri\",\"Aishwarya\",\"Tushina\",\"Tushina\",\"Hendricks\",\"Bhargav\",\"Darren\",\"Gardner\",\"Aniket\",\"Vaibhavi\",\"Hunter\",\"Baptist\",\"Elias\",\"Cyma\",\"Gockenbach\",\"Andreada\",\"Van\",\"Adams\",\"Brooke\",\"Mukesh\",\"Darrin\",\"Grayson\",\"Mousam\",\"Bhawna\",\"Parth\",\"Wasserman\",\"Stuti\",\"Sauptik\",\"Wilson\",\"Vasudev\",\"K\",\"Surabhi\",\"Ashley\",\"Hazel\",\"Huthwaite\",\"Barreto\",\"Tejeswini\",\"Amisha\",\"Aleksandra\",\"Ralph\",\"Shaily\",\"Yoseph\",\"Arnett\",\"Dominguez\",\"Baptist\",\"Joseph\",\"Delaney\",\"Castell\",\"Sabah\",\"Manning\",\"Epp\",\"Jocasta\",\"Rupert\",\"Alan\",\"Gary\",\"Roy\",\"Noshiba\",\"Gibson\",\"Stuti\",\"Stefanie\",\"Selesnick\",\"Anmol\",\"Phillina\",\"Aleksandra\",\"Mathis\",\"Aparajita\",\"Akanksha\",\"Chikku\",\"Bzostek\",\"Alejandro\",\"Smith\",\"Ritter\",\"Roper\",\"Stefanie\",\"Matthias\",\"Hansen\",\"Steele\",\"Masurkar\",\"Sachs\",\"Crestani\",\"Odella\",\"Dawkins\",\"Harshita\",\"Zypern\",\"Wardle\",\"Galang\",\"Keshav\",\"Norvell\",\"Holloman\",\"Scott\",\"Surbhi\",\"Farhat\",\"Don\",\"Prichep\",\"Cindy\",\"Holden\",\"Hernandez\",\"Mohan\",\"Shami\",\"Luxemburg\",\"Skye\",\"Sheri\",\"Patil\",\"Stuart\",\"Swindell\",\"Clark\",\"Coakley\",\"Pratiksha\",\"Hooks\",\"Nathan\",\"Waco\",\"Gunjal\",\"Prost\",\"Mohan\",\"Blume\",\"Murray\",\"Susan\",\"Ricardo\",\"Baird\",\"Joel\",\"Aastha\",\"Parth\",\"Howell\",\"O'Donnell\",\"Soltero\",\"Cohen\",\"Sylvia\",\"Amruta\",\"Spruell\",\"Boeckenhauer\",\"Jane\",\"Phalguni\",\"Parhena\",\"Shariari\",\"VanderZanden\",\"Wasserman\",\"Ed\",\"Neha\",\"Latchford\",\"Daniel\",\"Anthony\",\"Speros\",\"Girase\",\"Jahan\",\"Engle\",\"Tiffany\",\"Thompson\",\"Sanskriti\",\"Mathis\",\"Duhita\",\"Deggeller\",\"Becker\",\"Barroso\",\"Maya\",\"Matt\",\"Yash\",\"Pawlan\",\"Kirti\",\"Lisa\",\"Mukesh\",\"Johnson\",\"Visinsky\",\"Kiran\",\"Bhutekar\",\"Braxton\",\"Dorris\",\"Raglin\",\"Soltero\",\"Cohen\",\"James\",\"Huston\",\"Sample\",\"Aaron\",\"Patricia\",\"Holden\",\"Hazel\",\"Haines\",\"Company\",\"Dorris\",\"MacIntyre\",\"Davis\",\"Gjertsen\",\"Bellavance\",\"Deirdre\",\"Brandow\",\"Jordon\",\"Justin\",\"Vishakha\",\"Matt\",\"Sharelle\",\"Steven\",\"Saunders\",\"Erin\",\"Champaklata\",\"Sumrall\",\"Chen\",\"Vishakha\",\"Laalji\",\"Mull\",\"Becky\",\"Monu\",\"Heidel\",\"Divyansh\",\"McGuire\",\"Jay\",\"Robert\",\"Oshin\",\"Bhaggyasree\",\"Jaydeep\",\"Huthwaite\",\"Bzostek\",\"Cohen\",\"Mills\",\"Victoria\",\"Roper\",\"Mukesh\",\"Stefanie\",\"Sumeet\",\"Wooten\",\"Becker\",\"Murry\",\"Moumita\",\"Stewart\",\"Mukund\",\"Rohan\",\"Pearl\",\"Wale\",\"Glocke\",\"Helen\",\"Weirich\",\"Fein\",\"Arindam\",\"Applegate\",\"Stewart\",\"Roberts\",\"Amlan\",\"Lalita\",\"Patricia\",\"Blacks\",\"Lanier\",\"Sperren\",\"Subhashree\",\"Madhulika\",\"Sink\",\"Coakley\",\"Dorothy\",\"Wardle\",\"Fritzler\",\"Cazamias\",\"Kane\",\"Kaydos\",\"Randy\",\"Parin\",\"Shreyshi\",\"Shreyshi\",\"Herrera\",\"Elias\",\"Carol\",\"Ted\",\"Ross\",\"Hansen\",\"Matthias\",\"Daniel\",\"Amit\",\"Wiediger\",\"Corey\",\"Pratyusmita\",\"Akshata\",\"Hwang\",\"percer\",\"Norvell\",\"Cartwright\",\"Stevenson\",\"Geetanjali\",\"Ludwig\",\"Catlett\",\"Creighton\",\"Aastha\",\"Etezadi\",\"Pistole\",\"Cohen\",\"Maris\",\"Howell\",\"Troy\",\"Jumper\",\"Tom\",\"Keshav\",\"Yohann\",\"Buch\",\"Darrin\",\"Kennedy\",\"Moren\",\"Prajakta\",\"Wasserman\",\"Webber\",\"Yotov\",\"Brenda\",\"Wiediger\",\"Lindsay\",\"Bierner\",\"Zeldin\",\"Mugdha\",\"Ajay\",\"Aayush\",\"Pond\",\"Ionia\",\"Denise\",\"Messe\",\"Sink\",\"Dowd\",\"Kelty\",\"Bobby\",\"Irene\",\"Dortch\",\"Yaanvi\",\"Hawley\",\"Moss\",\"Carol\",\"Zandusky\",\"Braunhardt\",\"Cyra\",\"Cyra\",\"Goldenen\",\"Yoseph\",\"Mills\",\"Nishant\",\"Laalji\",\"Smayling\",\"Overfelt\",\"Pölking\",\"O'Briant\",\"Hoffman\",\"Caroline\",\"Caroline\",\"Rhea\",\"Rhea\",\"Geetanjali\",\"Jamie\",\"Indulekha\",\"Apoorv\",\"Sanjana\",\"Rittenbach\",\"Aayushi\",\"Blumstein\",\"Bickford\",\"Merwin\",\"Rachel\",\"Rachel\",\"Noonan\",\"McNair\",\"Brittain\",\"Brittain\",\"Lebron\",\"Dryer\",\"Siddharth\",\"Olson\",\"Parhena\",\"Shardul\",\"Alejandro\",\"Alejandro\",\"Saurabh\",\"Cathy\",\"Hart\",\"Barton\",\"Barton\",\"Bergman\",\"Lisa\",\"Tejeswini\",\"Gastineau\",\"Indulekha\",\"Shweta\",\"Adrian\",\"Hazel\",\"Neha\",\"Vivek\",\"Van\",\"Akancha\",\"Sheri\",\"Candace\",\"Farhat\",\"Foster\",\"Hirasaki\",\"Navdeep\",\"Olsen\",\"Art\",\"Shreyshi\",\"Stevenson\",\"Jaydeep\",\"Daly\",\"Maxwell\",\"Boyes\",\"Denny\",\"Campbell\",\"Divyansh\",\"Amol\",\"Divyansh\",\"Bobby\",\"Dave\",\"Piyali\",\"Lycoris\",\"Manshul\",\"Piyali\",\"Teena\",\"Noel\",\"Ashmi\",\"Lela\",\"Brennan\",\"Baird\",\"Alejandro\",\"Vernon\",\"Collins\",\"Swapnil\",\"Paige\",\"Dunbar\",\"McGarr\",\"McGarr\",\"Patil\",\"Aastha\",\"Karlsson\",\"Carreira\",\"Brittain\",\"Breyer\",\"Smith\",\"Smith\",\"Kargatis\",\"Hunter\",\"Kritika\",\"Yoseph\",\"Jesslyn\",\"Aromal\",\"Lena\",\"Demir\",\"Crebassa\",\"Gunjan\",\"Vandana\",\"MacKendrick\",\"Glassco\",\"Patricia\",\"Aayush\",\"Aayush\",\"Katrina\",\"Manning\",\"Mhatre\",\"Nikhil\",\"Kaydos\",\"Bryan\",\"Charika\",\"Charika\",\"Noshiba\",\"Triggs\",\"Noshiba\",\"Lacy\",\"Atul\",\"Overfelt\",\"Ballard\",\"Catini\",\"Catini\",\"Flathmann\",\"Haushalter\",\"O'Brill\",\"Gjertsen\",\"Wiener\",\"Brenda\",\"Grayson\",\"Harshita\",\"Hoffman\",\"Farry\",\"Mathis\",\"Budd\",\"Dhirajendu\",\"Mathis\",\"Abelman\",\"Anderson\",\"Gillingham\",\"Nikhil\",\"Parth\",\"Ankur\",\"Sahil\",\"Mitchell\",\"Weirich\",\"Grove\",\"Grove\",\"Penelope\",\"Blume\",\"Bhutekar\",\"Arnett\",\"Bremer\",\"Cacioppo\",\"Atkinson\",\"Eric\",\"Carlos\",\"Satty\",\"Staavos\",\"Duane\",\"Parin\",\"Vishakha\",\"Zettner\",\"Shubham\",\"Swetlana\",\"Daly\",\"Fein\",\"Daly\",\"Resi\",\"Nida\",\"Patricia\",\"Craven\",\"Hughsby\",\"Hughsby\",\"Craven\",\"Dave\",\"Krishna\",\"Jas\",\"Fjeld\",\"Parnavi\",\"Riya\",\"Dianna\",\"Koutras\",\"Akancha\",\"Powers\",\"Uudhav\",\"Reichenbach\",\"Pournamasi\",\"Pamela\",\"Beltran\",\"Henry\",\"Lisa\",\"McCrary\",\"Herbert\",\"Akshata\",\"Glassco\",\"Gibson\",\"Duston\",\"Eva\",\"Alejandro\",\"Mhatre\",\"Bierner\",\"Kirti\",\"Cathy\",\"Becker\",\"Richard\",\"Gonzalez\",\"Kunitz\",\"Aarushi\",\"Vaibhavi\",\"Baptist\",\"Trupti\",\"Federle\",\"Ashvini\",\"Hagelstein\",\"Mull\",\"Quincy\",\"Pearl\",\"Garverick\",\"Pearl\",\"Georgia\",\"Ausman\",\"McNair\",\"McNair\",\"Gjertsen\",\"Victor\",\"Manjiri\",\"Brumley\",\"Akash\",\"Grant\",\"Anne\",\"Brown\",\"Brandow\",\"Gonzalez\",\"Sharda\",\"Farhat\",\"Astrea\",\"Katz\",\"Noel\",\"Donovan\",\"Shubham\",\"Krutika\",\"Darrin\",\"Butterfield\",\"Parna\",\"Zeldin\",\"Pournamasi\",\"Chirag\",\"Nathan\",\"Jaideep\",\"Hansen\",\"Amlan\",\"Chandni\",\"Byrd\",\"Sumrall\",\"Divyeta\",\"Bhutekar\",\"Becker\",\"Rohan\",\"Sauptik\",\"Zypern\",\"Aarushi\",\"Zypern\",\"Balk\",\"Ross\",\"Snel\",\"Dorothy\",\"Greene\",\"Applegate\",\"Prashant\",\"Arsheen\",\"Glassco\",\"Prost\",\"Gillingham\",\"Aleksandra\",\"Christopher\",\"Gonzalez\",\"Samiksha\",\"Duane\",\"Schild\",\"Vipul\",\"Skach\",\"Pooja\",\"Manisha\",\"Megha\",\"Overfelt\",\"Krutika\",\"Hudgings\",\"Anita\",\"Adhvaita\",\"Anita\",\"Gelder\",\"Gonzalez\",\"Noopur\",\"Noopur\",\"Benoit\",\"Dowd\",\"Indulekha\",\"Ben\",\"Gainer\",\"Filia\",\"Dickinson\",\"Manibalan\",\"Victor\",\"Manibalan\",\"Mahima\",\"Mahima\",\"Holloman\",\"Juliana\",\"Häberlin\",\"Laura\",\"Häberlin\",\"Badders\",\"Murray\",\"Murray\",\"Ekta\",\"Ekta\",\"Krutika\",\"Bharat\",\"Bruce\",\"Bierner\",\"Parhena\",\"Vishakha\",\"Vishakha\",\"House\",\"Priyanshu\",\"Cindy\",\"Pooja\",\"Vivek\",\"Vittorini\",\"Gardner\",\"Tyler\",\"Rutuja\",\"Carl\",\"Rutuja\",\"Soumya\",\"Yash\",\"Flanagan\",\"Chikku\",\"Yana\",\"Blacks\",\"Clay\",\"Siddharth\",\"Dunbar\",\"Laura\",\"Sanjay\",\"Jay\",\"Brosina\",\"Rohan\",\"Pournamasi\",\"Katherine\",\"Troy\",\"Aastha\",\"Jennifer\",\"Aastha\",\"Tulika\",\"Shivangi\",\"Miller\",\"Alice\",\"Schwartz\",\"Pawlan\",\"Valerie\",\"Zuschuss\",\"Zuschuss\",\"Chris\",\"McMahon\",\"Cathy\",\"McMahon\",\"Degenhardt\",\"McVee\",\"Kalyani\",\"McVee\",\"Alyssa\",\"Larry\",\"Karen\",\"Sanskriti\",\"Dario\",\"Jaydeep\",\"Akin\",\"Goldwyn\",\"Paridhi\",\"Shivangi\",\"Pak\",\"Overfelt\",\"Parishi\",\"Dashyam\",\"Anchal\",\"Dashyam\",\"Anchal\",\"Engle\",\"Ginny\",\"Shreyoshe\",\"Hamilton\",\"Bixby\",\"Seite\",\"Gonzalez\",\"Monu\",\"Maithilee\",\"Eaton\",\"Tran\",\"Leatherbury\",\"Amit\",\"Lloyd\",\"Shami\",\"Alex\",\"Alex\",\"Bzostek\",\"Cathy\",\"Amruta\",\"Shreyshi\",\"Swint\",\"Aayush\",\"Bertelson\",\"Parishi\",\"Ordway\",\"Subhashree\",\"Mike\",\"Brown\",\"Stuart\",\"Anemone\",\"Flashing\",\"Gayman\",\"Martin\",\"Martin\",\"Jesal\",\"Muskan\",\"Piyam\",\"Sanjova\",\"Piyam\",\"Bryan\",\"Sukant\",\"Lisha\",\"Abhishek\",\"Shatayu\",\"Cousins\",\"Pranjali\",\"Kritika\",\"Shaily\",\"Andreada\",\"Hudgings\",\"Tillman\",\"Dawkins\",\"Sandeep\",\"Raksha\",\"Kristen\",\"Karl\",\"Rosenberg\",\"Vishakha\",\"Noshiba\",\"Cohen\",\"Vishakha\",\"Stuti\",\"Kirti\",\"Stuti\",\"Hastings\",\"Richard\",\"Lynn\",\"Christensen\",\"Prashant\",\"Rick\",\"Karl\",\"Sonia\",\"Edward\",\"Kamberova\",\"Chandni\",\"Kamberova\",\"Sudevi\",\"Crouse\",\"Aayush\",\"Hagelstein\",\"Lampkin\",\"Barchas\",\"Stewart\",\"Dominguez\",\"Ludwig\",\"Glotzbach\",\"Carl\",\"Weirich\",\"Harry\",\"Abhijit\",\"Freymann\",\"Stuti\",\"Sukant\",\"Chen\",\"Kalyani\",\"Manjiri\",\"Aishwarya\",\"Aishwarya\",\"Victoria\",\"Smayling\",\"Amit\",\"Stuti\",\"Brenda\",\"Brockman\",\"Rahul\",\"Rahul\",\"Saurabh\",\"Hazard\",\"Debra\",\"Cacioppo\",\"Hawkins\",\"O'Rourke\",\"Bixby\",\"Blanton\",\"Omkar\",\"Guthrie\",\"Ducich\",\"Aryan\",\"Aryan\",\"Staebel\",\"Folk\",\"Shifley\",\"Olsen\",\"Olsen\",\"Stobb\",\"Hallsten\",\"Troy\",\"Hemangi\",\"Bhutekar\",\"Steven\",\"Bhutekar\",\"Stuti\",\"Granlund\",\"Snel\",\"Chandni\",\"Abhijeet\",\"Monton\",\"Shillingsburg\",\"Southworth\",\"Bertelson\",\"Anthony\",\"Dunbar\",\"Rittenbach\",\"Grady\",\"Jitesh\",\"Pryor\",\"Sheri\",\"Badders\",\"Gastineau\",\"Bhavna\",\"Devendra\",\"Madan Mohan\",\"Butterfield\",\"D'Ascenzo\",\"Michelle\",\"Knudson\",\"Raymond\",\"liebe\",\"Jacobs\",\"Staebel\",\"Boyes\",\"Sandra\",\"Williams\",\"Hitika\",\"Justin\",\"Ashmeet\",\"Manisha\",\"Sandeep\",\"Christensen\",\"Soodesh\",\"Beth\",\"Reiten\",\"Jeremy\",\"Neoma\",\"Grant\",\"Mitchum\",\"Davis\",\"Rohan\",\"Pradeep\",\"Madhulika\",\"Noopur\",\"Yash\",\"Neha\",\"Triggs\",\"Magdelene\",\"Apsingekar\",\"Kasheen\",\"Mitali\",\"Cousins\",\"Goldenen\",\"Vishakha\",\"Lakshmi\",\"Diwakar\",\"Gerbode\",\"Grayson\",\"Jaydeep\",\"Nishant\",\"Akash\",\"Akash\",\"Akash\",\"Indulekha\",\"Akash\",\"Akash\",\"Hawley\",\"Brumfield\",\"Beeghly\",\"Shiva\",\"Nikhil\",\"Nikhil\",\"Pratiksha\",\"Barry\",\"Reiten\",\"Catlett\",\"Catlett\",\"Arthur\",\"Praneet\",\"Eugene\",\"Shaun\",\"Shaun\",\"Tran\",\"Neoma\",\"Gnade\",\"Berenike\",\"Laura\",\"Irene\",\"Yoseph\",\"Bobby\",\"Girase\",\"Burns\",\"Burns\",\"Pryor\",\"Seth\",\"Baird\",\"Corey\",\"Kirkland\",\"Dickinson\",\"Christy\",\"Rosenberg\",\"Breyer\",\"Kanak\",\"Jaydeep\",\"Grinstein\",\"Southworth\",\"Kampe\",\"Ishit\",\"Andreada\",\"Ankur\",\"Schwartz\",\"Overfelt\",\"Hazel\",\"Reed\",\"Coram\",\"Stewart\",\"O'Briant\",\"Barcio\",\"Flanagan\",\"Heidel\",\"Shivani\",\"O'Carroll\",\"Barnes\",\"Fein\",\"Candace\",\"Duane\",\"Epp\",\"Clasen\",\"Melton\",\"Halladay\",\"Akin\",\"Barnett\",\"Dartt\",\"Halladay\",\"Anchal\",\"Ankur\",\"Akash\",\"Aryan\",\"Williams\",\"Gayman\",\"Apoorv\",\"Christopher\",\"Aastha\",\"Indulekha\",\"Kendrick\",\"Schild\",\"Lampkin\",\"DeCherney\",\"Roach\",\"Sung\",\"Nat\",\"Ralph\",\"Prescott\",\"Catini\",\"Sorensen\",\"Vivian\",\"Noonan\",\"Linda\",\"Jordon\",\"Duhita\",\"Shonely\",\"Voltz\",\"Connell\",\"Champaklata\",\"Sue\",\"Cyma\",\"Ruben\",\"Aditi\",\"McCarthy\",\"Ward\",\"Aman\",\"Jonathan\",\"Hightower\",\"Katrina\",\"Chad\",\"Weien\",\"Apsingekar\",\"Collins\",\"Kotsonis\",\"Quincy\",\"Saloni\",\"Helen\",\"Norris\",\"Wallace\",\"Sunley\",\"Ted\",\"Holt\",\"Atkinson\",\"Schmidt\",\"McGuire\",\"Neil\",\"Shreyshi\",\"Kiran\",\"Riya\",\"Hooks\",\"Krohn\",\"Huthwaite\",\"Crebassa\",\"Pradeep\",\"Kunst\",\"Grayson\",\"Kennedy\",\"Eaton\",\"Geetanjali\",\"Guy\",\"Guy\",\"Christine\",\"Delfina\",\"Shivangi\",\"Lalita\",\"Gainer\",\"Aleksandra\",\"Goldenen\",\"Linda\",\"Aditya\",\"Bensley\",\"Denise\",\"Irene\",\"Black\",\"Alan\",\"Ishit\",\"Huthwaite\",\"Nikhil\",\"West\",\"Noel\",\"Boeckenhauer\",\"Radford\",\"Joe\",\"Erica\",\"Arianne\",\"Talbott\",\"Waco\",\"Bathina\",\"Duhita\",\"Duhita\",\"Chance\",\"Swint\",\"Venier\",\"Conant\",\"Bickford\",\"Jeremy\",\"Baird\",\"Jamie\",\"Paridhi\",\"Jarboe\",\"Ishit\",\"Southworth\",\"Glocke\",\"Ishit\",\"Parks\",\"Grace\",\"Alyssa\",\"Latchford\",\"Mathew\",\"Matthew\",\"Ann\",\"Sanjay\",\"Glassco\",\"Aaron\",\"Thurman\",\"Sharelle\",\"Divyansh\",\"Cindy\",\"Bixby\",\"Paridhi\",\"Halladay\",\"Kean\",\"Sung\",\"Weimer\",\"Wardle\",\"Barton\",\"Gordon\",\"Swati\",\"Corey-Lock\",\"Patil\",\"Mansi\",\"Federle\",\"Coram\",\"Shweta\",\"Hunter\",\"Galang\",\"Norvell\",\"Holloman\",\"Saptadeep\",\"Jamie\",\"Tonja\",\"Siddharth\",\"Quincy\",\"Indulekha\",\"Pryor\",\"Atkinson\",\"Waldorf\",\"Champaklata\",\"Arti\",\"Sharelle\",\"Gunjan\",\"Goldenen\",\"Myrick\",\"Aayushi\",\"Tiffany\",\"Amit\",\"Monica\",\"Rohit\",\"Gross\",\"Sumrall\",\"Naresj\",\"Chris\",\"Thurman\",\"Coakley\",\"Satty\",\"Stobb\",\"Clark\",\"Mathis\",\"Surbhi\",\"Marley\",\"Ballard\",\"Ballard\",\"Seth\",\"Aditi\",\"Cynthia\",\"Shivani\",\"Randy\",\"Aryan\",\"Stivers\",\"Eleni\",\"Shillingsburg\",\"Chand\",\"Ishit\",\"Shreyshi\",\"Mrunal\",\"Bhutekar\",\"Hightower\",\"Hart\",\"Degenhardt\",\"MaryBeth\",\"Leinenbach\",\"Herrera\",\"Becky\",\"Sanjna\",\"Parhena\",\"Apsingekar\",\"Stuti\",\"Dominguez\",\"Thea\",\"Eichhorn\",\"Kriz\",\"Moss\",\"Karen\",\"Paige\",\"Gunjan\",\"Elliston\",\"Phonely\",\"Fortune-\",\"Caffey\",\"Kartikay\",\"Laalji\",\"Hoffman\",\"Swapnil\",\"Cathy\",\"Brenda\",\"Dashyam\",\"Haushalter\",\"Bobby\",\"Rozendal\",\"Sahil\",\"Sabah\",\"Alejandro\",\"Deepak\",\"Sheldon\",\"Mayank\",\"Tom\",\"Wener\",\"Nockton\",\"Harms\",\"Gillingham\",\"Dan\",\"Ross\",\"Drucker\",\"George\",\"Weirich\",\"Stewart\",\"Poirier\",\"Hildebrand\",\"Kartikay\",\"Stefania\",\"Yash\",\"Dinesh\",\"Clay\",\"Aastha\",\"Kelly\",\"Southworth\",\"Ritsa\",\"Dionis\",\"Alejandro\",\"Nida\",\"Rachel\",\"Karlsson\",\"Hunter\",\"Gene\",\"Maithilee\",\"Gute\",\"Gute\",\"Bharat\",\"Grace\",\"Molinari\",\"Seth\",\"Tracy\",\"Shourya\",\"Karl\",\"Haberlin\",\"Shrichand\",\"Surabhi\",\"Rohan\",\"Bhaggyasree\",\"Thompson\",\"Hale\",\"Smriti\",\"Hopkins\",\"Shivam\",\"Neola\",\"Doherty\",\"Hildebrand\",\"Gjertsen\",\"Gjertsen\",\"Holden\",\"Keith\",\"Sauptik\",\"Chuck\",\"Glocke\",\"Elpida\",\"Balk\",\"Raymond\",\"O'Carroll\",\"Meador\",\"Lloyd\",\"Gute\",\"William\",\"Lopez\",\"Brooke\",\"Kampe\",\"Sievert\",\"Hunter\",\"Hazard\",\"Sorensen\",\"Jaydeep\",\"Staebel\",\"Jenkins\",\"Cari\",\"Steele\",\"Fritzler\",\"Chikku\",\"Lela\",\"Nidhi\",\"Smith\",\"Todd\",\"Shreyshi\",\"Gonzalez\",\"Ordway\",\"Boyes\",\"Jas\",\"Penelope\",\"McMath\",\"Deanra\",\"Dortch\",\"Vittorini\",\"Childs\",\"Stugart\",\"Sukant\",\"Ann\",\"Mansi\",\"Greene\",\"Rahul\",\"Monu\",\"Oshin\",\"Kamberova\",\"Latchford\",\"Sandeep\",\"Shreyshi\",\"Sorensen\",\"Goranitis\",\"Sylvia\",\"Grace\",\"Monisha\",\"Swint\",\"Monisha\",\"Shrichand\",\"Manjiri\",\"Prost\",\"Goldwyn\",\"Jackson\",\"Mukesh\",\"Ishpreet\",\"MaryBeth\",\"Kargatis\",\"Watters\",\"Tanja\",\"Hagelstein\",\"Deborah\",\"Lucas\",\"Caffey\",\"Luxemburg\",\"Naresj\",\"Tracy\",\"Brooke\",\"Lomonaco\",\"Jahan\",\"Adhvaita\",\"Ocampo\",\"Robert\",\"Namrata\",\"Nandita\",\"Hitesh\",\"Erin\",\"Akshat\",\"Sajal\",\"Ashley\",\"Ocampo\",\"Benoit\",\"Crebagga\",\"Oakman\",\"Bixby\",\"Rahul\",\"Chloris\",\"Noel\",\"Ivan\",\"Zeldin\",\"Cindy\",\"Sahil\",\"Fritzler\",\"Harry\",\"Freymann\",\"Savi\",\"Carl\",\"Hwang\",\"Shatayu\",\"Sam\",\"Stewart\",\"Boyes\",\"Art\",\"Akshat\",\"Gunjan\",\"Sanjana\",\"Jenna\",\"Thurman\",\"Laalji\",\"Pryor\",\"Braunhardt\",\"Syed\",\"Haushalter\",\"Amit\",\"William\",\"Aditi\",\"Maureen\",\"Sahil\",\"Saunders\",\"O'Donnell\",\"Sharelle\",\"Lycoris\",\"Gibson\",\"Steven\",\"MaryBeth\",\"Ben\",\"Kalyani\",\"Childs\",\"Nick\",\"Bierner\",\"Greer\",\"Stuti\",\"Odegard\",\"Vasudev\",\"Cyra\",\"Demir\",\"Derr\",\"Deggeller\",\"Harry\",\"Foster\",\"Schild\",\"Cortes\",\"Swindell\",\"Shourya\",\"Arianne\",\"Guy\",\"Mukesh\",\"Rohan\",\"Carlos\",\"Praneet\",\"Vipul\",\"Kimmel\",\"Atul\",\"Prajakta\",\"Corey-Lock\",\"Nripraj\",\"Gjertsen\",\"Phonely\",\"Noonan\",\"Herman\",\"Vivek\",\"Hightower\",\"Barnes\",\"Duston\",\"Atul\",\"Greg\",\"Nikita\",\"Vernon\",\"Seth\",\"O'Carroll\",\"Thais\",\"Lonsdale\",\"Natalie\",\"Cazamias\",\"Charlotte\",\"Parishi\",\"Seth\",\"Mike\",\"Sweed\",\"Ricardo\",\"Olsen\",\"Roy\",\"Shonely\",\"Sweta\",\"Amol\",\"Stugart\",\"Laalji\",\"Poirier\",\"Norris\",\"Rane\",\"Calhoun\",\"Krohn\",\"Carol\",\"Sewall\",\"Maris\",\"Avish\",\"Paromita\",\"Corey\",\"Stobb\",\"Doug\",\"Bryan\",\"Sylvia\",\"Aastha\",\"Bart\",\"Norling\",\"Rawles\",\"Gunjan\",\"Kirkland\",\"Jill\",\"O'Brill\",\"Charlotte\",\"Halladay\",\"Byrd\",\"Sonia\",\"Jim\",\"Raglin\",\"Abelman\",\"Jasper\",\"Alan\",\"Bertelson\",\"Ekta\",\"Alan\",\"Gannaway\",\"Kritika\",\"Wilson\",\"Daniel\",\"Monton\",\"Sally\",\"Kartikay\",\"Satty\",\"Dickinson\",\"Resi\",\"Cousins\",\"Utsav\",\"Shubham\",\"Ellis\",\"Kiran\",\"Stephanie\",\"Sanjna\",\"Brooke\",\"Armstrong\",\"O'Connell\",\"Brumley\",\"Maxwell\",\"Arti\",\"Kirti\",\"Flanagan\",\"Thomas\",\"Sewall\",\"Christensen\",\"Grady\",\"Dario\",\"Prichep\",\"Darley\",\"Anudeep\",\"Anudeep\",\"Johnson\",\"Harshita\",\"McFarland\",\"Shui\",\"Joy\",\"Steele\",\"Chirag\",\"Fisher\",\"Yoseph\",\"Braxton\",\"Namrata\",\"Debra\",\"Daniels\",\"Nancy\",\"Dominguez\",\"Cari\",\"Coakley\",\"Lebron\",\"Kirti\",\"Ameesha\",\"Corey-Lock\",\"Abhishek\",\"Dipali\",\"Vishakha\",\"Saurabh\",\"Harrigan\",\"Ashbrook\",\"Aryan\",\"Sonia\",\"Gelder\",\"Sweta\",\"Jennifer\",\"Sung\",\"Abelman\",\"Ocampo\",\"Jackson\",\"Katz\",\"Shyam\",\"Shweta\",\"Airdo\",\"Company\",\"Shaun\",\"Thomas\",\"Noel\",\"Tillman\",\"Shardul\",\"Bruce\",\"Pete\",\"Lynn\",\"Robert\",\"Tony\",\"Clytie\",\"Anne\",\"Ricardo\",\"Dortch\",\"Ben\",\"Meade\",\"Randy\",\"Fritzler\",\"Alan\",\"Charles\",\"Dominguez\",\"Sukruta\",\"Pelletier\",\"Mousam\",\"Kushal\",\"Jarboe\",\"Jarboe\",\"Coram\",\"Crier\",\"Willingham\",\"Schneider\",\"Shivam\",\"Gardner\",\"Suraj\",\"Harold\",\"Oakman\",\"Hirsh\",\"Collins\",\"Gordon\",\"Hirasaki\",\"Shardul\",\"Don\",\"Sanjova\",\"Arianne\",\"Soodesh\",\"Mrinal\",\"Nora\",\"Chong\",\"Sanjit\",\"Hilary\",\"Duhita\",\"Skaria\",\"Lanier\",\"Stivers\",\"Vivian\",\"Priyanshu\",\"Ivan\",\"Evan\",\"Norris\",\"Jahan\",\"Syed\",\"Manning\",\"Sonakshi\",\"Donovan\",\"Nishi\",\"Vineet\",\"Rutuja\",\"Donovan\",\"Akshat\",\"Olsen\",\"Ankit\",\"Lori\",\"Noonan\",\"Cassandra\",\"Yogesh\",\"Gibson\",\"Amol\",\"Byrd\",\"Chad\",\"Becker\",\"Kartik\",\"Freymann\",\"Schoenberger\",\"Grace\",\"Ruben\",\"Phelps\",\"Hughsby\",\"Lisa\",\"Zewe\",\"Eno\",\"Debra\",\"Jacobs\",\"Janet\",\"Maddox\",\"Catlett\",\"Jacobs\",\"Cheatham\",\"Vittorini\",\"Andy\",\"Bolton\",\"Yogesh\",\"Howell\",\"Oshin\",\"Fred\",\"Tanushree\",\"Sievert\",\"Divyeshkumar\",\"Becky\",\"Lisa\",\"Karen\",\"Reed\",\"Arthur\",\"Ben\",\"Adhvaita\",\"Samiksha\",\"Aditya\",\"Soltero\",\"Jacobs\",\"Zuschuss\",\"Greer\",\"Taslimi\",\"Garverick\",\"Coakley\",\"Marina\",\"Surabhi\",\"Moumita\",\"Cindy\",\"Carmichael\",\"Lloyd\",\"Lloyd\",\"Annie\",\"Lalita\",\"Keshav\",\"Paridhi\",\"Jane\",\"Black\",\"Elpida\",\"Wiener\",\"Rashmi\",\"Flanagan\",\"Mitchum\",\"Eichhorn\",\"Eplett\",\"Coram\",\"Mrunal\",\"Rutuja\",\"Calhoun\",\"Roberts\",\"Brandow\",\"Jamie\",\"Bhavna\",\"Ameesha\",\"Cindy\",\"Bryan\",\"Noonan\",\"Barton\",\"Shantanu\",\"Thomas\",\"Garverick\",\"Brosina\",\"Shreya\",\"Parnavi\",\"Randy\",\"Karandeep\",\"Anurag\",\"Cari\",\"Soumya\",\"Delfina\",\"Wale\",\"Phan\",\"Emily\",\"Messe\",\"Wale\",\"Sharda\",\"Dortch\",\"Bertelson\",\"Avila\",\"Mhatre\",\"Sudevi\",\"Tanvi\",\"Sonakshi\",\"Hrisheekesh\",\"Anthony\",\"Siddharth\",\"Michelle\",\"Castell\",\"Priyanka\",\"Blumstein\",\"Ameesha\",\"Ocampo\",\"Ed\",\"Muhammed\",\"Troy\",\"Sonal\",\"Schnelling\",\"Bailliet\",\"Barcio\",\"Noopur\",\"Cari\",\"Herbert\",\"Wale\",\"Akshata\",\"Jarboe\",\"Aditya\",\"Astrea\",\"Deanra\",\"Asish\",\"Avila\",\"Ashbrook\",\"Alice\",\"Abelman\",\"Praneet\",\"Applegate\",\"Barton\",\"Arntzen\",\"Abhimanyu\",\"Becker\",\"Jaydeep\",\"Boyes\",\"Stuti\",\"Shaily\",\"Farhat\",\"Bzostek\",\"Neola\",\"Waco\",\"Edelman\",\"Adhvaita\",\"Quincy\",\"Glotzbach\",\"Harsh\",\"Gopal\",\"Bzostek\",\"Soumyabrata\",\"Claire\",\"McFarland\",\"Hooks\",\"Kotsonis\",\"Watters\",\"Alejandro\",\"Bharat\",\"Chance\",\"Suraj\",\"Cohen\",\"Barnes\",\"Monisha\",\"Ann\",\"Sneha\",\"Sudevi\",\"Herbert\",\"Aditi\",\"Barchas\",\"Chikku\",\"Andrew\",\"Marley\",\"Braxton\",\"Becky\",\"Aleksandra\",\"Pelletier\",\"Jaydeep\",\"Farhat\",\"Eaton\",\"Vaibhavi\",\"Rachna\",\"Inderpreet\",\"Bhavna\",\"Victor\",\"Vasudev\",\"Bell-\",\"Christine\",\"Witt\",\"Dominguez\",\"Suraj\",\"Bixby\",\"Hane\",\"Sewall\",\"Carlisle\",\"Mukesh\",\"Chikku\",\"Takahito\",\"Parhena\",\"Jocasta\",\"Hood\",\"Kalyani\",\"Flentye\",\"Phonely\",\"Rachna\",\"Schoenberger\",\"Daksh\",\"Maithilee\",\"Luke\",\"Dona\",\"Crebagga\",\"Anudeep\",\"Chong\",\"Dowd\",\"Aishwarya\",\"Jamie\",\"Amol\",\"Bickford\",\"Hackney\",\"Nishant\",\"Daksh\",\"Vineet\",\"O'Donnell\",\"Smith\",\"Cari\",\"Caffey\",\"Arpita\",\"Derr\",\"Hamilton\",\"Shivangi\",\"Ishit\",\"Paromita\",\"Jumper\",\"Julie\",\"Ludtke\",\"Childs\",\"Mayank\",\"D'Ascenzo\",\"McCrossin\",\"Tiffany\",\"Bixby\",\"Duhita\",\"Shreyshi\",\"Reed\",\"Flathmann\",\"Lela\",\"Braden\",\"Chapman\",\"Brumfield\",\"Seio\",\"Stewart\",\"Dave\",\"Diwakar\",\"Bill\",\"Asish\",\"Gilpin\",\"Andreadi\",\"Mull\",\"Gainer\",\"Edelman\",\"Lanier\",\"Glantz\",\"Atkinson\",\"Brown\",\"Harton\",\"Namrata\",\"Turumella\",\"Mohan\",\"Bremer\",\"Zypern\",\"Irving\",\"Knudson\",\"Frazer\",\"DeVincentis\",\"Aditya\",\"Hawkins\",\"Hawkins\",\"Eichhorn\",\"Ashmi\",\"Victor\",\"Snel\",\"Taslimi\",\"Sagar\",\"Teena\",\"Chandni\",\"Skye\",\"Leatherbury\",\"Tushina\",\"McFarland\",\"McFarland\",\"Bell\",\"Christina\",\"Christina\",\"Holloman\",\"Lee\",\"Manish\",\"Roland\",\"Farhat\",\"Tushina\",\"Sibella\",\"Hemant\",\"Syed\",\"Sahil\",\"Becker\",\"Dipali\",\"VanderZanden\",\"Gardner\",\"Hildebrand\",\"Sanjay\",\"Chris\",\"Chris\",\"Anmol\",\"Bühler\",\"Sarah\",\"Butterfield\",\"Fjeld\",\"Howell\",\"Julie\",\"Tim\",\"Soodesh\",\"Dhanraj\",\"Elias\",\"Maurice\",\"Jones\",\"Brockman\",\"Rahul\",\"Sukruta\",\"Chandni\",\"Tushina\",\"Tushina\",\"Noel\",\"Barnes\",\"Saloni\",\"Grinstein\",\"Hooks\",\"Halladay\",\"Folk\",\"Eason\",\"Ann\",\"Nripraj\",\"Harsh\",\"Filia\",\"Steven\",\"Baptist\",\"percer\",\"Robert\",\"Priyanka\",\"Shefali\",\"Hemant\",\"Vasudev\",\"McGuire\",\"Apsingekar\",\"Apsingekar\",\"Anthony\",\"Zydlo\",\"Priyanka\",\"Carol\",\"Prajakta\",\"Bobby\",\"Reese\",\"Charika\",\"Bremer\",\"Bhosale\",\"Reese\",\"Jacobs\",\"Kotsonis\",\"Wooten\",\"Bhawna\",\"Henry\",\"Sharelle\",\"Troy\",\"Brenda\",\"Grace\",\"O'Connell\",\"Sukant\",\"Tanushree\",\"Sudheer\",\"Subhasmita\",\"Manibalan\",\"Bensley\",\"Sharda\",\"Parth\",\"Fritzler\",\"Bryan\",\"Roland\",\"Ishpreet\",\"Rane\",\"Erin\",\"Rane\",\"Trafton\",\"Speros\",\"Derr\",\"Lena\",\"Brockman\",\"Sheri\",\"Bellavance\",\"Jaydeep\",\"Anne\",\"Foulston\",\"Vittorini\",\"Doherty\",\"Harrigan\",\"Chloris\",\"Suhani\",\"Rhea\",\"Monton\",\"Aryan\",\"Tate\",\"Geld\",\"Kajal\",\"Farhat\",\"Jesal\",\"Abelman\",\"Kanak\",\"Christina\",\"Noel\",\"Christina\",\"Kanak\",\"MacKendrick\",\"Apoorv\",\"Collins\",\"Lisha\",\"McGrath\",\"Dartt\",\"Childs\",\"Mary\",\"Barton\",\"Girase\",\"Naresj\",\"Brendan\",\"Susan\",\"Georgia\",\"O'Brian\",\"Pooja\",\"Tanushree\",\"Bühler\",\"Mhatre\",\"Mhatre\",\"Carl\",\"Coakley\",\"Carlisle\",\"Caroline\",\"Zypern\",\"Patterson\",\"Cohen\",\"Lycoris\",\"Hazel\",\"Drucker\",\"Drucker\",\"Aishwarya\",\"Thomas\",\"Swetha\",\"Maurice\",\"Stewart\",\"Corey\",\"Pournamasi\",\"Pistek\",\"Ishit\",\"Hackney\",\"Hale\",\"Pournamasi\",\"Overfelt\",\"Jitesh\",\"Martin\",\"Chris\",\"Anemone\",\"Kennedy\",\"Nirja\",\"Gunjal\",\"Mitchell\",\"Jenna\",\"Jenna\",\"Debra\",\"Megha\",\"Bailliet\",\"Blacks\",\"Moore\",\"Nathan\",\"Coakley\",\"O'Donnell\",\"Paul\",\"Mrunal\",\"Pranjali\",\"Greene\",\"Thompson\",\"Gjertsen\",\"Anchal\",\"Palak\",\"Noel\",\"Palak\",\"Divyeshkumar\",\"Dipali\",\"Maurice\",\"Ajay\",\"Smriti\",\"Fritzler\",\"Gockenbach\",\"Schmidt\",\"Indulekha\",\"Randy\",\"Meador\",\"Aishwarya\",\"O'Carroll\",\"Greg\",\"Greg\",\"Hitesh\",\"Yohann\",\"Divyeta\",\"Georgia\",\"Yogesh\",\"Swati\",\"Eplett\",\"Dickinson\",\"Chong\",\"Akshat\",\"Denny\",\"Swetlana\",\"Savely\",\"Aastha\",\"Glassco\",\"Omkar\",\"Chloris\",\"Nora\",\"Harry\",\"Emerson\",\"Dilbeck\",\"Aparajita\",\"Amol\",\"Alejandro\",\"Katherine\",\"Eva\",\"Stephanie\",\"Gillingham\",\"Satty\",\"Dickinson\",\"Dionis\",\"Staavos\",\"Tanvi\",\"Suman\",\"Bobby\",\"Shreyshi\",\"Sandra\",\"Sweta\",\"Deirdre\",\"Monu\",\"Ferguson\",\"Ramesh\",\"Troy\",\"Komal\",\"Keith\",\"Debra\",\"Eugene\",\"Wardle\",\"Catlett\",\"Ionia\",\"Harton\",\"Elias\",\"Amol\",\"Heather\",\"Anand\",\"Murry\",\"Crestani\",\"Brumley\",\"Conant\",\"Gary\",\"Merwin\",\"Chikku\",\"Preksha\",\"Dianna\",\"Vishakha\",\"Aniket\",\"Aniket\",\"Cindy\",\"Clytie\",\"Kirkland\",\"Victor\",\"Barbara\",\"Eplett\",\"MacAllister\",\"Sajal\",\"Gardner\",\"Shivani\",\"Ginny\",\"Laalji\",\"O'Brill\",\"Mike\",\"McClure\",\"Xylona\",\"Harton\",\"Adam\",\"Shivam\",\"Jason\",\"Sylvia\",\"Becky\",\"Resi\",\"Utsav\",\"Vernon\",\"Stefanie\",\"Tyler\",\"Kennedy\",\"Edward\",\"Meador\",\"Chuck\",\"Bühler\",\"Eileen\",\"Carroll\",\"Patricia\",\"Shourya\",\"Megha\",\"Suzanne\",\"Murry\",\"Clark\",\"Omkar\",\"Jackson\",\"Eason\",\"Goranitis\",\"Scott\",\"Matthias\",\"Nida\",\"Blackwell\",\"Vijay\",\"Mitchell\",\"Fjeld\",\"Emerson\",\"Ken\",\"Dickinson\",\"Aayushi\",\"Fuller\",\"Gopal\",\"Kampe\",\"Thais\",\"Swint\",\"Ankita\",\"Laurel\",\"Dave\",\"Drucker\",\"Kirti\",\"Tanushree\",\"Siddharth\",\"Murray\",\"Muhammed\",\"Degenhardt\",\"Bensley\",\"Nockton\",\"Mane\",\"Hendricks\",\"Michael\",\"Daksh\",\"Mousam\",\"Murdock\",\"Theresa\",\"Castell\",\"Chung\",\"Harivansh\",\"Brenda\",\"Yash\",\"Mohan\",\"Degenhardt\",\"Crebassa\",\"Apoorv\",\"Lampkin\",\"Reese\",\"Arpita\",\"Monica\",\"Todd\",\"Ellis\",\"Elijah\",\"Stewart\",\"Demir\",\"Anurag\",\"Nancy\",\"Myrick\",\"Wale\",\"Wale\",\"Anderson\",\"Braxton\",\"Ankit\",\"Gillingham\",\"Ionia\",\"Gene\",\"Sunley\",\"Greene\",\"Arun\",\"Carol\",\"McCrossin\",\"Phonely\",\"Darren\",\"Chandni\",\"Dhirajendu\",\"Ducich\",\"Hirsh\",\"Reed\",\"Nazzal\",\"Dunbar\",\"Castell\",\"Anurag\",\"Bensley\",\"Cooley\",\"Luxemburg\",\"Abhimanyu\",\"Sharda\",\"LaWare\",\"Shiva\",\"Hawkins\",\"Duhita\",\"Shreyshi\",\"Mull\",\"Karlsson\",\"Cathy\",\"Rittenbach\",\"Braxton\",\"Stuart\",\"Cynthia\",\"Balk\",\"Deepak\",\"Sanjna\",\"Kiran\",\"Rick\",\"Harrigan\",\"Hitesh\",\"Zydlo\",\"Wendt\",\"Jocasta\",\"Sanjay\",\"Andreadi\",\"Hughsby\",\"Kelty\",\"Oshin\",\"Jesslyn\",\"Prescott\",\"Butterfield\",\"Jeremy\",\"Bavinger\",\"Karandeep\",\"Becker\",\"Fein\",\"McCrossin\",\"Stivers\",\"Charlotte\",\"Laalji\",\"Cari\",\"Christensen\",\"Parhena\",\"Kiran\",\"William\",\"Anthony\",\"Halladay\",\"Manish\",\"Don\",\"Aleksandra\",\"Rob\",\"Alejandro\",\"Goldwyn\",\"Paridhi\",\"Deepak\",\"Suhani\",\"Smith\",\"Foster\",\"Sahil\",\"Bühler\",\"Mhatre\",\"Skach\",\"Rutuja\",\"Bühler\",\"O'Connel\",\"Hirasaki\",\"Tulika\",\"Jill\",\"Glocke\",\"Ritu\",\"Neola\",\"Neola\",\"Sudheer\",\"Russell\",\"Garza\",\"Patel\",\"Sanjana\",\"Yoseph\",\"Tejas\",\"Haberlin\",\"Alejandro\",\"Nick\",\"Cohen\",\"Sonia\",\"liebe\",\"Moffitt\",\"Barreto\",\"Ross\",\"Bremer\",\"Kastensmidt\",\"Tom\",\"Flentye\",\"Tushina\",\"Charles\",\"Maithilee\",\"Charles\",\"John\",\"Chirag\",\"MacKendrick\",\"Nitant\",\"Kushal\",\"Denise\",\"Hale\",\"Akshat\",\"Bertelson\",\"Champaklata\",\"Brandow\",\"Anurag\",\"Sudevi\",\"Akshat\",\"Quincy\",\"Adrian\",\"Cartwright\",\"Sheri\",\"MacKendrick\",\"Clay\",\"Flanagan\",\"Dowd\",\"Irving\",\"Krutika\",\"Gonzalez\",\"Monica\",\"Barreto\",\"Brennan\",\"Chuck\",\"Shifley\",\"Carter\",\"Christina\",\"Parishi\",\"Manning\",\"Gelder\",\"Stephanie\",\"Gerbode\",\"Roland\",\"Thomas\",\"Shivangi\",\"Airdo\",\"Noah\",\"LaWare\",\"Aditya\",\"Shivam\",\"Rutuja\",\"Art\",\"Sissman\",\"K\",\"Bhishm\",\"Sabah\",\"Patil\",\"Arti\",\"Stuti\",\"Foulston\",\"Greene\",\"Norvell\",\"Oshin\",\"Natalie\",\"Aparajita\",\"Thornton\",\"Steven\",\"Dorothy\",\"Yoseph\",\"Sumrall\",\"Kushal\",\"Wasserman\",\"Sajal\",\"Reichenbach\",\"Claudia\",\"Stewart\",\"Thompson\",\"Namrata\",\"Marc\",\"Ober\",\"Weirich\",\"DeMoss\",\"Atul\",\"Lalita\",\"Kristina\",\"Halladay\",\"Cox\",\"Southworth\",\"Meg\",\"Sumrall\",\"Parakh\",\"Stobb\",\"Etezadi\",\"Olsen\",\"Mahima\",\"Conant\",\"Glotzbach\",\"Saurabh\",\"Saurabh\",\"percer\",\"Priyanshu\",\"Jitesh\",\"Bzostek\",\"Dionis\",\"Haushalter\",\"Troy\",\"Berenike\",\"Lawera\",\"Sandra\",\"Frazer\",\"Catherine\",\"Geetanjali\",\"Ausman\",\"Folk\",\"Vijay\",\"Dorris\",\"Caroline\",\"Zrebassa\",\"Eva\",\"Sweed\",\"Charles\",\"Christy\",\"Saptadeep\",\"Dashyam\",\"Brian\",\"Preksha\",\"Eugene\",\"Bailliet\",\"Shubham\",\"Kalyca\",\"DeCherney\",\"Crebagga\",\"Barreto\",\"Hilary\",\"Kinney\",\"Geld\",\"Hirsh\",\"Goranitis\",\"Atul\",\"Williams\",\"McCrossin\",\"Ruben\",\"Amol\",\"Delfina\",\"Eudokia\",\"Anubhaw\",\"Soltero\",\"Kshitij\",\"Dryer\",\"Raglin\",\"Stobb\",\"Glocke\",\"Shruti\",\"Alice\",\"Steven\",\"Gilcrest\",\"Subhashree\",\"Bixby\",\"Schoenberger\",\"Karlsson\",\"Adhvaita\",\"Hackney\",\"Chikku\",\"Mohan\",\"Valerie\",\"Aniket\",\"Shubhi\",\"Savely\",\"Sonakshi\",\"Suzanne\",\"Ryan\",\"Sanjay\",\"Harry\",\"Justin\",\"Kriz\",\"Hildebrand\",\"Jayanti\",\"Theresa\",\"Sam\",\"Sandra\",\"Jitesh\",\"Prashant\",\"Daly\",\"Lisha\",\"Manning\",\"Flathmann\",\"Epp\",\"Clark\",\"Priyanka\",\"Hunter\",\"Katharine\",\"Adhvaita\",\"Marley\",\"Patterson\",\"Pisteka\",\"Katrina\",\"Chong\",\"Raymond\",\"Greer\",\"Pooja\",\"Arun\",\"Noopur\",\"Michelle\",\"Weirich\",\"Nicole\",\"Butterfield\",\"Penelope\",\"Sanjna\",\"Kajal\",\"Rohit\",\"Charles\",\"Hazel\",\"Mary\",\"Duane\",\"Barchas\",\"Shishu\",\"Christina\",\"Sandra\",\"Haushalter\",\"Lawera\",\"Stevenson\",\"Tran\",\"Rane\",\"Katharine\",\"Apoorva\",\"Harold\",\"Cindy\",\"Cox\",\"Quincy\",\"Latchford\",\"Turumella\",\"Duane\",\"Weirich\",\"Hazel\",\"Eaton\",\"O'Brill\",\"Parks\",\"Philip\",\"Adrian\",\"Davis\",\"Rose\",\"Conant\",\"Weimer\",\"Prost\",\"Damala\",\"Lela\",\"Ryan\",\"MacIntyre\",\"Sally\",\"Anita\",\"Surabhi\",\"Claire\",\"Shahid\",\"Noel\",\"Herbert\",\"Jane\",\"Shivangi\",\"Denise\",\"Carlisle\",\"Daniels\",\"Karen\",\"Dunbar\",\"Subhashree\",\"Jessica\",\"Saurabh\",\"Burns\",\"Geetanjali\",\"Wooten\",\"Pournamasi\",\"Corinna\",\"Annie\",\"Bhargav\",\"Candace\",\"Ann\",\"Roper\",\"Manish\",\"Luke\",\"Hood\",\"Joel\",\"Poddar\",\"Schneider\",\"Dhirajendu\",\"Cox\",\"Ekta\",\"Claire\",\"Vishakha\",\"Debra\",\"Sanjova\",\"Blume\",\"Daly\",\"Aniket\",\"Hwang\",\"Halladay\",\"Vishakha\",\"Brosina\",\"Noah\",\"Meghana\",\"Wooten\",\"Komal\",\"Mugdha\",\"Sudevi\",\"Harsh\",\"Vandana\",\"Hood\",\"Wardle\",\"Hood\",\"Ed\",\"Nguyen\",\"Bensley\",\"Vittorini\",\"Pawlan\",\"Radford\",\"Philip\",\"Payne\",\"Hamilton\",\"Molinari\",\"Tran\",\"Riya\",\"Ankur\",\"McGarr\",\"Vivian\",\"McFarland\",\"Manisha\",\"Roberts\",\"Brooks\",\"Marie\",\"Trupti\",\"Arthur\",\"Overfelt\",\"Vishakha\",\"Mautz\",\"Daksh\",\"Adam\",\"Lopez\",\"Aromal\",\"Turnell\",\"Meghana\",\"Phonely\",\"Mills\",\"Airdo\",\"Frazer\",\"Matt\",\"Leslie\",\"Amol\",\"Dartt\",\"Jesslyn\",\"Sample\",\"Kriz\",\"George\",\"Donatelli\",\"Shishu\",\"Reiten\",\"Brennan\",\"Carmichael\",\"Lloyd\",\"Creighton\",\"Bertelson\",\"Boland\",\"Gordon\",\"Vishakha\",\"Patricia\",\"Eva\",\"Klamczynski\",\"Mansi\",\"Aniket\",\"Monton\",\"Hazel\",\"Barroso\",\"Yedwab\",\"Deggeller\",\"Manish\",\"Suman\",\"Engle\",\"Andy\",\"Swetlana\",\"Hamilton\",\"Maribeth\",\"Erica\",\"Larry\",\"Dhanraj\",\"Messe\",\"Wasserman\",\"Fox\",\"Kiran\",\"Harshita\",\"Gardner\",\"Abhimanyu\",\"Sanjova\",\"Govind\",\"Kshitij\",\"Shyam\",\"Palak\",\"Dionis\",\"Christensen\",\"Annie\",\"Kiran\",\"Syed\",\"Elpida\",\"Sajal\",\"Mousam\",\"Collins\",\"Akash\",\"Latchford\",\"Eva\",\"Shreyshi\",\"Fuller\",\"Shishu\",\"Piyam\",\"Kristina\",\"Lynn\",\"Delaney\",\"Rishabh\",\"Pearl\",\"Deggeller\",\"Perrino\",\"Hirasaki\",\"Mrinal\",\"Anurag\",\"Talbott\",\"Anne\",\"Boyes\",\"Chong\",\"Nockton\",\"Phillina\",\"Vivek\",\"Sarita\",\"Dianna\",\"Cooley\",\"Thomas\",\"Harms\",\"Fox\",\"Visinsky\",\"Dario\",\"Edelman\",\"Boeckenhauer\",\"Braun\",\"Charlotte\",\"Mukund\",\"Dryer\",\"Mukund\",\"Mick\",\"Doherty\",\"Harivansh\",\"Arti\",\"Shishu\",\"Demir\",\"Braxton\",\"Bobby\",\"Barchas\",\"Kishwar\",\"Arpita\",\"Kastensmidt\",\"Balk\",\"Hunt\",\"Aparajita\",\"DeVincentis\",\"Herrera\",\"Akshat\",\"Vishakha\",\"Brad\",\"Sanjit\",\"Geld\",\"Phelps\",\"Marc\",\"Crestani\",\"Bobby\",\"Adams\",\"Denise\",\"Aparajita\",\"Sukrith\",\"Parin\",\"Shifley\",\"Ashmeet\",\"Ashmeet\",\"Aaron\",\"Nockton\",\"Byrd\",\"Garverick\",\"Chikku\",\"Fritzler\",\"Mills\",\"Beeghly\",\"Chandni\",\"Dipali\",\"Sanskriti\",\"Tran\",\"Zypern\",\"Dorothy\",\"Epp\",\"Phalguni\",\"Shui\",\"Shubham\",\"Akancha\",\"Meghana\",\"Anna\",\"Avila\",\"Janet\",\"Vasudev\",\"Boyes\",\"Elliston\",\"Bowman\",\"Sahil\",\"Nicole\",\"Girase\",\"Bradley\",\"Uudhav\",\"Catini\",\"Gunjan\",\"Crier\",\"Tim\",\"Workman\",\"Dunbar\",\"Manjiri\",\"Aimee\",\"McCrossin\",\"Derr\",\"Elliston\",\"Lindsay\",\"Brooke\",\"Harivansh\",\"Mitchum\",\"Dennis\",\"Scot\",\"Champaklata\",\"Marley\",\"Trevino\",\"Badders\",\"Aastha\",\"Diwakar\",\"Moren\",\"Minnotte\",\"Bailliet\",\"Hastings\",\"Natalie\",\"Demir\",\"Eleni\",\"Hitesh\",\"Ellison\",\"Emily\",\"Snehal\",\"Bhavna\",\"Monu\",\"Art\",\"Sheri\",\"Kamberova\",\"Ankit\",\"Chikku\",\"Yash\",\"Anderson\",\"Lloyd\",\"Bolton\",\"George\",\"Surbhi\",\"Grace\",\"Riya\",\"Anne\",\"Dowd\",\"Duhita\",\"Huffman\",\"Amlan\",\"Matthew\",\"Sibella\",\"Harshita\",\"Triggs\",\"Anchal\",\"Parna\",\"MacIntyre\",\"Ameesha\",\"Abhijit\",\"Currie\",\"Abhijit\",\"Harton\",\"Prashant\",\"Thompson\",\"Norvell\",\"Tillman\",\"Anmol\",\"Cyra\",\"Richard\",\"Sharelle\",\"Liston\",\"Tate\",\"Poirier\",\"Williamson\",\"Folk\",\"Shreyshi\",\"Clasen\",\"Degenhardt\",\"Charlotte\",\"Alex\",\"Hitesh\",\"Rutuja\",\"Dhanraj\",\"Vishakha\",\"Rutuja\",\"Akshata\",\"Marc\",\"Katharine\",\"Swati\",\"Chris\",\"Bhosale\",\"Pratiksha\",\"Tran\",\"MacKendrick\",\"Hughes\",\"Helen\",\"Dan\",\"Turumella\",\"Dryer\",\"Tonja\",\"Goldenen\",\"Hazard\",\"Scott\",\"Greg\",\"Gross\",\"Anemone\",\"Chirag\",\"Ankit\",\"Phonely\",\"Gilcrest\",\"Moore\",\"Roberts\",\"Akshat\",\"Avish\",\"Anthony\",\"Becky\",\"Rittenbach\",\"Sudevi\",\"Fein\",\"Brown\",\"Weirich\",\"Shubham\",\"Denise\",\"Pratiksha\",\"Blacks\",\"Epp\",\"Fein\",\"Norvell\",\"Bertelson\",\"Staavos\",\"Mary\",\"Jill\",\"Crouse\",\"Shubham\",\"Sonal\",\"Aaron\",\"Ginny\",\"Lela\",\"DeCherney\",\"Bhargav\",\"Wendt\",\"Blumstein\",\"Blackwell\",\"Frazer\",\"Akshat\",\"Sung\",\"Meg\",\"Madhav\",\"Sonal\",\"Avila\",\"Shreyshi\",\"Inderpreet\",\"Haines\",\"Airdo\",\"Akshay\",\"Caudle\",\"Rohan\",\"Ginny\",\"Ginny\",\"Lampkin\",\"Greene\",\"Dunbar\",\"Heidel\",\"Subhashree\",\"Französisch\",\"Nathan\",\"Brown\",\"Vernon\",\"McMath\",\"Zypern\",\"McGuire\",\"Deanra\",\"Krohn\",\"Eichhorn\",\"Goranitis\",\"Packer\",\"Larry\",\"Linda\",\"Cathy\",\"Nripraj\",\"Inderpreet\",\"Odegard\",\"Emily\",\"Samiksha\",\"Bryan\",\"Shreyshi\",\"Arun\",\"Mitchum\",\"Staavos\",\"Tron\",\"Kean\",\"Dominguez\",\"Erin\",\"Taslimi\",\"Maithilee\",\"Kiran\",\"Dominguez\",\"Theone\",\"Mayank\",\"Divyeshkumar\",\"Barchas\",\"Shruti\",\"Trafton\",\"Manju\",\"Clasen\",\"Rittenbach\",\"Rittenbach\",\"Pistole\",\"Dickinson\",\"Carol\",\"Amit\",\"Engle\",\"Mull\",\"Aparajita\",\"Phonely\",\"Poddar\",\"Overfelt\",\"Charlotte\",\"Hitika\",\"Mousam\",\"Prajakta\",\"Barnes\",\"Miller\",\"Trudy\",\"Akshat\",\"Dashyam\",\"Brittain\",\"Uudhav\",\"Trevino\",\"Pournamasi\",\"Carreira\",\"Don\",\"Mathis\",\"Vini\",\"Michelle\",\"Moffitt\",\"Catherine\",\"Moray\",\"Duston\",\"Trafton\",\"Dorris\",\"Medina\",\"Akshata\",\"Gunjan\",\"Parishi\",\"Roy\",\"Rose\",\"Sidharth\",\"Sidharth\",\"Elijah\",\"Eno\",\"Jackson\",\"Staebel\",\"Boland\",\"Zydlo\",\"Namrata\",\"Christina\",\"VanderZanden\",\"Jaydeep\",\"Anand\",\"Tony\",\"Medina\",\"Chung\",\"Sudheer\",\"Michael\",\"Carol\",\"Carol\",\"Lisha\",\"Brown\",\"Brown\",\"Brown\",\"Madhulika\",\"Arthur\",\"Shivani\",\"Vikash\",\"Odella\",\"Gonzalez\",\"Peterman\",\"Bierner\",\"Carter\",\"Caroline\",\"Parin\",\"Rose\",\"Cortes\",\"Ballard\",\"Jumper\",\"Ionia\",\"Champaklata\",\"Lacy\",\"Prashant\",\"Leatherbury\",\"Shefali\",\"Shefali\",\"Oshin\",\"Liston\",\"Navdeep\",\"Komal\",\"Venier\",\"Crowe\",\"Paul\",\"Utsav\",\"Utsav\",\"Dhirajendu\",\"Tim\",\"Lloyd\",\"Alex\",\"Muhammed\",\"West\",\"O'Connell\",\"Chong\",\"Marc\",\"Divyansha\",\"Maribeth\",\"Mayank\",\"Hemangi\",\"Ocampo\",\"Neola\",\"Thornton\",\"Helen\",\"Tom\",\"Jaydeep\",\"Trudy\",\"Theresa\",\"Pistek\",\"Charles\",\"Willman\",\"Gilcrest\",\"Savi\",\"Penelope\",\"Snel\",\"Snel\",\"Reiten\",\"Bell\",\"Hart\",\"Dickinson\",\"Phillip\",\"Nguyen\",\"Blanton\",\"Brumley\",\"Duston\",\"Minnotte\",\"Haines\",\"VanderZanden\",\"Dilbeck\",\"Mick\",\"Suman\",\"Willingham\",\"Kamberova\",\"Alejandro\",\"Demir\",\"Maya\",\"Hemant\",\"Darrin\",\"Jane\",\"Workman\",\"Phillip\",\"Sweta\",\"Nora\",\"Atul\",\"Anemone\",\"Irving\",\"Corey-Lock\",\"Saloni\",\"Norris\",\"Clay\",\"Vittorini\",\"Sukruta\",\"Lomonaco\",\"Mhatre\",\"Cano\",\"Allen\",\"Schild\",\"Jones\",\"Apoorv\",\"Bailliet\",\"Hitesh\",\"Manibalan\",\"Gilcrest\",\"Saptadeep\",\"Preksha\",\"Hackney\",\"Powers\",\"Lisa\",\"Christine\",\"Dipali\",\"Jaideep\",\"Jaideep\",\"Shahid\",\"Klamczynski\",\"Yaanvi\",\"Eason\",\"Anthony\",\"Chance\",\"Cacioppo\",\"Nathan\",\"Amruta\",\"Nancy\",\"Wale\",\"Cooley\",\"Parna\",\"George\",\"Corinna\",\"Atharv\",\"Vishakha\",\"Chayanika\",\"McNair\",\"Manjiri\",\"Herman\",\"Dipali\",\"Barton\",\"Lebron\",\"Deggeller\",\"Catlett\",\"Rachna\",\"Swati\",\"Charika\",\"Bell\",\"Luke\",\"Epp\",\"Dunbar\",\"Nicole\",\"Dahlen\",\"Nirja\",\"Mahima\",\"Rob\",\"Nitant\",\"Nitant\",\"Castell\",\"Aromal\",\"Eileen\",\"Jackson\",\"Ken\",\"Roach\",\"Jacobs\",\"Trupti\",\"Stuart\",\"Utsav\",\"Gary\",\"Perrino\",\"Lampkin\",\"Lucas\",\"Company\",\"Divsha\",\"Sanjay\",\"Crebassa\",\"Damala\",\"Hilary\",\"William\",\"Suzanne\",\"Steele\",\"Pardue\",\"Stewart\",\"Aleksandra\",\"Staavos\",\"Pearl\",\"Deepak\",\"Kaydos\",\"Redmond\",\"Deepak\",\"Vivek\",\"Phonely\",\"Huthwaite\",\"Noopur\",\"Gjertsen\",\"Blumstein\",\"Shourya\",\"Fritzler\",\"Sonal\",\"Manjiri\",\"Crowe\",\"Corinna\",\"Saphhira\",\"Zewe\",\"Gonzalez\",\"Reichenbach\",\"Wilson\",\"Melanie\",\"Cacioppo\",\"Swetha\",\"Daly\",\"Dodson\",\"Jack\",\"Barchas\",\"Manibalan\",\"liebe\",\"Edelman\",\"Amlan\",\"Bailliet\",\"Barnes\",\"Sweed\",\"Tom\",\"liebe\",\"Hilary\",\"Goldwyn\",\"Martinez\",\"Kushal\",\"Kunitz\",\"Devendra\",\"Parhena\",\"Morse\",\"Ajay\",\"Claire\",\"Debra\",\"Jesus\",\"Sharda\",\"Goldenen\",\"Emily\",\"Howell\",\"Philip\",\"Baird\",\"Dryer\",\"Denny\",\"Taslimi\",\"LaWare\",\"Greer\",\"Karl\",\"McGuire\",\"Sonal\",\"Russell\",\"Omkar\",\"Omkar\",\"Wilson\",\"Schild\",\"Schild\",\"McFarland\",\"Shaily\",\"Bill\",\"Cacioppo\",\"Angele\",\"Hirasaki\",\"Deggeller\",\"Dean\",\"Gastineau\",\"Airdo\",\"Hughsby\",\"Nripraj\",\"Pamela\",\"Siddharth\",\"Sanskriti\",\"Brittain\",\"Braden\",\"Charika\",\"Tom\",\"Michelle\",\"Bowman\",\"Moore\",\"Yaanvi\",\"Huffman\",\"Nona\",\"Larry\",\"Dowd\",\"Fox\",\"Parth\",\"Atul\",\"Harrigan\",\"Chandni\",\"Andy\",\"Nishant\",\"Subhasmita\",\"Neoma\",\"Paromita\",\"Sample\",\"Murry\",\"Boeckenhauer\",\"Randy\",\"Bierner\",\"Paige\",\"Krutika\",\"Badders\",\"Kartikay\",\"Cacioppo\",\"Brumfield\",\"Odegard\",\"Kishwar\",\"Arianne\",\"Armold\",\"DeMoss\",\"Phelps\",\"Dona\",\"Christina\",\"Noonan\",\"Karandeep\",\"Anne\",\"Anthony\",\"Reiter\",\"Bixby\",\"Harshita\",\"Brown\",\"Nidhi\",\"Patil\",\"Lawera\",\"Brendan\",\"Fuller\",\"Avila\",\"Vicky\",\"Anchal\",\"Campbell\",\"Neil\",\"Jesslyn\",\"Breyer\",\"Charika\",\"Aditya\",\"Frazer\",\"Carroll\",\"Ober\",\"Daniel\",\"Armstrong\",\"Manjiri\",\"Applegate\",\"Hughes\",\"Angele\",\"Charika\",\"Aniket\",\"Dorothy\",\"Jitesh\",\"Nona\",\"Gillingham\",\"Sudevi\",\"Swapnil\",\"Cohen\",\"Blume\",\"Zypern\",\"Shruti\",\"Paige\",\"Naresj\",\"Grace\",\"Elpida\",\"Shivangi\",\"Overfelt\",\"Bavinger\",\"Kipp\",\"Herrera\",\"Murry\",\"Elpida\",\"Madan Mohan\",\"Melton\",\"Rane\",\"Prost\",\"Frazer\",\"Donovan\",\"Vernon\",\"Dodson\",\"Parna\",\"Ward\",\"Kirti\",\"DeVincentis\",\"Rachna\",\"Myrick\",\"Demir\",\"Matthew\",\"Sung\",\"Shishu\",\"Martinez\",\"Budd\",\"Zrebassa\",\"Ritter\",\"Dashyam\",\"O'Connel\",\"Anthony\",\"Anthony\",\"Gastineau\",\"Gonzalez\",\"Schwartz\",\"Latchford\",\"Arianne\",\"Karl\",\"Victor\",\"Hazel\",\"Mick\",\"Adhvaita\",\"Ulpright\",\"Suzanne\",\"Julie\",\"O'Donnell\",\"Geetanjali\",\"Tanja\",\"Geetanjali\",\"Troy\",\"Sandeep\",\"Rittenbach\",\"Sonakshi\",\"Thurman\",\"Eugene\",\"Sahil\",\"Mitchum\",\"Brandow\",\"Kotsonis\",\"Patt\",\"Benoit\",\"Corinna\",\"Tran\",\"Neola\",\"Elijah\",\"Michelle\",\"Boyes\",\"O'Connell\",\"Monu\",\"Eplett\",\"Sharelle\",\"Hwang\",\"Nandita\",\"Herman\",\"Georgia\",\"Prajakta\",\"Victor\",\"Krutika\",\"Parakh\",\"Arun\",\"Yogesh\",\"Rittenbach\",\"Hawkins\",\"Hawkins\",\"Damala\",\"Burns\",\"Ritu\",\"Kamberova\",\"Amy\",\"Pranjali\",\"Wiediger\",\"Swati\",\"Boeckenhauer\",\"Matthias\",\"Harshita\",\"Kalyca\",\"Shivam\",\"Raglin\",\"Black\",\"Stephanie\",\"Kinney\",\"Swati\",\"Shahid\",\"Gopal\",\"Anubhaw\",\"Cyra\",\"Cyra\",\"Gardner\",\"Castell\",\"Derr\",\"Adhvaita\",\"Bailliet\",\"Shyam\",\"Van\",\"Vipul\",\"O'Brian\",\"Jayanti\",\"Haushalter\",\"Andreada\",\"Dario\",\"Amy\",\"Andreada\",\"Pawlan\",\"Anderson\",\"Ameesha\",\"William\",\"Karlsson\",\"Weimer\",\"Sink\",\"Chayanika\",\"Uudhav\",\"Stevenson\",\"Gross\",\"Kishwar\",\"Raymond\",\"Liz\",\"Anderson\",\"Fox\",\"Beth\",\"Cunningham\",\"Vivek\",\"Harms\",\"Harms\",\"DeVincentis\",\"Kishwar\",\"Rachna\",\"Goldenen\",\"Nockton\",\"Monisha\",\"Kelty\",\"Roy\",\"Akshat\",\"Jesal\",\"Trafton\",\"Divyeta\",\"Maureen\",\"Arindam\",\"Andreadi\",\"Phonely\",\"Carter\",\"Gunjal\",\"Vaibhav\",\"Magdelene\",\"Bickford\",\"Henry\",\"Anderson\",\"Ruben\",\"Giulietta\",\"Shivanshu\",\"Nandita\",\"Neola\",\"Clasen\",\"Clasen\",\"Arianne\",\"Shaun\",\"Amol\",\"Waldorf\",\"Sink\",\"Fein\",\"Gerbode\",\"Bryan\",\"Grove\",\"Shatayu\",\"Sonakshi\",\"Turumella\",\"Dortch\",\"Howell\",\"Oshin\",\"Aryan\",\"McCrossin\",\"Shivam\",\"Bolton\",\"Hoffmann\",\"Rutuja\",\"Henry\",\"Toch\",\"Soumyabrata\",\"Irving\",\"Kartik\",\"Sonia\",\"Alyssa\",\"Sanjit\",\"Ober\",\"Shreyshi\",\"Edelman\",\"Budd\",\"Bhaggyasree\",\"Hwang\",\"Sanjova\",\"Katherine\",\"Byrd\",\"Thompson\",\"Murray\",\"Hood\",\"Cunningham\",\"Prescott\",\"Grant\",\"Cyma\",\"Sauptik\",\"Ryan\",\"Phan\",\"Selesnick\",\"Crebassa\",\"Prashant\",\"Ashmi\",\"Meg\",\"Rosenblatt\",\"Ricardo\",\"Mick\",\"Sheri\",\"Buch\",\"Kritika\",\"Rahul\",\"Geetanjali\",\"Chandni\",\"Andrew\",\"Khloe\",\"Aromal\",\"Craven\",\"Darrin\",\"Luke\",\"Sandeep\",\"Calhoun\",\"Hightower\",\"Neola\",\"Abhishek\",\"Marley\",\"Sudevi\",\"Matthias\",\"Hildebrand\",\"Sheetal\",\"Sheetal\",\"Bertelson\",\"Manning\",\"Reichenbach\",\"Oshin\",\"Noonan\",\"Brumley\"],\"legendgroup\":\"\",\"marker\":{\"color\":\"#636efa\",\"symbol\":\"circle\"},\"mode\":\"markers\",\"name\":\"\",\"showlegend\":false,\"x\":[28,35,35,16,28,28,25,35,26,34,20,20,26,24,29,54,54,19,46,30,53,83,33,40,25,54,39,20,32,36,35,55,27,20,32,72,25,35,30,16,40,35,45,28,32,32,53,43,29,47,35,22,34,33,36,52,18,39,34,33,21,38,28,37,20,23,34,49,38,30,25,19,42,38,21,35,24,52,53,37,28,50,40,35,45,35,18,22,43,48,28,31,23,44,34,46,43,21,54,34,44,29,38,55,26,46,38,47,35,31,26,41,42,49,44,31,31,27,32,66,28,52,19,45,53,36,41,22,30,46,47,29,28,53,53,15,40,35,33,40,52,27,45,48,38,33,47,40,47,44,46,50,49,29,53,42,51,26,30,33,34,26,46,36,26,50,32,38,41,43,40,26,36,50,32,47,51,36,42,32,48,32,41,54,33,30,29,27,51,43,31,72,39,31,42,40,26,27,39,25,55,29,50,30,31,34,33,30,29,49,34,42,38,26,28,40,54,47,19,41,41,24,23,25,29,34,29,26,83,55,37,34,29,23,51,39,41,20,52,53,48,31,55,40,45,26,52,27,35,27,42,28,28,35,28,35,48,28,26,21,19,20,25,39,52,20,52,34,47,77,41,24,27,27,28,87,79,27,35,20,26,36,71,47,44,32,40,47,31,49,34,51,88,28,29,41,30,35,30,21,52,44,41,45,40,32,35,31,33,37,37,45,22,32,34,53,47,58,43,88,28,30,41,19,47,33,38,22,41,31,45,50,43,72,82,43,41,36,87,34,32,62,24,29,36,44,26,33,33,20,92,55,52,26,22,35,40,41,36,45,36,40,26,47,24,29,50,51,34,16,51,26,29,52,36,39,33,33,24,26,30,49,30,29,38,33,33,34,26,52,44,72,32,27,38,30,55,36,37,34,25,39,38,37,21,12,63,31,43,28,35,12,53,41,34,21,43,42,34,32,51,45,21,46,31,17,20,27,32,18,28,23,30,16,13,53,34,31,25,28,40,13,25,29,29,21,18,55,67,26,45,26,39,26,32,27,44,34,31,27,21,54,32,18,55,55,28,51,31,36,45,30,43,34,29,32,27,38,39,28,29,19,28,38,49,43,31,43,24,45,22,20,29,30,38,39,18,30,41,23,31,23,50,23,52,35,52,28,28,24,23,29,29,43,23,36,23,34,20,19,42,71,49,52,19,41,29,30,39,50,16,31,18,67,54,21,35,32,31,34,47,28,26,53,43,35,27,35,18,48,31,26,20,53,27,32,33,32,27,28,28,25,29,34,47,41,26,49,90,56,26,29,33,34,23,43,51,48,19,63,26,37,19,20,36,43,52,22,21,20,26,44,26,32,33,47,47,26,25,32,92,28,23,38,31,35,42,30,19,32,29,44,52,18,29,34,26,30,22,38,44,35,27,19,32,34,16,32,46,31,45,19,50,54,32,43,43,26,39,24,29,23,29,41,37,41,52,53,41,25,34,19,30,37,29,90,30,32,33,67,33,22,28,26,36,37,29,29,26,36,31,25,51,44,33,19,38,30,20,75,44,48,27,19,31,19,25,21,52,82,30,20,24,28,42,35,22,38,31,35,35,35,39,25,27,34,20,50,46,43,34,44,13,39,18,27,32,31,54,49,30,24,25,35,24,71,49,46,37,42,32,32,26,12,15,15,32,40,20,31,35,23,33,20,30,22,35,38,49,52,53,49,19,81,32,28,39,53,37,55,29,26,38,34,21,33,34,26,21,43,32,28,28,17,22,21,66,17,35,43,23,26,53,52,32,21,37,38,44,33,31,24,51,34,43,20,64,21,27,47,20,32,31,13,45,36,34,49,35,36,28,50,32,23,30,41,31,49,28,38,25,13,52,35,47,29,30,30,29,41,20,23,45,26,44,38,35,40,25,28,24,51,28,18,30,28,50,50,19,30,23,73,31,27,51,23,46,31,28,33,20,33,34,35,24,27,26,35,55,30,44,29,40,26,30,29,30,33,53,39,49,29,33,31,47,22,40,23,28,23,35,24,51,54,47,28,22,18,20,21,19,45,84,28,14,47,45,43,16,19,41,35,28,40,31,28,31,50,52,34,76,36,26,35,23,26,46,20,39,39,27,42,40,46,21,52,23,32,66,39,53,21,18,33,38,36,47,48,53,34,34,53,40,30,30,34,30,46,20,29,24,34,35,43,32,29,28,27,21,34,30,38,27,30,30,31,31,48,28,48,19,39,34,53,51,82,27,53,25,45,19,35,27,18,31,26,21,31,24,35,31,30,32,30,33,30,44,36,24,28,36,35,21,37,51,55,55,39,36,31,35,27,33,34,39,32,50,54,30,27,67,41,38,37,49,29,42,55,29,29,47,30,50,55,47,33,42,48,26,47,35,52,27,41,26,35,33,40,27,44,49,41,42,55,28,16,48,42,43,35,86,45,45,54,32,50,29,28,31,31,27,33,52,21,33,33,40,52,44,46,30,20,39,29,92,31,40,54,33,87,36,49,46,89,31,29,22,55,39,49,31,36,23,41,52,32,26,68,33,20,55,35,29,48,48,32,28,23,26,19,45,23,44,38,46,28,33,37,49,44,26,43,43,28,34,33,47,37,54,41,50,32,43,34,27,87,26,40,50,16,35,18,52,44,26,23,41,31,61,45,47,91,26,39,53,27,42,35,35,31,20,36,31,47,34,52,22,33,15,28,45,47,44,39,43,44,49,48,35,35,18,47,77,20,29,28,37,47,34,26,43,47,42,32,47,48,29,53,85,32,27,35,19,21,38,30,47,46,51,26,32,32,41,54,24,44,31,41,25,42,53,53,35,39,30,30,48,30,28,42,39,23,51,42,31,40,33,43,36,41,39,31,27,31,48,29,24,39,48,27,32,45,47,30,28,31,37,48,44,50,38,25,29,38,31,48,54,28,42,33,22,76,26,54,33,37,33,35,52,27,32,45,49,26,37,55,53,31,27,45,34,30,44,44,68,30,31,42,52,29,54,39,35,26,33,28,45,47,36,31,44,14,51,45,26,38,26,46,41,40,27,33,21,38,45,81,38,31,37,35,54,28,29,51,30,49,30,21,51,35,42,42,46,28,35,35,43,43,49,33,25,40,52,27,37,51,40,26,26,27,52,48,53,27,45,30,32,43,32,50,43,55,47,29,29,46,41,42,29,33,44,46,64,42,30,26,32,41,45,20,22,52,34,33,34,31,20,39,31,48,38,34,42,40,35,34,46,41,28,20,35,42,37,44,46,43,28,39,34,46,28,29,53,53,36,50,43,38,27,35,45,27,35,30,38,35,54,29,42,30,35,29,54,29,26,28,28,21,19,39,44,48,54,75,82,29,30,42,29,48,34,14,26,30,28,41,28,53,31,26,55,31,52,18,46,58,50,35,35,32,30,32,28,55,30,36,41,30,23,36,39,35,26,22,51,20,30,44,50,53,41,46,27,30,28,37,34,34,31,51,27,35,33,35,35,34,43,35,25,33,28,55,31,42,25,26,37,42,26,12,55,13,70,62,31,44,26,31,40,49,44,48,20,38,35,35,33,34,30,46,31,27,32,55,32,24,45,28,22,44,41,34,55,40,48,29,30,15,29,26,29,23,41,35,21,19,20,23,22,36,34,28,18,36,18,33,32,36,23,37,22,34,54,39,31,18,47,29,81,90,15,34,38,29,23,41,40,41,25,39,42,40,24,45,39,33,30,50,26,23,27,22,51,21,30,23,29,52,23,31,42,39,43,34,26,48,24,26,47,27,44,19,39,22,12,21,31,23,30,36,24,44,45,23,38,31,31,39,28,42,33,39,15,26,23,35,31,21,31,32,31,50,77,21,53,39,35,32,29,37,53,32,45,31,87,38,21,40,27,44,48,47,35,18,50,32,23,28,24,25,48,39,41,36,41,30,42,28,36,51,35,41,47,31,23,23,36,36,30,39,91,22,51,40,29,25,25,35,27,41,56,30,32,51,29,52,43,19,45,34,32,33,27,32,30,35,25,45,18,33,48,31,53,40,24,18,31,20,35,38,44,21,34,12,30,25,37,37,21,43,45,29,44,47,37,31,24,29,40,21,38,53,41,19,44,14,22,31,30,26,50,26,25,35,34,33,30,27,29,27,80,16,26,18,54,35,48,25,21,47,30,29,34,33,33,32,45,40,17,46,76,45,51,33,51,30,27,31,30,24,31,27,28,15,39,53,19,44,16,65,17,53,38,27,28,30,42,25,51,38,33,41,35,63,42,15,24,44,21,22,34,22,46,37,29,51,28,40,32,46,27,53,26,28,55,73,21,33,29,37,26,33,22,50,19,25,31,28,52,29,45,46,23,27,18,35,12,37,31,61,52,32,23,35,33,28,25,30,30,31,53,46,27,54,30,32,23,17,33,35,44,35,46,33,26,29,35,38,22,21,28,43,26,40,47,43,20,28,33,30,22,55,33,24,21,23,31,28,50,67,18,33,29,18,56,26,13,18,18,31,55,49,44,75,26,29,30,24,19,35,46,35,35,35,47,20,33,29,23,37,74,30,39,51,33,46,44,79,25,39,28,40,36,48,50,47,26,32,32,28,32,37,18,27,28,20,33,40,54,37,31,20,52,20,89,63,17,40,44,37,44,33,32,37,20,39,30,32,45,69,27,54,26,19,28,49,33,43,21,22,35,41,33,33,63,32,14,18,21,47,31,20,30,35,33,20,26,41,26,21,18,20,40,19,29,38,46,44,79,29,20,26,41,33,20,28,30,54,41,22,42,13,38,26,23,33,36,45,33,39,25,33,30,27,32,32,29,38,18,40,55,26,47,29,15,41,39,52,26,38,34,41,40,30,27,33,86,28,39,35,21,34,31,45,35,29,51,46,18,13,30,33,33,48,46,32,34,54,33,40,29,19,26,29,55,21,18,26,32,33,35,22,39,30,28,21,22,53,35,28,33,41,35,40,29,49,45,18,26,49,20,75,29,32,29,33,31,35,55,48,38,52,24,20,26,44,21,24,19,21,29,26,24,22,26,32,30,24,54,54,33,20,39,31,19,28,38,30,18,33,29,47,26,15,27,29,24,29,20,44,37,26,42,31,45,25,49,50,25,29,24,24,40,36,23,44,52,44,35,35,29,36,18,20,33,34,29,44,21,19,31,51,31,55,49,32,45,28,50,14,18,20,35,39,32,19,45,36,30,19,33,85,34,42,35,43,32,34,27,29,26,19,50,38,28,39,20,33,36,30,21,32,29,31,20,35,38,53,31,34,33,25,26,27,25,29,27,37,48,48,26,30,31,25,54,26,46,44,28,40,22,43,51,70,20,43,78,35,30,64,34,24,44,55,20,48,27,47,21,24,29,30,28,66,33,39,13,24,34,53,35,24,27,72,22,37,51,38,33,79,28,21,49,51,46,20,33,40,33,48,39,28,43,27,20,28,34,30,34,32,32,45,29,50,32,55,27,32,48,33,40,27,24,25,31,29,38,21,28,16,39,29,18,47,32,26,80,53,40,23,61,41,26,38,36,27,31,39,32,85,40,20,44,28,31,82,36,26,26,39,30,28,51,12,44,34,25,17,45,16,45,32,24,44,34,44,54,23,32,34,20,31,44,51,21,27,38,31,40,21,45,39,30,34,28,55,48,17,55,54,14,45,50,33,29,45,38,18,45,35,25,21,41,34,46,35,44,42,35,37,48,47,33,41,34,23,27,16,35,45,48,20,47,24,55,23,39,29,32,28,18,31,30,33,37,31,49,36,23,19,19,34,40,26,27,27,27,30,50,29,22,31,43,28,30,15,30,30,37,53,38,82,25,28,16,31,35,18,54,30,33,22,33,88,32,27,53,80,30,39,76,35,20,34,53,30,77,19,40,40,55,25,28,45,41,40,90,35,44,21,34,27,55,18,74,41,23,23,29,30,36,33,54,55,44,26,35,45,31,39,46,50,32,49,19,25,39,52,22,28,17,27,28,28,27,27,40,29,33,37,50,22,19,16,33,41,78,26,28,41,32,32,26,41,40,45,26,28,21,53,52,37,28,31,41,49,28,21,32,35,50,51,28,48,27,29,87,23,30,28,35,28,31,31,30,52,92,28,44,32,20,26,35,54,32,37,35,45,38,23,46,40,24,29,24,33,31,35,26,26,19,38,31,51,36,38,28,37,29,25,39,22,42,37,18,35,39,24,69,47,38,26,35,33,44,55,46,25,26,25,40,26,35,47,41,39,33,45,36,40,33,30,44,27,52,54,53,69,37,26,26,51,50,28,30,19,43,44,44,63,48,42,38,32,29,50,26,32,15,30,22,30,23,35,27,34,28,43,43,19,43,37,55,26,25,34,28,34,20,29,27,30,34,22,34,30,53,41,38,54,26,41,35,20,17,38,38,32,55,33,25,25,49,41,26,30,28,13,44,25,34,34,32,38,39,27,44,79,14,19,13,20,43,37,50,30,40,26,20,29,26,29,26,41,55,44,42,29,32,48,50,36,29,49,27,28,39,34,44,46,22,30,40,49,49,52,36,32,47,34,37,27,54,35,61,26,39,48,39,27,47,27,37,74,42,38,27,29,37,29,68,41,31,32,33,44,53,42,45,43,49,42,50,49,26,37,35,49,52,29,54,27,18,46,64,32,28,19,26,26,52,19,35,39,44,55,43,33,29,92,16,33,27,31,47,29,27,74,50,28,44,43,20,55,32,39,28,36,19,51,26,37,26,43,50,41,30,29,37,50,46,38,34,37,40,30,30,27,39,37,41,33,33,72,41,81,63,26,27,26,33,51,27,33,38,29,30,64,31,38,52,52,30,34,28,20,30,49,34,49,32,69,33,19,27,53,40,75,51,26,24,88,50,32,36,27,38,57,39,31,53,27,27,35,41,40,42,83,34,51,51,32,48,41,35,48,48,54,44,27,16,40,19,35,33,52,27,31,26,44,18,43,28,41,53,18,38,50,30,30,44,17,53,65,55,13,30,61,41,39,31,30,26,15,28,34,25,52,15,48,53,27,46,28,34,15,20,18,22,32,39,43,39,43,50,33,35,21,34,19,25,50,33,15,34,26,31,48,43,35,30,31,30,18,35,41,90,30,32,38,22,84,49,33,51,34,50,50,33,37,39,31,31,23,32,34,27,19,25,46,31,38,44,21,34,47,30,18,47,26,29,44,86,35,53,34,46,23,28,48,32,18,13,43,34,54,20,50,29,33,50,31,34,27,33,28,47,55,12,70,29,14,33,42,48,27,37,26,45,29,51,51,20,31,26,46,23,46,63,38,46,23,75,34,35,28,23,46,19,41,32,61,29,19,45,15,30,28,36,28,32,41,39,40,21,78,25,89,49,32,29,83,32,34,39,30,36,21,31,30,42,30,67,27,20,25,26,28,53,42,43,31,88,25,45,54,34,50,23,15,33,30,45,25,33,26,42,27,34,50,64,61,41,53,24,40,34,34,34,38,53,31,25,34,21,21,18,21,34,28,36,34,49,43,23,12,18,64,32,18,28,35,36,18,21,24,53,26,31,33,38,18,42,38,21,25,21,36,34,20,51,29,41,18,19,20,38,26,20,42,22,44,29,29,44,23,54,51,15,18,20,33,43,27,28,19,45,34,27,44,15,54,58,21,28,49,37,49,54,40,37,32,33,76,35,19,30,34,32,23,35,55,27,24,37,30,32,28,30,25,38,30,32,20,23,58,36,41,48,36,50,51,28,44,35,50,49,23,27,31,39,31,61,41,35,30,28,26,34,35,25,53,45,27,22,29,46,31,26,24,30,23,33,46,24,51,30,39,19,28,27,21,42,32,26,46,49,18,37,54,27,42,34,32,54,48,33,52,54,33,45,39,34,28,27,21,39,45,42,85,29,33,38,48,44,26,17,64,52,52,12,18,51,17,43,32,24,30,26,31,44,27,50,22,36,26,26,25,27,23,34,26,29,54,32,28,38,28,30,46,32,28,50,18,28,23,36,45,30,33,20,29,23,26,15,40,18,42,48,42,46,25,30,33,48,22,18,27,20,38,27,56,35,55,22,19,31,30,31,32,32,13,23,30,24,38,64,33,42,38,30,38,36,89,23,31,49,45,39,31,27,35,47,22,26,46,23,26,32,29,23,40,54,31,20,18,21,28,36,19,28,18,27,54,12,46,47,20,24,21,17,33,23,33,29,28,35,30,49,24,20,37,33,22,35,30,32,30,20,50,46,80,40,32,51,13,60,19,24,35,35,49,44,35,39,31,35,41,44,27,28,28,55,44,44,32,49,47,24,27,28,29,36,55,43,32,32,28,55,31,28,34,32,31,45,30,14,30,34,32,32,34,42,38,41,14,22,33,35,29,34,31,34,19,29,27,22,52,32,25,47,20,19,34,65,31,52,34,26,50,39,18,19,49,46,23,38,32,24,30,50,48,35,49,48,68,16,52,29,43,33,34,26,42,56,45,32,30,50,51,45,12,49,31,34,38,41,35,27,52,24,28,41,52,34,19,32,27,36,65,36,35,35,28,21,29,43,55,22,35,26,54,35,23,55,30,54,35,28,31,34,25,35,39,27,26,32,22,28,31,43,47,31,18,20,38,28,54,38,43,22,48,27,42,32,23,20,28,20,26,43,28,48,32,30,57,33,22,45,22,34,39,53,30,48,18,29,19,25,40,35,23,37,35,44,34,26,26,26,18,29,20,38,22,27,30,30,41,41,28,41,33,29,31,25,32,44,52,51,26,26,19,34,47,55,82,80,41,20,28,23,42,54,55,34,22,40,43,25,37,21,50,46,18,37,33,50,24,32,28,33,56,19,29,44,18,19,26,32,47,88,25,21,35,40,22,26,38,44,19,26,40,26,29,30,33,43,52,43,20,39,54,32,42,41,27,12,32,23,18,29,38,51,24,33,35,44,27,33,32,54,33,51,45,43,32,26,37,28,37,46,32,50,42,43,20,25,20,28,38,53,44,35,31,46,20,37,43,48,19,47,27,20,33,33,32,29,27,44,41,31,44,45,23,29,47,18,39,48,28,48,18,44,46,48,20,18,34,34,25,64,29,14,20,19,20,30,33,33,33,46,36,51,45,25,16,30,26,31,19,30,35,48,41,48,45,45,44,34,44,25,64,46,53,44,42,54,26,30,26,46,27,29,17,20,26,47,53,26,32,29,51,49,33,34,30,70,45,43,27,51,50,31,47,21,30,47,40,40,33,28,50,27,18,47,12,40,34,38,20,47,24,28,22,50,34,49,84,84,34,37,19,53,33,43,20,47,50,50,19,23,22,24,31,60,31,60,32,32,32,30,32,31,31,26,43,22,37,22,30,46,28,30,45,26,32,27,44,26,20,26,42,39,32,47,22,31,44,47,83,36,32,18,31,18,33,41,24,55,53,31,50,34,50,39,40,37,27,68,28,31,21,22,24,44,18,19,88,36,20,27,32,20,35,30,34,33,13,34,12,31,33,33,26,32,31,18,29,23,34,36,47,18,31,32,32,54,50,54,29,29,37,36,54,41,34,43,43,43,43,47,36,44,24,41,26,52,29,52,26,27,50,20,55,52,20,54,54,29,49,32,30,23,31,26,33,22,26,33,32,24,29,45,30,35,30,14,36,46,25,26,33,33,35,32,40,28,22,28,18,24,29,33,76,48,54,32,27,43,44,55,44,35,37,28,51,31,22,20,28,39,41,31,59,90,54,48,27,19,36,45,16,35,44,27,37,40,36,35,19,35,16,45,29,27,16,27,38,33,47,34,21,20,42,45,45,35,48,23,18,33,38,39,30,55,53,54,39,32,36,34,36,38,34,65,33,34,28,25,45,24,29,85,24,52,28,20,26,43,18,52,55,26,36,21,43,42,27,43,48,25,21,27,34,39,54,34,21,26,52,54,24,19,25,37,39,26,34,32,29,18,18,36,84,32,27,23,53,43,54,54,47,29,22,15,47,66,31,42,39,29,37,37,41,29,33,31,45,56,25,36,45,32,53,36,36,25,46,21,38,26,40,35,47,34,47,53,34,35,39,52,31,32,29,32,32,26,55,34,34,37,12,55,55,33,18,19,27,37,48,48,41,34,42,42,32,20,27,31,49,33,32,49,22,32,44,25,38,51,29,39,29,37,27,29,29,34,46,29,34,37,37,41,32,28,44,32,47,45,22,34,38,26,28,55,19,22,41,52,35,23,30,23,30,30,45,33,28,55,60,29,24,35,43,21,32,30,30,36,49,56,33,20,46,28,34,47,45,45,26,34,26,15,28,45,46,34,20,32,45,29,65,35,24,35,35,35,35,31,18,29,27,35,50,50,78,41,30,44,18,26,47,42,49,55,51,31,52,27,31,50,47,40,33,43,36,42,26,34,44,19,45,34,24,54,17,13,32,26,43,30,19,18,31,33,33,25,35,51,35,37,28,33,28,48,49,38,29,29,34,48,28,42,18,85,54,49,34,40,24,27,12,51,46,21,37,21,35,34,30,23,36,55,32,25,26,24,32,31,32,31,34,34,19,47,13,47,30,44,24,22,44,20,26,30,29,26,28,31,26,32,27,77,27,31,46,27,52,49,29,33,31,30,26,31,34,89,40,45,30,27,18,42,46,13,41,36,41,34,35,32,29,46,35,52,42,44,64,17,36,39,34,19,49,32,35,29,29,41,37,29,30,20,35,45,21,42,48,45,30,18,20,22,12,24,31,31,35,24,46,23,23,35,49,46,27,86,34,31,28,27,36,49,19,31,29,44,35,31,52,65,37,45,38,30,55,21,49,22,21,37,59,19,29,35,38,39,21,26,54,62,49,34,16,28,22,33,30,33,20,28,29,29,34,27,29,46,24,76,55,37,31,27,12,28,26,30,32,28,65,52,32,50,39,48,27,39,76,27,29,51,37,52,22,24,26,25,43,23,29,52,52,41,20,29,27,29,37,41,29,35,32,54,44,34,21,55,18,40,24,24,37,32,35,26,26,26,54,20,38,29,29,43,30,39,44,31,18,27,20,33,34,54,24,23,35,51,26,47,31,55,45,51,43,35,34,29,41,15,31,89,48,56,33,28,31,24,35,22,26,30,25,36,40,87,40,28,31,40,47,49,24,36,26,36,19,20,86,25,27,28,24,39,25,31,35,37,22,46,35,26,30,26,31,46,46,55,22,34,51,25,35,51,45,51,30,14,26,26,22,22,36,33,51,44,23,45,38,29,28,48,47,19,54,45,35,22,45,27,34,28,34,47,54,38,50,32,32,32,29,28,19,19,47,48,29,29,24,26,27,48,23,27,34,14,38,18,18,20,35,55,20,47,26,29,33,19,79,52,34,47,48,53,35,31,20,48,22,32,32,46,18,18,50,30,26,42,43,28,44,21,31,45,34,20,33,49,20,32,69,39,32,32,32,25,33,22,33,55,40,42,24,53,19,35,44,32,29,43,32,44,30,33,54,20,37,26,26,26,50,45,26,31,46,32,42,26,39,52,50,44,27,33,19,23,27,43,18,26,30,28,50,22,27,35,38,43,28,42,16,27,18,34,39,25,33,20,22,43,51,24,27,47,41,39,39,33,31,20,55,32,41,33,27,29,23,49,52,39,45,35,25,36,29,40,49,35,26,31,51,34,12,52,35,32,41,51,35,41,47,32,22,21,52,45,38,34,24,64,37,53,12,51,25,26,15,34,26,21,31,23,26,18,27,31,44,27,43,43,64,32,22,26,30,36,30,19,30,51,50,50,40,23,19,39,54,37,53,38,47,21,50,31,32,33,22,21,30,44,44,55,29,35,31,32,35,26,34,30,31,29,21,31,31,19,15,57,50,25,32,51,55,29,71,30,20,39,30,32,50,37,37,30,26,44,32,24,31,41,27,52,53,41,26,32,21,21,28,22,25,48,35,29,29,46,21,26,79,25,34,66,19,26,29,54,46,37,23,39,26,51,30,29,55,35,29,44,51,28,39,26,23,31,37,38,35,41,43,33,13,30,20,38,32,38,34,30,26,33,46,51,23,26,34,34,32,30,48,24,45,55,33,53,40,37,33,37,29,33,44,35,27,27,20,25,36,43,41,35,37,87,19,29,53,29,25,26,38,25,43,36,30,26,47,22,27,68,25,26,43,26,28,53,34,38,30,28,34,31,31,52,76,39,25,28,20,53,33,49,33,30,46,29,35,42,28,28,26,53,54,39,31,19,28,29,26,29,32,49,29,32,48,13,28,28,79,27,31,31,36,85,27,29,25,44,29,42,16,30,35,33,25,29,34,37,45,45,28,61,26,33,27,30,30,25,86,26,40,28,40,63,45,36,26,54,43,35,51,50,31,19,32,21,55,32,48,18,20,23,18,38,49,22,42,19,28,42,22,21,28,29,21,21,32,47,30,21,34,44,49,32,20,54,45,32,53,34,30,58,28,34,47,45,26,27,45,32,55,30,42,38,30,34,24,23,22,22,30,32,46,48,52,81,32,41,73,37,48,41,31,38,47,43,47,25,52,18,30,38,32,33,31,15,28,27,47,41,52,41,40,29,26,32,28,35,27,26,38,31,44,23,25,21,17,21,26,42,31,42,24,33,34,33,16,30,38,21,50,22,48,51,43,47,51,29,47,17,35,13,31,46,35,23,13,23,19,32,27,42,30,34,45,21,39,22,28,23,55,36,55,23,29,49,53,12,15,26,35,39,39,34,33,14,28,47,26,39,30,19,16,16,38,54,24,54,36,30,37,22,50,37,49,45,27,40,39,23,21,39,31,32,26,42,46,46,33,18,19,28,19,33,48,42,32,31,36,24,24,47,26,46,34,44,25,15,31,41,21,48,28,50,50,50,39,87,51,20,33,33,35,30,50,29,28,28,54,35,32,53,23,25,32,22,44,44,43,34,69,54,50,19,35,25,43,43,43,51,51,29,34,31,31,42,23,48,27,43,39,35,26,35,48,48,44,44,36,50,29,50,33,49,33,51,34,34,42,52,42,78,23,74,18,20,20,34,30,34,16,27,48,21,47,44,50,45,33,38,30,33,43,35,47,54,28,87,19,45,33,87,45,26,46,27,25,33,46,30,38,27,33,44,26,30,44,29,32,27,47,32,12,31,47,51,43,43,89,31,35,48,39,44,31,22,35,28,24,13,37,51,18,51,19,30,40,45,45,22,31,33,34,43,24,18,26,30,30,36,40,53,32,16,51,35,50,34,33,64,28,36,33,25,36,25,34,29,26,83,33,42,19,41,31,40,45,60,23,71,50,21,46,54,25,34,37,36,29,22,41,24,45,33,27,47,30,34,39,50,54,88,52,27,45,55,31,31,49,26,34,51,31,37,31,34,43,24,53,53,28,47,43,47,53,53,49,28,46,28,26,28,41,27,41,19,52,53,28,28,53,22,46,24,30,50,42,26,37,37,40,37,29,28,49,36,66,37,37,50,66,26,19,28,28,32,32,53,19,30,19,55,25,39,53,39,21,26,22,34,22,45,22,30,30,30,34,19,43,18,28,42,23,46,18,25,45,38,34,34,28,42,52,35,52,27,19,28,30,70,35,30,23,31,27,19,19,49,52,48,19,21,21,32,28,16,33,53,55,34,28,28,26,43,30,38,30,18,37,23,25,49,30,25,30,42,31,27,29,27,88,27,24,42,26,37,16,27,33,22,22,37,48,62,32,42,29,29,85,47,52,19,21,35,30,30,12,16,24,39,26,36,46,54,55,42,43,51,13,42,38,55,30,38,29,46,32,34,27,42,34,48,21,45,16,32,45,17,17,18,29,54,21,37,51,17,20,55,47,42,39,41,42,47,29,29,30,26,27,42,23,30,33,31,16,34,41,55,23,34,23,31,43,27,46,20,53,18,32,26,32,21,45,26,33,41,26,37,37,31,38,53,84,18,28,47,29,34,28,28,34,33,55,52,27,26,14,47,21,53,28,45,30,23,40,53,28,27,51,39,37,37,50,33,29,32,47,22,30,42,26,30,69,27,27,40,54,50,73,21,30,31,37,43,89,12,31,37,37,52,26,33,30,28,49,30,49,34,41,26,30,49,12,19,49,20,54,27,34,20,20,52,26,35,53,24,36,35,36,53,21,48,35,26,20,40,28,35,58,51,30,45,54,31,33,26,44,54,23,24,22,53,26,27,58,29,23,64,30,26,28,53,32,32,36,40,78,39,33,50,37,34,44,32,39,31,49,60,18,18,39,37,44,22,40,30,36,23,34,40,41,24,49,30,29,23,23,22,34,34,54,27,23,35,40,32,34,52,31,52,31,20,54,35,55,43,43,24,18,21,26,27,35,27,32,31,21,26,33,42,30,26,30,34,20,54,36,49,39,51,34,46,19,26,38,34,34,50,34,37,26,35,31,21,26,23,50,51,37,31,33,76,27,22,23,28,28,22,45,86,32,24,28,32,28,26,40,27,30,33,53,27,35,13,30,28,49,19,27,31,50,33,30,45,33,30,35,29,34,26,55,41,30,24,39,41,22,24,45,41,31,51,30,36,50,26,26,35,20,31,36,47,20,22,44,20,26,34,43,55,20,31,37,51,31,42,41,17,34,54,32,55,66,25,55,38,41,33,48,20,48,53,24,21,28,32,49,48,16,37,35,40,46,36,26,23,18,30,68,29,29,24,23,30,31,28,40,47,31,51,31,32,30,33,16,28,28,31,46,49,69,31,36,25,32,35,31,53,50,48,12,55,45,45,55,48,34,29,20,59,26,35,45,30,51,32,43,24,43,42,43,19,31,16,34,24,26,41,34,23,46,55,31,43,15,43,31,45,39,26,30,37,43,51,34,34,34,20,20,32,27,38,38,26,34,34,28,28,46,54,30,45,26,26,29,46,36,31,29,53,45,34,35,25,19,45,25,19,43,29,55,43,44,34,49,31,44,22,34,29,29,39,19,12,50,29,27,50,27,26,30,25,55,30,30,33,32,22,30,46,29,18,42,28,44,76,46,20,24,51,31,34,16,27,29,31,22,21,16,27,29,45,34,34,49,48,45,28,38,36,46,24,17,51,22,91,31,35,24,23,38,30,22,38,32,29,28,32,33,23,24,50,16,57,25,20,31,39,24,18,43,22,25,26,19,22,35,36,37,16,22,45,55,27,33,21,25,52,41,38,16,23,30,27,40,30,38,13,24,45,52,35,32,25,45,51,46,28,21,30,29,32,76,32,46,42,31,27,29,45,55,28,77,50,48,54,19,37,54,45,28,30,39,32,27,38,50,26,33,48,30,53,46,38,31,28,29,48,29,38,25,23,26,54,29,31,32,50,31,26,35,29,35,42,45,42,50,34,14,45,55,22,22,41,46,41,46,17,36,48,28,51,12,18,36,20,31,19,49,22,47,23,19,42,64,30,49,19,13,39,23,37,21,55,24,35,40,21,49,34,50,30,21,38,51,27,36,26,48,19,29,35,34,31,31,22,34,31,43,49,55,24,54,46,20,32,30,33,47,45,30,31,50,43,30,40,24,22,44,27,34,19,44,44,21,29,20,27,30,49,41,32,77,54,18,47,18,19,24,34,13,26,19,37,39,87,44,27,30,31,53,48,15,24,35,16,40,32,20,25,23,20,53,32,29,28,22,22,29,37,20,43,44,28,43,51,30,32,20,35,39,47,51,40,53,40,50,29,35,41,32,22,39,36,34,33,61,69,27,40,53,32,54,37,50,45,20,40,26,45,18,26,34,40,31,90,24,46,30,41,39,50,34,18,31,38,45,34,41,30,26,46,24,34,32,49,40,86,32,42,54,27,45,47,75,29,23,20,29,24,38,27,24,29,24,21,29,31,36,30,22,32,34,46,26,35,58,44,30,33,39,38,20,32,56,49,13,34,28,37,48,29,32,20,22,29,50,28,26,21,30,35,36,12,24,25,25,38,36,46,16,29,35,41,46,63,29,31,46,44,29,34,51,45,25,48,35,35,42,23,45,46,35,29,58,49,19,19,39,31,16,32,22,25,38,26,29,34,29,31,85,43,26,31,50,23,30,34,43,37,23,29,32,27,28,34,27,19,43,32,46,32,27,39,31,31,26,39,43,26,34,27,27,44,23,30,29,55,34,44,55,33,48,49,45,51,33,39,35,18,67,34,59,50,44,26,30,33,16,24,65,24,32,45,27,32,12,29,33,30,20,27,42,13,23,29,32,46,41,31,26,28,48,43,30,48,41,43,27,27,44,90,33,54,33,30,21,40,40,41,38,74,35,52,54,46,50,19,25,27,47,32,46,18,15,34,27,30,40,21,55,25,33,40,17,30,32,28,52,31,20,68,36,39,35,29,36,27,24,31,32,17,26,35,21,57,33,23,52,55,54,44,45,30,42,22,52,18,27,41,45,33,35,45,28,34,19,33,26,19,33,29,28,25,27,39,22,35,19,31,28,32,40,53,22,43,42,71,51,40,30,52,33,44,47,32,31,42,19,32,52,31,30,24,31,35,30,45,40,51,26,39,37,39,83,38,48,36,18,45,20,44,30,32,32,35,41,18,25,31,24,28,49,38,53,33,28,22,30,45,34,40,26,28,50,18,39,18,46,31,31,28,31,29,22,28,46,26,37,52,24,32,55,31,34,17,51,22,33,26,32,41,27,26,28,49,31,42,36,20,27,14,22,29,40,36,26,47,31,26,30,49,38,28,76,14,33,33,36,27,37,39,25,40,42,50,41,24,48,50,31,35,46,48,30,27,33,35,21,26,45,23,18,29,34,23,43,28,87,29,38,51,30,30,45,22,86,51,43,34,22,52,29,20,40,30,31,53,27,31,26,50,22,49,50,14,22,50,29,26,47,34,26,35,44,29,41,29,33,34,27,49,53,20,53,39,35,27,43,18,41,18,63,54,30,25,38,35,29,40,25,46,14,23,40,26,64,32,34,54,21,36,26,40,30,33,51,27,24,29,37,49,35,41,16,33,19,24,40,19,55,34,31,30,45,51,17,27,23,31,48,34,33,36,30,39,46,42,80,19,29,42,30,28,38,46,17,28,30,25,29,48,29,28,50,35,37,31,52,25,26,28,40,19,35,27,23,27,28,42,42,60,32,45,22,44,21,39,54,35,51,34,46,31,35,32,34,22,24,35,28,15,32,33,34,45,34,50,38,37,33,30,45,42,36,35,53,87,43,26,29,50,15,34,48,48,31,29,28,50,14,39,38,45,15,18,29,49,19,28,31,53,27,27,20,35,47,33,47,45,18,28,30,32,38,26,74,50,40,26,31,43,44,34,52,34,35,20,20,32,22,37,73,34,29,25,52,44,37,33,53,28,41,36,50,35,21,18,75,38,53,63,55,38,38,41,32,27,13,33,31,28,23,19,21,23,43,35,32,88,25,35,44,23,44,23,54,34,26,21,35,24,30,34,55,34,19,32,36,30,36,38,28,32,33,35,35,19,52,54,28,43,48,39,31,44,47,70,41,13,35,53,30,38,49,45,91,32,34,32,19,19,41,36,30,37,36,42,22,32,35,30,12,12,24,24,54,28,44,39,35,40,54,55,23,30,24,24,21,22,67,67,29,23,39,53,43,21,55,55,28,37,81,19,19,23,22,33,21,36,33,33,31,34,26,26,41,32,19,44,21,35,21,32,33,42,46,52,34,22,29,22,35,40,30,40,44,21,68,25,50,68,32,19,49,38,48,34,55,38,26,64,24,33,54,54,33,39,54,32,34,34,23,23,23,18,40,48,52,21,54,48,17,31,42,17,28,36,48,48,26,25,45,49,45,23,31,31,40,41,40,52,35,22,38,28,28,26,35,32,46,26,28,48,30,35,34,36,18,33,36,41,31,24,49,49,27,31,33,50,22,22,46,41,23,53,49,29,49,30,45,51,42,55,51,28,27,23,39,29,18,29,25,40,39,26,31,31,26,26,27,43,33,19,40,30,71,66,31,34,37,19,28,28,55,21,23,29,35,12,27,32,18,29,33,32,21,24,26,26,44,29,36,37,53,26,25,30,73,48,48,30,23,30,40,42,33,33,46,27,26,35,38,29,18,20,48,18,35,32,32,45,19,21,22,26,27,37,45,34,51,33,30,85,31,22,33,48,14,40,18,41,33,46,15,38,15,28,28,34,34,22,63,49,49,33,25,41,30,75,40,32,31,44,39,47,36,22,19,19,26,27,38,36,38,30,37,24,24,49,54,42,54,19,84,27,89,29,89,17,17,41,50,41,15,41,22,50,50,49,49,32,43,33,52,44,29,29,23,43,43,38,13,40,51,47,21,39,21,33,26,42,26,26,37,39,36,34,13,40,21,22,18,24,30,91,23,31,22,44,68,46,50,41,18,61,41,41,41,76,44,76,34,29,30,29,38,29,35,31,27,54,50,40,48,82,57,24,36,24,54,24,54,29,26,55,31,34,23,45,30,45,30,32,45,28,23,18,40,40,20,37,30,35,34,49,20,35,21,33,28,50,43,33,25,37,52,52,28,46,52,53,52,23,22,27,20,35,33,27,42,34,35,21,22,48,25,24,18,37,49,31,40,27,31,20,19,20,42,26,28,34,46,46,25,31,26,41,26,41,26,35,26,40,53,36,43,21,33,44,18,47,48,33,33,22,19,27,55,33,55,55,42,34,20,19,27,33,34,34,26,21,28,67,43,86,47,54,34,47,20,36,36,40,30,41,34,34,25,35,28,33,21,14,21,24,22,33,26,23,32,52,33,29,43,35,68,53,83,27,25,19,22,33,31,23,42,47,39,19,30,20,31,31,30,18,35,30,35,13,28,55,26,32,47,33,23,52,30,26,37,29,41,35,54,26,39,26,30,34,39,30,32,36,32,32,28,30,31,48,28,33,30,30,41,33,27,38,40,18,29,47,47,36,30,32,20,20,39,55,17,28,28,28,32,29,26,30,47,46,55,28,36,36,31,37,45,33,30,32,35,29,29,36,49,30,32,50,35,55,30,36,19,27,48,23,31,45,49,40,55,27,42,54,20,25,35,27,25,21,27,50,25,42,30,46,27,32,32,27,73,51,28,35,40,25,45,38,29,46,18,89,32,18,26,22,26,19,31,20,32,45,49,51,44,38,25,38,41,54,25,32,30,34,30,39,54,79,30,51,48,54,23,26,15,29,15,21,46,22,33,33,31,34,20,56,45,43,35,45,37,47,38,30,28,31,31,58,27,90,53,25,24,45,36,27,47,59,25,45,23,47,33,49,48,53,24,33,40,33,44,35,43,29,33,33,28,34,30,30,18,20,40,29,47,30,28,29,24,27,27,27,44,28,45,25,36,40,12,37,27,30,30,36,27,47,33,28,22,30,55,24,31,47,31,69,12,34,24,32,48,35,18,38,22,28,74,49,49,44,32,33,44,36,30,47,27,40,12,31,32,22,27,54,35,47,30,36,34,50,55,21,37,52,48,30,24,24,43,36,40,39,75,40,21,27,26,32,46,43,50,19,33,79,28,31,37,31,34,46,40,43,20,29,43,28,32,25,39,25,26,21,40,37,21,41,44,34,44,44,29,42,35,54,29,46,39,54,41,26,45,36,34,35,19,30,13,66,50,31,47,45,41,26,43,34,44,24,36,18,25,30,53,35,51,52,25,55,19,25,43,35,35,43,33,70,40,18,28,36,40,30,31,35,46,33,31,30,22,21,28,28,38,49,49,54,27,47,13,23,31,25,29,23,31,16,45,27,22,34,49,48,21,22,22,45,21,50,24,35,20,28,28,54,23,46,57,25,49,32,36,44,50,19,53,43,18,30,35,35,21,21,30,26,47,40,32,30,45,20,57,30,40,28,28,27,23,35,19,40,38,26,35,29,22,21,33,72,31,38,49,43,12,19,26,29,39,15,49,26,31,36,45,49,30,20,54,32,84,48,55,27,42,49,35,45,35,31,17,19,27,20,23,25,45,29,38,42,30,31,34,25,44,34,27,40,35,18,28,31,24,28,42,30,48,21,33,31,18,34,15,34,52,33,35,42,52,30,37,31,26,25,49,35,27,47,18,40,19,19,29,35,35,27,27,84,54,44,80,28,34,21,44,29,45,20,19,25,27,27,23,29,27,48,44,24,22,37,47,27,69,49,41,42,24,27,33,26,23,53,35,38,26,20,65,39,53,51,73,30,81,21,29,18,24,39,47,27,31,26,44,31,55,25,34,50,20,36,28,47,28,48,46,25,36,21,32,28,21,34,43,34,26,34,24,36,29,29,21,12,21,24,43,33,48,35,31,32,46,38,12,26,25,38,30,27,33,33,40,51,25,25,25,31,31,31,30,31,54,31,45,50,30,38,26,54,25,21,31,31,85,19,39,19,28,54,32,31,32,37,29,35,35,26,26,46,25,30,26,36,24,39,29,20,52,36,21,89,32,35,35,12,30,39,35,28,27,40,52,15,54,54,25,54,23,46,50,36,29,47,47,35,45,32,42,23,52,35,21,41,30,27,45,33,21,35,26,31,30,24,85,46,44,29,29,24,43,37,25,13,37,48,37,53,41,21,71,20,33,53,55,26,34,48,26,43,19,22,48,43,27,49,45,27,47,30,69,39,37,24,31,21,39,54,26,32,45,21,29,28,54,22,35,34,45,31,39,27,50,38,51,31,22,31,21,32,53,40,26,28,48,28,27,18,26,22,49,27,20,41,37,54,22,22,21,51,19,50,27,30,28,29,40,42,30,29,52,22,50,21,54,54,17,29,47,44,27,35,44,23,27,37,25,54,84,31,34,23,24,54,31,29,35,35,29,72,32,14,38,31,26,34,15,34,74,31,40,45,42,30,50,51,41,51,31,33,29,72,50,31,44,53,54,58,26,30,46,31,29,20,35,32,52,35,18,32,59,22,29,29,27,48,33,32,52,35,29,26,30,35,37,50,19,18,26,33,34,50,30,65,19,51,52,40,28,26,28,24,33,29,52,26,61,45,42,18,18,42,49,30,33,12,44,42,35,31,27,32,48,33,26,51,30,19,33,38,33,49,47,32,26,33,25,39,48,20,34,43,27,35,47,22,25,22,44,49,20,49,52,54,31,32,29,38,34,19,55,29,21,25,15,41,34,27,41,29,40,47,46,20,39,43,34,37,28,32,37,39,47,27,45,27,73,21,27,29,21,42,37,26,32,18,22,42,26,45,46,28,31,40,34,31,30,30,16,32,25,50,15,45,50,50,33,32,36,35,44,58,41,38,12,22,19,35,35,29,47,47,45,37,43,28,39,36,55,41,29,50,51,51,27,26,34,42,39,39,56,22,31,43,12,29,46,16,44,16,22,42,87,30,27,32,32,27,27,31,28,19,27,75,30,32,22,28,28,48,61,13,54,63,43,75,26,92,26,28,83,83,39,53,65,27,78,51,27,32,34,20,26,33,55,24,44,23,32,28,29,42,46,30,47,30,27,44,46,30,48,28,27,44,47,30,50,30,29,55,27,32,34,32,38,55,25,21,45,30,51,46,40,45,32,33,35,49,53,31,47,42,51,40,19,40,51,32,25,36,28,52,30,27,55,25,22,12,76,36,28,47,27,46,21,20,20,83,47,32,12,13,26,26,33,33,49,49,55,29,37,30,45,33,75,49,48,54,33,21,25,28,50,13,22,21,91,28,55,29,29,27,21,28,20,28,22,50,28,30,46,29,18,26,50,38,35,30,35,48,51,45,50,27,51,41,32,39,86,27,18,20,50,50,42,33,26,43,39,54,30,30,48,29,31,26,23,33,28,39,39,26,50,20,20,27,29,53,28,20,48,45,28,28,29,30,26,41,34,34,27,26,36,32,41,37,31,31,44,31,50,20,33,47,21,21,27,25,47,26,34,44,34,32,32,28,26,22,34,43,43,40,32,33,35,35,52,42,34,35,39,26,41,39,20,86,26,43,47,23,55,26,27,22,25,37,38,29,44,20,18,50,21,33,22,42,28,35,52,34,35,40,41,24,19,25,26,40,21,28,28,19,20,28,35,53,30,26,47,27,44,49,53,21,49,18,29,36,30,16,21,30,30,34,22,30,19,21,20,30,31,30,22,28,26,29,18,18,44,44,36,36,53,34,18,31,44,47,25,26,41,28,28,28,29,30,30,35,43,27,20,24,33,38,21,22,29,27,22,30,18,27,30,29,54,47,21,34,30,44,28,35,43,32,21,84,13,38,39,34,23,43,35,20,47,22,23,34,41,53,43,27,43,30,32,75,50,27,60,26,52,26,33,39,24,44,38,50,43,53,35,38,22,27,42,27,27,35,25,41,27,43,50,24,43,22,32,50,24,33,46,28,16,31,50,45,47,19,43,26,26,33,30,54,32,34,46,18,33,52,39,31,34,30,34,35,30,28,32,28,13,18,30,41,30,26,44,17,24,41,89,37,29,57,36,28,52,17,32,38,34,29,50,28,54,36,53,52,74,36,54,30,38,35,45,49,42,31,24,35,87,33,39,40,58,23,52,46,26,26,19,36,29,37,42,43,71,28,22,23,22,22,44,39,35,50,15,91,39,47,32,28,27,34,26,41,28,38,29,91,24,53,27,53,38,33,48,33,28,13,28,23,30,30,38,34,42,30,30,21,53,92,31,53,28,26,30,39,29,27,51,32,27,31,33,39,28,77,22,52,51,31,25,35,73,26,49,26,19,33,30,46,35,27,25,26,28,29,29,53,38,19,32,29,28,34,33,27,29,45,21,24,41,47,14,36,34,26,49,52,42,45,29,30,44,38,24,27,66,26,43,41,35,31,30,28,28,28,45,26,28,50,43,52,44,33,29,38,27,22,20,36,23,29,83,31,19,35,24,50,23,25,30,48,30,15,47,46,48,52,52,27,33,30,76,23,39,33,28,32,36,27,33,25,29,71,40,47,48,32,26,26,48,30,30,19,41,47,26,33,21,27,28,32,39,44,78,30,41,41,29,47,33,21,33,29,43,61,28,66,44,22,30,19,30,17,31,40,44,18,23,19,27,30,54,45,24,21,30,39,18,35,31,30,49,29,49,26,22,30,45,26,32,29,34,33,19,40,54,33,15,47,18,24,52,24,22,18,48,22,50,61,24,71,27,28,33,29,31,40,45,29,26,17,38,43,31,32,24,34,43,23,26,38,19,36,25,28,33,16,33,35,48,30,43,32,33,34,29,24,18,27,47,69,23,38,33,38,26,32,45,52,35,16,29,33,35,41,52,32,35,36,34,33,36,33,53,31,28,23,28,34,26,28,29,52,34,27,27,34,23,27,35,26,18,26,37,28,32,21,30,33,30,53,37,33,24,44,40,16,28,31,34,36,27,20,22,19,35,27,46,18,27,14,23,33,25,21,35,33,26,31,33,30,28,41,46,38,19,38,26,30,22,27,19,50,34,28,30,30,26,30,24,32,32,14,44,29,27,29,43,47,24,33,33,52,35,22,27,30,77,42,29,29,38,28,49,25,24,25,31,23,26,52,31,29,16,34,42,19,35,22,23,22,25,44,88,26,28,29,18,28,23,20,19,24,31,34,54,19,39,26,55,26,37,35,22,28,32,22,26,39,28,43,27,49,20,19,30,41,43,28,53,32,47,52,44,31,25,34,33,34,42,28,39,29,23,38,29,34,43,28,50,41,38,39,54,33,31,29,50,52,31,27,46,47,24,43,27,18,27,19,47,33,40,76,34,28,28,29,50,39,91,40,27,39,21,33,49,35,36,52,21,34,52,32,33,53,35,35,22,30,32,15,39,32,52,28,48,30,36,24,18,30,60,25,37,34,30,54,32,55,21,44,38,35,36,13,19,32,35,24,23,16,39,29,23,37,28,33,28,81,21,19,32,39,31,26,32,29,26,16,20,31,22,20,30,26,30,29,34,28,51,15,28,32,27,31,31,36,20,21,30,27,17,33,24,38,48,40,34,29,36,31,20,35,38,24,45,33,30,42,30,27,25,31,21,35,36,27,45,32,50,44,26,43,19,22,41,47,32,49,33,34,21,28,28,26,33,31,35,21,20,30,35,64,34,50,34,25,33,19,29,23,27,35,33,19,35,19,36,30,55,34,26,21,78,28,25,29,49,27,34,33,37,22,24,31,31,37,44,34,38,36,45,31,43,30,53,43,22,32,33,31,33,34,34,31,47,25,25,54,33,43,50,18,21,26,20,50,26,51,24,26,41,19,27,41,45,48,37,30,30,49,34,21,19,17,38,51,29,29,29,18,32,34,14,46,32,20,19,51,48,41,50,26,30,40,29,41,47,18,26,24,52,45,53,27,49,35,35,29,23,40,30,37,48,55,36,26,37,53,21,31,19,38,35,41,55,47,33,36,27,49,50,30,21,32,27,34,18,23,47,32,41,43,50,32,44,48,29,45,19,19,30,36,79,51,33,21,54,37,25,38,52,28,28,29,31,21,29,38,47,28,20,29,30,35,20,47,25,25,25,32,35,24,53,22,33,12,28,27,32,34,26,53,18,18,30,35,41,34,33,14,36,25,25,29,18,35,44,22,42,32,33,42,34,33,44,12,45,20,20,30,28,51,34,36,18,20,24,38,22,31,27,44,54,53,44,18,40,46,53,46,53,30,35,34,54,13,44,50,40,42,30,37,52,27,27,34,49,18,31,69,42,31,26,21,28,27,33,18,27,24,32,44,33,41,40,37,49,33,28,24,30,43,26,32,50,38,35,29,31,31,30,37,27,32,37,38,38,28,40,40,27,23,35,27,32,46,30,21,22,31,45,45,34,42,26,76,19,33,28,35,20,26,49,13,37,33,28,35,49,28,30,30,33,39,17,26,41,90,13,52,90,35,47,26,19,40,27,37,37,31,30,32,53,20,37,50,25,34,19,44,85,29,28,49,31,63,38,87,31,47,55,39,34,42,34,20,35,41,35,27,19,27,18,36,89,41,25,35,30,29,62,28,42,26,45,37,60,37,20,25,45,34,28,84,30,45,30,29,49,31,23,20,27,35,29,23,45,75,50,19,18,50,35,27,46,27,22,23,59,13,45,26,41,32,40,40,20,23,20,42,35,38,41,29,32,42,31,29,46,18,27,50,27,26,18,42,42,35,50,50,26,31,26,32,49,20,32,30,42,31,31,42,35,52,46,42,57,26,36,31,26,30,43,33,43,29,43,43,44,35,38,41,46,32,21,52,25,27,28,32,23,38,69,48,20,33,32,26,26,22,22,34,30,33,39,32,22,29,85,31,12,28,20,28,23,26,30,31,36,30,55,33,40,34,21,43,76,13,34,22,29,27,34,15,35,29,29,28,34,28,36,26,29,34,21,32,30,33,45,89,43,26,44,27,38,44,32,55,25,27,36,48,23,69,34,24,23,29,50,14,18,44,19,29,40,23,23,43,34,44,27,40,40,41,22,28,39,51,21,42,27,28,34,67,18,42,23,43,52,32,50,19,28,27,49,29,27,25,47,64,33,50,47,32,13,21,18,48,50,32,48,30,23,48,20,18,42,54,35,49,80,37,20,27,19,21,39,17,29,28,33,12,33,27,53,53,31,19,33,40,37,19],\"xaxis\":\"x\",\"y\":[23952.0,23934.0,23924.0,23912.0,23877.0,23877.0,23841.0,23809.0,23799.99,23770.0,23752.0,23730.0,23718.0,23664.0,23619.0,23568.0,23568.0,23546.0,23525.0,23518.0,23515.0,23513.0,23462.0,23456.0,23451.0,23434.0,23389.0,23365.0,23326.0,23314.0,23306.0,23302.0,23285.0,23281.0,23270.0,23267.0,23252.0,23247.0,23246.0,23239.0,23201.0,23185.0,23160.0,23154.0,23103.0,23066.0,23053.0,23047.0,21563.0,21547.0,21533.0,21503.0,21495.0,21463.0,21427.0,21423.0,21401.0,21397.0,21388.0,21325.0,21320.0,21317.0,21293.0,21266.0,21259.0,21246.0,21218.0,21178.0,21178.0,21152.0,21079.0,21058.0,21039.0,21013.0,21009.0,20981.0,20967.0,20965.0,20965.0,20963.0,20960.0,20960.0,20959.0,20955.0,20951.5,20950.0,20949.0,20948.0,20945.0,20944.0,20943.0,20938.0,20933.0,20932.0,20930.0,20929.0,20928.0,20925.0,20920.0,20914.0,20914.0,20912.0,20912.0,20908.0,20908.0,20906.0,20900.0,20896.0,20883.0,20875.0,20874.0,20874.0,20873.0,20870.0,20867.0,20865.0,20863.0,20860.0,20855.0,20853.0,20852.0,20850.0,20847.0,20840.0,20837.0,20833.0,20819.0,20816.0,20815.0,20815.0,20812.0,20807.0,20805.45,20796.0,20796.0,20788.0,20783.0,20770.0,20767.0,20767.0,20757.0,20752.0,20752.0,20751.0,20751.0,20745.0,20745.0,20744.0,20739.0,20739.0,20729.0,20714.0,20712.0,20707.0,20705.0,20691.0,20689.0,20688.0,20678.0,20677.0,20677.0,20676.0,20673.0,20669.0,20668.0,20668.0,20666.0,20665.0,20664.0,20661.0,20660.0,20659.0,20659.0,20659.0,20657.0,20654.0,20644.0,20642.0,20641.0,20628.0,20627.0,20623.0,20622.0,20620.0,20619.0,20615.0,20608.0,20608.0,20607.0,20607.0,20606.0,20603.0,20602.0,20600.0,20600.0,20598.0,20598.0,20598.0,20595.99,20594.0,20589.0,20588.0,20588.0,20586.0,20586.0,20581.0,20579.0,20573.0,20572.0,20570.0,20570.0,20569.0,20566.0,20559.0,20558.0,20553.0,20550.0,20549.0,20548.0,20547.0,20546.0,20544.0,20543.0,20540.0,20537.0,20536.0,20536.0,20536.0,20533.0,20529.0,20525.0,20516.0,20515.0,20512.0,20511.0,20509.0,20508.0,20508.0,20508.0,20505.0,20503.0,20502.0,20502.0,20501.0,20500.0,20495.0,20494.0,20493.0,20492.0,20488.0,20486.0,20486.0,20484.0,20483.0,20477.0,20477.0,20476.0,20471.0,20469.0,20468.0,20464.0,20463.0,20457.0,20457.0,20454.0,20450.0,20448.0,20445.0,20442.0,20440.0,20438.0,20433.0,20432.0,20432.0,20429.0,20427.0,20424.0,20423.0,20420.0,20413.0,20410.0,20405.0,20405.0,20403.0,20394.0,20392.0,20387.0,20380.0,20379.0,20375.0,20373.0,20373.0,20364.0,20363.0,20362.0,20361.0,20359.0,20359.0,20358.0,20357.0,20357.0,20348.0,20344.0,20342.0,20338.0,20328.0,20323.0,20322.0,20317.0,20315.0,20315.0,20313.0,20312.0,20312.0,20312.0,20310.0,20309.0,20309.0,20308.0,20304.0,20303.0,20302.0,20301.0,20295.0,20290.0,20288.0,20286.0,20285.0,20285.0,20283.0,20281.0,20280.0,20279.0,20278.0,20278.0,20276.0,20275.0,20269.0,20269.0,20262.0,20260.0,20260.0,20258.0,20258.0,20257.0,20253.0,20252.0,20251.0,20250.0,20246.0,20239.0,20237.0,20236.0,20233.0,20232.0,20230.0,20230.0,20229.0,20227.0,20224.0,20216.0,20212.0,20211.0,20211.0,20210.0,20209.0,20208.0,20207.0,20206.0,20205.0,20204.0,20203.0,20201.0,20201.0,20200.0,20196.0,20194.0,20192.0,20191.0,20191.0,20189.0,20188.0,20187.0,20173.0,20173.0,20169.0,20166.0,20165.0,20162.0,20149.0,20149.0,20141.0,20139.0,20138.0,20131.0,20131.0,20120.0,20111.0,20098.0,20089.0,20079.0,20077.0,20066.0,20064.0,20058.0,20058.0,20056.0,20027.0,20022.0,20014.0,20007.0,19991.0,19990.0,19975.0,19967.0,19952.0,19930.0,19927.0,19927.0,19920.0,19919.0,19911.0,19909.0,19907.0,19904.0,19903.0,19901.0,19895.0,19708.0,19705.0,19704.0,19702.0,19699.0,19696.0,19695.0,19695.0,19690.0,19690.0,19687.0,19686.0,19686.0,19684.0,19684.0,19683.0,19681.0,19681.0,19681.0,19678.0,19677.0,19676.0,19676.0,19674.0,19674.0,19672.0,19671.0,19670.0,19670.0,19669.0,19667.0,19660.0,19659.0,19658.0,19654.0,19652.0,19650.0,19646.0,19644.0,19643.0,19642.0,19641.0,19639.0,19638.0,19637.0,19637.0,19634.0,19630.0,19629.0,19628.0,19628.0,19625.0,19623.0,19620.0,19619.0,19617.0,19617.0,19615.0,19614.0,19613.0,19609.0,19608.0,19604.0,19603.0,19603.0,19602.0,19600.0,19599.0,19596.0,19595.0,19591.0,19589.0,19587.0,19586.0,19586.0,19586.0,19585.0,19583.0,19583.0,19582.0,19580.0,19580.0,19578.0,19577.0,19577.0,19575.0,19575.0,19575.0,19574.0,19574.0,19573.0,19573.0,19572.0,19571.0,19568.0,19568.0,19567.0,19567.0,19566.5,19566.0,19565.0,19564.0,19561.0,19560.0,19557.0,19557.0,19556.0,19555.0,19555.0,19554.0,19554.0,19552.0,19551.0,19548.0,19547.0,19545.0,19536.0,19533.0,19532.0,19531.0,19531.0,19527.0,19524.0,19522.0,19522.0,19520.0,19520.0,19518.0,19516.0,19516.0,19516.0,19515.0,19515.0,19513.0,19512.0,19510.0,19508.0,19507.0,19507.0,19506.0,19505.0,19499.0,19499.0,19497.0,19495.0,19493.0,19490.0,19490.0,19490.0,19489.0,19488.0,19487.0,19486.0,19484.0,19484.0,19483.0,19477.0,19477.0,19477.0,19474.0,19474.0,19472.0,19472.0,19469.0,19467.0,19466.0,19466.0,19465.0,19465.0,19462.0,19459.0,19457.0,19457.0,19456.0,19455.0,19454.0,19454.0,19451.0,19450.0,19449.0,19448.0,19446.0,19445.0,19445.0,19444.0,19443.0,19441.0,19438.0,19437.0,19437.0,19436.0,19434.0,19434.0,19433.0,19432.0,19431.0,19431.0,19426.0,19425.0,19424.0,19423.0,19419.0,19416.0,19415.0,19414.0,19413.0,19412.0,19410.0,19408.0,19406.0,19404.0,19402.0,19401.0,19401.0,19400.0,19399.0,19399.0,19395.0,19395.0,19394.0,19392.0,19391.0,19386.0,19385.0,19383.0,19381.0,19380.0,19380.0,19380.0,19379.0,19378.0,19376.0,19375.0,19369.0,19368.0,19368.0,19367.0,19367.0,19363.0,19363.0,19361.0,19356.0,19356.0,19355.0,19353.0,19351.0,19350.0,19349.0,19346.0,19346.0,19345.0,19344.0,19342.0,19342.0,19339.0,19337.0,19336.0,19334.0,19334.0,19333.0,19328.0,19328.0,19327.0,19326.0,19326.0,19326.0,19325.0,19325.0,19325.0,19323.0,19320.0,19320.0,19320.0,19319.0,19319.0,19318.0,19316.0,19316.0,19314.0,19312.0,19311.0,19311.0,19310.0,19310.0,19308.0,19307.0,19306.0,19303.0,19301.0,19301.0,19300.0,19300.0,19300.0,19297.0,19295.0,19295.0,19293.0,19293.0,19293.0,19292.0,19292.0,19291.0,19289.0,19285.0,19284.0,19284.0,19283.0,19282.0,19282.0,19280.0,19280.0,19280.0,19278.0,19273.0,19268.0,19268.0,19267.0,19263.0,19261.0,19259.0,19259.0,19258.0,19255.0,19255.0,19254.0,19253.0,19252.0,19251.0,19251.0,19251.0,19250.0,19249.0,19247.0,19245.0,19243.0,19241.0,19241.0,19238.0,19237.0,19235.0,19235.0,19232.0,19230.0,19229.0,19229.0,19228.0,19221.0,19221.0,19220.0,19216.0,19216.0,19215.0,19214.0,19214.0,19213.0,19211.0,19211.0,19210.0,19209.0,19208.0,19204.0,19204.0,19203.0,19202.0,19198.0,19195.0,19193.0,19187.0,19186.0,19183.0,19182.0,19179.0,19175.0,19175.0,19171.0,19169.0,19166.0,19164.0,19163.0,19160.0,19159.0,19155.0,19155.0,19147.0,19145.0,19143.0,19141.0,19141.0,19139.0,19138.0,19137.0,19136.0,19135.0,19133.0,19131.0,19130.0,19129.0,19126.0,19126.0,19125.0,19122.0,19122.0,19119.0,19119.0,19119.0,19116.0,19116.0,19115.0,19115.0,19114.0,19113.0,19112.0,19111.0,19110.0,19110.0,19109.0,19108.0,19106.0,19105.0,19101.0,19099.0,19096.0,19096.0,19095.0,19093.0,19092.0,19092.0,19090.0,19089.0,19088.0,19085.0,19084.0,19081.0,19081.0,19076.0,19073.0,19073.0,19072.0,19072.0,19070.0,19069.0,19069.0,19067.0,19067.0,19067.0,19067.0,19065.0,19064.0,19059.0,19059.0,19056.0,19054.0,19054.0,19054.0,19053.0,19052.0,19051.0,19050.0,19049.0,19048.0,19048.0,19048.0,19046.0,19045.0,19045.0,19045.0,19045.0,19044.0,19041.0,19039.0,19038.0,19037.0,19036.0,19034.0,19034.0,19034.0,19033.0,19032.0,19031.0,19030.0,19029.0,19027.0,19024.0,19024.0,19023.0,19022.0,19021.0,19020.0,19019.0,19015.0,19014.0,19014.0,19014.0,19014.0,19011.0,19010.0,19007.0,19007.0,19004.0,19002.0,19002.0,19000.0,18997.0,18996.0,18996.0,18995.0,18992.0,18989.0,18987.0,18985.0,18984.0,18983.0,18980.0,18975.0,18974.0,18971.0,18970.0,18968.0,18964.0,18964.0,18963.0,18961.0,18960.0,18959.0,18959.0,18959.0,18957.0,18956.0,18953.0,18953.0,18952.0,18952.0,18891.0,18858.0,18856.0,18851.0,18832.0,18828.0,18801.0,18798.0,18789.0,18782.0,18780.0,18770.0,18688.0,18685.0,18679.0,18665.0,18614.0,18612.0,18609.0,18608.0,18592.0,18583.0,18580.0,18573.0,18568.0,18559.0,18536.0,18516.0,18465.0,18413.0,18311.0,18269.0,17415.0,17333.0,17321.0,17300.0,17262.0,17204.0,17175.0,17175.0,17175.0,17143.0,17130.0,17107.0,17097.0,17093.0,17058.0,17052.0,17036.0,17002.0,16995.0,16980.0,16954.0,16947.0,16938.0,16937.0,16937.0,16935.0,16933.0,16933.0,16928.0,16927.0,16927.0,16922.0,16921.0,16920.0,16920.0,16920.0,16919.0,16918.0,16917.0,16915.0,16911.0,16907.0,16906.0,16904.0,16903.0,16902.0,16902.0,16901.0,16900.0,16897.0,16896.0,16896.0,16895.0,16894.0,16892.0,16891.0,16891.0,16887.0,16887.0,16887.0,16883.0,16878.0,16870.0,16867.0,16865.0,16865.0,16863.0,16862.0,16862.0,16861.0,16861.0,16860.0,16859.0,16856.0,16855.0,16854.0,16854.0,16851.0,16843.0,16842.0,16842.0,16842.0,16837.0,16837.0,16836.0,16835.0,16835.0,16834.0,16832.0,16832.0,16829.0,16828.0,16827.0,16822.0,16818.0,16818.0,16818.0,16817.0,16813.0,16812.0,16811.0,16807.0,16805.0,16804.0,16799.0,16799.0,16797.0,16795.0,16794.0,16794.0,16792.0,16792.0,16790.0,16789.0,16788.0,16787.0,16787.0,16785.0,16785.0,16784.0,16783.0,16781.0,16778.0,16776.0,16776.0,16776.0,16775.0,16774.0,16773.0,16772.0,16767.0,16766.0,16766.0,16766.0,16765.0,16761.0,16760.0,16760.0,16758.0,16753.0,16751.0,16749.0,16747.0,16745.0,16732.0,16732.0,16732.0,16727.0,16726.0,16724.0,16724.0,16721.0,16720.0,16719.0,16717.0,16716.0,16716.0,16716.0,16715.0,16715.0,16713.0,16711.0,16710.0,16709.0,16707.0,16706.0,16706.0,16705.0,16704.0,16701.0,16701.0,16698.0,16693.0,16692.0,16692.0,16691.0,16687.0,16685.0,16685.0,16685.0,16684.0,16681.0,16681.0,16681.0,16674.0,16673.0,16672.0,16671.0,16671.0,16669.0,16669.0,16665.0,16664.0,16664.0,16664.0,16663.0,16662.0,16658.0,16655.0,16655.0,16654.0,16651.0,16649.0,16649.0,16649.0,16643.0,16643.0,16643.0,16637.0,16636.0,16636.0,16634.0,16633.0,16631.0,16630.0,16627.0,16626.0,16624.0,16623.0,16622.0,16620.0,16620.0,16618.0,16616.0,16614.0,16614.0,16614.0,16613.0,16613.0,16612.0,16610.0,16610.0,16608.0,16606.0,16604.0,16599.0,16599.0,16598.0,16597.0,16596.0,16595.0,16595.0,16593.0,16592.0,16588.0,16588.0,16587.0,16585.0,16581.0,16581.0,16579.0,16578.0,16578.0,16577.0,16576.0,16574.0,16573.0,16569.0,16568.0,16568.0,16567.0,16566.0,16565.0,16564.0,16563.0,16562.0,16561.0,16560.0,16560.0,16553.0,16552.0,16552.0,16551.0,16550.0,16550.0,16549.0,16548.0,16548.0,16548.0,16544.0,16540.0,16539.0,16537.0,16534.0,16533.0,16532.0,16530.0,16527.0,16527.0,16525.0,16524.0,16522.0,16520.0,16518.0,16518.0,16518.0,16517.0,16516.0,16512.0,16512.0,16511.0,16510.0,16510.0,16509.0,16509.0,16506.0,16501.0,16499.0,16496.0,16494.0,16491.0,16490.0,16490.0,16489.0,16488.0,16486.0,16484.0,16484.0,16484.0,16480.0,16479.0,16478.0,16475.0,16475.0,16475.0,16475.0,16475.0,16472.0,16472.0,16471.0,16471.0,16469.0,16466.0,16461.0,16461.0,16460.0,16460.0,16458.0,16456.0,16456.0,16453.0,16452.0,16451.0,16451.0,16450.0,16449.0,16447.0,16444.0,16444.0,16444.0,16443.0,16443.0,16441.0,16438.0,16435.0,16435.0,16427.0,16426.0,16425.0,16423.0,16422.0,16419.0,16418.0,16418.0,16416.0,16416.0,16415.0,16413.0,16412.0,16409.0,16409.0,16408.0,16407.0,16407.0,16405.0,16404.0,16403.0,16401.0,16398.0,16397.0,16396.0,16396.0,16395.0,16393.0,16392.0,16391.0,16390.0,16390.0,16390.0,16386.0,16386.0,16385.0,16385.0,16384.0,16382.0,16382.0,16380.0,16380.0,16379.0,16378.0,16377.0,16377.0,16376.0,16376.0,16375.0,16375.0,16375.0,16372.0,16369.0,16367.0,16366.0,16365.0,16364.0,16363.0,16362.0,16360.0,16359.0,16357.0,16357.0,16355.0,16354.0,16354.0,16354.0,16353.0,16353.0,16351.0,16349.0,16349.0,16348.0,16348.0,16346.0,16345.0,16344.0,16343.0,16343.0,16340.0,16337.0,16331.0,16329.0,16325.0,16324.0,16324.0,16321.0,16319.0,16318.0,16317.0,16316.0,16314.0,16311.0,16311.0,16304.0,16303.0,16302.0,16300.0,16298.0,16297.0,16294.0,16292.0,16292.0,16290.0,16289.0,16288.0,16288.0,16287.0,16287.0,16284.0,16283.0,16282.0,16279.0,16278.0,16277.0,16277.0,16276.0,16274.0,16271.0,16271.0,16270.0,16268.0,16268.0,16267.0,16266.0,16264.0,16257.0,16257.0,16255.0,16251.0,16245.0,16245.0,16244.0,16244.0,16242.0,16241.0,16240.0,16239.0,16236.0,16236.0,16230.0,16227.0,16225.0,16224.0,16224.0,16222.0,16221.0,16220.0,16219.0,16219.0,16217.0,16216.0,16216.0,16215.0,16214.0,16213.0,16213.0,16211.0,16209.0,16209.0,16209.0,16208.0,16204.0,16201.0,16200.0,16199.0,16197.0,16195.0,16194.0,16194.0,16190.0,16189.0,16187.0,16185.0,16185.0,16181.0,16181.0,16179.0,16179.0,16178.0,16178.0,16178.0,16176.0,16176.0,16176.0,16175.0,16175.0,16174.0,16170.0,16170.0,16165.0,16165.0,16165.0,16165.0,16163.0,16162.0,16162.0,16159.0,16157.0,16156.0,16156.0,16149.0,16148.0,16148.0,16143.0,16143.0,16143.0,16143.0,16142.0,16142.0,16140.0,16139.0,16138.0,16134.0,16133.0,16133.0,16132.0,16131.0,16125.0,16124.0,16116.0,16107.0,16105.0,16103.0,16103.0,16102.0,16101.0,16096.0,16092.0,16092.0,16081.0,16081.0,16080.0,16078.0,16078.0,16076.0,16061.0,16054.0,16051.0,16042.0,16034.0,16033.0,16032.0,16029.0,16026.0,16010.0,16002.0,15996.0,15996.0,15994.0,15993.0,15992.0,15992.0,15980.0,15966.0,15952.0,15952.0,15951.0,15949.0,15949.0,15945.0,15944.0,15936.0,15934.0,15930.0,15925.0,15924.0,15918.0,15918.0,15918.0,15917.0,15916.0,15916.0,15916.0,15916.0,15915.0,15914.0,15914.0,15914.0,15912.0,15912.0,15911.0,15909.0,15909.0,15907.0,15906.0,15906.0,15905.0,15905.0,15904.0,15903.0,15903.0,15903.0,15902.0,15902.0,15899.0,15898.0,15896.0,15896.0,15894.0,15893.0,15892.0,15892.0,15892.0,15889.0,15889.0,15888.0,15887.0,15886.0,15884.0,15883.0,15883.0,15883.0,15882.0,15882.0,15880.0,15880.0,15877.0,15877.0,15876.0,15876.0,15876.0,15874.0,15874.0,15873.0,15872.0,15871.0,15870.0,15869.0,15868.0,15868.0,15867.0,15866.0,15865.0,15864.0,15863.0,15860.0,15860.0,15859.0,15858.0,15856.0,15853.0,15851.0,15851.0,15850.0,15849.0,15849.0,15848.0,15848.0,15846.0,15845.0,15844.0,15844.0,15843.0,15840.0,15838.0,15836.0,15833.0,15833.0,15833.0,15831.0,15831.0,15830.0,15830.0,15829.0,15829.0,15826.0,15826.0,15826.0,15825.0,15825.0,15824.0,15823.0,15822.0,15820.0,15818.0,15815.0,15812.0,15812.0,15812.0,15810.0,15808.0,15807.0,15806.0,15806.0,15806.0,15803.0,15803.0,15802.0,15801.0,15800.0,15800.0,15799.0,15798.0,15796.0,15796.0,15795.0,15795.0,15795.0,15792.0,15792.0,15792.0,15791.0,15791.0,15790.0,15790.0,15786.0,15784.0,15781.0,15781.0,15780.0,15779.0,15779.0,15778.0,15778.0,15777.0,15776.0,15776.0,15772.0,15771.0,15771.0,15771.0,15770.0,15769.0,15769.0,15768.0,15768.0,15765.0,15765.0,15765.0,15764.0,15764.0,15763.0,15762.0,15759.0,15757.0,15756.0,15756.0,15755.0,15754.0,15754.0,15752.0,15752.0,15750.0,15750.0,15749.0,15749.0,15748.0,15747.0,15745.0,15744.0,15742.0,15742.0,15741.0,15741.0,15739.0,15739.0,15738.0,15737.0,15737.0,15736.0,15734.0,15734.0,15732.0,15732.0,15731.0,15730.0,15729.0,15729.0,15728.0,15728.0,15723.0,15722.0,15721.0,15718.0,15718.0,15717.0,15715.0,15715.0,15714.0,15711.0,15710.0,15708.0,15707.0,15703.0,15703.0,15702.0,15701.0,15699.0,15699.0,15697.0,15697.0,15696.0,15695.0,15694.0,15694.0,15693.0,15691.0,15691.0,15690.0,15690.0,15689.0,15689.0,15689.0,15689.0,15688.0,15682.0,15678.0,15677.0,15676.0,15676.0,15675.0,15675.0,15675.0,15674.0,15672.0,15671.0,15670.0,15669.0,15669.0,15668.0,15668.0,15666.0,15665.0,15665.0,15665.0,15664.0,15662.0,15661.0,15659.0,15659.0,15659.0,15658.0,15657.0,15655.0,15654.0,15654.0,15653.0,15653.0,15653.0,15651.0,15650.0,15650.0,15650.0,15648.0,15647.0,15647.0,15646.0,15645.0,15645.0,15644.0,15644.0,15641.0,15639.0,15639.0,15637.0,15633.0,15633.0,15633.0,15633.0,15632.0,15631.0,15631.0,15630.0,15627.0,15626.0,15626.0,15625.0,15624.0,15623.0,15622.0,15622.0,15617.0,15617.0,15617.0,15617.0,15615.0,15615.0,15614.0,15613.0,15613.0,15613.0,15611.0,15610.0,15609.0,15609.0,15607.0,15607.0,15606.0,15605.0,15603.0,15601.0,15600.0,15599.0,15599.0,15598.0,15597.0,15596.0,15596.0,15596.0,15595.0,15595.0,15593.0,15593.0,15592.0,15592.0,15591.0,15590.0,15588.0,15586.0,15585.0,15583.0,15582.0,15582.0,15581.0,15574.0,15573.0,15573.0,15573.0,15572.0,15572.0,15571.0,15570.0,15569.0,15567.0,15567.0,15567.0,15566.0,15564.0,15564.0,15564.0,15562.0,15562.0,15561.0,15561.0,15561.0,15559.0,15559.0,15558.0,15557.0,15557.0,15556.0,15556.0,15556.0,15555.0,15554.0,15551.0,15549.0,15549.0,15545.0,15545.0,15544.0,15543.0,15542.0,15542.0,15541.0,15541.0,15540.0,15540.0,15539.0,15539.0,15537.0,15536.0,15536.0,15536.0,15536.0,15535.0,15534.0,15534.0,15534.0,15533.0,15533.0,15531.0,15531.0,15531.0,15529.0,15529.0,15528.0,15528.0,15527.0,15524.0,15523.0,15522.0,15519.0,15519.0,15519.0,15519.0,15517.0,15516.0,15516.0,15516.0,15516.0,15515.0,15513.0,15513.0,15511.0,15509.0,15508.0,15508.0,15507.0,15507.0,15506.0,15506.0,15505.0,15504.0,15504.0,15503.0,15502.0,15500.0,15499.0,15498.0,15496.0,15492.0,15492.0,15492.0,15492.0,15491.0,15490.0,15488.0,15488.0,15486.0,15486.0,15485.0,15485.0,15482.0,15481.0,15480.0,15480.0,15477.0,15477.0,15477.0,15477.0,15476.0,15474.0,15474.0,15474.0,15473.0,15473.0,15473.0,15473.0,15472.0,15472.0,15472.0,15472.0,15472.0,15470.0,15470.0,15470.0,15470.0,15470.0,15468.0,15468.0,15467.0,15466.0,15465.0,15465.0,15465.0,15465.0,15463.0,15463.0,15462.0,15462.0,15461.0,15461.0,15460.0,15459.0,15458.0,15458.0,15457.0,15456.0,15456.0,15455.0,15454.0,15453.0,15453.0,15451.0,15451.0,15450.0,15450.0,15450.0,15449.0,15448.0,15448.0,15448.0,15446.0,15446.0,15446.0,15443.0,15441.0,15438.0,15434.0,15433.0,15427.0,15426.0,15425.0,15425.0,15423.0,15423.0,15422.0,15419.0,15418.0,15417.0,15415.0,15415.0,15414.0,15412.0,15411.0,15410.0,15409.0,15408.0,15408.0,15407.0,15405.0,15404.0,15404.0,15403.0,15402.0,15401.0,15401.0,15401.0,15399.0,15399.0,15399.0,15397.0,15397.0,15396.0,15396.0,15394.0,15393.0,15392.0,15391.0,15389.0,15388.0,15388.0,15386.0,15385.0,15384.0,15383.0,15382.0,15382.0,15380.0,15380.0,15378.0,15378.0,15377.0,15375.0,15374.0,15371.0,15371.0,15369.0,15369.0,15369.0,15367.0,15364.0,15363.0,15362.0,15362.0,15362.0,15361.0,15359.0,15359.0,15358.0,15358.0,15357.0,15357.0,15356.0,15356.0,15356.0,15355.0,15354.0,15353.0,15353.0,15352.0,15351.0,15350.0,15348.0,15348.0,15348.0,15347.0,15347.0,15346.0,15346.0,15346.0,15345.0,15344.0,15342.0,15341.0,15341.0,15340.0,15340.0,15336.0,15335.0,15333.0,15333.0,15333.0,15332.0,15332.0,15332.0,15332.0,15331.0,15330.0,15329.0,15326.0,15325.0,15325.0,15325.0,15324.0,15323.0,15321.0,15318.0,15315.0,15314.0,15311.0,15310.0,15309.0,15309.0,15306.0,15304.0,15302.0,15300.0,15299.0,15298.0,15298.0,15297.0,15296.0,15295.0,15295.0,15294.0,15289.0,15287.0,15286.0,15286.0,15285.0,15285.0,15284.0,15283.0,15283.0,15283.0,15282.0,15280.0,15279.0,15278.0,15274.0,15273.0,15273.0,15273.0,15272.0,15270.0,15269.0,15268.0,15267.0,15267.0,15266.0,15265.0,15264.0,15263.0,15262.0,15262.0,15262.0,15261.0,15260.0,15260.0,15256.0,15256.0,15254.0,15254.0,15254.0,15254.0,15254.0,15251.0,15250.0,15249.0,15248.0,15247.0,15247.0,15247.0,15246.0,15246.0,15244.0,15244.0,15242.0,15242.0,15241.0,15240.0,15240.0,15240.0,15239.0,15238.0,15237.0,15236.0,15236.0,15236.0,15235.0,15234.0,15234.0,15234.0,15233.0,15232.0,15232.0,15231.0,15230.0,15228.0,15227.0,15227.0,15227.0,15226.0,15226.0,15225.0,15223.0,15223.0,15222.0,15221.0,15219.0,15218.0,15218.0,15218.0,15217.0,15216.0,15213.0,15212.0,15212.0,15209.0,15208.0,15208.0,15208.0,15204.0,15204.0,15204.0,15204.0,15201.0,15201.0,15201.0,15201.0,15199.0,15199.0,15198.0,15198.0,15197.0,15197.0,15197.0,15197.0,15195.0,15195.0,15192.0,15191.0,15191.0,15191.0,15190.0,15190.0,15189.0,15189.0,15188.0,15188.0,15187.0,15187.0,15187.0,15185.0,15185.0,15183.0,15182.0,15182.0,15181.0,15181.0,15181.0,15179.0,15179.0,15178.0,15176.0,15174.0,15173.0,15171.0,15169.0,15168.0,15166.0,15165.0,15165.0,15164.0,15163.0,15163.0,15162.0,15161.0,15160.0,15151.0,15102.0,14928.0,14893.0,14759.0,14663.0,14641.0,14640.0,14627.0,14564.0,14325.0,14323.0,14255.0,14187.0,14160.0,14063.0,13977.0,13963.0,13867.0,13832.0,13702.0,13699.0,13675.0,13667.0,13662.0,13662.0,13658.0,13655.0,13653.0,13650.0,13647.0,13624.0,13618.0,13613.0,13610.0,13610.0,13609.0,13608.0,13607.0,13598.0,13583.0,13578.0,13576.0,13575.0,13560.0,13557.0,13556.0,13547.0,13546.0,13545.0,13545.0,13536.0,13533.0,13528.0,13527.0,13522.0,13520.0,13515.0,13501.0,13498.0,13495.0,13493.0,13488.0,13481.0,13480.0,13467.0,13466.0,13465.0,13458.0,13455.0,13455.0,13453.0,13430.0,13429.0,13429.0,13424.0,13423.0,13403.0,13403.0,13403.0,13400.0,13397.0,13396.0,13393.0,13391.0,13387.0,13383.0,13381.0,13376.0,13371.0,13371.0,13367.0,13354.0,13351.0,13348.0,13345.0,13338.0,13337.0,13334.0,13329.0,13327.0,13326.0,13325.0,13322.0,13308.0,13304.0,13297.0,13292.0,13291.0,13289.0,13289.0,13286.0,13284.0,13282.0,13277.0,13277.0,13276.0,13272.0,13264.0,13263.0,13263.0,13260.0,13260.0,13259.0,13251.0,13250.0,13249.0,13248.0,13245.0,13239.0,13235.0,13231.0,13228.0,13220.0,13218.0,13215.0,13213.0,13212.0,13210.0,13206.0,13205.0,13202.0,13201.0,13201.0,13201.0,13199.0,13195.0,13195.0,13194.0,13186.0,13184.0,13183.0,13176.0,13168.0,13162.0,13158.0,13158.0,13156.0,13151.0,13151.0,13148.0,13148.0,13146.0,13144.0,13143.0,13140.0,13140.0,13139.0,13139.0,13134.0,13133.0,13127.0,13120.0,13119.0,13114.0,13111.0,13109.0,13104.0,13100.0,13100.0,13098.0,13087.0,13083.0,13083.0,13078.0,13077.0,13067.0,13058.0,13056.0,13055.0,13055.0,13053.0,13052.0,13051.0,13042.0,13041.0,13036.0,13016.0,13012.0,12997.0,12994.0,12989.0,12987.0,12984.0,12981.0,12981.0,12975.0,12973.0,12971.0,12970.0,12964.0,12962.0,12960.0,12959.0,12957.0,12953.0,12949.0,12947.0,12944.0,12943.0,12930.0,12930.0,12914.0,12912.0,12909.0,12904.0,12904.0,12903.0,12901.0,12901.0,12899.0,12899.0,12895.0,12895.0,12893.0,12892.0,12891.0,12887.0,12887.0,12886.0,12882.0,12878.0,12878.0,12878.0,12878.0,12876.0,12876.0,12873.0,12871.0,12870.0,12870.0,12869.0,12869.0,12866.0,12865.0,12865.0,12865.0,12864.0,12862.0,12861.0,12858.0,12857.0,12857.0,12856.0,12854.0,12851.0,12849.0,12847.0,12846.0,12845.0,12844.0,12844.0,12844.0,12837.0,12835.0,12835.0,12834.0,12833.0,12831.0,12828.0,12826.0,12823.0,12823.0,12820.0,12818.0,12817.0,12816.0,12815.0,12815.0,12811.0,12809.0,12806.0,12802.0,12799.0,12799.0,12797.0,12796.0,12796.0,12792.0,12791.0,12790.0,12788.0,12788.0,12786.0,12784.0,12783.0,12780.0,12778.0,12778.0,12776.0,12774.0,12772.0,12771.0,12768.0,12766.0,12765.0,12765.0,12764.0,12763.0,12763.0,12761.0,12759.0,12759.0,12758.0,12757.0,12754.0,12753.0,12752.0,12751.0,12746.0,12746.0,12746.0,12733.0,12731.0,12728.0,12725.0,12723.0,12722.0,12722.0,12721.0,12721.0,12720.0,12720.0,12718.0,12717.0,12716.0,12716.0,12714.0,12713.0,12712.0,12712.0,12711.0,12711.0,12710.0,12709.0,12705.0,12704.0,12703.0,12703.0,12702.0,12701.0,12699.0,12699.0,12699.0,12698.0,12698.0,12697.0,12697.0,12696.0,12695.0,12692.0,12691.0,12691.0,12691.0,12689.0,12683.0,12682.0,12680.0,12678.0,12677.0,12673.0,12673.0,12671.0,12671.0,12671.0,12670.0,12670.0,12668.0,12666.0,12661.0,12658.0,12658.0,12654.0,12653.0,12648.0,12646.0,12641.0,12638.0,12627.0,12626.0,12626.0,12623.0,12622.0,12621.0,12620.0,12616.0,12612.0,12611.0,12609.0,12609.0,12608.0,12607.0,12606.0,12604.0,12602.0,12601.0,12600.0,12595.0,12591.0,12587.0,12583.0,12582.0,12578.0,12577.0,12576.0,12575.0,12575.0,12574.0,12573.0,12572.0,12571.0,12566.0,12566.0,12566.0,12564.0,12559.0,12559.0,12558.0,12558.0,12555.0,12551.0,12541.0,12540.0,12538.0,12536.0,12529.0,12528.0,12527.0,12527.0,12524.0,12523.0,12520.0,12512.0,12508.0,12505.0,12505.0,12504.0,12504.0,12502.0,12499.0,12496.0,12489.0,12479.0,12478.0,12478.0,12474.0,12474.0,12472.0,12469.0,12467.0,12465.0,12459.0,12455.0,12451.0,12451.0,12449.0,12446.0,12444.0,12444.0,12444.0,12443.0,12443.0,12440.0,12435.0,12434.0,12433.0,12429.0,12427.0,12427.0,12421.0,12420.0,12420.0,12419.0,12413.0,12405.0,12403.0,12401.0,12401.0,12400.0,12399.0,12398.0,12397.0,12396.0,12395.0,12390.0,12389.0,12388.0,12387.0,12386.0,12383.0,12381.0,12381.0,12380.0,12379.0,12375.0,12367.0,12363.0,12363.0,12361.0,12361.0,12357.0,12356.0,12354.0,12352.0,12350.0,12350.0,12345.0,12344.0,12340.0,12338.0,12337.0,12333.0,12333.0,12331.0,12328.0,12328.0,12327.0,12327.0,12324.0,12321.0,12320.0,12315.0,12310.0,12308.0,12307.0,12301.0,12300.0,12296.0,12296.0,12292.0,12290.0,12289.0,12285.0,12285.0,12283.0,12282.0,12280.0,12278.0,12275.0,12274.0,12268.0,12268.0,12267.0,12267.0,12262.0,12261.0,12258.0,12258.0,12256.0,12252.0,12248.0,12248.0,12247.0,12244.0,12242.0,12242.0,12241.0,12240.0,12239.0,12238.0,12237.0,12237.0,12235.0,12233.0,12232.0,12230.0,12229.0,12228.0,12228.0,12222.0,12220.0,12218.0,12216.0,12214.0,12214.0,12211.0,12208.0,12208.0,12207.0,12205.0,12199.0,12198.0,12198.0,12196.0,12192.0,12190.0,12190.0,12189.0,12183.0,12180.0,12180.0,12175.0,12175.0,12174.0,12173.0,12172.0,12171.0,12170.0,12163.0,12162.0,12162.0,12161.0,12160.0,12159.0,12157.0,12157.0,12155.0,12154.0,12153.0,12147.0,12144.0,12144.0,12132.0,12127.0,12126.0,12126.0,12125.0,12125.0,12124.0,12124.0,12123.0,12120.0,12119.0,12119.0,12118.0,12118.0,12114.0,12112.0,12112.0,12112.0,12110.0,12110.0,12109.0,12108.0,12107.0,12106.0,12106.0,12106.0,12105.0,12104.0,12102.0,12102.0,12101.0,12100.0,12099.0,12099.0,12099.0,12099.0,12099.0,12097.0,12097.0,12097.0,12096.0,12095.0,12093.0,12093.0,12091.0,12090.0,12090.0,12089.0,12089.0,12089.0,12088.0,12087.0,12087.0,12085.0,12084.0,12084.0,12083.0,12082.0,12081.0,12081.0,12079.0,12078.0,12076.0,12076.0,12074.0,12072.0,12071.0,12071.0,12069.0,12067.0,12067.0,12067.0,12066.0,12065.0,12065.0,12063.0,12063.0,12061.0,12061.0,12060.0,12060.0,12056.0,12055.0,12054.0,12054.0,12050.0,12049.0,12048.0,12047.0,12047.0,12046.0,12044.0,12044.0,12043.0,12043.0,12042.0,12042.0,12040.0,12040.0,12039.0,12038.0,12036.0,12035.0,12035.0,12034.0,12032.0,12032.0,12031.0,12030.0,12028.0,12027.0,12025.0,12024.0,12021.0,12021.0,12019.0,12017.0,12017.0,12017.0,12016.0,12014.0,12014.0,12013.0,12013.0,12012.0,12012.0,12011.0,12011.0,12010.0,12010.0,12009.0,12009.0,12008.0,12007.0,12006.0,12006.0,12005.0,12001.0,12001.0,11999.0,11998.0,11996.0,11996.0,11992.0,11992.0,11992.0,11992.0,11991.0,11990.0,11989.0,11989.0,11989.0,11989.0,11988.0,11988.0,11987.0,11986.0,11985.0,11984.0,11983.0,11979.0,11975.0,11974.0,11973.0,11973.0,11973.0,11972.0,11972.0,11971.0,11971.0,11971.0,11970.0,11969.0,11969.0,11968.0,11967.0,11966.0,11965.0,11963.0,11963.0,11962.0,11962.0,11962.0,11960.0,11960.0,11959.0,11958.0,11957.0,11956.0,11954.0,11954.0,11953.0,11951.0,11951.0,11951.0,11950.0,11949.0,11947.0,11947.0,11946.0,11944.0,11944.0,11943.0,11941.0,11940.0,11940.0,11939.0,11939.0,11938.0,11936.0,11936.0,11935.0,11935.0,11935.0,11934.0,11933.0,11933.0,11933.0,11933.0,11931.0,11930.0,11925.0,11924.0,11923.0,11922.0,11921.0,11921.0,11919.0,11919.0,11915.0,11915.0,11912.0,11911.0,11911.0,11909.0,11908.0,11907.0,11904.0,11904.0,11903.0,11903.0,11903.0,11902.0,11896.0,11895.0,11894.0,11894.0,11889.0,11888.0,11887.0,11885.0,11885.0,11884.0,11883.0,11883.0,11882.0,11882.0,11881.0,11881.0,11880.0,11878.0,11878.0,11877.0,11874.0,11873.0,11873.0,11870.0,11869.0,11868.0,11868.0,11867.0,11865.0,11863.0,11863.0,11863.0,11862.0,11861.0,11859.0,11858.0,11856.0,11855.0,11852.0,11851.0,11849.0,11849.0,11847.0,11846.0,11845.0,11845.0,11844.0,11843.0,11843.0,11842.0,11842.0,11842.0,11839.0,11838.0,11837.0,11836.0,11836.0,11836.0,11835.0,11835.0,11833.0,11832.0,11832.0,11832.0,11831.0,11828.0,11827.0,11827.0,11827.0,11825.0,11825.0,11824.0,11822.0,11821.0,11820.0,11820.0,11819.0,11818.0,11818.0,11814.0,11813.0,11813.0,11812.0,11812.0,11811.0,11810.0,11810.0,11810.0,11809.0,11806.0,11806.0,11805.0,11804.0,11803.0,11801.0,11801.0,11801.0,11800.0,11798.0,11797.0,11797.0,11797.0,11797.0,11793.0,11792.0,11791.0,11789.0,11789.0,11788.0,11788.0,11788.0,11787.0,11787.0,11787.0,11781.0,11781.0,11780.0,11779.0,11778.0,11777.0,11775.0,11774.0,11773.0,11772.0,11772.0,11771.0,11770.0,11769.0,11769.0,11767.0,11765.0,11764.0,11764.0,11763.0,11760.0,11759.0,11758.0,11756.0,11756.0,11756.0,11756.0,11756.0,11755.0,11755.0,11754.0,11754.0,11753.0,11753.0,11748.0,11748.0,11747.0,11743.0,11742.0,11739.0,11737.0,11736.0,11734.0,11734.0,11734.0,11734.0,11732.0,11731.0,11731.0,11731.0,11730.0,11729.0,11729.0,11729.0,11728.0,11727.0,11727.0,11724.0,11723.0,11722.0,11722.0,11722.0,11721.0,11721.0,11717.0,11716.0,11714.0,11714.0,11714.0,11713.0,11713.0,11713.0,11712.0,11711.0,11710.0,11708.0,11708.0,11706.0,11704.0,11704.0,11703.0,11702.0,11697.0,11696.0,11695.0,11693.0,11693.0,11691.0,11689.0,11688.0,11688.0,11687.0,11687.0,11687.0,11684.0,11681.0,11681.0,11680.0,11679.0,11679.0,11679.0,11678.0,11677.0,11676.0,11676.0,11674.0,11674.0,11673.0,11673.0,11672.0,11672.0,11671.0,11669.0,11668.0,11668.0,11668.0,11667.0,11667.0,11667.0,11667.0,11667.0,11656.0,11656.0,11655.0,11655.0,11646.0,11646.0,11642.0,11641.0,11640.0,11640.0,11639.0,11638.0,11638.0,11636.0,11636.0,11635.0,11634.0,11633.0,11633.0,11632.0,11629.0,11629.0,11624.0,11618.0,11617.0,11616.0,11614.0,11613.0,11611.0,11610.0,11609.0,11609.0,11608.0,11607.0,11606.0,11606.0,11606.0,11606.0,11606.0,11605.0,11605.0,11604.0,11604.0,11604.0,11603.0,11603.0,11602.0,11602.0,11601.0,11601.0,11601.0,11601.0,11598.0,11598.0,11595.0,11593.0,11591.0,11590.0,11588.0,11588.0,11585.0,11585.0,11585.0,11584.0,11583.0,11581.0,11580.0,11578.0,11578.0,11578.0,11576.0,11576.0,11576.0,11573.0,11571.0,11571.0,11569.0,11567.0,11566.0,11565.0,11564.0,11563.0,11560.0,11557.0,11557.0,11556.0,11555.0,11555.0,11552.0,11551.0,11550.0,11550.0,11550.0,11548.0,11548.0,11547.0,11546.0,11544.0,11544.0,11543.0,11543.0,11543.0,11542.0,11541.0,11541.0,11540.0,11540.0,11537.0,11535.0,11533.0,11532.0,11532.0,11532.0,11531.0,11530.0,11528.0,11526.0,11526.0,11525.0,11521.0,11520.0,11519.0,11516.0,11515.0,11514.0,11514.0,11513.0,11512.0,11511.0,11511.0,11510.0,11510.0,11509.0,11508.0,11507.0,11507.0,11507.0,11506.0,11506.0,11506.0,11504.0,11501.0,11501.0,11500.0,11497.0,11496.0,11495.0,11495.0,11494.0,11492.0,11492.0,11491.0,11490.0,11490.0,11486.0,11486.0,11481.0,11480.0,11480.0,11479.0,11479.0,11479.0,11479.0,11479.0,11478.0,11476.0,11474.0,11473.0,11471.0,11471.0,11471.0,11471.0,11470.0,11470.0,11469.0,11468.0,11468.0,11465.0,11465.0,11465.0,11464.0,11462.0,11460.0,11459.0,11459.0,11458.0,11458.0,11458.0,11458.0,11457.0,11454.0,11454.0,11450.0,11450.0,11447.0,11447.0,11446.0,11446.0,11441.0,11441.0,11441.0,11439.0,11439.0,11439.0,11437.0,11437.0,11437.0,11437.0,11435.0,11432.0,11432.0,11431.0,11430.0,11430.0,11430.0,11429.0,11429.0,11426.0,11425.0,11425.0,11424.0,11422.0,11422.0,11420.0,11419.0,11419.0,11417.0,11417.0,11414.0,11414.0,11413.0,11413.0,11413.0,11411.0,11410.0,11410.0,11410.0,11409.0,11406.0,11405.0,11405.0,11403.0,11401.0,11400.0,11399.0,11397.0,11396.0,11396.0,11393.0,11393.0,11392.0,11392.0,11390.0,11390.0,11388.0,11385.0,11385.0,11384.0,11384.0,11384.0,11383.0,11383.0,11382.0,11382.0,11380.0,11380.0,11379.0,11378.0,11378.0,11377.0,11376.0,11376.0,11374.0,11374.0,11372.0,11371.0,11239.0,11151.0,11079.0,11078.0,11075.0,11064.0,11056.0,11055.0,11054.0,11054.0,11048.0,11048.0,11040.0,11035.0,11032.0,11027.0,11027.0,11027.0,11016.0,11014.0,11014.0,11011.0,11008.0,10996.0,10995.0,10991.0,10991.0,10985.0,10984.0,10981.0,10958.0,10957.0,10956.0,10944.0,10933.0,10924.0,10918.0,10917.0,10917.0,10915.0,10909.0,10905.0,10898.0,10894.0,10890.0,10882.0,10875.0,10875.0,10872.0,10868.0,10866.0,10865.0,10861.0,10859.0,10857.0,10857.0,10843.0,10841.0,10840.0,10836.0,10827.0,10819.0,10803.0,10801.0,10801.0,10799.0,10793.0,10792.0,10791.0,10788.0,10787.0,10787.0,10786.0,10785.0,10785.0,10784.0,10779.0,10773.0,10772.0,10771.0,10768.0,10765.0,10764.0,10764.0,10749.0,10746.0,10744.0,10740.0,10736.0,10729.0,10716.0,10715.0,10709.0,10708.0,10706.0,10706.0,10693.0,10692.0,10691.0,10690.0,10688.0,10685.0,10682.0,10680.0,10677.0,10674.0,10672.0,10670.0,10670.0,10669.0,10666.0,10663.0,10661.0,10657.0,10655.0,10655.0,10652.0,10650.0,10646.0,10645.0,10644.0,10644.0,10641.0,10641.0,10639.0,10631.0,10630.0,10623.0,10609.0,10606.0,10606.0,10606.0,10599.0,10598.0,10596.0,10593.0,10589.0,10588.0,10579.0,10577.0,10576.0,10575.0,10570.0,10565.0,10565.0,10554.0,10554.0,10554.0,10553.0,10546.0,10545.0,10542.0,10535.0,10521.0,10485.0,10478.0,10466.0,10401.0,10392.0,10392.0,10386.0,10386.0,10364.0,10362.0,10358.0,10332.0,10330.0,10329.0,10309.0,10305.0,10283.0,10270.0,10270.0,10262.0,10262.0,10249.0,10249.0,10245.0,10240.0,10232.0,10225.0,10208.0,10147.0,10144.0,10141.0,10140.0,10133.0,10131.0,10130.0,10114.0,10114.0,10109.0,10108.0,10108.0,10102.0,10102.0,10097.0,10093.0,10088.0,10088.0,10088.0,10082.0,10082.0,10082.0,10081.0,10081.0,10081.0,10080.0,10080.0,10080.0,10077.0,10076.0,10076.0,10076.0,10074.0,10074.0,10074.0,10074.0,10072.0,10072.0,10072.0,10070.0,10069.0,10069.0,10068.0,10068.0,10068.0,10065.0,10064.0,10063.0,10062.0,10058.0,10058.0,10058.0,10057.0,10057.0,10057.0,10056.0,10056.0,10056.0,10056.0,10054.0,10054.0,10054.0,10053.0,10053.0,10052.0,10051.0,10051.0,10051.0,10051.0,10050.0,10049.0,10049.0,10048.0,10047.0,10046.0,10046.0,10046.0,10046.0,10045.0,10045.0,10045.0,10045.0,10043.0,10042.0,10042.0,10041.0,10041.0,10041.0,10041.0,10040.0,10040.0,10040.0,10040.0,10040.0,10039.0,10038.0,10037.0,10037.0,10037.0,10037.0,10036.0,10035.0,10034.0,10034.0,10032.0,10032.0,10032.0,10031.0,10030.0,10030.0,10030.0,10029.0,10028.0,10028.0,10028.0,10027.0,10026.0,10026.0,10026.0,10025.0,10024.0,10024.0,10024.0,10022.0,10022.0,10022.0,10021.0,10021.0,10020.0,10016.0,10016.0,10015.0,10015.0,10014.0,10013.0,10013.0,10013.0,10012.0,10012.0,10012.0,10010.0,10010.0,10009.0,10009.0,10008.0,10008.0,10008.0,10007.0,10007.0,10006.0,10006.0,10006.0,10004.0,10003.0,10002.0,10001.0,10000.0,10000.0,10000.0,10000.0,10000.0,9999.0,9998.0,9998.0,9998.0,9997.0,9997.0,9996.0,9996.0,9995.0,9993.0,9993.0,9992.0,9992.0,9992.0,9992.0,9992.0,9992.0,9991.0,9990.0,9989.0,9989.0,9988.0,9988.0,9988.0,9987.0,9986.0,9986.0,9984.0,9984.0,9984.0,9983.0,9983.0,9983.0,9982.0,9981.0,9981.0,9980.0,9980.0,9980.0,9979.0,9979.0,9977.0,9976.0,9976.0,9975.0,9975.0,9975.0,9973.0,9972.0,9972.0,9971.0,9971.0,9970.0,9970.0,9969.0,9969.0,9969.0,9968.0,9968.0,9968.0,9967.0,9966.0,9965.0,9965.0,9965.0,9963.0,9963.0,9963.0,9963.0,9963.0,9962.0,9961.0,9960.0,9959.0,9958.0,9958.0,9958.0,9958.0,9957.0,9957.0,9957.0,9956.0,9955.0,9954.0,9954.0,9950.0,9949.0,9948.0,9947.0,9947.0,9946.0,9946.0,9946.0,9946.0,9945.0,9945.0,9944.0,9942.0,9941.0,9941.0,9941.0,9941.0,9941.0,9941.0,9940.0,9940.0,9939.0,9938.0,9938.0,9937.0,9937.0,9936.0,9936.0,9936.0,9936.0,9932.0,9931.0,9930.0,9930.0,9930.0,9930.0,9928.0,9927.0,9927.0,9926.0,9925.0,9924.0,9923.0,9921.0,9920.0,9920.0,9920.0,9919.0,9919.0,9919.0,9919.0,9919.0,9919.0,9919.0,9918.0,9918.0,9917.0,9917.0,9917.0,9916.0,9915.0,9915.0,9915.0,9914.0,9913.0,9913.0,9913.0,9912.0,9912.0,9911.0,9911.0,9910.0,9909.0,9909.0,9909.0,9908.0,9908.0,9907.0,9907.0,9906.0,9905.0,9904.0,9903.0,9902.0,9901.0,9901.0,9900.0,9900.0,9900.0,9900.0,9900.0,9899.0,9898.0,9897.0,9897.0,9895.0,9894.0,9894.0,9894.0,9893.0,9892.0,9892.0,9892.0,9891.0,9891.0,9890.0,9889.0,9888.0,9887.0,9886.0,9886.0,9886.0,9886.0,9886.0,9885.0,9885.0,9885.0,9885.0,9884.0,9883.0,9882.0,9880.0,9880.0,9879.0,9879.0,9879.0,9878.0,9875.0,9875.0,9873.0,9872.0,9871.0,9869.0,9869.0,9868.0,9867.0,9867.0,9866.0,9865.0,9863.0,9862.0,9862.0,9862.0,9861.0,9861.0,9861.0,9859.0,9859.0,9859.0,9858.0,9858.0,9857.0,9857.0,9855.0,9854.0,9853.0,9852.0,9852.0,9852.0,9850.0,9849.0,9849.0,9849.0,9846.0,9846.0,9846.0,9845.0,9844.0,9842.0,9842.0,9841.0,9841.0,9841.0,9841.0,9840.0,9840.0,9838.0,9838.0,9838.0,9837.0,9837.0,9835.0,9835.0,9834.0,9832.0,9832.0,9832.0,9831.0,9829.0,9829.0,9829.0,9828.0,9828.0,9827.0,9826.0,9826.0,9825.0,9824.0,9823.0,9822.0,9822.0,9820.0,9819.0,9818.0,9818.0,9817.0,9817.0,9816.0,9816.0,9816.0,9815.0,9814.0,9814.0,9813.0,9813.0,9812.0,9811.0,9811.0,9811.0,9811.0,9809.0,9809.0,9808.0,9807.0,9807.0,9805.0,9805.0,9805.0,9805.0,9804.0,9804.0,9804.0,9804.0,9803.0,9803.0,9802.0,9801.0,9801.0,9799.0,9799.0,9795.0,9792.0,9791.0,9791.0,9790.0,9790.0,9789.0,9789.0,9789.0,9789.0,9789.0,9788.0,9788.0,9786.0,9786.0,9786.0,9786.0,9786.0,9785.0,9783.0,9783.0,9782.0,9781.0,9781.0,9781.0,9780.0,9779.0,9779.0,9778.0,9777.0,9777.0,9776.0,9775.0,9774.0,9773.0,9772.0,9771.0,9770.0,9770.0,9769.0,9769.0,9768.0,9768.0,9767.0,9767.0,9766.0,9766.0,9765.0,9764.0,9763.0,9762.0,9762.0,9762.0,9762.0,9761.0,9761.0,9760.0,9760.0,9760.0,9760.0,9760.0,9759.0,9759.0,9758.0,9757.0,9756.0,9756.0,9756.0,9755.0,9755.0,9753.0,9751.0,9751.0,9751.0,9749.0,9749.0,9749.0,9748.0,9746.0,9743.0,9742.0,9742.0,9741.0,9741.0,9740.0,9740.0,9740.0,9740.0,9740.0,9734.0,9733.0,9733.0,9732.0,9732.0,9732.0,9731.0,9731.0,9730.0,9729.0,9728.0,9728.0,9728.0,9727.0,9727.0,9727.0,9726.0,9726.0,9726.0,9725.0,9724.0,9722.0,9722.0,9721.0,9719.0,9719.0,9718.0,9718.0,9717.0,9717.0,9717.0,9715.0,9714.0,9714.0,9714.0,9713.0,9713.0,9713.0,9708.0,9708.0,9708.0,9708.0,9706.0,9705.0,9705.0,9705.0,9703.0,9703.0,9703.0,9702.0,9702.0,9701.0,9701.0,9701.0,9700.0,9699.0,9699.0,9699.0,9699.0,9699.0,9698.0,9697.0,9697.0,9697.0,9696.0,9696.0,9692.0,9690.0,9678.0,9672.0,9669.0,9662.0,9659.0,9656.0,9655.0,9648.0,9634.0,9632.0,9626.0,9626.0,9620.0,9613.0,9606.0,9594.0,9593.0,9590.0,9586.0,9584.0,9584.0,9572.0,9568.0,9568.0,9568.0,9565.0,9563.0,9562.0,9559.0,9552.0,9538.0,9527.0,9526.0,9525.0,9386.0,9049.0,9003.0,8958.0,8907.0,8904.0,8903.0,8903.0,8902.0,8902.0,8902.0,8900.0,8900.0,8900.0,8899.0,8897.0,8897.0,8896.0,8896.0,8896.0,8896.0,8896.0,8895.0,8895.0,8895.0,8895.0,8895.0,8894.0,8894.0,8894.0,8893.0,8893.0,8893.0,8893.0,8893.0,8892.0,8892.0,8892.0,8891.0,8891.0,8890.0,8890.0,8889.0,8888.0,8885.0,8885.0,8884.0,8884.0,8883.0,8883.0,8882.0,8882.0,8880.0,8879.0,8879.0,8878.0,8877.0,8877.0,8876.0,8876.0,8874.0,8874.0,8873.0,8872.0,8872.0,8872.0,8871.0,8871.0,8871.0,8871.0,8871.0,8870.0,8870.0,8870.0,8870.0,8870.0,8870.0,8870.0,8868.0,8868.0,8867.0,8866.0,8865.0,8864.0,8864.0,8863.0,8863.0,8863.0,8862.0,8861.0,8861.0,8860.0,8859.0,8857.0,8857.0,8856.0,8856.0,8855.0,8855.0,8854.0,8854.0,8852.0,8852.0,8852.0,8851.0,8851.0,8850.0,8848.0,8847.0,8847.0,8847.0,8845.0,8845.0,8845.0,8844.0,8844.0,8843.0,8842.0,8842.0,8842.0,8842.0,8842.0,8841.0,8840.0,8840.0,8840.0,8839.0,8838.0,8838.0,8838.0,8838.0,8838.0,8838.0,8837.0,8836.0,8836.0,8836.0,8835.0,8835.0,8834.0,8833.0,8833.0,8833.0,8833.0,8833.0,8832.0,8832.0,8832.0,8832.0,8831.0,8829.0,8828.0,8828.0,8828.0,8828.0,8828.0,8828.0,8827.0,8826.0,8826.0,8826.0,8825.0,8825.0,8824.0,8824.0,8824.0,8824.0,8824.0,8823.0,8822.0,8822.0,8822.0,8820.0,8820.0,8820.0,8820.0,8819.0,8819.0,8818.0,8818.0,8818.0,8815.0,8814.0,8814.0,8813.0,8813.0,8811.0,8811.0,8810.0,8810.0,8809.0,8809.0,8808.0,8808.0,8807.0,8807.0,8807.0,8806.0,8806.0,8805.0,8804.0,8804.0,8804.0,8803.0,8802.0,8799.0,8799.0,8798.0,8797.0,8797.0,8796.0,8796.0,8796.0,8795.0,8795.0,8794.0,8794.0,8793.0,8792.0,8792.0,8790.0,8790.0,8790.0,8789.0,8789.0,8789.0,8789.0,8789.0,8788.0,8787.0,8787.0,8786.0,8785.0,8783.0,8783.0,8783.0,8782.0,8781.0,8781.0,8779.0,8779.0,8778.0,8778.0,8776.0,8775.0,8774.0,8774.0,8774.0,8774.0,8773.0,8773.0,8771.0,8771.0,8771.0,8770.0,8769.0,8769.0,8769.0,8769.0,8768.0,8768.0,8767.0,8767.0,8767.0,8766.0,8765.0,8765.0,8764.0,8764.0,8763.0,8763.0,8761.0,8760.0,8760.0,8759.0,8758.0,8758.0,8757.0,8756.0,8755.0,8755.0,8754.0,8754.0,8753.0,8753.0,8752.0,8752.0,8752.0,8747.0,8747.0,8747.0,8746.0,8745.0,8745.0,8744.0,8744.0,8743.0,8743.0,8743.0,8743.0,8743.0,8743.0,8742.0,8742.0,8741.0,8741.0,8740.0,8739.0,8739.0,8739.0,8739.0,8738.0,8738.0,8738.0,8735.0,8735.0,8735.0,8735.0,8734.0,8733.0,8732.0,8732.0,8731.0,8731.0,8731.0,8731.0,8730.0,8730.0,8727.0,8727.0,8727.0,8727.0,8727.0,8725.0,8725.0,8724.0,8724.0,8723.0,8723.0,8722.0,8721.0,8721.0,8721.0,8720.0,8719.0,8717.0,8717.0,8717.0,8717.0,8716.0,8716.0,8715.0,8715.0,8714.0,8712.0,8711.0,8711.0,8711.0,8711.0,8711.0,8710.0,8710.0,8709.0,8708.0,8708.0,8708.0,8707.0,8707.0,8707.0,8706.0,8705.0,8705.0,8705.0,8704.0,8703.0,8702.0,8702.0,8702.0,8702.0,8701.0,8700.0,8699.0,8699.0,8699.0,8697.0,8697.0,8696.0,8696.0,8695.0,8695.0,8693.0,8692.0,8692.0,8692.0,8692.0,8691.0,8691.0,8690.0,8690.0,8690.0,8689.0,8687.0,8687.0,8686.0,8685.0,8684.0,8684.0,8683.0,8683.0,8683.0,8683.0,8682.0,8681.0,8681.0,8681.0,8681.0,8680.0,8679.0,8679.0,8679.0,8679.0,8677.0,8677.0,8676.0,8676.0,8676.0,8675.0,8674.0,8674.0,8673.0,8673.0,8671.0,8671.0,8670.0,8670.0,8670.0,8670.0,8669.0,8668.0,8668.0,8667.0,8664.0,8664.0,8663.0,8662.0,8662.0,8662.0,8662.0,8662.0,8661.0,8661.0,8661.0,8660.0,8660.0,8659.0,8658.0,8658.0,8655.0,8655.0,8654.0,8652.0,8651.0,8651.0,8649.0,8648.0,8648.0,8647.0,8647.0,8646.0,8646.0,8646.0,8646.0,8644.0,8644.0,8644.0,8643.0,8643.0,8643.0,8642.0,8642.0,8641.0,8641.0,8641.0,8641.0,8641.0,8640.0,8638.0,8638.0,8637.0,8637.0,8637.0,8637.0,8637.0,8637.0,8636.0,8636.0,8635.0,8634.0,8633.0,8633.0,8633.0,8633.0,8633.0,8632.0,8631.0,8630.0,8630.0,8630.0,8628.0,8628.0,8628.0,8627.0,8624.0,8623.0,8623.0,8623.0,8623.0,8622.0,8621.0,8621.0,8620.0,8620.0,8619.0,8618.0,8617.0,8616.0,8616.0,8616.0,8616.0,8615.0,8615.0,8613.0,8613.0,8612.0,8612.0,8611.0,8611.0,8609.0,8609.0,8608.0,8606.0,8606.0,8606.0,8605.0,8605.0,8605.0,8604.0,8604.0,8601.0,8600.0,8600.0,8599.0,8598.0,8598.0,8597.0,8597.0,8596.0,8596.0,8594.0,8594.0,8594.0,8593.0,8592.0,8592.0,8591.0,8589.0,8589.0,8589.0,8589.0,8588.0,8588.0,8588.0,8588.0,8586.0,8585.0,8585.0,8584.0,8584.0,8581.0,8580.0,8579.0,8579.0,8579.0,8579.0,8577.0,8577.0,8576.0,8576.0,8576.0,8575.0,8575.0,8575.0,8575.0,8574.0,8574.0,8573.0,8573.0,8573.0,8573.0,8572.0,8572.0,8572.0,8572.0,8572.0,8572.0,8571.0,8570.0,8570.0,8569.0,8569.0,8567.0,8566.0,8566.0,8566.0,8566.0,8557.0,8551.0,8549.0,8544.0,8539.0,8535.0,8532.0,8532.0,8531.0,8528.0,8524.0,8521.0,8520.0,8520.0,8518.0,8516.0,8514.0,8510.0,8488.0,8484.0,8478.0,8477.0,8477.0,8476.0,8468.0,8467.0,8463.0,8460.0,8457.0,8446.0,8445.0,8439.0,8439.0,8437.0,8431.0,8431.0,8431.0,8423.0,8420.0,8420.0,8417.0,8417.0,8416.0,8415.0,8411.0,8411.0,8410.0,8410.0,8404.0,8404.0,8397.0,8396.0,8396.0,8395.0,8392.0,8385.0,8384.0,8384.0,8383.0,8379.0,8378.0,8378.0,8376.0,8374.0,8366.0,8363.0,8362.0,8360.0,8351.0,8346.0,8346.0,8346.0,8345.0,8345.0,8344.0,8343.0,8343.0,8339.0,8338.0,8330.0,8330.0,8329.0,8327.0,8327.0,8321.0,8321.0,8319.0,8318.0,8315.0,8314.0,8314.0,8310.0,8308.0,8307.0,8307.0,8305.0,8305.0,8302.0,8300.0,8299.0,8299.0,8298.0,8296.0,8292.0,8289.0,8288.0,8286.0,8285.0,8283.0,8281.0,8280.0,8278.0,8276.0,8276.0,8276.0,8271.0,8271.0,8271.0,8270.0,8269.0,8268.0,8267.0,8266.0,8263.0,8261.0,8260.0,8259.0,8258.0,8258.0,8257.0,8254.0,8253.0,8248.0,8241.0,8241.0,8240.0,8239.0,8237.0,8236.0,8235.0,8235.0,8235.0,8234.0,8234.0,8234.0,8233.0,8230.0,8226.0,8226.0,8225.0,8225.0,8223.0,8219.0,8216.0,8216.0,8214.0,8214.0,8212.0,8211.0,8209.0,8208.0,8208.0,8207.0,8207.0,8207.0,8206.0,8206.0,8203.0,8202.0,8202.0,8201.0,8199.0,8197.0,8190.0,8190.0,8189.0,8189.0,8188.0,8187.0,8185.0,8181.0,8179.0,8178.0,8178.0,8178.0,8177.0,8175.0,8174.0,8174.0,8173.0,8173.0,8173.0,8173.0,8172.0,8172.0,8170.0,8170.0,8170.0,8162.0,8162.0,8161.0,8159.0,8157.0,8154.0,8152.0,8152.0,8151.0,8150.0,8150.0,8146.0,8146.0,8146.0,8145.0,8144.0,8143.0,8143.0,8143.0,8143.0,8142.0,8142.0,8142.0,8142.0,8141.0,8141.0,8141.0,8141.0,8138.0,8138.0,8138.0,8137.0,8137.0,8136.0,8136.0,8136.0,8135.0,8135.0,8135.0,8135.0,8134.0,8134.0,8134.0,8134.0,8134.0,8134.0,8133.0,8133.0,8133.0,8133.0,8133.0,8133.0,8133.0,8133.0,8132.0,8131.0,8131.0,8131.0,8130.0,8129.0,8129.0,8129.0,8129.0,8129.0,8129.0,8129.0,8128.0,8128.0,8128.0,8128.0,8128.0,8128.0,8128.0,8128.0,8127.0,8127.0,8127.0,8126.0,8126.0,8126.0,8126.0,8125.0,8125.0,8125.0,8125.0,8125.0,8125.0,8124.0,8123.0,8123.0,8123.0,8123.0,8122.0,8121.0,8120.0,8119.0,8119.0,8119.0,8119.0,8119.0,8118.0,8118.0,8118.0,8118.0,8118.0,8117.0,8117.0,8117.0,8117.0,8117.0,8116.0,8116.0,8116.0,8115.0,8114.0,8114.0,8114.0,8113.0,8113.0,8113.0,8112.0,8111.0,8111.0,8111.0,8110.0,8110.0,8110.0,8110.0,8109.0,8109.0,8109.0,8109.0,8109.0,8109.0,8109.0,8108.0,8108.0,8108.0,8107.0,8107.0,8107.0,8107.0,8107.0,8107.0,8106.0,8106.0,8106.0,8106.0,8105.0,8105.0,8105.0,8105.0,8104.0,8104.0,8103.0,8103.0,8103.0,8103.0,8103.0,8102.0,8102.0,8102.0,8102.0,8102.0,8102.0,8101.0,8100.0,8100.0,8100.0,8100.0,8100.0,8100.0,8099.0,8098.0,8098.0,8097.0,8097.0,8096.0,8096.0,8096.0,8096.0,8095.0,8095.0,8095.0,8095.0,8094.0,8094.0,8094.0,8093.0,8093.0,8093.0,8092.0,8092.0,8092.0,8091.0,8091.0,8090.0,8090.0,8089.0,8089.0,8089.0,8088.0,8088.0,8088.0,8088.0,8088.0,8088.0,8087.0,8087.0,8087.0,8086.0,8086.0,8086.0,8085.0,8085.0,8084.0,8084.0,8083.0,8083.0,8083.0,8083.0,8082.0,8082.0,8082.0,8082.0,8081.0,8081.0,8081.0,8080.0,8080.0,8079.0,8079.0,8079.0,8079.0,8078.0,8078.0,8078.0,8078.0,8077.0,8076.0,8076.0,8076.0,8074.0,8074.0,8073.0,8073.0,8073.0,8073.0,8073.0,8072.0,8072.0,8071.0,8071.0,8071.0,8071.0,8070.0,8069.0,8068.0,8068.0,8068.0,8068.0,8067.0,8067.0,8067.0,8066.0,8066.0,8066.0,8066.0,8065.0,8065.0,8064.0,8064.0,8063.0,8063.0,8063.0,8063.0,8063.0,8062.0,8061.0,8061.0,8061.0,8060.0,8060.0,8059.0,8059.0,8059.0,8058.0,8057.0,8055.0,8055.0,8055.0,8055.0,8054.0,8053.0,8052.0,8052.0,8052.0,8052.0,8051.0,8051.0,8050.0,8050.0,8049.0,8049.0,8049.0,8049.0,8048.0,8048.0,8048.0,8047.0,8046.0,8046.0,8046.0,8046.0,8045.0,8045.0,8044.0,8044.0,8044.0,8043.0,8043.0,8043.0,8043.0,8043.0,8042.0,8042.0,8042.0,8042.0,8041.0,8040.0,8040.0,8040.0,8040.0,8040.0,8039.0,8039.0,8039.0,8039.0,8039.0,8039.0,8039.0,8038.0,8038.0,8038.0,8038.0,8038.0,8038.0,8037.0,8037.0,8037.0,8036.0,8036.0,8036.0,8035.0,8035.0,8034.0,8033.0,8033.0,8032.0,8032.0,8032.0,8031.0,8030.0,8030.0,8030.0,8029.0,8029.0,8029.0,8029.0,8029.0,8029.0,8028.0,8027.0,8027.0,8026.0,8026.0,8026.0,8026.0,8026.0,8026.0,8025.0,8025.0,8025.0,8025.0,8025.0,8024.0,8024.0,8023.0,8023.0,8023.0,8019.0,8019.0,8019.0,8018.0,8017.0,8017.0,8016.0,8016.0,8016.0,8016.0,8016.0,8016.0,8016.0,8016.0,8015.0,8015.0,8015.0,8015.0,8015.0,8015.0,8015.0,8015.0,8014.0,8014.0,8014.0,8014.0,8013.0,8013.0,8013.0,8013.0,8011.0,8010.0,8010.0,8009.0,8009.0,8009.0,8009.0,8009.0,8009.0,8009.0,8009.0,8008.0,8008.0,8007.0,8006.0,8006.0,8006.0,8005.0,8005.0,8005.0,8005.0,8005.0,8004.0,8004.0,8004.0,8003.0,8002.0,8002.0,8002.0,8002.0,8002.0,8001.0,8001.0,8001.0,8001.0,8001.0,8001.0,8001.0,7999.0,7999.0,7999.0,7999.0,7999.0,7998.0,7998.0,7998.0,7998.0,7997.0,7997.0,7997.0,7996.0,7996.0,7996.0,7996.0,7995.0,7995.0,7995.0,7995.0,7994.0,7993.0,7993.0,7992.0,7991.0,7991.0,7991.0,7990.0,7990.0,7990.0,7989.0,7989.0,7988.0,7988.0,7988.0,7988.0,7987.0,7987.0,7987.0,7987.0,7987.0,7987.0,7987.0,7986.0,7986.0,7985.0,7985.0,7985.0,7984.0,7984.0,7984.0,7983.0,7983.0,7981.0,7981.0,7981.0,7981.0,7981.0,7981.0,7981.0,7980.0,7980.0,7980.0,7979.0,7979.0,7979.0,7978.0,7978.0,7977.0,7977.0,7977.0,7977.0,7977.0,7977.0,7976.0,7976.0,7976.0,7976.0,7976.0,7975.0,7974.0,7973.0,7973.0,7973.0,7973.0,7972.0,7972.0,7972.0,7971.0,7970.0,7970.0,7969.0,7969.0,7969.0,7969.0,7968.0,7968.0,7967.0,7966.0,7966.0,7965.0,7963.0,7963.0,7963.0,7962.0,7961.0,7961.0,7961.0,7959.0,7959.0,7959.0,7957.0,7957.0,7956.0,7956.0,7956.0,7956.0,7956.0,7956.0,7956.0,7956.0,7956.0,7956.0,7955.0,7955.0,7955.0,7954.0,7954.0,7954.0,7954.0,7953.0,7953.0,7953.0,7953.0,7953.0,7952.0,7952.0,7951.0,7951.0,7951.0,7951.0,7950.0,7950.0,7950.0,7949.0,7949.0,7948.0,7948.0,7948.0,7948.0,7948.0,7947.0,7946.0,7946.0,7946.0,7946.0,7945.0,7945.0,7944.0,7944.0,7944.0,7943.0,7941.0,7941.0,7941.0,7941.0,7941.0,7941.0,7940.0,7939.0,7939.0,7939.0,7939.0,7939.0,7938.0,7938.0,7938.0,7937.0,7937.0,7937.0,7937.0,7937.0,7937.0,7937.0,7936.0,7936.0,7935.0,7935.0,7934.0,7934.0,7933.0,7932.0,7932.0,7932.0,7931.0,7931.0,7930.0,7930.0,7930.0,7929.0,7929.0,7929.0,7929.0,7928.0,7928.0,7927.0,7926.0,7926.0,7924.0,7924.0,7924.0,7924.0,7924.0,7923.0,7923.0,7923.0,7922.0,7921.0,7921.0,7921.0,7920.0,7920.0,7920.0,7918.0,7918.0,7918.0,7917.0,7917.0,7916.0,7916.0,7915.0,7915.0,7915.0,7915.0,7915.0,7914.0,7914.0,7914.0,7914.0,7914.0,7913.0,7912.0,7912.0,7912.0,7912.0,7911.0,7911.0,7911.0,7911.0,7909.0,7909.0,7909.0,7909.0,7907.0,7907.0,7907.0,7907.0,7907.0,7907.0,7907.0,7907.0,7907.0,7907.0,7907.0,7906.0,7905.0,7905.0,7904.0,7904.0,7903.0,7903.0,7902.0,7902.0,7902.0,7900.0,7900.0,7898.0,7898.0,7898.0,7898.0,7898.0,7898.0,7898.0,7898.0,7897.0,7897.0,7897.0,7896.0,7896.0,7895.0,7895.0,7895.0,7895.0,7894.0,7894.0,7894.0,7894.0,7893.0,7893.0,7893.0,7892.0,7892.0,7892.0,7891.0,7891.0,7891.0,7890.0,7890.0,7890.0,7889.0,7886.0,7886.0,7886.0,7885.0,7885.0,7884.0,7884.0,7884.0,7884.0,7884.0,7883.0,7883.0,7882.0,7882.0,7882.0,7880.0,7880.0,7880.0,7879.0,7879.0,7879.0,7878.0,7878.0,7877.0,7876.0,7875.0,7875.0,7875.0,7875.0,7875.0,7875.0,7875.0,7874.0,7874.0,7873.0,7872.0,7872.0,7872.0,7871.0,7871.0,7871.0,7870.0,7869.0,7869.0,7869.0,7868.0,7868.0,7868.0,7867.0,7866.0,7866.0,7866.0,7865.0,7865.0,7865.0,7865.0,7865.0,7865.0,7864.0,7864.0,7864.0,7864.0,7864.0,7863.0,7863.0,7862.0,7862.0,7861.0,7861.0,7861.0,7860.0,7860.0,7860.0,7860.0,7860.0,7860.0,7858.0,7858.0,7858.0,7858.0,7857.0,7857.0,7856.0,7856.0,7856.0,7856.0,7856.0,7856.0,7856.0,7856.0,7855.0,7855.0,7855.0,7855.0,7854.0,7854.0,7854.0,7853.0,7853.0,7852.0,7852.0,7851.0,7851.0,7851.0,7851.0,7851.0,7850.0,7849.0,7849.0,7849.0,7848.0,7847.0,7847.0,7847.0,7847.0,7847.0,7847.0,7846.0,7846.0,7846.0,7845.0,7845.0,7844.0,7844.0,7843.0,7843.0,7843.0,7843.0,7843.0,7842.0,7842.0,7842.0,7842.0,7842.0,7841.0,7840.0,7840.0,7840.0,7840.0,7840.0,7839.0,7839.0,7838.0,7838.0,7837.0,7837.0,7835.0,7835.0,7834.0,7834.0,7832.0,7831.0,7831.0,7830.0,7830.0,7830.0,7830.0,7829.0,7829.0,7828.0,7828.0,7828.0,7828.0,7828.0,7828.0,7827.0,7827.0,7826.0,7826.0,7825.0,7825.0,7825.0,7825.0,7824.0,7824.0,7823.0,7823.0,7823.0,7823.0,7822.0,7822.0,7821.0,7821.0,7820.0,7820.0,7819.0,7819.0,7818.0,7818.0,7817.0,7816.0,7816.0,7816.0,7815.0,7815.0,7814.0,7814.0,7813.0,7813.0,7812.0,7812.0,7811.0,7810.0,7809.0,7809.0,7808.0,7808.0,7808.0,7807.0,7806.0,7806.0,7805.0,7805.0,7805.0,7803.0,7803.0,7803.0,7802.0,7802.0,7802.0,7801.0,7801.0,7801.0,7800.0,7800.0,7800.0,7800.0,7800.0,7800.0,7799.0,7798.0,7798.0,7798.0,7798.0,7797.0,7797.0,7796.0,7796.0,7796.0,7796.0,7796.0,7795.0,7795.0,7795.0,7794.0,7794.0,7794.0,7794.0,7794.0,7793.0,7793.0,7792.0,7792.0,7792.0,7791.0,7791.0,7791.0,7789.0,7789.0,7789.0,7788.0,7788.0,7787.0,7787.0,7787.0,7786.0,7785.0,7785.0,7785.0,7785.0,7785.0,7784.0,7784.0,7784.0,7784.0,7783.0,7783.0,7782.0,7782.0,7782.0,7782.0,7781.0,7781.0,7781.0,7780.0,7779.0,7779.0,7778.0,7778.0,7778.0,7778.0,7778.0,7776.0,7775.0,7775.0,7775.0,7775.0,7775.0,7775.0,7775.0,7774.0,7774.0,7772.0,7772.0,7772.0,7771.0,7771.0,7771.0,7771.0,7770.0,7770.0,7769.0,7769.0,7769.0,7768.0,7768.0,7768.0,7767.0,7767.0,7767.0,7767.0,7766.0,7766.0,7766.0,7765.0,7764.0,7764.0,7764.0,7764.0,7763.0,7762.0,7762.0,7762.0,7762.0,7762.0,7761.0,7761.0,7761.0,7761.0,7760.0,7760.0,7759.0,7758.0,7758.0,7758.0,7757.0,7757.0,7756.0,7754.0,7754.0,7753.0,7753.0,7749.0,7748.0,7748.0,7747.0,7743.0,7740.0,7732.0,7727.0,7725.0,7721.0,7720.0,7715.0,7715.0,7713.0,7709.0,7709.0,7708.0,7701.0,7698.0,7697.0,7697.0,7690.0,7686.0,7683.0,7682.0,7681.0,7681.0,7680.0,7677.0,7674.0,7670.0,7668.0,7666.0,7663.0,7659.0,7659.0,7655.0,7655.0,7653.0,7652.0,7651.0,7645.0,7640.0,7638.0,7637.0,7629.0,7629.0,7627.0,7625.0,7622.0,7622.0,7622.0,7621.0,7619.0,7617.0,7611.0,7610.0,7610.0,7601.0,7601.0,7600.0,7598.0,7598.0,7592.0,7589.0,7589.0,7588.0,7588.0,7586.0,7586.0,7584.0,7583.0,7582.0,7576.0,7572.0,7562.0,7552.0,7536.0,7526.0,7519.0,7517.0,7513.0,7512.0,7509.0,7506.0,7502.0,7498.0,7485.0,7468.0,7463.0,7432.0,7428.0,7425.0,7424.0,7421.0,7416.0,7415.0,7415.0,7409.0,7409.0,7408.0,7405.0,7404.0,7402.0,7401.0,7399.0,7398.0,7397.0,7392.0,7389.0,7381.0,7377.0,7375.0,7194.0,7194.0,7193.0,7193.0,7193.0,7192.0,7192.0,7192.0,7192.0,7192.0,7191.0,7191.0,7190.0,7190.0,7190.0,7190.0,7190.0,7189.0,7188.0,7187.0,7187.0,7187.0,7187.0,7186.0,7186.0,7186.0,7185.0,7185.0,7185.0,7185.0,7185.0,7184.0,7184.0,7184.0,7184.0,7182.0,7182.0,7182.0,7182.0,7181.0,7181.0,7181.0,7181.0,7180.0,7179.0,7179.0,7179.0,7179.0,7178.0,7177.0,7177.0,7176.0,7174.0,7174.0,7174.0,7173.0,7172.0,7172.0,7172.0,7172.0,7171.0,7171.0,7170.0,7170.0,7170.0,7169.0,7169.0,7168.0,7168.0,7168.0,7168.0,7168.0,7168.0,7167.0,7167.0,7167.0,7167.0,7167.0,7166.0,7166.0,7165.0,7165.0,7165.0,7164.0,7164.0,7163.0,7163.0,7163.0,7162.0,7162.0,7162.0,7162.0,7162.0,7161.0,7161.0,7161.0,7160.0,7159.0,7159.0,7159.0,7158.0,7157.0,7157.0,7156.0,7156.0,7156.0,7155.0,7155.0,7155.0,7155.0,7155.0,7155.0,7154.0,7154.0,7154.0,7154.0,7153.0,7153.0,7153.0,7152.0,7152.0,7152.0,7151.0,7151.0,7151.0,7150.0,7150.0,7150.0,7149.0,7149.0,7149.0,7149.0,7147.0,7146.0,7146.0,7146.0,7145.0,7144.0,7144.0,7143.0,7143.0,7142.0,7142.0,7141.0,7141.0,7140.0,7140.0,7139.0,7139.0,7139.0,7139.0,7138.0,7138.0,7138.0,7138.0,7138.0,7138.0,7138.0,7137.0,7137.0,7137.0,7135.0,7135.0,7134.0,7133.0,7133.0,7133.0,7132.0,7132.0,7132.0,7131.0,7131.0,7131.0,7131.0,7131.0,7131.0,7131.0,7130.0,7130.0,7130.0,7129.0,7128.0,7128.0,7128.0,7127.0,7126.0,7126.0,7125.0,7125.0,7125.0,7125.0,7124.0,7124.0,7123.0,7123.0,7123.0,7122.0,7122.0,7122.0,7122.0,7122.0,7122.0,7121.0,7121.0,7121.0,7121.0,7121.0,7120.0,7120.0,7120.0,7119.0,7119.0,7119.0,7119.0,7118.0,7118.0,7118.0,7118.0,7117.0,7116.0,7115.0,7114.0,7113.0,7113.0,7112.0,7112.0,7112.0,7112.0,7112.0,7111.0,7111.0,7111.0,7111.0,7109.0,7109.0,7108.0,7108.0,7108.0,7107.0,7107.0,7107.0,7106.0,7105.0,7105.0,7104.0,7104.0,7104.0,7104.0,7103.0,7103.0,7103.0,7103.0,7102.0,7100.0,7100.0,7099.0,7099.0,7099.0,7099.0,7098.0,7098.0,7098.0,7098.0,7097.0,7097.0,7097.0,7096.0,7096.0,7095.0,7095.0,7094.0,7094.0,7094.0,7094.0,7094.0,7093.0,7093.0,7093.0,7093.0,7092.0,7092.0,7092.0,7091.0,7090.0,7089.0,7089.0,7089.0,7089.0,7089.0,7089.0,7089.0,7088.0,7088.0,7087.0,7087.0,7087.0,7087.0,7087.0,7087.0,7086.0,7086.0,7086.0,7086.0,7086.0,7086.0,7086.0,7086.0,7086.0,7085.0,7085.0,7084.0,7083.0,7083.0,7083.0,7083.0,7082.0,7080.0,7080.0,7080.0,7080.0,7078.0,7078.0,7078.0,7078.0,7077.0,7077.0,7077.0,7077.0,7077.0,7076.0,7076.0,7075.0,7075.0,7075.0,7075.0,7074.0,7074.0,7073.0,7073.0,7072.0,7071.0,7070.0,7070.0,7069.0,7069.0,7069.0,7068.0,7068.0,7067.0,7067.0,7066.0,7066.0,7065.0,7065.0,7065.0,7064.0,7064.0,7064.0,7063.0,7063.0,7062.0,7062.0,7062.0,7061.0,7061.0,7061.0,7060.0,7060.0,7060.0,7059.0,7058.0,7058.0,7057.0,7057.0,7057.0,7056.0,7055.0,7055.0,7055.0,7054.0,7054.0,7053.0,7053.0,7053.0,7053.0,7053.0,7053.0,7052.0,7052.0,7052.0,7052.0,7052.0,7051.0,7051.0,7051.0,7050.0,7049.0,7049.0,7049.0,7048.0,7047.0,7047.0,7047.0,7047.0,7046.0,7046.0,7046.0,7045.0,7045.0,7045.0,7045.0,7045.0,7045.0,7045.0,7044.0,7044.0,7044.0,7043.0,7043.0,7042.0,7041.0,7041.0,7040.0,7040.0,7040.0,7039.0,7039.0,7039.0,7039.0,7039.0,7038.0,7038.0,7038.0,7038.0,7038.0,7037.0,7037.0,7037.0,7037.0,7037.0,7037.0,7037.0,7037.0,7036.0,7036.0,7036.0,7035.0,7035.0,7035.0,7035.0,7035.0,7035.0,7035.0,7034.0,7034.0,7034.0,7033.0,7033.0,7033.0,7033.0,7033.0,7032.0,7032.0,7032.0,7032.0,7031.0,7031.0,7030.0,7030.0,7029.0,7028.0,7028.0,7027.0,7026.0,7026.0,7026.0,7026.0,7026.0,7026.0,7025.0,7025.0,7024.0,7024.0,7024.0,7024.0,7023.0,7023.0,7023.0,7023.0,7023.0,7023.0,7022.0,7022.0,7022.0,7022.0,7022.0,7022.0,7020.0,7020.0,7020.0,7019.0,7019.0,7019.0,7019.0,7018.0,7018.0,7017.0,7017.0,7017.0,7017.0,7017.0,7016.0,7016.0,7016.0,7015.0,7015.0,7015.0,7014.0,7014.0,7013.0,7013.0,7013.0,7012.0,7012.0,7011.0,7011.0,7011.0,7011.0,7011.0,7011.0,7011.0,7010.0,7010.0,7010.0,7010.0,7010.0,7010.0,7009.0,7008.0,7008.0,7008.0,7007.0,7007.0,7006.0,7006.0,7006.0,7006.0,7005.0,7005.0,7005.0,7005.0,7005.0,7005.0,7004.0,7004.0,7003.0,7003.0,7003.0,7003.0,7002.0,7002.0,7001.0,7001.0,7001.0,7000.0,6999.0,6998.0,6998.0,6996.0,6996.0,6995.0,6995.0,6995.0,6994.0,6994.0,6994.0,6994.0,6993.0,6993.0,6993.0,6992.0,6992.0,6991.0,6991.0,6991.0,6990.0,6990.0,6989.0,6988.0,6988.0,6988.0,6985.0,6985.0,6984.0,6983.0,6982.0,6981.0,6981.0,6981.0,6981.0,6981.0,6981.0,6981.0,6980.0,6980.0,6979.0,6978.0,6978.0,6978.0,6978.0,6978.0,6977.0,6977.0,6977.0,6977.0,6977.0,6976.0,6976.0,6975.0,6974.0,6973.0,6973.0,6972.0,6972.0,6971.0,6971.0,6971.0,6970.0,6970.0,6970.0,6970.0,6969.0,6969.0,6968.0,6968.0,6968.0,6967.0,6966.0,6966.0,6966.0,6965.0,6965.0,6965.0,6965.0,6964.0,6964.0,6964.0,6964.0,6963.0,6963.0,6962.0,6962.0,6962.0,6962.0,6960.0,6960.0,6960.0,6959.0,6959.0,6959.0,6958.0,6958.0,6958.0,6957.0,6956.0,6956.0,6956.0,6956.0,6955.0,6954.0,6954.0,6954.0,6954.0,6954.0,6954.0,6953.0,6953.0,6953.0,6952.0,6952.0,6951.0,6951.0,6951.0,6951.0,6950.0,6950.0,6950.0,6949.0,6949.0,6949.0,6949.0,6948.0,6948.0,6948.0,6948.0,6948.0,6948.0,6947.0,6947.0,6946.0,6946.0,6946.0,6945.0,6945.0,6945.0,6945.0,6945.0,6945.0,6944.0,6944.0,6944.0,6943.0,6943.0,6943.0,6943.0,6942.0,6942.0,6942.0,6941.0,6941.0,6939.0,6939.0,6938.0,6938.0,6937.0,6937.0,6936.0,6936.0,6935.0,6935.0,6935.0,6934.0,6933.0,6933.0,6932.0,6931.0,6931.0,6930.0,6930.0,6930.0,6929.0,6929.0,6929.0,6929.0,6928.0,6928.0,6928.0,6927.0,6927.0,6927.0,6927.0,6926.0,6926.0,6926.0,6925.0,6925.0,6925.0,6924.0,6923.0,6923.0,6923.0,6923.0,6923.0,6923.0,6923.0,6923.0,6922.0,6922.0,6921.0,6921.0,6921.0,6920.0,6920.0,6920.0,6919.0,6919.0,6919.0,6918.0,6918.0,6918.0,6918.0,6918.0,6917.0,6917.0,6916.0,6915.0,6915.0,6915.0,6915.0,6915.0,6913.0,6913.0,6913.0,6912.0,6912.0,6912.0,6912.0,6911.0,6911.0,6911.0,6910.0,6910.0,6910.0,6909.0,6909.0,6909.0,6908.0,6908.0,6908.0,6908.0,6907.0,6907.0,6907.0,6906.0,6905.0,6904.0,6904.0,6903.0,6903.0,6903.0,6902.0,6902.0,6902.0,6901.0,6901.0,6901.0,6900.0,6900.0,6900.0,6899.0,6899.0,6899.0,6899.0,6899.0,6899.0,6898.0,6898.0,6897.0,6895.0,6895.0,6894.0,6894.0,6894.0,6893.0,6893.0,6892.0,6892.0,6892.0,6891.0,6891.0,6890.0,6890.0,6890.0,6890.0,6889.0,6889.0,6888.0,6888.0,6886.0,6886.0,6886.0,6886.0,6885.0,6885.0,6884.0,6883.0,6883.0,6882.0,6882.0,6882.0,6881.0,6881.0,6881.0,6880.0,6880.0,6880.0,6880.0,6879.0,6878.0,6878.0,6878.0,6877.0,6877.0,6877.0,6877.0,6877.0,6876.0,6876.0,6875.0,6875.0,6874.0,6873.0,6873.0,6873.0,6873.0,6872.0,6872.0,6872.0,6871.0,6870.0,6870.0,6870.0,6870.0,6870.0,6870.0,6868.0,6868.0,6868.0,6866.0,6866.0,6866.0,6865.0,6865.0,6865.0,6864.0,6864.0,6863.0,6862.0,6862.0,6862.0,6862.0,6861.0,6861.0,6861.0,6861.0,6860.0,6860.0,6860.0,6860.0,6858.0,6858.0,6858.0,6857.0,6856.0,6856.0,6856.0,6855.0,6855.0,6855.0,6853.0,6853.0,6853.0,6853.0,6853.0,6852.0,6839.0,6835.0,6833.0,6830.0,6788.0,6778.0,6766.0,6751.0,6738.0,6735.0,6721.0,6719.0,6702.0,6682.0,6675.0,6671.0,6670.0,6666.0,6644.0,6631.0,6595.0,6595.0,6590.0,6572.0,6570.0,6548.0,6533.0,6531.0,6522.0,6480.0,6464.0,6463.0,6463.0,6451.0,6446.0,6422.0,6421.0,6393.0,6356.0,6350.0,6204.0,6204.0,6203.0,6203.0,6203.0,6202.0,6202.0,6202.0,6197.0,6197.0,6196.0,6196.0,6195.0,6193.0,6192.0,6190.0,6189.0,6189.0,6189.0,6189.0,6188.0,6187.0,6187.0,6184.0,6184.0,6183.0,6182.0,6181.0,6180.0,6180.0,6180.0,6180.0,6179.0,6179.0,6178.0,6178.0,6178.0,6178.0,6177.0,6176.0,6173.0,6172.0,6171.0,6171.0,6171.0,6170.0,6170.0,6170.0,6168.0,6168.0,6168.0,6167.0,6167.0,6167.0,6167.0,6166.0,6164.0,6163.0,6162.0,6162.0,6162.0,6162.0,6161.0,6161.0,6160.0,6160.0,6160.0,6159.0,6158.0,6158.0,6158.0,6158.0,6158.0,6157.0,6157.0,6156.0,6156.0,6156.0,6155.0,6155.0,6155.0,6154.0,6154.0,6151.0,6150.0,6150.0,6150.0,6148.0,6148.0,6146.0,6144.0,6144.0,6144.0,6143.0,6143.0,6142.0,6142.0,6142.0,6140.0,6138.0,6137.0,6136.0,6136.0,6135.0,6135.0,6134.0,6134.0,6134.0,6133.0,6133.0,6133.0,6132.0,6131.0,6131.0,6130.0,6130.0,6128.0,6127.0,6127.0,6126.0,6126.0,6126.0,6125.0,6125.0,6125.0,6124.0,6124.0,6124.0,6122.0,6122.0,6122.0,6122.0,6120.0,6120.0,6119.0,6118.0,6118.0,6118.0,6117.0,6117.0,6117.0,6117.0,6116.0,6116.0,6115.0,6115.0,6115.0,6115.0,6114.0,6114.0,6112.0,6111.0,6111.0,6110.0,6110.0,6107.0,6107.0,6106.0,6105.0,6105.0,6104.0,6103.0,6102.0,6102.0,6102.0,6102.0,6100.0,6100.0,6100.0,6099.0,6099.0,6099.0,6099.0,6098.0,6098.0,6097.0,6097.0,6097.0,6097.0,6097.0,6096.0,6096.0,6096.0,6094.0,6094.0,6092.0,6091.0,6091.0,6089.0,6088.0,6088.0,6087.0,6087.0,6087.0,6086.0,6086.0,6086.0,6084.0,6084.0,6083.0,6083.0,6082.0,6080.0,6080.0,6078.0,6078.0,6077.0,6077.0,6076.0,6074.0,6074.0,6074.0,6073.0,6072.0,6070.0,6070.0,6069.0,6069.0,6069.0,6068.0,6067.0,6067.0,6066.0,6066.0,6066.0,6066.0,6065.0,6063.0,6063.0,6062.0,6062.0,6061.0,6061.0,6060.0,6060.0,6060.0,6060.0,6060.0,6059.0,6058.0,6057.0,6057.0,6055.0,6055.0,6055.0,6054.0,6054.0,6054.0,6053.0,6052.0,6051.0,6049.0,6049.0,6048.0,6048.0,6048.0,6048.0,6048.0,6047.0,6047.0,6046.0,6046.0,6045.0,6045.0,6045.0,6044.0,6044.0,6044.0,6043.0,6042.0,6041.0,6040.0,6040.0,6039.0,6039.0,6037.0,6037.0,6035.0,6035.0,6035.0,6035.0,6034.0,6033.0,6033.0,6033.0,6032.0,6031.0,6031.0,6031.0,6029.0,6029.0,6027.0,6027.0,6026.0,6026.0,6026.0,6026.0,6025.0,6023.0,6023.0,6023.0,6022.0,6021.0,6021.0,6020.0,6019.0,6019.0,6018.0,6018.0,6018.0,6018.0,6018.0,6018.0,6018.0,6017.0,6017.0,6017.0,6016.0,6016.0,6016.0,6015.0,6015.0,6014.0,6013.0,6013.0,6013.0,6013.0,6012.0,6012.0,6011.0,6010.0,6010.0,6010.0,6009.0,6008.0,6008.0,6007.0,6005.0,6005.0,6005.0,6004.0,6004.0,6003.0,6003.0,6001.0,6001.0,5998.0,5998.0,5997.0,5996.0,5995.0,5995.0,5994.0,5993.0,5992.0,5990.0,5989.0,5988.0,5987.0,5986.0,5985.0,5983.0,5983.0,5979.0,5979.0,5978.0,5978.0,5977.0,5977.0,5976.0,5975.0,5975.0,5975.0,5974.0,5974.0,5974.0,5974.0,5973.0,5973.0,5973.0,5972.0,5972.0,5972.0,5971.0,5971.0,5971.0,5971.0,5971.0,5970.0,5970.0,5969.0,5969.0,5969.0,5969.0,5967.0,5967.0,5967.0,5967.0,5966.0,5965.0,5965.0,5962.0,5962.0,5961.0,5960.0,5959.0,5959.0,5959.0,5957.0,5957.0,5957.0,5956.0,5955.0,5955.0,5954.0,5952.0,5951.0,5951.0,5950.0,5949.0,5948.0,5947.0,5946.0,5945.0,5943.0,5943.0,5943.0,5941.0,5941.0,5941.0,5940.0,5940.0,5940.0,5940.0,5939.0,5939.0,5939.0,5939.0,5938.0,5937.0,5937.0,5936.0,5936.0,5935.0,5934.0,5934.0,5934.0,5933.0,5933.0,5932.0,5932.0,5931.0,5930.0,5930.0,5930.0,5930.0,5929.0,5929.0,5929.0,5927.0,5926.0,5926.0,5925.0,5925.0,5925.0,5924.0,5923.0,5920.0,5920.0,5920.0,5920.0,5919.0,5919.0,5919.0,5918.0,5918.0,5918.0,5918.0,5917.0,5917.0,5917.0,5916.0,5915.0,5914.0,5914.0,5914.0,5913.0,5913.0,5913.0,5911.0,5910.0,5910.0,5910.0,5908.0,5908.0,5908.0,5907.0,5907.0,5907.0,5906.0,5906.0,5905.0,5905.0,5905.0,5903.0,5902.0,5902.0,5901.0,5901.0,5900.0,5899.0,5898.0,5898.0,5898.0,5896.0,5896.0,5896.0,5896.0,5896.0,5895.0,5895.0,5892.0,5892.0,5891.0,5891.0,5891.0,5890.0,5890.0,5889.0,5888.0,5888.0,5887.0,5886.0,5884.0,5883.0,5882.0,5880.0,5878.0,5877.0,5877.0,5877.0,5876.0,5876.0,5876.0,5876.0,5875.0,5875.0,5875.0,5875.0,5875.0,5873.0,5872.0,5871.0,5871.0,5871.0,5871.0,5871.0,5870.0,5869.0,5868.0,5865.0,5865.0,5864.0,5863.0,5863.0,5863.0,5862.0,5861.0,5861.0,5859.0,5859.0,5858.0,5858.0,5857.0,5856.0,5855.0,5854.0,5853.0,5853.0,5852.0,5850.0,5850.0,5849.0,5849.0,5849.0,5848.0,5848.0,5848.0,5847.0,5847.0,5846.0,5845.0,5845.0,5845.0,5845.0,5845.0,5845.0,5844.0,5844.0,5843.0,5843.0,5843.0,5842.0,5842.0,5840.0,5840.0,5839.0,5835.0,5835.0,5834.0,5831.0,5830.0,5829.0,5829.0,5828.0,5828.0,5828.0,5826.0,5825.0,5823.0,5823.0,5822.0,5822.0,5821.0,5821.0,5821.0,5821.0,5819.0,5819.0,5757.0,5738.0,5717.0,5707.0,5680.0,5665.0,5651.0,5619.0,5541.0,5530.0,5526.0,5514.0,5511.0,5504.0,5499.0,5481.0,5481.0,5481.0,5481.0,5481.0,5480.0,5480.0,5479.0,5479.0,5479.0,5478.0,5477.0,5477.0,5476.0,5475.0,5474.0,5474.0,5474.0,5474.0,5473.0,5472.0,5470.0,5469.0,5469.0,5468.0,5467.0,5467.0,5466.0,5465.0,5465.0,5464.0,5464.0,5463.0,5463.0,5463.0,5463.0,5462.0,5461.0,5461.0,5461.0,5460.0,5460.0,5459.0,5459.0,5458.0,5457.0,5457.0,5457.0,5456.0,5456.0,5456.0,5455.0,5455.0,5453.0,5453.0,5452.0,5451.0,5451.0,5450.0,5450.0,5450.0,5450.0,5450.0,5449.0,5449.0,5448.0,5446.0,5446.0,5446.0,5445.0,5445.0,5445.0,5445.0,5444.0,5444.0,5444.0,5443.0,5443.0,5443.0,5443.0,5443.0,5442.0,5442.0,5442.0,5441.0,5441.0,5440.0,5440.0,5440.0,5440.0,5439.0,5438.0,5438.0,5438.0,5438.0,5437.0,5436.0,5436.0,5436.0,5436.0,5435.0,5435.0,5435.0,5435.0,5435.0,5435.0,5435.0,5434.0,5433.0,5432.0,5432.0,5432.0,5432.0,5431.0,5431.0,5430.0,5430.0,5428.0,5428.0,5428.0,5428.0,5427.0,5427.0,5426.0,5425.0,5424.0,5424.0,5423.0,5422.0,5422.0,5422.0,5421.0,5421.0,5420.0,5420.0,5419.0,5419.0,5419.0,5418.0,5417.0,5416.0,5416.0,5415.0,5415.0,5414.0,5414.0,5414.0,5413.0,5412.0,5412.0,5411.0,5410.0,5410.0,5410.0,5409.0,5409.0,5409.0,5409.0,5409.0,5408.0,5408.0,5408.0,5408.0,5408.0,5408.0,5407.0,5407.0,5406.0,5406.0,5406.0,5406.0,5405.0,5405.0,5404.0,5403.0,5402.0,5401.0,5401.0,5401.0,5401.0,5401.0,5400.0,5397.0,5397.0,5397.0,5396.0,5396.0,5396.0,5396.0,5394.0,5394.0,5393.0,5391.0,5391.0,5390.0,5390.0,5390.0,5389.0,5389.0,5389.0,5389.0,5388.0,5388.0,5388.0,5388.0,5388.0,5387.0,5387.0,5387.0,5387.0,5387.0,5386.0,5385.0,5385.0,5385.0,5385.0,5385.0,5384.0,5384.0,5384.0,5383.0,5382.0,5381.0,5381.0,5381.0,5380.0,5379.0,5379.0,5378.0,5377.0,5377.0,5377.0,5377.0,5376.0,5376.0,5376.0,5375.0,5375.0,5375.0,5374.0,5374.0,5373.0,5372.0,5370.0,5370.0,5369.0,5369.0,5368.0,5367.0,5366.0,5366.0,5366.0,5365.0,5364.0,5363.0,5362.0,5362.0,5362.0,5361.0,5361.0,5361.0,5361.0,5360.0,5359.0,5359.0,5358.0,5356.0,5356.0,5354.0,5353.0,5352.0,5351.0,5351.0,5351.0,5350.0,5349.0,5349.0,5349.0,5349.0,5349.0,5349.0,5349.0,5348.0,5348.0,5346.0,5346.0,5345.0,5345.0,5345.0,5345.0,5344.0,5343.0,5342.0,5342.0,5342.0,5342.0,5342.0,5340.0,5339.0,5339.0,5338.0,5337.0,5336.0,5336.0,5335.0,5335.0,5333.0,5333.0,5332.0,5332.0,5332.0,5332.0,5332.0,5331.0,5330.0,5330.0,5329.0,5328.0,5328.0,5327.0,5327.0,5326.0,5326.0,5326.0,5326.0,5326.0,5326.0,5325.0,5324.0,5324.0,5323.0,5323.0,5322.0,5322.0,5322.0,5321.0,5321.0,5320.0,5319.0,5318.0,5318.0,5317.0,5317.0,5317.0,5316.0,5315.0,5314.0,5313.0,5313.0,5313.0,5313.0,5312.0,5311.0,5311.0,5310.0,5310.0,5309.0,5309.0,5308.0,5308.0,5308.0,5307.0,5307.0,5306.0,5306.0,5305.0,5305.0,5304.0,5304.0,5303.0,5303.0,5303.0,5303.0,5302.0,5299.0,5299.0,5298.0,5297.0,5297.0,5297.0,5296.0,5296.0,5295.0,5295.0,5295.0,5295.0,5294.0,5293.0,5292.0,5292.0,5291.0,5291.0,5290.0,5290.0,5289.0,5289.0,5289.0,5288.0,5288.0,5288.0,5287.0,5286.0,5286.0,5285.0,5285.0,5284.0,5283.0,5283.0,5282.0,5281.0,5281.0,5281.0,5281.0,5280.0,5280.0,5279.0,5278.0,5278.0,5277.0,5277.0,5277.0,5277.0,5276.0,5276.0,5275.0,5275.0,5275.0,5274.0,5273.0,5273.0,5272.0,5271.0,5271.0,5271.0,5271.0,5271.0,5271.0,5271.0,5270.0,5270.0,5270.0,5269.0,5269.0,5269.0,5269.0,5268.0,5268.0,5268.0,5268.0,5264.0,5263.0,5261.0,5261.0,5261.0,5260.0,5259.0,5259.0,5259.0,5259.0,5258.0,5258.0,5258.0,5257.0,5257.0,5256.0,5255.0,5255.0,5255.0,5254.0,5254.0,5254.0,5253.0,5252.0,5252.0,5251.0,5251.0,5251.0,5250.0,5250.0,5249.0,5249.0,5249.0,5248.0,5247.0,5247.0,5247.0,5246.0,5246.0,5246.0,5246.0,5246.0,5245.0,5244.0,5242.0,5242.0,5242.0,5241.0,5241.0,5241.0,5241.0,5240.0,5240.0,5240.0,5239.0,5239.0,5239.0,5239.0,5238.0,5238.0,5237.0,5235.0,5235.0,5235.0,5235.0,5234.0,5234.0,5234.0,5233.0,5233.0,5233.0,5232.0,5232.0,5232.0,5232.0,5230.0,5230.0,5229.0,5227.0,5227.0,5226.0,5226.0,5226.0,5225.0,5225.0,5225.0,5223.0,5223.0,5222.0,5222.0,5222.0,5220.0,5220.0,5219.0,5219.0,5219.0,5219.0,5215.0,5215.0,5215.0,5214.0,5214.0,5214.0,5214.0,5214.0,5212.0,5212.0,5211.0,5210.0,5210.0,5210.0,5209.0,5209.0,5209.0,5209.0,5209.0,5209.0,5208.0,5208.0,5208.0,5208.0,5207.0,5207.0,5206.0,5206.0,5205.0,5204.0,5202.0,5202.0,5202.0,5202.0,5201.0,5201.0,5201.0,5200.0,5199.0,5198.0,5198.0,5198.0,5198.0,5198.0,5195.0,5195.0,5195.0,5194.0,5194.0,5193.0,5192.0,5192.0,5190.0,5190.0,5190.0,5189.0,5189.0,5188.0,5188.0,5186.0,5186.0,5185.0,5185.0,5185.0,5182.0,5182.0,5182.0,5182.0,5181.0,5178.0,5178.0,5178.0,5178.0,5177.0,5177.0,5177.0,5176.0,5174.0,5174.0,5174.0,5173.0,5173.0,5173.0,5172.0,5172.0,5172.0,5171.0,5171.0,5170.0,5170.0,5169.0,5169.0,5169.0,5168.0,5167.0,5167.0,5166.0,5166.0,5165.0,5165.0,5165.0,5165.0,5164.0,5162.0,5161.0,5159.0,5159.0,5159.0,5158.0,5158.0,5158.0,5158.0,5158.0,5158.0,5158.0,5157.0,5157.0,5157.0,5157.0,5157.0,5155.0,5155.0,5153.0,5151.0,5150.0,5150.0,5149.0,5149.0,5149.0,5149.0,5149.0,5148.0,5147.0,5147.0,5147.0,5146.0,5146.0,5146.0,5145.0,5145.0,5144.0,5143.0,5143.0,5142.0,5142.0,5140.0,5140.0,5139.0,5139.0,5139.0,5137.0,4922.0,4905.0,4839.0,4822.0,4819.0,4810.0,4784.0,4774.0,4771.0,4768.0,4764.0,4763.0,4751.0,4733.0,4729.0,4727.0,4710.0,4708.0,4707.0,4702.0,4702.0,4697.0,4696.0,4693.0,4692.0,4691.0,4691.0,4690.0,4690.0,4689.0,4685.0,4670.0,4669.0,4665.0,4664.0,4662.0,4661.0,4659.0,4658.0,4654.0,4651.0,4649.0,4646.0,4642.0,4642.0,4642.0,4640.0,4639.0,4636.0,4636.0,4635.0,4635.0,4634.0,4634.0,4634.0,4632.0,4629.0,4628.0,4620.0,4615.0,4610.0,4610.0,4609.0,4608.0,4605.0,4604.0,4603.0,4603.0,4602.0,4602.0,4602.0,4600.0,4598.0,4596.0,4595.0,4595.0,4592.0,4591.0,4589.0,4588.0,4588.0,4586.0,4586.0,4584.0,4584.0,4582.0,4581.0,4580.0,4577.0,4574.0,4571.0,4570.0,4569.0,4569.0,4567.0,4565.0,4564.0,4561.0,4560.0,4559.0,4558.0,4553.0,4553.0,4552.0,4548.0,4545.0,4545.0,4541.0,4540.0,4538.0,4536.0,4533.0,4532.0,4527.0,4524.0,4524.0,4523.0,4522.0,4519.0,4519.0,4518.0,4518.0,4518.0,4517.0,4515.0,4515.0,4515.0,4514.0,4514.0,4513.0,4513.0,4510.0,4509.0,4507.0,4506.0,4506.0,4506.0,4502.0,4502.0,4501.0,4500.0,4498.0,4497.0,4497.0,4497.0,4494.0,4494.0,4492.0,4491.0,4490.0,4488.0,4488.0,4487.0,4487.0,4486.0,4486.0,4484.0,4482.0,4480.0,4479.0,4479.0,4478.0,4476.0,4475.0,4474.0,4473.0,4473.0,4472.0,4470.0,4468.0,4467.0,4467.0,4466.0,4464.0,4463.0,4462.0,4460.0,4459.0,4459.0,4452.0,4451.0,4450.0,4448.0,4444.0,4443.0,4443.0,4443.0,4441.0,4441.0,4441.0,4440.0,4439.0,4438.0,4436.0,4431.0,4430.0,4428.0,4428.0,4426.0,4423.0,4421.0,4409.0,4405.0,4402.0,4399.0,4397.0,4392.0,4391.0,4380.0,4380.0,4372.0,4365.0,4365.0,4358.0,4350.0,4347.0,4344.0,4342.0,4332.0,4325.0,4322.0,4317.0,4311.0,4303.0,4299.0,4298.0,4296.0,4294.0,4293.0,4293.0,4293.0,4290.0,4286.0,4284.0,4282.0,4278.0,4277.0,4276.0,4276.0,4276.0,4273.0,4272.0,4269.0,4268.0,4265.0,4263.0,4262.0,4262.0,4261.0,4259.0,4251.0,4251.0,4250.0,4250.0,4248.0,4247.0,4245.0,4242.0,4240.0,4236.0,4235.0,4235.0,4234.0,4234.0,4233.0,4233.0,4233.0,4232.0,4230.0,4229.0,4228.0,4228.0,4228.0,4227.0,4227.0,4227.0,4224.0,4220.0,4217.0,4214.0,4214.0,4214.0,4213.0,4211.0,4210.0,4209.0,4208.0,4208.0,4204.0,4204.0,4204.0,4203.0,4202.0,4201.0,4201.0,4201.0,4199.0,4199.0,4194.0,4192.0,4192.0,4192.0,4192.0,4191.0,4191.0,4191.0,4190.0,4190.0,4189.0,4188.0,4188.0,4187.0,4186.0,4186.0,4184.0,4184.0,4179.0,4178.0,4178.0,4178.0,4178.0,4178.0,4177.0,4177.0,4175.0,4174.0,4174.0,4172.0,4171.0,4171.0,4169.0,4169.0,4166.0,4164.0,4164.0,4161.0,4160.0,4159.0,4157.0,4156.0,4154.0,4154.0,4154.0,4153.0,4150.0,4150.0,4149.0,4147.0,4144.0,4144.0,4143.0,4143.0,4142.0,4139.0,4138.0,4135.0,4133.0,4133.0,4128.0,4128.0,4127.0,4127.0,4125.0,4124.0,4123.0,4123.0,4122.0,4119.0,4118.0,4118.0,4115.0,4113.0,4112.0,4111.0,4110.0,4109.0,4108.0,4107.0,4105.0,4105.0,4105.0,4103.0,4103.0,4102.0,4101.0,4092.0,4089.0,4088.0,4086.0,4086.0,4086.0,4085.0,4085.0,4085.0,4084.0,4084.0,4083.0,4082.0,4081.0,4081.0,4079.0,4078.0,4076.0,4075.0,4074.0,4074.0,4063.0,4061.0,4061.0,4061.0,4061.0,4060.0,4059.0,4058.0,4056.0,4056.0,4056.0,4054.0,4050.0,4050.0,4050.0,4050.0,4050.0,4049.0,4049.0,4049.0,4048.0,4046.0,4046.0,4044.0,4044.0,4044.0,4042.0,4041.0,4039.0,4036.0,4035.0,4034.0,4033.0,4033.0,4030.0,4028.0,4028.0,4023.0,4022.0,4016.0,4014.0,4013.0,4012.0,4008.0,4007.0,4005.0,4003.0,4003.0,4000.0,3997.0,3996.0,3994.0,3992.0,3991.0,3988.0,3987.0,3987.0,3987.0,3985.0,3984.0,3982.0,3980.0,3977.0,3977.0,3975.0,3975.0,3971.0,3970.0,3969.0,3969.0,3969.0,3967.0,3967.0,3966.0,3965.0,3965.0,3964.0,3963.0,3961.0,3960.0,3960.0,3956.0,3956.0,3948.0,3947.0,3947.0,3942.0,3942.0,3942.0,3935.0,3934.0,3933.0,3933.0,3932.0,3928.0,3928.0,3927.0,3927.0,3925.0,3924.0,3923.0,3920.0,3918.0,3918.0,3911.0,3910.0,3910.0,3908.0,3905.0,3903.0,3900.0,3900.0,3898.0,3897.0,3896.0,3895.0,3894.0,3894.0,3893.0,3892.0,3892.0,3891.0,3890.0,3890.0,3890.0,3890.0,3890.0,3889.0,3889.0,3888.0,3887.0,3887.0,3887.0,3887.0,3887.0,3886.0,3885.0,3884.0,3883.0,3883.0,3881.0,3881.0,3879.0,3878.0,3878.0,3878.0,3878.0,3878.0,3877.0,3876.0,3875.0,3873.0,3872.0,3872.0,3872.0,3872.0,3869.0,3869.0,3869.0,3868.0,3867.0,3866.0,3866.0,3865.0,3865.0,3864.0,3864.0,3863.0,3862.0,3862.0,3862.0,3861.0,3860.0,3858.0,3858.0,3857.0,3857.0,3854.0,3851.0,3851.0,3850.0,3849.0,3848.0,3848.0,3847.0,3843.0,3843.0,3841.0,3840.0,3840.0,3839.0,3839.0,3839.0,3839.0,3838.0,3837.0,3835.0,3834.0,3831.0,3830.0,3828.0,3827.0,3825.0,3825.0,3824.0,3822.0,3822.0,3821.0,3821.0,3821.0,3820.0,3820.0,3819.0,3817.0,3816.0,3815.0,3815.0,3814.0,3814.0,3813.0,3812.0,3812.0,3811.0,3810.0,3810.0,3810.0,3805.0,3804.0,3803.0,3801.0,3800.0,3800.0,3800.0,3799.0,3799.0,3799.0,3798.0,3795.0,3795.0,3794.0,3794.0,3794.0,3792.0,3791.0,3791.0,3791.0,3790.0,3790.0,3790.0,3790.0,3790.0,3789.0,3787.0,3786.0,3785.0,3784.0,3784.0,3782.0,3779.0,3779.0,3779.0,3778.0,3777.0,3777.0,3776.0,3775.0,3774.0,3774.0,3774.0,3772.0,3772.0,3770.0,3770.0,3768.0,3768.0,3768.0,3768.0,3767.0,3767.0,3767.0,3767.0,3767.0,3767.0,3766.0,3766.0,3765.0,3764.0,3763.0,3762.0,3762.0,3760.0,3760.0,3760.0,3760.0,3760.0,3760.0,3759.0,3757.0,3757.0,3756.0,3756.0,3755.0,3754.0,3754.0,3753.0,3753.0,3753.0,3753.0,3752.0,3750.0,3750.0,3750.0,3749.0,3749.0,3747.0,3746.0,3743.0,3742.0,3741.0,3740.0,3739.0,3738.0,3736.0,3734.0,3732.0,3730.0,3730.0,3729.0,3729.0,3728.0,3728.0,3728.0,3728.0,3728.0,3727.0,3726.0,3725.0,3724.0,3724.0,3724.0,3721.0,3719.0,3716.0,3716.0,3714.0,3714.0,3714.0,3711.0,3709.0,3709.0,3709.0,3709.0,3707.0,3706.0,3705.0,3704.0,3703.0,3701.0,3700.0,3699.0,3699.0,3698.0,3697.0,3697.0,3696.0,3695.0,3695.0,3694.0,3693.0,3693.0,3693.0,3692.0,3692.0,3692.0,3692.0,3692.0,3679.0,3677.0,3677.0,3677.0,3676.0,3674.0,3673.0,3673.0,3673.0,3672.0,3672.0,3671.0,3671.0,3670.0,3669.0,3669.0,3668.0,3668.0,3668.0,3667.0,3667.0,3664.0,3663.0,3661.0,3660.0,3660.0,3659.0,3659.0,3658.0,3657.0,3657.0,3657.0,3656.0,3654.0,3653.0,3652.0,3652.0,3651.0,3651.0,3650.0,3650.0,3649.0,3648.0,3647.0,3646.0,3645.0,3645.0,3645.0,3644.0,3644.0,3643.0,3643.0,3643.0,3643.0,3643.0,3639.0,3639.0,3637.0,3634.0,3634.0,3634.0,3633.0,3633.0,3632.0,3631.0,3630.0,3630.0,3629.0,3629.0,3628.0,3627.0,3626.0,3624.0,3623.0,3623.0,3623.0,3622.0,3618.0,3617.0,3616.0,3616.0,3614.0,3613.0,3611.0,3610.0,3610.0,3607.0,3607.0,3607.0,3605.0,3603.0,3603.0,3603.0,3602.0,3602.0,3600.0,3600.0,3598.0,3598.0,3597.0,3597.0,3595.0,3594.0,3593.0,3592.0,3589.0,3589.0,3588.0,3588.0,3586.0,3585.0,3583.0,3583.0,3581.0,3579.0,3579.0,3578.0,3578.0,3577.0,3573.0,3573.0,3572.0,3572.0,3571.0,3571.0,3570.0,3570.0,3570.0,3565.0,3565.0,3565.0,3565.0,3563.0,3562.0,3561.0,3560.0,3559.0,3559.0,3558.0,3557.0,3557.0,3557.0,3555.0,3554.0,3552.0,3551.0,3551.0,3550.0,3550.0,3548.0,3547.0,3545.0,3544.0,3538.0,3536.0,3534.0,3533.0,3530.0,3527.0,3525.0,3525.0,3524.0,3523.0,3522.0,3521.0,3520.0,3519.0,3519.0,3519.0,3518.0,3516.0,3516.0,3515.0,3513.0,3511.0,3511.0,3511.0,3511.0,3511.0,3509.0,3509.0,3509.0,3507.0,3507.0,3506.0,3506.0,3505.0,3505.0,3503.0,3501.0,3501.0,3500.0,3499.0,3496.0,3496.0,3495.0,3495.0,3495.0,3491.0,3488.0,3488.0,3487.0,3487.0,3486.0,3485.0,3485.0,3482.0,3480.0,3480.0,3478.0,3478.0,3478.0,3477.0,3477.0,3472.0,3472.0,3471.0,3471.0,3468.0,3467.0,3465.0,3464.0,3462.0,3462.0,3462.0,3461.0,3459.0,3459.0,3455.0,3451.0,3450.0,3448.0,3448.0,3447.0,3447.0,3446.0,3445.0,3445.0,3445.0,3444.0,3441.0,3439.0,3439.0,3439.0,3439.0,3439.0,3439.0,3436.0,3435.0,3434.0,3434.0,3433.0,3432.0,3432.0,3431.0,3431.0,3430.0,3429.0,3429.0,3428.0,3427.0,3426.0,3426.0,3425.0,3423.0,3423.0,3420.0,3358.0,3354.0,3303.0,3271.0,3266.0,3235.0,3234.0,3229.0,3228.0,3228.0,3207.0,3205.0,3201.0,3200.0,3199.0,3197.0,3194.0,3189.0,3189.0,3185.0,3185.0,3180.0,3178.0,3171.0,3162.0,3160.0,3157.0,3157.0,3155.0,3150.0,3150.0,3150.0,3149.0,3148.0,3148.0,3147.0,3146.0,3146.0,3144.0,3144.0,3144.0,3143.0,3143.0,3142.0,3141.0,3139.0,3138.0,3137.0,3136.0,3135.0,3134.0,3134.0,3134.0,3134.0,3133.0,3133.0,3132.0,3131.0,3130.0,3129.0,3129.0,3128.0,3128.0,3128.0,3128.0,3127.0,3127.0,3127.0,3127.0,3126.0,3126.0,3126.0,3125.0,3125.0,3124.0,3124.0,3124.0,3123.0,3121.0,3121.0,3121.0,3121.0,3121.0,3120.0,3120.0,3120.0,3119.0,3119.0,3119.0,3119.0,3118.0,3118.0,3117.0,3116.0,3116.0,3115.0,3115.0,3115.0,3114.0,3114.0,3114.0,3112.0,3111.0,3110.0,3110.0,3110.0,3109.0,3109.0,3109.0,3108.0,3108.0,3107.0,3107.0,3106.0,3104.0,3104.0,3103.0,3103.0,3102.0,3102.0,3101.0,3100.0,3100.0,3098.0,3098.0,3097.0,3095.0,3095.0,3095.0,3094.0,3094.0,3094.0,3092.0,3091.0,3090.0,3090.0,3090.0,3089.0,3089.0,3088.0,3087.0,3087.0,3086.0,3086.0,3086.0,3086.0,3084.0,3083.0,3082.0,3082.0,3079.0,3078.0,3078.0,3076.0,3075.0,3075.0,3074.0,3074.0,3073.0,3073.0,3073.0,3072.0,3071.0,3071.0,3071.0,3071.0,3070.0,3069.0,3068.0,3066.0,3065.0,3065.0,3065.0,3064.0,3062.0,3062.0,3061.0,3061.0,3061.0,3061.0,3060.0,3058.0,3057.0,3057.0,3056.0,3056.0,3056.0,3054.0,3054.0,3053.0,3053.0,3053.0,3052.0,3051.0,3051.0,3051.0,3050.0,3049.0,3049.0,3048.0,3047.0,3046.0,3045.0,3044.0,3044.0,3044.0,3043.0,3043.0,3043.0,3042.0,3042.0,3042.0,3042.0,3040.0,3040.0,3039.0,3039.0,3039.0,3038.0,3037.0,3037.0,3037.0,3036.0,3035.0,3035.0,3034.0,3034.0,3033.0,3033.0,3033.0,3033.0,3032.0,3031.0,3030.0,3030.0,3030.0,3029.0,3029.0,3028.0,3025.0,3025.0,3023.0,3023.0,3023.0,3022.0,3022.0,3022.0,3021.0,3020.0,3019.0,3019.0,3019.0,3019.0,3018.0,3017.0,3017.0,3017.0,3016.0,3016.0,3016.0,3014.0,3013.0,3012.0,3010.0,3009.0,3009.0,3009.0,3009.0,3009.0,3009.0,3008.0,3008.0,3007.0,3007.0,3006.0,3006.0,3005.0,3005.0,3005.0,3004.0,3003.0,3003.0,3001.0,3001.0,3001.0,3000.0,3000.0,2994.0,2989.0,2988.0,2987.0,2982.0,2979.0,2977.0,2972.0,2969.0,2960.0,2957.0,2955.0,2952.0,2948.0,2943.0,2897.0,2872.0,2869.0,2867.0,2860.0,2859.0,2857.0,2853.0,2851.0,2850.0,2846.0,2844.0,2844.0,2839.0,2839.0,2839.0,2836.0,2835.0,2833.0,2831.0,2830.0,2826.0,2826.0,2825.0,2825.0,2824.0,2817.0,2815.0,2813.0,2811.0,2811.0,2808.0,2805.0,2801.0,2801.0,2801.0,2798.0,2798.0,2792.0,2790.0,2790.0,2789.0,2787.0,2786.0,2786.0,2786.0,2782.0,2782.0,2782.0,2781.0,2781.0,2779.0,2771.0,2766.0,2765.0,2763.0,2762.0,2754.0,2751.0,2748.0,2747.0,2746.0,2746.0,2743.0,2742.0,2740.0,2739.0,2737.0,2733.0,2700.0,2400.0,2397.0,2397.0,2396.0,2396.0,2395.0,2395.0,2394.0,2393.0,2392.0,2392.0,2390.0,2389.0,2389.0,2388.0,2388.0,2386.0,2384.0,2384.0,2383.0,2383.0,2382.0,2382.0,2381.0,2380.0,2379.0,2378.0,2375.0,2375.0,2373.0,2372.0,2372.0,2372.0,2371.0,2370.0,2370.0,2368.0,2367.0,2367.0,2367.0,2363.0,2362.0,2361.0,2361.0,2360.0,2360.0,2360.0,2359.0,2358.0,2356.0,2355.0,2354.0,2354.0,2353.0,2352.0,2350.0,2350.0,2349.0,2347.0,2346.0,2345.0,2340.0,2339.0,2339.0,2338.0,2336.0,2334.0,2333.0,2332.0,2330.0,2327.0,2326.0,2324.0,2324.0,2323.0,2322.0,2320.0,2320.0,2318.0,2313.0,2313.0,2312.0,2312.0,2312.0,2312.0,2311.0,2309.0,2308.0,2307.0,2305.0,2304.0,2304.0,2304.0,2304.0,2304.0,2303.0,2303.0,2302.0,2302.0,2301.0,2301.0,2299.0,2298.0,2293.0,2292.0,2290.0,2288.0,2281.0,2280.0,2280.0,2280.0,2280.0,2277.0,2276.0,2275.0,2275.0,2274.0,2274.0,2273.0,2273.0,2272.0,2272.0,2271.0,2271.0,2267.0,2267.0,2266.0,2264.0,2261.0,2260.0,2257.0,2256.0,2256.0,2256.0,2256.0,2254.0,2252.0,2250.0,2245.0,2245.0,2243.0,2230.0,2217.0,2217.0,2216.0,2211.0,2195.0,2188.0,2187.0,2184.0,2183.0,2183.0,2183.0,2180.0,2180.0,2180.0,2178.0,2177.0,2176.0,2175.0,2173.0,2171.0,2167.0,2165.0,2163.0,2163.0,2162.0,2160.0,2160.0,2159.0,2159.0,2157.0,2152.0,2150.0,2149.0,2148.0,2148.0,2148.0,2147.0,2147.0,2146.0,2145.0,2144.0,2143.0,2140.0,2139.0,2139.0,2138.0,2133.0,2131.0,2130.0,2130.0,2130.0,2129.0,2128.0,2126.0,2124.0,2123.0,2120.0,2119.0,2118.0,2116.0,2114.0,2113.0,2112.0,2111.0,2111.0,2109.0,2106.0,2106.0,2106.0,2105.0,2100.0,2091.0,2088.0,2088.0,2087.0,2086.0,2086.0,2082.0,2076.0,2076.0,2076.0,2075.0,2074.0,2073.0,2072.0,2071.0,2069.0,2064.0,2062.0,2062.0,2057.0,2056.0,2056.0,2054.0,2054.0,2053.0,2053.0,2052.0,2049.0,2047.0,2046.0,2046.0,2045.0,2045.0,2042.0,2041.0,2032.0,2030.0,2027.0,2025.0,2023.0,2023.0,2015.0,2015.0,2014.0,2013.0,2013.0,2012.0,2012.0,2011.0,2010.0,2010.0,2007.0,2007.0,2006.0,2005.0,2005.0,2004.0,2002.0,2002.0,2002.0,2001.0,2000.0,1998.0,1996.0,1994.0,1994.0,1993.0,1993.0,1988.0,1988.0,1985.0,1979.0,1976.0,1973.0,1972.0,1971.0,1969.0,1968.0,1965.0,1964.0,1963.0,1961.0,1960.0,1959.0,1958.0,1955.0,1952.0,1951.0,1951.0,1948.0,1948.0,1947.0,1945.0,1943.0,1943.0,1943.0,1939.0,1939.0,1939.0,1937.0,1931.0,1930.0,1926.0,1923.0,1921.0,1919.0,1917.0,1912.0,1909.0,1905.0,1904.0,1895.0,1895.0,1889.0,1886.0,1883.0,1882.0,1881.0,1881.0,1881.0,1879.0,1876.0,1876.0,1875.0,1873.0,1873.0,1872.0,1871.0,1871.0,1871.0,1871.0,1868.0,1865.0,1865.0,1864.0,1863.0,1861.0,1861.0,1861.0,1860.0,1859.0,1858.0,1858.0,1857.0,1855.0,1854.0,1853.0,1852.0,1851.0,1849.0,1849.0,1849.0,1848.0,1848.0,1847.0,1846.0,1846.0,1844.0,1840.0,1838.0,1837.0,1836.0,1835.0,1834.0,1834.0,1832.0,1831.0,1829.0,1828.0,1828.0,1826.0,1820.0,1818.0,1818.0,1816.0,1813.0,1808.0,1805.0,1803.0,1799.0,1798.0,1796.0,1795.0,1794.0,1794.0,1794.0,1790.0,1789.0,1789.0,1788.0,1788.0,1784.0,1784.0,1777.0,1776.0,1776.0,1775.0,1774.0,1773.0,1768.0,1768.0,1767.0,1767.0,1763.0,1763.0,1762.0,1760.0,1759.0,1758.0,1758.0,1757.0,1756.0,1753.0,1751.0,1751.0,1750.0,1750.0,1749.0,1748.0,1748.0,1747.0,1746.0,1744.0,1744.0,1742.0,1739.0,1739.0,1738.0,1738.0,1738.0,1737.0,1737.0,1736.0,1736.0,1735.0,1735.0,1735.0,1734.0,1733.0,1732.0,1731.0,1730.0,1730.0,1728.0,1728.0,1726.0,1726.0,1723.0,1722.0,1722.0,1722.0,1721.0,1721.0,1720.0,1719.0,1717.0,1715.0,1713.0,1710.0,1707.0,1706.0,1705.0,1704.0,1695.0,1692.0,1690.0,1689.0,1681.0,1674.0,1674.0,1670.0,1665.0,1663.0,1663.0,1659.0,1656.0,1654.0,1649.0,1630.0,1629.0,1626.0,1620.0,1612.0,1609.0,1606.0,1601.0,1600.0,1599.0,1596.0,1591.0,1591.0,1590.0,1590.0,1584.0,1582.0,1576.0,1570.0,1570.0,1570.0,1570.0,1569.0,1568.0,1563.0,1561.0,1560.0,1552.0,1545.0,1542.0,1540.0,1538.0,1538.0,1536.0,1535.0,1531.0,1529.0,1527.0,1527.0,1526.0,1523.0,1521.0,1515.0,1508.0,1504.0,1502.0,1501.0,1501.0,1500.0,1498.0,1497.0,1495.0,1493.0,1493.0,1492.0,1490.0,1489.0,1488.0,1488.0,1486.0,1485.0,1475.0,1474.0,1472.0,1469.0,1467.0,1465.0,1462.0,1453.0,1450.0,1440.0,1436.0,1435.0,1435.0,1435.0,1432.0,1429.0,1427.0,1426.0,1426.0,1425.0,1425.0,1423.0,1422.0,1419.0,1417.0,1417.0,1415.0,1413.0,1413.0,1410.0,1410.0,1409.0,1409.0,1407.0,1405.0,1404.0,1403.0,1402.0,1400.0,1397.0,1394.0,1391.0,1388.0,1385.0,1385.0,1384.0,1384.0,1383.0,1381.0,1381.0,1378.0,1375.0,1374.0,1370.0,1078.0,1076.0,1075.0,1075.0,1073.0,1073.0,1072.0,1069.0,1064.0,1059.0,1057.0,1051.0,1040.0,1040.0,1039.0,960.0,959.0,959.0,958.0,957.0,956.0,954.0,953.0,952.0,952.0,951.0,951.0,950.0,950.0,948.0,945.0,944.0,942.0,942.0,940.0,936.0,935.0,933.0,931.0,931.0,929.0,928.0,927.0,927.0,925.0,925.0,897.0,893.0,883.0,883.0,876.0,864.0,833.0,819.0,813.0,800.0,796.0,785.0,782.0,780.0,780.0,777.0,777.0,776.0,776.0,775.0,774.0,773.0,773.0,772.0,772.0,771.0,770.0,768.0,768.0,766.0,766.0,765.0,765.0,763.0,762.0,762.0,762.0,761.0,761.0,760.0,760.0,759.0,757.0,756.0,756.0,754.0,750.0,749.0,749.0,748.0,748.0,748.0,746.0,745.0,745.0,745.0,745.0,744.0,744.0,744.0,744.0,743.0,743.0,741.0,741.0,740.0,740.0,740.0,739.0,738.0,736.0,732.0,720.0,719.0,700.0,697.0,688.0,686.0,686.0,591.0,589.0,588.0,587.0,585.0,585.0,584.0,582.0,580.0,579.0,575.0,575.0,574.0,572.0,572.0,570.0,569.0,569.0,568.0,567.0,563.0,563.0,563.0,562.0,560.0,560.0,557.0,555.0,407.0,396.0,384.0,382.0,382.0,382.0,381.0,370.0,367.0,213.0,206.0,188.0],\"yaxis\":\"y\",\"type\":\"scattergl\"}],                        {\"template\":{\"data\":{\"histogram2dcontour\":[{\"type\":\"histogram2dcontour\",\"colorbar\":{\"outlinewidth\":0,\"ticks\":\"\"},\"colorscale\":[[0.0,\"#0d0887\"],[0.1111111111111111,\"#46039f\"],[0.2222222222222222,\"#7201a8\"],[0.3333333333333333,\"#9c179e\"],[0.4444444444444444,\"#bd3786\"],[0.5555555555555556,\"#d8576b\"],[0.6666666666666666,\"#ed7953\"],[0.7777777777777778,\"#fb9f3a\"],[0.8888888888888888,\"#fdca26\"],[1.0,\"#f0f921\"]]}],\"choropleth\":[{\"type\":\"choropleth\",\"colorbar\":{\"outlinewidth\":0,\"ticks\":\"\"}}],\"histogram2d\":[{\"type\":\"histogram2d\",\"colorbar\":{\"outlinewidth\":0,\"ticks\":\"\"},\"colorscale\":[[0.0,\"#0d0887\"],[0.1111111111111111,\"#46039f\"],[0.2222222222222222,\"#7201a8\"],[0.3333333333333333,\"#9c179e\"],[0.4444444444444444,\"#bd3786\"],[0.5555555555555556,\"#d8576b\"],[0.6666666666666666,\"#ed7953\"],[0.7777777777777778,\"#fb9f3a\"],[0.8888888888888888,\"#fdca26\"],[1.0,\"#f0f921\"]]}],\"heatmap\":[{\"type\":\"heatmap\",\"colorbar\":{\"outlinewidth\":0,\"ticks\":\"\"},\"colorscale\":[[0.0,\"#0d0887\"],[0.1111111111111111,\"#46039f\"],[0.2222222222222222,\"#7201a8\"],[0.3333333333333333,\"#9c179e\"],[0.4444444444444444,\"#bd3786\"],[0.5555555555555556,\"#d8576b\"],[0.6666666666666666,\"#ed7953\"],[0.7777777777777778,\"#fb9f3a\"],[0.8888888888888888,\"#fdca26\"],[1.0,\"#f0f921\"]]}],\"heatmapgl\":[{\"type\":\"heatmapgl\",\"colorbar\":{\"outlinewidth\":0,\"ticks\":\"\"},\"colorscale\":[[0.0,\"#0d0887\"],[0.1111111111111111,\"#46039f\"],[0.2222222222222222,\"#7201a8\"],[0.3333333333333333,\"#9c179e\"],[0.4444444444444444,\"#bd3786\"],[0.5555555555555556,\"#d8576b\"],[0.6666666666666666,\"#ed7953\"],[0.7777777777777778,\"#fb9f3a\"],[0.8888888888888888,\"#fdca26\"],[1.0,\"#f0f921\"]]}],\"contourcarpet\":[{\"type\":\"contourcarpet\",\"colorbar\":{\"outlinewidth\":0,\"ticks\":\"\"}}],\"contour\":[{\"type\":\"contour\",\"colorbar\":{\"outlinewidth\":0,\"ticks\":\"\"},\"colorscale\":[[0.0,\"#0d0887\"],[0.1111111111111111,\"#46039f\"],[0.2222222222222222,\"#7201a8\"],[0.3333333333333333,\"#9c179e\"],[0.4444444444444444,\"#bd3786\"],[0.5555555555555556,\"#d8576b\"],[0.6666666666666666,\"#ed7953\"],[0.7777777777777778,\"#fb9f3a\"],[0.8888888888888888,\"#fdca26\"],[1.0,\"#f0f921\"]]}],\"surface\":[{\"type\":\"surface\",\"colorbar\":{\"outlinewidth\":0,\"ticks\":\"\"},\"colorscale\":[[0.0,\"#0d0887\"],[0.1111111111111111,\"#46039f\"],[0.2222222222222222,\"#7201a8\"],[0.3333333333333333,\"#9c179e\"],[0.4444444444444444,\"#bd3786\"],[0.5555555555555556,\"#d8576b\"],[0.6666666666666666,\"#ed7953\"],[0.7777777777777778,\"#fb9f3a\"],[0.8888888888888888,\"#fdca26\"],[1.0,\"#f0f921\"]]}],\"mesh3d\":[{\"type\":\"mesh3d\",\"colorbar\":{\"outlinewidth\":0,\"ticks\":\"\"}}],\"scatter\":[{\"fillpattern\":{\"fillmode\":\"overlay\",\"size\":10,\"solidity\":0.2},\"type\":\"scatter\"}],\"parcoords\":[{\"type\":\"parcoords\",\"line\":{\"colorbar\":{\"outlinewidth\":0,\"ticks\":\"\"}}}],\"scatterpolargl\":[{\"type\":\"scatterpolargl\",\"marker\":{\"colorbar\":{\"outlinewidth\":0,\"ticks\":\"\"}}}],\"bar\":[{\"error_x\":{\"color\":\"#2a3f5f\"},\"error_y\":{\"color\":\"#2a3f5f\"},\"marker\":{\"line\":{\"color\":\"#E5ECF6\",\"width\":0.5},\"pattern\":{\"fillmode\":\"overlay\",\"size\":10,\"solidity\":0.2}},\"type\":\"bar\"}],\"scattergeo\":[{\"type\":\"scattergeo\",\"marker\":{\"colorbar\":{\"outlinewidth\":0,\"ticks\":\"\"}}}],\"scatterpolar\":[{\"type\":\"scatterpolar\",\"marker\":{\"colorbar\":{\"outlinewidth\":0,\"ticks\":\"\"}}}],\"histogram\":[{\"marker\":{\"pattern\":{\"fillmode\":\"overlay\",\"size\":10,\"solidity\":0.2}},\"type\":\"histogram\"}],\"scattergl\":[{\"type\":\"scattergl\",\"marker\":{\"colorbar\":{\"outlinewidth\":0,\"ticks\":\"\"}}}],\"scatter3d\":[{\"type\":\"scatter3d\",\"line\":{\"colorbar\":{\"outlinewidth\":0,\"ticks\":\"\"}},\"marker\":{\"colorbar\":{\"outlinewidth\":0,\"ticks\":\"\"}}}],\"scattermapbox\":[{\"type\":\"scattermapbox\",\"marker\":{\"colorbar\":{\"outlinewidth\":0,\"ticks\":\"\"}}}],\"scatterternary\":[{\"type\":\"scatterternary\",\"marker\":{\"colorbar\":{\"outlinewidth\":0,\"ticks\":\"\"}}}],\"scattercarpet\":[{\"type\":\"scattercarpet\",\"marker\":{\"colorbar\":{\"outlinewidth\":0,\"ticks\":\"\"}}}],\"carpet\":[{\"aaxis\":{\"endlinecolor\":\"#2a3f5f\",\"gridcolor\":\"white\",\"linecolor\":\"white\",\"minorgridcolor\":\"white\",\"startlinecolor\":\"#2a3f5f\"},\"baxis\":{\"endlinecolor\":\"#2a3f5f\",\"gridcolor\":\"white\",\"linecolor\":\"white\",\"minorgridcolor\":\"white\",\"startlinecolor\":\"#2a3f5f\"},\"type\":\"carpet\"}],\"table\":[{\"cells\":{\"fill\":{\"color\":\"#EBF0F8\"},\"line\":{\"color\":\"white\"}},\"header\":{\"fill\":{\"color\":\"#C8D4E3\"},\"line\":{\"color\":\"white\"}},\"type\":\"table\"}],\"barpolar\":[{\"marker\":{\"line\":{\"color\":\"#E5ECF6\",\"width\":0.5},\"pattern\":{\"fillmode\":\"overlay\",\"size\":10,\"solidity\":0.2}},\"type\":\"barpolar\"}],\"pie\":[{\"automargin\":true,\"type\":\"pie\"}]},\"layout\":{\"autotypenumbers\":\"strict\",\"colorway\":[\"#636efa\",\"#EF553B\",\"#00cc96\",\"#ab63fa\",\"#FFA15A\",\"#19d3f3\",\"#FF6692\",\"#B6E880\",\"#FF97FF\",\"#FECB52\"],\"font\":{\"color\":\"#2a3f5f\"},\"hovermode\":\"closest\",\"hoverlabel\":{\"align\":\"left\"},\"paper_bgcolor\":\"white\",\"plot_bgcolor\":\"#E5ECF6\",\"polar\":{\"bgcolor\":\"#E5ECF6\",\"angularaxis\":{\"gridcolor\":\"white\",\"linecolor\":\"white\",\"ticks\":\"\"},\"radialaxis\":{\"gridcolor\":\"white\",\"linecolor\":\"white\",\"ticks\":\"\"}},\"ternary\":{\"bgcolor\":\"#E5ECF6\",\"aaxis\":{\"gridcolor\":\"white\",\"linecolor\":\"white\",\"ticks\":\"\"},\"baxis\":{\"gridcolor\":\"white\",\"linecolor\":\"white\",\"ticks\":\"\"},\"caxis\":{\"gridcolor\":\"white\",\"linecolor\":\"white\",\"ticks\":\"\"}},\"coloraxis\":{\"colorbar\":{\"outlinewidth\":0,\"ticks\":\"\"}},\"colorscale\":{\"sequential\":[[0.0,\"#0d0887\"],[0.1111111111111111,\"#46039f\"],[0.2222222222222222,\"#7201a8\"],[0.3333333333333333,\"#9c179e\"],[0.4444444444444444,\"#bd3786\"],[0.5555555555555556,\"#d8576b\"],[0.6666666666666666,\"#ed7953\"],[0.7777777777777778,\"#fb9f3a\"],[0.8888888888888888,\"#fdca26\"],[1.0,\"#f0f921\"]],\"sequentialminus\":[[0.0,\"#0d0887\"],[0.1111111111111111,\"#46039f\"],[0.2222222222222222,\"#7201a8\"],[0.3333333333333333,\"#9c179e\"],[0.4444444444444444,\"#bd3786\"],[0.5555555555555556,\"#d8576b\"],[0.6666666666666666,\"#ed7953\"],[0.7777777777777778,\"#fb9f3a\"],[0.8888888888888888,\"#fdca26\"],[1.0,\"#f0f921\"]],\"diverging\":[[0,\"#8e0152\"],[0.1,\"#c51b7d\"],[0.2,\"#de77ae\"],[0.3,\"#f1b6da\"],[0.4,\"#fde0ef\"],[0.5,\"#f7f7f7\"],[0.6,\"#e6f5d0\"],[0.7,\"#b8e186\"],[0.8,\"#7fbc41\"],[0.9,\"#4d9221\"],[1,\"#276419\"]]},\"xaxis\":{\"gridcolor\":\"white\",\"linecolor\":\"white\",\"ticks\":\"\",\"title\":{\"standoff\":15},\"zerolinecolor\":\"white\",\"automargin\":true,\"zerolinewidth\":2},\"yaxis\":{\"gridcolor\":\"white\",\"linecolor\":\"white\",\"ticks\":\"\",\"title\":{\"standoff\":15},\"zerolinecolor\":\"white\",\"automargin\":true,\"zerolinewidth\":2},\"scene\":{\"xaxis\":{\"backgroundcolor\":\"#E5ECF6\",\"gridcolor\":\"white\",\"linecolor\":\"white\",\"showbackground\":true,\"ticks\":\"\",\"zerolinecolor\":\"white\",\"gridwidth\":2},\"yaxis\":{\"backgroundcolor\":\"#E5ECF6\",\"gridcolor\":\"white\",\"linecolor\":\"white\",\"showbackground\":true,\"ticks\":\"\",\"zerolinecolor\":\"white\",\"gridwidth\":2},\"zaxis\":{\"backgroundcolor\":\"#E5ECF6\",\"gridcolor\":\"white\",\"linecolor\":\"white\",\"showbackground\":true,\"ticks\":\"\",\"zerolinecolor\":\"white\",\"gridwidth\":2}},\"shapedefaults\":{\"line\":{\"color\":\"#2a3f5f\"}},\"annotationdefaults\":{\"arrowcolor\":\"#2a3f5f\",\"arrowhead\":0,\"arrowwidth\":1},\"geo\":{\"bgcolor\":\"white\",\"landcolor\":\"#E5ECF6\",\"subunitcolor\":\"white\",\"showland\":true,\"showlakes\":true,\"lakecolor\":\"white\"},\"title\":{\"x\":0.05},\"mapbox\":{\"style\":\"light\"}}},\"xaxis\":{\"anchor\":\"y\",\"domain\":[0.0,1.0],\"title\":{\"text\":\"Ages\"}},\"yaxis\":{\"anchor\":\"x\",\"domain\":[0.0,1.0],\"title\":{\"text\":\"Amount spent (Rupees)\"}},\"legend\":{\"tracegroupgap\":0},\"margin\":{\"t\":60},\"title\":{\"text\":\"Amount spent by ages\"},\"height\":500,\"width\":800,\"showlegend\":true},                        {\"responsive\": true}                    ).then(function(){\n",
       "                            \n",
       "var gd = document.getElementById('21972fa5-e95c-4b03-a98c-7ddd86a23f2c');\n",
       "var x = new MutationObserver(function (mutations, observer) {{\n",
       "        var display = window.getComputedStyle(gd).display;\n",
       "        if (!display || display === 'none') {{\n",
       "            console.log([gd, 'removed!']);\n",
       "            Plotly.purge(gd);\n",
       "            observer.disconnect();\n",
       "        }}\n",
       "}});\n",
       "\n",
       "// Listen for the removal of the full notebook cells\n",
       "var notebookContainer = gd.closest('#notebook-container');\n",
       "if (notebookContainer) {{\n",
       "    x.observe(notebookContainer, {childList: true});\n",
       "}}\n",
       "\n",
       "// Listen for the clearing of the current output cell\n",
       "var outputEl = gd.closest('.output');\n",
       "if (outputEl) {{\n",
       "    x.observe(outputEl, {childList: true});\n",
       "}}\n",
       "\n",
       "                        })                };                });            </script>        </div>"
      ]
     },
     "metadata": {},
     "output_type": "display_data"
    }
   ],
   "source": [
    "age_amount = df[['cust_name', 'age', 'amount']]\n",
    "    \n",
    "fig = px.scatter(data_frame=age_amount, \n",
    "                 x='age', \n",
    "                 y='amount',  \n",
    "                 hover_name = 'cust_name')\n",
    "    \n",
    "fig.update_layout(title=\"Amount spent by ages\", \n",
    "                  height=500, \n",
    "                  width=800,  \n",
    "                  showlegend=True, \n",
    "                  yaxis_title_text='Amount spent (Rupees)', \n",
    "                  xaxis_title_text='Ages')\n",
    "\n",
    "fig.show()"
   ]
  },
  {
   "cell_type": "markdown",
   "id": "297ac29f",
   "metadata": {
    "papermill": {
     "duration": 0.053591,
     "end_time": "2023-10-31T05:07:55.679406",
     "exception": false,
     "start_time": "2023-10-31T05:07:55.625815",
     "status": "completed"
    },
    "tags": []
   },
   "source": [
    "Visualizing the gender distribution for orders from each age group"
   ]
  },
  {
   "cell_type": "code",
   "execution_count": 54,
   "id": "0f148561",
   "metadata": {
    "execution": {
     "iopub.execute_input": "2023-10-31T05:07:55.789806Z",
     "iopub.status.busy": "2023-10-31T05:07:55.789419Z",
     "iopub.status.idle": "2023-10-31T05:07:55.886393Z",
     "shell.execute_reply": "2023-10-31T05:07:55.885154Z"
    },
    "papermill": {
     "duration": 0.155828,
     "end_time": "2023-10-31T05:07:55.889177",
     "exception": false,
     "start_time": "2023-10-31T05:07:55.733349",
     "status": "completed"
    },
    "tags": []
   },
   "outputs": [
    {
     "data": {
      "text/html": [
       "<div>                            <div id=\"d3155cb4-ea23-4a77-ab2b-c3b5e3670462\" class=\"plotly-graph-div\" style=\"height:500px; width:800px;\"></div>            <script type=\"text/javascript\">                require([\"plotly\"], function(Plotly) {                    window.PLOTLYENV=window.PLOTLYENV || {};                                    if (document.getElementById(\"d3155cb4-ea23-4a77-ab2b-c3b5e3670462\")) {                    Plotly.newPlot(                        \"d3155cb4-ea23-4a77-ab2b-c3b5e3670462\",                        [{\"alignmentgroup\":\"True\",\"hovertemplate\":\"gender=Female\\u003cbr\\u003eage_group=%{x}\\u003cbr\\u003ecounts=%{y}\\u003cextra\\u003e\\u003c\\u002fextra\\u003e\",\"legendgroup\":\"Female\",\"marker\":{\"color\":\"#636efa\",\"pattern\":{\"shape\":\"\"}},\"name\":\"Female\",\"offsetgroup\":\"Female\",\"orientation\":\"v\",\"showlegend\":true,\"textposition\":\"auto\",\"texttemplate\":\"%{y}\",\"x\":[\"0-17\",\"18-25\",\"26-35\",\"36-45\",\"46-50\",\"51-55\",\"55+\"],\"xaxis\":\"x\",\"y\":[162,1305,3269,1578,693,553,272],\"yaxis\":\"y\",\"type\":\"bar\"},{\"alignmentgroup\":\"True\",\"hovertemplate\":\"gender=Male\\u003cbr\\u003eage_group=%{x}\\u003cbr\\u003ecounts=%{y}\\u003cextra\\u003e\\u003c\\u002fextra\\u003e\",\"legendgroup\":\"Male\",\"marker\":{\"color\":\"#EF553B\",\"pattern\":{\"shape\":\"\"}},\"name\":\"Male\",\"offsetgroup\":\"Male\",\"orientation\":\"v\",\"showlegend\":true,\"textposition\":\"auto\",\"texttemplate\":\"%{y}\",\"x\":[\"0-17\",\"18-25\",\"26-35\",\"36-45\",\"46-50\",\"51-55\",\"55+\"],\"xaxis\":\"x\",\"y\":[134,574,1272,705,290,277,155],\"yaxis\":\"y\",\"type\":\"bar\"}],                        {\"template\":{\"data\":{\"histogram2dcontour\":[{\"type\":\"histogram2dcontour\",\"colorbar\":{\"outlinewidth\":0,\"ticks\":\"\"},\"colorscale\":[[0.0,\"#0d0887\"],[0.1111111111111111,\"#46039f\"],[0.2222222222222222,\"#7201a8\"],[0.3333333333333333,\"#9c179e\"],[0.4444444444444444,\"#bd3786\"],[0.5555555555555556,\"#d8576b\"],[0.6666666666666666,\"#ed7953\"],[0.7777777777777778,\"#fb9f3a\"],[0.8888888888888888,\"#fdca26\"],[1.0,\"#f0f921\"]]}],\"choropleth\":[{\"type\":\"choropleth\",\"colorbar\":{\"outlinewidth\":0,\"ticks\":\"\"}}],\"histogram2d\":[{\"type\":\"histogram2d\",\"colorbar\":{\"outlinewidth\":0,\"ticks\":\"\"},\"colorscale\":[[0.0,\"#0d0887\"],[0.1111111111111111,\"#46039f\"],[0.2222222222222222,\"#7201a8\"],[0.3333333333333333,\"#9c179e\"],[0.4444444444444444,\"#bd3786\"],[0.5555555555555556,\"#d8576b\"],[0.6666666666666666,\"#ed7953\"],[0.7777777777777778,\"#fb9f3a\"],[0.8888888888888888,\"#fdca26\"],[1.0,\"#f0f921\"]]}],\"heatmap\":[{\"type\":\"heatmap\",\"colorbar\":{\"outlinewidth\":0,\"ticks\":\"\"},\"colorscale\":[[0.0,\"#0d0887\"],[0.1111111111111111,\"#46039f\"],[0.2222222222222222,\"#7201a8\"],[0.3333333333333333,\"#9c179e\"],[0.4444444444444444,\"#bd3786\"],[0.5555555555555556,\"#d8576b\"],[0.6666666666666666,\"#ed7953\"],[0.7777777777777778,\"#fb9f3a\"],[0.8888888888888888,\"#fdca26\"],[1.0,\"#f0f921\"]]}],\"heatmapgl\":[{\"type\":\"heatmapgl\",\"colorbar\":{\"outlinewidth\":0,\"ticks\":\"\"},\"colorscale\":[[0.0,\"#0d0887\"],[0.1111111111111111,\"#46039f\"],[0.2222222222222222,\"#7201a8\"],[0.3333333333333333,\"#9c179e\"],[0.4444444444444444,\"#bd3786\"],[0.5555555555555556,\"#d8576b\"],[0.6666666666666666,\"#ed7953\"],[0.7777777777777778,\"#fb9f3a\"],[0.8888888888888888,\"#fdca26\"],[1.0,\"#f0f921\"]]}],\"contourcarpet\":[{\"type\":\"contourcarpet\",\"colorbar\":{\"outlinewidth\":0,\"ticks\":\"\"}}],\"contour\":[{\"type\":\"contour\",\"colorbar\":{\"outlinewidth\":0,\"ticks\":\"\"},\"colorscale\":[[0.0,\"#0d0887\"],[0.1111111111111111,\"#46039f\"],[0.2222222222222222,\"#7201a8\"],[0.3333333333333333,\"#9c179e\"],[0.4444444444444444,\"#bd3786\"],[0.5555555555555556,\"#d8576b\"],[0.6666666666666666,\"#ed7953\"],[0.7777777777777778,\"#fb9f3a\"],[0.8888888888888888,\"#fdca26\"],[1.0,\"#f0f921\"]]}],\"surface\":[{\"type\":\"surface\",\"colorbar\":{\"outlinewidth\":0,\"ticks\":\"\"},\"colorscale\":[[0.0,\"#0d0887\"],[0.1111111111111111,\"#46039f\"],[0.2222222222222222,\"#7201a8\"],[0.3333333333333333,\"#9c179e\"],[0.4444444444444444,\"#bd3786\"],[0.5555555555555556,\"#d8576b\"],[0.6666666666666666,\"#ed7953\"],[0.7777777777777778,\"#fb9f3a\"],[0.8888888888888888,\"#fdca26\"],[1.0,\"#f0f921\"]]}],\"mesh3d\":[{\"type\":\"mesh3d\",\"colorbar\":{\"outlinewidth\":0,\"ticks\":\"\"}}],\"scatter\":[{\"fillpattern\":{\"fillmode\":\"overlay\",\"size\":10,\"solidity\":0.2},\"type\":\"scatter\"}],\"parcoords\":[{\"type\":\"parcoords\",\"line\":{\"colorbar\":{\"outlinewidth\":0,\"ticks\":\"\"}}}],\"scatterpolargl\":[{\"type\":\"scatterpolargl\",\"marker\":{\"colorbar\":{\"outlinewidth\":0,\"ticks\":\"\"}}}],\"bar\":[{\"error_x\":{\"color\":\"#2a3f5f\"},\"error_y\":{\"color\":\"#2a3f5f\"},\"marker\":{\"line\":{\"color\":\"#E5ECF6\",\"width\":0.5},\"pattern\":{\"fillmode\":\"overlay\",\"size\":10,\"solidity\":0.2}},\"type\":\"bar\"}],\"scattergeo\":[{\"type\":\"scattergeo\",\"marker\":{\"colorbar\":{\"outlinewidth\":0,\"ticks\":\"\"}}}],\"scatterpolar\":[{\"type\":\"scatterpolar\",\"marker\":{\"colorbar\":{\"outlinewidth\":0,\"ticks\":\"\"}}}],\"histogram\":[{\"marker\":{\"pattern\":{\"fillmode\":\"overlay\",\"size\":10,\"solidity\":0.2}},\"type\":\"histogram\"}],\"scattergl\":[{\"type\":\"scattergl\",\"marker\":{\"colorbar\":{\"outlinewidth\":0,\"ticks\":\"\"}}}],\"scatter3d\":[{\"type\":\"scatter3d\",\"line\":{\"colorbar\":{\"outlinewidth\":0,\"ticks\":\"\"}},\"marker\":{\"colorbar\":{\"outlinewidth\":0,\"ticks\":\"\"}}}],\"scattermapbox\":[{\"type\":\"scattermapbox\",\"marker\":{\"colorbar\":{\"outlinewidth\":0,\"ticks\":\"\"}}}],\"scatterternary\":[{\"type\":\"scatterternary\",\"marker\":{\"colorbar\":{\"outlinewidth\":0,\"ticks\":\"\"}}}],\"scattercarpet\":[{\"type\":\"scattercarpet\",\"marker\":{\"colorbar\":{\"outlinewidth\":0,\"ticks\":\"\"}}}],\"carpet\":[{\"aaxis\":{\"endlinecolor\":\"#2a3f5f\",\"gridcolor\":\"white\",\"linecolor\":\"white\",\"minorgridcolor\":\"white\",\"startlinecolor\":\"#2a3f5f\"},\"baxis\":{\"endlinecolor\":\"#2a3f5f\",\"gridcolor\":\"white\",\"linecolor\":\"white\",\"minorgridcolor\":\"white\",\"startlinecolor\":\"#2a3f5f\"},\"type\":\"carpet\"}],\"table\":[{\"cells\":{\"fill\":{\"color\":\"#EBF0F8\"},\"line\":{\"color\":\"white\"}},\"header\":{\"fill\":{\"color\":\"#C8D4E3\"},\"line\":{\"color\":\"white\"}},\"type\":\"table\"}],\"barpolar\":[{\"marker\":{\"line\":{\"color\":\"#E5ECF6\",\"width\":0.5},\"pattern\":{\"fillmode\":\"overlay\",\"size\":10,\"solidity\":0.2}},\"type\":\"barpolar\"}],\"pie\":[{\"automargin\":true,\"type\":\"pie\"}]},\"layout\":{\"autotypenumbers\":\"strict\",\"colorway\":[\"#636efa\",\"#EF553B\",\"#00cc96\",\"#ab63fa\",\"#FFA15A\",\"#19d3f3\",\"#FF6692\",\"#B6E880\",\"#FF97FF\",\"#FECB52\"],\"font\":{\"color\":\"#2a3f5f\"},\"hovermode\":\"closest\",\"hoverlabel\":{\"align\":\"left\"},\"paper_bgcolor\":\"white\",\"plot_bgcolor\":\"#E5ECF6\",\"polar\":{\"bgcolor\":\"#E5ECF6\",\"angularaxis\":{\"gridcolor\":\"white\",\"linecolor\":\"white\",\"ticks\":\"\"},\"radialaxis\":{\"gridcolor\":\"white\",\"linecolor\":\"white\",\"ticks\":\"\"}},\"ternary\":{\"bgcolor\":\"#E5ECF6\",\"aaxis\":{\"gridcolor\":\"white\",\"linecolor\":\"white\",\"ticks\":\"\"},\"baxis\":{\"gridcolor\":\"white\",\"linecolor\":\"white\",\"ticks\":\"\"},\"caxis\":{\"gridcolor\":\"white\",\"linecolor\":\"white\",\"ticks\":\"\"}},\"coloraxis\":{\"colorbar\":{\"outlinewidth\":0,\"ticks\":\"\"}},\"colorscale\":{\"sequential\":[[0.0,\"#0d0887\"],[0.1111111111111111,\"#46039f\"],[0.2222222222222222,\"#7201a8\"],[0.3333333333333333,\"#9c179e\"],[0.4444444444444444,\"#bd3786\"],[0.5555555555555556,\"#d8576b\"],[0.6666666666666666,\"#ed7953\"],[0.7777777777777778,\"#fb9f3a\"],[0.8888888888888888,\"#fdca26\"],[1.0,\"#f0f921\"]],\"sequentialminus\":[[0.0,\"#0d0887\"],[0.1111111111111111,\"#46039f\"],[0.2222222222222222,\"#7201a8\"],[0.3333333333333333,\"#9c179e\"],[0.4444444444444444,\"#bd3786\"],[0.5555555555555556,\"#d8576b\"],[0.6666666666666666,\"#ed7953\"],[0.7777777777777778,\"#fb9f3a\"],[0.8888888888888888,\"#fdca26\"],[1.0,\"#f0f921\"]],\"diverging\":[[0,\"#8e0152\"],[0.1,\"#c51b7d\"],[0.2,\"#de77ae\"],[0.3,\"#f1b6da\"],[0.4,\"#fde0ef\"],[0.5,\"#f7f7f7\"],[0.6,\"#e6f5d0\"],[0.7,\"#b8e186\"],[0.8,\"#7fbc41\"],[0.9,\"#4d9221\"],[1,\"#276419\"]]},\"xaxis\":{\"gridcolor\":\"white\",\"linecolor\":\"white\",\"ticks\":\"\",\"title\":{\"standoff\":15},\"zerolinecolor\":\"white\",\"automargin\":true,\"zerolinewidth\":2},\"yaxis\":{\"gridcolor\":\"white\",\"linecolor\":\"white\",\"ticks\":\"\",\"title\":{\"standoff\":15},\"zerolinecolor\":\"white\",\"automargin\":true,\"zerolinewidth\":2},\"scene\":{\"xaxis\":{\"backgroundcolor\":\"#E5ECF6\",\"gridcolor\":\"white\",\"linecolor\":\"white\",\"showbackground\":true,\"ticks\":\"\",\"zerolinecolor\":\"white\",\"gridwidth\":2},\"yaxis\":{\"backgroundcolor\":\"#E5ECF6\",\"gridcolor\":\"white\",\"linecolor\":\"white\",\"showbackground\":true,\"ticks\":\"\",\"zerolinecolor\":\"white\",\"gridwidth\":2},\"zaxis\":{\"backgroundcolor\":\"#E5ECF6\",\"gridcolor\":\"white\",\"linecolor\":\"white\",\"showbackground\":true,\"ticks\":\"\",\"zerolinecolor\":\"white\",\"gridwidth\":2}},\"shapedefaults\":{\"line\":{\"color\":\"#2a3f5f\"}},\"annotationdefaults\":{\"arrowcolor\":\"#2a3f5f\",\"arrowhead\":0,\"arrowwidth\":1},\"geo\":{\"bgcolor\":\"white\",\"landcolor\":\"#E5ECF6\",\"subunitcolor\":\"white\",\"showland\":true,\"showlakes\":true,\"lakecolor\":\"white\"},\"title\":{\"x\":0.05},\"mapbox\":{\"style\":\"light\"}}},\"xaxis\":{\"anchor\":\"y\",\"domain\":[0.0,1.0],\"title\":{\"text\":\"Age groups\"},\"categoryorder\":\"array\",\"categoryarray\":[\"0-17\",\"18-25\",\"26-35\",\"36-45\",\"46-50\",\"51-55\",\"55+\"]},\"yaxis\":{\"anchor\":\"x\",\"domain\":[0.0,1.0],\"title\":{\"text\":\"Number of orders\"}},\"legend\":{\"title\":{\"text\":\"gender\"},\"tracegroupgap\":0},\"margin\":{\"t\":60},\"barmode\":\"group\",\"title\":{\"text\":\"Number of orders from each gender across various age groups\"},\"height\":500,\"width\":800,\"showlegend\":true},                        {\"responsive\": true}                    ).then(function(){\n",
       "                            \n",
       "var gd = document.getElementById('d3155cb4-ea23-4a77-ab2b-c3b5e3670462');\n",
       "var x = new MutationObserver(function (mutations, observer) {{\n",
       "        var display = window.getComputedStyle(gd).display;\n",
       "        if (!display || display === 'none') {{\n",
       "            console.log([gd, 'removed!']);\n",
       "            Plotly.purge(gd);\n",
       "            observer.disconnect();\n",
       "        }}\n",
       "}});\n",
       "\n",
       "// Listen for the removal of the full notebook cells\n",
       "var notebookContainer = gd.closest('#notebook-container');\n",
       "if (notebookContainer) {{\n",
       "    x.observe(notebookContainer, {childList: true});\n",
       "}}\n",
       "\n",
       "// Listen for the clearing of the current output cell\n",
       "var outputEl = gd.closest('.output');\n",
       "if (outputEl) {{\n",
       "    x.observe(outputEl, {childList: true});\n",
       "}}\n",
       "\n",
       "                        })                };                });            </script>        </div>"
      ]
     },
     "metadata": {},
     "output_type": "display_data"
    }
   ],
   "source": [
    "age_gender=df.groupby(['age_group', 'gender']).size().reset_index(name='counts')\n",
    "age_gender['gender']=age_gender['gender'].replace('F', 'Female')\n",
    "age_gender['gender']=age_gender['gender'].replace('M', 'Male')\n",
    "\n",
    "fig=px.bar(data_frame=age_gender, \n",
    "           x='age_group', \n",
    "           y='counts', \n",
    "           color='gender',\n",
    "           barmode='group', \n",
    "           text_auto=True)\n",
    "\n",
    "fig.update_layout(title=\"Number of orders from each gender across various age groups\", \n",
    "                  height=500, \n",
    "                  width=800,  \n",
    "                  showlegend=True, \n",
    "                  yaxis_title_text='Number of orders', \n",
    "                  xaxis_title_text='Age groups')\n",
    "\n",
    "fig.update_xaxes(categoryorder='array', categoryarray=['0-17', '18-25', '26-35', '36-45', '46-50', '51-55', '55+'])\n",
    "\n",
    "fig.show()"
   ]
  },
  {
   "cell_type": "markdown",
   "id": "2e2fd58b",
   "metadata": {
    "papermill": {
     "duration": 0.053644,
     "end_time": "2023-10-31T05:07:55.999314",
     "exception": false,
     "start_time": "2023-10-31T05:07:55.945670",
     "status": "completed"
    },
    "tags": []
   },
   "source": [
    "Visualizing the total amount spent by each gender across various age groups"
   ]
  },
  {
   "cell_type": "code",
   "execution_count": 55,
   "id": "29f7a89e",
   "metadata": {
    "execution": {
     "iopub.execute_input": "2023-10-31T05:07:56.108745Z",
     "iopub.status.busy": "2023-10-31T05:07:56.107844Z",
     "iopub.status.idle": "2023-10-31T05:07:56.205825Z",
     "shell.execute_reply": "2023-10-31T05:07:56.204571Z"
    },
    "papermill": {
     "duration": 0.155907,
     "end_time": "2023-10-31T05:07:56.208570",
     "exception": false,
     "start_time": "2023-10-31T05:07:56.052663",
     "status": "completed"
    },
    "tags": []
   },
   "outputs": [
    {
     "data": {
      "text/html": [
       "<div>                            <div id=\"fbc226df-c5ad-4c66-9d11-76da92c89065\" class=\"plotly-graph-div\" style=\"height:500px; width:800px;\"></div>            <script type=\"text/javascript\">                require([\"plotly\"], function(Plotly) {                    window.PLOTLYENV=window.PLOTLYENV || {};                                    if (document.getElementById(\"fbc226df-c5ad-4c66-9d11-76da92c89065\")) {                    Plotly.newPlot(                        \"fbc226df-c5ad-4c66-9d11-76da92c89065\",                        [{\"alignmentgroup\":\"True\",\"hovertemplate\":\"gender=Female\\u003cbr\\u003eage_group=%{x}\\u003cbr\\u003eamount=%{y}\\u003cextra\\u003e\\u003c\\u002fextra\\u003e\",\"legendgroup\":\"Female\",\"marker\":{\"color\":\"#636efa\",\"pattern\":{\"shape\":\"\"}},\"name\":\"Female\",\"offsetgroup\":\"Female\",\"orientation\":\"v\",\"showlegend\":true,\"textposition\":\"auto\",\"texttemplate\":\"%{y}\",\"x\":[\"26-35\",\"36-45\",\"18-25\",\"46-50\",\"51-55\",\"55+\",\"0-17\"],\"xaxis\":\"x\",\"y\":[30963954.94,15509957.49,11887003.0,6743393.0,5385208.0,2404931.0,1441409.0],\"yaxis\":\"y\",\"type\":\"bar\"},{\"alignmentgroup\":\"True\",\"hovertemplate\":\"gender=Male\\u003cbr\\u003eage_group=%{x}\\u003cbr\\u003eamount=%{y}\\u003cextra\\u003e\\u003c\\u002fextra\\u003e\",\"legendgroup\":\"Male\",\"marker\":{\"color\":\"#EF553B\",\"pattern\":{\"shape\":\"\"}},\"name\":\"Male\",\"offsetgroup\":\"Male\",\"orientation\":\"v\",\"showlegend\":true,\"textposition\":\"auto\",\"texttemplate\":\"%{y}\",\"x\":[\"26-35\",\"36-45\",\"18-25\",\"51-55\",\"46-50\",\"55+\",\"0-17\"],\"xaxis\":\"x\",\"y\":[11649489.0,6635038.0,5353729.0,2876269.0,2464451.0,1676056.0,1258244.0],\"yaxis\":\"y\",\"type\":\"bar\"}],                        {\"template\":{\"data\":{\"histogram2dcontour\":[{\"type\":\"histogram2dcontour\",\"colorbar\":{\"outlinewidth\":0,\"ticks\":\"\"},\"colorscale\":[[0.0,\"#0d0887\"],[0.1111111111111111,\"#46039f\"],[0.2222222222222222,\"#7201a8\"],[0.3333333333333333,\"#9c179e\"],[0.4444444444444444,\"#bd3786\"],[0.5555555555555556,\"#d8576b\"],[0.6666666666666666,\"#ed7953\"],[0.7777777777777778,\"#fb9f3a\"],[0.8888888888888888,\"#fdca26\"],[1.0,\"#f0f921\"]]}],\"choropleth\":[{\"type\":\"choropleth\",\"colorbar\":{\"outlinewidth\":0,\"ticks\":\"\"}}],\"histogram2d\":[{\"type\":\"histogram2d\",\"colorbar\":{\"outlinewidth\":0,\"ticks\":\"\"},\"colorscale\":[[0.0,\"#0d0887\"],[0.1111111111111111,\"#46039f\"],[0.2222222222222222,\"#7201a8\"],[0.3333333333333333,\"#9c179e\"],[0.4444444444444444,\"#bd3786\"],[0.5555555555555556,\"#d8576b\"],[0.6666666666666666,\"#ed7953\"],[0.7777777777777778,\"#fb9f3a\"],[0.8888888888888888,\"#fdca26\"],[1.0,\"#f0f921\"]]}],\"heatmap\":[{\"type\":\"heatmap\",\"colorbar\":{\"outlinewidth\":0,\"ticks\":\"\"},\"colorscale\":[[0.0,\"#0d0887\"],[0.1111111111111111,\"#46039f\"],[0.2222222222222222,\"#7201a8\"],[0.3333333333333333,\"#9c179e\"],[0.4444444444444444,\"#bd3786\"],[0.5555555555555556,\"#d8576b\"],[0.6666666666666666,\"#ed7953\"],[0.7777777777777778,\"#fb9f3a\"],[0.8888888888888888,\"#fdca26\"],[1.0,\"#f0f921\"]]}],\"heatmapgl\":[{\"type\":\"heatmapgl\",\"colorbar\":{\"outlinewidth\":0,\"ticks\":\"\"},\"colorscale\":[[0.0,\"#0d0887\"],[0.1111111111111111,\"#46039f\"],[0.2222222222222222,\"#7201a8\"],[0.3333333333333333,\"#9c179e\"],[0.4444444444444444,\"#bd3786\"],[0.5555555555555556,\"#d8576b\"],[0.6666666666666666,\"#ed7953\"],[0.7777777777777778,\"#fb9f3a\"],[0.8888888888888888,\"#fdca26\"],[1.0,\"#f0f921\"]]}],\"contourcarpet\":[{\"type\":\"contourcarpet\",\"colorbar\":{\"outlinewidth\":0,\"ticks\":\"\"}}],\"contour\":[{\"type\":\"contour\",\"colorbar\":{\"outlinewidth\":0,\"ticks\":\"\"},\"colorscale\":[[0.0,\"#0d0887\"],[0.1111111111111111,\"#46039f\"],[0.2222222222222222,\"#7201a8\"],[0.3333333333333333,\"#9c179e\"],[0.4444444444444444,\"#bd3786\"],[0.5555555555555556,\"#d8576b\"],[0.6666666666666666,\"#ed7953\"],[0.7777777777777778,\"#fb9f3a\"],[0.8888888888888888,\"#fdca26\"],[1.0,\"#f0f921\"]]}],\"surface\":[{\"type\":\"surface\",\"colorbar\":{\"outlinewidth\":0,\"ticks\":\"\"},\"colorscale\":[[0.0,\"#0d0887\"],[0.1111111111111111,\"#46039f\"],[0.2222222222222222,\"#7201a8\"],[0.3333333333333333,\"#9c179e\"],[0.4444444444444444,\"#bd3786\"],[0.5555555555555556,\"#d8576b\"],[0.6666666666666666,\"#ed7953\"],[0.7777777777777778,\"#fb9f3a\"],[0.8888888888888888,\"#fdca26\"],[1.0,\"#f0f921\"]]}],\"mesh3d\":[{\"type\":\"mesh3d\",\"colorbar\":{\"outlinewidth\":0,\"ticks\":\"\"}}],\"scatter\":[{\"fillpattern\":{\"fillmode\":\"overlay\",\"size\":10,\"solidity\":0.2},\"type\":\"scatter\"}],\"parcoords\":[{\"type\":\"parcoords\",\"line\":{\"colorbar\":{\"outlinewidth\":0,\"ticks\":\"\"}}}],\"scatterpolargl\":[{\"type\":\"scatterpolargl\",\"marker\":{\"colorbar\":{\"outlinewidth\":0,\"ticks\":\"\"}}}],\"bar\":[{\"error_x\":{\"color\":\"#2a3f5f\"},\"error_y\":{\"color\":\"#2a3f5f\"},\"marker\":{\"line\":{\"color\":\"#E5ECF6\",\"width\":0.5},\"pattern\":{\"fillmode\":\"overlay\",\"size\":10,\"solidity\":0.2}},\"type\":\"bar\"}],\"scattergeo\":[{\"type\":\"scattergeo\",\"marker\":{\"colorbar\":{\"outlinewidth\":0,\"ticks\":\"\"}}}],\"scatterpolar\":[{\"type\":\"scatterpolar\",\"marker\":{\"colorbar\":{\"outlinewidth\":0,\"ticks\":\"\"}}}],\"histogram\":[{\"marker\":{\"pattern\":{\"fillmode\":\"overlay\",\"size\":10,\"solidity\":0.2}},\"type\":\"histogram\"}],\"scattergl\":[{\"type\":\"scattergl\",\"marker\":{\"colorbar\":{\"outlinewidth\":0,\"ticks\":\"\"}}}],\"scatter3d\":[{\"type\":\"scatter3d\",\"line\":{\"colorbar\":{\"outlinewidth\":0,\"ticks\":\"\"}},\"marker\":{\"colorbar\":{\"outlinewidth\":0,\"ticks\":\"\"}}}],\"scattermapbox\":[{\"type\":\"scattermapbox\",\"marker\":{\"colorbar\":{\"outlinewidth\":0,\"ticks\":\"\"}}}],\"scatterternary\":[{\"type\":\"scatterternary\",\"marker\":{\"colorbar\":{\"outlinewidth\":0,\"ticks\":\"\"}}}],\"scattercarpet\":[{\"type\":\"scattercarpet\",\"marker\":{\"colorbar\":{\"outlinewidth\":0,\"ticks\":\"\"}}}],\"carpet\":[{\"aaxis\":{\"endlinecolor\":\"#2a3f5f\",\"gridcolor\":\"white\",\"linecolor\":\"white\",\"minorgridcolor\":\"white\",\"startlinecolor\":\"#2a3f5f\"},\"baxis\":{\"endlinecolor\":\"#2a3f5f\",\"gridcolor\":\"white\",\"linecolor\":\"white\",\"minorgridcolor\":\"white\",\"startlinecolor\":\"#2a3f5f\"},\"type\":\"carpet\"}],\"table\":[{\"cells\":{\"fill\":{\"color\":\"#EBF0F8\"},\"line\":{\"color\":\"white\"}},\"header\":{\"fill\":{\"color\":\"#C8D4E3\"},\"line\":{\"color\":\"white\"}},\"type\":\"table\"}],\"barpolar\":[{\"marker\":{\"line\":{\"color\":\"#E5ECF6\",\"width\":0.5},\"pattern\":{\"fillmode\":\"overlay\",\"size\":10,\"solidity\":0.2}},\"type\":\"barpolar\"}],\"pie\":[{\"automargin\":true,\"type\":\"pie\"}]},\"layout\":{\"autotypenumbers\":\"strict\",\"colorway\":[\"#636efa\",\"#EF553B\",\"#00cc96\",\"#ab63fa\",\"#FFA15A\",\"#19d3f3\",\"#FF6692\",\"#B6E880\",\"#FF97FF\",\"#FECB52\"],\"font\":{\"color\":\"#2a3f5f\"},\"hovermode\":\"closest\",\"hoverlabel\":{\"align\":\"left\"},\"paper_bgcolor\":\"white\",\"plot_bgcolor\":\"#E5ECF6\",\"polar\":{\"bgcolor\":\"#E5ECF6\",\"angularaxis\":{\"gridcolor\":\"white\",\"linecolor\":\"white\",\"ticks\":\"\"},\"radialaxis\":{\"gridcolor\":\"white\",\"linecolor\":\"white\",\"ticks\":\"\"}},\"ternary\":{\"bgcolor\":\"#E5ECF6\",\"aaxis\":{\"gridcolor\":\"white\",\"linecolor\":\"white\",\"ticks\":\"\"},\"baxis\":{\"gridcolor\":\"white\",\"linecolor\":\"white\",\"ticks\":\"\"},\"caxis\":{\"gridcolor\":\"white\",\"linecolor\":\"white\",\"ticks\":\"\"}},\"coloraxis\":{\"colorbar\":{\"outlinewidth\":0,\"ticks\":\"\"}},\"colorscale\":{\"sequential\":[[0.0,\"#0d0887\"],[0.1111111111111111,\"#46039f\"],[0.2222222222222222,\"#7201a8\"],[0.3333333333333333,\"#9c179e\"],[0.4444444444444444,\"#bd3786\"],[0.5555555555555556,\"#d8576b\"],[0.6666666666666666,\"#ed7953\"],[0.7777777777777778,\"#fb9f3a\"],[0.8888888888888888,\"#fdca26\"],[1.0,\"#f0f921\"]],\"sequentialminus\":[[0.0,\"#0d0887\"],[0.1111111111111111,\"#46039f\"],[0.2222222222222222,\"#7201a8\"],[0.3333333333333333,\"#9c179e\"],[0.4444444444444444,\"#bd3786\"],[0.5555555555555556,\"#d8576b\"],[0.6666666666666666,\"#ed7953\"],[0.7777777777777778,\"#fb9f3a\"],[0.8888888888888888,\"#fdca26\"],[1.0,\"#f0f921\"]],\"diverging\":[[0,\"#8e0152\"],[0.1,\"#c51b7d\"],[0.2,\"#de77ae\"],[0.3,\"#f1b6da\"],[0.4,\"#fde0ef\"],[0.5,\"#f7f7f7\"],[0.6,\"#e6f5d0\"],[0.7,\"#b8e186\"],[0.8,\"#7fbc41\"],[0.9,\"#4d9221\"],[1,\"#276419\"]]},\"xaxis\":{\"gridcolor\":\"white\",\"linecolor\":\"white\",\"ticks\":\"\",\"title\":{\"standoff\":15},\"zerolinecolor\":\"white\",\"automargin\":true,\"zerolinewidth\":2},\"yaxis\":{\"gridcolor\":\"white\",\"linecolor\":\"white\",\"ticks\":\"\",\"title\":{\"standoff\":15},\"zerolinecolor\":\"white\",\"automargin\":true,\"zerolinewidth\":2},\"scene\":{\"xaxis\":{\"backgroundcolor\":\"#E5ECF6\",\"gridcolor\":\"white\",\"linecolor\":\"white\",\"showbackground\":true,\"ticks\":\"\",\"zerolinecolor\":\"white\",\"gridwidth\":2},\"yaxis\":{\"backgroundcolor\":\"#E5ECF6\",\"gridcolor\":\"white\",\"linecolor\":\"white\",\"showbackground\":true,\"ticks\":\"\",\"zerolinecolor\":\"white\",\"gridwidth\":2},\"zaxis\":{\"backgroundcolor\":\"#E5ECF6\",\"gridcolor\":\"white\",\"linecolor\":\"white\",\"showbackground\":true,\"ticks\":\"\",\"zerolinecolor\":\"white\",\"gridwidth\":2}},\"shapedefaults\":{\"line\":{\"color\":\"#2a3f5f\"}},\"annotationdefaults\":{\"arrowcolor\":\"#2a3f5f\",\"arrowhead\":0,\"arrowwidth\":1},\"geo\":{\"bgcolor\":\"white\",\"landcolor\":\"#E5ECF6\",\"subunitcolor\":\"white\",\"showland\":true,\"showlakes\":true,\"lakecolor\":\"white\"},\"title\":{\"x\":0.05},\"mapbox\":{\"style\":\"light\"}}},\"xaxis\":{\"anchor\":\"y\",\"domain\":[0.0,1.0],\"title\":{\"text\":\"Age groups\"},\"categoryorder\":\"array\",\"categoryarray\":[\"0-17\",\"18-25\",\"26-35\",\"36-45\",\"46-50\",\"51-55\",\"55+\"]},\"yaxis\":{\"anchor\":\"x\",\"domain\":[0.0,1.0],\"title\":{\"text\":\"Total amount spent (Rupees)\"}},\"legend\":{\"title\":{\"text\":\"gender\"},\"tracegroupgap\":0},\"margin\":{\"t\":60},\"barmode\":\"group\",\"title\":{\"text\":\"Total amount spent by each gender across various age groups\"},\"height\":500,\"width\":800,\"showlegend\":true},                        {\"responsive\": true}                    ).then(function(){\n",
       "                            \n",
       "var gd = document.getElementById('fbc226df-c5ad-4c66-9d11-76da92c89065');\n",
       "var x = new MutationObserver(function (mutations, observer) {{\n",
       "        var display = window.getComputedStyle(gd).display;\n",
       "        if (!display || display === 'none') {{\n",
       "            console.log([gd, 'removed!']);\n",
       "            Plotly.purge(gd);\n",
       "            observer.disconnect();\n",
       "        }}\n",
       "}});\n",
       "\n",
       "// Listen for the removal of the full notebook cells\n",
       "var notebookContainer = gd.closest('#notebook-container');\n",
       "if (notebookContainer) {{\n",
       "    x.observe(notebookContainer, {childList: true});\n",
       "}}\n",
       "\n",
       "// Listen for the clearing of the current output cell\n",
       "var outputEl = gd.closest('.output');\n",
       "if (outputEl) {{\n",
       "    x.observe(outputEl, {childList: true});\n",
       "}}\n",
       "\n",
       "                        })                };                });            </script>        </div>"
      ]
     },
     "metadata": {},
     "output_type": "display_data"
    }
   ],
   "source": [
    "age_gender_amount=df.groupby(['age_group', 'gender'], as_index=False)['amount'].sum().sort_values(by='amount', ascending=False)\n",
    "age_gender_amount['gender']=age_gender_amount['gender'].replace('F', 'Female')\n",
    "age_gender_amount['gender']=age_gender_amount['gender'].replace('M', 'Male')\n",
    "\n",
    "fig=px.bar(data_frame=age_gender_amount, \n",
    "           x='age_group', \n",
    "           y='amount', \n",
    "           color='gender',\n",
    "           barmode='group', \n",
    "           text_auto=True)\n",
    "\n",
    "fig.update_layout(title=\"Total amount spent by each gender across various age groups\", \n",
    "                  height=500, \n",
    "                  width=800,  \n",
    "                  showlegend=True, \n",
    "                  yaxis_title_text='Total amount spent (Rupees)', \n",
    "                  xaxis_title_text='Age groups')\n",
    "\n",
    "fig.update_xaxes(categoryorder='array', categoryarray=['0-17', '18-25', '26-35', '36-45', '46-50', '51-55', '55+'])\n",
    "\n",
    "fig.show()"
   ]
  },
  {
   "cell_type": "markdown",
   "id": "87258249",
   "metadata": {
    "papermill": {
     "duration": 0.053853,
     "end_time": "2023-10-31T05:07:56.316895",
     "exception": false,
     "start_time": "2023-10-31T05:07:56.263042",
     "status": "completed"
    },
    "tags": []
   },
   "source": [
    "Looking at the top 5 product categories for orders placed by feamle customers in the 26-35 age group "
   ]
  },
  {
   "cell_type": "code",
   "execution_count": 56,
   "id": "8ca38c8b",
   "metadata": {
    "execution": {
     "iopub.execute_input": "2023-10-31T05:07:56.429354Z",
     "iopub.status.busy": "2023-10-31T05:07:56.428342Z",
     "iopub.status.idle": "2023-10-31T05:07:56.450968Z",
     "shell.execute_reply": "2023-10-31T05:07:56.449796Z"
    },
    "papermill": {
     "duration": 0.080154,
     "end_time": "2023-10-31T05:07:56.453583",
     "exception": false,
     "start_time": "2023-10-31T05:07:56.373429",
     "status": "completed"
    },
    "tags": []
   },
   "outputs": [
    {
     "data": {
      "text/html": [
       "<style type=\"text/css\">\n",
       "#T_c8e26 th:not(.index_name) {\n",
       "  font-weight: bold;\n",
       "  font-size: 110%;\n",
       "}\n",
       "#T_c8e26_row0_col0, #T_c8e26_row0_col1, #T_c8e26_row1_col0, #T_c8e26_row1_col1, #T_c8e26_row2_col0, #T_c8e26_row2_col1, #T_c8e26_row3_col0, #T_c8e26_row3_col1, #T_c8e26_row4_col0, #T_c8e26_row4_col1 {\n",
       "  border: 1px solid;\n",
       "}\n",
       "</style>\n",
       "<table id=\"T_c8e26\">\n",
       "  <thead>\n",
       "    <tr>\n",
       "      <th class=\"blank level0\" >&nbsp;</th>\n",
       "      <th id=\"T_c8e26_level0_col0\" class=\"col_heading level0 col0\" >product_category</th>\n",
       "      <th id=\"T_c8e26_level0_col1\" class=\"col_heading level0 col1\" >counts</th>\n",
       "    </tr>\n",
       "  </thead>\n",
       "  <tbody>\n",
       "    <tr>\n",
       "      <th id=\"T_c8e26_level0_row0\" class=\"row_heading level0 row0\" >0</th>\n",
       "      <td id=\"T_c8e26_row0_col0\" class=\"data row0 col0\" >Clothing & Apparel</td>\n",
       "      <td id=\"T_c8e26_row0_col1\" class=\"data row0 col1\" >746</td>\n",
       "    </tr>\n",
       "    <tr>\n",
       "      <th id=\"T_c8e26_level0_row1\" class=\"row_heading level0 row1\" >1</th>\n",
       "      <td id=\"T_c8e26_row1_col0\" class=\"data row1 col0\" >Food</td>\n",
       "      <td id=\"T_c8e26_row1_col1\" class=\"data row1 col1\" >725</td>\n",
       "    </tr>\n",
       "    <tr>\n",
       "      <th id=\"T_c8e26_level0_row2\" class=\"row_heading level0 row2\" >2</th>\n",
       "      <td id=\"T_c8e26_row2_col0\" class=\"data row2 col0\" >Electronics & Gadgets</td>\n",
       "      <td id=\"T_c8e26_row2_col1\" class=\"data row2 col1\" >597</td>\n",
       "    </tr>\n",
       "    <tr>\n",
       "      <th id=\"T_c8e26_level0_row3\" class=\"row_heading level0 row3\" >3</th>\n",
       "      <td id=\"T_c8e26_row3_col0\" class=\"data row3 col0\" >Footwear & Shoes</td>\n",
       "      <td id=\"T_c8e26_row3_col1\" class=\"data row3 col1\" >353</td>\n",
       "    </tr>\n",
       "    <tr>\n",
       "      <th id=\"T_c8e26_level0_row4\" class=\"row_heading level0 row4\" >4</th>\n",
       "      <td id=\"T_c8e26_row4_col0\" class=\"data row4 col0\" >Household items</td>\n",
       "      <td id=\"T_c8e26_row4_col1\" class=\"data row4 col1\" >167</td>\n",
       "    </tr>\n",
       "  </tbody>\n",
       "</table>\n"
      ],
      "text/plain": [
       "<pandas.io.formats.style.Styler at 0x789af0898a00>"
      ]
     },
     "execution_count": 56,
     "metadata": {},
     "output_type": "execute_result"
    }
   ],
   "source": [
    "female_2635=df[(df['gender']=='F') & (df['age_group']=='26-35')].groupby(['product_category']).size().reset_index(name='counts').sort_values('counts', ascending=False).reset_index(drop=True)\n",
    "female_2635.head().style.set_properties(**{\"border\" : \"1px solid\"}).set_table_styles([headers])"
   ]
  },
  {
   "cell_type": "markdown",
   "id": "9bc564ca",
   "metadata": {
    "papermill": {
     "duration": 0.055554,
     "end_time": "2023-10-31T05:07:56.563465",
     "exception": false,
     "start_time": "2023-10-31T05:07:56.507911",
     "status": "completed"
    },
    "tags": []
   },
   "source": [
    "Visualizing the total amount spent based on marital status"
   ]
  },
  {
   "cell_type": "code",
   "execution_count": 57,
   "id": "a4f9cea4",
   "metadata": {
    "execution": {
     "iopub.execute_input": "2023-10-31T05:07:56.675411Z",
     "iopub.status.busy": "2023-10-31T05:07:56.674093Z",
     "iopub.status.idle": "2023-10-31T05:07:56.769353Z",
     "shell.execute_reply": "2023-10-31T05:07:56.768036Z"
    },
    "papermill": {
     "duration": 0.153796,
     "end_time": "2023-10-31T05:07:56.771934",
     "exception": false,
     "start_time": "2023-10-31T05:07:56.618138",
     "status": "completed"
    },
    "tags": []
   },
   "outputs": [
    {
     "data": {
      "text/html": [
       "<div>                            <div id=\"a7971464-6975-4ae0-9193-79b19f058136\" class=\"plotly-graph-div\" style=\"height:500px; width:800px;\"></div>            <script type=\"text/javascript\">                require([\"plotly\"], function(Plotly) {                    window.PLOTLYENV=window.PLOTLYENV || {};                                    if (document.getElementById(\"a7971464-6975-4ae0-9193-79b19f058136\")) {                    Plotly.newPlot(                        \"a7971464-6975-4ae0-9193-79b19f058136\",                        [{\"alignmentgroup\":\"True\",\"hovertemplate\":\"marital_status=%{x}\\u003cbr\\u003eamount=%{y}\\u003cextra\\u003e\\u003c\\u002fextra\\u003e\",\"legendgroup\":\"Not married\",\"marker\":{\"color\":\"#636efa\",\"pattern\":{\"shape\":\"\"}},\"name\":\"Not married\",\"offsetgroup\":\"Not married\",\"orientation\":\"v\",\"showlegend\":true,\"textposition\":\"auto\",\"texttemplate\":\"%{y}\",\"x\":[\"Not married\"],\"xaxis\":\"x\",\"y\":[62125386.44],\"yaxis\":\"y\",\"type\":\"bar\"},{\"alignmentgroup\":\"True\",\"hovertemplate\":\"marital_status=%{x}\\u003cbr\\u003eamount=%{y}\\u003cextra\\u003e\\u003c\\u002fextra\\u003e\",\"legendgroup\":\"Married\",\"marker\":{\"color\":\"#EF553B\",\"pattern\":{\"shape\":\"\"}},\"name\":\"Married\",\"offsetgroup\":\"Married\",\"orientation\":\"v\",\"showlegend\":true,\"textposition\":\"auto\",\"texttemplate\":\"%{y}\",\"x\":[\"Married\"],\"xaxis\":\"x\",\"y\":[44123745.99],\"yaxis\":\"y\",\"type\":\"bar\"}],                        {\"template\":{\"data\":{\"histogram2dcontour\":[{\"type\":\"histogram2dcontour\",\"colorbar\":{\"outlinewidth\":0,\"ticks\":\"\"},\"colorscale\":[[0.0,\"#0d0887\"],[0.1111111111111111,\"#46039f\"],[0.2222222222222222,\"#7201a8\"],[0.3333333333333333,\"#9c179e\"],[0.4444444444444444,\"#bd3786\"],[0.5555555555555556,\"#d8576b\"],[0.6666666666666666,\"#ed7953\"],[0.7777777777777778,\"#fb9f3a\"],[0.8888888888888888,\"#fdca26\"],[1.0,\"#f0f921\"]]}],\"choropleth\":[{\"type\":\"choropleth\",\"colorbar\":{\"outlinewidth\":0,\"ticks\":\"\"}}],\"histogram2d\":[{\"type\":\"histogram2d\",\"colorbar\":{\"outlinewidth\":0,\"ticks\":\"\"},\"colorscale\":[[0.0,\"#0d0887\"],[0.1111111111111111,\"#46039f\"],[0.2222222222222222,\"#7201a8\"],[0.3333333333333333,\"#9c179e\"],[0.4444444444444444,\"#bd3786\"],[0.5555555555555556,\"#d8576b\"],[0.6666666666666666,\"#ed7953\"],[0.7777777777777778,\"#fb9f3a\"],[0.8888888888888888,\"#fdca26\"],[1.0,\"#f0f921\"]]}],\"heatmap\":[{\"type\":\"heatmap\",\"colorbar\":{\"outlinewidth\":0,\"ticks\":\"\"},\"colorscale\":[[0.0,\"#0d0887\"],[0.1111111111111111,\"#46039f\"],[0.2222222222222222,\"#7201a8\"],[0.3333333333333333,\"#9c179e\"],[0.4444444444444444,\"#bd3786\"],[0.5555555555555556,\"#d8576b\"],[0.6666666666666666,\"#ed7953\"],[0.7777777777777778,\"#fb9f3a\"],[0.8888888888888888,\"#fdca26\"],[1.0,\"#f0f921\"]]}],\"heatmapgl\":[{\"type\":\"heatmapgl\",\"colorbar\":{\"outlinewidth\":0,\"ticks\":\"\"},\"colorscale\":[[0.0,\"#0d0887\"],[0.1111111111111111,\"#46039f\"],[0.2222222222222222,\"#7201a8\"],[0.3333333333333333,\"#9c179e\"],[0.4444444444444444,\"#bd3786\"],[0.5555555555555556,\"#d8576b\"],[0.6666666666666666,\"#ed7953\"],[0.7777777777777778,\"#fb9f3a\"],[0.8888888888888888,\"#fdca26\"],[1.0,\"#f0f921\"]]}],\"contourcarpet\":[{\"type\":\"contourcarpet\",\"colorbar\":{\"outlinewidth\":0,\"ticks\":\"\"}}],\"contour\":[{\"type\":\"contour\",\"colorbar\":{\"outlinewidth\":0,\"ticks\":\"\"},\"colorscale\":[[0.0,\"#0d0887\"],[0.1111111111111111,\"#46039f\"],[0.2222222222222222,\"#7201a8\"],[0.3333333333333333,\"#9c179e\"],[0.4444444444444444,\"#bd3786\"],[0.5555555555555556,\"#d8576b\"],[0.6666666666666666,\"#ed7953\"],[0.7777777777777778,\"#fb9f3a\"],[0.8888888888888888,\"#fdca26\"],[1.0,\"#f0f921\"]]}],\"surface\":[{\"type\":\"surface\",\"colorbar\":{\"outlinewidth\":0,\"ticks\":\"\"},\"colorscale\":[[0.0,\"#0d0887\"],[0.1111111111111111,\"#46039f\"],[0.2222222222222222,\"#7201a8\"],[0.3333333333333333,\"#9c179e\"],[0.4444444444444444,\"#bd3786\"],[0.5555555555555556,\"#d8576b\"],[0.6666666666666666,\"#ed7953\"],[0.7777777777777778,\"#fb9f3a\"],[0.8888888888888888,\"#fdca26\"],[1.0,\"#f0f921\"]]}],\"mesh3d\":[{\"type\":\"mesh3d\",\"colorbar\":{\"outlinewidth\":0,\"ticks\":\"\"}}],\"scatter\":[{\"fillpattern\":{\"fillmode\":\"overlay\",\"size\":10,\"solidity\":0.2},\"type\":\"scatter\"}],\"parcoords\":[{\"type\":\"parcoords\",\"line\":{\"colorbar\":{\"outlinewidth\":0,\"ticks\":\"\"}}}],\"scatterpolargl\":[{\"type\":\"scatterpolargl\",\"marker\":{\"colorbar\":{\"outlinewidth\":0,\"ticks\":\"\"}}}],\"bar\":[{\"error_x\":{\"color\":\"#2a3f5f\"},\"error_y\":{\"color\":\"#2a3f5f\"},\"marker\":{\"line\":{\"color\":\"#E5ECF6\",\"width\":0.5},\"pattern\":{\"fillmode\":\"overlay\",\"size\":10,\"solidity\":0.2}},\"type\":\"bar\"}],\"scattergeo\":[{\"type\":\"scattergeo\",\"marker\":{\"colorbar\":{\"outlinewidth\":0,\"ticks\":\"\"}}}],\"scatterpolar\":[{\"type\":\"scatterpolar\",\"marker\":{\"colorbar\":{\"outlinewidth\":0,\"ticks\":\"\"}}}],\"histogram\":[{\"marker\":{\"pattern\":{\"fillmode\":\"overlay\",\"size\":10,\"solidity\":0.2}},\"type\":\"histogram\"}],\"scattergl\":[{\"type\":\"scattergl\",\"marker\":{\"colorbar\":{\"outlinewidth\":0,\"ticks\":\"\"}}}],\"scatter3d\":[{\"type\":\"scatter3d\",\"line\":{\"colorbar\":{\"outlinewidth\":0,\"ticks\":\"\"}},\"marker\":{\"colorbar\":{\"outlinewidth\":0,\"ticks\":\"\"}}}],\"scattermapbox\":[{\"type\":\"scattermapbox\",\"marker\":{\"colorbar\":{\"outlinewidth\":0,\"ticks\":\"\"}}}],\"scatterternary\":[{\"type\":\"scatterternary\",\"marker\":{\"colorbar\":{\"outlinewidth\":0,\"ticks\":\"\"}}}],\"scattercarpet\":[{\"type\":\"scattercarpet\",\"marker\":{\"colorbar\":{\"outlinewidth\":0,\"ticks\":\"\"}}}],\"carpet\":[{\"aaxis\":{\"endlinecolor\":\"#2a3f5f\",\"gridcolor\":\"white\",\"linecolor\":\"white\",\"minorgridcolor\":\"white\",\"startlinecolor\":\"#2a3f5f\"},\"baxis\":{\"endlinecolor\":\"#2a3f5f\",\"gridcolor\":\"white\",\"linecolor\":\"white\",\"minorgridcolor\":\"white\",\"startlinecolor\":\"#2a3f5f\"},\"type\":\"carpet\"}],\"table\":[{\"cells\":{\"fill\":{\"color\":\"#EBF0F8\"},\"line\":{\"color\":\"white\"}},\"header\":{\"fill\":{\"color\":\"#C8D4E3\"},\"line\":{\"color\":\"white\"}},\"type\":\"table\"}],\"barpolar\":[{\"marker\":{\"line\":{\"color\":\"#E5ECF6\",\"width\":0.5},\"pattern\":{\"fillmode\":\"overlay\",\"size\":10,\"solidity\":0.2}},\"type\":\"barpolar\"}],\"pie\":[{\"automargin\":true,\"type\":\"pie\"}]},\"layout\":{\"autotypenumbers\":\"strict\",\"colorway\":[\"#636efa\",\"#EF553B\",\"#00cc96\",\"#ab63fa\",\"#FFA15A\",\"#19d3f3\",\"#FF6692\",\"#B6E880\",\"#FF97FF\",\"#FECB52\"],\"font\":{\"color\":\"#2a3f5f\"},\"hovermode\":\"closest\",\"hoverlabel\":{\"align\":\"left\"},\"paper_bgcolor\":\"white\",\"plot_bgcolor\":\"#E5ECF6\",\"polar\":{\"bgcolor\":\"#E5ECF6\",\"angularaxis\":{\"gridcolor\":\"white\",\"linecolor\":\"white\",\"ticks\":\"\"},\"radialaxis\":{\"gridcolor\":\"white\",\"linecolor\":\"white\",\"ticks\":\"\"}},\"ternary\":{\"bgcolor\":\"#E5ECF6\",\"aaxis\":{\"gridcolor\":\"white\",\"linecolor\":\"white\",\"ticks\":\"\"},\"baxis\":{\"gridcolor\":\"white\",\"linecolor\":\"white\",\"ticks\":\"\"},\"caxis\":{\"gridcolor\":\"white\",\"linecolor\":\"white\",\"ticks\":\"\"}},\"coloraxis\":{\"colorbar\":{\"outlinewidth\":0,\"ticks\":\"\"}},\"colorscale\":{\"sequential\":[[0.0,\"#0d0887\"],[0.1111111111111111,\"#46039f\"],[0.2222222222222222,\"#7201a8\"],[0.3333333333333333,\"#9c179e\"],[0.4444444444444444,\"#bd3786\"],[0.5555555555555556,\"#d8576b\"],[0.6666666666666666,\"#ed7953\"],[0.7777777777777778,\"#fb9f3a\"],[0.8888888888888888,\"#fdca26\"],[1.0,\"#f0f921\"]],\"sequentialminus\":[[0.0,\"#0d0887\"],[0.1111111111111111,\"#46039f\"],[0.2222222222222222,\"#7201a8\"],[0.3333333333333333,\"#9c179e\"],[0.4444444444444444,\"#bd3786\"],[0.5555555555555556,\"#d8576b\"],[0.6666666666666666,\"#ed7953\"],[0.7777777777777778,\"#fb9f3a\"],[0.8888888888888888,\"#fdca26\"],[1.0,\"#f0f921\"]],\"diverging\":[[0,\"#8e0152\"],[0.1,\"#c51b7d\"],[0.2,\"#de77ae\"],[0.3,\"#f1b6da\"],[0.4,\"#fde0ef\"],[0.5,\"#f7f7f7\"],[0.6,\"#e6f5d0\"],[0.7,\"#b8e186\"],[0.8,\"#7fbc41\"],[0.9,\"#4d9221\"],[1,\"#276419\"]]},\"xaxis\":{\"gridcolor\":\"white\",\"linecolor\":\"white\",\"ticks\":\"\",\"title\":{\"standoff\":15},\"zerolinecolor\":\"white\",\"automargin\":true,\"zerolinewidth\":2},\"yaxis\":{\"gridcolor\":\"white\",\"linecolor\":\"white\",\"ticks\":\"\",\"title\":{\"standoff\":15},\"zerolinecolor\":\"white\",\"automargin\":true,\"zerolinewidth\":2},\"scene\":{\"xaxis\":{\"backgroundcolor\":\"#E5ECF6\",\"gridcolor\":\"white\",\"linecolor\":\"white\",\"showbackground\":true,\"ticks\":\"\",\"zerolinecolor\":\"white\",\"gridwidth\":2},\"yaxis\":{\"backgroundcolor\":\"#E5ECF6\",\"gridcolor\":\"white\",\"linecolor\":\"white\",\"showbackground\":true,\"ticks\":\"\",\"zerolinecolor\":\"white\",\"gridwidth\":2},\"zaxis\":{\"backgroundcolor\":\"#E5ECF6\",\"gridcolor\":\"white\",\"linecolor\":\"white\",\"showbackground\":true,\"ticks\":\"\",\"zerolinecolor\":\"white\",\"gridwidth\":2}},\"shapedefaults\":{\"line\":{\"color\":\"#2a3f5f\"}},\"annotationdefaults\":{\"arrowcolor\":\"#2a3f5f\",\"arrowhead\":0,\"arrowwidth\":1},\"geo\":{\"bgcolor\":\"white\",\"landcolor\":\"#E5ECF6\",\"subunitcolor\":\"white\",\"showland\":true,\"showlakes\":true,\"lakecolor\":\"white\"},\"title\":{\"x\":0.05},\"mapbox\":{\"style\":\"light\"}}},\"xaxis\":{\"anchor\":\"y\",\"domain\":[0.0,1.0],\"title\":{\"text\":\"Marital status\"},\"categoryorder\":\"array\",\"categoryarray\":[\"Not married\",\"Married\"]},\"yaxis\":{\"anchor\":\"x\",\"domain\":[0.0,1.0],\"title\":{\"text\":\"Total amount spent (Rupees)\"}},\"legend\":{\"title\":{\"text\":\"marital_status\"},\"tracegroupgap\":0},\"margin\":{\"t\":60},\"barmode\":\"relative\",\"title\":{\"text\":\"Total amount spent based on marital status\"},\"height\":500,\"width\":800,\"showlegend\":false},                        {\"responsive\": true}                    ).then(function(){\n",
       "                            \n",
       "var gd = document.getElementById('a7971464-6975-4ae0-9193-79b19f058136');\n",
       "var x = new MutationObserver(function (mutations, observer) {{\n",
       "        var display = window.getComputedStyle(gd).display;\n",
       "        if (!display || display === 'none') {{\n",
       "            console.log([gd, 'removed!']);\n",
       "            Plotly.purge(gd);\n",
       "            observer.disconnect();\n",
       "        }}\n",
       "}});\n",
       "\n",
       "// Listen for the removal of the full notebook cells\n",
       "var notebookContainer = gd.closest('#notebook-container');\n",
       "if (notebookContainer) {{\n",
       "    x.observe(notebookContainer, {childList: true});\n",
       "}}\n",
       "\n",
       "// Listen for the clearing of the current output cell\n",
       "var outputEl = gd.closest('.output');\n",
       "if (outputEl) {{\n",
       "    x.observe(outputEl, {childList: true});\n",
       "}}\n",
       "\n",
       "                        })                };                });            </script>        </div>"
      ]
     },
     "metadata": {},
     "output_type": "display_data"
    }
   ],
   "source": [
    "marital_amount = df.groupby(['marital_status'], as_index=False)['amount'].sum().sort_values(by='amount', ascending=False)\n",
    "marital_amount['marital_status']=marital_amount['marital_status'].replace('0', 'Not married')\n",
    "marital_amount['marital_status']=marital_amount['marital_status'].replace('1', 'Married')\n",
    "\n",
    "fig = px.bar(data_frame=marital_amount,\n",
    "             x='marital_status', \n",
    "             y='amount', \n",
    "             color='marital_status',\n",
    "             text_auto=True)\n",
    "    \n",
    "fig.update_layout(title=\"Total amount spent based on marital status\", \n",
    "                  height=500, \n",
    "                  width=800,  \n",
    "                  showlegend=False, \n",
    "                  yaxis_title_text='Total amount spent (Rupees)', \n",
    "                  xaxis_title_text='Marital status')\n",
    "    \n",
    "fig.show()"
   ]
  },
  {
   "cell_type": "markdown",
   "id": "ebeb0bc7",
   "metadata": {
    "papermill": {
     "duration": 0.054263,
     "end_time": "2023-10-31T05:07:56.882665",
     "exception": false,
     "start_time": "2023-10-31T05:07:56.828402",
     "status": "completed"
    },
    "tags": []
   },
   "source": [
    "Visualizing the total amount spent by each gender based on marital status"
   ]
  },
  {
   "cell_type": "code",
   "execution_count": 58,
   "id": "832c57b9",
   "metadata": {
    "execution": {
     "iopub.execute_input": "2023-10-31T05:07:56.994883Z",
     "iopub.status.busy": "2023-10-31T05:07:56.994131Z",
     "iopub.status.idle": "2023-10-31T05:07:57.094762Z",
     "shell.execute_reply": "2023-10-31T05:07:57.093532Z"
    },
    "papermill": {
     "duration": 0.159714,
     "end_time": "2023-10-31T05:07:57.097438",
     "exception": false,
     "start_time": "2023-10-31T05:07:56.937724",
     "status": "completed"
    },
    "tags": []
   },
   "outputs": [
    {
     "data": {
      "text/html": [
       "<div>                            <div id=\"d5943e6c-4b82-4464-a748-d2bfc733ae6b\" class=\"plotly-graph-div\" style=\"height:500px; width:800px;\"></div>            <script type=\"text/javascript\">                require([\"plotly\"], function(Plotly) {                    window.PLOTLYENV=window.PLOTLYENV || {};                                    if (document.getElementById(\"d5943e6c-4b82-4464-a748-d2bfc733ae6b\")) {                    Plotly.newPlot(                        \"d5943e6c-4b82-4464-a748-d2bfc733ae6b\",                        [{\"alignmentgroup\":\"True\",\"hovertemplate\":\"gender=Female\\u003cbr\\u003emarital_status=%{x}\\u003cbr\\u003eamount=%{y}\\u003cextra\\u003e\\u003c\\u002fextra\\u003e\",\"legendgroup\":\"Female\",\"marker\":{\"color\":\"#636efa\",\"pattern\":{\"shape\":\"\"}},\"name\":\"Female\",\"offsetgroup\":\"Female\",\"orientation\":\"v\",\"showlegend\":true,\"textposition\":\"auto\",\"texttemplate\":\"%{y}\",\"x\":[\"Not married\",\"Married\"],\"xaxis\":\"x\",\"y\":[43786648.44,30549207.99],\"yaxis\":\"y\",\"type\":\"bar\"},{\"alignmentgroup\":\"True\",\"hovertemplate\":\"gender=Male\\u003cbr\\u003emarital_status=%{x}\\u003cbr\\u003eamount=%{y}\\u003cextra\\u003e\\u003c\\u002fextra\\u003e\",\"legendgroup\":\"Male\",\"marker\":{\"color\":\"#EF553B\",\"pattern\":{\"shape\":\"\"}},\"name\":\"Male\",\"offsetgroup\":\"Male\",\"orientation\":\"v\",\"showlegend\":true,\"textposition\":\"auto\",\"texttemplate\":\"%{y}\",\"x\":[\"Not married\",\"Married\"],\"xaxis\":\"x\",\"y\":[18338738.0,13574538.0],\"yaxis\":\"y\",\"type\":\"bar\"}],                        {\"template\":{\"data\":{\"histogram2dcontour\":[{\"type\":\"histogram2dcontour\",\"colorbar\":{\"outlinewidth\":0,\"ticks\":\"\"},\"colorscale\":[[0.0,\"#0d0887\"],[0.1111111111111111,\"#46039f\"],[0.2222222222222222,\"#7201a8\"],[0.3333333333333333,\"#9c179e\"],[0.4444444444444444,\"#bd3786\"],[0.5555555555555556,\"#d8576b\"],[0.6666666666666666,\"#ed7953\"],[0.7777777777777778,\"#fb9f3a\"],[0.8888888888888888,\"#fdca26\"],[1.0,\"#f0f921\"]]}],\"choropleth\":[{\"type\":\"choropleth\",\"colorbar\":{\"outlinewidth\":0,\"ticks\":\"\"}}],\"histogram2d\":[{\"type\":\"histogram2d\",\"colorbar\":{\"outlinewidth\":0,\"ticks\":\"\"},\"colorscale\":[[0.0,\"#0d0887\"],[0.1111111111111111,\"#46039f\"],[0.2222222222222222,\"#7201a8\"],[0.3333333333333333,\"#9c179e\"],[0.4444444444444444,\"#bd3786\"],[0.5555555555555556,\"#d8576b\"],[0.6666666666666666,\"#ed7953\"],[0.7777777777777778,\"#fb9f3a\"],[0.8888888888888888,\"#fdca26\"],[1.0,\"#f0f921\"]]}],\"heatmap\":[{\"type\":\"heatmap\",\"colorbar\":{\"outlinewidth\":0,\"ticks\":\"\"},\"colorscale\":[[0.0,\"#0d0887\"],[0.1111111111111111,\"#46039f\"],[0.2222222222222222,\"#7201a8\"],[0.3333333333333333,\"#9c179e\"],[0.4444444444444444,\"#bd3786\"],[0.5555555555555556,\"#d8576b\"],[0.6666666666666666,\"#ed7953\"],[0.7777777777777778,\"#fb9f3a\"],[0.8888888888888888,\"#fdca26\"],[1.0,\"#f0f921\"]]}],\"heatmapgl\":[{\"type\":\"heatmapgl\",\"colorbar\":{\"outlinewidth\":0,\"ticks\":\"\"},\"colorscale\":[[0.0,\"#0d0887\"],[0.1111111111111111,\"#46039f\"],[0.2222222222222222,\"#7201a8\"],[0.3333333333333333,\"#9c179e\"],[0.4444444444444444,\"#bd3786\"],[0.5555555555555556,\"#d8576b\"],[0.6666666666666666,\"#ed7953\"],[0.7777777777777778,\"#fb9f3a\"],[0.8888888888888888,\"#fdca26\"],[1.0,\"#f0f921\"]]}],\"contourcarpet\":[{\"type\":\"contourcarpet\",\"colorbar\":{\"outlinewidth\":0,\"ticks\":\"\"}}],\"contour\":[{\"type\":\"contour\",\"colorbar\":{\"outlinewidth\":0,\"ticks\":\"\"},\"colorscale\":[[0.0,\"#0d0887\"],[0.1111111111111111,\"#46039f\"],[0.2222222222222222,\"#7201a8\"],[0.3333333333333333,\"#9c179e\"],[0.4444444444444444,\"#bd3786\"],[0.5555555555555556,\"#d8576b\"],[0.6666666666666666,\"#ed7953\"],[0.7777777777777778,\"#fb9f3a\"],[0.8888888888888888,\"#fdca26\"],[1.0,\"#f0f921\"]]}],\"surface\":[{\"type\":\"surface\",\"colorbar\":{\"outlinewidth\":0,\"ticks\":\"\"},\"colorscale\":[[0.0,\"#0d0887\"],[0.1111111111111111,\"#46039f\"],[0.2222222222222222,\"#7201a8\"],[0.3333333333333333,\"#9c179e\"],[0.4444444444444444,\"#bd3786\"],[0.5555555555555556,\"#d8576b\"],[0.6666666666666666,\"#ed7953\"],[0.7777777777777778,\"#fb9f3a\"],[0.8888888888888888,\"#fdca26\"],[1.0,\"#f0f921\"]]}],\"mesh3d\":[{\"type\":\"mesh3d\",\"colorbar\":{\"outlinewidth\":0,\"ticks\":\"\"}}],\"scatter\":[{\"fillpattern\":{\"fillmode\":\"overlay\",\"size\":10,\"solidity\":0.2},\"type\":\"scatter\"}],\"parcoords\":[{\"type\":\"parcoords\",\"line\":{\"colorbar\":{\"outlinewidth\":0,\"ticks\":\"\"}}}],\"scatterpolargl\":[{\"type\":\"scatterpolargl\",\"marker\":{\"colorbar\":{\"outlinewidth\":0,\"ticks\":\"\"}}}],\"bar\":[{\"error_x\":{\"color\":\"#2a3f5f\"},\"error_y\":{\"color\":\"#2a3f5f\"},\"marker\":{\"line\":{\"color\":\"#E5ECF6\",\"width\":0.5},\"pattern\":{\"fillmode\":\"overlay\",\"size\":10,\"solidity\":0.2}},\"type\":\"bar\"}],\"scattergeo\":[{\"type\":\"scattergeo\",\"marker\":{\"colorbar\":{\"outlinewidth\":0,\"ticks\":\"\"}}}],\"scatterpolar\":[{\"type\":\"scatterpolar\",\"marker\":{\"colorbar\":{\"outlinewidth\":0,\"ticks\":\"\"}}}],\"histogram\":[{\"marker\":{\"pattern\":{\"fillmode\":\"overlay\",\"size\":10,\"solidity\":0.2}},\"type\":\"histogram\"}],\"scattergl\":[{\"type\":\"scattergl\",\"marker\":{\"colorbar\":{\"outlinewidth\":0,\"ticks\":\"\"}}}],\"scatter3d\":[{\"type\":\"scatter3d\",\"line\":{\"colorbar\":{\"outlinewidth\":0,\"ticks\":\"\"}},\"marker\":{\"colorbar\":{\"outlinewidth\":0,\"ticks\":\"\"}}}],\"scattermapbox\":[{\"type\":\"scattermapbox\",\"marker\":{\"colorbar\":{\"outlinewidth\":0,\"ticks\":\"\"}}}],\"scatterternary\":[{\"type\":\"scatterternary\",\"marker\":{\"colorbar\":{\"outlinewidth\":0,\"ticks\":\"\"}}}],\"scattercarpet\":[{\"type\":\"scattercarpet\",\"marker\":{\"colorbar\":{\"outlinewidth\":0,\"ticks\":\"\"}}}],\"carpet\":[{\"aaxis\":{\"endlinecolor\":\"#2a3f5f\",\"gridcolor\":\"white\",\"linecolor\":\"white\",\"minorgridcolor\":\"white\",\"startlinecolor\":\"#2a3f5f\"},\"baxis\":{\"endlinecolor\":\"#2a3f5f\",\"gridcolor\":\"white\",\"linecolor\":\"white\",\"minorgridcolor\":\"white\",\"startlinecolor\":\"#2a3f5f\"},\"type\":\"carpet\"}],\"table\":[{\"cells\":{\"fill\":{\"color\":\"#EBF0F8\"},\"line\":{\"color\":\"white\"}},\"header\":{\"fill\":{\"color\":\"#C8D4E3\"},\"line\":{\"color\":\"white\"}},\"type\":\"table\"}],\"barpolar\":[{\"marker\":{\"line\":{\"color\":\"#E5ECF6\",\"width\":0.5},\"pattern\":{\"fillmode\":\"overlay\",\"size\":10,\"solidity\":0.2}},\"type\":\"barpolar\"}],\"pie\":[{\"automargin\":true,\"type\":\"pie\"}]},\"layout\":{\"autotypenumbers\":\"strict\",\"colorway\":[\"#636efa\",\"#EF553B\",\"#00cc96\",\"#ab63fa\",\"#FFA15A\",\"#19d3f3\",\"#FF6692\",\"#B6E880\",\"#FF97FF\",\"#FECB52\"],\"font\":{\"color\":\"#2a3f5f\"},\"hovermode\":\"closest\",\"hoverlabel\":{\"align\":\"left\"},\"paper_bgcolor\":\"white\",\"plot_bgcolor\":\"#E5ECF6\",\"polar\":{\"bgcolor\":\"#E5ECF6\",\"angularaxis\":{\"gridcolor\":\"white\",\"linecolor\":\"white\",\"ticks\":\"\"},\"radialaxis\":{\"gridcolor\":\"white\",\"linecolor\":\"white\",\"ticks\":\"\"}},\"ternary\":{\"bgcolor\":\"#E5ECF6\",\"aaxis\":{\"gridcolor\":\"white\",\"linecolor\":\"white\",\"ticks\":\"\"},\"baxis\":{\"gridcolor\":\"white\",\"linecolor\":\"white\",\"ticks\":\"\"},\"caxis\":{\"gridcolor\":\"white\",\"linecolor\":\"white\",\"ticks\":\"\"}},\"coloraxis\":{\"colorbar\":{\"outlinewidth\":0,\"ticks\":\"\"}},\"colorscale\":{\"sequential\":[[0.0,\"#0d0887\"],[0.1111111111111111,\"#46039f\"],[0.2222222222222222,\"#7201a8\"],[0.3333333333333333,\"#9c179e\"],[0.4444444444444444,\"#bd3786\"],[0.5555555555555556,\"#d8576b\"],[0.6666666666666666,\"#ed7953\"],[0.7777777777777778,\"#fb9f3a\"],[0.8888888888888888,\"#fdca26\"],[1.0,\"#f0f921\"]],\"sequentialminus\":[[0.0,\"#0d0887\"],[0.1111111111111111,\"#46039f\"],[0.2222222222222222,\"#7201a8\"],[0.3333333333333333,\"#9c179e\"],[0.4444444444444444,\"#bd3786\"],[0.5555555555555556,\"#d8576b\"],[0.6666666666666666,\"#ed7953\"],[0.7777777777777778,\"#fb9f3a\"],[0.8888888888888888,\"#fdca26\"],[1.0,\"#f0f921\"]],\"diverging\":[[0,\"#8e0152\"],[0.1,\"#c51b7d\"],[0.2,\"#de77ae\"],[0.3,\"#f1b6da\"],[0.4,\"#fde0ef\"],[0.5,\"#f7f7f7\"],[0.6,\"#e6f5d0\"],[0.7,\"#b8e186\"],[0.8,\"#7fbc41\"],[0.9,\"#4d9221\"],[1,\"#276419\"]]},\"xaxis\":{\"gridcolor\":\"white\",\"linecolor\":\"white\",\"ticks\":\"\",\"title\":{\"standoff\":15},\"zerolinecolor\":\"white\",\"automargin\":true,\"zerolinewidth\":2},\"yaxis\":{\"gridcolor\":\"white\",\"linecolor\":\"white\",\"ticks\":\"\",\"title\":{\"standoff\":15},\"zerolinecolor\":\"white\",\"automargin\":true,\"zerolinewidth\":2},\"scene\":{\"xaxis\":{\"backgroundcolor\":\"#E5ECF6\",\"gridcolor\":\"white\",\"linecolor\":\"white\",\"showbackground\":true,\"ticks\":\"\",\"zerolinecolor\":\"white\",\"gridwidth\":2},\"yaxis\":{\"backgroundcolor\":\"#E5ECF6\",\"gridcolor\":\"white\",\"linecolor\":\"white\",\"showbackground\":true,\"ticks\":\"\",\"zerolinecolor\":\"white\",\"gridwidth\":2},\"zaxis\":{\"backgroundcolor\":\"#E5ECF6\",\"gridcolor\":\"white\",\"linecolor\":\"white\",\"showbackground\":true,\"ticks\":\"\",\"zerolinecolor\":\"white\",\"gridwidth\":2}},\"shapedefaults\":{\"line\":{\"color\":\"#2a3f5f\"}},\"annotationdefaults\":{\"arrowcolor\":\"#2a3f5f\",\"arrowhead\":0,\"arrowwidth\":1},\"geo\":{\"bgcolor\":\"white\",\"landcolor\":\"#E5ECF6\",\"subunitcolor\":\"white\",\"showland\":true,\"showlakes\":true,\"lakecolor\":\"white\"},\"title\":{\"x\":0.05},\"mapbox\":{\"style\":\"light\"}}},\"xaxis\":{\"anchor\":\"y\",\"domain\":[0.0,1.0],\"title\":{\"text\":\"Marital status\"}},\"yaxis\":{\"anchor\":\"x\",\"domain\":[0.0,1.0],\"title\":{\"text\":\"Total amount spent (Rupees)\"}},\"legend\":{\"title\":{\"text\":\"gender\"},\"tracegroupgap\":0},\"margin\":{\"t\":60},\"barmode\":\"group\",\"title\":{\"text\":\"Total amount spent by each gender based on marital status\"},\"height\":500,\"width\":800,\"showlegend\":true},                        {\"responsive\": true}                    ).then(function(){\n",
       "                            \n",
       "var gd = document.getElementById('d5943e6c-4b82-4464-a748-d2bfc733ae6b');\n",
       "var x = new MutationObserver(function (mutations, observer) {{\n",
       "        var display = window.getComputedStyle(gd).display;\n",
       "        if (!display || display === 'none') {{\n",
       "            console.log([gd, 'removed!']);\n",
       "            Plotly.purge(gd);\n",
       "            observer.disconnect();\n",
       "        }}\n",
       "}});\n",
       "\n",
       "// Listen for the removal of the full notebook cells\n",
       "var notebookContainer = gd.closest('#notebook-container');\n",
       "if (notebookContainer) {{\n",
       "    x.observe(notebookContainer, {childList: true});\n",
       "}}\n",
       "\n",
       "// Listen for the clearing of the current output cell\n",
       "var outputEl = gd.closest('.output');\n",
       "if (outputEl) {{\n",
       "    x.observe(outputEl, {childList: true});\n",
       "}}\n",
       "\n",
       "                        })                };                });            </script>        </div>"
      ]
     },
     "metadata": {},
     "output_type": "display_data"
    }
   ],
   "source": [
    "marital_gender_amount = df.groupby(['marital_status', 'gender'], as_index=False)['amount'].sum().sort_values(by='amount', ascending=False)\n",
    "marital_gender_amount['marital_status']=marital_gender_amount['marital_status'].replace('0', 'Not married')\n",
    "marital_gender_amount['marital_status']=marital_gender_amount['marital_status'].replace('1', 'Married')\n",
    "marital_gender_amount['gender']=marital_gender_amount['gender'].replace('F', 'Female')\n",
    "marital_gender_amount['gender']=marital_gender_amount['gender'].replace('M', 'Male')\n",
    "\n",
    "fig = px.bar(data_frame=marital_gender_amount,\n",
    "             x='marital_status', \n",
    "             y='amount', \n",
    "             color='gender',\n",
    "             barmode='group',\n",
    "             text_auto=True)\n",
    "    \n",
    "fig.update_layout(title=\"Total amount spent by each gender based on marital status\", \n",
    "                  height=500, \n",
    "                  width=800,  \n",
    "                  showlegend=True, \n",
    "                  yaxis_title_text='Total amount spent (Rupees)', \n",
    "                  xaxis_title_text='Marital status')\n",
    "    \n",
    "fig.show()"
   ]
  },
  {
   "cell_type": "markdown",
   "id": "866e1d98",
   "metadata": {
    "papermill": {
     "duration": 0.055199,
     "end_time": "2023-10-31T05:07:57.208095",
     "exception": false,
     "start_time": "2023-10-31T05:07:57.152896",
     "status": "completed"
    },
    "tags": []
   },
   "source": [
    "Looking at the average amount spent per person for single and married women separately"
   ]
  },
  {
   "cell_type": "code",
   "execution_count": 59,
   "id": "fecfbb20",
   "metadata": {
    "execution": {
     "iopub.execute_input": "2023-10-31T05:07:57.320238Z",
     "iopub.status.busy": "2023-10-31T05:07:57.319835Z",
     "iopub.status.idle": "2023-10-31T05:07:57.345515Z",
     "shell.execute_reply": "2023-10-31T05:07:57.344056Z"
    },
    "papermill": {
     "duration": 0.084779,
     "end_time": "2023-10-31T05:07:57.348057",
     "exception": false,
     "start_time": "2023-10-31T05:07:57.263278",
     "status": "completed"
    },
    "tags": []
   },
   "outputs": [
    {
     "name": "stdout",
     "output_type": "stream",
     "text": [
      "Average amount spent by female customers who are not married =  9575.037926962606\n",
      "Average amount spent by female customers who are married =  9373.798094507518\n"
     ]
    }
   ],
   "source": [
    "notmarried_female_df=df[(df['gender']=='F') & (df['marital_status']=='0')]\n",
    "married_female_df=df[(df['gender']=='F') & (df['marital_status']=='1')]\n",
    "\n",
    "avg_notmarried_female=notmarried_female_df['amount'].describe().loc['mean']\n",
    "avg_married_female=married_female_df['amount'].describe().loc['mean']\n",
    "\n",
    "print(\"Average amount spent by female customers who are not married = \", avg_notmarried_female)\n",
    "print(\"Average amount spent by female customers who are married = \", avg_married_female)"
   ]
  },
  {
   "cell_type": "markdown",
   "id": "5efece7b",
   "metadata": {
    "papermill": {
     "duration": 0.054324,
     "end_time": "2023-10-31T05:07:57.458821",
     "exception": false,
     "start_time": "2023-10-31T05:07:57.404497",
     "status": "completed"
    },
    "tags": []
   },
   "source": [
    "Visualizing the total amount spent based on occupation"
   ]
  },
  {
   "cell_type": "code",
   "execution_count": 60,
   "id": "59ce29c0",
   "metadata": {
    "execution": {
     "iopub.execute_input": "2023-10-31T05:07:57.570639Z",
     "iopub.status.busy": "2023-10-31T05:07:57.569836Z",
     "iopub.status.idle": "2023-10-31T05:07:57.724810Z",
     "shell.execute_reply": "2023-10-31T05:07:57.723625Z"
    },
    "papermill": {
     "duration": 0.213562,
     "end_time": "2023-10-31T05:07:57.727170",
     "exception": false,
     "start_time": "2023-10-31T05:07:57.513608",
     "status": "completed"
    },
    "tags": []
   },
   "outputs": [
    {
     "data": {
      "text/html": [
       "<div>                            <div id=\"e7f6fa12-7d53-4449-a195-8f25747632f8\" class=\"plotly-graph-div\" style=\"height:500px; width:800px;\"></div>            <script type=\"text/javascript\">                require([\"plotly\"], function(Plotly) {                    window.PLOTLYENV=window.PLOTLYENV || {};                                    if (document.getElementById(\"e7f6fa12-7d53-4449-a195-8f25747632f8\")) {                    Plotly.newPlot(                        \"e7f6fa12-7d53-4449-a195-8f25747632f8\",                        [{\"alignmentgroup\":\"True\",\"hovertemplate\":\"occupation=%{x}\\u003cbr\\u003eamount=%{y}\\u003cextra\\u003e\\u003c\\u002fextra\\u003e\",\"legendgroup\":\"IT Sector\",\"marker\":{\"color\":\"#636efa\",\"pattern\":{\"shape\":\"\"}},\"name\":\"IT Sector\",\"offsetgroup\":\"IT Sector\",\"orientation\":\"v\",\"showlegend\":true,\"textposition\":\"auto\",\"texttemplate\":\"%{y}\",\"x\":[\"IT Sector\"],\"xaxis\":\"x\",\"y\":[14755079.0],\"yaxis\":\"y\",\"type\":\"bar\"},{\"alignmentgroup\":\"True\",\"hovertemplate\":\"occupation=%{x}\\u003cbr\\u003eamount=%{y}\\u003cextra\\u003e\\u003c\\u002fextra\\u003e\",\"legendgroup\":\"Healthcare\",\"marker\":{\"color\":\"#EF553B\",\"pattern\":{\"shape\":\"\"}},\"name\":\"Healthcare\",\"offsetgroup\":\"Healthcare\",\"orientation\":\"v\",\"showlegend\":true,\"textposition\":\"auto\",\"texttemplate\":\"%{y}\",\"x\":[\"Healthcare\"],\"xaxis\":\"x\",\"y\":[13034587.49],\"yaxis\":\"y\",\"type\":\"bar\"},{\"alignmentgroup\":\"True\",\"hovertemplate\":\"occupation=%{x}\\u003cbr\\u003eamount=%{y}\\u003cextra\\u003e\\u003c\\u002fextra\\u003e\",\"legendgroup\":\"Aviation\",\"marker\":{\"color\":\"#00cc96\",\"pattern\":{\"shape\":\"\"}},\"name\":\"Aviation\",\"offsetgroup\":\"Aviation\",\"orientation\":\"v\",\"showlegend\":true,\"textposition\":\"auto\",\"texttemplate\":\"%{y}\",\"x\":[\"Aviation\"],\"xaxis\":\"x\",\"y\":[12602298.0],\"yaxis\":\"y\",\"type\":\"bar\"},{\"alignmentgroup\":\"True\",\"hovertemplate\":\"occupation=%{x}\\u003cbr\\u003eamount=%{y}\\u003cextra\\u003e\\u003c\\u002fextra\\u003e\",\"legendgroup\":\"Banking\",\"marker\":{\"color\":\"#ab63fa\",\"pattern\":{\"shape\":\"\"}},\"name\":\"Banking\",\"offsetgroup\":\"Banking\",\"orientation\":\"v\",\"showlegend\":true,\"textposition\":\"auto\",\"texttemplate\":\"%{y}\",\"x\":[\"Banking\"],\"xaxis\":\"x\",\"y\":[10770610.95],\"yaxis\":\"y\",\"type\":\"bar\"},{\"alignmentgroup\":\"True\",\"hovertemplate\":\"occupation=%{x}\\u003cbr\\u003eamount=%{y}\\u003cextra\\u003e\\u003c\\u002fextra\\u003e\",\"legendgroup\":\"Govt\",\"marker\":{\"color\":\"#FFA15A\",\"pattern\":{\"shape\":\"\"}},\"name\":\"Govt\",\"offsetgroup\":\"Govt\",\"orientation\":\"v\",\"showlegend\":true,\"textposition\":\"auto\",\"texttemplate\":\"%{y}\",\"x\":[\"Govt\"],\"xaxis\":\"x\",\"y\":[8517212.0],\"yaxis\":\"y\",\"type\":\"bar\"},{\"alignmentgroup\":\"True\",\"hovertemplate\":\"occupation=%{x}\\u003cbr\\u003eamount=%{y}\\u003cextra\\u003e\\u003c\\u002fextra\\u003e\",\"legendgroup\":\"Hospitality\",\"marker\":{\"color\":\"#19d3f3\",\"pattern\":{\"shape\":\"\"}},\"name\":\"Hospitality\",\"offsetgroup\":\"Hospitality\",\"orientation\":\"v\",\"showlegend\":true,\"textposition\":\"auto\",\"texttemplate\":\"%{y}\",\"x\":[\"Hospitality\"],\"xaxis\":\"x\",\"y\":[6376405.0],\"yaxis\":\"y\",\"type\":\"bar\"},{\"alignmentgroup\":\"True\",\"hovertemplate\":\"occupation=%{x}\\u003cbr\\u003eamount=%{y}\\u003cextra\\u003e\\u003c\\u002fextra\\u003e\",\"legendgroup\":\"Media\",\"marker\":{\"color\":\"#FF6692\",\"pattern\":{\"shape\":\"\"}},\"name\":\"Media\",\"offsetgroup\":\"Media\",\"orientation\":\"v\",\"showlegend\":true,\"textposition\":\"auto\",\"texttemplate\":\"%{y}\",\"x\":[\"Media\"],\"xaxis\":\"x\",\"y\":[6295832.99],\"yaxis\":\"y\",\"type\":\"bar\"},{\"alignmentgroup\":\"True\",\"hovertemplate\":\"occupation=%{x}\\u003cbr\\u003eamount=%{y}\\u003cextra\\u003e\\u003c\\u002fextra\\u003e\",\"legendgroup\":\"Automobile\",\"marker\":{\"color\":\"#B6E880\",\"pattern\":{\"shape\":\"\"}},\"name\":\"Automobile\",\"offsetgroup\":\"Automobile\",\"orientation\":\"v\",\"showlegend\":true,\"textposition\":\"auto\",\"texttemplate\":\"%{y}\",\"x\":[\"Automobile\"],\"xaxis\":\"x\",\"y\":[5368596.0],\"yaxis\":\"y\",\"type\":\"bar\"},{\"alignmentgroup\":\"True\",\"hovertemplate\":\"occupation=%{x}\\u003cbr\\u003eamount=%{y}\\u003cextra\\u003e\\u003c\\u002fextra\\u003e\",\"legendgroup\":\"Chemical\",\"marker\":{\"color\":\"#FF97FF\",\"pattern\":{\"shape\":\"\"}},\"name\":\"Chemical\",\"offsetgroup\":\"Chemical\",\"orientation\":\"v\",\"showlegend\":true,\"textposition\":\"auto\",\"texttemplate\":\"%{y}\",\"x\":[\"Chemical\"],\"xaxis\":\"x\",\"y\":[5297436.0],\"yaxis\":\"y\",\"type\":\"bar\"},{\"alignmentgroup\":\"True\",\"hovertemplate\":\"occupation=%{x}\\u003cbr\\u003eamount=%{y}\\u003cextra\\u003e\\u003c\\u002fextra\\u003e\",\"legendgroup\":\"Lawyer\",\"marker\":{\"color\":\"#FECB52\",\"pattern\":{\"shape\":\"\"}},\"name\":\"Lawyer\",\"offsetgroup\":\"Lawyer\",\"orientation\":\"v\",\"showlegend\":true,\"textposition\":\"auto\",\"texttemplate\":\"%{y}\",\"x\":[\"Lawyer\"],\"xaxis\":\"x\",\"y\":[4981665.0],\"yaxis\":\"y\",\"type\":\"bar\"},{\"alignmentgroup\":\"True\",\"hovertemplate\":\"occupation=%{x}\\u003cbr\\u003eamount=%{y}\\u003cextra\\u003e\\u003c\\u002fextra\\u003e\",\"legendgroup\":\"Retail\",\"marker\":{\"color\":\"#636efa\",\"pattern\":{\"shape\":\"\"}},\"name\":\"Retail\",\"offsetgroup\":\"Retail\",\"orientation\":\"v\",\"showlegend\":true,\"textposition\":\"auto\",\"texttemplate\":\"%{y}\",\"x\":[\"Retail\"],\"xaxis\":\"x\",\"y\":[4783170.0],\"yaxis\":\"y\",\"type\":\"bar\"},{\"alignmentgroup\":\"True\",\"hovertemplate\":\"occupation=%{x}\\u003cbr\\u003eamount=%{y}\\u003cextra\\u003e\\u003c\\u002fextra\\u003e\",\"legendgroup\":\"Food Processing\",\"marker\":{\"color\":\"#EF553B\",\"pattern\":{\"shape\":\"\"}},\"name\":\"Food Processing\",\"offsetgroup\":\"Food Processing\",\"orientation\":\"v\",\"showlegend\":true,\"textposition\":\"auto\",\"texttemplate\":\"%{y}\",\"x\":[\"Food Processing\"],\"xaxis\":\"x\",\"y\":[4070670.0],\"yaxis\":\"y\",\"type\":\"bar\"},{\"alignmentgroup\":\"True\",\"hovertemplate\":\"occupation=%{x}\\u003cbr\\u003eamount=%{y}\\u003cextra\\u003e\\u003c\\u002fextra\\u003e\",\"legendgroup\":\"Construction\",\"marker\":{\"color\":\"#00cc96\",\"pattern\":{\"shape\":\"\"}},\"name\":\"Construction\",\"offsetgroup\":\"Construction\",\"orientation\":\"v\",\"showlegend\":true,\"textposition\":\"auto\",\"texttemplate\":\"%{y}\",\"x\":[\"Construction\"],\"xaxis\":\"x\",\"y\":[3597511.0],\"yaxis\":\"y\",\"type\":\"bar\"},{\"alignmentgroup\":\"True\",\"hovertemplate\":\"occupation=%{x}\\u003cbr\\u003eamount=%{y}\\u003cextra\\u003e\\u003c\\u002fextra\\u003e\",\"legendgroup\":\"Textile\",\"marker\":{\"color\":\"#ab63fa\",\"pattern\":{\"shape\":\"\"}},\"name\":\"Textile\",\"offsetgroup\":\"Textile\",\"orientation\":\"v\",\"showlegend\":true,\"textposition\":\"auto\",\"texttemplate\":\"%{y}\",\"x\":[\"Textile\"],\"xaxis\":\"x\",\"y\":[3204972.0],\"yaxis\":\"y\",\"type\":\"bar\"},{\"alignmentgroup\":\"True\",\"hovertemplate\":\"occupation=%{x}\\u003cbr\\u003eamount=%{y}\\u003cextra\\u003e\\u003c\\u002fextra\\u003e\",\"legendgroup\":\"Agriculture\",\"marker\":{\"color\":\"#FFA15A\",\"pattern\":{\"shape\":\"\"}},\"name\":\"Agriculture\",\"offsetgroup\":\"Agriculture\",\"orientation\":\"v\",\"showlegend\":true,\"textposition\":\"auto\",\"texttemplate\":\"%{y}\",\"x\":[\"Agriculture\"],\"xaxis\":\"x\",\"y\":[2593087.0],\"yaxis\":\"y\",\"type\":\"bar\"}],                        {\"template\":{\"data\":{\"histogram2dcontour\":[{\"type\":\"histogram2dcontour\",\"colorbar\":{\"outlinewidth\":0,\"ticks\":\"\"},\"colorscale\":[[0.0,\"#0d0887\"],[0.1111111111111111,\"#46039f\"],[0.2222222222222222,\"#7201a8\"],[0.3333333333333333,\"#9c179e\"],[0.4444444444444444,\"#bd3786\"],[0.5555555555555556,\"#d8576b\"],[0.6666666666666666,\"#ed7953\"],[0.7777777777777778,\"#fb9f3a\"],[0.8888888888888888,\"#fdca26\"],[1.0,\"#f0f921\"]]}],\"choropleth\":[{\"type\":\"choropleth\",\"colorbar\":{\"outlinewidth\":0,\"ticks\":\"\"}}],\"histogram2d\":[{\"type\":\"histogram2d\",\"colorbar\":{\"outlinewidth\":0,\"ticks\":\"\"},\"colorscale\":[[0.0,\"#0d0887\"],[0.1111111111111111,\"#46039f\"],[0.2222222222222222,\"#7201a8\"],[0.3333333333333333,\"#9c179e\"],[0.4444444444444444,\"#bd3786\"],[0.5555555555555556,\"#d8576b\"],[0.6666666666666666,\"#ed7953\"],[0.7777777777777778,\"#fb9f3a\"],[0.8888888888888888,\"#fdca26\"],[1.0,\"#f0f921\"]]}],\"heatmap\":[{\"type\":\"heatmap\",\"colorbar\":{\"outlinewidth\":0,\"ticks\":\"\"},\"colorscale\":[[0.0,\"#0d0887\"],[0.1111111111111111,\"#46039f\"],[0.2222222222222222,\"#7201a8\"],[0.3333333333333333,\"#9c179e\"],[0.4444444444444444,\"#bd3786\"],[0.5555555555555556,\"#d8576b\"],[0.6666666666666666,\"#ed7953\"],[0.7777777777777778,\"#fb9f3a\"],[0.8888888888888888,\"#fdca26\"],[1.0,\"#f0f921\"]]}],\"heatmapgl\":[{\"type\":\"heatmapgl\",\"colorbar\":{\"outlinewidth\":0,\"ticks\":\"\"},\"colorscale\":[[0.0,\"#0d0887\"],[0.1111111111111111,\"#46039f\"],[0.2222222222222222,\"#7201a8\"],[0.3333333333333333,\"#9c179e\"],[0.4444444444444444,\"#bd3786\"],[0.5555555555555556,\"#d8576b\"],[0.6666666666666666,\"#ed7953\"],[0.7777777777777778,\"#fb9f3a\"],[0.8888888888888888,\"#fdca26\"],[1.0,\"#f0f921\"]]}],\"contourcarpet\":[{\"type\":\"contourcarpet\",\"colorbar\":{\"outlinewidth\":0,\"ticks\":\"\"}}],\"contour\":[{\"type\":\"contour\",\"colorbar\":{\"outlinewidth\":0,\"ticks\":\"\"},\"colorscale\":[[0.0,\"#0d0887\"],[0.1111111111111111,\"#46039f\"],[0.2222222222222222,\"#7201a8\"],[0.3333333333333333,\"#9c179e\"],[0.4444444444444444,\"#bd3786\"],[0.5555555555555556,\"#d8576b\"],[0.6666666666666666,\"#ed7953\"],[0.7777777777777778,\"#fb9f3a\"],[0.8888888888888888,\"#fdca26\"],[1.0,\"#f0f921\"]]}],\"surface\":[{\"type\":\"surface\",\"colorbar\":{\"outlinewidth\":0,\"ticks\":\"\"},\"colorscale\":[[0.0,\"#0d0887\"],[0.1111111111111111,\"#46039f\"],[0.2222222222222222,\"#7201a8\"],[0.3333333333333333,\"#9c179e\"],[0.4444444444444444,\"#bd3786\"],[0.5555555555555556,\"#d8576b\"],[0.6666666666666666,\"#ed7953\"],[0.7777777777777778,\"#fb9f3a\"],[0.8888888888888888,\"#fdca26\"],[1.0,\"#f0f921\"]]}],\"mesh3d\":[{\"type\":\"mesh3d\",\"colorbar\":{\"outlinewidth\":0,\"ticks\":\"\"}}],\"scatter\":[{\"fillpattern\":{\"fillmode\":\"overlay\",\"size\":10,\"solidity\":0.2},\"type\":\"scatter\"}],\"parcoords\":[{\"type\":\"parcoords\",\"line\":{\"colorbar\":{\"outlinewidth\":0,\"ticks\":\"\"}}}],\"scatterpolargl\":[{\"type\":\"scatterpolargl\",\"marker\":{\"colorbar\":{\"outlinewidth\":0,\"ticks\":\"\"}}}],\"bar\":[{\"error_x\":{\"color\":\"#2a3f5f\"},\"error_y\":{\"color\":\"#2a3f5f\"},\"marker\":{\"line\":{\"color\":\"#E5ECF6\",\"width\":0.5},\"pattern\":{\"fillmode\":\"overlay\",\"size\":10,\"solidity\":0.2}},\"type\":\"bar\"}],\"scattergeo\":[{\"type\":\"scattergeo\",\"marker\":{\"colorbar\":{\"outlinewidth\":0,\"ticks\":\"\"}}}],\"scatterpolar\":[{\"type\":\"scatterpolar\",\"marker\":{\"colorbar\":{\"outlinewidth\":0,\"ticks\":\"\"}}}],\"histogram\":[{\"marker\":{\"pattern\":{\"fillmode\":\"overlay\",\"size\":10,\"solidity\":0.2}},\"type\":\"histogram\"}],\"scattergl\":[{\"type\":\"scattergl\",\"marker\":{\"colorbar\":{\"outlinewidth\":0,\"ticks\":\"\"}}}],\"scatter3d\":[{\"type\":\"scatter3d\",\"line\":{\"colorbar\":{\"outlinewidth\":0,\"ticks\":\"\"}},\"marker\":{\"colorbar\":{\"outlinewidth\":0,\"ticks\":\"\"}}}],\"scattermapbox\":[{\"type\":\"scattermapbox\",\"marker\":{\"colorbar\":{\"outlinewidth\":0,\"ticks\":\"\"}}}],\"scatterternary\":[{\"type\":\"scatterternary\",\"marker\":{\"colorbar\":{\"outlinewidth\":0,\"ticks\":\"\"}}}],\"scattercarpet\":[{\"type\":\"scattercarpet\",\"marker\":{\"colorbar\":{\"outlinewidth\":0,\"ticks\":\"\"}}}],\"carpet\":[{\"aaxis\":{\"endlinecolor\":\"#2a3f5f\",\"gridcolor\":\"white\",\"linecolor\":\"white\",\"minorgridcolor\":\"white\",\"startlinecolor\":\"#2a3f5f\"},\"baxis\":{\"endlinecolor\":\"#2a3f5f\",\"gridcolor\":\"white\",\"linecolor\":\"white\",\"minorgridcolor\":\"white\",\"startlinecolor\":\"#2a3f5f\"},\"type\":\"carpet\"}],\"table\":[{\"cells\":{\"fill\":{\"color\":\"#EBF0F8\"},\"line\":{\"color\":\"white\"}},\"header\":{\"fill\":{\"color\":\"#C8D4E3\"},\"line\":{\"color\":\"white\"}},\"type\":\"table\"}],\"barpolar\":[{\"marker\":{\"line\":{\"color\":\"#E5ECF6\",\"width\":0.5},\"pattern\":{\"fillmode\":\"overlay\",\"size\":10,\"solidity\":0.2}},\"type\":\"barpolar\"}],\"pie\":[{\"automargin\":true,\"type\":\"pie\"}]},\"layout\":{\"autotypenumbers\":\"strict\",\"colorway\":[\"#636efa\",\"#EF553B\",\"#00cc96\",\"#ab63fa\",\"#FFA15A\",\"#19d3f3\",\"#FF6692\",\"#B6E880\",\"#FF97FF\",\"#FECB52\"],\"font\":{\"color\":\"#2a3f5f\"},\"hovermode\":\"closest\",\"hoverlabel\":{\"align\":\"left\"},\"paper_bgcolor\":\"white\",\"plot_bgcolor\":\"#E5ECF6\",\"polar\":{\"bgcolor\":\"#E5ECF6\",\"angularaxis\":{\"gridcolor\":\"white\",\"linecolor\":\"white\",\"ticks\":\"\"},\"radialaxis\":{\"gridcolor\":\"white\",\"linecolor\":\"white\",\"ticks\":\"\"}},\"ternary\":{\"bgcolor\":\"#E5ECF6\",\"aaxis\":{\"gridcolor\":\"white\",\"linecolor\":\"white\",\"ticks\":\"\"},\"baxis\":{\"gridcolor\":\"white\",\"linecolor\":\"white\",\"ticks\":\"\"},\"caxis\":{\"gridcolor\":\"white\",\"linecolor\":\"white\",\"ticks\":\"\"}},\"coloraxis\":{\"colorbar\":{\"outlinewidth\":0,\"ticks\":\"\"}},\"colorscale\":{\"sequential\":[[0.0,\"#0d0887\"],[0.1111111111111111,\"#46039f\"],[0.2222222222222222,\"#7201a8\"],[0.3333333333333333,\"#9c179e\"],[0.4444444444444444,\"#bd3786\"],[0.5555555555555556,\"#d8576b\"],[0.6666666666666666,\"#ed7953\"],[0.7777777777777778,\"#fb9f3a\"],[0.8888888888888888,\"#fdca26\"],[1.0,\"#f0f921\"]],\"sequentialminus\":[[0.0,\"#0d0887\"],[0.1111111111111111,\"#46039f\"],[0.2222222222222222,\"#7201a8\"],[0.3333333333333333,\"#9c179e\"],[0.4444444444444444,\"#bd3786\"],[0.5555555555555556,\"#d8576b\"],[0.6666666666666666,\"#ed7953\"],[0.7777777777777778,\"#fb9f3a\"],[0.8888888888888888,\"#fdca26\"],[1.0,\"#f0f921\"]],\"diverging\":[[0,\"#8e0152\"],[0.1,\"#c51b7d\"],[0.2,\"#de77ae\"],[0.3,\"#f1b6da\"],[0.4,\"#fde0ef\"],[0.5,\"#f7f7f7\"],[0.6,\"#e6f5d0\"],[0.7,\"#b8e186\"],[0.8,\"#7fbc41\"],[0.9,\"#4d9221\"],[1,\"#276419\"]]},\"xaxis\":{\"gridcolor\":\"white\",\"linecolor\":\"white\",\"ticks\":\"\",\"title\":{\"standoff\":15},\"zerolinecolor\":\"white\",\"automargin\":true,\"zerolinewidth\":2},\"yaxis\":{\"gridcolor\":\"white\",\"linecolor\":\"white\",\"ticks\":\"\",\"title\":{\"standoff\":15},\"zerolinecolor\":\"white\",\"automargin\":true,\"zerolinewidth\":2},\"scene\":{\"xaxis\":{\"backgroundcolor\":\"#E5ECF6\",\"gridcolor\":\"white\",\"linecolor\":\"white\",\"showbackground\":true,\"ticks\":\"\",\"zerolinecolor\":\"white\",\"gridwidth\":2},\"yaxis\":{\"backgroundcolor\":\"#E5ECF6\",\"gridcolor\":\"white\",\"linecolor\":\"white\",\"showbackground\":true,\"ticks\":\"\",\"zerolinecolor\":\"white\",\"gridwidth\":2},\"zaxis\":{\"backgroundcolor\":\"#E5ECF6\",\"gridcolor\":\"white\",\"linecolor\":\"white\",\"showbackground\":true,\"ticks\":\"\",\"zerolinecolor\":\"white\",\"gridwidth\":2}},\"shapedefaults\":{\"line\":{\"color\":\"#2a3f5f\"}},\"annotationdefaults\":{\"arrowcolor\":\"#2a3f5f\",\"arrowhead\":0,\"arrowwidth\":1},\"geo\":{\"bgcolor\":\"white\",\"landcolor\":\"#E5ECF6\",\"subunitcolor\":\"white\",\"showland\":true,\"showlakes\":true,\"lakecolor\":\"white\"},\"title\":{\"x\":0.05},\"mapbox\":{\"style\":\"light\"}}},\"xaxis\":{\"anchor\":\"y\",\"domain\":[0.0,1.0],\"title\":{\"text\":\"Occupations\"},\"categoryorder\":\"array\",\"categoryarray\":[\"IT Sector\",\"Healthcare\",\"Aviation\",\"Banking\",\"Govt\",\"Hospitality\",\"Media\",\"Automobile\",\"Chemical\",\"Lawyer\",\"Retail\",\"Food Processing\",\"Construction\",\"Textile\",\"Agriculture\"]},\"yaxis\":{\"anchor\":\"x\",\"domain\":[0.0,1.0],\"title\":{\"text\":\"Total amount spent (Rupees)\"}},\"legend\":{\"title\":{\"text\":\"occupation\"},\"tracegroupgap\":0},\"margin\":{\"t\":60},\"barmode\":\"relative\",\"title\":{\"text\":\"Total amount spent based on occupation\"},\"height\":500,\"width\":800,\"showlegend\":false},                        {\"responsive\": true}                    ).then(function(){\n",
       "                            \n",
       "var gd = document.getElementById('e7f6fa12-7d53-4449-a195-8f25747632f8');\n",
       "var x = new MutationObserver(function (mutations, observer) {{\n",
       "        var display = window.getComputedStyle(gd).display;\n",
       "        if (!display || display === 'none') {{\n",
       "            console.log([gd, 'removed!']);\n",
       "            Plotly.purge(gd);\n",
       "            observer.disconnect();\n",
       "        }}\n",
       "}});\n",
       "\n",
       "// Listen for the removal of the full notebook cells\n",
       "var notebookContainer = gd.closest('#notebook-container');\n",
       "if (notebookContainer) {{\n",
       "    x.observe(notebookContainer, {childList: true});\n",
       "}}\n",
       "\n",
       "// Listen for the clearing of the current output cell\n",
       "var outputEl = gd.closest('.output');\n",
       "if (outputEl) {{\n",
       "    x.observe(outputEl, {childList: true});\n",
       "}}\n",
       "\n",
       "                        })                };                });            </script>        </div>"
      ]
     },
     "metadata": {},
     "output_type": "display_data"
    }
   ],
   "source": [
    "occupation_amount = df.groupby(['occupation'], as_index=False)['amount'].sum().sort_values(by='amount', ascending=False)\n",
    "    \n",
    "fig = px.bar(data_frame=occupation_amount,\n",
    "             x='occupation', \n",
    "             y='amount', \n",
    "             color='occupation',  \n",
    "             text_auto=True)\n",
    "    \n",
    "fig.update_layout(title=\"Total amount spent based on occupation\", \n",
    "                  height=500, \n",
    "                  width=800,  \n",
    "                  showlegend=False, \n",
    "                  yaxis_title_text='Total amount spent (Rupees)', \n",
    "                  xaxis_title_text='Occupations')\n",
    "    \n",
    "fig.show()"
   ]
  },
  {
   "cell_type": "markdown",
   "id": "bbebd5a0",
   "metadata": {
    "papermill": {
     "duration": 0.055352,
     "end_time": "2023-10-31T05:07:57.837550",
     "exception": false,
     "start_time": "2023-10-31T05:07:57.782198",
     "status": "completed"
    },
    "tags": []
   },
   "source": [
    "Looking at the average amount spent per person and most popular product category for various occupations"
   ]
  },
  {
   "cell_type": "code",
   "execution_count": 61,
   "id": "c6dc3cb0",
   "metadata": {
    "execution": {
     "iopub.execute_input": "2023-10-31T05:07:57.953315Z",
     "iopub.status.busy": "2023-10-31T05:07:57.952839Z",
     "iopub.status.idle": "2023-10-31T05:07:58.084187Z",
     "shell.execute_reply": "2023-10-31T05:07:58.083329Z"
    },
    "papermill": {
     "duration": 0.19398,
     "end_time": "2023-10-31T05:07:58.086736",
     "exception": false,
     "start_time": "2023-10-31T05:07:57.892756",
     "status": "completed"
    },
    "tags": []
   },
   "outputs": [
    {
     "data": {
      "text/html": [
       "<style type=\"text/css\">\n",
       "#T_986b8 th:not(.index_name) {\n",
       "  font-weight: bold;\n",
       "  font-size: 110%;\n",
       "}\n",
       "#T_986b8_row0_col0, #T_986b8_row0_col1, #T_986b8_row0_col2, #T_986b8_row1_col0, #T_986b8_row1_col1, #T_986b8_row1_col2, #T_986b8_row2_col0, #T_986b8_row2_col1, #T_986b8_row2_col2, #T_986b8_row3_col0, #T_986b8_row3_col1, #T_986b8_row3_col2, #T_986b8_row4_col0, #T_986b8_row4_col1, #T_986b8_row4_col2, #T_986b8_row5_col0, #T_986b8_row5_col1, #T_986b8_row5_col2, #T_986b8_row6_col0, #T_986b8_row6_col1, #T_986b8_row6_col2, #T_986b8_row7_col0, #T_986b8_row7_col1, #T_986b8_row7_col2, #T_986b8_row8_col0, #T_986b8_row8_col1, #T_986b8_row8_col2, #T_986b8_row9_col0, #T_986b8_row9_col1, #T_986b8_row9_col2, #T_986b8_row10_col0, #T_986b8_row10_col1, #T_986b8_row10_col2, #T_986b8_row11_col0, #T_986b8_row11_col1, #T_986b8_row11_col2, #T_986b8_row12_col0, #T_986b8_row12_col1, #T_986b8_row12_col2, #T_986b8_row13_col0, #T_986b8_row13_col1, #T_986b8_row13_col2, #T_986b8_row14_col0, #T_986b8_row14_col1, #T_986b8_row14_col2 {\n",
       "  border: 1px solid;\n",
       "}\n",
       "</style>\n",
       "<table id=\"T_986b8\">\n",
       "  <thead>\n",
       "    <tr>\n",
       "      <th class=\"blank level0\" >&nbsp;</th>\n",
       "      <th id=\"T_986b8_level0_col0\" class=\"col_heading level0 col0\" >occupation</th>\n",
       "      <th id=\"T_986b8_level0_col1\" class=\"col_heading level0 col1\" >average amount spent</th>\n",
       "      <th id=\"T_986b8_level0_col2\" class=\"col_heading level0 col2\" >most popular category</th>\n",
       "    </tr>\n",
       "  </thead>\n",
       "  <tbody>\n",
       "    <tr>\n",
       "      <th id=\"T_986b8_level0_row0\" class=\"row_heading level0 row0\" >0</th>\n",
       "      <td id=\"T_986b8_row0_col0\" class=\"data row0 col0\" >Govt</td>\n",
       "      <td id=\"T_986b8_row0_col1\" class=\"data row0 col1\" >9973.316159</td>\n",
       "      <td id=\"T_986b8_row0_col2\" class=\"data row0 col2\" >Food</td>\n",
       "    </tr>\n",
       "    <tr>\n",
       "      <th id=\"T_986b8_level0_row1\" class=\"row_heading level0 row1\" >1</th>\n",
       "      <td id=\"T_986b8_row1_col0\" class=\"data row1 col0\" >Media</td>\n",
       "      <td id=\"T_986b8_row1_col1\" class=\"data row1 col1\" >9883.568273</td>\n",
       "      <td id=\"T_986b8_row1_col2\" class=\"data row1 col2\" >Food</td>\n",
       "    </tr>\n",
       "    <tr>\n",
       "      <th id=\"T_986b8_level0_row2\" class=\"row_heading level0 row2\" >2</th>\n",
       "      <td id=\"T_986b8_row2_col0\" class=\"data row2 col0\" >Chemical</td>\n",
       "      <td id=\"T_986b8_row2_col1\" class=\"data row2 col1\" >9791.933457</td>\n",
       "      <td id=\"T_986b8_row2_col2\" class=\"data row2 col2\" >Food</td>\n",
       "    </tr>\n",
       "    <tr>\n",
       "      <th id=\"T_986b8_level0_row3\" class=\"row_heading level0 row3\" >3</th>\n",
       "      <td id=\"T_986b8_row3_col0\" class=\"data row3 col0\" >Food Processing</td>\n",
       "      <td id=\"T_986b8_row3_col1\" class=\"data row3 col1\" >9623.333333</td>\n",
       "      <td id=\"T_986b8_row3_col2\" class=\"data row3 col2\" >Electronics & Gadgets</td>\n",
       "    </tr>\n",
       "    <tr>\n",
       "      <th id=\"T_986b8_level0_row4\" class=\"row_heading level0 row4\" >4</th>\n",
       "      <td id=\"T_986b8_row4_col0\" class=\"data row4 col0\" >Aviation</td>\n",
       "      <td id=\"T_986b8_row4_col1\" class=\"data row4 col1\" >9620.074809</td>\n",
       "      <td id=\"T_986b8_row4_col2\" class=\"data row4 col2\" >Food</td>\n",
       "    </tr>\n",
       "    <tr>\n",
       "      <th id=\"T_986b8_level0_row5\" class=\"row_heading level0 row5\" >5</th>\n",
       "      <td id=\"T_986b8_row5_col0\" class=\"data row5 col0\" >Retail</td>\n",
       "      <td id=\"T_986b8_row5_col1\" class=\"data row5 col1\" >9547.245509</td>\n",
       "      <td id=\"T_986b8_row5_col2\" class=\"data row5 col2\" >Clothing & Apparel</td>\n",
       "    </tr>\n",
       "    <tr>\n",
       "      <th id=\"T_986b8_level0_row6\" class=\"row_heading level0 row6\" >6</th>\n",
       "      <td id=\"T_986b8_row6_col0\" class=\"data row6 col0\" >Automobile</td>\n",
       "      <td id=\"T_986b8_row6_col1\" class=\"data row6 col1\" >9501.939823</td>\n",
       "      <td id=\"T_986b8_row6_col2\" class=\"data row6 col2\" >Clothing & Apparel</td>\n",
       "    </tr>\n",
       "    <tr>\n",
       "      <th id=\"T_986b8_level0_row7\" class=\"row_heading level0 row7\" >7</th>\n",
       "      <td id=\"T_986b8_row7_col0\" class=\"data row7 col0\" >Banking</td>\n",
       "      <td id=\"T_986b8_row7_col1\" class=\"data row7 col1\" >9472.832850</td>\n",
       "      <td id=\"T_986b8_row7_col2\" class=\"data row7 col2\" >Clothing & Apparel</td>\n",
       "    </tr>\n",
       "    <tr>\n",
       "      <th id=\"T_986b8_level0_row8\" class=\"row_heading level0 row8\" >8</th>\n",
       "      <td id=\"T_986b8_row8_col0\" class=\"data row8 col0\" >Lawyer</td>\n",
       "      <td id=\"T_986b8_row8_col1\" class=\"data row8 col1\" >9381.666667</td>\n",
       "      <td id=\"T_986b8_row8_col2\" class=\"data row8 col2\" >Food</td>\n",
       "    </tr>\n",
       "    <tr>\n",
       "      <th id=\"T_986b8_level0_row9\" class=\"row_heading level0 row9\" >9</th>\n",
       "      <td id=\"T_986b8_row9_col0\" class=\"data row9 col0\" >IT Sector</td>\n",
       "      <td id=\"T_986b8_row9_col1\" class=\"data row9 col1\" >9320.959570</td>\n",
       "      <td id=\"T_986b8_row9_col2\" class=\"data row9 col2\" >Clothing & Apparel</td>\n",
       "    </tr>\n",
       "    <tr>\n",
       "      <th id=\"T_986b8_level0_row10\" class=\"row_heading level0 row10\" >10</th>\n",
       "      <td id=\"T_986b8_row10_col0\" class=\"data row10 col0\" >Healthcare</td>\n",
       "      <td id=\"T_986b8_row10_col1\" class=\"data row10 col1\" >9257.519524</td>\n",
       "      <td id=\"T_986b8_row10_col2\" class=\"data row10 col2\" >Clothing & Apparel</td>\n",
       "    </tr>\n",
       "    <tr>\n",
       "      <th id=\"T_986b8_level0_row11\" class=\"row_heading level0 row11\" >11</th>\n",
       "      <td id=\"T_986b8_row11_col0\" class=\"data row11 col0\" >Textile</td>\n",
       "      <td id=\"T_986b8_row11_col1\" class=\"data row11 col1\" >9183.300860</td>\n",
       "      <td id=\"T_986b8_row11_col2\" class=\"data row11 col2\" >Clothing & Apparel</td>\n",
       "    </tr>\n",
       "    <tr>\n",
       "      <th id=\"T_986b8_level0_row12\" class=\"row_heading level0 row12\" >12</th>\n",
       "      <td id=\"T_986b8_row12_col0\" class=\"data row12 col0\" >Agriculture</td>\n",
       "      <td id=\"T_986b8_row12_col1\" class=\"data row12 col1\" >9162.851590</td>\n",
       "      <td id=\"T_986b8_row12_col2\" class=\"data row12 col2\" >Clothing & Apparel</td>\n",
       "    </tr>\n",
       "    <tr>\n",
       "      <th id=\"T_986b8_level0_row13\" class=\"row_heading level0 row13\" >13</th>\n",
       "      <td id=\"T_986b8_row13_col0\" class=\"data row13 col0\" >Hospitality</td>\n",
       "      <td id=\"T_986b8_row13_col1\" class=\"data row13 col1\" >9070.277383</td>\n",
       "      <td id=\"T_986b8_row13_col2\" class=\"data row13 col2\" >Clothing & Apparel</td>\n",
       "    </tr>\n",
       "    <tr>\n",
       "      <th id=\"T_986b8_level0_row14\" class=\"row_heading level0 row14\" >14</th>\n",
       "      <td id=\"T_986b8_row14_col0\" class=\"data row14 col0\" >Construction</td>\n",
       "      <td id=\"T_986b8_row14_col1\" class=\"data row14 col1\" >8689.640097</td>\n",
       "      <td id=\"T_986b8_row14_col2\" class=\"data row14 col2\" >Clothing & Apparel</td>\n",
       "    </tr>\n",
       "  </tbody>\n",
       "</table>\n"
      ],
      "text/plain": [
       "<pandas.io.formats.style.Styler at 0x789af1475060>"
      ]
     },
     "execution_count": 61,
     "metadata": {},
     "output_type": "execute_result"
    }
   ],
   "source": [
    "occ_avg_cat=[]\n",
    "for i in list(df['occupation'].unique()):\n",
    "    occ_df=df[df['occupation']==i]\n",
    "    avg=occ_df['amount'].describe().loc['mean']\n",
    "    cat=occ_df.groupby(['product_category']).size().reset_index(name='counts').sort_values('counts', ascending=False).head(1)\n",
    "    cat=list(cat['product_category'])[0]\n",
    "    occ_avg_cat.append([i, avg, cat])\n",
    "occ_avg_cat_df=pd.DataFrame(occ_avg_cat, columns=['occupation', 'average amount spent', 'most popular category'])\n",
    "occ_avg_cat_df=occ_avg_cat_df.sort_values(by='average amount spent', ascending=False).reset_index(drop=True)\n",
    "occ_avg_cat_df.style.set_properties(**{\"border\" : \"1px solid\"}).set_table_styles([headers])"
   ]
  },
  {
   "cell_type": "markdown",
   "id": "4ff9f90a",
   "metadata": {
    "papermill": {
     "duration": 0.057233,
     "end_time": "2023-10-31T05:07:58.199919",
     "exception": false,
     "start_time": "2023-10-31T05:07:58.142686",
     "status": "completed"
    },
    "tags": []
   },
   "source": [
    "Visualizing the total amount spent on orders from various state"
   ]
  },
  {
   "cell_type": "code",
   "execution_count": 62,
   "id": "0705ef39",
   "metadata": {
    "execution": {
     "iopub.execute_input": "2023-10-31T05:07:58.316085Z",
     "iopub.status.busy": "2023-10-31T05:07:58.315302Z",
     "iopub.status.idle": "2023-10-31T05:07:58.552339Z",
     "shell.execute_reply": "2023-10-31T05:07:58.550522Z"
    },
    "papermill": {
     "duration": 0.297176,
     "end_time": "2023-10-31T05:07:58.555014",
     "exception": false,
     "start_time": "2023-10-31T05:07:58.257838",
     "status": "completed"
    },
    "tags": []
   },
   "outputs": [
    {
     "data": {
      "text/html": [
       "<div>                            <div id=\"d83dee65-0279-4126-bda5-578c43bba7c0\" class=\"plotly-graph-div\" style=\"height:500px; width:800px;\"></div>            <script type=\"text/javascript\">                require([\"plotly\"], function(Plotly) {                    window.PLOTLYENV=window.PLOTLYENV || {};                                    if (document.getElementById(\"d83dee65-0279-4126-bda5-578c43bba7c0\")) {                    Plotly.newPlot(                        \"d83dee65-0279-4126-bda5-578c43bba7c0\",                        [{\"alignmentgroup\":\"True\",\"hovertemplate\":\"zone=Central\\u003cbr\\u003estate=%{x}\\u003cbr\\u003eamount=%{y}\\u003cextra\\u003e\\u003c\\u002fextra\\u003e\",\"legendgroup\":\"Central\",\"marker\":{\"color\":\"#636efa\",\"pattern\":{\"shape\":\"\"}},\"name\":\"Central\",\"offsetgroup\":\"Central\",\"orientation\":\"v\",\"showlegend\":true,\"textposition\":\"auto\",\"texttemplate\":\"%{y}\",\"x\":[\"Uttar Pradesh\",\"Delhi\",\"Madhya Pradesh\",\"Uttarakhand\"],\"xaxis\":\"x\",\"y\":[19374968.0,11603819.45,8101142.0,2520944.0],\"yaxis\":\"y\",\"type\":\"bar\"},{\"alignmentgroup\":\"True\",\"hovertemplate\":\"zone=Western\\u003cbr\\u003estate=%{x}\\u003cbr\\u003eamount=%{y}\\u003cextra\\u003e\\u003c\\u002fextra\\u003e\",\"legendgroup\":\"Western\",\"marker\":{\"color\":\"#EF553B\",\"pattern\":{\"shape\":\"\"}},\"name\":\"Western\",\"offsetgroup\":\"Western\",\"orientation\":\"v\",\"showlegend\":true,\"textposition\":\"auto\",\"texttemplate\":\"%{y}\",\"x\":[\"Maharashtra\",\"Gujarat\"],\"xaxis\":\"x\",\"y\":[14427543.0,3946082.0],\"yaxis\":\"y\",\"type\":\"bar\"},{\"alignmentgroup\":\"True\",\"hovertemplate\":\"zone=Southern\\u003cbr\\u003estate=%{x}\\u003cbr\\u003eamount=%{y}\\u003cextra\\u003e\\u003c\\u002fextra\\u003e\",\"legendgroup\":\"Southern\",\"marker\":{\"color\":\"#00cc96\",\"pattern\":{\"shape\":\"\"}},\"name\":\"Southern\",\"offsetgroup\":\"Southern\",\"orientation\":\"v\",\"showlegend\":true,\"textposition\":\"auto\",\"texttemplate\":\"%{y}\",\"x\":[\"Karnataka\",\"Andhra Pradesh\",\"Kerala\",\"Telangana\"],\"xaxis\":\"x\",\"y\":[13523540.0,8037146.99,3894491.99,1151490.0],\"yaxis\":\"y\",\"type\":\"bar\"},{\"alignmentgroup\":\"True\",\"hovertemplate\":\"zone=Northern\\u003cbr\\u003estate=%{x}\\u003cbr\\u003eamount=%{y}\\u003cextra\\u003e\\u003c\\u002fextra\\u003e\",\"legendgroup\":\"Northern\",\"marker\":{\"color\":\"#ab63fa\",\"pattern\":{\"shape\":\"\"}},\"name\":\"Northern\",\"offsetgroup\":\"Northern\",\"orientation\":\"v\",\"showlegend\":true,\"textposition\":\"auto\",\"texttemplate\":\"%{y}\",\"x\":[\"Himachal Pradesh\",\"Haryana\",\"Rajasthan\",\"Punjab\"],\"xaxis\":\"x\",\"y\":[4963368.0,4220175.0,1909409.0,1525800.0],\"yaxis\":\"y\",\"type\":\"bar\"},{\"alignmentgroup\":\"True\",\"hovertemplate\":\"zone=Eastern\\u003cbr\\u003estate=%{x}\\u003cbr\\u003eamount=%{y}\\u003cextra\\u003e\\u003c\\u002fextra\\u003e\",\"legendgroup\":\"Eastern\",\"marker\":{\"color\":\"#FFA15A\",\"pattern\":{\"shape\":\"\"}},\"name\":\"Eastern\",\"offsetgroup\":\"Eastern\",\"orientation\":\"v\",\"showlegend\":true,\"textposition\":\"auto\",\"texttemplate\":\"%{y}\",\"x\":[\"Bihar\",\"Jharkhand\"],\"xaxis\":\"x\",\"y\":[4022757.0,3026456.0],\"yaxis\":\"y\",\"type\":\"bar\"}],                        {\"template\":{\"data\":{\"histogram2dcontour\":[{\"type\":\"histogram2dcontour\",\"colorbar\":{\"outlinewidth\":0,\"ticks\":\"\"},\"colorscale\":[[0.0,\"#0d0887\"],[0.1111111111111111,\"#46039f\"],[0.2222222222222222,\"#7201a8\"],[0.3333333333333333,\"#9c179e\"],[0.4444444444444444,\"#bd3786\"],[0.5555555555555556,\"#d8576b\"],[0.6666666666666666,\"#ed7953\"],[0.7777777777777778,\"#fb9f3a\"],[0.8888888888888888,\"#fdca26\"],[1.0,\"#f0f921\"]]}],\"choropleth\":[{\"type\":\"choropleth\",\"colorbar\":{\"outlinewidth\":0,\"ticks\":\"\"}}],\"histogram2d\":[{\"type\":\"histogram2d\",\"colorbar\":{\"outlinewidth\":0,\"ticks\":\"\"},\"colorscale\":[[0.0,\"#0d0887\"],[0.1111111111111111,\"#46039f\"],[0.2222222222222222,\"#7201a8\"],[0.3333333333333333,\"#9c179e\"],[0.4444444444444444,\"#bd3786\"],[0.5555555555555556,\"#d8576b\"],[0.6666666666666666,\"#ed7953\"],[0.7777777777777778,\"#fb9f3a\"],[0.8888888888888888,\"#fdca26\"],[1.0,\"#f0f921\"]]}],\"heatmap\":[{\"type\":\"heatmap\",\"colorbar\":{\"outlinewidth\":0,\"ticks\":\"\"},\"colorscale\":[[0.0,\"#0d0887\"],[0.1111111111111111,\"#46039f\"],[0.2222222222222222,\"#7201a8\"],[0.3333333333333333,\"#9c179e\"],[0.4444444444444444,\"#bd3786\"],[0.5555555555555556,\"#d8576b\"],[0.6666666666666666,\"#ed7953\"],[0.7777777777777778,\"#fb9f3a\"],[0.8888888888888888,\"#fdca26\"],[1.0,\"#f0f921\"]]}],\"heatmapgl\":[{\"type\":\"heatmapgl\",\"colorbar\":{\"outlinewidth\":0,\"ticks\":\"\"},\"colorscale\":[[0.0,\"#0d0887\"],[0.1111111111111111,\"#46039f\"],[0.2222222222222222,\"#7201a8\"],[0.3333333333333333,\"#9c179e\"],[0.4444444444444444,\"#bd3786\"],[0.5555555555555556,\"#d8576b\"],[0.6666666666666666,\"#ed7953\"],[0.7777777777777778,\"#fb9f3a\"],[0.8888888888888888,\"#fdca26\"],[1.0,\"#f0f921\"]]}],\"contourcarpet\":[{\"type\":\"contourcarpet\",\"colorbar\":{\"outlinewidth\":0,\"ticks\":\"\"}}],\"contour\":[{\"type\":\"contour\",\"colorbar\":{\"outlinewidth\":0,\"ticks\":\"\"},\"colorscale\":[[0.0,\"#0d0887\"],[0.1111111111111111,\"#46039f\"],[0.2222222222222222,\"#7201a8\"],[0.3333333333333333,\"#9c179e\"],[0.4444444444444444,\"#bd3786\"],[0.5555555555555556,\"#d8576b\"],[0.6666666666666666,\"#ed7953\"],[0.7777777777777778,\"#fb9f3a\"],[0.8888888888888888,\"#fdca26\"],[1.0,\"#f0f921\"]]}],\"surface\":[{\"type\":\"surface\",\"colorbar\":{\"outlinewidth\":0,\"ticks\":\"\"},\"colorscale\":[[0.0,\"#0d0887\"],[0.1111111111111111,\"#46039f\"],[0.2222222222222222,\"#7201a8\"],[0.3333333333333333,\"#9c179e\"],[0.4444444444444444,\"#bd3786\"],[0.5555555555555556,\"#d8576b\"],[0.6666666666666666,\"#ed7953\"],[0.7777777777777778,\"#fb9f3a\"],[0.8888888888888888,\"#fdca26\"],[1.0,\"#f0f921\"]]}],\"mesh3d\":[{\"type\":\"mesh3d\",\"colorbar\":{\"outlinewidth\":0,\"ticks\":\"\"}}],\"scatter\":[{\"fillpattern\":{\"fillmode\":\"overlay\",\"size\":10,\"solidity\":0.2},\"type\":\"scatter\"}],\"parcoords\":[{\"type\":\"parcoords\",\"line\":{\"colorbar\":{\"outlinewidth\":0,\"ticks\":\"\"}}}],\"scatterpolargl\":[{\"type\":\"scatterpolargl\",\"marker\":{\"colorbar\":{\"outlinewidth\":0,\"ticks\":\"\"}}}],\"bar\":[{\"error_x\":{\"color\":\"#2a3f5f\"},\"error_y\":{\"color\":\"#2a3f5f\"},\"marker\":{\"line\":{\"color\":\"#E5ECF6\",\"width\":0.5},\"pattern\":{\"fillmode\":\"overlay\",\"size\":10,\"solidity\":0.2}},\"type\":\"bar\"}],\"scattergeo\":[{\"type\":\"scattergeo\",\"marker\":{\"colorbar\":{\"outlinewidth\":0,\"ticks\":\"\"}}}],\"scatterpolar\":[{\"type\":\"scatterpolar\",\"marker\":{\"colorbar\":{\"outlinewidth\":0,\"ticks\":\"\"}}}],\"histogram\":[{\"marker\":{\"pattern\":{\"fillmode\":\"overlay\",\"size\":10,\"solidity\":0.2}},\"type\":\"histogram\"}],\"scattergl\":[{\"type\":\"scattergl\",\"marker\":{\"colorbar\":{\"outlinewidth\":0,\"ticks\":\"\"}}}],\"scatter3d\":[{\"type\":\"scatter3d\",\"line\":{\"colorbar\":{\"outlinewidth\":0,\"ticks\":\"\"}},\"marker\":{\"colorbar\":{\"outlinewidth\":0,\"ticks\":\"\"}}}],\"scattermapbox\":[{\"type\":\"scattermapbox\",\"marker\":{\"colorbar\":{\"outlinewidth\":0,\"ticks\":\"\"}}}],\"scatterternary\":[{\"type\":\"scatterternary\",\"marker\":{\"colorbar\":{\"outlinewidth\":0,\"ticks\":\"\"}}}],\"scattercarpet\":[{\"type\":\"scattercarpet\",\"marker\":{\"colorbar\":{\"outlinewidth\":0,\"ticks\":\"\"}}}],\"carpet\":[{\"aaxis\":{\"endlinecolor\":\"#2a3f5f\",\"gridcolor\":\"white\",\"linecolor\":\"white\",\"minorgridcolor\":\"white\",\"startlinecolor\":\"#2a3f5f\"},\"baxis\":{\"endlinecolor\":\"#2a3f5f\",\"gridcolor\":\"white\",\"linecolor\":\"white\",\"minorgridcolor\":\"white\",\"startlinecolor\":\"#2a3f5f\"},\"type\":\"carpet\"}],\"table\":[{\"cells\":{\"fill\":{\"color\":\"#EBF0F8\"},\"line\":{\"color\":\"white\"}},\"header\":{\"fill\":{\"color\":\"#C8D4E3\"},\"line\":{\"color\":\"white\"}},\"type\":\"table\"}],\"barpolar\":[{\"marker\":{\"line\":{\"color\":\"#E5ECF6\",\"width\":0.5},\"pattern\":{\"fillmode\":\"overlay\",\"size\":10,\"solidity\":0.2}},\"type\":\"barpolar\"}],\"pie\":[{\"automargin\":true,\"type\":\"pie\"}]},\"layout\":{\"autotypenumbers\":\"strict\",\"colorway\":[\"#636efa\",\"#EF553B\",\"#00cc96\",\"#ab63fa\",\"#FFA15A\",\"#19d3f3\",\"#FF6692\",\"#B6E880\",\"#FF97FF\",\"#FECB52\"],\"font\":{\"color\":\"#2a3f5f\"},\"hovermode\":\"closest\",\"hoverlabel\":{\"align\":\"left\"},\"paper_bgcolor\":\"white\",\"plot_bgcolor\":\"#E5ECF6\",\"polar\":{\"bgcolor\":\"#E5ECF6\",\"angularaxis\":{\"gridcolor\":\"white\",\"linecolor\":\"white\",\"ticks\":\"\"},\"radialaxis\":{\"gridcolor\":\"white\",\"linecolor\":\"white\",\"ticks\":\"\"}},\"ternary\":{\"bgcolor\":\"#E5ECF6\",\"aaxis\":{\"gridcolor\":\"white\",\"linecolor\":\"white\",\"ticks\":\"\"},\"baxis\":{\"gridcolor\":\"white\",\"linecolor\":\"white\",\"ticks\":\"\"},\"caxis\":{\"gridcolor\":\"white\",\"linecolor\":\"white\",\"ticks\":\"\"}},\"coloraxis\":{\"colorbar\":{\"outlinewidth\":0,\"ticks\":\"\"}},\"colorscale\":{\"sequential\":[[0.0,\"#0d0887\"],[0.1111111111111111,\"#46039f\"],[0.2222222222222222,\"#7201a8\"],[0.3333333333333333,\"#9c179e\"],[0.4444444444444444,\"#bd3786\"],[0.5555555555555556,\"#d8576b\"],[0.6666666666666666,\"#ed7953\"],[0.7777777777777778,\"#fb9f3a\"],[0.8888888888888888,\"#fdca26\"],[1.0,\"#f0f921\"]],\"sequentialminus\":[[0.0,\"#0d0887\"],[0.1111111111111111,\"#46039f\"],[0.2222222222222222,\"#7201a8\"],[0.3333333333333333,\"#9c179e\"],[0.4444444444444444,\"#bd3786\"],[0.5555555555555556,\"#d8576b\"],[0.6666666666666666,\"#ed7953\"],[0.7777777777777778,\"#fb9f3a\"],[0.8888888888888888,\"#fdca26\"],[1.0,\"#f0f921\"]],\"diverging\":[[0,\"#8e0152\"],[0.1,\"#c51b7d\"],[0.2,\"#de77ae\"],[0.3,\"#f1b6da\"],[0.4,\"#fde0ef\"],[0.5,\"#f7f7f7\"],[0.6,\"#e6f5d0\"],[0.7,\"#b8e186\"],[0.8,\"#7fbc41\"],[0.9,\"#4d9221\"],[1,\"#276419\"]]},\"xaxis\":{\"gridcolor\":\"white\",\"linecolor\":\"white\",\"ticks\":\"\",\"title\":{\"standoff\":15},\"zerolinecolor\":\"white\",\"automargin\":true,\"zerolinewidth\":2},\"yaxis\":{\"gridcolor\":\"white\",\"linecolor\":\"white\",\"ticks\":\"\",\"title\":{\"standoff\":15},\"zerolinecolor\":\"white\",\"automargin\":true,\"zerolinewidth\":2},\"scene\":{\"xaxis\":{\"backgroundcolor\":\"#E5ECF6\",\"gridcolor\":\"white\",\"linecolor\":\"white\",\"showbackground\":true,\"ticks\":\"\",\"zerolinecolor\":\"white\",\"gridwidth\":2},\"yaxis\":{\"backgroundcolor\":\"#E5ECF6\",\"gridcolor\":\"white\",\"linecolor\":\"white\",\"showbackground\":true,\"ticks\":\"\",\"zerolinecolor\":\"white\",\"gridwidth\":2},\"zaxis\":{\"backgroundcolor\":\"#E5ECF6\",\"gridcolor\":\"white\",\"linecolor\":\"white\",\"showbackground\":true,\"ticks\":\"\",\"zerolinecolor\":\"white\",\"gridwidth\":2}},\"shapedefaults\":{\"line\":{\"color\":\"#2a3f5f\"}},\"annotationdefaults\":{\"arrowcolor\":\"#2a3f5f\",\"arrowhead\":0,\"arrowwidth\":1},\"geo\":{\"bgcolor\":\"white\",\"landcolor\":\"#E5ECF6\",\"subunitcolor\":\"white\",\"showland\":true,\"showlakes\":true,\"lakecolor\":\"white\"},\"title\":{\"x\":0.05},\"mapbox\":{\"style\":\"light\"}}},\"xaxis\":{\"anchor\":\"y\",\"domain\":[0.0,1.0],\"title\":{\"text\":\"States\"},\"categoryorder\":\"total descending\"},\"yaxis\":{\"anchor\":\"x\",\"domain\":[0.0,1.0],\"title\":{\"text\":\"Total amount spent (Rupees)\"}},\"legend\":{\"title\":{\"text\":\"zone\"},\"tracegroupgap\":0},\"margin\":{\"t\":60},\"barmode\":\"relative\",\"title\":{\"text\":\"Total amount spent on orders from various states\"},\"height\":500,\"width\":800,\"showlegend\":true},                        {\"responsive\": true}                    ).then(function(){\n",
       "                            \n",
       "var gd = document.getElementById('d83dee65-0279-4126-bda5-578c43bba7c0');\n",
       "var x = new MutationObserver(function (mutations, observer) {{\n",
       "        var display = window.getComputedStyle(gd).display;\n",
       "        if (!display || display === 'none') {{\n",
       "            console.log([gd, 'removed!']);\n",
       "            Plotly.purge(gd);\n",
       "            observer.disconnect();\n",
       "        }}\n",
       "}});\n",
       "\n",
       "// Listen for the removal of the full notebook cells\n",
       "var notebookContainer = gd.closest('#notebook-container');\n",
       "if (notebookContainer) {{\n",
       "    x.observe(notebookContainer, {childList: true});\n",
       "}}\n",
       "\n",
       "// Listen for the clearing of the current output cell\n",
       "var outputEl = gd.closest('.output');\n",
       "if (outputEl) {{\n",
       "    x.observe(outputEl, {childList: true});\n",
       "}}\n",
       "\n",
       "                        })                };                });            </script>        </div>"
      ]
     },
     "metadata": {},
     "output_type": "display_data"
    }
   ],
   "source": [
    "state_amount = df.groupby(['state', 'zone'], as_index=False)['amount'].sum().sort_values(by='amount', ascending=False)\n",
    "    \n",
    "fig = px.bar(data_frame=state_amount,\n",
    "             x='state', \n",
    "             y='amount',\n",
    "             color='zone',\n",
    "             text_auto=True)\n",
    "    \n",
    "fig.update_layout(title=\"Total amount spent on orders from various states\", \n",
    "                  height=500, \n",
    "                  width=800,  \n",
    "                  showlegend=True, \n",
    "                  xaxis={'categoryorder':'total descending'}, \n",
    "                  yaxis_title_text='Total amount spent (Rupees)', \n",
    "                  xaxis_title_text='States')\n",
    "    \n",
    "fig.show()"
   ]
  },
  {
   "cell_type": "markdown",
   "id": "4e0c33dc",
   "metadata": {
    "papermill": {
     "duration": 0.057114,
     "end_time": "2023-10-31T05:07:58.669598",
     "exception": false,
     "start_time": "2023-10-31T05:07:58.612484",
     "status": "completed"
    },
    "tags": []
   },
   "source": [
    "Looking at the average amount spent per person and most popular product category for orders from various states"
   ]
  },
  {
   "cell_type": "code",
   "execution_count": 63,
   "id": "758b004b",
   "metadata": {
    "execution": {
     "iopub.execute_input": "2023-10-31T05:07:58.790165Z",
     "iopub.status.busy": "2023-10-31T05:07:58.789346Z",
     "iopub.status.idle": "2023-10-31T05:07:58.932683Z",
     "shell.execute_reply": "2023-10-31T05:07:58.931517Z"
    },
    "papermill": {
     "duration": 0.207758,
     "end_time": "2023-10-31T05:07:58.935522",
     "exception": false,
     "start_time": "2023-10-31T05:07:58.727764",
     "status": "completed"
    },
    "tags": []
   },
   "outputs": [
    {
     "data": {
      "text/html": [
       "<style type=\"text/css\">\n",
       "#T_52cc6 th:not(.index_name) {\n",
       "  font-weight: bold;\n",
       "  font-size: 110%;\n",
       "}\n",
       "#T_52cc6_row0_col0, #T_52cc6_row0_col1, #T_52cc6_row0_col2, #T_52cc6_row0_col3, #T_52cc6_row1_col0, #T_52cc6_row1_col1, #T_52cc6_row1_col2, #T_52cc6_row1_col3, #T_52cc6_row2_col0, #T_52cc6_row2_col1, #T_52cc6_row2_col2, #T_52cc6_row2_col3, #T_52cc6_row3_col0, #T_52cc6_row3_col1, #T_52cc6_row3_col2, #T_52cc6_row3_col3, #T_52cc6_row4_col0, #T_52cc6_row4_col1, #T_52cc6_row4_col2, #T_52cc6_row4_col3, #T_52cc6_row5_col0, #T_52cc6_row5_col1, #T_52cc6_row5_col2, #T_52cc6_row5_col3, #T_52cc6_row6_col0, #T_52cc6_row6_col1, #T_52cc6_row6_col2, #T_52cc6_row6_col3, #T_52cc6_row7_col0, #T_52cc6_row7_col1, #T_52cc6_row7_col2, #T_52cc6_row7_col3, #T_52cc6_row8_col0, #T_52cc6_row8_col1, #T_52cc6_row8_col2, #T_52cc6_row8_col3, #T_52cc6_row9_col0, #T_52cc6_row9_col1, #T_52cc6_row9_col2, #T_52cc6_row9_col3, #T_52cc6_row10_col0, #T_52cc6_row10_col1, #T_52cc6_row10_col2, #T_52cc6_row10_col3, #T_52cc6_row11_col0, #T_52cc6_row11_col1, #T_52cc6_row11_col2, #T_52cc6_row11_col3, #T_52cc6_row12_col0, #T_52cc6_row12_col1, #T_52cc6_row12_col2, #T_52cc6_row12_col3, #T_52cc6_row13_col0, #T_52cc6_row13_col1, #T_52cc6_row13_col2, #T_52cc6_row13_col3, #T_52cc6_row14_col0, #T_52cc6_row14_col1, #T_52cc6_row14_col2, #T_52cc6_row14_col3, #T_52cc6_row15_col0, #T_52cc6_row15_col1, #T_52cc6_row15_col2, #T_52cc6_row15_col3 {\n",
       "  border: 1px solid;\n",
       "}\n",
       "</style>\n",
       "<table id=\"T_52cc6\">\n",
       "  <thead>\n",
       "    <tr>\n",
       "      <th class=\"blank level0\" >&nbsp;</th>\n",
       "      <th id=\"T_52cc6_level0_col0\" class=\"col_heading level0 col0\" >state</th>\n",
       "      <th id=\"T_52cc6_level0_col1\" class=\"col_heading level0 col1\" >zone</th>\n",
       "      <th id=\"T_52cc6_level0_col2\" class=\"col_heading level0 col2\" >average amount spent</th>\n",
       "      <th id=\"T_52cc6_level0_col3\" class=\"col_heading level0 col3\" >most popular category</th>\n",
       "    </tr>\n",
       "  </thead>\n",
       "  <tbody>\n",
       "    <tr>\n",
       "      <th id=\"T_52cc6_level0_row0\" class=\"row_heading level0 row0\" >0</th>\n",
       "      <td id=\"T_52cc6_row0_col0\" class=\"data row0 col0\" >Delhi</td>\n",
       "      <td id=\"T_52cc6_row0_col1\" class=\"data row0 col1\" >Central</td>\n",
       "      <td id=\"T_52cc6_row0_col2\" class=\"data row0 col2\" >10510.706024</td>\n",
       "      <td id=\"T_52cc6_row0_col3\" class=\"data row0 col3\" >Footwear & Shoes</td>\n",
       "    </tr>\n",
       "    <tr>\n",
       "      <th id=\"T_52cc6_level0_row1\" class=\"row_heading level0 row1\" >1</th>\n",
       "      <td id=\"T_52cc6_row1_col0\" class=\"data row1 col0\" >Karnataka</td>\n",
       "      <td id=\"T_52cc6_row1_col1\" class=\"data row1 col1\" >Southern</td>\n",
       "      <td id=\"T_52cc6_row1_col2\" class=\"data row1 col2\" >10370.812883</td>\n",
       "      <td id=\"T_52cc6_row1_col3\" class=\"data row1 col3\" >Footwear & Shoes</td>\n",
       "    </tr>\n",
       "    <tr>\n",
       "      <th id=\"T_52cc6_level0_row2\" class=\"row_heading level0 row2\" >2</th>\n",
       "      <td id=\"T_52cc6_row2_col0\" class=\"data row2 col0\" >Uttar Pradesh</td>\n",
       "      <td id=\"T_52cc6_row2_col1\" class=\"data row2 col1\" >Central</td>\n",
       "      <td id=\"T_52cc6_row2_col2\" class=\"data row2 col2\" >9966.547325</td>\n",
       "      <td id=\"T_52cc6_row2_col3\" class=\"data row2 col3\" >Food</td>\n",
       "    </tr>\n",
       "    <tr>\n",
       "      <th id=\"T_52cc6_level0_row3\" class=\"row_heading level0 row3\" >3</th>\n",
       "      <td id=\"T_52cc6_row3_col0\" class=\"data row3 col0\" >Andhra Pradesh</td>\n",
       "      <td id=\"T_52cc6_row3_col1\" class=\"data row3 col1\" >Southern</td>\n",
       "      <td id=\"T_52cc6_row3_col2\" class=\"data row3 col2\" >9910.168915</td>\n",
       "      <td id=\"T_52cc6_row3_col3\" class=\"data row3 col3\" >Electronics & Gadgets</td>\n",
       "    </tr>\n",
       "    <tr>\n",
       "      <th id=\"T_52cc6_level0_row4\" class=\"row_heading level0 row4\" >4</th>\n",
       "      <td id=\"T_52cc6_row4_col0\" class=\"data row4 col0\" >Maharashtra</td>\n",
       "      <td id=\"T_52cc6_row4_col1\" class=\"data row4 col1\" >Western</td>\n",
       "      <td id=\"T_52cc6_row4_col2\" class=\"data row4 col2\" >9460.683934</td>\n",
       "      <td id=\"T_52cc6_row4_col3\" class=\"data row4 col3\" >Food</td>\n",
       "    </tr>\n",
       "    <tr>\n",
       "      <th id=\"T_52cc6_level0_row5\" class=\"row_heading level0 row5\" >5</th>\n",
       "      <td id=\"T_52cc6_row5_col0\" class=\"data row5 col0\" >Haryana</td>\n",
       "      <td id=\"T_52cc6_row5_col1\" class=\"data row5 col1\" >Northern</td>\n",
       "      <td id=\"T_52cc6_row5_col2\" class=\"data row5 col2\" >9336.670354</td>\n",
       "      <td id=\"T_52cc6_row5_col3\" class=\"data row5 col3\" >Clothing & Apparel</td>\n",
       "    </tr>\n",
       "    <tr>\n",
       "      <th id=\"T_52cc6_level0_row6\" class=\"row_heading level0 row6\" >6</th>\n",
       "      <td id=\"T_52cc6_row6_col0\" class=\"data row6 col0\" >Bihar</td>\n",
       "      <td id=\"T_52cc6_row6_col1\" class=\"data row6 col1\" >Eastern</td>\n",
       "      <td id=\"T_52cc6_row6_col2\" class=\"data row6 col2\" >9269.025346</td>\n",
       "      <td id=\"T_52cc6_row6_col3\" class=\"data row6 col3\" >Clothing & Apparel</td>\n",
       "    </tr>\n",
       "    <tr>\n",
       "      <th id=\"T_52cc6_level0_row7\" class=\"row_heading level0 row7\" >7</th>\n",
       "      <td id=\"T_52cc6_row7_col0\" class=\"data row7 col0\" >Gujarat</td>\n",
       "      <td id=\"T_52cc6_row7_col1\" class=\"data row7 col1\" >Western</td>\n",
       "      <td id=\"T_52cc6_row7_col2\" class=\"data row7 col2\" >9241.409836</td>\n",
       "      <td id=\"T_52cc6_row7_col3\" class=\"data row7 col3\" >Clothing & Apparel</td>\n",
       "    </tr>\n",
       "    <tr>\n",
       "      <th id=\"T_52cc6_level0_row8\" class=\"row_heading level0 row8\" >8</th>\n",
       "      <td id=\"T_52cc6_row8_col0\" class=\"data row8 col0\" >Telangana</td>\n",
       "      <td id=\"T_52cc6_row8_col1\" class=\"data row8 col1\" >Southern</td>\n",
       "      <td id=\"T_52cc6_row8_col2\" class=\"data row8 col2\" >9211.920000</td>\n",
       "      <td id=\"T_52cc6_row8_col3\" class=\"data row8 col3\" >Electronics & Gadgets</td>\n",
       "    </tr>\n",
       "    <tr>\n",
       "      <th id=\"T_52cc6_level0_row9\" class=\"row_heading level0 row9\" >9</th>\n",
       "      <td id=\"T_52cc6_row9_col0\" class=\"data row9 col0\" >Madhya Pradesh</td>\n",
       "      <td id=\"T_52cc6_row9_col1\" class=\"data row9 col1\" >Central</td>\n",
       "      <td id=\"T_52cc6_row9_col2\" class=\"data row9 col2\" >8796.028230</td>\n",
       "      <td id=\"T_52cc6_row9_col3\" class=\"data row9 col3\" >Food</td>\n",
       "    </tr>\n",
       "    <tr>\n",
       "      <th id=\"T_52cc6_level0_row10\" class=\"row_heading level0 row10\" >10</th>\n",
       "      <td id=\"T_52cc6_row10_col0\" class=\"data row10 col0\" >Kerala</td>\n",
       "      <td id=\"T_52cc6_row10_col1\" class=\"data row10 col1\" >Southern</td>\n",
       "      <td id=\"T_52cc6_row10_col2\" class=\"data row10 col2\" >8597.112561</td>\n",
       "      <td id=\"T_52cc6_row10_col3\" class=\"data row10 col3\" >Clothing & Apparel</td>\n",
       "    </tr>\n",
       "    <tr>\n",
       "      <th id=\"T_52cc6_level0_row11\" class=\"row_heading level0 row11\" >11</th>\n",
       "      <td id=\"T_52cc6_row11_col0\" class=\"data row11 col0\" >Rajasthan</td>\n",
       "      <td id=\"T_52cc6_row11_col1\" class=\"data row11 col1\" >Northern</td>\n",
       "      <td id=\"T_52cc6_row11_col2\" class=\"data row11 col2\" >8265.839827</td>\n",
       "      <td id=\"T_52cc6_row11_col3\" class=\"data row11 col3\" >Electronics & Gadgets</td>\n",
       "    </tr>\n",
       "    <tr>\n",
       "      <th id=\"T_52cc6_level0_row12\" class=\"row_heading level0 row12\" >12</th>\n",
       "      <td id=\"T_52cc6_row12_col0\" class=\"data row12 col0\" >Himachal Pradesh</td>\n",
       "      <td id=\"T_52cc6_row12_col1\" class=\"data row12 col1\" >Northern</td>\n",
       "      <td id=\"T_52cc6_row12_col2\" class=\"data row12 col2\" >8163.434211</td>\n",
       "      <td id=\"T_52cc6_row12_col3\" class=\"data row12 col3\" >Clothing & Apparel</td>\n",
       "    </tr>\n",
       "    <tr>\n",
       "      <th id=\"T_52cc6_level0_row13\" class=\"row_heading level0 row13\" >13</th>\n",
       "      <td id=\"T_52cc6_row13_col0\" class=\"data row13 col0\" >Jharkhand</td>\n",
       "      <td id=\"T_52cc6_row13_col1\" class=\"data row13 col1\" >Eastern</td>\n",
       "      <td id=\"T_52cc6_row13_col2\" class=\"data row13 col2\" >7964.357895</td>\n",
       "      <td id=\"T_52cc6_row13_col3\" class=\"data row13 col3\" >Clothing & Apparel</td>\n",
       "    </tr>\n",
       "    <tr>\n",
       "      <th id=\"T_52cc6_level0_row14\" class=\"row_heading level0 row14\" >14</th>\n",
       "      <td id=\"T_52cc6_row14_col0\" class=\"data row14 col0\" >Uttarakhand</td>\n",
       "      <td id=\"T_52cc6_row14_col1\" class=\"data row14 col1\" >Central</td>\n",
       "      <td id=\"T_52cc6_row14_col2\" class=\"data row14 col2\" >7877.950000</td>\n",
       "      <td id=\"T_52cc6_row14_col3\" class=\"data row14 col3\" >Clothing & Apparel</td>\n",
       "    </tr>\n",
       "    <tr>\n",
       "      <th id=\"T_52cc6_level0_row15\" class=\"row_heading level0 row15\" >15</th>\n",
       "      <td id=\"T_52cc6_row15_col0\" class=\"data row15 col0\" >Punjab</td>\n",
       "      <td id=\"T_52cc6_row15_col1\" class=\"data row15 col1\" >Northern</td>\n",
       "      <td id=\"T_52cc6_row15_col2\" class=\"data row15 col2\" >7629.000000</td>\n",
       "      <td id=\"T_52cc6_row15_col3\" class=\"data row15 col3\" >Electronics & Gadgets</td>\n",
       "    </tr>\n",
       "  </tbody>\n",
       "</table>\n"
      ],
      "text/plain": [
       "<pandas.io.formats.style.Styler at 0x789af104ae60>"
      ]
     },
     "execution_count": 63,
     "metadata": {},
     "output_type": "execute_result"
    }
   ],
   "source": [
    "state_avg_cat=[]\n",
    "for i in list(df['state'].unique()):\n",
    "    state_df=df[df['state']==i]\n",
    "    avg=state_df['amount'].describe().loc['mean']\n",
    "    cat=state_df.groupby(['product_category']).size().reset_index(name='counts').sort_values('counts', ascending=False).head(1)\n",
    "    zone=state_df['zone'].unique()[0]\n",
    "    cat=list(cat['product_category'])[0]\n",
    "    state_avg_cat.append([i, zone, avg, cat])\n",
    "state_avg_cat_df=pd.DataFrame(state_avg_cat, columns=['state', 'zone', 'average amount spent', 'most popular category'])\n",
    "state_avg_cat_df=state_avg_cat_df.sort_values(by='average amount spent', ascending=False).reset_index(drop=True)\n",
    "state_avg_cat_df.style.set_properties(**{\"border\" : \"1px solid\"}).set_table_styles([headers])"
   ]
  },
  {
   "cell_type": "markdown",
   "id": "34286f7f",
   "metadata": {
    "papermill": {
     "duration": 0.058121,
     "end_time": "2023-10-31T05:07:59.050817",
     "exception": false,
     "start_time": "2023-10-31T05:07:58.992696",
     "status": "completed"
    },
    "tags": []
   },
   "source": [
    "Visualizing the distribution of number of orders based on state and zone"
   ]
  },
  {
   "cell_type": "code",
   "execution_count": 64,
   "id": "a210cb5a",
   "metadata": {
    "execution": {
     "iopub.execute_input": "2023-10-31T05:07:59.165630Z",
     "iopub.status.busy": "2023-10-31T05:07:59.164866Z",
     "iopub.status.idle": "2023-10-31T05:07:59.292174Z",
     "shell.execute_reply": "2023-10-31T05:07:59.291203Z"
    },
    "papermill": {
     "duration": 0.188196,
     "end_time": "2023-10-31T05:07:59.295270",
     "exception": false,
     "start_time": "2023-10-31T05:07:59.107074",
     "status": "completed"
    },
    "tags": []
   },
   "outputs": [
    {
     "data": {
      "text/html": [
       "<div>                            <div id=\"3eb4c6d8-079c-4e04-9fa1-a9f1854c262f\" class=\"plotly-graph-div\" style=\"height:800px; width:800px;\"></div>            <script type=\"text/javascript\">                require([\"plotly\"], function(Plotly) {                    window.PLOTLYENV=window.PLOTLYENV || {};                                    if (document.getElementById(\"3eb4c6d8-079c-4e04-9fa1-a9f1854c262f\")) {                    Plotly.newPlot(                        \"3eb4c6d8-079c-4e04-9fa1-a9f1854c262f\",                        [{\"branchvalues\":\"total\",\"domain\":{\"x\":[0.0,1.0],\"y\":[0.0,1.0]},\"hovertemplate\":\"labels=%{label}\\u003cbr\\u003ecounts=%{value}\\u003cbr\\u003eparent=%{parent}\\u003cbr\\u003eid=%{id}\\u003cextra\\u003e\\u003c\\u002fextra\\u003e\",\"ids\":[\"Southern\\u002fAndhra Pradesh\",\"Eastern\\u002fBihar\",\"Central\\u002fDelhi\",\"Western\\u002fGujarat\",\"Northern\\u002fHaryana\",\"Northern\\u002fHimachal Pradesh\",\"Eastern\\u002fJharkhand\",\"Southern\\u002fKarnataka\",\"Southern\\u002fKerala\",\"Central\\u002fMadhya Pradesh\",\"Western\\u002fMaharashtra\",\"Northern\\u002fPunjab\",\"Northern\\u002fRajasthan\",\"Southern\\u002fTelangana\",\"Central\\u002fUttar Pradesh\",\"Central\\u002fUttarakhand\",\"Central\",\"Eastern\",\"Northern\",\"Southern\",\"Western\"],\"labels\":[\"Andhra Pradesh\",\"Bihar\",\"Delhi\",\"Gujarat\",\"Haryana\",\"Himachal Pradesh\",\"Jharkhand\",\"Karnataka\",\"Kerala\",\"Madhya Pradesh\",\"Maharashtra\",\"Punjab\",\"Rajasthan\",\"Telangana\",\"Uttar Pradesh\",\"Uttarakhand\",\"Central\",\"Eastern\",\"Northern\",\"Southern\",\"Western\"],\"name\":\"\",\"parents\":[\"Southern\",\"Eastern\",\"Central\",\"Western\",\"Northern\",\"Northern\",\"Eastern\",\"Southern\",\"Southern\",\"Central\",\"Western\",\"Northern\",\"Northern\",\"Southern\",\"Central\",\"Central\",\"\",\"\",\"\",\"\",\"\"],\"values\":[811,434,1104,427,452,608,380,1304,453,921,1525,200,231,125,1944,320,4289,814,1491,2693,1952],\"type\":\"sunburst\"}],                        {\"template\":{\"data\":{\"histogram2dcontour\":[{\"type\":\"histogram2dcontour\",\"colorbar\":{\"outlinewidth\":0,\"ticks\":\"\"},\"colorscale\":[[0.0,\"#0d0887\"],[0.1111111111111111,\"#46039f\"],[0.2222222222222222,\"#7201a8\"],[0.3333333333333333,\"#9c179e\"],[0.4444444444444444,\"#bd3786\"],[0.5555555555555556,\"#d8576b\"],[0.6666666666666666,\"#ed7953\"],[0.7777777777777778,\"#fb9f3a\"],[0.8888888888888888,\"#fdca26\"],[1.0,\"#f0f921\"]]}],\"choropleth\":[{\"type\":\"choropleth\",\"colorbar\":{\"outlinewidth\":0,\"ticks\":\"\"}}],\"histogram2d\":[{\"type\":\"histogram2d\",\"colorbar\":{\"outlinewidth\":0,\"ticks\":\"\"},\"colorscale\":[[0.0,\"#0d0887\"],[0.1111111111111111,\"#46039f\"],[0.2222222222222222,\"#7201a8\"],[0.3333333333333333,\"#9c179e\"],[0.4444444444444444,\"#bd3786\"],[0.5555555555555556,\"#d8576b\"],[0.6666666666666666,\"#ed7953\"],[0.7777777777777778,\"#fb9f3a\"],[0.8888888888888888,\"#fdca26\"],[1.0,\"#f0f921\"]]}],\"heatmap\":[{\"type\":\"heatmap\",\"colorbar\":{\"outlinewidth\":0,\"ticks\":\"\"},\"colorscale\":[[0.0,\"#0d0887\"],[0.1111111111111111,\"#46039f\"],[0.2222222222222222,\"#7201a8\"],[0.3333333333333333,\"#9c179e\"],[0.4444444444444444,\"#bd3786\"],[0.5555555555555556,\"#d8576b\"],[0.6666666666666666,\"#ed7953\"],[0.7777777777777778,\"#fb9f3a\"],[0.8888888888888888,\"#fdca26\"],[1.0,\"#f0f921\"]]}],\"heatmapgl\":[{\"type\":\"heatmapgl\",\"colorbar\":{\"outlinewidth\":0,\"ticks\":\"\"},\"colorscale\":[[0.0,\"#0d0887\"],[0.1111111111111111,\"#46039f\"],[0.2222222222222222,\"#7201a8\"],[0.3333333333333333,\"#9c179e\"],[0.4444444444444444,\"#bd3786\"],[0.5555555555555556,\"#d8576b\"],[0.6666666666666666,\"#ed7953\"],[0.7777777777777778,\"#fb9f3a\"],[0.8888888888888888,\"#fdca26\"],[1.0,\"#f0f921\"]]}],\"contourcarpet\":[{\"type\":\"contourcarpet\",\"colorbar\":{\"outlinewidth\":0,\"ticks\":\"\"}}],\"contour\":[{\"type\":\"contour\",\"colorbar\":{\"outlinewidth\":0,\"ticks\":\"\"},\"colorscale\":[[0.0,\"#0d0887\"],[0.1111111111111111,\"#46039f\"],[0.2222222222222222,\"#7201a8\"],[0.3333333333333333,\"#9c179e\"],[0.4444444444444444,\"#bd3786\"],[0.5555555555555556,\"#d8576b\"],[0.6666666666666666,\"#ed7953\"],[0.7777777777777778,\"#fb9f3a\"],[0.8888888888888888,\"#fdca26\"],[1.0,\"#f0f921\"]]}],\"surface\":[{\"type\":\"surface\",\"colorbar\":{\"outlinewidth\":0,\"ticks\":\"\"},\"colorscale\":[[0.0,\"#0d0887\"],[0.1111111111111111,\"#46039f\"],[0.2222222222222222,\"#7201a8\"],[0.3333333333333333,\"#9c179e\"],[0.4444444444444444,\"#bd3786\"],[0.5555555555555556,\"#d8576b\"],[0.6666666666666666,\"#ed7953\"],[0.7777777777777778,\"#fb9f3a\"],[0.8888888888888888,\"#fdca26\"],[1.0,\"#f0f921\"]]}],\"mesh3d\":[{\"type\":\"mesh3d\",\"colorbar\":{\"outlinewidth\":0,\"ticks\":\"\"}}],\"scatter\":[{\"fillpattern\":{\"fillmode\":\"overlay\",\"size\":10,\"solidity\":0.2},\"type\":\"scatter\"}],\"parcoords\":[{\"type\":\"parcoords\",\"line\":{\"colorbar\":{\"outlinewidth\":0,\"ticks\":\"\"}}}],\"scatterpolargl\":[{\"type\":\"scatterpolargl\",\"marker\":{\"colorbar\":{\"outlinewidth\":0,\"ticks\":\"\"}}}],\"bar\":[{\"error_x\":{\"color\":\"#2a3f5f\"},\"error_y\":{\"color\":\"#2a3f5f\"},\"marker\":{\"line\":{\"color\":\"#E5ECF6\",\"width\":0.5},\"pattern\":{\"fillmode\":\"overlay\",\"size\":10,\"solidity\":0.2}},\"type\":\"bar\"}],\"scattergeo\":[{\"type\":\"scattergeo\",\"marker\":{\"colorbar\":{\"outlinewidth\":0,\"ticks\":\"\"}}}],\"scatterpolar\":[{\"type\":\"scatterpolar\",\"marker\":{\"colorbar\":{\"outlinewidth\":0,\"ticks\":\"\"}}}],\"histogram\":[{\"marker\":{\"pattern\":{\"fillmode\":\"overlay\",\"size\":10,\"solidity\":0.2}},\"type\":\"histogram\"}],\"scattergl\":[{\"type\":\"scattergl\",\"marker\":{\"colorbar\":{\"outlinewidth\":0,\"ticks\":\"\"}}}],\"scatter3d\":[{\"type\":\"scatter3d\",\"line\":{\"colorbar\":{\"outlinewidth\":0,\"ticks\":\"\"}},\"marker\":{\"colorbar\":{\"outlinewidth\":0,\"ticks\":\"\"}}}],\"scattermapbox\":[{\"type\":\"scattermapbox\",\"marker\":{\"colorbar\":{\"outlinewidth\":0,\"ticks\":\"\"}}}],\"scatterternary\":[{\"type\":\"scatterternary\",\"marker\":{\"colorbar\":{\"outlinewidth\":0,\"ticks\":\"\"}}}],\"scattercarpet\":[{\"type\":\"scattercarpet\",\"marker\":{\"colorbar\":{\"outlinewidth\":0,\"ticks\":\"\"}}}],\"carpet\":[{\"aaxis\":{\"endlinecolor\":\"#2a3f5f\",\"gridcolor\":\"white\",\"linecolor\":\"white\",\"minorgridcolor\":\"white\",\"startlinecolor\":\"#2a3f5f\"},\"baxis\":{\"endlinecolor\":\"#2a3f5f\",\"gridcolor\":\"white\",\"linecolor\":\"white\",\"minorgridcolor\":\"white\",\"startlinecolor\":\"#2a3f5f\"},\"type\":\"carpet\"}],\"table\":[{\"cells\":{\"fill\":{\"color\":\"#EBF0F8\"},\"line\":{\"color\":\"white\"}},\"header\":{\"fill\":{\"color\":\"#C8D4E3\"},\"line\":{\"color\":\"white\"}},\"type\":\"table\"}],\"barpolar\":[{\"marker\":{\"line\":{\"color\":\"#E5ECF6\",\"width\":0.5},\"pattern\":{\"fillmode\":\"overlay\",\"size\":10,\"solidity\":0.2}},\"type\":\"barpolar\"}],\"pie\":[{\"automargin\":true,\"type\":\"pie\"}]},\"layout\":{\"autotypenumbers\":\"strict\",\"colorway\":[\"#636efa\",\"#EF553B\",\"#00cc96\",\"#ab63fa\",\"#FFA15A\",\"#19d3f3\",\"#FF6692\",\"#B6E880\",\"#FF97FF\",\"#FECB52\"],\"font\":{\"color\":\"#2a3f5f\"},\"hovermode\":\"closest\",\"hoverlabel\":{\"align\":\"left\"},\"paper_bgcolor\":\"white\",\"plot_bgcolor\":\"#E5ECF6\",\"polar\":{\"bgcolor\":\"#E5ECF6\",\"angularaxis\":{\"gridcolor\":\"white\",\"linecolor\":\"white\",\"ticks\":\"\"},\"radialaxis\":{\"gridcolor\":\"white\",\"linecolor\":\"white\",\"ticks\":\"\"}},\"ternary\":{\"bgcolor\":\"#E5ECF6\",\"aaxis\":{\"gridcolor\":\"white\",\"linecolor\":\"white\",\"ticks\":\"\"},\"baxis\":{\"gridcolor\":\"white\",\"linecolor\":\"white\",\"ticks\":\"\"},\"caxis\":{\"gridcolor\":\"white\",\"linecolor\":\"white\",\"ticks\":\"\"}},\"coloraxis\":{\"colorbar\":{\"outlinewidth\":0,\"ticks\":\"\"}},\"colorscale\":{\"sequential\":[[0.0,\"#0d0887\"],[0.1111111111111111,\"#46039f\"],[0.2222222222222222,\"#7201a8\"],[0.3333333333333333,\"#9c179e\"],[0.4444444444444444,\"#bd3786\"],[0.5555555555555556,\"#d8576b\"],[0.6666666666666666,\"#ed7953\"],[0.7777777777777778,\"#fb9f3a\"],[0.8888888888888888,\"#fdca26\"],[1.0,\"#f0f921\"]],\"sequentialminus\":[[0.0,\"#0d0887\"],[0.1111111111111111,\"#46039f\"],[0.2222222222222222,\"#7201a8\"],[0.3333333333333333,\"#9c179e\"],[0.4444444444444444,\"#bd3786\"],[0.5555555555555556,\"#d8576b\"],[0.6666666666666666,\"#ed7953\"],[0.7777777777777778,\"#fb9f3a\"],[0.8888888888888888,\"#fdca26\"],[1.0,\"#f0f921\"]],\"diverging\":[[0,\"#8e0152\"],[0.1,\"#c51b7d\"],[0.2,\"#de77ae\"],[0.3,\"#f1b6da\"],[0.4,\"#fde0ef\"],[0.5,\"#f7f7f7\"],[0.6,\"#e6f5d0\"],[0.7,\"#b8e186\"],[0.8,\"#7fbc41\"],[0.9,\"#4d9221\"],[1,\"#276419\"]]},\"xaxis\":{\"gridcolor\":\"white\",\"linecolor\":\"white\",\"ticks\":\"\",\"title\":{\"standoff\":15},\"zerolinecolor\":\"white\",\"automargin\":true,\"zerolinewidth\":2},\"yaxis\":{\"gridcolor\":\"white\",\"linecolor\":\"white\",\"ticks\":\"\",\"title\":{\"standoff\":15},\"zerolinecolor\":\"white\",\"automargin\":true,\"zerolinewidth\":2},\"scene\":{\"xaxis\":{\"backgroundcolor\":\"#E5ECF6\",\"gridcolor\":\"white\",\"linecolor\":\"white\",\"showbackground\":true,\"ticks\":\"\",\"zerolinecolor\":\"white\",\"gridwidth\":2},\"yaxis\":{\"backgroundcolor\":\"#E5ECF6\",\"gridcolor\":\"white\",\"linecolor\":\"white\",\"showbackground\":true,\"ticks\":\"\",\"zerolinecolor\":\"white\",\"gridwidth\":2},\"zaxis\":{\"backgroundcolor\":\"#E5ECF6\",\"gridcolor\":\"white\",\"linecolor\":\"white\",\"showbackground\":true,\"ticks\":\"\",\"zerolinecolor\":\"white\",\"gridwidth\":2}},\"shapedefaults\":{\"line\":{\"color\":\"#2a3f5f\"}},\"annotationdefaults\":{\"arrowcolor\":\"#2a3f5f\",\"arrowhead\":0,\"arrowwidth\":1},\"geo\":{\"bgcolor\":\"white\",\"landcolor\":\"#E5ECF6\",\"subunitcolor\":\"white\",\"showland\":true,\"showlakes\":true,\"lakecolor\":\"white\"},\"title\":{\"x\":0.05},\"mapbox\":{\"style\":\"light\"}}},\"legend\":{\"tracegroupgap\":0},\"margin\":{\"t\":60},\"title\":{\"text\":\"Distribution of number of orders based on state and zone\"},\"height\":800,\"width\":800},                        {\"responsive\": true}                    ).then(function(){\n",
       "                            \n",
       "var gd = document.getElementById('3eb4c6d8-079c-4e04-9fa1-a9f1854c262f');\n",
       "var x = new MutationObserver(function (mutations, observer) {{\n",
       "        var display = window.getComputedStyle(gd).display;\n",
       "        if (!display || display === 'none') {{\n",
       "            console.log([gd, 'removed!']);\n",
       "            Plotly.purge(gd);\n",
       "            observer.disconnect();\n",
       "        }}\n",
       "}});\n",
       "\n",
       "// Listen for the removal of the full notebook cells\n",
       "var notebookContainer = gd.closest('#notebook-container');\n",
       "if (notebookContainer) {{\n",
       "    x.observe(notebookContainer, {childList: true});\n",
       "}}\n",
       "\n",
       "// Listen for the clearing of the current output cell\n",
       "var outputEl = gd.closest('.output');\n",
       "if (outputEl) {{\n",
       "    x.observe(outputEl, {childList: true});\n",
       "}}\n",
       "\n",
       "                        })                };                });            </script>        </div>"
      ]
     },
     "metadata": {},
     "output_type": "display_data"
    }
   ],
   "source": [
    "zone_state = df.groupby(['zone', 'state']).size().reset_index(name='counts')\n",
    "\n",
    "fig = px.sunburst(zone_state, \n",
    "                  path=['zone', 'state'], \n",
    "                  values='counts')\n",
    "\n",
    "fig.update_layout(title = \"Distribution of number of orders based on state and zone\", \n",
    "                  height = 800, \n",
    "                  width = 800)\n",
    "\n",
    "fig.show()"
   ]
  },
  {
   "cell_type": "markdown",
   "id": "c3f86583",
   "metadata": {
    "papermill": {
     "duration": 0.057313,
     "end_time": "2023-10-31T05:07:59.408604",
     "exception": false,
     "start_time": "2023-10-31T05:07:59.351291",
     "status": "completed"
    },
    "tags": []
   },
   "source": [
    "Visualizing the distribution of number of orders based on product category, state, and zone"
   ]
  },
  {
   "cell_type": "code",
   "execution_count": 65,
   "id": "37b95b56",
   "metadata": {
    "execution": {
     "iopub.execute_input": "2023-10-31T05:07:59.524591Z",
     "iopub.status.busy": "2023-10-31T05:07:59.524123Z",
     "iopub.status.idle": "2023-10-31T05:07:59.720237Z",
     "shell.execute_reply": "2023-10-31T05:07:59.718735Z"
    },
    "papermill": {
     "duration": 0.258119,
     "end_time": "2023-10-31T05:07:59.723530",
     "exception": false,
     "start_time": "2023-10-31T05:07:59.465411",
     "status": "completed"
    },
    "tags": []
   },
   "outputs": [
    {
     "data": {
      "text/html": [
       "<div>                            <div id=\"39bf8623-442c-4460-a181-4180523e8c48\" class=\"plotly-graph-div\" style=\"height:800px; width:800px;\"></div>            <script type=\"text/javascript\">                require([\"plotly\"], function(Plotly) {                    window.PLOTLYENV=window.PLOTLYENV || {};                                    if (document.getElementById(\"39bf8623-442c-4460-a181-4180523e8c48\")) {                    Plotly.newPlot(                        \"39bf8623-442c-4460-a181-4180523e8c48\",                        [{\"branchvalues\":\"total\",\"domain\":{\"x\":[0.0,1.0],\"y\":[0.0,1.0]},\"hovertemplate\":\"labels=%{label}\\u003cbr\\u003ecounts=%{value}\\u003cbr\\u003eparent=%{parent}\\u003cbr\\u003eid=%{id}\\u003cextra\\u003e\\u003c\\u002fextra\\u003e\",\"ids\":[\"Southern\\u002fAndhra Pradesh\\u002fAuto\",\"Eastern\\u002fBihar\\u002fAuto\",\"Central\\u002fDelhi\\u002fAuto\",\"Western\\u002fGujarat\\u002fAuto\",\"Northern\\u002fHimachal Pradesh\\u002fAuto\",\"Eastern\\u002fJharkhand\\u002fAuto\",\"Southern\\u002fKarnataka\\u002fAuto\",\"Southern\\u002fKerala\\u002fAuto\",\"Central\\u002fMadhya Pradesh\\u002fAuto\",\"Western\\u002fMaharashtra\\u002fAuto\",\"Northern\\u002fPunjab\\u002fAuto\",\"Central\\u002fUttar Pradesh\\u002fAuto\",\"Central\\u002fUttarakhand\\u002fAuto\",\"Southern\\u002fAndhra Pradesh\\u002fBeauty\",\"Eastern\\u002fBihar\\u002fBeauty\",\"Central\\u002fDelhi\\u002fBeauty\",\"Western\\u002fGujarat\\u002fBeauty\",\"Northern\\u002fHaryana\\u002fBeauty\",\"Northern\\u002fHimachal Pradesh\\u002fBeauty\",\"Eastern\\u002fJharkhand\\u002fBeauty\",\"Southern\\u002fKarnataka\\u002fBeauty\",\"Southern\\u002fKerala\\u002fBeauty\",\"Central\\u002fMadhya Pradesh\\u002fBeauty\",\"Western\\u002fMaharashtra\\u002fBeauty\",\"Northern\\u002fPunjab\\u002fBeauty\",\"Northern\\u002fRajasthan\\u002fBeauty\",\"Central\\u002fUttar Pradesh\\u002fBeauty\",\"Central\\u002fUttarakhand\\u002fBeauty\",\"Southern\\u002fAndhra Pradesh\\u002fBooks\",\"Eastern\\u002fBihar\\u002fBooks\",\"Central\\u002fDelhi\\u002fBooks\",\"Western\\u002fGujarat\\u002fBooks\",\"Northern\\u002fHaryana\\u002fBooks\",\"Northern\\u002fHimachal Pradesh\\u002fBooks\",\"Eastern\\u002fJharkhand\\u002fBooks\",\"Southern\\u002fKarnataka\\u002fBooks\",\"Southern\\u002fKerala\\u002fBooks\",\"Central\\u002fMadhya Pradesh\\u002fBooks\",\"Western\\u002fMaharashtra\\u002fBooks\",\"Northern\\u002fPunjab\\u002fBooks\",\"Northern\\u002fRajasthan\\u002fBooks\",\"Central\\u002fUttar Pradesh\\u002fBooks\",\"Central\\u002fUttarakhand\\u002fBooks\",\"Southern\\u002fAndhra Pradesh\\u002fClothing & Apparel\",\"Eastern\\u002fBihar\\u002fClothing & Apparel\",\"Central\\u002fDelhi\\u002fClothing & Apparel\",\"Western\\u002fGujarat\\u002fClothing & Apparel\",\"Northern\\u002fHaryana\\u002fClothing & Apparel\",\"Northern\\u002fHimachal Pradesh\\u002fClothing & Apparel\",\"Eastern\\u002fJharkhand\\u002fClothing & Apparel\",\"Southern\\u002fKarnataka\\u002fClothing & Apparel\",\"Southern\\u002fKerala\\u002fClothing & Apparel\",\"Central\\u002fMadhya Pradesh\\u002fClothing & Apparel\",\"Western\\u002fMaharashtra\\u002fClothing & Apparel\",\"Northern\\u002fPunjab\\u002fClothing & Apparel\",\"Northern\\u002fRajasthan\\u002fClothing & Apparel\",\"Southern\\u002fTelangana\\u002fClothing & Apparel\",\"Central\\u002fUttar Pradesh\\u002fClothing & Apparel\",\"Central\\u002fUttarakhand\\u002fClothing & Apparel\",\"Western\\u002fMaharashtra\\u002fDecor\",\"Central\\u002fUttar Pradesh\\u002fDecor\",\"Southern\\u002fAndhra Pradesh\\u002fElectronics & Gadgets\",\"Eastern\\u002fBihar\\u002fElectronics & Gadgets\",\"Central\\u002fDelhi\\u002fElectronics & Gadgets\",\"Western\\u002fGujarat\\u002fElectronics & Gadgets\",\"Northern\\u002fHaryana\\u002fElectronics & Gadgets\",\"Northern\\u002fHimachal Pradesh\\u002fElectronics & Gadgets\",\"Eastern\\u002fJharkhand\\u002fElectronics & Gadgets\",\"Southern\\u002fKarnataka\\u002fElectronics & Gadgets\",\"Southern\\u002fKerala\\u002fElectronics & Gadgets\",\"Central\\u002fMadhya Pradesh\\u002fElectronics & Gadgets\",\"Western\\u002fMaharashtra\\u002fElectronics & Gadgets\",\"Northern\\u002fPunjab\\u002fElectronics & Gadgets\",\"Northern\\u002fRajasthan\\u002fElectronics & Gadgets\",\"Southern\\u002fTelangana\\u002fElectronics & Gadgets\",\"Central\\u002fUttar Pradesh\\u002fElectronics & Gadgets\",\"Central\\u002fUttarakhand\\u002fElectronics & Gadgets\",\"Southern\\u002fAndhra Pradesh\\u002fFood\",\"Eastern\\u002fBihar\\u002fFood\",\"Central\\u002fDelhi\\u002fFood\",\"Western\\u002fGujarat\\u002fFood\",\"Northern\\u002fHaryana\\u002fFood\",\"Northern\\u002fHimachal Pradesh\\u002fFood\",\"Eastern\\u002fJharkhand\\u002fFood\",\"Southern\\u002fKarnataka\\u002fFood\",\"Southern\\u002fKerala\\u002fFood\",\"Central\\u002fMadhya Pradesh\\u002fFood\",\"Western\\u002fMaharashtra\\u002fFood\",\"Northern\\u002fPunjab\\u002fFood\",\"Northern\\u002fRajasthan\\u002fFood\",\"Southern\\u002fTelangana\\u002fFood\",\"Central\\u002fUttar Pradesh\\u002fFood\",\"Central\\u002fUttarakhand\\u002fFood\",\"Southern\\u002fAndhra Pradesh\\u002fFootwear & Shoes\",\"Eastern\\u002fBihar\\u002fFootwear & Shoes\",\"Central\\u002fDelhi\\u002fFootwear & Shoes\",\"Western\\u002fGujarat\\u002fFootwear & Shoes\",\"Northern\\u002fHaryana\\u002fFootwear & Shoes\",\"Northern\\u002fHimachal Pradesh\\u002fFootwear & Shoes\",\"Eastern\\u002fJharkhand\\u002fFootwear & Shoes\",\"Southern\\u002fKarnataka\\u002fFootwear & Shoes\",\"Southern\\u002fKerala\\u002fFootwear & Shoes\",\"Central\\u002fMadhya Pradesh\\u002fFootwear & Shoes\",\"Western\\u002fMaharashtra\\u002fFootwear & Shoes\",\"Northern\\u002fPunjab\\u002fFootwear & Shoes\",\"Northern\\u002fRajasthan\\u002fFootwear & Shoes\",\"Southern\\u002fTelangana\\u002fFootwear & Shoes\",\"Central\\u002fUttar Pradesh\\u002fFootwear & Shoes\",\"Central\\u002fUttarakhand\\u002fFootwear & Shoes\",\"Southern\\u002fAndhra Pradesh\\u002fFurniture\",\"Eastern\\u002fBihar\\u002fFurniture\",\"Central\\u002fDelhi\\u002fFurniture\",\"Western\\u002fGujarat\\u002fFurniture\",\"Northern\\u002fHaryana\\u002fFurniture\",\"Northern\\u002fHimachal Pradesh\\u002fFurniture\",\"Eastern\\u002fJharkhand\\u002fFurniture\",\"Southern\\u002fKarnataka\\u002fFurniture\",\"Southern\\u002fKerala\\u002fFurniture\",\"Central\\u002fMadhya Pradesh\\u002fFurniture\",\"Western\\u002fMaharashtra\\u002fFurniture\",\"Northern\\u002fPunjab\\u002fFurniture\",\"Northern\\u002fRajasthan\\u002fFurniture\",\"Central\\u002fUttar Pradesh\\u002fFurniture\",\"Central\\u002fUttarakhand\\u002fFurniture\",\"Southern\\u002fAndhra Pradesh\\u002fGames & Toys\",\"Eastern\\u002fBihar\\u002fGames & Toys\",\"Central\\u002fDelhi\\u002fGames & Toys\",\"Western\\u002fGujarat\\u002fGames & Toys\",\"Northern\\u002fHaryana\\u002fGames & Toys\",\"Northern\\u002fHimachal Pradesh\\u002fGames & Toys\",\"Eastern\\u002fJharkhand\\u002fGames & Toys\",\"Southern\\u002fKarnataka\\u002fGames & Toys\",\"Southern\\u002fKerala\\u002fGames & Toys\",\"Central\\u002fMadhya Pradesh\\u002fGames & Toys\",\"Western\\u002fMaharashtra\\u002fGames & Toys\",\"Northern\\u002fRajasthan\\u002fGames & Toys\",\"Southern\\u002fTelangana\\u002fGames & Toys\",\"Central\\u002fUttar Pradesh\\u002fGames & Toys\",\"Central\\u002fUttarakhand\\u002fGames & Toys\",\"Southern\\u002fAndhra Pradesh\\u002fHand & Power Tools\",\"Central\\u002fDelhi\\u002fHand & Power Tools\",\"Northern\\u002fHimachal Pradesh\\u002fHand & Power Tools\",\"Central\\u002fMadhya Pradesh\\u002fHand & Power Tools\",\"Western\\u002fMaharashtra\\u002fHand & Power Tools\",\"Northern\\u002fPunjab\\u002fHand & Power Tools\",\"Southern\\u002fTelangana\\u002fHand & Power Tools\",\"Central\\u002fUttar Pradesh\\u002fHand & Power Tools\",\"Southern\\u002fAndhra Pradesh\\u002fHousehold items\",\"Eastern\\u002fBihar\\u002fHousehold items\",\"Central\\u002fDelhi\\u002fHousehold items\",\"Western\\u002fGujarat\\u002fHousehold items\",\"Northern\\u002fHaryana\\u002fHousehold items\",\"Northern\\u002fHimachal Pradesh\\u002fHousehold items\",\"Eastern\\u002fJharkhand\\u002fHousehold items\",\"Southern\\u002fKarnataka\\u002fHousehold items\",\"Southern\\u002fKerala\\u002fHousehold items\",\"Central\\u002fMadhya Pradesh\\u002fHousehold items\",\"Western\\u002fMaharashtra\\u002fHousehold items\",\"Northern\\u002fPunjab\\u002fHousehold items\",\"Northern\\u002fRajasthan\\u002fHousehold items\",\"Southern\\u002fTelangana\\u002fHousehold items\",\"Central\\u002fUttar Pradesh\\u002fHousehold items\",\"Central\\u002fUttarakhand\\u002fHousehold items\",\"Southern\\u002fAndhra Pradesh\\u002fOffice\",\"Eastern\\u002fBihar\\u002fOffice\",\"Central\\u002fDelhi\\u002fOffice\",\"Western\\u002fGujarat\\u002fOffice\",\"Northern\\u002fHaryana\\u002fOffice\",\"Northern\\u002fHimachal Pradesh\\u002fOffice\",\"Eastern\\u002fJharkhand\\u002fOffice\",\"Southern\\u002fKarnataka\\u002fOffice\",\"Southern\\u002fKerala\\u002fOffice\",\"Central\\u002fMadhya Pradesh\\u002fOffice\",\"Western\\u002fMaharashtra\\u002fOffice\",\"Northern\\u002fPunjab\\u002fOffice\",\"Southern\\u002fTelangana\\u002fOffice\",\"Central\\u002fUttar Pradesh\\u002fOffice\",\"Central\\u002fUttarakhand\\u002fOffice\",\"Southern\\u002fAndhra Pradesh\\u002fPet Care\",\"Eastern\\u002fBihar\\u002fPet Care\",\"Central\\u002fDelhi\\u002fPet Care\",\"Western\\u002fGujarat\\u002fPet Care\",\"Northern\\u002fHaryana\\u002fPet Care\",\"Northern\\u002fHimachal Pradesh\\u002fPet Care\",\"Eastern\\u002fJharkhand\\u002fPet Care\",\"Southern\\u002fKarnataka\\u002fPet Care\",\"Central\\u002fMadhya Pradesh\\u002fPet Care\",\"Western\\u002fMaharashtra\\u002fPet Care\",\"Northern\\u002fPunjab\\u002fPet Care\",\"Northern\\u002fRajasthan\\u002fPet Care\",\"Southern\\u002fTelangana\\u002fPet Care\",\"Central\\u002fUttar Pradesh\\u002fPet Care\",\"Central\\u002fUttarakhand\\u002fPet Care\",\"Southern\\u002fAndhra Pradesh\\u002fSports Products\",\"Eastern\\u002fBihar\\u002fSports Products\",\"Central\\u002fDelhi\\u002fSports Products\",\"Western\\u002fGujarat\\u002fSports Products\",\"Northern\\u002fHaryana\\u002fSports Products\",\"Northern\\u002fHimachal Pradesh\\u002fSports Products\",\"Eastern\\u002fJharkhand\\u002fSports Products\",\"Southern\\u002fKarnataka\\u002fSports Products\",\"Southern\\u002fKerala\\u002fSports Products\",\"Central\\u002fMadhya Pradesh\\u002fSports Products\",\"Western\\u002fMaharashtra\\u002fSports Products\",\"Northern\\u002fRajasthan\\u002fSports Products\",\"Southern\\u002fTelangana\\u002fSports Products\",\"Central\\u002fUttar Pradesh\\u002fSports Products\",\"Central\\u002fUttarakhand\\u002fSports Products\",\"Southern\\u002fAndhra Pradesh\\u002fStationery\",\"Eastern\\u002fBihar\\u002fStationery\",\"Central\\u002fDelhi\\u002fStationery\",\"Western\\u002fGujarat\\u002fStationery\",\"Northern\\u002fHaryana\\u002fStationery\",\"Northern\\u002fHimachal Pradesh\\u002fStationery\",\"Southern\\u002fKarnataka\\u002fStationery\",\"Southern\\u002fKerala\\u002fStationery\",\"Central\\u002fMadhya Pradesh\\u002fStationery\",\"Western\\u002fMaharashtra\\u002fStationery\",\"Central\\u002fUttar Pradesh\\u002fStationery\",\"Central\\u002fUttarakhand\\u002fStationery\",\"Southern\\u002fAndhra Pradesh\\u002fTupperware\",\"Eastern\\u002fBihar\\u002fTupperware\",\"Central\\u002fDelhi\\u002fTupperware\",\"Western\\u002fGujarat\\u002fTupperware\",\"Northern\\u002fHaryana\\u002fTupperware\",\"Northern\\u002fHimachal Pradesh\\u002fTupperware\",\"Southern\\u002fKarnataka\\u002fTupperware\",\"Southern\\u002fKerala\\u002fTupperware\",\"Central\\u002fMadhya Pradesh\\u002fTupperware\",\"Western\\u002fMaharashtra\\u002fTupperware\",\"Central\\u002fUttar Pradesh\\u002fTupperware\",\"Central\\u002fUttarakhand\\u002fTupperware\",\"Central\\u002fDelhi\\u002fVeterinary\",\"Northern\\u002fHaryana\\u002fVeterinary\",\"Eastern\\u002fJharkhand\\u002fVeterinary\",\"Southern\\u002fKerala\\u002fVeterinary\",\"Central\\u002fMadhya Pradesh\\u002fVeterinary\",\"Western\\u002fMaharashtra\\u002fVeterinary\",\"Northern\\u002fPunjab\\u002fVeterinary\",\"Northern\\u002fRajasthan\\u002fVeterinary\",\"Central\\u002fUttar Pradesh\\u002fVeterinary\",\"Southern\\u002fAndhra Pradesh\",\"Eastern\\u002fBihar\",\"Central\\u002fDelhi\",\"Western\\u002fGujarat\",\"Northern\\u002fHaryana\",\"Northern\\u002fHimachal Pradesh\",\"Eastern\\u002fJharkhand\",\"Southern\\u002fKarnataka\",\"Southern\\u002fKerala\",\"Central\\u002fMadhya Pradesh\",\"Western\\u002fMaharashtra\",\"Northern\\u002fPunjab\",\"Northern\\u002fRajasthan\",\"Southern\\u002fTelangana\",\"Central\\u002fUttar Pradesh\",\"Central\\u002fUttarakhand\",\"Central\",\"Eastern\",\"Northern\",\"Southern\",\"Western\"],\"labels\":[\"Auto\",\"Auto\",\"Auto\",\"Auto\",\"Auto\",\"Auto\",\"Auto\",\"Auto\",\"Auto\",\"Auto\",\"Auto\",\"Auto\",\"Auto\",\"Beauty\",\"Beauty\",\"Beauty\",\"Beauty\",\"Beauty\",\"Beauty\",\"Beauty\",\"Beauty\",\"Beauty\",\"Beauty\",\"Beauty\",\"Beauty\",\"Beauty\",\"Beauty\",\"Beauty\",\"Books\",\"Books\",\"Books\",\"Books\",\"Books\",\"Books\",\"Books\",\"Books\",\"Books\",\"Books\",\"Books\",\"Books\",\"Books\",\"Books\",\"Books\",\"Clothing & Apparel\",\"Clothing & Apparel\",\"Clothing & Apparel\",\"Clothing & Apparel\",\"Clothing & Apparel\",\"Clothing & Apparel\",\"Clothing & Apparel\",\"Clothing & Apparel\",\"Clothing & Apparel\",\"Clothing & Apparel\",\"Clothing & Apparel\",\"Clothing & Apparel\",\"Clothing & Apparel\",\"Clothing & Apparel\",\"Clothing & Apparel\",\"Clothing & Apparel\",\"Decor\",\"Decor\",\"Electronics & Gadgets\",\"Electronics & Gadgets\",\"Electronics & Gadgets\",\"Electronics & Gadgets\",\"Electronics & Gadgets\",\"Electronics & Gadgets\",\"Electronics & Gadgets\",\"Electronics & Gadgets\",\"Electronics & Gadgets\",\"Electronics & Gadgets\",\"Electronics & Gadgets\",\"Electronics & Gadgets\",\"Electronics & Gadgets\",\"Electronics & Gadgets\",\"Electronics & Gadgets\",\"Electronics & Gadgets\",\"Food\",\"Food\",\"Food\",\"Food\",\"Food\",\"Food\",\"Food\",\"Food\",\"Food\",\"Food\",\"Food\",\"Food\",\"Food\",\"Food\",\"Food\",\"Food\",\"Footwear & Shoes\",\"Footwear & Shoes\",\"Footwear & Shoes\",\"Footwear & Shoes\",\"Footwear & Shoes\",\"Footwear & Shoes\",\"Footwear & Shoes\",\"Footwear & Shoes\",\"Footwear & Shoes\",\"Footwear & Shoes\",\"Footwear & Shoes\",\"Footwear & Shoes\",\"Footwear & Shoes\",\"Footwear & Shoes\",\"Footwear & Shoes\",\"Footwear & Shoes\",\"Furniture\",\"Furniture\",\"Furniture\",\"Furniture\",\"Furniture\",\"Furniture\",\"Furniture\",\"Furniture\",\"Furniture\",\"Furniture\",\"Furniture\",\"Furniture\",\"Furniture\",\"Furniture\",\"Furniture\",\"Games & Toys\",\"Games & Toys\",\"Games & Toys\",\"Games & Toys\",\"Games & Toys\",\"Games & Toys\",\"Games & Toys\",\"Games & Toys\",\"Games & Toys\",\"Games & Toys\",\"Games & Toys\",\"Games & Toys\",\"Games & Toys\",\"Games & Toys\",\"Games & Toys\",\"Hand & Power Tools\",\"Hand & Power Tools\",\"Hand & Power Tools\",\"Hand & Power Tools\",\"Hand & Power Tools\",\"Hand & Power Tools\",\"Hand & Power Tools\",\"Hand & Power Tools\",\"Household items\",\"Household items\",\"Household items\",\"Household items\",\"Household items\",\"Household items\",\"Household items\",\"Household items\",\"Household items\",\"Household items\",\"Household items\",\"Household items\",\"Household items\",\"Household items\",\"Household items\",\"Household items\",\"Office\",\"Office\",\"Office\",\"Office\",\"Office\",\"Office\",\"Office\",\"Office\",\"Office\",\"Office\",\"Office\",\"Office\",\"Office\",\"Office\",\"Office\",\"Pet Care\",\"Pet Care\",\"Pet Care\",\"Pet Care\",\"Pet Care\",\"Pet Care\",\"Pet Care\",\"Pet Care\",\"Pet Care\",\"Pet Care\",\"Pet Care\",\"Pet Care\",\"Pet Care\",\"Pet Care\",\"Pet Care\",\"Sports Products\",\"Sports Products\",\"Sports Products\",\"Sports Products\",\"Sports Products\",\"Sports Products\",\"Sports Products\",\"Sports Products\",\"Sports Products\",\"Sports Products\",\"Sports Products\",\"Sports Products\",\"Sports Products\",\"Sports Products\",\"Sports Products\",\"Stationery\",\"Stationery\",\"Stationery\",\"Stationery\",\"Stationery\",\"Stationery\",\"Stationery\",\"Stationery\",\"Stationery\",\"Stationery\",\"Stationery\",\"Stationery\",\"Tupperware\",\"Tupperware\",\"Tupperware\",\"Tupperware\",\"Tupperware\",\"Tupperware\",\"Tupperware\",\"Tupperware\",\"Tupperware\",\"Tupperware\",\"Tupperware\",\"Tupperware\",\"Veterinary\",\"Veterinary\",\"Veterinary\",\"Veterinary\",\"Veterinary\",\"Veterinary\",\"Veterinary\",\"Veterinary\",\"Veterinary\",\"Andhra Pradesh\",\"Bihar\",\"Delhi\",\"Gujarat\",\"Haryana\",\"Himachal Pradesh\",\"Jharkhand\",\"Karnataka\",\"Kerala\",\"Madhya Pradesh\",\"Maharashtra\",\"Punjab\",\"Rajasthan\",\"Telangana\",\"Uttar Pradesh\",\"Uttarakhand\",\"Central\",\"Eastern\",\"Northern\",\"Southern\",\"Western\"],\"name\":\"\",\"parents\":[\"Southern\\u002fAndhra Pradesh\",\"Eastern\\u002fBihar\",\"Central\\u002fDelhi\",\"Western\\u002fGujarat\",\"Northern\\u002fHimachal Pradesh\",\"Eastern\\u002fJharkhand\",\"Southern\\u002fKarnataka\",\"Southern\\u002fKerala\",\"Central\\u002fMadhya Pradesh\",\"Western\\u002fMaharashtra\",\"Northern\\u002fPunjab\",\"Central\\u002fUttar Pradesh\",\"Central\\u002fUttarakhand\",\"Southern\\u002fAndhra Pradesh\",\"Eastern\\u002fBihar\",\"Central\\u002fDelhi\",\"Western\\u002fGujarat\",\"Northern\\u002fHaryana\",\"Northern\\u002fHimachal Pradesh\",\"Eastern\\u002fJharkhand\",\"Southern\\u002fKarnataka\",\"Southern\\u002fKerala\",\"Central\\u002fMadhya Pradesh\",\"Western\\u002fMaharashtra\",\"Northern\\u002fPunjab\",\"Northern\\u002fRajasthan\",\"Central\\u002fUttar Pradesh\",\"Central\\u002fUttarakhand\",\"Southern\\u002fAndhra Pradesh\",\"Eastern\\u002fBihar\",\"Central\\u002fDelhi\",\"Western\\u002fGujarat\",\"Northern\\u002fHaryana\",\"Northern\\u002fHimachal Pradesh\",\"Eastern\\u002fJharkhand\",\"Southern\\u002fKarnataka\",\"Southern\\u002fKerala\",\"Central\\u002fMadhya Pradesh\",\"Western\\u002fMaharashtra\",\"Northern\\u002fPunjab\",\"Northern\\u002fRajasthan\",\"Central\\u002fUttar Pradesh\",\"Central\\u002fUttarakhand\",\"Southern\\u002fAndhra Pradesh\",\"Eastern\\u002fBihar\",\"Central\\u002fDelhi\",\"Western\\u002fGujarat\",\"Northern\\u002fHaryana\",\"Northern\\u002fHimachal Pradesh\",\"Eastern\\u002fJharkhand\",\"Southern\\u002fKarnataka\",\"Southern\\u002fKerala\",\"Central\\u002fMadhya Pradesh\",\"Western\\u002fMaharashtra\",\"Northern\\u002fPunjab\",\"Northern\\u002fRajasthan\",\"Southern\\u002fTelangana\",\"Central\\u002fUttar Pradesh\",\"Central\\u002fUttarakhand\",\"Western\\u002fMaharashtra\",\"Central\\u002fUttar Pradesh\",\"Southern\\u002fAndhra Pradesh\",\"Eastern\\u002fBihar\",\"Central\\u002fDelhi\",\"Western\\u002fGujarat\",\"Northern\\u002fHaryana\",\"Northern\\u002fHimachal Pradesh\",\"Eastern\\u002fJharkhand\",\"Southern\\u002fKarnataka\",\"Southern\\u002fKerala\",\"Central\\u002fMadhya Pradesh\",\"Western\\u002fMaharashtra\",\"Northern\\u002fPunjab\",\"Northern\\u002fRajasthan\",\"Southern\\u002fTelangana\",\"Central\\u002fUttar Pradesh\",\"Central\\u002fUttarakhand\",\"Southern\\u002fAndhra Pradesh\",\"Eastern\\u002fBihar\",\"Central\\u002fDelhi\",\"Western\\u002fGujarat\",\"Northern\\u002fHaryana\",\"Northern\\u002fHimachal Pradesh\",\"Eastern\\u002fJharkhand\",\"Southern\\u002fKarnataka\",\"Southern\\u002fKerala\",\"Central\\u002fMadhya Pradesh\",\"Western\\u002fMaharashtra\",\"Northern\\u002fPunjab\",\"Northern\\u002fRajasthan\",\"Southern\\u002fTelangana\",\"Central\\u002fUttar Pradesh\",\"Central\\u002fUttarakhand\",\"Southern\\u002fAndhra Pradesh\",\"Eastern\\u002fBihar\",\"Central\\u002fDelhi\",\"Western\\u002fGujarat\",\"Northern\\u002fHaryana\",\"Northern\\u002fHimachal Pradesh\",\"Eastern\\u002fJharkhand\",\"Southern\\u002fKarnataka\",\"Southern\\u002fKerala\",\"Central\\u002fMadhya Pradesh\",\"Western\\u002fMaharashtra\",\"Northern\\u002fPunjab\",\"Northern\\u002fRajasthan\",\"Southern\\u002fTelangana\",\"Central\\u002fUttar Pradesh\",\"Central\\u002fUttarakhand\",\"Southern\\u002fAndhra Pradesh\",\"Eastern\\u002fBihar\",\"Central\\u002fDelhi\",\"Western\\u002fGujarat\",\"Northern\\u002fHaryana\",\"Northern\\u002fHimachal Pradesh\",\"Eastern\\u002fJharkhand\",\"Southern\\u002fKarnataka\",\"Southern\\u002fKerala\",\"Central\\u002fMadhya Pradesh\",\"Western\\u002fMaharashtra\",\"Northern\\u002fPunjab\",\"Northern\\u002fRajasthan\",\"Central\\u002fUttar Pradesh\",\"Central\\u002fUttarakhand\",\"Southern\\u002fAndhra Pradesh\",\"Eastern\\u002fBihar\",\"Central\\u002fDelhi\",\"Western\\u002fGujarat\",\"Northern\\u002fHaryana\",\"Northern\\u002fHimachal Pradesh\",\"Eastern\\u002fJharkhand\",\"Southern\\u002fKarnataka\",\"Southern\\u002fKerala\",\"Central\\u002fMadhya Pradesh\",\"Western\\u002fMaharashtra\",\"Northern\\u002fRajasthan\",\"Southern\\u002fTelangana\",\"Central\\u002fUttar Pradesh\",\"Central\\u002fUttarakhand\",\"Southern\\u002fAndhra Pradesh\",\"Central\\u002fDelhi\",\"Northern\\u002fHimachal Pradesh\",\"Central\\u002fMadhya Pradesh\",\"Western\\u002fMaharashtra\",\"Northern\\u002fPunjab\",\"Southern\\u002fTelangana\",\"Central\\u002fUttar Pradesh\",\"Southern\\u002fAndhra Pradesh\",\"Eastern\\u002fBihar\",\"Central\\u002fDelhi\",\"Western\\u002fGujarat\",\"Northern\\u002fHaryana\",\"Northern\\u002fHimachal Pradesh\",\"Eastern\\u002fJharkhand\",\"Southern\\u002fKarnataka\",\"Southern\\u002fKerala\",\"Central\\u002fMadhya Pradesh\",\"Western\\u002fMaharashtra\",\"Northern\\u002fPunjab\",\"Northern\\u002fRajasthan\",\"Southern\\u002fTelangana\",\"Central\\u002fUttar Pradesh\",\"Central\\u002fUttarakhand\",\"Southern\\u002fAndhra Pradesh\",\"Eastern\\u002fBihar\",\"Central\\u002fDelhi\",\"Western\\u002fGujarat\",\"Northern\\u002fHaryana\",\"Northern\\u002fHimachal Pradesh\",\"Eastern\\u002fJharkhand\",\"Southern\\u002fKarnataka\",\"Southern\\u002fKerala\",\"Central\\u002fMadhya Pradesh\",\"Western\\u002fMaharashtra\",\"Northern\\u002fPunjab\",\"Southern\\u002fTelangana\",\"Central\\u002fUttar Pradesh\",\"Central\\u002fUttarakhand\",\"Southern\\u002fAndhra Pradesh\",\"Eastern\\u002fBihar\",\"Central\\u002fDelhi\",\"Western\\u002fGujarat\",\"Northern\\u002fHaryana\",\"Northern\\u002fHimachal Pradesh\",\"Eastern\\u002fJharkhand\",\"Southern\\u002fKarnataka\",\"Central\\u002fMadhya Pradesh\",\"Western\\u002fMaharashtra\",\"Northern\\u002fPunjab\",\"Northern\\u002fRajasthan\",\"Southern\\u002fTelangana\",\"Central\\u002fUttar Pradesh\",\"Central\\u002fUttarakhand\",\"Southern\\u002fAndhra Pradesh\",\"Eastern\\u002fBihar\",\"Central\\u002fDelhi\",\"Western\\u002fGujarat\",\"Northern\\u002fHaryana\",\"Northern\\u002fHimachal Pradesh\",\"Eastern\\u002fJharkhand\",\"Southern\\u002fKarnataka\",\"Southern\\u002fKerala\",\"Central\\u002fMadhya Pradesh\",\"Western\\u002fMaharashtra\",\"Northern\\u002fRajasthan\",\"Southern\\u002fTelangana\",\"Central\\u002fUttar Pradesh\",\"Central\\u002fUttarakhand\",\"Southern\\u002fAndhra Pradesh\",\"Eastern\\u002fBihar\",\"Central\\u002fDelhi\",\"Western\\u002fGujarat\",\"Northern\\u002fHaryana\",\"Northern\\u002fHimachal Pradesh\",\"Southern\\u002fKarnataka\",\"Southern\\u002fKerala\",\"Central\\u002fMadhya Pradesh\",\"Western\\u002fMaharashtra\",\"Central\\u002fUttar Pradesh\",\"Central\\u002fUttarakhand\",\"Southern\\u002fAndhra Pradesh\",\"Eastern\\u002fBihar\",\"Central\\u002fDelhi\",\"Western\\u002fGujarat\",\"Northern\\u002fHaryana\",\"Northern\\u002fHimachal Pradesh\",\"Southern\\u002fKarnataka\",\"Southern\\u002fKerala\",\"Central\\u002fMadhya Pradesh\",\"Western\\u002fMaharashtra\",\"Central\\u002fUttar Pradesh\",\"Central\\u002fUttarakhand\",\"Central\\u002fDelhi\",\"Northern\\u002fHaryana\",\"Eastern\\u002fJharkhand\",\"Southern\\u002fKerala\",\"Central\\u002fMadhya Pradesh\",\"Western\\u002fMaharashtra\",\"Northern\\u002fPunjab\",\"Northern\\u002fRajasthan\",\"Central\\u002fUttar Pradesh\",\"Southern\",\"Eastern\",\"Central\",\"Western\",\"Northern\",\"Northern\",\"Eastern\",\"Southern\",\"Southern\",\"Central\",\"Western\",\"Northern\",\"Northern\",\"Southern\",\"Central\",\"Central\",\"\",\"\",\"\",\"\",\"\"],\"values\":[57,1,3,1,3,3,3,2,3,6,1,13,1,40,2,46,3,4,3,1,15,7,208,37,2,1,52,1,4,1,7,5,1,9,1,39,4,4,8,1,2,16,1,159,140,129,113,123,240,148,220,182,138,327,37,35,17,490,157,28,68,277,95,95,106,105,167,124,71,110,130,191,126,134,59,224,73,154,113,194,102,120,53,53,302,48,209,480,17,23,38,567,17,20,10,335,10,9,14,9,338,10,84,55,3,4,3,146,9,17,14,3,18,15,23,6,23,42,32,49,1,12,73,24,25,13,19,19,17,38,16,55,5,19,72,5,2,76,5,6,10,1,1,2,2,1,3,11,11,82,5,7,8,4,137,23,19,121,7,9,1,65,10,2,3,62,2,2,2,2,5,3,8,11,1,1,8,1,10,10,7,9,13,20,6,34,9,28,1,3,1,46,15,25,17,11,24,25,23,4,54,2,22,77,1,2,66,3,1,1,74,1,2,3,3,1,2,15,8,1,3,3,3,9,5,1,5,13,3,13,12,2,24,4,3,1,30,5,1,2,11,811,434,1104,427,452,608,380,1304,453,921,1525,200,231,125,1944,320,4289,814,1491,2693,1952],\"type\":\"treemap\"}],                        {\"template\":{\"data\":{\"histogram2dcontour\":[{\"type\":\"histogram2dcontour\",\"colorbar\":{\"outlinewidth\":0,\"ticks\":\"\"},\"colorscale\":[[0.0,\"#0d0887\"],[0.1111111111111111,\"#46039f\"],[0.2222222222222222,\"#7201a8\"],[0.3333333333333333,\"#9c179e\"],[0.4444444444444444,\"#bd3786\"],[0.5555555555555556,\"#d8576b\"],[0.6666666666666666,\"#ed7953\"],[0.7777777777777778,\"#fb9f3a\"],[0.8888888888888888,\"#fdca26\"],[1.0,\"#f0f921\"]]}],\"choropleth\":[{\"type\":\"choropleth\",\"colorbar\":{\"outlinewidth\":0,\"ticks\":\"\"}}],\"histogram2d\":[{\"type\":\"histogram2d\",\"colorbar\":{\"outlinewidth\":0,\"ticks\":\"\"},\"colorscale\":[[0.0,\"#0d0887\"],[0.1111111111111111,\"#46039f\"],[0.2222222222222222,\"#7201a8\"],[0.3333333333333333,\"#9c179e\"],[0.4444444444444444,\"#bd3786\"],[0.5555555555555556,\"#d8576b\"],[0.6666666666666666,\"#ed7953\"],[0.7777777777777778,\"#fb9f3a\"],[0.8888888888888888,\"#fdca26\"],[1.0,\"#f0f921\"]]}],\"heatmap\":[{\"type\":\"heatmap\",\"colorbar\":{\"outlinewidth\":0,\"ticks\":\"\"},\"colorscale\":[[0.0,\"#0d0887\"],[0.1111111111111111,\"#46039f\"],[0.2222222222222222,\"#7201a8\"],[0.3333333333333333,\"#9c179e\"],[0.4444444444444444,\"#bd3786\"],[0.5555555555555556,\"#d8576b\"],[0.6666666666666666,\"#ed7953\"],[0.7777777777777778,\"#fb9f3a\"],[0.8888888888888888,\"#fdca26\"],[1.0,\"#f0f921\"]]}],\"heatmapgl\":[{\"type\":\"heatmapgl\",\"colorbar\":{\"outlinewidth\":0,\"ticks\":\"\"},\"colorscale\":[[0.0,\"#0d0887\"],[0.1111111111111111,\"#46039f\"],[0.2222222222222222,\"#7201a8\"],[0.3333333333333333,\"#9c179e\"],[0.4444444444444444,\"#bd3786\"],[0.5555555555555556,\"#d8576b\"],[0.6666666666666666,\"#ed7953\"],[0.7777777777777778,\"#fb9f3a\"],[0.8888888888888888,\"#fdca26\"],[1.0,\"#f0f921\"]]}],\"contourcarpet\":[{\"type\":\"contourcarpet\",\"colorbar\":{\"outlinewidth\":0,\"ticks\":\"\"}}],\"contour\":[{\"type\":\"contour\",\"colorbar\":{\"outlinewidth\":0,\"ticks\":\"\"},\"colorscale\":[[0.0,\"#0d0887\"],[0.1111111111111111,\"#46039f\"],[0.2222222222222222,\"#7201a8\"],[0.3333333333333333,\"#9c179e\"],[0.4444444444444444,\"#bd3786\"],[0.5555555555555556,\"#d8576b\"],[0.6666666666666666,\"#ed7953\"],[0.7777777777777778,\"#fb9f3a\"],[0.8888888888888888,\"#fdca26\"],[1.0,\"#f0f921\"]]}],\"surface\":[{\"type\":\"surface\",\"colorbar\":{\"outlinewidth\":0,\"ticks\":\"\"},\"colorscale\":[[0.0,\"#0d0887\"],[0.1111111111111111,\"#46039f\"],[0.2222222222222222,\"#7201a8\"],[0.3333333333333333,\"#9c179e\"],[0.4444444444444444,\"#bd3786\"],[0.5555555555555556,\"#d8576b\"],[0.6666666666666666,\"#ed7953\"],[0.7777777777777778,\"#fb9f3a\"],[0.8888888888888888,\"#fdca26\"],[1.0,\"#f0f921\"]]}],\"mesh3d\":[{\"type\":\"mesh3d\",\"colorbar\":{\"outlinewidth\":0,\"ticks\":\"\"}}],\"scatter\":[{\"fillpattern\":{\"fillmode\":\"overlay\",\"size\":10,\"solidity\":0.2},\"type\":\"scatter\"}],\"parcoords\":[{\"type\":\"parcoords\",\"line\":{\"colorbar\":{\"outlinewidth\":0,\"ticks\":\"\"}}}],\"scatterpolargl\":[{\"type\":\"scatterpolargl\",\"marker\":{\"colorbar\":{\"outlinewidth\":0,\"ticks\":\"\"}}}],\"bar\":[{\"error_x\":{\"color\":\"#2a3f5f\"},\"error_y\":{\"color\":\"#2a3f5f\"},\"marker\":{\"line\":{\"color\":\"#E5ECF6\",\"width\":0.5},\"pattern\":{\"fillmode\":\"overlay\",\"size\":10,\"solidity\":0.2}},\"type\":\"bar\"}],\"scattergeo\":[{\"type\":\"scattergeo\",\"marker\":{\"colorbar\":{\"outlinewidth\":0,\"ticks\":\"\"}}}],\"scatterpolar\":[{\"type\":\"scatterpolar\",\"marker\":{\"colorbar\":{\"outlinewidth\":0,\"ticks\":\"\"}}}],\"histogram\":[{\"marker\":{\"pattern\":{\"fillmode\":\"overlay\",\"size\":10,\"solidity\":0.2}},\"type\":\"histogram\"}],\"scattergl\":[{\"type\":\"scattergl\",\"marker\":{\"colorbar\":{\"outlinewidth\":0,\"ticks\":\"\"}}}],\"scatter3d\":[{\"type\":\"scatter3d\",\"line\":{\"colorbar\":{\"outlinewidth\":0,\"ticks\":\"\"}},\"marker\":{\"colorbar\":{\"outlinewidth\":0,\"ticks\":\"\"}}}],\"scattermapbox\":[{\"type\":\"scattermapbox\",\"marker\":{\"colorbar\":{\"outlinewidth\":0,\"ticks\":\"\"}}}],\"scatterternary\":[{\"type\":\"scatterternary\",\"marker\":{\"colorbar\":{\"outlinewidth\":0,\"ticks\":\"\"}}}],\"scattercarpet\":[{\"type\":\"scattercarpet\",\"marker\":{\"colorbar\":{\"outlinewidth\":0,\"ticks\":\"\"}}}],\"carpet\":[{\"aaxis\":{\"endlinecolor\":\"#2a3f5f\",\"gridcolor\":\"white\",\"linecolor\":\"white\",\"minorgridcolor\":\"white\",\"startlinecolor\":\"#2a3f5f\"},\"baxis\":{\"endlinecolor\":\"#2a3f5f\",\"gridcolor\":\"white\",\"linecolor\":\"white\",\"minorgridcolor\":\"white\",\"startlinecolor\":\"#2a3f5f\"},\"type\":\"carpet\"}],\"table\":[{\"cells\":{\"fill\":{\"color\":\"#EBF0F8\"},\"line\":{\"color\":\"white\"}},\"header\":{\"fill\":{\"color\":\"#C8D4E3\"},\"line\":{\"color\":\"white\"}},\"type\":\"table\"}],\"barpolar\":[{\"marker\":{\"line\":{\"color\":\"#E5ECF6\",\"width\":0.5},\"pattern\":{\"fillmode\":\"overlay\",\"size\":10,\"solidity\":0.2}},\"type\":\"barpolar\"}],\"pie\":[{\"automargin\":true,\"type\":\"pie\"}]},\"layout\":{\"autotypenumbers\":\"strict\",\"colorway\":[\"#636efa\",\"#EF553B\",\"#00cc96\",\"#ab63fa\",\"#FFA15A\",\"#19d3f3\",\"#FF6692\",\"#B6E880\",\"#FF97FF\",\"#FECB52\"],\"font\":{\"color\":\"#2a3f5f\"},\"hovermode\":\"closest\",\"hoverlabel\":{\"align\":\"left\"},\"paper_bgcolor\":\"white\",\"plot_bgcolor\":\"#E5ECF6\",\"polar\":{\"bgcolor\":\"#E5ECF6\",\"angularaxis\":{\"gridcolor\":\"white\",\"linecolor\":\"white\",\"ticks\":\"\"},\"radialaxis\":{\"gridcolor\":\"white\",\"linecolor\":\"white\",\"ticks\":\"\"}},\"ternary\":{\"bgcolor\":\"#E5ECF6\",\"aaxis\":{\"gridcolor\":\"white\",\"linecolor\":\"white\",\"ticks\":\"\"},\"baxis\":{\"gridcolor\":\"white\",\"linecolor\":\"white\",\"ticks\":\"\"},\"caxis\":{\"gridcolor\":\"white\",\"linecolor\":\"white\",\"ticks\":\"\"}},\"coloraxis\":{\"colorbar\":{\"outlinewidth\":0,\"ticks\":\"\"}},\"colorscale\":{\"sequential\":[[0.0,\"#0d0887\"],[0.1111111111111111,\"#46039f\"],[0.2222222222222222,\"#7201a8\"],[0.3333333333333333,\"#9c179e\"],[0.4444444444444444,\"#bd3786\"],[0.5555555555555556,\"#d8576b\"],[0.6666666666666666,\"#ed7953\"],[0.7777777777777778,\"#fb9f3a\"],[0.8888888888888888,\"#fdca26\"],[1.0,\"#f0f921\"]],\"sequentialminus\":[[0.0,\"#0d0887\"],[0.1111111111111111,\"#46039f\"],[0.2222222222222222,\"#7201a8\"],[0.3333333333333333,\"#9c179e\"],[0.4444444444444444,\"#bd3786\"],[0.5555555555555556,\"#d8576b\"],[0.6666666666666666,\"#ed7953\"],[0.7777777777777778,\"#fb9f3a\"],[0.8888888888888888,\"#fdca26\"],[1.0,\"#f0f921\"]],\"diverging\":[[0,\"#8e0152\"],[0.1,\"#c51b7d\"],[0.2,\"#de77ae\"],[0.3,\"#f1b6da\"],[0.4,\"#fde0ef\"],[0.5,\"#f7f7f7\"],[0.6,\"#e6f5d0\"],[0.7,\"#b8e186\"],[0.8,\"#7fbc41\"],[0.9,\"#4d9221\"],[1,\"#276419\"]]},\"xaxis\":{\"gridcolor\":\"white\",\"linecolor\":\"white\",\"ticks\":\"\",\"title\":{\"standoff\":15},\"zerolinecolor\":\"white\",\"automargin\":true,\"zerolinewidth\":2},\"yaxis\":{\"gridcolor\":\"white\",\"linecolor\":\"white\",\"ticks\":\"\",\"title\":{\"standoff\":15},\"zerolinecolor\":\"white\",\"automargin\":true,\"zerolinewidth\":2},\"scene\":{\"xaxis\":{\"backgroundcolor\":\"#E5ECF6\",\"gridcolor\":\"white\",\"linecolor\":\"white\",\"showbackground\":true,\"ticks\":\"\",\"zerolinecolor\":\"white\",\"gridwidth\":2},\"yaxis\":{\"backgroundcolor\":\"#E5ECF6\",\"gridcolor\":\"white\",\"linecolor\":\"white\",\"showbackground\":true,\"ticks\":\"\",\"zerolinecolor\":\"white\",\"gridwidth\":2},\"zaxis\":{\"backgroundcolor\":\"#E5ECF6\",\"gridcolor\":\"white\",\"linecolor\":\"white\",\"showbackground\":true,\"ticks\":\"\",\"zerolinecolor\":\"white\",\"gridwidth\":2}},\"shapedefaults\":{\"line\":{\"color\":\"#2a3f5f\"}},\"annotationdefaults\":{\"arrowcolor\":\"#2a3f5f\",\"arrowhead\":0,\"arrowwidth\":1},\"geo\":{\"bgcolor\":\"white\",\"landcolor\":\"#E5ECF6\",\"subunitcolor\":\"white\",\"showland\":true,\"showlakes\":true,\"lakecolor\":\"white\"},\"title\":{\"x\":0.05},\"mapbox\":{\"style\":\"light\"}}},\"legend\":{\"tracegroupgap\":0},\"margin\":{\"t\":60},\"title\":{\"text\":\"Distribution of number of orders based on product category, state, and zone\"},\"height\":800,\"width\":800},                        {\"responsive\": true}                    ).then(function(){\n",
       "                            \n",
       "var gd = document.getElementById('39bf8623-442c-4460-a181-4180523e8c48');\n",
       "var x = new MutationObserver(function (mutations, observer) {{\n",
       "        var display = window.getComputedStyle(gd).display;\n",
       "        if (!display || display === 'none') {{\n",
       "            console.log([gd, 'removed!']);\n",
       "            Plotly.purge(gd);\n",
       "            observer.disconnect();\n",
       "        }}\n",
       "}});\n",
       "\n",
       "// Listen for the removal of the full notebook cells\n",
       "var notebookContainer = gd.closest('#notebook-container');\n",
       "if (notebookContainer) {{\n",
       "    x.observe(notebookContainer, {childList: true});\n",
       "}}\n",
       "\n",
       "// Listen for the clearing of the current output cell\n",
       "var outputEl = gd.closest('.output');\n",
       "if (outputEl) {{\n",
       "    x.observe(outputEl, {childList: true});\n",
       "}}\n",
       "\n",
       "                        })                };                });            </script>        </div>"
      ]
     },
     "metadata": {},
     "output_type": "display_data"
    }
   ],
   "source": [
    "zone_state_category = df.groupby(['zone', 'state', 'product_category']).size().reset_index(name='counts')\n",
    "\n",
    "fig = px.treemap(zone_state_category, \n",
    "                 path=['zone', 'state', 'product_category'], \n",
    "                 values='counts')\n",
    "\n",
    "fig.update_layout(title = \"Distribution of number of orders based on product category, state, and zone\", \n",
    "                  height = 800, \n",
    "                  width = 800)\n",
    "\n",
    "fig.show()"
   ]
  },
  {
   "cell_type": "markdown",
   "id": "b3b0c35f",
   "metadata": {
    "papermill": {
     "duration": 0.057957,
     "end_time": "2023-10-31T05:07:59.841002",
     "exception": false,
     "start_time": "2023-10-31T05:07:59.783045",
     "status": "completed"
    },
    "tags": []
   },
   "source": [
    "- Based on the total amount spent by customers on various products, the top 10 products that generate the most revenue have the following product IDs: P00265242 (Rs 2.38 lakhs), P00058042 (Rs 1.55 lakhs), P00251242 (Rs 1.37 lakhs), P00184942 (Rs 1.37 lakhs), P00237542 (Rs 1.37 lakhs), P00073842 (Rs 1.36 lakhs), P00110942 (Rs 1.33 lakhs), P00112142 (Rs 1.32 lakhs), P00216342 (Rs 1.31 lakhs), P00110742 (Rs 1.28 lakhs). Interestingly, all of these products belong in the food category. P00265242 is the top-performing product, as it not only receives the highest number of orders but also generates the most revenue for the company.\n",
    "- Based on the total amount spent by customers on products from various categories, food (Rs 3.39 crores) generates the most revenue followed by clothing & apparel (Rs 1.65 crores), electronics & gadgets (Rs 1.56 crores), and footwear & shoes (Rs 1.56 crores). It is noteworthy that despite receiving the highest number of orders, clothing & apparel is in second position. Office is the category that generates the least revenue (Rs 81.93k).\n",
    "- Female customers have not only outnumbered male customers, but they have also collectively spent significantly more (Rs 7.43 crores) than their male counterparts (Rs 3.19 crores). Also, female customers have a higher average spending per person (Rs 9491.29) compared to male customers (Rs 9366.97).\n",
    "- Based on age and gender, the highest number of orders have been placed by female customers in the 26-35 age group (3269). Additionally, this same group of female customers, aged 26-35, have collectively spent the most (Rs 3.09 crores). Moreover, the top 5 product categories for this group based on the number of orders include clothing & apparel (746), food (725), electronics and gadgets (597), footwear & shoes (353), and household items (167).\n",
    "- Customers who are not married (Rs 6.21 crores) have collectively spent more than customers who are married (Rs 4.41 crores). Furthermore, unmarried women (Rs 4.37 crores) have collectively spent much more than unmarried men (Rs 1.83 crores). Additionally, female customers who are not married exhibit a higher average spending per person (Rs 9575.03) in comparison to female customers who are married (Rs 9373.79).\n",
    "- The total amount spent based on customer occupation aligns with the distribution of the number of orders based on occupation, showing a similar trend: customers working in the IT sector have collectively spent the most (Rs 1.47 crores) followed by healthcare (Rs 1.3 crores), aviation (Rs 1.26 crores), and banking (Rs 1.07 crores). In contrast, when examining the average amount spent per customer for various occupations, government employees rank the highest (Rs 9973.31), followed by those in the media industry (Rs 9883.56), the chemical sector (Rs 9791.93), and the food processing industry (Rs 9623.33).\n",
    "- For most of the occupations, the most popular product category is clothing & apparel. Food is the most popular category for government employees, those in the media industry, chemical sector, aviation sector, and lawyers. Customers in the food processing industry exhibit a unique preference by favoring electronics & gadgets as their most popular category.\n",
    "- Based on the total amount spent on orders from various states, orders from Uttar pradesh have generated the most revenue (Rs 1.94 crores). Even though Maharashtra and Gujarat lie in the same geographical zone, the number of orders placed and the collective amount spent by customers from Maharashtra (1525, Rs 1.44 crores) is much more than that of customers from Gujarat (427, Rs 39.4 lakhs).\n",
    "- Customers from Delhi exhibit the highest average spending per person (Rs 10510.70) followed by Karnataka (Rs 10370.81), Uttar Pradesh (Rs 9966.54), and Andhra Pradesh (Rs 9910.16). Clothing & apparel is the most popular product category across various states and geographical zones."
   ]
  },
  {
   "cell_type": "markdown",
   "id": "2e4e8a03",
   "metadata": {
    "papermill": {
     "duration": 0.058357,
     "end_time": "2023-10-31T05:07:59.957394",
     "exception": false,
     "start_time": "2023-10-31T05:07:59.899037",
     "status": "completed"
    },
    "tags": []
   },
   "source": [
    "## Conclusion"
   ]
  },
  {
   "cell_type": "markdown",
   "id": "aceaff47",
   "metadata": {
    "papermill": {
     "duration": 0.05971,
     "end_time": "2023-10-31T05:08:00.075069",
     "exception": false,
     "start_time": "2023-10-31T05:08:00.015359",
     "status": "completed"
    },
    "tags": []
   },
   "source": [
    "- Preliminary data analysis, data preparation, data cleaning, univariate analysis, and multivariate analysis have been conducted. \n",
    "- Data visualization was performed using various plots. \n",
    "- Key insights have been summarized at the end of each section."
   ]
  }
 ],
 "metadata": {
  "kernelspec": {
   "display_name": "Python 3",
   "language": "python",
   "name": "python3"
  },
  "language_info": {
   "codemirror_mode": {
    "name": "ipython",
    "version": 3
   },
   "file_extension": ".py",
   "mimetype": "text/x-python",
   "name": "python",
   "nbconvert_exporter": "python",
   "pygments_lexer": "ipython3",
   "version": "3.10.12"
  },
  "papermill": {
   "default_parameters": {},
   "duration": 29.966076,
   "end_time": "2023-10-31T05:08:00.958514",
   "environment_variables": {},
   "exception": null,
   "input_path": "__notebook__.ipynb",
   "output_path": "__notebook__.ipynb",
   "parameters": {},
   "start_time": "2023-10-31T05:07:30.992438",
   "version": "2.4.0"
  }
 },
 "nbformat": 4,
 "nbformat_minor": 5
}
